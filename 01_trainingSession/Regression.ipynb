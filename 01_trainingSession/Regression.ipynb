{
 "cells": [
  {
   "cell_type": "markdown",
   "metadata": {},
   "source": [
    "# libraries"
   ]
  },
  {
   "cell_type": "code",
   "execution_count": null,
   "metadata": {},
   "outputs": [],
   "source": [
    "import pandas as pd\n",
    "import numpy as np\n",
    "import matplotlib.pyplot as plt\n",
    "import seaborn as sns\n",
    "from sklearn.linear_model import LogisticRegression\n",
    "from sklearn import datasets\n",
    "from sklearn.model_selection import train_test_split\n",
    "from sklearn.preprocessing import StandardScaler\n",
    "from sklearn.metrics import accuracy_score, confusion_matrix\n"
   ]
  },
  {
   "cell_type": "code",
   "execution_count": null,
   "metadata": {},
   "outputs": [],
   "source": [
    "# Linear Regression \n",
    "\n",
    "import matplotlib.pyplot as plt\n",
    "import numpy as np\n",
    "from sklearn import datasets, linear_model\n",
    "from sklearn.metrics import mean_squared_error, r2_score\n",
    "\n",
    "# Load the diabetes dataset\n",
    "diabetes_X, diabetes_y = datasets.load_diabetes(return_X_y=True)\n",
    "\n",
    "# Use only one feature\n",
    "diabetes_X = diabetes_X[:, np.newaxis, 2]\n",
    "\n",
    "# Split the data into training/testing sets\n",
    "diabetes_X_train = diabetes_X[:-20]\n",
    "diabetes_X_test = diabetes_X[-20:]\n",
    "\n",
    "# Split the targets into training/testing sets\n",
    "diabetes_y_train = diabetes_y[:-20]\n",
    "diabetes_y_test = diabetes_y[-20:]\n",
    "\n",
    "# Create linear regression object\n",
    "regr = linear_model.LinearRegression()\n",
    "\n",
    "# Train the model using the training sets\n",
    "regr.fit(diabetes_X_train, diabetes_y_train)\n",
    "\n",
    "# Make predictions using the testing set\n",
    "diabetes_y_pred = regr.predict(diabetes_X_test)\n",
    "\n",
    "# The coefficients\n",
    "print('Coefficients: \\n', regr.coef_)\n",
    "# The mean squared error\n",
    "print('Mean squared error: %.2f'\n",
    "      % mean_squared_error(diabetes_y_test, diabetes_y_pred))\n",
    "# The coefficient of determination: 1 is perfect prediction\n",
    "print('Coefficient of determination: %.2f'\n",
    "      % r2_score(diabetes_y_test, diabetes_y_pred))\n",
    "\n",
    "# Plot outputs\n",
    "plt.scatter(diabetes_X_test, diabetes_y_test,  color='black')\n",
    "plt.plot(diabetes_X_test, diabetes_y_pred, color='blue', linewidth=3)\n",
    "\n",
    "plt.xticks(())\n",
    "plt.yticks(())\n",
    "\n",
    "plt.show()"
   ]
  },
  {
   "cell_type": "markdown",
   "metadata": {},
   "source": [
    "# Classification"
   ]
  },
  {
   "cell_type": "code",
   "execution_count": null,
   "metadata": {
    "scrolled": true
   },
   "outputs": [],
   "source": [
    "dataset = pd.read_csv('data/iris.data', names   =['SepalLengthCm', 'SepalWidthCm', 'PetalLengthCm', 'PetalWidthCm','Species'])\n",
    "dataset.head()"
   ]
  },
  {
   "cell_type": "code",
   "execution_count": null,
   "metadata": {},
   "outputs": [],
   "source": [
    "#findout no of rows for each Species.\n",
    "print(dataset.groupby('Species').size())"
   ]
  },
  {
   "cell_type": "code",
   "execution_count": null,
   "metadata": {},
   "outputs": [],
   "source": [
    "#findout no of rows for each Species.\n",
    "print(dataset.groupby('Species').size())"
   ]
  },
  {
   "cell_type": "code",
   "execution_count": null,
   "metadata": {},
   "outputs": [],
   "source": [
    "#Create 3 DataFrame for each Species\n",
    "setosa=dataset[dataset['Species']=='Iris-setosa']\n",
    "versicolor =dataset[dataset['Species']=='Iris-versicolor']\n",
    "virginica =dataset[dataset['Species']=='Iris-virginica']\n",
    "\n",
    "print(setosa.describe())\n",
    "print(versicolor.describe())\n",
    "print(virginica.describe())"
   ]
  },
  {
   "cell_type": "code",
   "execution_count": null,
   "metadata": {},
   "outputs": [],
   "source": [
    "print(dataset.describe())"
   ]
  },
  {
   "cell_type": "code",
   "execution_count": null,
   "metadata": {},
   "outputs": [],
   "source": [
    "plt.figure()\n",
    "fig,ax=plt.subplots(1,2,figsize=(17, 9))\n",
    "dataset.plot(x=\"SepalLengthCm\",y=\"SepalWidthCm\",kind=\"scatter\",ax=ax[0],sharex=False,sharey=False,label=\"sepal\",color='r')\n",
    "dataset.plot(x=\"PetalLengthCm\",y=\"PetalWidthCm\",kind=\"scatter\",ax=ax[1],sharex=False,sharey=False,label=\"petal\",color='b')\n",
    "ax[0].set(title='Sepal comparasion ', ylabel='sepal-width')\n",
    "ax[1].set(title='Petal Comparasion',  ylabel='petal-width')\n",
    "ax[0].legend()\n",
    "ax[1].legend()"
   ]
  },
  {
   "cell_type": "code",
   "execution_count": null,
   "metadata": {},
   "outputs": [],
   "source": [
    "#for each Species ,let's check what is petal and sepal distibutuon\n",
    "plt.figure()\n",
    "fig,ax=plt.subplots(1,2,figsize=(21, 10))\n",
    "\n",
    "setosa.plot(x=\"SepalLengthCm\", y=\"SepalWidthCm\", kind=\"scatter\",ax=ax[0],label='setosa',color='r')\n",
    "versicolor.plot(x=\"SepalLengthCm\",y=\"SepalWidthCm\",kind=\"scatter\",ax=ax[0],label='versicolor',color='b')\n",
    "virginica.plot(x=\"SepalLengthCm\", y=\"SepalWidthCm\", kind=\"scatter\", ax=ax[0], label='virginica', color='g')\n",
    "\n",
    "setosa.plot(x=\"PetalLengthCm\", y=\"PetalWidthCm\", kind=\"scatter\",ax=ax[1],label='setosa',color='r')\n",
    "versicolor.plot(x=\"PetalLengthCm\",y=\"PetalWidthCm\",kind=\"scatter\",ax=ax[1],label='versicolor',color='b')\n",
    "virginica.plot(x=\"PetalLengthCm\", y=\"PetalWidthCm\", kind=\"scatter\", ax=ax[1], label='virginica', color='g')\n",
    "\n",
    "ax[0].set(title='Sepal comparasion ', ylabel='sepal-width')\n",
    "ax[1].set(title='Petal Comparasion',  ylabel='petal-width')\n",
    "ax[0].legend()\n",
    "ax[1].legend()"
   ]
  },
  {
   "cell_type": "code",
   "execution_count": null,
   "metadata": {},
   "outputs": [],
   "source": [
    "plt.figure()\n",
    "\n",
    "fig,ax=plt.subplots(4,3,figsize=(17, 8))\n",
    "setosa[\"SepalLengthCm\"].plot(kind=\"hist\", ax=ax[0][0],label=\"setosa\",color ='r',fontsize=10)\n",
    "versicolor[\"SepalLengthCm\"].plot(kind=\"hist\", ax=ax[0][1],label=\"versicolor\",color='b',fontsize=10)\n",
    "virginica[\"SepalLengthCm\"].plot( kind=\"hist\",ax=ax[0][2],label=\"virginica\",color='g',fontsize=10)\n",
    "\n",
    "setosa[\"SepalWidthCm\"].plot(kind=\"hist\", ax=ax[1][0],label=\"setosa\",color ='r',fontsize=10)\n",
    "versicolor[\"SepalWidthCm\"].plot(kind=\"hist\", ax=ax[1][1],label=\"versicolor\",color='b',fontsize=10)\n",
    "virginica[\"SepalWidthCm\"].plot( kind=\"hist\",ax=ax[1][2],label=\"virginica\",color='g',fontsize=10)\n",
    "\n",
    "setosa[\"PetalLengthCm\"].plot(kind=\"hist\", ax=ax[2][0],label=\"setosa\",color ='r',fontsize=10)\n",
    "versicolor[\"PetalLengthCm\"].plot(kind=\"hist\", ax=ax[2][1],label=\"versicolor\",color='b',fontsize=10)\n",
    "virginica[\"PetalLengthCm\"].plot( kind=\"hist\",ax=ax[2][2],label=\"virginica\",color='g',fontsize=10)\n",
    "\n",
    "\n",
    "setosa[\"PetalWidthCm\"].plot(kind=\"hist\", ax=ax[3][0],label=\"setosa\",color ='r',fontsize=10)\n",
    "versicolor[\"PetalWidthCm\"].plot(kind=\"hist\", ax=ax[3][1],label=\"versicolor\",color='b',fontsize=10)\n",
    "virginica[\"PetalWidthCm\"].plot( kind=\"hist\",ax=ax[3][2],label=\"virginica\",color='g',fontsize=10)\n",
    "\n",
    "plt.rcParams.update({'font.size': 10})\n",
    "plt.tight_layout()\n",
    "\n",
    "ax[0][0].set(title='SepalLengthCm')\n",
    "ax[0][1].set(title='SepalLengthCm')\n",
    "ax[0][2].set(title='SepalLengthCm')\n",
    "ax[1][0].set(title='SepalWidthCm ')\n",
    "ax[1][1].set(title='SepalWidthCm ')\n",
    "ax[1][2].set(title='SepalWidthCm ')\n",
    "ax[2][0].set(title='PetalLengthCm')\n",
    "ax[2][1].set(title='PetalLengthCm ')\n",
    "ax[2][2].set(title='PetalLengthCm')\n",
    "ax[3][0].set(title='PetalWidthCm')\n",
    "ax[3][1].set(title='PetalWidthCm')\n",
    "ax[3][2].set(title='PetalWidthCm')\n",
    "\n",
    "ax[0][0].legend()\n",
    "ax[0][1].legend()\n",
    "ax[0][2].legend()\n",
    "ax[1][0].legend()\n",
    "ax[1][1].legend()\n",
    "ax[1][2].legend()\n",
    "ax[2][0].legend()\n",
    "ax[2][1].legend()\n",
    "ax[2][2].legend()\n",
    "ax[3][0].legend()\n",
    "ax[3][1].legend()\n",
    "ax[3][2].legend()\n",
    "\n",
    "\n",
    "plt.show()\n",
    "plt.close()\n"
   ]
  },
  {
   "cell_type": "markdown",
   "metadata": {},
   "source": [
    "### Preprocessing"
   ]
  },
  {
   "cell_type": "code",
   "execution_count": null,
   "metadata": {},
   "outputs": [],
   "source": [
    "# import some data to play with\n",
    "iris = datasets.load_iris()\n",
    "X = iris.data[:, :2]  # we only take the first two features.\n",
    "Y = iris.target\n",
    "\n",
    "X"
   ]
  },
  {
   "cell_type": "markdown",
   "metadata": {},
   "source": [
    "### train test split"
   ]
  },
  {
   "cell_type": "code",
   "execution_count": null,
   "metadata": {},
   "outputs": [],
   "source": [
    "x_train, x_test, y_train, y_test = train_test_split(X,Y, test_size=0.3)"
   ]
  },
  {
   "cell_type": "code",
   "execution_count": null,
   "metadata": {},
   "outputs": [],
   "source": [
    "x_train.shape"
   ]
  },
  {
   "cell_type": "code",
   "execution_count": null,
   "metadata": {},
   "outputs": [],
   "source": [
    "x_test.shape"
   ]
  },
  {
   "cell_type": "markdown",
   "metadata": {},
   "source": [
    "### Preprocessing"
   ]
  },
  {
   "cell_type": "code",
   "execution_count": null,
   "metadata": {},
   "outputs": [],
   "source": [
    "# applyign standard scalar\n",
    "scalar = StandardScaler()\n",
    "scalar.fit(x_train)\n",
    "x_scaled_tr = scalar.transform(x_train)\n",
    "x_scaled_te = scalar.transform(x_test)"
   ]
  },
  {
   "cell_type": "markdown",
   "metadata": {},
   "source": [
    "### Logistic Regression model training"
   ]
  },
  {
   "cell_type": "code",
   "execution_count": null,
   "metadata": {},
   "outputs": [],
   "source": [
    "print(__doc__)\n",
    "\n",
    "# Code source: Gaël Varoquaux\n",
    "# Modified for documentation by Jaques Grobler\n",
    "# License: BSD 3 clause\n",
    "\n",
    "import numpy as np\n",
    "import matplotlib.pyplot as plt\n",
    "from sklearn.linear_model import LogisticRegression\n",
    "\n",
    "logreg = LogisticRegression(C=1e5)\n",
    "\n",
    "# Create an instance of Logistic Regression Classifier and fit the data.\n",
    "logreg.fit(x_scaled_tr, y_train)\n",
    "\n"
   ]
  },
  {
   "cell_type": "code",
   "execution_count": null,
   "metadata": {},
   "outputs": [],
   "source": [
    "### evaluate"
   ]
  },
  {
   "cell_type": "code",
   "execution_count": null,
   "metadata": {},
   "outputs": [],
   "source": [
    "y_hat = logreg.predict(x_scaled_te)\n",
    "accuracy_score(y_test, y_hat)\n"
   ]
  },
  {
   "cell_type": "code",
   "execution_count": null,
   "metadata": {},
   "outputs": [],
   "source": [
    "confusion_matrix(y_test, y_hat)"
   ]
  },
  {
   "cell_type": "markdown",
   "metadata": {},
   "source": [
    "### Decission tree"
   ]
  },
  {
   "cell_type": "code",
   "execution_count": null,
   "metadata": {},
   "outputs": [],
   "source": [
    "from sklearn.datasets import load_iris\n",
    "from sklearn import tree\n",
    "X, y = load_iris(return_X_y=True)\n",
    "dt_clf = tree.DecisionTreeClassifier(max_depth = 5)\n",
    "dt_clf = dt_clf.fit(x_train, y_train)"
   ]
  },
  {
   "cell_type": "markdown",
   "metadata": {},
   "source": [
    "### evaluate"
   ]
  },
  {
   "cell_type": "code",
   "execution_count": null,
   "metadata": {},
   "outputs": [],
   "source": [
    "y_hat = dt_clf.predict(x_test)"
   ]
  },
  {
   "cell_type": "code",
   "execution_count": null,
   "metadata": {},
   "outputs": [],
   "source": [
    "accuracy_score(y_test, y_hat)"
   ]
  },
  {
   "cell_type": "code",
   "execution_count": null,
   "metadata": {},
   "outputs": [],
   "source": [
    "confusion_matrix(y_test, y_hat)"
   ]
  },
  {
   "cell_type": "code",
   "execution_count": null,
   "metadata": {},
   "outputs": [],
   "source": [
    "parameters = {'max_depth':[1, 5, 10, 15]}\n",
    "dt_clf = tree.DecisionTreeClassifier()\n",
    "clf = GridSearchCV(dt_clf, parameters, scoring='accuracy', cv=10)\n",
    "clf.fit(X, Y)\n",
    "clf.cv_results_"
   ]
  },
  {
   "cell_type": "markdown",
   "metadata": {},
   "source": [
    "#### Visualize tree"
   ]
  },
  {
   "cell_type": "code",
   "execution_count": null,
   "metadata": {},
   "outputs": [],
   "source": [
    "tree.plot_tree(clf) "
   ]
  },
  {
   "cell_type": "markdown",
   "metadata": {},
   "source": [
    "### Random Forest"
   ]
  },
  {
   "cell_type": "code",
   "execution_count": null,
   "metadata": {},
   "outputs": [],
   "source": [
    "#Create a Gaussian Classifier\n",
    "clf=RandomForestClassifier(n_estimators=100)\n",
    "\n",
    "#Train the model using the training sets y_pred=clf.predict(X_test)\n",
    "clf.fit(x_train,y_train)\n",
    "\n",
    "# prediction on test set\n",
    "y_pred=clf.predict(x_test)\n",
    "\n",
    "# Model Accuracy, how often is the classifier correct?\n",
    "print(\"Accuracy:\",accuracy_score(y_test, y_pred))"
   ]
  },
  {
   "cell_type": "code",
   "execution_count": null,
   "metadata": {},
   "outputs": [],
   "source": [
    "sklearn.model_selection import GridSearchCV"
   ]
  },
  {
   "cell_type": "markdown",
   "metadata": {},
   "source": [
    "### SVM"
   ]
  },
  {
   "cell_type": "code",
   "execution_count": null,
   "metadata": {},
   "outputs": [],
   "source": [
    "from sklearn import svm, datasets\n",
    "from sklearn.model_selection import GridSearchCV\n",
    "iris = datasets.load_iris()\n",
    "parameters = {'kernel':('linear', 'rbf'), 'C':[1, 10]}\n",
    "svc = svm.SVC()\n",
    "clf = GridSearchCV(svc, parameters)\n",
    "clf.fit(X, Y)\n",
    "clf.cv_results_"
   ]
  }
 ],
 "metadata": {
  "kernelspec": {
   "display_name": "Python 3",
   "language": "python",
   "name": "python3"
  },
  "language_info": {
   "codemirror_mode": {
    "name": "ipython",
    "version": 3
   },
   "file_extension": ".py",
   "mimetype": "text/x-python",
   "name": "python",
   "nbconvert_exporter": "python",
   "pygments_lexer": "ipython3",
   "version": "3.7.5"
  }
 },
 "nbformat": 4,
 "nbformat_minor": 2
}
