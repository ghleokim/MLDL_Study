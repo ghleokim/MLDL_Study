{
 "cells": [
  {
   "cell_type": "code",
   "execution_count": 33,
   "metadata": {},
   "outputs": [],
   "source": [
    "from keras.datasets import mnist \n",
    "from keras.utils import np_utils \n",
    "from keras.models import Sequential \n",
    "from keras.layers import Dense, Activation\n",
    "from matplotlib import pyplot as plt # import pyplot alias plt for plotting \n",
    "from sklearn.metrics import confusion_matrix \n",
    "import seaborn as sn\n",
    "from keras.layers import Activation, BatchNormalization, Convolution2D, MaxPooling2D, Flatten\n",
    "import numpy as np"
   ]
  },
  {
   "cell_type": "markdown",
   "metadata": {},
   "source": [
    "# Load datatset, preprocessing"
   ]
  },
  {
   "cell_type": "code",
   "execution_count": 20,
   "metadata": {},
   "outputs": [],
   "source": [
    "# the data, shuffled and split between train and test sets \n",
    "(X_train, y_train), (X_test, y_test) = mnist.load_data()"
   ]
  },
  {
   "cell_type": "code",
   "execution_count": 21,
   "metadata": {},
   "outputs": [],
   "source": [
    "input_dim = (28,28,1) \n",
    "X_train = X_train.reshape(60000, input_dim) #28,28,1\n",
    "X_test = X_test.reshape(10000, input_dim) #28,28,1\n",
    "X_train = X_train.astype('float32') \n",
    "X_test = X_test.astype('float32') \n",
    "X_train /= 255 \n",
    "X_test /= 255"
   ]
  },
  {
   "cell_type": "code",
   "execution_count": 22,
   "metadata": {},
   "outputs": [
    {
     "name": "stdout",
     "output_type": "stream",
     "text": [
      "(60000, 28, 28, 1) (10000, 28, 28, 1) (60000, 10) (10000, 10)\n"
     ]
    }
   ],
   "source": [
    "print(X_train.shape, X_test.shape, Y_train.shape, Y_test.shape)"
   ]
  },
  {
   "cell_type": "code",
   "execution_count": 23,
   "metadata": {},
   "outputs": [],
   "source": [
    "output_dim = nb_classes = 10"
   ]
  },
  {
   "cell_type": "code",
   "execution_count": 24,
   "metadata": {},
   "outputs": [],
   "source": [
    "Y_train = np_utils.to_categorical(y_train, nb_classes) \n",
    "Y_test = np_utils.to_categorical(y_test, nb_classes)"
   ]
  },
  {
   "cell_type": "markdown",
   "metadata": {},
   "source": [
    "# CNN model in Keras\n"
   ]
  },
  {
   "cell_type": "code",
   "execution_count": 25,
   "metadata": {},
   "outputs": [
    {
     "name": "stderr",
     "output_type": "stream",
     "text": [
      "C:\\Users\\avadhut.c\\Continuum\\anaconda3\\lib\\site-packages\\ipykernel_launcher.py:3: UserWarning: Update your `Conv2D` call to the Keras 2 API: `Conv2D(8, (3, 3), activation=\"relu\", input_shape=(28, 28, 1...)`\n",
      "  This is separate from the ipykernel package so we can avoid doing imports until\n",
      "C:\\Users\\avadhut.c\\Continuum\\anaconda3\\lib\\site-packages\\ipykernel_launcher.py:6: UserWarning: Update your `Conv2D` call to the Keras 2 API: `Conv2D(16, (3, 3), activation=\"relu\")`\n",
      "  \n",
      "C:\\Users\\avadhut.c\\Continuum\\anaconda3\\lib\\site-packages\\ipykernel_launcher.py:13: UserWarning: Update your `Conv2D` call to the Keras 2 API: `Conv2D(32, (3, 3), activation=\"relu\")`\n",
      "  del sys.path[0]\n"
     ]
    }
   ],
   "source": [
    "model = Sequential() # Sequential model\n",
    " \n",
    "model.add(Convolution2D(8, 3, 3, activation='relu', input_shape=(28,28,1))) \n",
    "model.add(BatchNormalization())\n",
    "\n",
    "model.add(Convolution2D(16, 3, 3, activation='relu')) \n",
    "model.add(BatchNormalization())\n",
    "\n",
    "model.add(MaxPooling2D(pool_size = (2, 2))) \n",
    "\n",
    "model.add(Convolution2D(10, 1, activation='relu')) \n",
    "\n",
    "model.add(Convolution2D(32, 3, 3, activation='relu'))\n",
    "model.add(BatchNormalization())\n",
    "\n",
    "model.add(MaxPooling2D(pool_size = (2, 2)))\n",
    "model.add(Convolution2D(10, 1, activation='relu'))\n",
    " \n",
    "model.add(Convolution2D(10, 5)) \n",
    "\n",
    "model.add(Flatten()) #flatten image dimension into 1\n",
    "model.add(Activation('softmax'))# softmax to assign confidence score of each class"
   ]
  },
  {
   "cell_type": "code",
   "execution_count": 14,
   "metadata": {},
   "outputs": [
    {
     "name": "stdout",
     "output_type": "stream",
     "text": [
      "_________________________________________________________________\n",
      "Layer (type)                 Output Shape              Param #   \n",
      "=================================================================\n",
      "conv2d_9 (Conv2D)            (None, 26, 26, 8)         80        \n",
      "_________________________________________________________________\n",
      "batch_normalization_6 (Batch (None, 26, 26, 8)         32        \n",
      "_________________________________________________________________\n",
      "conv2d_10 (Conv2D)           (None, 24, 24, 16)        1168      \n",
      "_________________________________________________________________\n",
      "batch_normalization_7 (Batch (None, 24, 24, 16)        64        \n",
      "_________________________________________________________________\n",
      "max_pooling2d_3 (MaxPooling2 (None, 12, 12, 16)        0         \n",
      "_________________________________________________________________\n",
      "conv2d_11 (Conv2D)           (None, 12, 12, 10)        170       \n",
      "_________________________________________________________________\n",
      "conv2d_12 (Conv2D)           (None, 10, 10, 32)        2912      \n",
      "_________________________________________________________________\n",
      "batch_normalization_8 (Batch (None, 10, 10, 32)        128       \n",
      "_________________________________________________________________\n",
      "max_pooling2d_4 (MaxPooling2 (None, 5, 5, 32)          0         \n",
      "_________________________________________________________________\n",
      "conv2d_13 (Conv2D)           (None, 5, 5, 10)          330       \n",
      "_________________________________________________________________\n",
      "conv2d_14 (Conv2D)           (None, 1, 1, 10)          2510      \n",
      "_________________________________________________________________\n",
      "flatten_1 (Flatten)          (None, 10)                0         \n",
      "_________________________________________________________________\n",
      "activation_1 (Activation)    (None, 10)                0         \n",
      "=================================================================\n",
      "Total params: 7,394\n",
      "Trainable params: 7,282\n",
      "Non-trainable params: 112\n",
      "_________________________________________________________________\n"
     ]
    }
   ],
   "source": [
    "model.summary()"
   ]
  },
  {
   "cell_type": "markdown",
   "metadata": {},
   "source": [
    "# Model Training"
   ]
  },
  {
   "cell_type": "code",
   "execution_count": 26,
   "metadata": {},
   "outputs": [
    {
     "name": "stderr",
     "output_type": "stream",
     "text": [
      "C:\\Users\\avadhut.c\\Continuum\\anaconda3\\lib\\site-packages\\ipykernel_launcher.py:4: UserWarning: The `nb_epoch` argument in `fit` has been renamed `epochs`.\n",
      "  after removing the cwd from sys.path.\n"
     ]
    },
    {
     "name": "stdout",
     "output_type": "stream",
     "text": [
      "Train on 60000 samples, validate on 10000 samples\n",
      "Epoch 1/100\n",
      "60000/60000 [==============================] - 23s 383us/step - loss: 0.4096 - acc: 0.8779 - val_loss: 0.1547 - val_acc: 0.9556\n",
      "Epoch 2/100\n",
      "60000/60000 [==============================] - 19s 322us/step - loss: 0.1386 - acc: 0.9585 - val_loss: 0.1097 - val_acc: 0.9671\n",
      "Epoch 3/100\n",
      "60000/60000 [==============================] - 19s 320us/step - loss: 0.1049 - acc: 0.9688 - val_loss: 0.0869 - val_acc: 0.9743\n",
      "Epoch 4/100\n",
      "60000/60000 [==============================] - 19s 322us/step - loss: 0.0872 - acc: 0.9736 - val_loss: 0.0772 - val_acc: 0.9756\n",
      "Epoch 5/100\n",
      "60000/60000 [==============================] - 19s 320us/step - loss: 0.0765 - acc: 0.9768 - val_loss: 0.0651 - val_acc: 0.9788\n",
      "Epoch 6/100\n",
      "60000/60000 [==============================] - 21s 348us/step - loss: 0.0688 - acc: 0.9792 - val_loss: 0.0617 - val_acc: 0.9794\n",
      "Epoch 7/100\n",
      "60000/60000 [==============================] - 20s 335us/step - loss: 0.0632 - acc: 0.9811 - val_loss: 0.0594 - val_acc: 0.9802\n",
      "Epoch 8/100\n",
      "60000/60000 [==============================] - 21s 343us/step - loss: 0.0585 - acc: 0.9826 - val_loss: 0.0544 - val_acc: 0.9821\n",
      "Epoch 9/100\n",
      "60000/60000 [==============================] - 22s 365us/step - loss: 0.0551 - acc: 0.9838 - val_loss: 0.0533 - val_acc: 0.9829\n",
      "Epoch 10/100\n",
      "60000/60000 [==============================] - 20s 340us/step - loss: 0.0521 - acc: 0.9845 - val_loss: 0.0506 - val_acc: 0.9828\n",
      "Epoch 11/100\n",
      "60000/60000 [==============================] - 20s 333us/step - loss: 0.0496 - acc: 0.9849 - val_loss: 0.0500 - val_acc: 0.9840\n",
      "Epoch 12/100\n",
      "60000/60000 [==============================] - 20s 338us/step - loss: 0.0469 - acc: 0.9861 - val_loss: 0.0484 - val_acc: 0.9840\n",
      "Epoch 13/100\n",
      "60000/60000 [==============================] - 20s 325us/step - loss: 0.0448 - acc: 0.9866 - val_loss: 0.0454 - val_acc: 0.9846\n",
      "Epoch 14/100\n",
      "60000/60000 [==============================] - 19s 323us/step - loss: 0.0432 - acc: 0.9871 - val_loss: 0.0453 - val_acc: 0.9850\n",
      "Epoch 15/100\n",
      "60000/60000 [==============================] - 20s 331us/step - loss: 0.0413 - acc: 0.9876 - val_loss: 0.0438 - val_acc: 0.9855\n",
      "Epoch 16/100\n",
      "60000/60000 [==============================] - 21s 347us/step - loss: 0.0396 - acc: 0.9885 - val_loss: 0.0445 - val_acc: 0.9864\n",
      "Epoch 17/100\n",
      "60000/60000 [==============================] - 21s 354us/step - loss: 0.0381 - acc: 0.9886 - val_loss: 0.0453 - val_acc: 0.9847\n",
      "Epoch 18/100\n",
      "60000/60000 [==============================] - 21s 342us/step - loss: 0.0371 - acc: 0.9889 - val_loss: 0.0419 - val_acc: 0.9864\n",
      "Epoch 19/100\n",
      "60000/60000 [==============================] - 20s 339us/step - loss: 0.0356 - acc: 0.9898 - val_loss: 0.0410 - val_acc: 0.9859\n",
      "Epoch 20/100\n",
      "60000/60000 [==============================] - 22s 369us/step - loss: 0.0344 - acc: 0.9897 - val_loss: 0.0435 - val_acc: 0.9856\n",
      "Epoch 21/100\n",
      "60000/60000 [==============================] - 21s 347us/step - loss: 0.0334 - acc: 0.9902 - val_loss: 0.0420 - val_acc: 0.9855\n",
      "Epoch 22/100\n",
      "60000/60000 [==============================] - 21s 358us/step - loss: 0.0322 - acc: 0.9904 - val_loss: 0.0408 - val_acc: 0.9863\n",
      "Epoch 23/100\n",
      "60000/60000 [==============================] - 21s 342us/step - loss: 0.0314 - acc: 0.9907 - val_loss: 0.0405 - val_acc: 0.9864\n",
      "Epoch 24/100\n",
      "60000/60000 [==============================] - 22s 365us/step - loss: 0.0302 - acc: 0.9908 - val_loss: 0.0421 - val_acc: 0.9854\n",
      "Epoch 25/100\n",
      "60000/60000 [==============================] - 20s 329us/step - loss: 0.0299 - acc: 0.9912 - val_loss: 0.0413 - val_acc: 0.9862\n",
      "Epoch 26/100\n",
      "60000/60000 [==============================] - 19s 320us/step - loss: 0.0287 - acc: 0.9914 - val_loss: 0.0421 - val_acc: 0.9848\n",
      "Epoch 27/100\n",
      "60000/60000 [==============================] - 21s 344us/step - loss: 0.0281 - acc: 0.9916 - val_loss: 0.0433 - val_acc: 0.9868\n",
      "Epoch 28/100\n",
      "60000/60000 [==============================] - 21s 346us/step - loss: 0.0272 - acc: 0.9918 - val_loss: 0.0402 - val_acc: 0.9857\n",
      "Epoch 29/100\n",
      "60000/60000 [==============================] - 19s 323us/step - loss: 0.0264 - acc: 0.9921 - val_loss: 0.0436 - val_acc: 0.9849\n",
      "Epoch 30/100\n",
      "60000/60000 [==============================] - 19s 319us/step - loss: 0.0258 - acc: 0.9922 - val_loss: 0.0395 - val_acc: 0.9867\n",
      "Epoch 31/100\n",
      "60000/60000 [==============================] - 19s 322us/step - loss: 0.0251 - acc: 0.9924 - val_loss: 0.0414 - val_acc: 0.9858\n",
      "Epoch 32/100\n",
      "60000/60000 [==============================] - 19s 321us/step - loss: 0.0243 - acc: 0.9928 - val_loss: 0.0405 - val_acc: 0.9865\n",
      "Epoch 33/100\n",
      "60000/60000 [==============================] - 19s 318us/step - loss: 0.0240 - acc: 0.9927 - val_loss: 0.0399 - val_acc: 0.9858\n",
      "Epoch 34/100\n",
      "60000/60000 [==============================] - 19s 317us/step - loss: 0.0230 - acc: 0.9931 - val_loss: 0.0382 - val_acc: 0.9869\n",
      "Epoch 35/100\n",
      "60000/60000 [==============================] - 19s 322us/step - loss: 0.0226 - acc: 0.9934 - val_loss: 0.0410 - val_acc: 0.9858\n",
      "Epoch 36/100\n",
      "60000/60000 [==============================] - 19s 316us/step - loss: 0.0220 - acc: 0.9936 - val_loss: 0.0396 - val_acc: 0.9857\n",
      "Epoch 37/100\n",
      "60000/60000 [==============================] - 19s 320us/step - loss: 0.0214 - acc: 0.9938 - val_loss: 0.0401 - val_acc: 0.9866\n",
      "Epoch 38/100\n",
      "60000/60000 [==============================] - 19s 315us/step - loss: 0.0208 - acc: 0.9939 - val_loss: 0.0387 - val_acc: 0.9866\n",
      "Epoch 39/100\n",
      "60000/60000 [==============================] - 19s 317us/step - loss: 0.0205 - acc: 0.9939 - val_loss: 0.0390 - val_acc: 0.9863\n",
      "Epoch 40/100\n",
      "60000/60000 [==============================] - 19s 319us/step - loss: 0.0200 - acc: 0.9944 - val_loss: 0.0412 - val_acc: 0.9863\n",
      "Epoch 41/100\n",
      "60000/60000 [==============================] - 19s 321us/step - loss: 0.0195 - acc: 0.9944 - val_loss: 0.0394 - val_acc: 0.9856\n",
      "Epoch 42/100\n",
      "60000/60000 [==============================] - 19s 320us/step - loss: 0.0190 - acc: 0.9946 - val_loss: 0.0392 - val_acc: 0.9865\n",
      "Epoch 43/100\n",
      "60000/60000 [==============================] - 20s 328us/step - loss: 0.0181 - acc: 0.9947 - val_loss: 0.0430 - val_acc: 0.9846\n",
      "Epoch 44/100\n",
      "60000/60000 [==============================] - 20s 325us/step - loss: 0.0182 - acc: 0.9951 - val_loss: 0.0390 - val_acc: 0.9861\n",
      "Epoch 45/100\n",
      "60000/60000 [==============================] - 21s 343us/step - loss: 0.0176 - acc: 0.9951 - val_loss: 0.0476 - val_acc: 0.9825\n",
      "Epoch 46/100\n",
      "60000/60000 [==============================] - 21s 348us/step - loss: 0.0174 - acc: 0.9953 - val_loss: 0.0437 - val_acc: 0.9854\n",
      "Epoch 47/100\n",
      "60000/60000 [==============================] - 19s 320us/step - loss: 0.0166 - acc: 0.9955 - val_loss: 0.0413 - val_acc: 0.9856\n",
      "Epoch 48/100\n",
      "60000/60000 [==============================] - 20s 325us/step - loss: 0.0162 - acc: 0.9955 - val_loss: 0.0406 - val_acc: 0.9865\n",
      "Epoch 49/100\n",
      "60000/60000 [==============================] - 20s 334us/step - loss: 0.0160 - acc: 0.9956 - val_loss: 0.0393 - val_acc: 0.9860\n",
      "Epoch 50/100\n",
      "60000/60000 [==============================] - 20s 330us/step - loss: 0.0156 - acc: 0.9960 - val_loss: 0.0404 - val_acc: 0.9865\n",
      "Epoch 51/100\n",
      "60000/60000 [==============================] - 19s 325us/step - loss: 0.0153 - acc: 0.9960 - val_loss: 0.0436 - val_acc: 0.9852\n",
      "Epoch 52/100\n",
      "60000/60000 [==============================] - 19s 324us/step - loss: 0.0148 - acc: 0.9961 - val_loss: 0.0404 - val_acc: 0.9863\n",
      "Epoch 53/100\n",
      "60000/60000 [==============================] - 19s 323us/step - loss: 0.0143 - acc: 0.9964 - val_loss: 0.0408 - val_acc: 0.9858\n",
      "Epoch 54/100\n",
      "60000/60000 [==============================] - 20s 325us/step - loss: 0.0140 - acc: 0.9963 - val_loss: 0.0446 - val_acc: 0.9854\n",
      "Epoch 55/100\n",
      "60000/60000 [==============================] - 20s 328us/step - loss: 0.0138 - acc: 0.9966 - val_loss: 0.0419 - val_acc: 0.9856\n",
      "Epoch 56/100\n",
      "60000/60000 [==============================] - 20s 326us/step - loss: 0.0136 - acc: 0.9966 - val_loss: 0.0399 - val_acc: 0.9862\n",
      "Epoch 57/100\n",
      "60000/60000 [==============================] - 19s 319us/step - loss: 0.0130 - acc: 0.9971 - val_loss: 0.0444 - val_acc: 0.9856\n",
      "Epoch 58/100\n",
      "60000/60000 [==============================] - 19s 318us/step - loss: 0.0128 - acc: 0.9968 - val_loss: 0.0439 - val_acc: 0.9860\n"
     ]
    },
    {
     "name": "stdout",
     "output_type": "stream",
     "text": [
      "Epoch 59/100\n",
      "60000/60000 [==============================] - 20s 335us/step - loss: 0.0126 - acc: 0.9968 - val_loss: 0.0413 - val_acc: 0.9868\n",
      "Epoch 60/100\n",
      "60000/60000 [==============================] - 19s 318us/step - loss: 0.0120 - acc: 0.9969 - val_loss: 0.0448 - val_acc: 0.9855\n",
      "Epoch 61/100\n",
      "60000/60000 [==============================] - 20s 332us/step - loss: 0.0121 - acc: 0.9969 - val_loss: 0.0402 - val_acc: 0.9870\n",
      "Epoch 62/100\n",
      "60000/60000 [==============================] - 20s 335us/step - loss: 0.0113 - acc: 0.9973 - val_loss: 0.0440 - val_acc: 0.9858\n",
      "Epoch 63/100\n",
      "60000/60000 [==============================] - 19s 321us/step - loss: 0.0115 - acc: 0.9971 - val_loss: 0.0439 - val_acc: 0.9855\n",
      "Epoch 64/100\n",
      "60000/60000 [==============================] - 19s 322us/step - loss: 0.0111 - acc: 0.9974 - val_loss: 0.0417 - val_acc: 0.9875\n",
      "Epoch 65/100\n",
      "60000/60000 [==============================] - 19s 324us/step - loss: 0.0106 - acc: 0.9977 - val_loss: 0.0427 - val_acc: 0.9860\n",
      "Epoch 66/100\n",
      "60000/60000 [==============================] - 20s 329us/step - loss: 0.0104 - acc: 0.9977 - val_loss: 0.0446 - val_acc: 0.9854\n",
      "Epoch 67/100\n",
      "60000/60000 [==============================] - 20s 339us/step - loss: 0.0101 - acc: 0.9978 - val_loss: 0.0421 - val_acc: 0.9856\n",
      "Epoch 68/100\n",
      "60000/60000 [==============================] - 19s 324us/step - loss: 0.0100 - acc: 0.9978 - val_loss: 0.0410 - val_acc: 0.9866\n",
      "Epoch 69/100\n",
      "60000/60000 [==============================] - 20s 326us/step - loss: 0.0097 - acc: 0.9978 - val_loss: 0.0446 - val_acc: 0.9860\n",
      "Epoch 70/100\n",
      "60000/60000 [==============================] - 20s 332us/step - loss: 0.0094 - acc: 0.9980 - val_loss: 0.0439 - val_acc: 0.9864\n",
      "Epoch 71/100\n",
      "60000/60000 [==============================] - 20s 331us/step - loss: 0.0093 - acc: 0.9980 - val_loss: 0.0425 - val_acc: 0.9873\n",
      "Epoch 72/100\n",
      "60000/60000 [==============================] - 20s 326us/step - loss: 0.0091 - acc: 0.9981 - val_loss: 0.0465 - val_acc: 0.9857\n",
      "Epoch 73/100\n",
      "60000/60000 [==============================] - 19s 317us/step - loss: 0.0088 - acc: 0.9982 - val_loss: 0.0445 - val_acc: 0.9863\n",
      "Epoch 74/100\n",
      "60000/60000 [==============================] - 20s 337us/step - loss: 0.0085 - acc: 0.9983 - val_loss: 0.0442 - val_acc: 0.9854\n",
      "Epoch 75/100\n",
      "60000/60000 [==============================] - 19s 325us/step - loss: 0.0083 - acc: 0.9984 - val_loss: 0.0457 - val_acc: 0.9858\n",
      "Epoch 76/100\n",
      "60000/60000 [==============================] - 20s 330us/step - loss: 0.0082 - acc: 0.9984 - val_loss: 0.0487 - val_acc: 0.9854\n",
      "Epoch 77/100\n",
      "60000/60000 [==============================] - 20s 329us/step - loss: 0.0079 - acc: 0.9984 - val_loss: 0.0435 - val_acc: 0.9865\n",
      "Epoch 78/100\n",
      "60000/60000 [==============================] - 20s 328us/step - loss: 0.0079 - acc: 0.9985 - val_loss: 0.0448 - val_acc: 0.9857\n",
      "Epoch 79/100\n",
      "60000/60000 [==============================] - 20s 334us/step - loss: 0.0077 - acc: 0.9986 - val_loss: 0.0441 - val_acc: 0.9866\n",
      "Epoch 80/100\n",
      "60000/60000 [==============================] - 19s 318us/step - loss: 0.0075 - acc: 0.9987 - val_loss: 0.0458 - val_acc: 0.9857\n",
      "Epoch 81/100\n",
      "60000/60000 [==============================] - 19s 325us/step - loss: 0.0074 - acc: 0.9988 - val_loss: 0.0456 - val_acc: 0.9867\n",
      "Epoch 82/100\n",
      "60000/60000 [==============================] - 21s 342us/step - loss: 0.0072 - acc: 0.9987 - val_loss: 0.0481 - val_acc: 0.9855\n",
      "Epoch 83/100\n",
      "60000/60000 [==============================] - 19s 323us/step - loss: 0.0070 - acc: 0.9988 - val_loss: 0.0433 - val_acc: 0.9861\n",
      "Epoch 84/100\n",
      "60000/60000 [==============================] - 20s 331us/step - loss: 0.0068 - acc: 0.9990 - val_loss: 0.0453 - val_acc: 0.9852\n",
      "Epoch 85/100\n",
      "60000/60000 [==============================] - 19s 321us/step - loss: 0.0066 - acc: 0.9989 - val_loss: 0.0459 - val_acc: 0.9857\n",
      "Epoch 86/100\n",
      "60000/60000 [==============================] - 21s 346us/step - loss: 0.0064 - acc: 0.9990 - val_loss: 0.0461 - val_acc: 0.9860\n",
      "Epoch 87/100\n",
      "60000/60000 [==============================] - 19s 325us/step - loss: 0.0063 - acc: 0.9991 - val_loss: 0.0486 - val_acc: 0.9859\n",
      "Epoch 88/100\n",
      "60000/60000 [==============================] - 22s 363us/step - loss: 0.0061 - acc: 0.9992 - val_loss: 0.0474 - val_acc: 0.9862\n",
      "Epoch 89/100\n",
      "60000/60000 [==============================] - 20s 337us/step - loss: 0.0061 - acc: 0.9991 - val_loss: 0.0456 - val_acc: 0.9860\n",
      "Epoch 90/100\n",
      "60000/60000 [==============================] - 21s 342us/step - loss: 0.0057 - acc: 0.9993 - val_loss: 0.0457 - val_acc: 0.9851\n",
      "Epoch 91/100\n",
      "60000/60000 [==============================] - 20s 328us/step - loss: 0.0059 - acc: 0.9992 - val_loss: 0.0458 - val_acc: 0.9855\n",
      "Epoch 92/100\n",
      "60000/60000 [==============================] - 20s 335us/step - loss: 0.0055 - acc: 0.9993 - val_loss: 0.0496 - val_acc: 0.9854\n",
      "Epoch 93/100\n",
      "60000/60000 [==============================] - 20s 332us/step - loss: 0.0056 - acc: 0.9993 - val_loss: 0.0491 - val_acc: 0.9856\n",
      "Epoch 94/100\n",
      "60000/60000 [==============================] - 20s 326us/step - loss: 0.0054 - acc: 0.9992 - val_loss: 0.0473 - val_acc: 0.9856\n",
      "Epoch 95/100\n",
      "60000/60000 [==============================] - 20s 327us/step - loss: 0.0052 - acc: 0.9994 - val_loss: 0.0479 - val_acc: 0.9859\n",
      "Epoch 96/100\n",
      "60000/60000 [==============================] - 19s 318us/step - loss: 0.0050 - acc: 0.9994 - val_loss: 0.0481 - val_acc: 0.9858\n",
      "Epoch 97/100\n",
      "60000/60000 [==============================] - 19s 316us/step - loss: 0.0051 - acc: 0.9994 - val_loss: 0.0470 - val_acc: 0.9854\n",
      "Epoch 98/100\n",
      "60000/60000 [==============================] - 19s 319us/step - loss: 0.0050 - acc: 0.9994 - val_loss: 0.0474 - val_acc: 0.9862\n",
      "Epoch 99/100\n",
      "60000/60000 [==============================] - 19s 325us/step - loss: 0.0049 - acc: 0.9994 - val_loss: 0.0485 - val_acc: 0.9854\n",
      "Epoch 100/100\n",
      "60000/60000 [==============================] - 20s 333us/step - loss: 0.0048 - acc: 0.9995 - val_loss: 0.0482 - val_acc: 0.9848\n",
      "Test error: 0.04823666766911992\n",
      "Test accuracy: 0.9848\n"
     ]
    }
   ],
   "source": [
    "batch_size = 128 \n",
    "nb_epoch = 100\n",
    "model.compile(optimizer='sgd', loss='categorical_crossentropy', metrics=['accuracy']) \n",
    "history = model.fit(X_train, Y_train, batch_size=batch_size, nb_epoch=nb_epoch,verbose=1, validation_data=(X_test, Y_test)) \n",
    "score = model.evaluate(X_test, Y_test, verbose=0) \n",
    "print('Test error:', score[0]) \n",
    "print('Test accuracy:', score[1])"
   ]
  },
  {
   "cell_type": "code",
   "execution_count": 27,
   "metadata": {},
   "outputs": [
    {
     "data": {
      "image/png": "[encoded data removed]",
      "text/plain": [
       "<Figure size 432x288 with 1 Axes>"
      ]
     },
     "metadata": {
      "needs_background": "light"
     },
     "output_type": "display_data"
    }
   ],
   "source": [
    "plt.plot(history.history['acc'],'r')\n",
    "plt.plot(history.history['val_acc'],'b')\n",
    "plt.legend({'training accuracy':'r', 'validation accuracy': 'b'})\n",
    "plt.show()"
   ]
  },
  {
   "cell_type": "code",
   "execution_count": 28,
   "metadata": {},
   "outputs": [
    {
     "data": {
      "image/png": "[encoded data removed]",
      "text/plain": [
       "<Figure size 432x288 with 1 Axes>"
      ]
     },
     "metadata": {
      "needs_background": "light"
     },
     "output_type": "display_data"
    }
   ],
   "source": [
    "plt.plot(history.history['loss'],'r')\n",
    "plt.plot(history.history['val_loss'],'b')\n",
    "plt.legend({'training loss':'r', 'validation loss': 'b'})\n",
    "plt.show()"
   ]
  },
  {
   "cell_type": "markdown",
   "metadata": {},
   "source": [
    "# Inference "
   ]
  },
  {
   "cell_type": "code",
   "execution_count": 29,
   "metadata": {},
   "outputs": [],
   "source": [
    "predictions = model.predict_classes(X_test)"
   ]
  },
  {
   "cell_type": "code",
   "execution_count": 30,
   "metadata": {},
   "outputs": [
    {
     "data": {
      "text/plain": [
       "array([7, 2, 1, 0, 4, 1, 4, 9, 5, 9], dtype=int64)"
      ]
     },
     "execution_count": 30,
     "metadata": {},
     "output_type": "execute_result"
    }
   ],
   "source": [
    "predictions[0:10]"
   ]
  },
  {
   "cell_type": "code",
   "execution_count": 34,
   "metadata": {},
   "outputs": [
    {
     "data": {
      "text/plain": [
       "7"
      ]
     },
     "execution_count": 34,
     "metadata": {},
     "output_type": "execute_result"
    }
   ],
   "source": [
    "np.argmax(Y_test[0])"
   ]
  },
  {
   "cell_type": "code",
   "execution_count": 35,
   "metadata": {},
   "outputs": [],
   "source": [
    "y_test = np.argmax(Y_test, axis=1)"
   ]
  },
  {
   "cell_type": "code",
   "execution_count": 36,
   "metadata": {},
   "outputs": [
    {
     "data": {
      "text/plain": [
       "(10000, 10)"
      ]
     },
     "execution_count": 36,
     "metadata": {},
     "output_type": "execute_result"
    }
   ],
   "source": [
    "Y_test.shape"
   ]
  },
  {
   "cell_type": "code",
   "execution_count": 37,
   "metadata": {},
   "outputs": [
    {
     "data": {
      "text/plain": [
       "(10000,)"
      ]
     },
     "execution_count": 37,
     "metadata": {},
     "output_type": "execute_result"
    }
   ],
   "source": [
    "y_test.shape"
   ]
  },
  {
   "cell_type": "markdown",
   "metadata": {},
   "source": [
    "# Misclassified Images"
   ]
  },
  {
   "cell_type": "code",
   "execution_count": 38,
   "metadata": {},
   "outputs": [],
   "source": [
    "import numpy as np \n",
    "import matplotlib.pyplot as plt\n",
    "index = 0\n",
    "misclassifiedIndexes = []\n",
    "for label, predict in zip(y_test, predictions):\n",
    "    if label != predict: \n",
    "        misclassifiedIndexes.append(index)\n",
    "    index +=1"
   ]
  },
  {
   "cell_type": "code",
   "execution_count": 39,
   "metadata": {},
   "outputs": [
    {
     "data": {
      "image/png": "[encoded data removed]",
      "text/plain": [
       "<Figure size 1440x288 with 5 Axes>"
      ]
     },
     "metadata": {
      "needs_background": "light"
     },
     "output_type": "display_data"
    }
   ],
   "source": [
    "plt.figure(figsize=(20,4))\n",
    "for plotIndex, badIndex in enumerate(misclassifiedIndexes[0:5]):\n",
    "    plt.subplot(1, 5, plotIndex + 1)\n",
    "    plt.imshow(np.reshape(X_test[badIndex], (28,28)), cmap=plt.cm.gray)\n",
    "    plt.title('Predicted: {}, Actual: {}'.format(predictions[badIndex], y_test[badIndex]), fontsize = 15)"
   ]
  },
  {
   "cell_type": "markdown",
   "metadata": {},
   "source": [
    "# Confusion Matrix"
   ]
  },
  {
   "cell_type": "code",
   "execution_count": 40,
   "metadata": {},
   "outputs": [],
   "source": [
    "# we can also use a confusion matrix to visualize the performance of a classification model\n",
    "cm = confusion_matrix(y_test, predictions)\n",
    "# use this line to normalize the confusion matrix to show percentages instead of counts\n",
    "cm = cm.astype('float') / cm.sum(axis=1)[:, np.newaxis]\n"
   ]
  },
  {
   "cell_type": "code",
   "execution_count": 41,
   "metadata": {},
   "outputs": [
    {
     "data": {
      "image/png": "[encoded data removed]",
      "text/plain": [
       "<Figure size 576x576 with 2 Axes>"
      ]
     },
     "metadata": {
      "needs_background": "light"
     },
     "output_type": "display_data"
    }
   ],
   "source": [
    "# plot this matrix\n",
    "plt.figure(figsize=(8, 8))\n",
    "sns.heatmap(cm, annot=True, fmt=\".3f\", linewidths=.5, square = True, cmap = 'Blues_r');\n",
    "plt.ylabel('Actual label');\n",
    "plt.xlabel('Predicted label');\n",
    "all_sample_title = 'Overall Accuracy Score: {0}'.format(score)\n",
    "plt.title(all_sample_title, size = 15);\n",
    "plt.savefig('toy_Digits_ConfusionSeabornCodementor.png')\n",
    "plt.show();"
   ]
  },
  {
   "cell_type": "code",
   "execution_count": 44,
   "metadata": {},
   "outputs": [
    {
     "data": {
      "text/plain": [
       "(3, 3, 8)"
      ]
     },
     "execution_count": 44,
     "metadata": {},
     "output_type": "execute_result"
    }
   ],
   "source": [
    " model.layers[0].get_weights()[0][:, :, 0, :].shape"
   ]
  },
  {
   "cell_type": "code",
   "execution_count": 52,
   "metadata": {},
   "outputs": [
    {
     "data": {
      "text/plain": [
       "(3, 3, 8, 16)"
      ]
     },
     "execution_count": 52,
     "metadata": {},
     "output_type": "execute_result"
    }
   ],
   "source": [
    "model.layers[2].get_weights()[0].shape"
   ]
  },
  {
   "cell_type": "markdown",
   "metadata": {},
   "source": [
    "# Visualize Kernels"
   ]
  },
  {
   "cell_type": "code",
   "execution_count": 53,
   "metadata": {},
   "outputs": [
    {
     "data": {
      "image/png": "[encoded data removed]",
      "text/plain": [
       "<Figure size 864x576 with 9 Axes>"
      ]
     },
     "metadata": {
      "needs_background": "light"
     },
     "output_type": "display_data"
    }
   ],
   "source": [
    "#get_weights [x, y, channel, nth convolution layer]\n",
    "weight_conv2d_1 = model.layers[2].get_weights()[0][:, :, 0, :]\n",
    "col_size = 3\n",
    "row_size = 3\n",
    "filter_index = 0\n",
    "fig, ax = plt.subplots(row_size, col_size, figsize=(12,8))\n",
    "for row in range(0,row_size): \n",
    "    for col in range(0,col_size):\n",
    "        ax[row][col].imshow(weight_conv2d_1[:,:,filter_index],cmap=\"gray\")\n",
    "        filter_index += 1"
   ]
  },
  {
   "cell_type": "markdown",
   "metadata": {},
   "source": [
    "# Test a random image"
   ]
  },
  {
   "cell_type": "code",
   "execution_count": 61,
   "metadata": {},
   "outputs": [
    {
     "data": {
      "image/png": "[encoded data removed]",
      "text/plain": [
       "<Figure size 432x288 with 1 Axes>"
      ]
     },
     "metadata": {
      "needs_background": "light"
     },
     "output_type": "display_data"
    },
    {
     "data": {
      "image/png": "[encoded data removed]",
      "text/plain": [
       "<Figure size 1080x864 with 10 Axes>"
      ]
     },
     "metadata": {
      "needs_background": "light"
     },
     "output_type": "display_data"
    }
   ],
   "source": [
    "img_no = 12002\n",
    "test_img = X_train[img_no]\n",
    "plt.imshow(test_img.reshape(28, 28), cmap='gray')\n",
    "plt.title(\"Value:{}\".format(y_train[img_no]) )\n",
    "from keras.models import Model\n",
    "layer_outputs = [layer.output for layer in model.layers]\n",
    "activation_model = Model(inputs = model.input, outputs=layer_outputs)\n",
    "activations = activation_model.predict(test_img.reshape(1, 28, 28, 1))\n",
    "\n",
    "def display_activation(activations, col_size, row_size, act_index):\n",
    "    activation = activations[act_index]\n",
    "    activation_index = 0\n",
    "    fig, ax = plt.subplots(row_size, col_size, figsize=(15,12))\n",
    "    \n",
    "    for row in range(0, row_size):\n",
    "        for col in range(0, col_size):\n",
    "            ax[row][col].imshow(activation[0, :, :, activation_index], cmap='gray')\n",
    "            activation_index += 1\n",
    "      \n",
    "#display_activation(activations, 4, 8, 6)\n",
    "display_activation(activations, 2, 5, 8)"
   ]
  }
 ],
 "metadata": {
  "kernelspec": {
   "display_name": "Python 3",
   "language": "python",
   "name": "python3"
  },
  "language_info": {
   "codemirror_mode": {
    "name": "ipython",
    "version": 3
   },
   "file_extension": ".py",
   "mimetype": "text/x-python",
   "name": "python",
   "nbconvert_exporter": "python",
   "pygments_lexer": "ipython3",
   "version": "3.7.5"
  }
 },
 "nbformat": 4,
 "nbformat_minor": 2
}
