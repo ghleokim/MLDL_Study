{
 "cells": [
  {
   "cell_type": "code",
   "execution_count": 13,
   "metadata": {},
   "outputs": [],
   "source": [
    "from keras.datasets import mnist \n",
    "from keras.utils import np_utils \n",
    "from keras.models import Sequential \n",
    "from keras.layers import Dense, Activation\n",
    "from matplotlib import pyplot as plt # import pyplot alias plt for plotting \n",
    "from sklearn.metrics import confusion_matrix \n",
    "import seaborn as sns"
   ]
  },
  {
   "cell_type": "markdown",
   "metadata": {},
   "source": [
    "# Load datatset, preprocessing"
   ]
  },
  {
   "cell_type": "code",
   "execution_count": 14,
   "metadata": {},
   "outputs": [],
   "source": [
    "# the data, shuffled and split between train and test sets \n",
    "(X_train, y_train), (X_test, y_test) = mnist.load_data()"
   ]
  },
  {
   "cell_type": "code",
   "execution_count": 15,
   "metadata": {},
   "outputs": [],
   "source": [
    "input_dim = 784 #28*28 \n",
    "X_train = X_train.reshape(60000, input_dim) \n",
    "X_test = X_test.reshape(10000, input_dim) \n",
    "X_train = X_train.astype('float32') \n",
    "X_test = X_test.astype('float32') \n",
    "X_train /= 255 \n",
    "X_test /= 255"
   ]
  },
  {
   "cell_type": "code",
   "execution_count": 16,
   "metadata": {},
   "outputs": [],
   "source": [
    "output_dim = nb_classes = 10"
   ]
  },
  {
   "cell_type": "code",
   "execution_count": 17,
   "metadata": {},
   "outputs": [],
   "source": [
    "Y_train = np_utils.to_categorical(y_train, nb_classes) \n",
    "Y_test = np_utils.to_categorical(y_test, nb_classes)"
   ]
  },
  {
   "cell_type": "code",
   "execution_count": 20,
   "metadata": {},
   "outputs": [
    {
     "data": {
      "text/plain": [
       "(10000, 10)"
      ]
     },
     "execution_count": 20,
     "metadata": {},
     "output_type": "execute_result"
    }
   ],
   "source": [
    "Y_test.shape"
   ]
  },
  {
   "cell_type": "markdown",
   "metadata": {},
   "source": [
    "# FFNN model in Keras\n"
   ]
  },
  {
   "cell_type": "code",
   "execution_count": 67,
   "metadata": {},
   "outputs": [],
   "source": [
    "model = Sequential() \n",
    "model.add(Dense(64, input_dim=input_dim, activation='relu'))\n",
    "model.add(Dense(128, activation='relu'))\n",
    "model.add(Dense(output_dim,  activation='softmax')) \n",
    "batch_size = 128 \n",
    "nb_epoch = 100"
   ]
  },
  {
   "cell_type": "code",
   "execution_count": 68,
   "metadata": {},
   "outputs": [
    {
     "name": "stdout",
     "output_type": "stream",
     "text": [
      "_________________________________________________________________\n",
      "Layer (type)                 Output Shape              Param #   \n",
      "=================================================================\n",
      "dense_4 (Dense)              (None, 64)                50240     \n",
      "_________________________________________________________________\n",
      "dense_5 (Dense)              (None, 128)               8320      \n",
      "_________________________________________________________________\n",
      "dense_6 (Dense)              (None, 10)                1290      \n",
      "=================================================================\n",
      "Total params: 59,850\n",
      "Trainable params: 59,850\n",
      "Non-trainable params: 0\n",
      "_________________________________________________________________\n"
     ]
    }
   ],
   "source": [
    "model.summary()"
   ]
  },
  {
   "cell_type": "markdown",
   "metadata": {},
   "source": [
    "# Model Training"
   ]
  },
  {
   "cell_type": "code",
   "execution_count": 69,
   "metadata": {
    "scrolled": true
   },
   "outputs": [
    {
     "name": "stderr",
     "output_type": "stream",
     "text": [
      "C:\\Users\\avadhut.c\\Continuum\\anaconda3\\lib\\site-packages\\ipykernel_launcher.py:2: UserWarning: The `nb_epoch` argument in `fit` has been renamed `epochs`.\n",
      "  \n"
     ]
    },
    {
     "name": "stdout",
     "output_type": "stream",
     "text": [
      "Train on 60000 samples, validate on 10000 samples\n",
      "Epoch 1/100\n",
      "60000/60000 [==============================] - 3s 46us/step - loss: 1.3824 - acc: 0.6483 - val_loss: 0.6848 - val_acc: 0.8410\n",
      "Epoch 2/100\n",
      "60000/60000 [==============================] - 2s 38us/step - loss: 0.5522 - acc: 0.8580 - val_loss: 0.4347 - val_acc: 0.8830\n",
      "Epoch 3/100\n",
      "60000/60000 [==============================] - 2s 39us/step - loss: 0.4151 - acc: 0.8860 - val_loss: 0.3642 - val_acc: 0.8975\n",
      "Epoch 4/100\n",
      "60000/60000 [==============================] - 2s 40us/step - loss: 0.3628 - acc: 0.8979 - val_loss: 0.3295 - val_acc: 0.9052\n",
      "Epoch 5/100\n",
      "60000/60000 [==============================] - 3s 43us/step - loss: 0.3325 - acc: 0.9061 - val_loss: 0.3069 - val_acc: 0.9115\n",
      "Epoch 6/100\n",
      "60000/60000 [==============================] - 2s 41us/step - loss: 0.3114 - acc: 0.9114 - val_loss: 0.2891 - val_acc: 0.9181\n",
      "Epoch 7/100\n",
      "60000/60000 [==============================] - 2s 36us/step - loss: 0.2947 - acc: 0.9159 - val_loss: 0.2751 - val_acc: 0.9213\n",
      "Epoch 8/100\n",
      "60000/60000 [==============================] - 2s 38us/step - loss: 0.2806 - acc: 0.9194 - val_loss: 0.2628 - val_acc: 0.9246\n",
      "Epoch 9/100\n",
      "60000/60000 [==============================] - 2s 37us/step - loss: 0.2685 - acc: 0.9232 - val_loss: 0.2535 - val_acc: 0.9281\n",
      "Epoch 10/100\n",
      "60000/60000 [==============================] - 2s 38us/step - loss: 0.2577 - acc: 0.9266 - val_loss: 0.2441 - val_acc: 0.9308\n",
      "Epoch 11/100\n",
      "60000/60000 [==============================] - 2s 42us/step - loss: 0.2479 - acc: 0.9293 - val_loss: 0.2351 - val_acc: 0.9321\n",
      "Epoch 12/100\n",
      "60000/60000 [==============================] - 3s 44us/step - loss: 0.2391 - acc: 0.9316 - val_loss: 0.2288 - val_acc: 0.9355\n",
      "Epoch 13/100\n",
      "60000/60000 [==============================] - 3s 45us/step - loss: 0.2309 - acc: 0.9343 - val_loss: 0.2227 - val_acc: 0.9364\n",
      "Epoch 14/100\n",
      "60000/60000 [==============================] - 2s 39us/step - loss: 0.2230 - acc: 0.9367 - val_loss: 0.2140 - val_acc: 0.9374\n",
      "Epoch 15/100\n",
      "60000/60000 [==============================] - 2s 38us/step - loss: 0.2161 - acc: 0.9385 - val_loss: 0.2092 - val_acc: 0.9399\n",
      "Epoch 16/100\n",
      "60000/60000 [==============================] - 2s 39us/step - loss: 0.2096 - acc: 0.9404 - val_loss: 0.2023 - val_acc: 0.9412\n",
      "Epoch 17/100\n",
      "60000/60000 [==============================] - 2s 38us/step - loss: 0.2034 - acc: 0.9422 - val_loss: 0.1979 - val_acc: 0.9425\n",
      "Epoch 18/100\n",
      "60000/60000 [==============================] - 2s 40us/step - loss: 0.1974 - acc: 0.9440 - val_loss: 0.1905 - val_acc: 0.9445\n",
      "Epoch 19/100\n",
      "60000/60000 [==============================] - 2s 39us/step - loss: 0.1918 - acc: 0.9455 - val_loss: 0.1863 - val_acc: 0.9469\n",
      "Epoch 20/100\n",
      "60000/60000 [==============================] - 2s 37us/step - loss: 0.1865 - acc: 0.9471 - val_loss: 0.1826 - val_acc: 0.9476\n",
      "Epoch 21/100\n",
      "60000/60000 [==============================] - 2s 40us/step - loss: 0.1816 - acc: 0.9481 - val_loss: 0.1786 - val_acc: 0.9492\n",
      "Epoch 22/100\n",
      "60000/60000 [==============================] - 2s 39us/step - loss: 0.1768 - acc: 0.9494 - val_loss: 0.1731 - val_acc: 0.9500\n",
      "Epoch 23/100\n",
      "60000/60000 [==============================] - 3s 47us/step - loss: 0.1724 - acc: 0.9508 - val_loss: 0.1702 - val_acc: 0.9502\n",
      "Epoch 24/100\n",
      "60000/60000 [==============================] - 3s 42us/step - loss: 0.1683 - acc: 0.9514 - val_loss: 0.1666 - val_acc: 0.9519\n",
      "Epoch 25/100\n",
      "60000/60000 [==============================] - 3s 42us/step - loss: 0.1643 - acc: 0.9528 - val_loss: 0.1631 - val_acc: 0.9521\n",
      "Epoch 26/100\n",
      "60000/60000 [==============================] - 2s 41us/step - loss: 0.1602 - acc: 0.9538 - val_loss: 0.1615 - val_acc: 0.9522\n",
      "Epoch 27/100\n",
      "60000/60000 [==============================] - 3s 49us/step - loss: 0.1570 - acc: 0.9547 - val_loss: 0.1574 - val_acc: 0.9533\n",
      "Epoch 28/100\n",
      "60000/60000 [==============================] - 3s 43us/step - loss: 0.1532 - acc: 0.9556 - val_loss: 0.1548 - val_acc: 0.9553\n",
      "Epoch 29/100\n",
      "60000/60000 [==============================] - 2s 41us/step - loss: 0.1502 - acc: 0.9566 - val_loss: 0.1531 - val_acc: 0.9552\n",
      "Epoch 30/100\n",
      "60000/60000 [==============================] - 4s 60us/step - loss: 0.1471 - acc: 0.9577 - val_loss: 0.1500 - val_acc: 0.9557\n",
      "Epoch 31/100\n",
      "60000/60000 [==============================] - 3s 44us/step - loss: 0.1440 - acc: 0.9585 - val_loss: 0.1486 - val_acc: 0.9569\n",
      "Epoch 32/100\n",
      "60000/60000 [==============================] - 3s 56us/step - loss: 0.1411 - acc: 0.9595 - val_loss: 0.1460 - val_acc: 0.9579\n",
      "Epoch 33/100\n",
      "60000/60000 [==============================] - 3s 53us/step - loss: 0.1384 - acc: 0.9603 - val_loss: 0.1440 - val_acc: 0.9589\n",
      "Epoch 34/100\n",
      "60000/60000 [==============================] - 3s 49us/step - loss: 0.1357 - acc: 0.9610 - val_loss: 0.1418 - val_acc: 0.9593\n",
      "Epoch 35/100\n",
      "60000/60000 [==============================] - 3s 45us/step - loss: 0.1332 - acc: 0.9617 - val_loss: 0.1396 - val_acc: 0.9597\n",
      "Epoch 36/100\n",
      "60000/60000 [==============================] - 3s 44us/step - loss: 0.1306 - acc: 0.9627 - val_loss: 0.1377 - val_acc: 0.9593\n",
      "Epoch 37/100\n",
      "60000/60000 [==============================] - 2s 40us/step - loss: 0.1283 - acc: 0.9630 - val_loss: 0.1362 - val_acc: 0.9602\n",
      "Epoch 38/100\n",
      "60000/60000 [==============================] - 2s 37us/step - loss: 0.1259 - acc: 0.9638 - val_loss: 0.1344 - val_acc: 0.9597\n",
      "Epoch 39/100\n",
      "60000/60000 [==============================] - 2s 41us/step - loss: 0.1238 - acc: 0.9647 - val_loss: 0.1337 - val_acc: 0.9609\n",
      "Epoch 40/100\n",
      "60000/60000 [==============================] - 3s 44us/step - loss: 0.1218 - acc: 0.9649 - val_loss: 0.1310 - val_acc: 0.9607\n",
      "Epoch 41/100\n",
      "60000/60000 [==============================] - 3s 44us/step - loss: 0.1197 - acc: 0.9661 - val_loss: 0.1307 - val_acc: 0.9610\n",
      "Epoch 42/100\n",
      "60000/60000 [==============================] - 3s 47us/step - loss: 0.1177 - acc: 0.9665 - val_loss: 0.1281 - val_acc: 0.9613\n",
      "Epoch 43/100\n",
      "60000/60000 [==============================] - 3s 43us/step - loss: 0.1159 - acc: 0.9671 - val_loss: 0.1271 - val_acc: 0.9614\n",
      "Epoch 44/100\n",
      "60000/60000 [==============================] - 2s 39us/step - loss: 0.1139 - acc: 0.9673 - val_loss: 0.1255 - val_acc: 0.9624\n",
      "Epoch 45/100\n",
      "60000/60000 [==============================] - 2s 40us/step - loss: 0.1122 - acc: 0.9683 - val_loss: 0.1236 - val_acc: 0.9623\n",
      "Epoch 46/100\n",
      "60000/60000 [==============================] - 2s 39us/step - loss: 0.1105 - acc: 0.9683 - val_loss: 0.1228 - val_acc: 0.9619\n",
      "Epoch 47/100\n",
      "60000/60000 [==============================] - 2s 39us/step - loss: 0.1086 - acc: 0.9693 - val_loss: 0.1215 - val_acc: 0.9629\n",
      "Epoch 48/100\n",
      "60000/60000 [==============================] - 2s 40us/step - loss: 0.1070 - acc: 0.9698 - val_loss: 0.1227 - val_acc: 0.9632\n",
      "Epoch 49/100\n",
      "60000/60000 [==============================] - 2s 41us/step - loss: 0.1056 - acc: 0.9699 - val_loss: 0.1200 - val_acc: 0.9636\n",
      "Epoch 50/100\n",
      "60000/60000 [==============================] - 3s 48us/step - loss: 0.1041 - acc: 0.9706 - val_loss: 0.1188 - val_acc: 0.9637\n",
      "Epoch 51/100\n",
      "60000/60000 [==============================] - 3s 45us/step - loss: 0.1025 - acc: 0.9709 - val_loss: 0.1184 - val_acc: 0.9633\n",
      "Epoch 52/100\n",
      "60000/60000 [==============================] - 3s 45us/step - loss: 0.1011 - acc: 0.9714 - val_loss: 0.1156 - val_acc: 0.9636\n",
      "Epoch 53/100\n",
      "60000/60000 [==============================] - 3s 44us/step - loss: 0.0997 - acc: 0.9717 - val_loss: 0.1155 - val_acc: 0.9650\n",
      "Epoch 54/100\n",
      "60000/60000 [==============================] - 3s 43us/step - loss: 0.0982 - acc: 0.9718 - val_loss: 0.1143 - val_acc: 0.9645\n",
      "Epoch 55/100\n",
      "60000/60000 [==============================] - 3s 44us/step - loss: 0.0968 - acc: 0.9725 - val_loss: 0.1136 - val_acc: 0.9651\n",
      "Epoch 56/100\n",
      "60000/60000 [==============================] - 2s 40us/step - loss: 0.0956 - acc: 0.9728 - val_loss: 0.1137 - val_acc: 0.9661\n",
      "Epoch 57/100\n",
      "60000/60000 [==============================] - 2s 39us/step - loss: 0.0945 - acc: 0.9731 - val_loss: 0.1117 - val_acc: 0.9648\n",
      "Epoch 58/100\n",
      "60000/60000 [==============================] - 2s 39us/step - loss: 0.0931 - acc: 0.9735 - val_loss: 0.1100 - val_acc: 0.9657\n",
      "Epoch 59/100\n",
      "60000/60000 [==============================] - 2s 39us/step - loss: 0.0918 - acc: 0.9738 - val_loss: 0.1098 - val_acc: 0.9657\n",
      "Epoch 60/100\n",
      "60000/60000 [==============================] - 3s 44us/step - loss: 0.0907 - acc: 0.9744 - val_loss: 0.1097 - val_acc: 0.9666\n",
      "Epoch 61/100\n",
      "60000/60000 [==============================] - 2s 37us/step - loss: 0.0895 - acc: 0.9748 - val_loss: 0.1083 - val_acc: 0.9663\n",
      "Epoch 62/100\n",
      "60000/60000 [==============================] - 2s 39us/step - loss: 0.0885 - acc: 0.9751 - val_loss: 0.1078 - val_acc: 0.9662\n",
      "Epoch 63/100\n",
      "60000/60000 [==============================] - 2s 36us/step - loss: 0.0873 - acc: 0.9755 - val_loss: 0.1081 - val_acc: 0.9666\n",
      "Epoch 64/100\n",
      "60000/60000 [==============================] - 2s 37us/step - loss: 0.0863 - acc: 0.9756 - val_loss: 0.1071 - val_acc: 0.9670\n",
      "Epoch 65/100\n",
      "60000/60000 [==============================] - 2s 38us/step - loss: 0.0853 - acc: 0.9760 - val_loss: 0.1059 - val_acc: 0.9671\n",
      "Epoch 66/100\n",
      "60000/60000 [==============================] - 2s 37us/step - loss: 0.0842 - acc: 0.9766 - val_loss: 0.1052 - val_acc: 0.9676\n",
      "Epoch 67/100\n",
      "60000/60000 [==============================] - 2s 38us/step - loss: 0.0832 - acc: 0.9766 - val_loss: 0.1051 - val_acc: 0.9671\n",
      "Epoch 68/100\n",
      "60000/60000 [==============================] - 2s 36us/step - loss: 0.0820 - acc: 0.9771 - val_loss: 0.1039 - val_acc: 0.9682\n",
      "Epoch 69/100\n",
      "60000/60000 [==============================] - 2s 41us/step - loss: 0.0811 - acc: 0.9772 - val_loss: 0.1038 - val_acc: 0.9684\n",
      "Epoch 70/100\n",
      "60000/60000 [==============================] - 2s 37us/step - loss: 0.0801 - acc: 0.9773 - val_loss: 0.1035 - val_acc: 0.9676\n",
      "Epoch 71/100\n",
      "60000/60000 [==============================] - 2s 38us/step - loss: 0.0792 - acc: 0.9779 - val_loss: 0.1028 - val_acc: 0.9692\n",
      "Epoch 72/100\n",
      "60000/60000 [==============================] - 3s 43us/step - loss: 0.0784 - acc: 0.9779 - val_loss: 0.1017 - val_acc: 0.9689\n",
      "Epoch 73/100\n",
      "60000/60000 [==============================] - 3s 42us/step - loss: 0.0776 - acc: 0.9782 - val_loss: 0.1003 - val_acc: 0.9691\n",
      "Epoch 74/100\n",
      "60000/60000 [==============================] - 2s 39us/step - loss: 0.0766 - acc: 0.9788 - val_loss: 0.1000 - val_acc: 0.9693\n",
      "Epoch 75/100\n",
      "60000/60000 [==============================] - 3s 45us/step - loss: 0.0757 - acc: 0.9790 - val_loss: 0.1003 - val_acc: 0.9688\n",
      "Epoch 76/100\n",
      "60000/60000 [==============================] - 3s 47us/step - loss: 0.0750 - acc: 0.9793 - val_loss: 0.0993 - val_acc: 0.9691\n",
      "Epoch 77/100\n",
      "60000/60000 [==============================] - 3s 44us/step - loss: 0.0741 - acc: 0.9792 - val_loss: 0.0991 - val_acc: 0.9689\n",
      "Epoch 78/100\n",
      "60000/60000 [==============================] - 3s 52us/step - loss: 0.0733 - acc: 0.9794 - val_loss: 0.0983 - val_acc: 0.9700\n",
      "Epoch 79/100\n",
      "60000/60000 [==============================] - 3s 56us/step - loss: 0.0724 - acc: 0.9799 - val_loss: 0.0981 - val_acc: 0.9700\n",
      "Epoch 80/100\n",
      "60000/60000 [==============================] - 4s 59us/step - loss: 0.0716 - acc: 0.9804 - val_loss: 0.0974 - val_acc: 0.9699\n",
      "Epoch 81/100\n",
      "60000/60000 [==============================] - 3s 46us/step - loss: 0.0709 - acc: 0.9801 - val_loss: 0.0968 - val_acc: 0.9703\n",
      "Epoch 82/100\n",
      "60000/60000 [==============================] - 3s 42us/step - loss: 0.0702 - acc: 0.9807 - val_loss: 0.0966 - val_acc: 0.9708\n",
      "Epoch 83/100\n",
      "60000/60000 [==============================] - 3s 42us/step - loss: 0.0693 - acc: 0.9804 - val_loss: 0.0965 - val_acc: 0.9709\n",
      "Epoch 84/100\n",
      "60000/60000 [==============================] - 3s 43us/step - loss: 0.0688 - acc: 0.9810 - val_loss: 0.0959 - val_acc: 0.9711\n",
      "Epoch 85/100\n",
      "60000/60000 [==============================] - 2s 35us/step - loss: 0.0680 - acc: 0.9810 - val_loss: 0.0956 - val_acc: 0.9708\n",
      "Epoch 86/100\n",
      "60000/60000 [==============================] - 2s 35us/step - loss: 0.0672 - acc: 0.9812 - val_loss: 0.0954 - val_acc: 0.9705\n",
      "Epoch 87/100\n",
      "60000/60000 [==============================] - 2s 36us/step - loss: 0.0665 - acc: 0.9814 - val_loss: 0.0953 - val_acc: 0.9708\n",
      "Epoch 88/100\n",
      "60000/60000 [==============================] - 2s 36us/step - loss: 0.0658 - acc: 0.9816 - val_loss: 0.0946 - val_acc: 0.9711\n",
      "Epoch 89/100\n",
      "60000/60000 [==============================] - 2s 34us/step - loss: 0.0652 - acc: 0.9819 - val_loss: 0.0940 - val_acc: 0.9714\n",
      "Epoch 90/100\n",
      "60000/60000 [==============================] - 2s 34us/step - loss: 0.0646 - acc: 0.9819 - val_loss: 0.0938 - val_acc: 0.9714\n",
      "Epoch 91/100\n",
      "60000/60000 [==============================] - 2s 34us/step - loss: 0.0637 - acc: 0.9822 - val_loss: 0.0923 - val_acc: 0.9718\n",
      "Epoch 92/100\n",
      "60000/60000 [==============================] - 2s 34us/step - loss: 0.0633 - acc: 0.9822 - val_loss: 0.0925 - val_acc: 0.9705\n",
      "Epoch 93/100\n",
      "60000/60000 [==============================] - 2s 38us/step - loss: 0.0625 - acc: 0.9826 - val_loss: 0.0921 - val_acc: 0.9712\n",
      "Epoch 94/100\n",
      "60000/60000 [==============================] - ETA: 0s - loss: 0.0618 - acc: 0.982 - 2s 32us/step - loss: 0.0619 - acc: 0.9828 - val_loss: 0.0926 - val_acc: 0.9707\n",
      "Epoch 95/100\n",
      "60000/60000 [==============================] - 2s 37us/step - loss: 0.0614 - acc: 0.9829 - val_loss: 0.0925 - val_acc: 0.9714\n",
      "Epoch 96/100\n",
      "60000/60000 [==============================] - 2s 33us/step - loss: 0.0607 - acc: 0.9832 - val_loss: 0.0941 - val_acc: 0.9717\n",
      "Epoch 97/100\n",
      "60000/60000 [==============================] - 2s 34us/step - loss: 0.0601 - acc: 0.9835 - val_loss: 0.0918 - val_acc: 0.9709\n",
      "Epoch 98/100\n",
      "60000/60000 [==============================] - 2s 36us/step - loss: 0.0594 - acc: 0.9836 - val_loss: 0.0916 - val_acc: 0.9723\n",
      "Epoch 99/100\n",
      "60000/60000 [==============================] - 2s 35us/step - loss: 0.0588 - acc: 0.9837 - val_loss: 0.0921 - val_acc: 0.9712\n",
      "Epoch 100/100\n",
      "60000/60000 [==============================] - 2s 35us/step - loss: 0.0582 - acc: 0.9839 - val_loss: 0.0908 - val_acc: 0.9724\n",
      "Test error: 0.09079122754400595\n",
      "Test accuracy: 0.9724\n"
     ]
    }
   ],
   "source": [
    "model.compile(optimizer='sgd', loss='categorical_crossentropy', metrics=['accuracy']) \n",
    "history = model.fit(X_train, Y_train, batch_size=batch_size, nb_epoch=nb_epoch,verbose=1, validation_data=(X_test, Y_test)) \n",
    "score = model.evaluate(X_test, Y_test, verbose=0) \n",
    "print('Test error:', score[0]) \n",
    "print('Test accuracy:', score[1])"
   ]
  },
  {
   "cell_type": "code",
   "execution_count": 70,
   "metadata": {},
   "outputs": [
    {
     "data": {
      "image/png": "[encoded data removed]",
      "text/plain": [
       "<Figure size 432x288 with 1 Axes>"
      ]
     },
     "metadata": {
      "needs_background": "light"
     },
     "output_type": "display_data"
    }
   ],
   "source": [
    "plt.plot(history.history['acc'],'r')\n",
    "plt.plot(history.history['val_acc'],'b')\n",
    "plt.legend({'training accuracy':'r', 'validation accuracy': 'b'})\n",
    "plt.show()"
   ]
  },
  {
   "cell_type": "code",
   "execution_count": 71,
   "metadata": {},
   "outputs": [
    {
     "data": {
      "image/png": "[encoded data removed]",
      "text/plain": [
       "<Figure size 432x288 with 1 Axes>"
      ]
     },
     "metadata": {
      "needs_background": "light"
     },
     "output_type": "display_data"
    }
   ],
   "source": [
    "plt.plot(history.history['loss'],'r')\n",
    "plt.plot(history.history['val_loss'],'b')\n",
    "plt.legend({'training loss':'r', 'validation loss': 'b'})\n",
    "plt.show()"
   ]
  },
  {
   "cell_type": "markdown",
   "metadata": {},
   "source": [
    "# Inference "
   ]
  },
  {
   "cell_type": "code",
   "execution_count": 72,
   "metadata": {},
   "outputs": [],
   "source": [
    "predictions = model.predict_classes(X_test)"
   ]
  },
  {
   "cell_type": "code",
   "execution_count": 73,
   "metadata": {},
   "outputs": [
    {
     "data": {
      "text/plain": [
       "array([7, 2, 1, 0, 4, 1, 4, 9, 6, 9], dtype=int64)"
      ]
     },
     "execution_count": 73,
     "metadata": {},
     "output_type": "execute_result"
    }
   ],
   "source": [
    "predictions[0:10]"
   ]
  },
  {
   "cell_type": "code",
   "execution_count": 74,
   "metadata": {},
   "outputs": [
    {
     "data": {
      "text/plain": [
       "7"
      ]
     },
     "execution_count": 74,
     "metadata": {},
     "output_type": "execute_result"
    }
   ],
   "source": [
    "np.argmax(Y_test[0])"
   ]
  },
  {
   "cell_type": "code",
   "execution_count": 75,
   "metadata": {},
   "outputs": [],
   "source": [
    "y_test = np.argmax(Y_test, axis=1)"
   ]
  },
  {
   "cell_type": "code",
   "execution_count": 76,
   "metadata": {},
   "outputs": [
    {
     "data": {
      "text/plain": [
       "(10000, 10)"
      ]
     },
     "execution_count": 76,
     "metadata": {},
     "output_type": "execute_result"
    }
   ],
   "source": [
    "Y_test.shape"
   ]
  },
  {
   "cell_type": "code",
   "execution_count": 77,
   "metadata": {},
   "outputs": [
    {
     "data": {
      "text/plain": [
       "(10000,)"
      ]
     },
     "execution_count": 77,
     "metadata": {},
     "output_type": "execute_result"
    }
   ],
   "source": [
    "y_test.shape"
   ]
  },
  {
   "cell_type": "markdown",
   "metadata": {},
   "source": [
    "# Misclassified Images"
   ]
  },
  {
   "cell_type": "code",
   "execution_count": 78,
   "metadata": {},
   "outputs": [],
   "source": [
    "import numpy as np \n",
    "import matplotlib.pyplot as plt\n",
    "index = 0\n",
    "misclassifiedIndexes = []\n",
    "for label, predict in zip(y_test, predictions):\n",
    "    if label != predict: \n",
    "        misclassifiedIndexes.append(index)\n",
    "    index +=1"
   ]
  },
  {
   "cell_type": "code",
   "execution_count": 79,
   "metadata": {},
   "outputs": [
    {
     "data": {
      "image/png": "[encoded data removed]",
      "text/plain": [
       "<Figure size 1440x288 with 5 Axes>"
      ]
     },
     "metadata": {
      "needs_background": "light"
     },
     "output_type": "display_data"
    }
   ],
   "source": [
    "plt.figure(figsize=(20,4))\n",
    "for plotIndex, badIndex in enumerate(misclassifiedIndexes[0:5]):\n",
    "    plt.subplot(1, 5, plotIndex + 1)\n",
    "    plt.imshow(np.reshape(X_test[badIndex], (28,28)), cmap=plt.cm.gray)\n",
    "    plt.title('Predicted: {}, Actual: {}'.format(predictions[badIndex], y_test[badIndex]), fontsize = 15)"
   ]
  },
  {
   "cell_type": "markdown",
   "metadata": {},
   "source": [
    "# Confusion Matrix"
   ]
  },
  {
   "cell_type": "code",
   "execution_count": 80,
   "metadata": {},
   "outputs": [],
   "source": [
    "# we can also use a confusion matrix to visualize the performance of a classification model\n",
    "cm = confusion_matrix(y_test, predictions)\n",
    "# use this line to normalize the confusion matrix to show percentages instead of counts\n",
    "cm = cm.astype('float') / cm.sum(axis=1)[:, np.newaxis]\n"
   ]
  },
  {
   "cell_type": "code",
   "execution_count": 81,
   "metadata": {},
   "outputs": [
    {
     "data": {
      "image/png": "[encoded data removed]",
      "text/plain": [
       "<Figure size 576x576 with 2 Axes>"
      ]
     },
     "metadata": {
      "needs_background": "light"
     },
     "output_type": "display_data"
    }
   ],
   "source": [
    "# plot this matrix\n",
    "plt.figure(figsize=(8, 8))\n",
    "sns.heatmap(cm, annot=True, fmt=\".3f\", linewidths=.5, square = True, cmap = 'Blues_r');\n",
    "plt.ylabel('Actual label');\n",
    "plt.xlabel('Predicted label');\n",
    "all_sample_title = 'Overall Accuracy Score: {0}'.format(score)\n",
    "plt.title(all_sample_title, size = 15);\n",
    "plt.savefig('toy_Digits_ConfusionSeabornCodementor.png')\n",
    "plt.show();"
   ]
  }
 ],
 "metadata": {
  "kernelspec": {
   "display_name": "Python 3",
   "language": "python",
   "name": "python3"
  },
  "language_info": {
   "codemirror_mode": {
    "name": "ipython",
    "version": 3
   },
   "file_extension": ".py",
   "mimetype": "text/x-python",
   "name": "python",
   "nbconvert_exporter": "python",
   "pygments_lexer": "ipython3",
   "version": "3.7.5"
  }
 },
 "nbformat": 4,
 "nbformat_minor": 2
}
