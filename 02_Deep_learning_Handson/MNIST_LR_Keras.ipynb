{
 "cells": [
  {
   "cell_type": "code",
   "execution_count": 20,
   "metadata": {},
   "outputs": [],
   "source": [
    "from keras.datasets import mnist \n",
    "from keras.utils import np_utils \n",
    "from keras.models import Sequential \n",
    "from keras.layers import Dense, Activation\n",
    "from matplotlib import pyplot as plt # import pyplot alias plt for plotting \n",
    "from sklearn.metrics import confusion_matrix \n",
    "import seaborn as sns"
   ]
  },
  {
   "cell_type": "markdown",
   "metadata": {},
   "source": [
    "# Load datatset, preprocessing"
   ]
  },
  {
   "cell_type": "code",
   "execution_count": 5,
   "metadata": {},
   "outputs": [],
   "source": [
    "# the data, shuffled and split between train and test sets \n",
    "(X_train, y_train), (X_test, y_test) = mnist.load_data()"
   ]
  },
  {
   "cell_type": "code",
   "execution_count": 7,
   "metadata": {},
   "outputs": [
    {
     "data": {
      "text/plain": [
       "((60000, 28, 28), (60000,))"
      ]
     },
     "execution_count": 7,
     "metadata": {},
     "output_type": "execute_result"
    }
   ],
   "source": [
    "X_train.shape, y_train.shape"
   ]
  },
  {
   "cell_type": "code",
   "execution_count": 8,
   "metadata": {},
   "outputs": [],
   "source": [
    "input_dim = 784 #28*28 \n",
    "X_train = X_train.reshape(60000, input_dim) \n",
    "X_test = X_test.reshape(10000, input_dim) \n",
    "X_train = X_train.astype('float32') \n",
    "X_test = X_test.astype('float32') \n",
    "X_train /= 255 \n",
    "X_test /= 255"
   ]
  },
  {
   "cell_type": "code",
   "execution_count": 9,
   "metadata": {},
   "outputs": [],
   "source": [
    "output_dim = nb_classes = 10"
   ]
  },
  {
   "cell_type": "code",
   "execution_count": 10,
   "metadata": {},
   "outputs": [],
   "source": [
    "Y_train = np_utils.to_categorical(y_train, nb_classes) \n",
    "Y_test = np_utils.to_categorical(y_test, nb_classes)"
   ]
  },
  {
   "cell_type": "code",
   "execution_count": 11,
   "metadata": {},
   "outputs": [
    {
     "data": {
      "text/plain": [
       "(60000, 10)"
      ]
     },
     "execution_count": 11,
     "metadata": {},
     "output_type": "execute_result"
    }
   ],
   "source": [
    "Y_train.shape"
   ]
  },
  {
   "cell_type": "markdown",
   "metadata": {},
   "source": [
    "# Logistic Regression model in Keras\n"
   ]
  },
  {
   "cell_type": "code",
   "execution_count": 12,
   "metadata": {},
   "outputs": [],
   "source": [
    "model = Sequential() \n",
    "model.add(Dense(output_dim, input_dim=input_dim, activation='softmax')) \n",
    "batch_size = 128 \n",
    "nb_epoch = 100"
   ]
  },
  {
   "cell_type": "code",
   "execution_count": 13,
   "metadata": {},
   "outputs": [
    {
     "name": "stdout",
     "output_type": "stream",
     "text": [
      "Model: \"sequential_1\"\n",
      "_________________________________________________________________\n",
      "Layer (type)                 Output Shape              Param #   \n",
      "=================================================================\n",
      "dense_1 (Dense)              (None, 10)                7850      \n",
      "=================================================================\n",
      "Total params: 7,850\n",
      "Trainable params: 7,850\n",
      "Non-trainable params: 0\n",
      "_________________________________________________________________\n"
     ]
    }
   ],
   "source": [
    "model.summary()"
   ]
  },
  {
   "cell_type": "markdown",
   "metadata": {},
   "source": [
    "# Model Training"
   ]
  },
  {
   "cell_type": "code",
   "execution_count": 26,
   "metadata": {
    "scrolled": false
   },
   "outputs": [
    {
     "name": "stderr",
     "output_type": "stream",
     "text": [
      "c:\\users\\visitor.slsi\\appdata\\local\\programs\\python\\python37\\lib\\site-packages\\ipykernel_launcher.py:2: UserWarning: The `nb_epoch` argument in `fit` has been renamed `epochs`.\n",
      "  \n"
     ]
    },
    {
     "name": "stdout",
     "output_type": "stream",
     "text": [
      "Train on 60000 samples, validate on 10000 samples\n",
      "Epoch 1/100\n",
      "60000/60000 [==============================] - 1s 17us/step - loss: 0.2866 - accuracy: 0.9199 - val_loss: 0.2776 - val_accuracy: 0.9222\n",
      "Epoch 2/100\n",
      "60000/60000 [==============================] - 1s 14us/step - loss: 0.2781 - accuracy: 0.9221 - val_loss: 0.2749 - val_accuracy: 0.9236\n",
      "Epoch 3/100\n",
      "60000/60000 [==============================] - 1s 14us/step - loss: 0.2724 - accuracy: 0.9238 - val_loss: 0.2720 - val_accuracy: 0.9242\n",
      "Epoch 4/100\n",
      "60000/60000 [==============================] - 1s 15us/step - loss: 0.2678 - accuracy: 0.9255 - val_loss: 0.2677 - val_accuracy: 0.9248\n",
      "Epoch 5/100\n",
      "60000/60000 [==============================] - 1s 14us/step - loss: 0.2640 - accuracy: 0.9264 - val_loss: 0.2679 - val_accuracy: 0.9240\n",
      "Epoch 6/100\n",
      "60000/60000 [==============================] - 1s 16us/step - loss: 0.2614 - accuracy: 0.9275 - val_loss: 0.2647 - val_accuracy: 0.9255\n",
      "Epoch 7/100\n",
      "60000/60000 [==============================] - 1s 15us/step - loss: 0.2587 - accuracy: 0.9277 - val_loss: 0.2663 - val_accuracy: 0.9262\n",
      "Epoch 8/100\n",
      "60000/60000 [==============================] - 1s 15us/step - loss: 0.2565 - accuracy: 0.9286 - val_loss: 0.2634 - val_accuracy: 0.9267\n",
      "Epoch 9/100\n",
      "60000/60000 [==============================] - 1s 17us/step - loss: 0.2550 - accuracy: 0.9291 - val_loss: 0.2618 - val_accuracy: 0.9275\n",
      "Epoch 10/100\n",
      "60000/60000 [==============================] - 1s 16us/step - loss: 0.2532 - accuracy: 0.9301 - val_loss: 0.2635 - val_accuracy: 0.9259\n",
      "Epoch 11/100\n",
      "60000/60000 [==============================] - 1s 17us/step - loss: 0.2510 - accuracy: 0.9306 - val_loss: 0.2615 - val_accuracy: 0.9267\n",
      "Epoch 12/100\n",
      "60000/60000 [==============================] - 1s 15us/step - loss: 0.2500 - accuracy: 0.9309 - val_loss: 0.2610 - val_accuracy: 0.9266\n",
      "Epoch 13/100\n",
      "60000/60000 [==============================] - 1s 15us/step - loss: 0.2489 - accuracy: 0.9311 - val_loss: 0.2632 - val_accuracy: 0.9273\n",
      "Epoch 14/100\n",
      "60000/60000 [==============================] - 1s 17us/step - loss: 0.2477 - accuracy: 0.9312 - val_loss: 0.2616 - val_accuracy: 0.9283\n",
      "Epoch 15/100\n",
      "60000/60000 [==============================] - 1s 16us/step - loss: 0.2464 - accuracy: 0.9320 - val_loss: 0.2628 - val_accuracy: 0.9263\n",
      "Epoch 16/100\n",
      "60000/60000 [==============================] - 1s 16us/step - loss: 0.2459 - accuracy: 0.9325 - val_loss: 0.2630 - val_accuracy: 0.9269\n",
      "Epoch 17/100\n",
      "60000/60000 [==============================] - 1s 17us/step - loss: 0.2451 - accuracy: 0.9324 - val_loss: 0.2603 - val_accuracy: 0.9281\n",
      "Epoch 18/100\n",
      "60000/60000 [==============================] - 1s 17us/step - loss: 0.2439 - accuracy: 0.9325 - val_loss: 0.2626 - val_accuracy: 0.9266\n",
      "Epoch 19/100\n",
      "60000/60000 [==============================] - 1s 16us/step - loss: 0.2432 - accuracy: 0.9329 - val_loss: 0.2630 - val_accuracy: 0.9272\n",
      "Epoch 20/100\n",
      "60000/60000 [==============================] - 1s 15us/step - loss: 0.2427 - accuracy: 0.9331 - val_loss: 0.2629 - val_accuracy: 0.9258\n",
      "Epoch 21/100\n",
      "60000/60000 [==============================] - 1s 14us/step - loss: 0.2416 - accuracy: 0.9336 - val_loss: 0.2618 - val_accuracy: 0.9272\n",
      "Epoch 22/100\n",
      "60000/60000 [==============================] - 1s 14us/step - loss: 0.2410 - accuracy: 0.9337 - val_loss: 0.2618 - val_accuracy: 0.9275\n",
      "Epoch 23/100\n",
      "60000/60000 [==============================] - 1s 14us/step - loss: 0.2405 - accuracy: 0.9335 - val_loss: 0.2620 - val_accuracy: 0.9276\n",
      "Epoch 24/100\n",
      "60000/60000 [==============================] - 1s 14us/step - loss: 0.2402 - accuracy: 0.9333 - val_loss: 0.2652 - val_accuracy: 0.9267\n",
      "Epoch 25/100\n",
      "60000/60000 [==============================] - 1s 14us/step - loss: 0.2395 - accuracy: 0.9344 - val_loss: 0.2624 - val_accuracy: 0.9284\n",
      "Epoch 26/100\n",
      "60000/60000 [==============================] - 1s 15us/step - loss: 0.2387 - accuracy: 0.9342 - val_loss: 0.2637 - val_accuracy: 0.9273\n",
      "Epoch 27/100\n",
      "60000/60000 [==============================] - 1s 15us/step - loss: 0.2380 - accuracy: 0.9349 - val_loss: 0.2652 - val_accuracy: 0.9284\n",
      "Epoch 28/100\n",
      "60000/60000 [==============================] - 1s 15us/step - loss: 0.2378 - accuracy: 0.9348 - val_loss: 0.2649 - val_accuracy: 0.9272\n",
      "Epoch 29/100\n",
      "60000/60000 [==============================] - 1s 16us/step - loss: 0.2372 - accuracy: 0.9349 - val_loss: 0.2632 - val_accuracy: 0.9262\n",
      "Epoch 30/100\n",
      "60000/60000 [==============================] - 1s 16us/step - loss: 0.2367 - accuracy: 0.9352 - val_loss: 0.2634 - val_accuracy: 0.9273\n",
      "Epoch 31/100\n",
      "60000/60000 [==============================] - 1s 14us/step - loss: 0.2365 - accuracy: 0.9344 - val_loss: 0.2643 - val_accuracy: 0.9270\n",
      "Epoch 32/100\n",
      "60000/60000 [==============================] - 1s 15us/step - loss: 0.2359 - accuracy: 0.9347 - val_loss: 0.2669 - val_accuracy: 0.9268\n",
      "Epoch 33/100\n",
      "60000/60000 [==============================] - 1s 15us/step - loss: 0.2357 - accuracy: 0.9352 - val_loss: 0.2668 - val_accuracy: 0.9274\n",
      "Epoch 34/100\n",
      "60000/60000 [==============================] - 1s 15us/step - loss: 0.2354 - accuracy: 0.9350 - val_loss: 0.2682 - val_accuracy: 0.9253\n",
      "Epoch 35/100\n",
      "60000/60000 [==============================] - 1s 16us/step - loss: 0.2349 - accuracy: 0.9352 - val_loss: 0.2691 - val_accuracy: 0.9271\n",
      "Epoch 36/100\n",
      "60000/60000 [==============================] - 1s 15us/step - loss: 0.2346 - accuracy: 0.9354 - val_loss: 0.2666 - val_accuracy: 0.9279\n",
      "Epoch 37/100\n",
      "60000/60000 [==============================] - 1s 15us/step - loss: 0.2338 - accuracy: 0.9357 - val_loss: 0.2662 - val_accuracy: 0.9283\n",
      "Epoch 38/100\n",
      "60000/60000 [==============================] - 1s 15us/step - loss: 0.2336 - accuracy: 0.9355 - val_loss: 0.2668 - val_accuracy: 0.9276\n",
      "Epoch 39/100\n",
      "60000/60000 [==============================] - 1s 16us/step - loss: 0.2334 - accuracy: 0.9358 - val_loss: 0.2668 - val_accuracy: 0.9269\n",
      "Epoch 40/100\n",
      "60000/60000 [==============================] - 1s 16us/step - loss: 0.2333 - accuracy: 0.9356 - val_loss: 0.2671 - val_accuracy: 0.9270\n",
      "Epoch 41/100\n",
      "60000/60000 [==============================] - ETA: 0s - loss: 0.2331 - accuracy: 0.93 - 1s 16us/step - loss: 0.2332 - accuracy: 0.9351 - val_loss: 0.2666 - val_accuracy: 0.9276\n",
      "Epoch 42/100\n",
      "60000/60000 [==============================] - 1s 16us/step - loss: 0.2324 - accuracy: 0.9359 - val_loss: 0.2680 - val_accuracy: 0.9274\n",
      "Epoch 43/100\n",
      "60000/60000 [==============================] - 1s 15us/step - loss: 0.2322 - accuracy: 0.9363 - val_loss: 0.2673 - val_accuracy: 0.9277\n",
      "Epoch 44/100\n",
      "60000/60000 [==============================] - 1s 16us/step - loss: 0.2318 - accuracy: 0.9366 - val_loss: 0.2686 - val_accuracy: 0.9279\n",
      "Epoch 45/100\n",
      "60000/60000 [==============================] - 1s 16us/step - loss: 0.2315 - accuracy: 0.9364 - val_loss: 0.2700 - val_accuracy: 0.9264\n",
      "Epoch 46/100\n",
      "60000/60000 [==============================] - 1s 15us/step - loss: 0.2315 - accuracy: 0.9361 - val_loss: 0.2678 - val_accuracy: 0.9292\n",
      "Epoch 47/100\n",
      "60000/60000 [==============================] - 1s 14us/step - loss: 0.2310 - accuracy: 0.9368 - val_loss: 0.2684 - val_accuracy: 0.9270\n",
      "Epoch 48/100\n",
      "60000/60000 [==============================] - 1s 14us/step - loss: 0.2309 - accuracy: 0.9359 - val_loss: 0.2691 - val_accuracy: 0.9280\n",
      "Epoch 49/100\n",
      "60000/60000 [==============================] - 1s 14us/step - loss: 0.2305 - accuracy: 0.9366 - val_loss: 0.2701 - val_accuracy: 0.9262\n",
      "Epoch 50/100\n",
      "60000/60000 [==============================] - 1s 14us/step - loss: 0.2300 - accuracy: 0.9364 - val_loss: 0.2704 - val_accuracy: 0.9282\n",
      "Epoch 51/100\n",
      "60000/60000 [==============================] - 1s 14us/step - loss: 0.2301 - accuracy: 0.9368 - val_loss: 0.2703 - val_accuracy: 0.9278\n",
      "Epoch 52/100\n",
      "60000/60000 [==============================] - 1s 14us/step - loss: 0.2299 - accuracy: 0.9368 - val_loss: 0.2696 - val_accuracy: 0.9276\n",
      "Epoch 53/100\n",
      "60000/60000 [==============================] - 1s 14us/step - loss: 0.2296 - accuracy: 0.9365 - val_loss: 0.2721 - val_accuracy: 0.9271\n",
      "Epoch 54/100\n",
      "60000/60000 [==============================] - 1s 14us/step - loss: 0.2294 - accuracy: 0.9365 - val_loss: 0.2703 - val_accuracy: 0.9279\n",
      "Epoch 55/100\n",
      "60000/60000 [==============================] - 1s 14us/step - loss: 0.2291 - accuracy: 0.9364 - val_loss: 0.2702 - val_accuracy: 0.9286\n",
      "Epoch 56/100\n",
      "60000/60000 [==============================] - 1s 14us/step - loss: 0.2288 - accuracy: 0.9371 - val_loss: 0.2695 - val_accuracy: 0.9278\n",
      "Epoch 57/100\n",
      "60000/60000 [==============================] - 1s 14us/step - loss: 0.2290 - accuracy: 0.9362 - val_loss: 0.2719 - val_accuracy: 0.9270\n",
      "Epoch 58/100\n",
      "60000/60000 [==============================] - 1s 15us/step - loss: 0.2283 - accuracy: 0.9369 - val_loss: 0.2705 - val_accuracy: 0.9289\n",
      "Epoch 59/100\n",
      "60000/60000 [==============================] - 1s 15us/step - loss: 0.2284 - accuracy: 0.9372 - val_loss: 0.2738 - val_accuracy: 0.9268\n",
      "Epoch 60/100\n",
      "60000/60000 [==============================] - 1s 15us/step - loss: 0.2283 - accuracy: 0.9371 - val_loss: 0.2718 - val_accuracy: 0.9267\n",
      "Epoch 61/100\n",
      "60000/60000 [==============================] - 1s 15us/step - loss: 0.2280 - accuracy: 0.9372 - val_loss: 0.2746 - val_accuracy: 0.9271\n",
      "Epoch 62/100\n",
      "60000/60000 [==============================] - 1s 14us/step - loss: 0.2277 - accuracy: 0.9374 - val_loss: 0.2704 - val_accuracy: 0.9285\n",
      "Epoch 63/100\n",
      "60000/60000 [==============================] - 1s 14us/step - loss: 0.2275 - accuracy: 0.9374 - val_loss: 0.2723 - val_accuracy: 0.9281\n",
      "Epoch 64/100\n",
      "60000/60000 [==============================] - 1s 14us/step - loss: 0.2273 - accuracy: 0.9371 - val_loss: 0.2754 - val_accuracy: 0.9278\n",
      "Epoch 65/100\n",
      "60000/60000 [==============================] - 1s 14us/step - loss: 0.2270 - accuracy: 0.9373 - val_loss: 0.2739 - val_accuracy: 0.9283\n",
      "Epoch 66/100\n",
      "60000/60000 [==============================] - 1s 14us/step - loss: 0.2269 - accuracy: 0.9373 - val_loss: 0.2737 - val_accuracy: 0.9279\n",
      "Epoch 67/100\n",
      "60000/60000 [==============================] - 1s 14us/step - loss: 0.2267 - accuracy: 0.9380 - val_loss: 0.2743 - val_accuracy: 0.9265\n",
      "Epoch 68/100\n",
      "60000/60000 [==============================] - 1s 14us/step - loss: 0.2269 - accuracy: 0.9371 - val_loss: 0.2745 - val_accuracy: 0.9280\n",
      "Epoch 69/100\n",
      "60000/60000 [==============================] - 1s 16us/step - loss: 0.2263 - accuracy: 0.9373 - val_loss: 0.2767 - val_accuracy: 0.9270\n",
      "Epoch 70/100\n",
      "60000/60000 [==============================] - 1s 15us/step - loss: 0.2264 - accuracy: 0.9371 - val_loss: 0.2744 - val_accuracy: 0.9266\n",
      "Epoch 71/100\n",
      "60000/60000 [==============================] - 1s 15us/step - loss: 0.2264 - accuracy: 0.9376 - val_loss: 0.2762 - val_accuracy: 0.9268\n",
      "Epoch 72/100\n",
      "60000/60000 [==============================] - 1s 15us/step - loss: 0.2264 - accuracy: 0.9376 - val_loss: 0.2740 - val_accuracy: 0.9276\n",
      "Epoch 73/100\n",
      "60000/60000 [==============================] - 1s 15us/step - loss: 0.2259 - accuracy: 0.9378 - val_loss: 0.2767 - val_accuracy: 0.9272\n",
      "Epoch 74/100\n",
      "60000/60000 [==============================] - 1s 14us/step - loss: 0.2257 - accuracy: 0.9373 - val_loss: 0.2763 - val_accuracy: 0.9275\n",
      "Epoch 75/100\n",
      "60000/60000 [==============================] - 1s 17us/step - loss: 0.2256 - accuracy: 0.9381 - val_loss: 0.2760 - val_accuracy: 0.9267\n",
      "Epoch 76/100\n",
      "60000/60000 [==============================] - 1s 15us/step - loss: 0.2255 - accuracy: 0.9380 - val_loss: 0.2786 - val_accuracy: 0.9263\n",
      "Epoch 77/100\n",
      "60000/60000 [==============================] - 1s 14us/step - loss: 0.2254 - accuracy: 0.9373 - val_loss: 0.2781 - val_accuracy: 0.9278\n",
      "Epoch 78/100\n",
      "60000/60000 [==============================] - 1s 15us/step - loss: 0.2253 - accuracy: 0.9382 - val_loss: 0.2760 - val_accuracy: 0.9283\n",
      "Epoch 79/100\n",
      "60000/60000 [==============================] - 1s 16us/step - loss: 0.2253 - accuracy: 0.9377 - val_loss: 0.2763 - val_accuracy: 0.9267\n",
      "Epoch 80/100\n",
      "60000/60000 [==============================] - 1s 15us/step - loss: 0.2245 - accuracy: 0.9380 - val_loss: 0.2775 - val_accuracy: 0.9278\n",
      "Epoch 81/100\n",
      "60000/60000 [==============================] - 1s 16us/step - loss: 0.2249 - accuracy: 0.9381 - val_loss: 0.2760 - val_accuracy: 0.9282\n",
      "Epoch 82/100\n",
      "60000/60000 [==============================] - 1s 14us/step - loss: 0.2248 - accuracy: 0.9380 - val_loss: 0.2771 - val_accuracy: 0.9264\n",
      "Epoch 83/100\n",
      "60000/60000 [==============================] - 1s 18us/step - loss: 0.2245 - accuracy: 0.9380 - val_loss: 0.2774 - val_accuracy: 0.9279\n",
      "Epoch 84/100\n",
      "60000/60000 [==============================] - 1s 15us/step - loss: 0.2246 - accuracy: 0.9381 - val_loss: 0.2793 - val_accuracy: 0.9272\n",
      "Epoch 85/100\n",
      "60000/60000 [==============================] - 1s 15us/step - loss: 0.2239 - accuracy: 0.9380 - val_loss: 0.2786 - val_accuracy: 0.9278\n",
      "Epoch 86/100\n",
      "60000/60000 [==============================] - 1s 16us/step - loss: 0.2242 - accuracy: 0.9378 - val_loss: 0.2776 - val_accuracy: 0.9279\n",
      "Epoch 87/100\n",
      "60000/60000 [==============================] - 1s 14us/step - loss: 0.2242 - accuracy: 0.9378 - val_loss: 0.2787 - val_accuracy: 0.9278\n",
      "Epoch 88/100\n",
      "60000/60000 [==============================] - 1s 16us/step - loss: 0.2238 - accuracy: 0.9381 - val_loss: 0.2787 - val_accuracy: 0.9273\n",
      "Epoch 89/100\n",
      "60000/60000 [==============================] - 1s 15us/step - loss: 0.2237 - accuracy: 0.9378 - val_loss: 0.2778 - val_accuracy: 0.9275\n",
      "Epoch 90/100\n",
      "60000/60000 [==============================] - 1s 14us/step - loss: 0.2235 - accuracy: 0.9382 - val_loss: 0.2777 - val_accuracy: 0.9272\n",
      "Epoch 91/100\n",
      "60000/60000 [==============================] - 1s 15us/step - loss: 0.2233 - accuracy: 0.9384 - val_loss: 0.2800 - val_accuracy: 0.9276\n",
      "Epoch 92/100\n",
      "60000/60000 [==============================] - 1s 15us/step - loss: 0.2232 - accuracy: 0.9377 - val_loss: 0.2791 - val_accuracy: 0.9268\n",
      "Epoch 93/100\n",
      "60000/60000 [==============================] - 1s 16us/step - loss: 0.2233 - accuracy: 0.9384 - val_loss: 0.2794 - val_accuracy: 0.9286\n",
      "Epoch 94/100\n",
      "60000/60000 [==============================] - 1s 16us/step - loss: 0.2232 - accuracy: 0.9384 - val_loss: 0.2801 - val_accuracy: 0.9269\n",
      "Epoch 95/100\n",
      "60000/60000 [==============================] - 1s 15us/step - loss: 0.2232 - accuracy: 0.9385 - val_loss: 0.2805 - val_accuracy: 0.9285\n",
      "Epoch 96/100\n",
      "60000/60000 [==============================] - 1s 15us/step - loss: 0.2232 - accuracy: 0.9383 - val_loss: 0.2798 - val_accuracy: 0.9274\n",
      "Epoch 97/100\n",
      "60000/60000 [==============================] - 1s 16us/step - loss: 0.2227 - accuracy: 0.9384 - val_loss: 0.2801 - val_accuracy: 0.9290\n",
      "Epoch 98/100\n",
      "60000/60000 [==============================] - 1s 16us/step - loss: 0.2227 - accuracy: 0.9384 - val_loss: 0.2800 - val_accuracy: 0.9283\n",
      "Epoch 99/100\n",
      "60000/60000 [==============================] - 1s 16us/step - loss: 0.2224 - accuracy: 0.9389 - val_loss: 0.2807 - val_accuracy: 0.9261\n",
      "Epoch 100/100\n",
      "60000/60000 [==============================] - 1s 17us/step - loss: 0.2223 - accuracy: 0.9385 - val_loss: 0.2814 - val_accuracy: 0.9284\n",
      "Test error: 0.2814356938943267\n",
      "Test accuracy: 0.9283999800682068\n"
     ]
    }
   ],
   "source": [
    "model.compile(optimizer='adam', loss='categorical_crossentropy', metrics=['accuracy']) \n",
    "history = model.fit(X_train, Y_train, batch_size=batch_size, nb_epoch=nb_epoch,verbose=1, validation_data=(X_test, Y_test)) \n",
    "score = model.evaluate(X_test, Y_test, verbose=0) \n",
    "print('Test error:', score[0]) \n",
    "print('Test accuracy:', score[1])"
   ]
  },
  {
   "cell_type": "code",
   "execution_count": 28,
   "metadata": {},
   "outputs": [
    {
     "ename": "KeyError",
     "evalue": "'acc'",
     "output_type": "error",
     "traceback": [
      "\u001b[1;31m---------------------------------------------------------------------------\u001b[0m",
      "\u001b[1;31mKeyError\u001b[0m                                  Traceback (most recent call last)",
      "\u001b[1;32m<ipython-input-28-43cd928a2e85>\u001b[0m in \u001b[0;36m<module>\u001b[1;34m\u001b[0m\n\u001b[1;32m----> 1\u001b[1;33m \u001b[0mplt\u001b[0m\u001b[1;33m.\u001b[0m\u001b[0mplot\u001b[0m\u001b[1;33m(\u001b[0m\u001b[0mhistory\u001b[0m\u001b[1;33m.\u001b[0m\u001b[0mhistory\u001b[0m\u001b[1;33m[\u001b[0m\u001b[1;34m'acc'\u001b[0m\u001b[1;33m]\u001b[0m\u001b[1;33m,\u001b[0m\u001b[1;34m'r'\u001b[0m\u001b[1;33m)\u001b[0m\u001b[1;33m\u001b[0m\u001b[1;33m\u001b[0m\u001b[0m\n\u001b[0m\u001b[0;32m      2\u001b[0m \u001b[0mplt\u001b[0m\u001b[1;33m.\u001b[0m\u001b[0mplot\u001b[0m\u001b[1;33m(\u001b[0m\u001b[0mhistory\u001b[0m\u001b[1;33m.\u001b[0m\u001b[0mhistory\u001b[0m\u001b[1;33m[\u001b[0m\u001b[1;34m'val_acc'\u001b[0m\u001b[1;33m]\u001b[0m\u001b[1;33m,\u001b[0m\u001b[1;34m'b'\u001b[0m\u001b[1;33m)\u001b[0m\u001b[1;33m\u001b[0m\u001b[1;33m\u001b[0m\u001b[0m\n\u001b[0;32m      3\u001b[0m \u001b[0mplt\u001b[0m\u001b[1;33m.\u001b[0m\u001b[0mlegend\u001b[0m\u001b[1;33m(\u001b[0m\u001b[1;33m{\u001b[0m\u001b[1;34m'training accuracy'\u001b[0m\u001b[1;33m:\u001b[0m\u001b[1;34m'r'\u001b[0m\u001b[1;33m,\u001b[0m \u001b[1;34m'validation accuracy'\u001b[0m\u001b[1;33m:\u001b[0m \u001b[1;34m'b'\u001b[0m\u001b[1;33m}\u001b[0m\u001b[1;33m)\u001b[0m\u001b[1;33m\u001b[0m\u001b[1;33m\u001b[0m\u001b[0m\n\u001b[0;32m      4\u001b[0m \u001b[0mplt\u001b[0m\u001b[1;33m.\u001b[0m\u001b[0mshow\u001b[0m\u001b[1;33m(\u001b[0m\u001b[1;33m)\u001b[0m\u001b[1;33m\u001b[0m\u001b[1;33m\u001b[0m\u001b[0m\n",
      "\u001b[1;31mKeyError\u001b[0m: 'acc'"
     ]
    }
   ],
   "source": [
    "plt.plot(history.history['acc'],'r')\n",
    "plt.plot(history.history['val_acc'],'b')\n",
    "plt.legend({'training accuracy':'r', 'validation accuracy': 'b'})\n",
    "plt.show()"
   ]
  },
  {
   "cell_type": "code",
   "execution_count": 29,
   "metadata": {},
   "outputs": [
    {
     "ename": "KeyError",
     "evalue": "'acc'",
     "output_type": "error",
     "traceback": [
      "\u001b[1;31m---------------------------------------------------------------------------\u001b[0m",
      "\u001b[1;31mKeyError\u001b[0m                                  Traceback (most recent call last)",
      "\u001b[1;32m<ipython-input-29-43cd928a2e85>\u001b[0m in \u001b[0;36m<module>\u001b[1;34m\u001b[0m\n\u001b[1;32m----> 1\u001b[1;33m \u001b[0mplt\u001b[0m\u001b[1;33m.\u001b[0m\u001b[0mplot\u001b[0m\u001b[1;33m(\u001b[0m\u001b[0mhistory\u001b[0m\u001b[1;33m.\u001b[0m\u001b[0mhistory\u001b[0m\u001b[1;33m[\u001b[0m\u001b[1;34m'acc'\u001b[0m\u001b[1;33m]\u001b[0m\u001b[1;33m,\u001b[0m\u001b[1;34m'r'\u001b[0m\u001b[1;33m)\u001b[0m\u001b[1;33m\u001b[0m\u001b[1;33m\u001b[0m\u001b[0m\n\u001b[0m\u001b[0;32m      2\u001b[0m \u001b[0mplt\u001b[0m\u001b[1;33m.\u001b[0m\u001b[0mplot\u001b[0m\u001b[1;33m(\u001b[0m\u001b[0mhistory\u001b[0m\u001b[1;33m.\u001b[0m\u001b[0mhistory\u001b[0m\u001b[1;33m[\u001b[0m\u001b[1;34m'val_acc'\u001b[0m\u001b[1;33m]\u001b[0m\u001b[1;33m,\u001b[0m\u001b[1;34m'b'\u001b[0m\u001b[1;33m)\u001b[0m\u001b[1;33m\u001b[0m\u001b[1;33m\u001b[0m\u001b[0m\n\u001b[0;32m      3\u001b[0m \u001b[0mplt\u001b[0m\u001b[1;33m.\u001b[0m\u001b[0mlegend\u001b[0m\u001b[1;33m(\u001b[0m\u001b[1;33m{\u001b[0m\u001b[1;34m'training accuracy'\u001b[0m\u001b[1;33m:\u001b[0m\u001b[1;34m'r'\u001b[0m\u001b[1;33m,\u001b[0m \u001b[1;34m'validation accuracy'\u001b[0m\u001b[1;33m:\u001b[0m \u001b[1;34m'b'\u001b[0m\u001b[1;33m}\u001b[0m\u001b[1;33m)\u001b[0m\u001b[1;33m\u001b[0m\u001b[1;33m\u001b[0m\u001b[0m\n\u001b[0;32m      4\u001b[0m \u001b[0mplt\u001b[0m\u001b[1;33m.\u001b[0m\u001b[0mshow\u001b[0m\u001b[1;33m(\u001b[0m\u001b[1;33m)\u001b[0m\u001b[1;33m\u001b[0m\u001b[1;33m\u001b[0m\u001b[0m\n",
      "\u001b[1;31mKeyError\u001b[0m: 'acc'"
     ]
    }
   ],
   "source": [
    "plt.plot(history.history['acc'],'r')\n",
    "plt.plot(history.history['val_acc'],'b')\n",
    "plt.legend({'training accuracy':'r', 'validation accuracy': 'b'})\n",
    "plt.show()"
   ]
  },
  {
   "cell_type": "code",
   "execution_count": 37,
   "metadata": {},
   "outputs": [
    {
     "data": {
      "image/png": "[encoded data removed]",
      "text/plain": [
       "<Figure size 432x288 with 1 Axes>"
      ]
     },
     "metadata": {
      "needs_background": "light"
     },
     "output_type": "display_data"
    }
   ],
   "source": [
    "plt.plot(history.history['loss'],'r')\n",
    "plt.plot(history.history['val_loss'],'b')\n",
    "plt.legend({'training loss':'r', 'validation loss': 'b'})\n",
    "plt.show()"
   ]
  },
  {
   "cell_type": "markdown",
   "metadata": {},
   "source": [
    "# Inference "
   ]
  },
  {
   "cell_type": "code",
   "execution_count": 17,
   "metadata": {},
   "outputs": [],
   "source": [
    "predictions = model.predict_classes(X_test)"
   ]
  },
  {
   "cell_type": "code",
   "execution_count": 18,
   "metadata": {},
   "outputs": [
    {
     "data": {
      "text/plain": [
       "array([7, 2, 1, 0, 4, 1, 4, 9, 6, 9], dtype=int64)"
      ]
     },
     "execution_count": 18,
     "metadata": {},
     "output_type": "execute_result"
    }
   ],
   "source": [
    "predictions[0:10]"
   ]
  },
  {
   "cell_type": "code",
   "execution_count": 44,
   "metadata": {},
   "outputs": [
    {
     "data": {
      "text/plain": [
       "7"
      ]
     },
     "execution_count": 44,
     "metadata": {},
     "output_type": "execute_result"
    }
   ],
   "source": [
    "np.argmax(Y_test[0])"
   ]
  },
  {
   "cell_type": "code",
   "execution_count": 51,
   "metadata": {},
   "outputs": [],
   "source": [
    "y_test = np.argmax(Y_test, axis=1)"
   ]
  },
  {
   "cell_type": "code",
   "execution_count": 50,
   "metadata": {},
   "outputs": [
    {
     "data": {
      "text/plain": [
       "(10000, 10)"
      ]
     },
     "execution_count": 50,
     "metadata": {},
     "output_type": "execute_result"
    }
   ],
   "source": [
    "Y_test.shape"
   ]
  },
  {
   "cell_type": "code",
   "execution_count": 52,
   "metadata": {},
   "outputs": [
    {
     "data": {
      "text/plain": [
       "(10000,)"
      ]
     },
     "execution_count": 52,
     "metadata": {},
     "output_type": "execute_result"
    }
   ],
   "source": [
    "y_test.shape"
   ]
  },
  {
   "cell_type": "markdown",
   "metadata": {},
   "source": [
    "# Misclassified Images"
   ]
  },
  {
   "cell_type": "code",
   "execution_count": 21,
   "metadata": {},
   "outputs": [],
   "source": [
    "import numpy as np \n",
    "import matplotlib.pyplot as plt\n",
    "index = 0\n",
    "misclassifiedIndexes = []\n",
    "for label, predict in zip(y_test, predictions):\n",
    "    if label != predict: \n",
    "        misclassifiedIndexes.append(index)\n",
    "    index +=1"
   ]
  },
  {
   "cell_type": "code",
   "execution_count": 55,
   "metadata": {},
   "outputs": [
    {
     "data": {
      "image/png": "[encoded data removed]",
      "text/plain": [
       "<Figure size 1440x288 with 5 Axes>"
      ]
     },
     "metadata": {
      "needs_background": "light"
     },
     "output_type": "display_data"
    }
   ],
   "source": [
    "plt.figure(figsize=(20,4))\n",
    "for plotIndex, badIndex in enumerate(misclassifiedIndexes[0:5]):\n",
    "    plt.subplot(1, 5, plotIndex + 1)\n",
    "    plt.imshow(np.reshape(X_test[badIndex], (28,28)), cmap=plt.cm.gray)\n",
    "    plt.title('Predicted: {}, Actual: {}'.format(predictions[badIndex], y_test[badIndex]), fontsize = 15)"
   ]
  },
  {
   "cell_type": "markdown",
   "metadata": {},
   "source": [
    "# Confusion Matrix"
   ]
  },
  {
   "cell_type": "code",
   "execution_count": 22,
   "metadata": {},
   "outputs": [],
   "source": [
    "# we can also use a confusion matrix to visualize the performance of a classification model\n",
    "cm = confusion_matrix(y_test, predictions)\n",
    "# use this line to normalize the confusion matrix to show percentages instead of counts\n",
    "cm = cm.astype('float') / cm.sum(axis=1)[:, np.newaxis]\n"
   ]
  },
  {
   "cell_type": "code",
   "execution_count": 25,
   "metadata": {},
   "outputs": [
    {
     "data": {
      "image/png": "[encoded data removed]",
      "text/plain": [
       "<Figure size 576x576 with 2 Axes>"
      ]
     },
     "metadata": {
      "needs_background": "light"
     },
     "output_type": "display_data"
    }
   ],
   "source": [
    "# plot this matrix\n",
    "plt.figure(figsize=(8, 8))\n",
    "sns.heatmap(cm, annot=True, fmt=\".3f\", linewidths=.5, square = True, cmap = 'Blues_r');\n",
    "plt.ylabel('Actual label');\n",
    "plt.xlabel('Predicted label');\n",
    "all_sample_title = 'Overall Accuracy Score: {0}'.format(score)\n",
    "plt.title(all_sample_title, size = 15);\n",
    "plt.savefig('toy_Digits_ConfusionSeabornCodementor.png')\n",
    "plt.show();"
   ]
  },
  {
   "cell_type": "code",
   "execution_count": null,
   "metadata": {},
   "outputs": [],
   "source": []
  }
 ],
 "metadata": {
  "kernelspec": {
   "display_name": "Python 3",
   "language": "python",
   "name": "python3"
  },
  "language_info": {
   "codemirror_mode": {
    "name": "ipython",
    "version": 3
   },
   "file_extension": ".py",
   "mimetype": "text/x-python",
   "name": "python",
   "nbconvert_exporter": "python",
   "pygments_lexer": "ipython3",
   "version": "3.7.5"
  }
 },
 "nbformat": 4,
 "nbformat_minor": 2
}
