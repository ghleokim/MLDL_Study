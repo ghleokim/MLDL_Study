{
 "cells": [
  {
   "cell_type": "markdown",
   "metadata": {},
   "source": [
    "# MNIST_Keras_Logistic Regression"
   ]
  },
  {
   "cell_type": "code",
   "execution_count": 2,
   "metadata": {},
   "outputs": [],
   "source": [
    "from keras.datasets import mnist\n",
    "from keras.utils import np_utils\n",
    "from keras.models import Sequential\n",
    "from keras.layers import Dense, Activation\n",
    "from matplotlib import pyplot as plt\n",
    "from sklearn.metrics import confusion_matrix\n",
    "import numpy as np\n",
    "import seaborn as sns"
   ]
  },
  {
   "cell_type": "markdown",
   "metadata": {},
   "source": [
    "## Loading data, Preprocessing"
   ]
  },
  {
   "cell_type": "code",
   "execution_count": 3,
   "metadata": {},
   "outputs": [
    {
     "name": "stdout",
     "output_type": "stream",
     "text": [
      "(60000, 28, 28) (60000,) (10000, 28, 28) (10000,)\n"
     ]
    }
   ],
   "source": [
    "(X_train, y_train), (X_test, y_test) = mnist.load_data()\n",
    "\n",
    "print(X_train.shape, y_train.shape, X_test.shape, y_test.shape)"
   ]
  },
  {
   "cell_type": "code",
   "execution_count": 4,
   "metadata": {},
   "outputs": [],
   "source": [
    "input_dim = 28*28\n",
    "X_train = X_train.reshape(60000, input_dim)\n",
    "X_test = X_test.reshape(10000, input_dim)\n",
    "X_train = X_train.astype('float32')\n",
    "X_test = X_test.astype('float32')\n",
    "X_train /= 255\n",
    "X_test /= 255"
   ]
  },
  {
   "cell_type": "code",
   "execution_count": 5,
   "metadata": {},
   "outputs": [],
   "source": [
    "output_dim = nb_classes = 10"
   ]
  },
  {
   "cell_type": "code",
   "execution_count": 6,
   "metadata": {},
   "outputs": [],
   "source": [
    "Y_train = np_utils.to_categorical(y_train, nb_classes)\n",
    "Y_test = np_utils.to_categorical(y_test, nb_classes)"
   ]
  },
  {
   "cell_type": "code",
   "execution_count": 8,
   "metadata": {},
   "outputs": [
    {
     "data": {
      "text/plain": [
       "(60000, 10)"
      ]
     },
     "execution_count": 8,
     "metadata": {},
     "output_type": "execute_result"
    }
   ],
   "source": [
    "Y_train.shape"
   ]
  },
  {
   "cell_type": "markdown",
   "metadata": {},
   "source": [
    "## LogisticRegression w Keras"
   ]
  },
  {
   "cell_type": "code",
   "execution_count": 29,
   "metadata": {},
   "outputs": [],
   "source": [
    "model = Sequential()\n",
    "model.add(Dense(output_dim, input_dim=input_dim, activation='softmax'))\n",
    "batch_size = 128\n",
    "nb_epoch = 100"
   ]
  },
  {
   "cell_type": "code",
   "execution_count": 30,
   "metadata": {},
   "outputs": [
    {
     "name": "stdout",
     "output_type": "stream",
     "text": [
      "Model: \"sequential_3\"\n",
      "_________________________________________________________________\n",
      "Layer (type)                 Output Shape              Param #   \n",
      "=================================================================\n",
      "dense_3 (Dense)              (None, 10)                7850      \n",
      "=================================================================\n",
      "Total params: 7,850\n",
      "Trainable params: 7,850\n",
      "Non-trainable params: 0\n",
      "_________________________________________________________________\n"
     ]
    }
   ],
   "source": [
    "model.summary()"
   ]
  },
  {
   "cell_type": "markdown",
   "metadata": {},
   "source": [
    "## Model Training"
   ]
  },
  {
   "cell_type": "code",
   "execution_count": 31,
   "metadata": {
    "scrolled": true
   },
   "outputs": [
    {
     "name": "stderr",
     "output_type": "stream",
     "text": [
      "c:\\users\\visitor.slsi\\appdata\\local\\programs\\python\\python37\\lib\\site-packages\\ipykernel_launcher.py:2: UserWarning: The `nb_epoch` argument in `fit` has been renamed `epochs`.\n",
      "  \n"
     ]
    },
    {
     "name": "stdout",
     "output_type": "stream",
     "text": [
      "Train on 60000 samples, validate on 10000 samples\n",
      "Epoch 1/100\n",
      "60000/60000 [==============================] - 2s 28us/step - loss: 1.2640 - accuracy: 0.7078 - val_loss: 0.8075 - val_accuracy: 0.8334\n",
      "Epoch 2/100\n",
      "60000/60000 [==============================] - 1s 21us/step - loss: 0.7121 - accuracy: 0.8428 - val_loss: 0.6049 - val_accuracy: 0.8646\n",
      "Epoch 3/100\n",
      "60000/60000 [==============================] - 1s 22us/step - loss: 0.5843 - accuracy: 0.8611 - val_loss: 0.5243 - val_accuracy: 0.8732\n",
      "Epoch 4/100\n",
      "60000/60000 [==============================] - 1s 22us/step - loss: 0.5231 - accuracy: 0.8703 - val_loss: 0.4791 - val_accuracy: 0.8795\n",
      "Epoch 5/100\n",
      "60000/60000 [==============================] - 1s 23us/step - loss: 0.4859 - accuracy: 0.8764 - val_loss: 0.4491 - val_accuracy: 0.8851\n",
      "Epoch 6/100\n",
      "60000/60000 [==============================] - 1s 20us/step - loss: 0.4604 - accuracy: 0.8805 - val_loss: 0.4280 - val_accuracy: 0.8894\n",
      "Epoch 7/100\n",
      "60000/60000 [==============================] - 1s 15us/step - loss: 0.4415 - accuracy: 0.8837 - val_loss: 0.4125 - val_accuracy: 0.8931\n",
      "Epoch 8/100\n",
      "60000/60000 [==============================] - 1s 22us/step - loss: 0.4268 - accuracy: 0.8865 - val_loss: 0.3996 - val_accuracy: 0.8956\n",
      "Epoch 9/100\n",
      "60000/60000 [==============================] - 1s 24us/step - loss: 0.4149 - accuracy: 0.8890 - val_loss: 0.3892 - val_accuracy: 0.8987\n",
      "Epoch 10/100\n",
      "60000/60000 [==============================] - 1s 24us/step - loss: 0.4051 - accuracy: 0.8911 - val_loss: 0.3805 - val_accuracy: 0.8999\n",
      "Epoch 11/100\n",
      "60000/60000 [==============================] - 1s 18us/step - loss: 0.3968 - accuracy: 0.8929 - val_loss: 0.3731 - val_accuracy: 0.9018\n",
      "Epoch 12/100\n",
      "60000/60000 [==============================] - 1s 20us/step - loss: 0.3895 - accuracy: 0.8946 - val_loss: 0.3671 - val_accuracy: 0.9032\n",
      "Epoch 13/100\n",
      "60000/60000 [==============================] - 1s 20us/step - loss: 0.3833 - accuracy: 0.8958 - val_loss: 0.3616 - val_accuracy: 0.9046\n",
      "Epoch 14/100\n",
      "60000/60000 [==============================] - 1s 16us/step - loss: 0.3777 - accuracy: 0.8969 - val_loss: 0.3567 - val_accuracy: 0.9053\n",
      "Epoch 15/100\n",
      "60000/60000 [==============================] - 1s 22us/step - loss: 0.3728 - accuracy: 0.8981 - val_loss: 0.3524 - val_accuracy: 0.9051\n",
      "Epoch 16/100\n",
      "60000/60000 [==============================] - 1s 18us/step - loss: 0.3683 - accuracy: 0.8996 - val_loss: 0.3483 - val_accuracy: 0.9061\n",
      "Epoch 17/100\n",
      "60000/60000 [==============================] - 1s 20us/step - loss: 0.3643 - accuracy: 0.9004 - val_loss: 0.3449 - val_accuracy: 0.9072\n",
      "Epoch 18/100\n",
      "60000/60000 [==============================] - 1s 17us/step - loss: 0.3605 - accuracy: 0.9011 - val_loss: 0.3416 - val_accuracy: 0.9085\n",
      "Epoch 19/100\n",
      "60000/60000 [==============================] - 1s 18us/step - loss: 0.3571 - accuracy: 0.9016 - val_loss: 0.3386 - val_accuracy: 0.9080\n",
      "Epoch 20/100\n",
      "60000/60000 [==============================] - 1s 18us/step - loss: 0.3540 - accuracy: 0.9024 - val_loss: 0.3358 - val_accuracy: 0.9091\n",
      "Epoch 21/100\n",
      "60000/60000 [==============================] - 1s 16us/step - loss: 0.3511 - accuracy: 0.9033 - val_loss: 0.3333 - val_accuracy: 0.9093\n",
      "Epoch 22/100\n",
      "60000/60000 [==============================] - 1s 15us/step - loss: 0.3484 - accuracy: 0.9038 - val_loss: 0.3311 - val_accuracy: 0.9098\n",
      "Epoch 23/100\n",
      "60000/60000 [==============================] - 1s 16us/step - loss: 0.3459 - accuracy: 0.9046 - val_loss: 0.3291 - val_accuracy: 0.9099\n",
      "Epoch 24/100\n",
      "60000/60000 [==============================] - 1s 16us/step - loss: 0.3436 - accuracy: 0.9049 - val_loss: 0.3271 - val_accuracy: 0.9106\n",
      "Epoch 25/100\n",
      "60000/60000 [==============================] - 1s 15us/step - loss: 0.3413 - accuracy: 0.9054 - val_loss: 0.3247 - val_accuracy: 0.9117\n",
      "Epoch 26/100\n",
      "60000/60000 [==============================] - 1s 16us/step - loss: 0.3393 - accuracy: 0.9064 - val_loss: 0.3232 - val_accuracy: 0.9120\n",
      "Epoch 27/100\n",
      "60000/60000 [==============================] - 1s 21us/step - loss: 0.3373 - accuracy: 0.9067 - val_loss: 0.3217 - val_accuracy: 0.9122\n",
      "Epoch 28/100\n",
      "60000/60000 [==============================] - 1s 17us/step - loss: 0.3355 - accuracy: 0.9073 - val_loss: 0.3200 - val_accuracy: 0.9124\n",
      "Epoch 29/100\n",
      "60000/60000 [==============================] - 1s 19us/step - loss: 0.3337 - accuracy: 0.9076 - val_loss: 0.3186 - val_accuracy: 0.9126\n",
      "Epoch 30/100\n",
      "60000/60000 [==============================] - 1s 16us/step - loss: 0.3320 - accuracy: 0.9082 - val_loss: 0.3170 - val_accuracy: 0.9129\n",
      "Epoch 31/100\n",
      "60000/60000 [==============================] - 1s 16us/step - loss: 0.3304 - accuracy: 0.9085 - val_loss: 0.3157 - val_accuracy: 0.9134\n",
      "Epoch 32/100\n",
      "60000/60000 [==============================] - 1s 15us/step - loss: 0.3289 - accuracy: 0.9088 - val_loss: 0.3144 - val_accuracy: 0.9134\n",
      "Epoch 33/100\n",
      "60000/60000 [==============================] - 1s 17us/step - loss: 0.3275 - accuracy: 0.9091 - val_loss: 0.3134 - val_accuracy: 0.9136\n",
      "Epoch 34/100\n",
      "60000/60000 [==============================] - 1s 20us/step - loss: 0.3261 - accuracy: 0.9096 - val_loss: 0.3123 - val_accuracy: 0.9139\n",
      "Epoch 35/100\n",
      "60000/60000 [==============================] - 1s 16us/step - loss: 0.3247 - accuracy: 0.9099 - val_loss: 0.3108 - val_accuracy: 0.9143\n",
      "Epoch 36/100\n",
      "60000/60000 [==============================] - 1s 17us/step - loss: 0.3235 - accuracy: 0.9103 - val_loss: 0.3097 - val_accuracy: 0.9147\n",
      "Epoch 37/100\n",
      "60000/60000 [==============================] - 1s 18us/step - loss: 0.3223 - accuracy: 0.9105 - val_loss: 0.3092 - val_accuracy: 0.9142\n",
      "Epoch 38/100\n",
      "60000/60000 [==============================] - 1s 16us/step - loss: 0.3211 - accuracy: 0.9111 - val_loss: 0.3080 - val_accuracy: 0.9152\n",
      "Epoch 39/100\n",
      "60000/60000 [==============================] - 1s 17us/step - loss: 0.3199 - accuracy: 0.9114 - val_loss: 0.3071 - val_accuracy: 0.9150\n",
      "Epoch 40/100\n",
      "60000/60000 [==============================] - 1s 16us/step - loss: 0.3188 - accuracy: 0.9116 - val_loss: 0.3063 - val_accuracy: 0.9152\n",
      "Epoch 41/100\n",
      "60000/60000 [==============================] - 1s 16us/step - loss: 0.3179 - accuracy: 0.9118 - val_loss: 0.3054 - val_accuracy: 0.9153\n",
      "Epoch 42/100\n",
      "60000/60000 [==============================] - 1s 16us/step - loss: 0.3168 - accuracy: 0.9121 - val_loss: 0.3044 - val_accuracy: 0.9161\n",
      "Epoch 43/100\n",
      "60000/60000 [==============================] - 1s 16us/step - loss: 0.3159 - accuracy: 0.9122 - val_loss: 0.3039 - val_accuracy: 0.9160\n",
      "Epoch 44/100\n",
      "60000/60000 [==============================] - 1s 16us/step - loss: 0.3149 - accuracy: 0.9127 - val_loss: 0.3029 - val_accuracy: 0.9158\n",
      "Epoch 45/100\n",
      "60000/60000 [==============================] - 1s 18us/step - loss: 0.3140 - accuracy: 0.9129 - val_loss: 0.3025 - val_accuracy: 0.9167\n",
      "Epoch 46/100\n",
      "60000/60000 [==============================] - 1s 18us/step - loss: 0.3131 - accuracy: 0.9129 - val_loss: 0.3018 - val_accuracy: 0.9166\n",
      "Epoch 47/100\n",
      "60000/60000 [==============================] - 1s 16us/step - loss: 0.3123 - accuracy: 0.9133 - val_loss: 0.3010 - val_accuracy: 0.9166\n",
      "Epoch 48/100\n",
      "60000/60000 [==============================] - 1s 15us/step - loss: 0.3114 - accuracy: 0.9136 - val_loss: 0.3002 - val_accuracy: 0.9167\n",
      "Epoch 49/100\n",
      "60000/60000 [==============================] - 1s 17us/step - loss: 0.3106 - accuracy: 0.9138 - val_loss: 0.2999 - val_accuracy: 0.9165\n",
      "Epoch 50/100\n",
      "60000/60000 [==============================] - 1s 15us/step - loss: 0.3099 - accuracy: 0.9138 - val_loss: 0.2990 - val_accuracy: 0.9170\n",
      "Epoch 51/100\n",
      "60000/60000 [==============================] - 1s 15us/step - loss: 0.3091 - accuracy: 0.9141 - val_loss: 0.2984 - val_accuracy: 0.9171\n",
      "Epoch 52/100\n",
      "60000/60000 [==============================] - 1s 15us/step - loss: 0.3084 - accuracy: 0.9144 - val_loss: 0.2978 - val_accuracy: 0.9171\n",
      "Epoch 53/100\n",
      "60000/60000 [==============================] - 1s 18us/step - loss: 0.3077 - accuracy: 0.9147 - val_loss: 0.2972 - val_accuracy: 0.9175\n",
      "Epoch 54/100\n",
      "60000/60000 [==============================] - 1s 18us/step - loss: 0.3069 - accuracy: 0.9147 - val_loss: 0.2971 - val_accuracy: 0.9177\n",
      "Epoch 55/100\n",
      "60000/60000 [==============================] - 1s 16us/step - loss: 0.3063 - accuracy: 0.9152 - val_loss: 0.2963 - val_accuracy: 0.9179\n"
     ]
    },
    {
     "name": "stdout",
     "output_type": "stream",
     "text": [
      "Epoch 56/100\n",
      "60000/60000 [==============================] - 1s 15us/step - loss: 0.3056 - accuracy: 0.9151 - val_loss: 0.2957 - val_accuracy: 0.9177\n",
      "Epoch 57/100\n",
      "60000/60000 [==============================] - 1s 14us/step - loss: 0.3050 - accuracy: 0.9156 - val_loss: 0.2955 - val_accuracy: 0.9176\n",
      "Epoch 58/100\n",
      "60000/60000 [==============================] - 1s 14us/step - loss: 0.3044 - accuracy: 0.9156 - val_loss: 0.2949 - val_accuracy: 0.9182\n",
      "Epoch 59/100\n",
      "60000/60000 [==============================] - 1s 16us/step - loss: 0.3037 - accuracy: 0.9158 - val_loss: 0.2944 - val_accuracy: 0.9187\n",
      "Epoch 60/100\n",
      "60000/60000 [==============================] - 1s 16us/step - loss: 0.3032 - accuracy: 0.9159 - val_loss: 0.2939 - val_accuracy: 0.9186\n",
      "Epoch 61/100\n",
      "60000/60000 [==============================] - 1s 16us/step - loss: 0.3026 - accuracy: 0.9160 - val_loss: 0.2934 - val_accuracy: 0.9184\n",
      "Epoch 62/100\n",
      "60000/60000 [==============================] - 1s 16us/step - loss: 0.3020 - accuracy: 0.9165 - val_loss: 0.2930 - val_accuracy: 0.9189\n",
      "Epoch 63/100\n",
      "60000/60000 [==============================] - 1s 16us/step - loss: 0.3014 - accuracy: 0.9165 - val_loss: 0.2925 - val_accuracy: 0.9188\n",
      "Epoch 64/100\n",
      "60000/60000 [==============================] - 1s 16us/step - loss: 0.3009 - accuracy: 0.9166 - val_loss: 0.2923 - val_accuracy: 0.9192\n",
      "Epoch 65/100\n",
      "60000/60000 [==============================] - 1s 16us/step - loss: 0.3004 - accuracy: 0.9166 - val_loss: 0.2919 - val_accuracy: 0.9195\n",
      "Epoch 66/100\n",
      "60000/60000 [==============================] - 1s 17us/step - loss: 0.2999 - accuracy: 0.9169 - val_loss: 0.2914 - val_accuracy: 0.9194\n",
      "Epoch 67/100\n",
      "60000/60000 [==============================] - 1s 16us/step - loss: 0.2993 - accuracy: 0.9169 - val_loss: 0.2911 - val_accuracy: 0.9194\n",
      "Epoch 68/100\n",
      "60000/60000 [==============================] - 1s 17us/step - loss: 0.2989 - accuracy: 0.9170 - val_loss: 0.2906 - val_accuracy: 0.9194\n",
      "Epoch 69/100\n",
      "60000/60000 [==============================] - 1s 17us/step - loss: 0.2984 - accuracy: 0.9172 - val_loss: 0.2904 - val_accuracy: 0.9194\n",
      "Epoch 70/100\n",
      "60000/60000 [==============================] - 1s 16us/step - loss: 0.2979 - accuracy: 0.9172 - val_loss: 0.2899 - val_accuracy: 0.9197\n",
      "Epoch 71/100\n",
      "60000/60000 [==============================] - 1s 17us/step - loss: 0.2975 - accuracy: 0.9173 - val_loss: 0.2896 - val_accuracy: 0.9194\n",
      "Epoch 72/100\n",
      "60000/60000 [==============================] - 1s 20us/step - loss: 0.2970 - accuracy: 0.9175 - val_loss: 0.2892 - val_accuracy: 0.9195\n",
      "Epoch 73/100\n",
      "60000/60000 [==============================] - 1s 17us/step - loss: 0.2966 - accuracy: 0.9177 - val_loss: 0.2891 - val_accuracy: 0.9196\n",
      "Epoch 74/100\n",
      "60000/60000 [==============================] - 1s 17us/step - loss: 0.2961 - accuracy: 0.9178 - val_loss: 0.2888 - val_accuracy: 0.9205\n",
      "Epoch 75/100\n",
      "60000/60000 [==============================] - 1s 18us/step - loss: 0.2957 - accuracy: 0.9178 - val_loss: 0.2883 - val_accuracy: 0.9203\n",
      "Epoch 76/100\n",
      "60000/60000 [==============================] - 1s 21us/step - loss: 0.2952 - accuracy: 0.9178 - val_loss: 0.2881 - val_accuracy: 0.9199\n",
      "Epoch 77/100\n",
      "60000/60000 [==============================] - 1s 18us/step - loss: 0.2948 - accuracy: 0.9181 - val_loss: 0.2878 - val_accuracy: 0.9198\n",
      "Epoch 78/100\n",
      "60000/60000 [==============================] - 1s 18us/step - loss: 0.2945 - accuracy: 0.9182 - val_loss: 0.2875 - val_accuracy: 0.9204\n",
      "Epoch 79/100\n",
      "60000/60000 [==============================] - 1s 17us/step - loss: 0.2940 - accuracy: 0.9182 - val_loss: 0.2871 - val_accuracy: 0.9203\n",
      "Epoch 80/100\n",
      "60000/60000 [==============================] - 1s 18us/step - loss: 0.2937 - accuracy: 0.9183 - val_loss: 0.2870 - val_accuracy: 0.9199\n",
      "Epoch 81/100\n",
      "60000/60000 [==============================] - 1s 17us/step - loss: 0.2933 - accuracy: 0.9183 - val_loss: 0.2866 - val_accuracy: 0.9204\n",
      "Epoch 82/100\n",
      "60000/60000 [==============================] - 1s 17us/step - loss: 0.2929 - accuracy: 0.9186 - val_loss: 0.2862 - val_accuracy: 0.9207\n",
      "Epoch 83/100\n",
      "60000/60000 [==============================] - 1s 18us/step - loss: 0.2925 - accuracy: 0.9187 - val_loss: 0.2861 - val_accuracy: 0.9212\n",
      "Epoch 84/100\n",
      "60000/60000 [==============================] - 1s 17us/step - loss: 0.2922 - accuracy: 0.9188 - val_loss: 0.2860 - val_accuracy: 0.9209\n",
      "Epoch 85/100\n",
      "60000/60000 [==============================] - 1s 21us/step - loss: 0.2918 - accuracy: 0.9187 - val_loss: 0.2857 - val_accuracy: 0.9208\n",
      "Epoch 86/100\n",
      "60000/60000 [==============================] - 1s 24us/step - loss: 0.2914 - accuracy: 0.9186 - val_loss: 0.2853 - val_accuracy: 0.9214\n",
      "Epoch 87/100\n",
      "60000/60000 [==============================] - 1s 18us/step - loss: 0.2911 - accuracy: 0.9190 - val_loss: 0.2852 - val_accuracy: 0.9210\n",
      "Epoch 88/100\n",
      "60000/60000 [==============================] - 1s 22us/step - loss: 0.2908 - accuracy: 0.9190 - val_loss: 0.2847 - val_accuracy: 0.9205\n",
      "Epoch 89/100\n",
      "60000/60000 [==============================] - 1s 22us/step - loss: 0.2905 - accuracy: 0.9192 - val_loss: 0.2847 - val_accuracy: 0.9208\n",
      "Epoch 90/100\n",
      "60000/60000 [==============================] - 1s 21us/step - loss: 0.2901 - accuracy: 0.9193 - val_loss: 0.2846 - val_accuracy: 0.9210\n",
      "Epoch 91/100\n",
      "60000/60000 [==============================] - 1s 19us/step - loss: 0.2898 - accuracy: 0.9193 - val_loss: 0.2846 - val_accuracy: 0.9208\n",
      "Epoch 92/100\n",
      "60000/60000 [==============================] - 1s 17us/step - loss: 0.2895 - accuracy: 0.9196 - val_loss: 0.2842 - val_accuracy: 0.9210\n",
      "Epoch 93/100\n",
      "60000/60000 [==============================] - 1s 20us/step - loss: 0.2892 - accuracy: 0.9195 - val_loss: 0.2839 - val_accuracy: 0.9210\n",
      "Epoch 94/100\n",
      "60000/60000 [==============================] - 1s 22us/step - loss: 0.2889 - accuracy: 0.9196 - val_loss: 0.2835 - val_accuracy: 0.9210\n",
      "Epoch 95/100\n",
      "60000/60000 [==============================] - 1s 17us/step - loss: 0.2885 - accuracy: 0.9197 - val_loss: 0.2834 - val_accuracy: 0.9210\n",
      "Epoch 96/100\n",
      "60000/60000 [==============================] - 1s 19us/step - loss: 0.2883 - accuracy: 0.9197 - val_loss: 0.2834 - val_accuracy: 0.9212\n",
      "Epoch 97/100\n",
      "60000/60000 [==============================] - 1s 21us/step - loss: 0.2880 - accuracy: 0.9196 - val_loss: 0.2830 - val_accuracy: 0.9210\n",
      "Epoch 98/100\n",
      "60000/60000 [==============================] - 1s 18us/step - loss: 0.2877 - accuracy: 0.9200 - val_loss: 0.2827 - val_accuracy: 0.9208\n",
      "Epoch 99/100\n",
      "60000/60000 [==============================] - 1s 19us/step - loss: 0.2873 - accuracy: 0.9202 - val_loss: 0.2828 - val_accuracy: 0.9210\n",
      "Epoch 100/100\n",
      "60000/60000 [==============================] - 1s 17us/step - loss: 0.2871 - accuracy: 0.9203 - val_loss: 0.2823 - val_accuracy: 0.9216\n",
      "Test error 0.28234813528954983\n",
      "Test accuracy 0.9215999841690063\n"
     ]
    }
   ],
   "source": [
    "model.compile(optimizer='sgd', loss='categorical_crossentropy', metrics=['accuracy'])\n",
    "history = model.fit(X_train, Y_train, batch_size=batch_size, nb_epoch=nb_epoch, verbose=1, validation_data=(X_test, Y_test))\n",
    "score = model.evaluate(X_test, Y_test, verbose=0)\n",
    "print('Test error', score[0])\n",
    "print('Test accuracy', score[1])"
   ]
  },
  {
   "cell_type": "code",
   "execution_count": 24,
   "metadata": {},
   "outputs": [],
   "source": [
    "model2 = Sequential()\n",
    "model2.add(Dense(output_dim, input_dim=input_dim, activation='softmax'))\n",
    "batch_size = 128\n",
    "nb_epoch = 100"
   ]
  },
  {
   "cell_type": "code",
   "execution_count": 25,
   "metadata": {},
   "outputs": [
    {
     "name": "stderr",
     "output_type": "stream",
     "text": [
      "c:\\users\\visitor.slsi\\appdata\\local\\programs\\python\\python37\\lib\\site-packages\\ipykernel_launcher.py:2: UserWarning: The `nb_epoch` argument in `fit` has been renamed `epochs`.\n",
      "  \n"
     ]
    },
    {
     "name": "stdout",
     "output_type": "stream",
     "text": [
      "Train on 60000 samples, validate on 10000 samples\n",
      "Epoch 1/100\n",
      "60000/60000 [==============================] - 1s 25us/step - loss: 0.6938 - accuracy: 0.8245 - val_loss: 0.3863 - val_accuracy: 0.9023\n",
      "Epoch 2/100\n",
      "60000/60000 [==============================] - 1s 24us/step - loss: 0.3633 - accuracy: 0.9021 - val_loss: 0.3210 - val_accuracy: 0.9150\n",
      "Epoch 3/100\n",
      "60000/60000 [==============================] - 2s 34us/step - loss: 0.3199 - accuracy: 0.9125 - val_loss: 0.2987 - val_accuracy: 0.9173\n",
      "Epoch 4/100\n",
      "60000/60000 [==============================] - 1s 25us/step - loss: 0.2996 - accuracy: 0.9169 - val_loss: 0.2837 - val_accuracy: 0.9217\n",
      "Epoch 5/100\n",
      "60000/60000 [==============================] - 1s 21us/step - loss: 0.2879 - accuracy: 0.9202 - val_loss: 0.2780 - val_accuracy: 0.9229\n",
      "Epoch 6/100\n",
      "60000/60000 [==============================] - 1s 24us/step - loss: 0.2798 - accuracy: 0.9222 - val_loss: 0.2731 - val_accuracy: 0.9245\n",
      "Epoch 7/100\n",
      "60000/60000 [==============================] - 2s 33us/step - loss: 0.2740 - accuracy: 0.9233 - val_loss: 0.2728 - val_accuracy: 0.9243\n",
      "Epoch 8/100\n",
      "60000/60000 [==============================] - 2s 26us/step - loss: 0.2693 - accuracy: 0.9253 - val_loss: 0.2693 - val_accuracy: 0.9256\n",
      "Epoch 9/100\n",
      "60000/60000 [==============================] - 2s 27us/step - loss: 0.2653 - accuracy: 0.9263 - val_loss: 0.2663 - val_accuracy: 0.9259\n",
      "Epoch 10/100\n",
      "60000/60000 [==============================] - 1s 23us/step - loss: 0.2624 - accuracy: 0.9265 - val_loss: 0.2667 - val_accuracy: 0.9260\n",
      "Epoch 11/100\n",
      "60000/60000 [==============================] - 1s 23us/step - loss: 0.2596 - accuracy: 0.9279 - val_loss: 0.2644 - val_accuracy: 0.9276\n",
      "Epoch 12/100\n",
      "60000/60000 [==============================] - 1s 23us/step - loss: 0.2574 - accuracy: 0.9283 - val_loss: 0.2652 - val_accuracy: 0.9256\n",
      "Epoch 13/100\n",
      "60000/60000 [==============================] - 2s 30us/step - loss: 0.2554 - accuracy: 0.9295 - val_loss: 0.2650 - val_accuracy: 0.9257\n",
      "Epoch 14/100\n",
      "60000/60000 [==============================] - 2s 26us/step - loss: 0.2540 - accuracy: 0.9293 - val_loss: 0.2630 - val_accuracy: 0.9279\n",
      "Epoch 15/100\n",
      "60000/60000 [==============================] - 2s 31us/step - loss: 0.2521 - accuracy: 0.9301 - val_loss: 0.2619 - val_accuracy: 0.9277\n",
      "Epoch 16/100\n",
      "60000/60000 [==============================] - 1s 21us/step - loss: 0.2502 - accuracy: 0.9309 - val_loss: 0.2668 - val_accuracy: 0.9264\n",
      "Epoch 17/100\n",
      "60000/60000 [==============================] - 1s 20us/step - loss: 0.2493 - accuracy: 0.9312 - val_loss: 0.2635 - val_accuracy: 0.9278\n",
      "Epoch 18/100\n",
      "60000/60000 [==============================] - 1s 20us/step - loss: 0.2482 - accuracy: 0.9314 - val_loss: 0.2623 - val_accuracy: 0.9282\n",
      "Epoch 19/100\n",
      "60000/60000 [==============================] - 1s 25us/step - loss: 0.2469 - accuracy: 0.9318 - val_loss: 0.2629 - val_accuracy: 0.9277\n",
      "Epoch 20/100\n",
      "60000/60000 [==============================] - 2s 26us/step - loss: 0.2459 - accuracy: 0.9322 - val_loss: 0.2635 - val_accuracy: 0.9257\n",
      "Epoch 21/100\n",
      "60000/60000 [==============================] - 2s 32us/step - loss: 0.2450 - accuracy: 0.9325 - val_loss: 0.2621 - val_accuracy: 0.9283\n",
      "Epoch 22/100\n",
      "60000/60000 [==============================] - 2s 26us/step - loss: 0.2441 - accuracy: 0.9329 - val_loss: 0.2627 - val_accuracy: 0.9262\n",
      "Epoch 23/100\n",
      "60000/60000 [==============================] - 2s 27us/step - loss: 0.2434 - accuracy: 0.9331 - val_loss: 0.2606 - val_accuracy: 0.9287\n",
      "Epoch 24/100\n",
      "60000/60000 [==============================] - 2s 26us/step - loss: 0.2428 - accuracy: 0.9330 - val_loss: 0.2625 - val_accuracy: 0.9280\n",
      "Epoch 25/100\n",
      "60000/60000 [==============================] - 2s 26us/step - loss: 0.2419 - accuracy: 0.9334 - val_loss: 0.2633 - val_accuracy: 0.9275\n",
      "Epoch 26/100\n",
      "60000/60000 [==============================] - 2s 29us/step - loss: 0.2413 - accuracy: 0.9340 - val_loss: 0.2615 - val_accuracy: 0.9277\n",
      "Epoch 27/100\n",
      "60000/60000 [==============================] - 2s 26us/step - loss: 0.2406 - accuracy: 0.9339 - val_loss: 0.2631 - val_accuracy: 0.9287\n",
      "Epoch 28/100\n",
      "60000/60000 [==============================] - 2s 26us/step - loss: 0.2399 - accuracy: 0.9343 - val_loss: 0.2618 - val_accuracy: 0.9289\n",
      "Epoch 29/100\n",
      "60000/60000 [==============================] - 1s 20us/step - loss: 0.2391 - accuracy: 0.9339 - val_loss: 0.2630 - val_accuracy: 0.9273\n",
      "Epoch 30/100\n",
      "60000/60000 [==============================] - 1s 20us/step - loss: 0.2390 - accuracy: 0.9342 - val_loss: 0.2652 - val_accuracy: 0.9266\n",
      "Epoch 31/100\n",
      "60000/60000 [==============================] - 1s 21us/step - loss: 0.2381 - accuracy: 0.9344 - val_loss: 0.2646 - val_accuracy: 0.9278\n",
      "Epoch 32/100\n",
      "60000/60000 [==============================] - 1s 23us/step - loss: 0.2378 - accuracy: 0.9347 - val_loss: 0.2658 - val_accuracy: 0.9266\n",
      "Epoch 33/100\n",
      "60000/60000 [==============================] - 1s 22us/step - loss: 0.2370 - accuracy: 0.9348 - val_loss: 0.2638 - val_accuracy: 0.9277\n",
      "Epoch 34/100\n",
      "60000/60000 [==============================] - 1s 18us/step - loss: 0.2366 - accuracy: 0.9349 - val_loss: 0.2676 - val_accuracy: 0.9264\n",
      "Epoch 35/100\n",
      "60000/60000 [==============================] - 1s 15us/step - loss: 0.2365 - accuracy: 0.9345 - val_loss: 0.2653 - val_accuracy: 0.9276\n",
      "Epoch 36/100\n",
      "60000/60000 [==============================] - 1s 16us/step - loss: 0.2361 - accuracy: 0.9357 - val_loss: 0.2652 - val_accuracy: 0.9279\n",
      "Epoch 37/100\n",
      "60000/60000 [==============================] - 1s 15us/step - loss: 0.2354 - accuracy: 0.9353 - val_loss: 0.2649 - val_accuracy: 0.9276\n",
      "Epoch 38/100\n",
      "60000/60000 [==============================] - 1s 15us/step - loss: 0.2350 - accuracy: 0.9351 - val_loss: 0.2646 - val_accuracy: 0.9284\n",
      "Epoch 39/100\n",
      "60000/60000 [==============================] - 1s 15us/step - loss: 0.2348 - accuracy: 0.9350 - val_loss: 0.2661 - val_accuracy: 0.9278\n",
      "Epoch 40/100\n",
      "60000/60000 [==============================] - 1s 15us/step - loss: 0.2345 - accuracy: 0.9354 - val_loss: 0.2671 - val_accuracy: 0.9276\n",
      "Epoch 41/100\n",
      "60000/60000 [==============================] - 1s 15us/step - loss: 0.2339 - accuracy: 0.9363 - val_loss: 0.2658 - val_accuracy: 0.9277\n",
      "Epoch 42/100\n",
      "60000/60000 [==============================] - 1s 16us/step - loss: 0.2339 - accuracy: 0.9352 - val_loss: 0.2671 - val_accuracy: 0.9280\n",
      "Epoch 43/100\n",
      "60000/60000 [==============================] - 1s 15us/step - loss: 0.2332 - accuracy: 0.9359 - val_loss: 0.2657 - val_accuracy: 0.9287\n",
      "Epoch 44/100\n",
      "60000/60000 [==============================] - 1s 18us/step - loss: 0.2330 - accuracy: 0.9358 - val_loss: 0.2680 - val_accuracy: 0.9280\n",
      "Epoch 45/100\n",
      "60000/60000 [==============================] - 2s 28us/step - loss: 0.2326 - accuracy: 0.9361 - val_loss: 0.2662 - val_accuracy: 0.9283\n",
      "Epoch 46/100\n",
      "60000/60000 [==============================] - 1s 17us/step - loss: 0.2324 - accuracy: 0.9359 - val_loss: 0.2677 - val_accuracy: 0.9293\n",
      "Epoch 47/100\n",
      "60000/60000 [==============================] - 1s 19us/step - loss: 0.2318 - accuracy: 0.9363 - val_loss: 0.2670 - val_accuracy: 0.9289\n",
      "Epoch 48/100\n",
      "60000/60000 [==============================] - 1s 19us/step - loss: 0.2316 - accuracy: 0.9365 - val_loss: 0.2683 - val_accuracy: 0.9272\n",
      "Epoch 49/100\n",
      "60000/60000 [==============================] - 1s 15us/step - loss: 0.2314 - accuracy: 0.9361 - val_loss: 0.2666 - val_accuracy: 0.9282\n",
      "Epoch 50/100\n",
      "60000/60000 [==============================] - 1s 16us/step - loss: 0.2314 - accuracy: 0.9359 - val_loss: 0.2664 - val_accuracy: 0.9284\n",
      "Epoch 51/100\n",
      "60000/60000 [==============================] - 1s 16us/step - loss: 0.2307 - accuracy: 0.9367 - val_loss: 0.2692 - val_accuracy: 0.9279\n",
      "Epoch 52/100\n",
      "60000/60000 [==============================] - 1s 16us/step - loss: 0.2308 - accuracy: 0.9365 - val_loss: 0.2676 - val_accuracy: 0.9273\n",
      "Epoch 53/100\n",
      "60000/60000 [==============================] - 1s 15us/step - loss: 0.2304 - accuracy: 0.9365 - val_loss: 0.2699 - val_accuracy: 0.9273\n",
      "Epoch 54/100\n",
      "60000/60000 [==============================] - 1s 15us/step - loss: 0.2303 - accuracy: 0.9365 - val_loss: 0.2683 - val_accuracy: 0.9281\n",
      "Epoch 55/100\n",
      "60000/60000 [==============================] - 1s 15us/step - loss: 0.2301 - accuracy: 0.9362 - val_loss: 0.2702 - val_accuracy: 0.9278\n"
     ]
    },
    {
     "name": "stdout",
     "output_type": "stream",
     "text": [
      "Epoch 56/100\n",
      "60000/60000 [==============================] - 1s 18us/step - loss: 0.2298 - accuracy: 0.9362 - val_loss: 0.2689 - val_accuracy: 0.9284\n",
      "Epoch 57/100\n",
      "60000/60000 [==============================] - 1s 15us/step - loss: 0.2294 - accuracy: 0.9371 - val_loss: 0.2699 - val_accuracy: 0.9289\n",
      "Epoch 58/100\n",
      "60000/60000 [==============================] - 1s 18us/step - loss: 0.2293 - accuracy: 0.9370 - val_loss: 0.2699 - val_accuracy: 0.9282\n",
      "Epoch 59/100\n",
      "60000/60000 [==============================] - 1s 17us/step - loss: 0.2290 - accuracy: 0.9366 - val_loss: 0.2711 - val_accuracy: 0.9284\n",
      "Epoch 60/100\n",
      "60000/60000 [==============================] - 1s 17us/step - loss: 0.2288 - accuracy: 0.9370 - val_loss: 0.2703 - val_accuracy: 0.9280\n",
      "Epoch 61/100\n",
      "60000/60000 [==============================] - 1s 20us/step - loss: 0.2281 - accuracy: 0.9370 - val_loss: 0.2726 - val_accuracy: 0.9273\n",
      "Epoch 62/100\n",
      "60000/60000 [==============================] - 1s 17us/step - loss: 0.2285 - accuracy: 0.9368 - val_loss: 0.2712 - val_accuracy: 0.9280\n",
      "Epoch 63/100\n",
      "60000/60000 [==============================] - 1s 25us/step - loss: 0.2284 - accuracy: 0.9373 - val_loss: 0.2720 - val_accuracy: 0.9281\n",
      "Epoch 64/100\n",
      "60000/60000 [==============================] - 1s 18us/step - loss: 0.2282 - accuracy: 0.9373 - val_loss: 0.2732 - val_accuracy: 0.9275\n",
      "Epoch 65/100\n",
      "60000/60000 [==============================] - 1s 15us/step - loss: 0.2278 - accuracy: 0.9374 - val_loss: 0.2715 - val_accuracy: 0.9281\n",
      "Epoch 66/100\n",
      "60000/60000 [==============================] - 1s 15us/step - loss: 0.2278 - accuracy: 0.9371 - val_loss: 0.2722 - val_accuracy: 0.9271\n",
      "Epoch 67/100\n",
      "60000/60000 [==============================] - 1s 15us/step - loss: 0.2273 - accuracy: 0.9377 - val_loss: 0.2712 - val_accuracy: 0.9282\n",
      "Epoch 68/100\n",
      "60000/60000 [==============================] - 1s 15us/step - loss: 0.2272 - accuracy: 0.9375 - val_loss: 0.2721 - val_accuracy: 0.9276\n",
      "Epoch 69/100\n",
      "60000/60000 [==============================] - 1s 15us/step - loss: 0.2273 - accuracy: 0.9371 - val_loss: 0.2741 - val_accuracy: 0.9276\n",
      "Epoch 70/100\n",
      "60000/60000 [==============================] - 1s 16us/step - loss: 0.2271 - accuracy: 0.9373 - val_loss: 0.2721 - val_accuracy: 0.9270\n",
      "Epoch 71/100\n",
      "60000/60000 [==============================] - 1s 16us/step - loss: 0.2269 - accuracy: 0.9374 - val_loss: 0.2739 - val_accuracy: 0.9276\n",
      "Epoch 72/100\n",
      "60000/60000 [==============================] - 1s 16us/step - loss: 0.2267 - accuracy: 0.9372 - val_loss: 0.2717 - val_accuracy: 0.9284\n",
      "Epoch 73/100\n",
      "60000/60000 [==============================] - 1s 15us/step - loss: 0.2263 - accuracy: 0.9377 - val_loss: 0.2734 - val_accuracy: 0.9284\n",
      "Epoch 74/100\n",
      "60000/60000 [==============================] - 1s 15us/step - loss: 0.2264 - accuracy: 0.9372 - val_loss: 0.2744 - val_accuracy: 0.9289\n",
      "Epoch 75/100\n",
      "60000/60000 [==============================] - 1s 16us/step - loss: 0.2259 - accuracy: 0.9379 - val_loss: 0.2757 - val_accuracy: 0.9272\n",
      "Epoch 76/100\n",
      "60000/60000 [==============================] - 1s 15us/step - loss: 0.2259 - accuracy: 0.9374 - val_loss: 0.2752 - val_accuracy: 0.9274\n",
      "Epoch 77/100\n",
      "60000/60000 [==============================] - 1s 18us/step - loss: 0.2259 - accuracy: 0.9375 - val_loss: 0.2760 - val_accuracy: 0.9273\n",
      "Epoch 78/100\n",
      "60000/60000 [==============================] - 1s 17us/step - loss: 0.2258 - accuracy: 0.9377 - val_loss: 0.2759 - val_accuracy: 0.9277\n",
      "Epoch 79/100\n",
      "60000/60000 [==============================] - 1s 16us/step - loss: 0.2252 - accuracy: 0.9377 - val_loss: 0.2757 - val_accuracy: 0.9287\n",
      "Epoch 80/100\n",
      "60000/60000 [==============================] - 1s 22us/step - loss: 0.2254 - accuracy: 0.9376 - val_loss: 0.2768 - val_accuracy: 0.9259\n",
      "Epoch 81/100\n",
      "60000/60000 [==============================] - ETA: 0s - loss: 0.2250 - accuracy: 0.93 - 1s 15us/step - loss: 0.2251 - accuracy: 0.9377 - val_loss: 0.2768 - val_accuracy: 0.9267\n",
      "Epoch 82/100\n",
      "60000/60000 [==============================] - 1s 17us/step - loss: 0.2252 - accuracy: 0.9380 - val_loss: 0.2768 - val_accuracy: 0.9281\n",
      "Epoch 83/100\n",
      "60000/60000 [==============================] - 1s 14us/step - loss: 0.2250 - accuracy: 0.9376 - val_loss: 0.2768 - val_accuracy: 0.9266\n",
      "Epoch 84/100\n",
      "60000/60000 [==============================] - 1s 13us/step - loss: 0.2247 - accuracy: 0.9380 - val_loss: 0.2762 - val_accuracy: 0.9276\n",
      "Epoch 85/100\n",
      "60000/60000 [==============================] - 1s 15us/step - loss: 0.2246 - accuracy: 0.9382 - val_loss: 0.2782 - val_accuracy: 0.9277\n",
      "Epoch 86/100\n",
      "60000/60000 [==============================] - 1s 13us/step - loss: 0.2246 - accuracy: 0.9379 - val_loss: 0.2782 - val_accuracy: 0.9270\n",
      "Epoch 87/100\n",
      "60000/60000 [==============================] - 1s 16us/step - loss: 0.2244 - accuracy: 0.9376 - val_loss: 0.2771 - val_accuracy: 0.9280\n",
      "Epoch 88/100\n",
      "60000/60000 [==============================] - 1s 14us/step - loss: 0.2243 - accuracy: 0.9384 - val_loss: 0.2777 - val_accuracy: 0.9283\n",
      "Epoch 89/100\n",
      "60000/60000 [==============================] - 1s 14us/step - loss: 0.2238 - accuracy: 0.9380 - val_loss: 0.2788 - val_accuracy: 0.9276\n",
      "Epoch 90/100\n",
      "60000/60000 [==============================] - 1s 13us/step - loss: 0.2243 - accuracy: 0.9379 - val_loss: 0.2779 - val_accuracy: 0.9283\n",
      "Epoch 91/100\n",
      "60000/60000 [==============================] - 1s 13us/step - loss: 0.2240 - accuracy: 0.9385 - val_loss: 0.2769 - val_accuracy: 0.9279\n",
      "Epoch 92/100\n",
      "60000/60000 [==============================] - 1s 16us/step - loss: 0.2237 - accuracy: 0.9380 - val_loss: 0.2769 - val_accuracy: 0.9264\n",
      "Epoch 93/100\n",
      "60000/60000 [==============================] - 1s 14us/step - loss: 0.2237 - accuracy: 0.9380 - val_loss: 0.2792 - val_accuracy: 0.9274\n",
      "Epoch 94/100\n",
      "60000/60000 [==============================] - 1s 14us/step - loss: 0.2234 - accuracy: 0.9380 - val_loss: 0.2776 - val_accuracy: 0.9275\n",
      "Epoch 95/100\n",
      "60000/60000 [==============================] - 1s 14us/step - loss: 0.2236 - accuracy: 0.9383 - val_loss: 0.2798 - val_accuracy: 0.9274\n",
      "Epoch 96/100\n",
      "60000/60000 [==============================] - 1s 17us/step - loss: 0.2233 - accuracy: 0.9385 - val_loss: 0.2804 - val_accuracy: 0.9275\n",
      "Epoch 97/100\n",
      "60000/60000 [==============================] - 1s 18us/step - loss: 0.2233 - accuracy: 0.9385 - val_loss: 0.2790 - val_accuracy: 0.9264\n",
      "Epoch 98/100\n",
      "60000/60000 [==============================] - 1s 14us/step - loss: 0.2231 - accuracy: 0.9387 - val_loss: 0.2797 - val_accuracy: 0.9277\n",
      "Epoch 99/100\n",
      "60000/60000 [==============================] - 1s 16us/step - loss: 0.2232 - accuracy: 0.9383 - val_loss: 0.2816 - val_accuracy: 0.9263\n",
      "Epoch 100/100\n",
      "60000/60000 [==============================] - 1s 14us/step - loss: 0.2229 - accuracy: 0.9384 - val_loss: 0.2801 - val_accuracy: 0.9275\n",
      "Test error 0.28008676987141373\n",
      "Test accuracy 0.9275000095367432\n"
     ]
    }
   ],
   "source": [
    "model2.compile(optimizer='adam', loss='categorical_crossentropy', metrics=['accuracy'])\n",
    "history2 = model2.fit(X_train, Y_train, batch_size=batch_size, nb_epoch=nb_epoch, verbose=1, validation_data=(X_test, Y_test))\n",
    "score2 = model2.evaluate(X_test, Y_test, verbose=0)\n",
    "print('Test error', score2[0])\n",
    "print('Test accuracy', score2[1])"
   ]
  },
  {
   "cell_type": "code",
   "execution_count": 32,
   "metadata": {},
   "outputs": [
    {
     "data": {
      "image/png": "[encoded data removed]",
      "text/plain": [
       "<Figure size 432x288 with 1 Axes>"
      ]
     },
     "metadata": {
      "needs_background": "light"
     },
     "output_type": "display_data"
    }
   ],
   "source": [
    "plt.plot(history.history['accuracy'],'r')\n",
    "plt.plot(history.history['val_accuracy'],'b')\n",
    "plt.legend({'training accuracy':'r', 'validation accuracy': 'b'})\n",
    "plt.show()"
   ]
  },
  {
   "cell_type": "code",
   "execution_count": 26,
   "metadata": {},
   "outputs": [
    {
     "data": {
      "image/png": "[encoded data removed]",
      "text/plain": [
       "<Figure size 432x288 with 1 Axes>"
      ]
     },
     "metadata": {
      "needs_background": "light"
     },
     "output_type": "display_data"
    }
   ],
   "source": [
    "plt.plot(history2.history['accuracy'],'r')\n",
    "plt.plot(history2.history['val_accuracy'],'b')\n",
    "plt.legend({'training accuracy':'r', 'validation accuracy': 'b'})\n",
    "plt.show()"
   ]
  },
  {
   "cell_type": "code",
   "execution_count": 33,
   "metadata": {},
   "outputs": [
    {
     "data": {
      "image/png": "[encoded data removed]",
      "text/plain": [
       "<Figure size 432x288 with 1 Axes>"
      ]
     },
     "metadata": {
      "needs_background": "light"
     },
     "output_type": "display_data"
    }
   ],
   "source": [
    "plt.plot(history.history['accuracy'],'r')\n",
    "plt.plot(history.history['val_accuracy'],'b')\n",
    "plt.legend({'training accuracy':'r', 'validation accuracy': 'b'})\n",
    "plt.plot(history2.history['accuracy'],'g')\n",
    "plt.plot(history2.history['val_accuracy'],'black')\n",
    "plt.legend({'training accuracy':'g', 'validation accuracy': 'black'})\n",
    "plt.show()"
   ]
  },
  {
   "cell_type": "markdown",
   "metadata": {},
   "source": [
    "## Inference"
   ]
  },
  {
   "cell_type": "code",
   "execution_count": null,
   "metadata": {},
   "outputs": [],
   "source": []
  },
  {
   "cell_type": "code",
   "execution_count": null,
   "metadata": {},
   "outputs": [],
   "source": []
  },
  {
   "cell_type": "code",
   "execution_count": 34,
   "metadata": {},
   "outputs": [
    {
     "ename": "NameError",
     "evalue": "name 'predictions' is not defined",
     "output_type": "error",
     "traceback": [
      "\u001b[1;31m---------------------------------------------------------------------------\u001b[0m",
      "\u001b[1;31mNameError\u001b[0m                                 Traceback (most recent call last)",
      "\u001b[1;32m<ipython-input-34-8d283b697d71>\u001b[0m in \u001b[0;36m<module>\u001b[1;34m\u001b[0m\n\u001b[0;32m      1\u001b[0m \u001b[0mindex\u001b[0m \u001b[1;33m=\u001b[0m \u001b[1;36m0\u001b[0m\u001b[1;33m\u001b[0m\u001b[1;33m\u001b[0m\u001b[0m\n\u001b[0;32m      2\u001b[0m \u001b[0mmisclassifiedIndexes\u001b[0m \u001b[1;33m=\u001b[0m \u001b[1;33m[\u001b[0m\u001b[1;33m]\u001b[0m\u001b[1;33m\u001b[0m\u001b[1;33m\u001b[0m\u001b[0m\n\u001b[1;32m----> 3\u001b[1;33m \u001b[1;32mfor\u001b[0m \u001b[0mlabel\u001b[0m\u001b[1;33m,\u001b[0m \u001b[0mpredict\u001b[0m \u001b[1;32min\u001b[0m \u001b[0mzip\u001b[0m\u001b[1;33m(\u001b[0m\u001b[0my_test\u001b[0m\u001b[1;33m,\u001b[0m \u001b[0mpredictions\u001b[0m\u001b[1;33m)\u001b[0m\u001b[1;33m:\u001b[0m\u001b[1;33m\u001b[0m\u001b[1;33m\u001b[0m\u001b[0m\n\u001b[0m\u001b[0;32m      4\u001b[0m     \u001b[1;32mif\u001b[0m \u001b[0mlabel\u001b[0m \u001b[1;33m!=\u001b[0m \u001b[0mpredict\u001b[0m\u001b[1;33m:\u001b[0m\u001b[1;33m\u001b[0m\u001b[1;33m\u001b[0m\u001b[0m\n\u001b[0;32m      5\u001b[0m         \u001b[0mmisclassifiedIndexes\u001b[0m\u001b[1;33m.\u001b[0m\u001b[0mappend\u001b[0m\u001b[1;33m(\u001b[0m\u001b[0mindex\u001b[0m\u001b[1;33m)\u001b[0m\u001b[1;33m\u001b[0m\u001b[1;33m\u001b[0m\u001b[0m\n",
      "\u001b[1;31mNameError\u001b[0m: name 'predictions' is not defined"
     ]
    }
   ],
   "source": [
    "index = 0\n",
    "misclassifiedIndexes = []\n",
    "for label, predict in zip(y_test, predictions):\n",
    "    if label != predict:\n",
    "        misclassifiedIndexes.append(index)\n",
    "    index += 1"
   ]
  },
  {
   "cell_type": "code",
   "execution_count": null,
   "metadata": {},
   "outputs": [],
   "source": []
  }
 ],
 "metadata": {
  "kernelspec": {
   "display_name": "Python 3",
   "language": "python",
   "name": "python3"
  },
  "language_info": {
   "codemirror_mode": {
    "name": "ipython",
    "version": 3
   },
   "file_extension": ".py",
   "mimetype": "text/x-python",
   "name": "python",
   "nbconvert_exporter": "python",
   "pygments_lexer": "ipython3",
   "version": "3.7.5"
  }
 },
 "nbformat": 4,
 "nbformat_minor": 2
}
