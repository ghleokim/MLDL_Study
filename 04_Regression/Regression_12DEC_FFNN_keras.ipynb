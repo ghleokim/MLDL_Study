{
 "cells": [
  {
   "cell_type": "markdown",
   "metadata": {},
   "source": [
    "# Regression - FFNN (practice)\n",
    "\n",
    "12 Dec 2019"
   ]
  },
  {
   "cell_type": "code",
   "execution_count": 1,
   "metadata": {},
   "outputs": [
    {
     "data": {
      "text/html": [
       "<div>\n",
       "<style scoped>\n",
       "    .dataframe tbody tr th:only-of-type {\n",
       "        vertical-align: middle;\n",
       "    }\n",
       "\n",
       "    .dataframe tbody tr th {\n",
       "        vertical-align: top;\n",
       "    }\n",
       "\n",
       "    .dataframe thead th {\n",
       "        text-align: right;\n",
       "    }\n",
       "</style>\n",
       "<table border=\"1\" class=\"dataframe\">\n",
       "  <thead>\n",
       "    <tr style=\"text-align: right;\">\n",
       "      <th></th>\n",
       "      <th>Sex</th>\n",
       "      <th>Length</th>\n",
       "      <th>Diameter</th>\n",
       "      <th>Height</th>\n",
       "      <th>Whole weight</th>\n",
       "      <th>Shucked weight</th>\n",
       "      <th>Viscera weight</th>\n",
       "      <th>Shell weight</th>\n",
       "      <th>Rings</th>\n",
       "    </tr>\n",
       "  </thead>\n",
       "  <tbody>\n",
       "    <tr>\n",
       "      <th>0</th>\n",
       "      <td>1</td>\n",
       "      <td>0.455</td>\n",
       "      <td>0.365</td>\n",
       "      <td>0.095</td>\n",
       "      <td>0.5140</td>\n",
       "      <td>0.2245</td>\n",
       "      <td>0.1010</td>\n",
       "      <td>0.150</td>\n",
       "      <td>15</td>\n",
       "    </tr>\n",
       "    <tr>\n",
       "      <th>1</th>\n",
       "      <td>1</td>\n",
       "      <td>0.350</td>\n",
       "      <td>0.265</td>\n",
       "      <td>0.090</td>\n",
       "      <td>0.2255</td>\n",
       "      <td>0.0995</td>\n",
       "      <td>0.0485</td>\n",
       "      <td>0.070</td>\n",
       "      <td>7</td>\n",
       "    </tr>\n",
       "    <tr>\n",
       "      <th>2</th>\n",
       "      <td>2</td>\n",
       "      <td>0.530</td>\n",
       "      <td>0.420</td>\n",
       "      <td>0.135</td>\n",
       "      <td>0.6770</td>\n",
       "      <td>0.2565</td>\n",
       "      <td>0.1415</td>\n",
       "      <td>0.210</td>\n",
       "      <td>9</td>\n",
       "    </tr>\n",
       "    <tr>\n",
       "      <th>3</th>\n",
       "      <td>1</td>\n",
       "      <td>0.440</td>\n",
       "      <td>0.365</td>\n",
       "      <td>0.125</td>\n",
       "      <td>0.5160</td>\n",
       "      <td>0.2155</td>\n",
       "      <td>0.1140</td>\n",
       "      <td>0.155</td>\n",
       "      <td>10</td>\n",
       "    </tr>\n",
       "    <tr>\n",
       "      <th>4</th>\n",
       "      <td>0</td>\n",
       "      <td>0.330</td>\n",
       "      <td>0.255</td>\n",
       "      <td>0.080</td>\n",
       "      <td>0.2050</td>\n",
       "      <td>0.0895</td>\n",
       "      <td>0.0395</td>\n",
       "      <td>0.055</td>\n",
       "      <td>7</td>\n",
       "    </tr>\n",
       "  </tbody>\n",
       "</table>\n",
       "</div>"
      ],
      "text/plain": [
       "   Sex  Length  Diameter  Height  Whole weight  Shucked weight  \\\n",
       "0    1   0.455     0.365   0.095        0.5140          0.2245   \n",
       "1    1   0.350     0.265   0.090        0.2255          0.0995   \n",
       "2    2   0.530     0.420   0.135        0.6770          0.2565   \n",
       "3    1   0.440     0.365   0.125        0.5160          0.2155   \n",
       "4    0   0.330     0.255   0.080        0.2050          0.0895   \n",
       "\n",
       "   Viscera weight  Shell weight  Rings  \n",
       "0          0.1010         0.150     15  \n",
       "1          0.0485         0.070      7  \n",
       "2          0.1415         0.210      9  \n",
       "3          0.1140         0.155     10  \n",
       "4          0.0395         0.055      7  "
      ]
     },
     "execution_count": 1,
     "metadata": {},
     "output_type": "execute_result"
    }
   ],
   "source": [
    "import numpy as np\n",
    "import pandas as pd\n",
    "\n",
    "# import\n",
    "df = pd.read_csv('reg_data/abalone.data',\n",
    "                 names=['Sex','Length','Diameter','Height','Whole weight',\n",
    "                        'Shucked weight','Viscera weight','Shell weight','Rings'])\n",
    "\n",
    "# Preprocessing: replace I,M,F to 0,1,2\n",
    "df['Sex'] = df['Sex'].replace(('I','M','F'),(0,1,2))\n",
    "df.head()"
   ]
  },
  {
   "cell_type": "code",
   "execution_count": 2,
   "metadata": {},
   "outputs": [
    {
     "name": "stdout",
     "output_type": "stream",
     "text": [
      "(4177, 8) (4177,)\n"
     ]
    }
   ],
   "source": [
    "# Train-test split\n",
    "\n",
    "from sklearn.model_selection import train_test_split\n",
    "\n",
    "X = df.iloc[:,:-1]\n",
    "y = df.iloc[:, -1]\n",
    "\n",
    "print(X.shape, y.shape)"
   ]
  },
  {
   "cell_type": "code",
   "execution_count": 3,
   "metadata": {},
   "outputs": [
    {
     "data": {
      "text/html": [
       "<div>\n",
       "<style scoped>\n",
       "    .dataframe tbody tr th:only-of-type {\n",
       "        vertical-align: middle;\n",
       "    }\n",
       "\n",
       "    .dataframe tbody tr th {\n",
       "        vertical-align: top;\n",
       "    }\n",
       "\n",
       "    .dataframe thead th {\n",
       "        text-align: right;\n",
       "    }\n",
       "</style>\n",
       "<table border=\"1\" class=\"dataframe\">\n",
       "  <thead>\n",
       "    <tr style=\"text-align: right;\">\n",
       "      <th></th>\n",
       "      <th>Sex</th>\n",
       "      <th>Length</th>\n",
       "      <th>Diameter</th>\n",
       "      <th>Height</th>\n",
       "      <th>Whole weight</th>\n",
       "      <th>Shucked weight</th>\n",
       "      <th>Viscera weight</th>\n",
       "      <th>Shell weight</th>\n",
       "    </tr>\n",
       "  </thead>\n",
       "  <tbody>\n",
       "    <tr>\n",
       "      <th>668</th>\n",
       "      <td>1</td>\n",
       "      <td>0.550</td>\n",
       "      <td>0.425</td>\n",
       "      <td>0.155</td>\n",
       "      <td>0.9175</td>\n",
       "      <td>0.2775</td>\n",
       "      <td>0.2430</td>\n",
       "      <td>0.3350</td>\n",
       "    </tr>\n",
       "    <tr>\n",
       "      <th>1580</th>\n",
       "      <td>0</td>\n",
       "      <td>0.500</td>\n",
       "      <td>0.400</td>\n",
       "      <td>0.120</td>\n",
       "      <td>0.6160</td>\n",
       "      <td>0.2610</td>\n",
       "      <td>0.1430</td>\n",
       "      <td>0.1935</td>\n",
       "    </tr>\n",
       "    <tr>\n",
       "      <th>3784</th>\n",
       "      <td>1</td>\n",
       "      <td>0.620</td>\n",
       "      <td>0.480</td>\n",
       "      <td>0.155</td>\n",
       "      <td>1.2555</td>\n",
       "      <td>0.5270</td>\n",
       "      <td>0.3740</td>\n",
       "      <td>0.3175</td>\n",
       "    </tr>\n",
       "    <tr>\n",
       "      <th>463</th>\n",
       "      <td>0</td>\n",
       "      <td>0.220</td>\n",
       "      <td>0.165</td>\n",
       "      <td>0.055</td>\n",
       "      <td>0.0545</td>\n",
       "      <td>0.0215</td>\n",
       "      <td>0.0120</td>\n",
       "      <td>0.0200</td>\n",
       "    </tr>\n",
       "    <tr>\n",
       "      <th>2615</th>\n",
       "      <td>1</td>\n",
       "      <td>0.645</td>\n",
       "      <td>0.500</td>\n",
       "      <td>0.175</td>\n",
       "      <td>1.5105</td>\n",
       "      <td>0.6735</td>\n",
       "      <td>0.3755</td>\n",
       "      <td>0.3775</td>\n",
       "    </tr>\n",
       "  </tbody>\n",
       "</table>\n",
       "</div>"
      ],
      "text/plain": [
       "      Sex  Length  Diameter  Height  Whole weight  Shucked weight  \\\n",
       "668     1   0.550     0.425   0.155        0.9175          0.2775   \n",
       "1580    0   0.500     0.400   0.120        0.6160          0.2610   \n",
       "3784    1   0.620     0.480   0.155        1.2555          0.5270   \n",
       "463     0   0.220     0.165   0.055        0.0545          0.0215   \n",
       "2615    1   0.645     0.500   0.175        1.5105          0.6735   \n",
       "\n",
       "      Viscera weight  Shell weight  \n",
       "668           0.2430        0.3350  \n",
       "1580          0.1430        0.1935  \n",
       "3784          0.3740        0.3175  \n",
       "463           0.0120        0.0200  \n",
       "2615          0.3755        0.3775  "
      ]
     },
     "execution_count": 3,
     "metadata": {},
     "output_type": "execute_result"
    }
   ],
   "source": [
    "X_tr, X_te, y_tr, y_te = train_test_split(X, y, test_size=0.2, random_state=0)\n",
    "X_te.head()"
   ]
  },
  {
   "cell_type": "code",
   "execution_count": 4,
   "metadata": {},
   "outputs": [
    {
     "name": "stdout",
     "output_type": "stream",
     "text": [
      "(3341, 8) (836, 8) (3341,) (836,)\n"
     ]
    }
   ],
   "source": [
    "print(X_tr.shape, X_te.shape, y_tr.shape, y_te.shape)"
   ]
  },
  {
   "cell_type": "code",
   "execution_count": 5,
   "metadata": {},
   "outputs": [],
   "source": [
    "X_tr = X_tr.astype('float32')\n",
    "X_te = X_te.astype('float32')\n",
    "y_tr = y_tr.astype('float32')\n",
    "y_te = y_te.astype('float32')"
   ]
  },
  {
   "cell_type": "markdown",
   "metadata": {},
   "source": [
    "libraries"
   ]
  },
  {
   "cell_type": "markdown",
   "metadata": {},
   "source": [
    "## procedure from session"
   ]
  },
  {
   "cell_type": "code",
   "execution_count": 6,
   "metadata": {},
   "outputs": [],
   "source": [
    "import tensorflow as tf"
   ]
  },
  {
   "cell_type": "code",
   "execution_count": 7,
   "metadata": {},
   "outputs": [],
   "source": [
    "from tensorflow.keras.models import Sequential\n",
    "from tensorflow.keras.layers import Dense, Activation"
   ]
  },
  {
   "cell_type": "code",
   "execution_count": 8,
   "metadata": {},
   "outputs": [],
   "source": [
    "model = Sequential()\n",
    "input_dim = 8\n",
    "model.add(Dense(64, input_dim=input_dim, activation='relu'))\n",
    "model.add(Dense(64, activation='relu'))\n",
    "model.add(Dense(1))"
   ]
  },
  {
   "cell_type": "code",
   "execution_count": 9,
   "metadata": {
    "collapsed": true
   },
   "outputs": [
    {
     "name": "stdout",
     "output_type": "stream",
     "text": [
      "Model: \"sequential\"\n",
      "_________________________________________________________________\n",
      "Layer (type)                 Output Shape              Param #   \n",
      "=================================================================\n",
      "dense (Dense)                (None, 64)                576       \n",
      "_________________________________________________________________\n",
      "dense_1 (Dense)              (None, 64)                4160      \n",
      "_________________________________________________________________\n",
      "dense_2 (Dense)              (None, 1)                 65        \n",
      "=================================================================\n",
      "Total params: 4,801\n",
      "Trainable params: 4,801\n",
      "Non-trainable params: 0\n",
      "_________________________________________________________________\n"
     ]
    }
   ],
   "source": [
    "model.summary()"
   ]
  },
  {
   "cell_type": "code",
   "execution_count": 10,
   "metadata": {},
   "outputs": [],
   "source": [
    "batch_size=128\n",
    "epochs=100"
   ]
  },
  {
   "cell_type": "code",
   "execution_count": 11,
   "metadata": {
    "scrolled": false
   },
   "outputs": [],
   "source": [
    "optimizer = tf.keras.optimizers.RMSprop(0.001)\n",
    "model.compile(optimizer=optimizer, loss='mean_squared_error', metrics=['mae', 'mse'])"
   ]
  },
  {
   "cell_type": "code",
   "execution_count": 12,
   "metadata": {
    "collapsed": true
   },
   "outputs": [
    {
     "name": "stdout",
     "output_type": "stream",
     "text": [
      "WARNING:tensorflow:Falling back from v2 loop because of error: Failed to find data adapter that can handle input: <class 'pandas.core.frame.DataFrame'>, <class 'NoneType'>\n",
      "Train on 3341 samples, validate on 836 samples\n",
      "Epoch 1/100\n",
      "3341/3341 [==============================] - 1s 280us/sample - loss: 29.8994 - mae: 4.1873 - mse: 29.8994 - val_loss: 7.1837 - val_mae: 1.8583 - val_mse: 7.1837\n",
      "Epoch 2/100\n",
      "3341/3341 [==============================] - 1s 162us/sample - loss: 6.8134 - mae: 1.8820 - mse: 6.8134 - val_loss: 6.7750 - val_mae: 1.7554 - val_mse: 6.7750\n",
      "Epoch 3/100\n",
      "3341/3341 [==============================] - 1s 153us/sample - loss: 6.4649 - mae: 1.8285 - mse: 6.4649 - val_loss: 6.4043 - val_mae: 1.7451 - val_mse: 6.4043\n",
      "Epoch 4/100\n",
      "3341/3341 [==============================] - 0s 139us/sample - loss: 6.1602 - mae: 1.7860 - mse: 6.1602 - val_loss: 6.0986 - val_mae: 1.7502 - val_mse: 6.0986\n",
      "Epoch 5/100\n",
      "3341/3341 [==============================] - 0s 143us/sample - loss: 5.8638 - mae: 1.7388 - mse: 5.8638 - val_loss: 5.8742 - val_mae: 1.6811 - val_mse: 5.8742\n",
      "Epoch 6/100\n",
      "3341/3341 [==============================] - 0s 148us/sample - loss: 5.6342 - mae: 1.7007 - mse: 5.6342 - val_loss: 5.6637 - val_mae: 1.7149 - val_mse: 5.6637\n",
      "Epoch 7/100\n",
      "3341/3341 [==============================] - 0s 144us/sample - loss: 5.4282 - mae: 1.6684 - mse: 5.4282 - val_loss: 5.5331 - val_mae: 1.6324 - val_mse: 5.5331\n",
      "Epoch 8/100\n",
      "3341/3341 [==============================] - 0s 146us/sample - loss: 5.2869 - mae: 1.6484 - mse: 5.2869 - val_loss: 5.3505 - val_mae: 1.6317 - val_mse: 5.3505\n",
      "Epoch 9/100\n",
      "3341/3341 [==============================] - 0s 141us/sample - loss: 5.1230 - mae: 1.6231 - mse: 5.1230 - val_loss: 5.5640 - val_mae: 1.5568 - val_mse: 5.5640\n",
      "Epoch 10/100\n",
      "3341/3341 [==============================] - 0s 142us/sample - loss: 5.0556 - mae: 1.6176 - mse: 5.0556 - val_loss: 5.1597 - val_mae: 1.5847 - val_mse: 5.1597\n",
      "Epoch 11/100\n",
      "3341/3341 [==============================] - 0s 148us/sample - loss: 4.9785 - mae: 1.6006 - mse: 4.9785 - val_loss: 5.1421 - val_mae: 1.6249 - val_mse: 5.1421\n",
      "Epoch 12/100\n",
      "3341/3341 [==============================] - 0s 147us/sample - loss: 4.9192 - mae: 1.5863 - mse: 4.9192 - val_loss: 5.6324 - val_mae: 1.8277 - val_mse: 5.6324\n",
      "Epoch 13/100\n",
      "3341/3341 [==============================] - 0s 144us/sample - loss: 4.8738 - mae: 1.5822 - mse: 4.8738 - val_loss: 5.2159 - val_mae: 1.5269 - val_mse: 5.2159\n",
      "Epoch 14/100\n",
      "3341/3341 [==============================] - 0s 143us/sample - loss: 4.8479 - mae: 1.5754 - mse: 4.8479 - val_loss: 5.0802 - val_mae: 1.6413 - val_mse: 5.0802\n",
      "Epoch 15/100\n",
      "3341/3341 [==============================] - 0s 143us/sample - loss: 4.8031 - mae: 1.5777 - mse: 4.8031 - val_loss: 5.4561 - val_mae: 1.7828 - val_mse: 5.4561\n",
      "Epoch 16/100\n",
      "3341/3341 [==============================] - 0s 142us/sample - loss: 4.8130 - mae: 1.5773 - mse: 4.8130 - val_loss: 5.0954 - val_mae: 1.5268 - val_mse: 5.0954\n",
      "Epoch 17/100\n",
      "3341/3341 [==============================] - 0s 146us/sample - loss: 4.7301 - mae: 1.5682 - mse: 4.7301 - val_loss: 5.5050 - val_mae: 1.7976 - val_mse: 5.5050\n",
      "Epoch 18/100\n",
      "3341/3341 [==============================] - 0s 144us/sample - loss: 4.7884 - mae: 1.5776 - mse: 4.7884 - val_loss: 5.4951 - val_mae: 1.5509 - val_mse: 5.4951\n",
      "Epoch 19/100\n",
      "3341/3341 [==============================] - 0s 146us/sample - loss: 4.7182 - mae: 1.5659 - mse: 4.7182 - val_loss: 5.2614 - val_mae: 1.5317 - val_mse: 5.2614\n",
      "Epoch 20/100\n",
      "3341/3341 [==============================] - 0s 143us/sample - loss: 4.7429 - mae: 1.5671 - mse: 4.7429 - val_loss: 5.7055 - val_mae: 1.5800 - val_mse: 5.7055\n",
      "Epoch 21/100\n",
      "3341/3341 [==============================] - 0s 147us/sample - loss: 4.7013 - mae: 1.5547 - mse: 4.7013 - val_loss: 5.4261 - val_mae: 1.5478 - val_mse: 5.4261\n",
      "Epoch 22/100\n",
      "3341/3341 [==============================] - 0s 143us/sample - loss: 4.7210 - mae: 1.5661 - mse: 4.7210 - val_loss: 4.8885 - val_mae: 1.5278 - val_mse: 4.8885\n",
      "Epoch 23/100\n",
      "3341/3341 [==============================] - 1s 151us/sample - loss: 4.6653 - mae: 1.5526 - mse: 4.6653 - val_loss: 5.1107 - val_mae: 1.6575 - val_mse: 5.1107\n",
      "Epoch 24/100\n",
      "3341/3341 [==============================] - 0s 144us/sample - loss: 4.6923 - mae: 1.5615 - mse: 4.6923 - val_loss: 4.8557 - val_mae: 1.5335 - val_mse: 4.8557\n",
      "Epoch 25/100\n",
      "3341/3341 [==============================] - 0s 147us/sample - loss: 4.6934 - mae: 1.5520 - mse: 4.6934 - val_loss: 4.8612 - val_mae: 1.5086 - val_mse: 4.8612\n",
      "Epoch 26/100\n",
      "3341/3341 [==============================] - 0s 146us/sample - loss: 4.6406 - mae: 1.5489 - mse: 4.6406 - val_loss: 4.8348 - val_mae: 1.5520 - val_mse: 4.8348\n",
      "Epoch 27/100\n",
      "3341/3341 [==============================] - 1s 151us/sample - loss: 4.6568 - mae: 1.5544 - mse: 4.6568 - val_loss: 5.1559 - val_mae: 1.5213 - val_mse: 5.1559\n",
      "Epoch 28/100\n",
      "3341/3341 [==============================] - 0s 148us/sample - loss: 4.6803 - mae: 1.5505 - mse: 4.6803 - val_loss: 5.1027 - val_mae: 1.5149 - val_mse: 5.1027\n",
      "Epoch 29/100\n",
      "3341/3341 [==============================] - 1s 160us/sample - loss: 4.6329 - mae: 1.5380 - mse: 4.6329 - val_loss: 4.8960 - val_mae: 1.5916 - val_mse: 4.8960\n",
      "Epoch 30/100\n",
      "3341/3341 [==============================] - 0s 149us/sample - loss: 4.6190 - mae: 1.5405 - mse: 4.6190 - val_loss: 4.7781 - val_mae: 1.5323 - val_mse: 4.7781\n",
      "Epoch 31/100\n",
      "3341/3341 [==============================] - 1s 164us/sample - loss: 4.6106 - mae: 1.5387 - mse: 4.6106 - val_loss: 4.8103 - val_mae: 1.5566 - val_mse: 4.8103\n",
      "Epoch 32/100\n",
      "3341/3341 [==============================] - 1s 158us/sample - loss: 4.6067 - mae: 1.5348 - mse: 4.6067 - val_loss: 4.7791 - val_mae: 1.5330 - val_mse: 4.7791\n",
      "Epoch 33/100\n",
      "3341/3341 [==============================] - 1s 151us/sample - loss: 4.5934 - mae: 1.5377 - mse: 4.5934 - val_loss: 4.7790 - val_mae: 1.4949 - val_mse: 4.7790\n",
      "Epoch 34/100\n",
      "3341/3341 [==============================] - 1s 171us/sample - loss: 4.5836 - mae: 1.5393 - mse: 4.5836 - val_loss: 5.1505 - val_mae: 1.5148 - val_mse: 5.1505\n",
      "Epoch 35/100\n",
      "3341/3341 [==============================] - 1s 180us/sample - loss: 4.6055 - mae: 1.5379 - mse: 4.6055 - val_loss: 4.7314 - val_mae: 1.5030 - val_mse: 4.7314\n",
      "Epoch 36/100\n",
      "3341/3341 [==============================] - 1s 189us/sample - loss: 4.5799 - mae: 1.5391 - mse: 4.5799 - val_loss: 4.9008 - val_mae: 1.6185 - val_mse: 4.9008\n",
      "Epoch 37/100\n",
      "3341/3341 [==============================] - 1s 172us/sample - loss: 4.5459 - mae: 1.5284 - mse: 4.5459 - val_loss: 4.7305 - val_mae: 1.5265 - val_mse: 4.7305\n",
      "Epoch 38/100\n",
      "3341/3341 [==============================] - 1s 173us/sample - loss: 4.5981 - mae: 1.5387 - mse: 4.5981 - val_loss: 4.7095 - val_mae: 1.5088 - val_mse: 4.7095\n",
      "Epoch 39/100\n",
      "3341/3341 [==============================] - 0s 145us/sample - loss: 4.5060 - mae: 1.5161 - mse: 4.5060 - val_loss: 4.8804 - val_mae: 1.4967 - val_mse: 4.8804\n",
      "Epoch 40/100\n",
      "3341/3341 [==============================] - 1s 151us/sample - loss: 4.5737 - mae: 1.5311 - mse: 4.5737 - val_loss: 4.8028 - val_mae: 1.5253 - val_mse: 4.8028\n",
      "Epoch 41/100\n",
      "3341/3341 [==============================] - 1s 167us/sample - loss: 4.5112 - mae: 1.5257 - mse: 4.5112 - val_loss: 4.7309 - val_mae: 1.4960 - val_mse: 4.7309\n",
      "Epoch 42/100\n",
      "3341/3341 [==============================] - 0s 140us/sample - loss: 4.5194 - mae: 1.5211 - mse: 4.5194 - val_loss: 4.9870 - val_mae: 1.6645 - val_mse: 4.9871\n",
      "Epoch 43/100\n",
      "3341/3341 [==============================] - 1s 152us/sample - loss: 4.5269 - mae: 1.5258 - mse: 4.5269 - val_loss: 4.6913 - val_mae: 1.4989 - val_mse: 4.6913\n",
      "Epoch 44/100\n",
      "3341/3341 [==============================] - 0s 146us/sample - loss: 4.5111 - mae: 1.5235 - mse: 4.5111 - val_loss: 5.3823 - val_mae: 1.5435 - val_mse: 5.3823\n",
      "Epoch 45/100\n",
      "3341/3341 [==============================] - 1s 153us/sample - loss: 4.4858 - mae: 1.5223 - mse: 4.4858 - val_loss: 4.6645 - val_mae: 1.5228 - val_mse: 4.6645\n",
      "Epoch 46/100\n",
      "3341/3341 [==============================] - 0s 146us/sample - loss: 4.5316 - mae: 1.5247 - mse: 4.5316 - val_loss: 5.7493 - val_mae: 1.6276 - val_mse: 5.7493\n",
      "Epoch 47/100\n",
      "3341/3341 [==============================] - 0s 141us/sample - loss: 4.5267 - mae: 1.5216 - mse: 4.5267 - val_loss: 4.8769 - val_mae: 1.4825 - val_mse: 4.8769\n",
      "Epoch 48/100\n",
      "3341/3341 [==============================] - 0s 140us/sample - loss: 4.4602 - mae: 1.5062 - mse: 4.4602 - val_loss: 4.6473 - val_mae: 1.4928 - val_mse: 4.6473\n",
      "Epoch 49/100\n",
      "3341/3341 [==============================] - 0s 133us/sample - loss: 4.4966 - mae: 1.5129 - mse: 4.4966 - val_loss: 4.6465 - val_mae: 1.5022 - val_mse: 4.6465\n",
      "Epoch 50/100\n",
      "3341/3341 [==============================] - 0s 140us/sample - loss: 4.4731 - mae: 1.5189 - mse: 4.4731 - val_loss: 4.9769 - val_mae: 1.4920 - val_mse: 4.9769\n",
      "Epoch 51/100\n",
      "3341/3341 [==============================] - 0s 139us/sample - loss: 4.4754 - mae: 1.5140 - mse: 4.4754 - val_loss: 5.6162 - val_mae: 1.6044 - val_mse: 5.6162\n",
      "Epoch 52/100\n",
      "3341/3341 [==============================] - 1s 161us/sample - loss: 4.4702 - mae: 1.5053 - mse: 4.4702 - val_loss: 4.7492 - val_mae: 1.5813 - val_mse: 4.7492\n",
      "Epoch 53/100\n",
      "3341/3341 [==============================] - 0s 140us/sample - loss: 4.4464 - mae: 1.5101 - mse: 4.4464 - val_loss: 4.8737 - val_mae: 1.6182 - val_mse: 4.8737\n",
      "Epoch 54/100\n",
      "3341/3341 [==============================] - ETA: 0s - loss: 4.3102 - mae: 1.4952 - mse: 4.310 - 0s 136us/sample - loss: 4.4455 - mae: 1.5085 - mse: 4.4455 - val_loss: 4.9253 - val_mae: 1.6527 - val_mse: 4.9253\n",
      "Epoch 55/100\n",
      "3341/3341 [==============================] - 0s 135us/sample - loss: 4.4719 - mae: 1.5120 - mse: 4.4719 - val_loss: 4.6693 - val_mae: 1.5298 - val_mse: 4.6693\n",
      "Epoch 56/100\n",
      "3341/3341 [==============================] - 0s 138us/sample - loss: 4.4141 - mae: 1.5020 - mse: 4.4141 - val_loss: 4.6907 - val_mae: 1.5587 - val_mse: 4.6907\n",
      "Epoch 57/100\n",
      "3341/3341 [==============================] - 0s 136us/sample - loss: 4.4182 - mae: 1.5060 - mse: 4.4182 - val_loss: 4.6278 - val_mae: 1.5126 - val_mse: 4.6278\n",
      "Epoch 58/100\n",
      "3341/3341 [==============================] - 1s 157us/sample - loss: 4.4827 - mae: 1.5103 - mse: 4.4827 - val_loss: 4.6771 - val_mae: 1.5543 - val_mse: 4.6771\n",
      "Epoch 59/100\n",
      "3341/3341 [==============================] - 0s 144us/sample - loss: 4.4319 - mae: 1.5008 - mse: 4.4319 - val_loss: 4.6233 - val_mae: 1.5056 - val_mse: 4.6233\n",
      "Epoch 60/100\n",
      "3341/3341 [==============================] - 1s 162us/sample - loss: 4.4478 - mae: 1.5071 - mse: 4.4478 - val_loss: 4.9245 - val_mae: 1.6456 - val_mse: 4.9245\n",
      "Epoch 61/100\n",
      "3341/3341 [==============================] - 0s 147us/sample - loss: 4.4084 - mae: 1.5004 - mse: 4.4084 - val_loss: 4.7474 - val_mae: 1.5849 - val_mse: 4.7474\n",
      "Epoch 62/100\n",
      "3341/3341 [==============================] - 1s 153us/sample - loss: 4.4281 - mae: 1.5061 - mse: 4.4281 - val_loss: 4.6131 - val_mae: 1.5046 - val_mse: 4.6131\n",
      "Epoch 63/100\n",
      "3341/3341 [==============================] - 0s 142us/sample - loss: 4.4228 - mae: 1.5034 - mse: 4.4228 - val_loss: 4.6517 - val_mae: 1.4680 - val_mse: 4.6517\n",
      "Epoch 64/100\n",
      "3341/3341 [==============================] - 1s 169us/sample - loss: 4.4034 - mae: 1.4984 - mse: 4.4034 - val_loss: 4.5942 - val_mae: 1.5084 - val_mse: 4.5942\n",
      "Epoch 65/100\n",
      "3341/3341 [==============================] - 1s 168us/sample - loss: 4.4268 - mae: 1.5045 - mse: 4.4268 - val_loss: 4.7077 - val_mae: 1.4705 - val_mse: 4.7077\n",
      "Epoch 66/100\n",
      "3341/3341 [==============================] - 1s 168us/sample - loss: 4.3856 - mae: 1.4924 - mse: 4.3856 - val_loss: 4.7759 - val_mae: 1.5843 - val_mse: 4.7759\n",
      "Epoch 67/100\n",
      "3341/3341 [==============================] - 1s 151us/sample - loss: 4.3899 - mae: 1.4990 - mse: 4.3899 - val_loss: 7.7822 - val_mae: 2.2769 - val_mse: 7.7822\n",
      "Epoch 68/100\n",
      "3341/3341 [==============================] - 1s 189us/sample - loss: 4.4170 - mae: 1.5031 - mse: 4.4170 - val_loss: 4.7134 - val_mae: 1.5616 - val_mse: 4.7134\n",
      "Epoch 69/100\n",
      "3341/3341 [==============================] - 1s 181us/sample - loss: 4.4064 - mae: 1.4986 - mse: 4.4064 - val_loss: 4.5522 - val_mae: 1.4848 - val_mse: 4.5522\n",
      "Epoch 70/100\n",
      "3341/3341 [==============================] - 1s 173us/sample - loss: 4.4032 - mae: 1.4938 - mse: 4.4032 - val_loss: 6.1223 - val_mae: 1.6766 - val_mse: 6.1223\n",
      "Epoch 71/100\n",
      "3341/3341 [==============================] - 1s 166us/sample - loss: 4.4148 - mae: 1.4968 - mse: 4.4148 - val_loss: 4.6979 - val_mae: 1.4673 - val_mse: 4.6979\n",
      "Epoch 72/100\n",
      "3341/3341 [==============================] - 1s 176us/sample - loss: 4.3792 - mae: 1.4911 - mse: 4.3792 - val_loss: 4.5571 - val_mae: 1.4748 - val_mse: 4.5571\n",
      "Epoch 73/100\n",
      "3341/3341 [==============================] - 0s 142us/sample - loss: 4.4217 - mae: 1.5033 - mse: 4.4217 - val_loss: 4.6204 - val_mae: 1.5273 - val_mse: 4.6204\n",
      "Epoch 74/100\n",
      "3341/3341 [==============================] - 0s 142us/sample - loss: 4.3984 - mae: 1.4963 - mse: 4.3984 - val_loss: 4.7782 - val_mae: 1.4716 - val_mse: 4.7782\n",
      "Epoch 75/100\n",
      "3341/3341 [==============================] - 0s 145us/sample - loss: 4.3667 - mae: 1.4926 - mse: 4.3667 - val_loss: 5.4438 - val_mae: 1.7780 - val_mse: 5.4438\n",
      "Epoch 76/100\n",
      "3341/3341 [==============================] - 0s 141us/sample - loss: 4.3767 - mae: 1.5013 - mse: 4.3767 - val_loss: 4.7466 - val_mae: 1.4689 - val_mse: 4.7466\n",
      "Epoch 77/100\n",
      "3341/3341 [==============================] - 1s 166us/sample - loss: 4.4160 - mae: 1.4971 - mse: 4.4160 - val_loss: 4.5654 - val_mae: 1.5138 - val_mse: 4.5654\n",
      "Epoch 78/100\n",
      "3341/3341 [==============================] - 0s 140us/sample - loss: 4.3503 - mae: 1.4859 - mse: 4.3503 - val_loss: 5.0546 - val_mae: 1.6744 - val_mse: 5.0546\n",
      "Epoch 79/100\n",
      "3341/3341 [==============================] - 0s 147us/sample - loss: 4.3443 - mae: 1.4879 - mse: 4.3443 - val_loss: 5.6394 - val_mae: 1.5899 - val_mse: 5.6394\n",
      "Epoch 80/100\n",
      "3341/3341 [==============================] - 0s 143us/sample - loss: 4.3495 - mae: 1.4877 - mse: 4.3495 - val_loss: 4.5453 - val_mae: 1.4794 - val_mse: 4.5453\n",
      "Epoch 81/100\n",
      "3341/3341 [==============================] - 0s 149us/sample - loss: 4.3836 - mae: 1.4916 - mse: 4.3836 - val_loss: 4.7993 - val_mae: 1.4777 - val_mse: 4.7993\n",
      "Epoch 82/100\n",
      "3341/3341 [==============================] - 0s 145us/sample - loss: 4.3759 - mae: 1.4958 - mse: 4.3759 - val_loss: 4.6247 - val_mae: 1.4682 - val_mse: 4.6247\n",
      "Epoch 83/100\n",
      "3341/3341 [==============================] - 0s 145us/sample - loss: 4.3494 - mae: 1.4919 - mse: 4.3494 - val_loss: 5.1809 - val_mae: 1.5158 - val_mse: 5.1809\n",
      "Epoch 84/100\n",
      "3341/3341 [==============================] - 0s 138us/sample - loss: 4.3829 - mae: 1.4904 - mse: 4.3829 - val_loss: 4.5335 - val_mae: 1.4748 - val_mse: 4.5335\n",
      "Epoch 85/100\n",
      "3341/3341 [==============================] - 0s 145us/sample - loss: 4.3807 - mae: 1.4896 - mse: 4.3807 - val_loss: 4.6884 - val_mae: 1.5491 - val_mse: 4.6884\n",
      "Epoch 86/100\n",
      "3341/3341 [==============================] - 0s 134us/sample - loss: 4.3778 - mae: 1.4948 - mse: 4.3778 - val_loss: 4.6340 - val_mae: 1.4655 - val_mse: 4.6340\n",
      "Epoch 87/100\n",
      "3341/3341 [==============================] - 0s 147us/sample - loss: 4.3605 - mae: 1.4844 - mse: 4.3605 - val_loss: 4.9876 - val_mae: 1.4976 - val_mse: 4.9876\n",
      "Epoch 88/100\n",
      "3341/3341 [==============================] - 0s 139us/sample - loss: 4.3494 - mae: 1.4865 - mse: 4.3494 - val_loss: 4.5219 - val_mae: 1.4684 - val_mse: 4.5219\n",
      "Epoch 89/100\n",
      "3341/3341 [==============================] - 0s 144us/sample - loss: 4.3395 - mae: 1.4816 - mse: 4.3395 - val_loss: 4.5367 - val_mae: 1.4782 - val_mse: 4.5367\n",
      "Epoch 90/100\n",
      "3341/3341 [==============================] - 0s 144us/sample - loss: 4.3810 - mae: 1.4910 - mse: 4.3810 - val_loss: 4.6051 - val_mae: 1.5357 - val_mse: 4.6051\n",
      "Epoch 91/100\n",
      "3341/3341 [==============================] - 1s 152us/sample - loss: 4.3582 - mae: 1.4879 - mse: 4.3582 - val_loss: 4.5413 - val_mae: 1.4709 - val_mse: 4.5413\n",
      "Epoch 92/100\n",
      "3341/3341 [==============================] - 0s 139us/sample - loss: 4.3235 - mae: 1.4858 - mse: 4.3235 - val_loss: 4.6780 - val_mae: 1.4640 - val_mse: 4.6780\n",
      "Epoch 93/100\n",
      "3341/3341 [==============================] - 0s 144us/sample - loss: 4.3554 - mae: 1.4860 - mse: 4.3554 - val_loss: 4.6514 - val_mae: 1.5590 - val_mse: 4.6514\n",
      "Epoch 94/100\n"
     ]
    },
    {
     "name": "stdout",
     "output_type": "stream",
     "text": [
      "3341/3341 [==============================] - 1s 152us/sample - loss: 4.3836 - mae: 1.4946 - mse: 4.3836 - val_loss: 4.5313 - val_mae: 1.4785 - val_mse: 4.5313\n",
      "Epoch 95/100\n",
      "3341/3341 [==============================] - 1s 158us/sample - loss: 4.3073 - mae: 1.4808 - mse: 4.3073 - val_loss: 5.2470 - val_mae: 1.5299 - val_mse: 5.2470\n",
      "Epoch 96/100\n",
      "3341/3341 [==============================] - 1s 156us/sample - loss: 4.3430 - mae: 1.4864 - mse: 4.3430 - val_loss: 4.5177 - val_mae: 1.4787 - val_mse: 4.5177\n",
      "Epoch 97/100\n",
      "3341/3341 [==============================] - 0s 147us/sample - loss: 4.3382 - mae: 1.4852 - mse: 4.3382 - val_loss: 4.7517 - val_mae: 1.4745 - val_mse: 4.7517\n",
      "Epoch 98/100\n",
      "3341/3341 [==============================] - 0s 140us/sample - loss: 4.3000 - mae: 1.4729 - mse: 4.3000 - val_loss: 5.0842 - val_mae: 1.6984 - val_mse: 5.0842\n",
      "Epoch 99/100\n",
      "3341/3341 [==============================] - 0s 148us/sample - loss: 4.3222 - mae: 1.4858 - mse: 4.3222 - val_loss: 4.5239 - val_mae: 1.4863 - val_mse: 4.5239\n",
      "Epoch 100/100\n",
      "3341/3341 [==============================] - 0s 137us/sample - loss: 4.3071 - mae: 1.4814 - mse: 4.3071 - val_loss: 4.5355 - val_mae: 1.4997 - val_mse: 4.5355\n"
     ]
    }
   ],
   "source": [
    "history = model.fit(X_tr, y_tr, \n",
    "                    epochs=epochs, \n",
    "                    verbose=1, validation_data=(X_te, y_te))"
   ]
  },
  {
   "cell_type": "code",
   "execution_count": 13,
   "metadata": {
    "collapsed": true
   },
   "outputs": [
    {
     "name": "stdout",
     "output_type": "stream",
     "text": [
      "WARNING:tensorflow:Falling back from v2 loop because of error: Failed to find data adapter that can handle input: <class 'pandas.core.frame.DataFrame'>, <class 'NoneType'>\n",
      "Test error: 4.535516875782652\n",
      "Test accuracy: 1.4997241\n"
     ]
    }
   ],
   "source": [
    "score = model.evaluate(X_te, y_te, verbose=0)\n",
    "print('Test error:', score[0]) \n",
    "print('Test accuracy:', score[1])"
   ]
  },
  {
   "cell_type": "code",
   "execution_count": 16,
   "metadata": {
    "collapsed": true
   },
   "outputs": [
    {
     "data": {
      "image/png": "[encoded data removed]",
      "text/plain": [
       "<Figure size 432x288 with 1 Axes>"
      ]
     },
     "metadata": {
      "needs_background": "light"
     },
     "output_type": "display_data"
    }
   ],
   "source": [
    "import matplotlib.pyplot as plt\n",
    "\n",
    "plt.plot(history.history['mse'],'r')\n",
    "plt.plot(history.history['val_mse'],'b')\n",
    "plt.legend({'training mse':'r', 'validation mse': 'b'})\n",
    "plt.show()"
   ]
  },
  {
   "cell_type": "markdown",
   "metadata": {},
   "source": [
    "## Procedure from Tensorflow Doc"
   ]
  },
  {
   "cell_type": "code",
   "execution_count": 17,
   "metadata": {},
   "outputs": [],
   "source": [
    "import tensorflow as tf"
   ]
  },
  {
   "cell_type": "code",
   "execution_count": 18,
   "metadata": {},
   "outputs": [],
   "source": [
    "from tensorflow.keras.models import Sequential\n",
    "from tensorflow.keras.layers import Dense, Activation"
   ]
  },
  {
   "cell_type": "code",
   "execution_count": 19,
   "metadata": {},
   "outputs": [],
   "source": [
    "model = Sequential()\n",
    "input_dim = 8\n",
    "model.add(Dense(64, input_dim=input_dim, activation='relu'))\n",
    "model.add(Dense(64, activation='relu'))\n",
    "model.add(Dense(1))"
   ]
  },
  {
   "cell_type": "code",
   "execution_count": 20,
   "metadata": {},
   "outputs": [
    {
     "name": "stdout",
     "output_type": "stream",
     "text": [
      "Model: \"sequential_1\"\n",
      "_________________________________________________________________\n",
      "Layer (type)                 Output Shape              Param #   \n",
      "=================================================================\n",
      "dense_3 (Dense)              (None, 64)                576       \n",
      "_________________________________________________________________\n",
      "dense_4 (Dense)              (None, 64)                4160      \n",
      "_________________________________________________________________\n",
      "dense_5 (Dense)              (None, 1)                 65        \n",
      "=================================================================\n",
      "Total params: 4,801\n",
      "Trainable params: 4,801\n",
      "Non-trainable params: 0\n",
      "_________________________________________________________________\n"
     ]
    }
   ],
   "source": [
    "model.summary()"
   ]
  },
  {
   "cell_type": "code",
   "execution_count": 21,
   "metadata": {},
   "outputs": [],
   "source": [
    "batch_size=128\n",
    "epochs=100"
   ]
  },
  {
   "cell_type": "code",
   "execution_count": 22,
   "metadata": {
    "scrolled": false
   },
   "outputs": [],
   "source": [
    "optimizer = tf.keras.optimizers.RMSprop(0.001)\n",
    "model.compile(optimizer=optimizer, loss='mean_squared_error', metrics=['mae', 'mse'])"
   ]
  },
  {
   "cell_type": "code",
   "execution_count": 23,
   "metadata": {
    "scrolled": true
   },
   "outputs": [
    {
     "name": "stdout",
     "output_type": "stream",
     "text": [
      "WARNING:tensorflow:Falling back from v2 loop because of error: Failed to find data adapter that can handle input: <class 'pandas.core.frame.DataFrame'>, <class 'NoneType'>\n",
      "Train on 2672 samples, validate on 669 samples\n",
      "Epoch 1/100\n",
      "2672/2672 [==============================] - 1s 218us/sample - loss: 42.1983 - mae: 5.3802 - mse: 42.1983 - val_loss: 10.7737 - val_mae: 2.6241 - val_mse: 10.7737\n",
      "Epoch 2/100\n",
      "2672/2672 [==============================] - 0s 161us/sample - loss: 8.3137 - mae: 2.1554 - mse: 8.3137 - val_loss: 7.6599 - val_mae: 2.0393 - val_mse: 7.6599\n",
      "Epoch 3/100\n",
      "2672/2672 [==============================] - 0s 157us/sample - loss: 6.8923 - mae: 1.8830 - mse: 6.8923 - val_loss: 7.1297 - val_mae: 1.8942 - val_mse: 7.1297\n",
      "Epoch 4/100\n",
      "2672/2672 [==============================] - 0s 146us/sample - loss: 6.4916 - mae: 1.8325 - mse: 6.4916 - val_loss: 7.4876 - val_mae: 1.8016 - val_mse: 7.4876\n",
      "Epoch 5/100\n",
      "2672/2672 [==============================] - 0s 151us/sample - loss: 6.2861 - mae: 1.8008 - mse: 6.2861 - val_loss: 6.6277 - val_mae: 1.9465 - val_mse: 6.6277\n",
      "Epoch 6/100\n",
      "2672/2672 [==============================] - 0s 156us/sample - loss: 6.1493 - mae: 1.7831 - mse: 6.1493 - val_loss: 6.6818 - val_mae: 2.0170 - val_mse: 6.6818\n",
      "Epoch 7/100\n",
      "2672/2672 [==============================] - 0s 180us/sample - loss: 6.0069 - mae: 1.7619 - mse: 6.0069 - val_loss: 6.2404 - val_mae: 1.8083 - val_mse: 6.2404\n",
      "Epoch 8/100\n",
      "2672/2672 [==============================] - 0s 154us/sample - loss: 5.8468 - mae: 1.7410 - mse: 5.8468 - val_loss: 6.2218 - val_mae: 1.9116 - val_mse: 6.2218\n",
      "Epoch 9/100\n",
      "2672/2672 [==============================] - 0s 150us/sample - loss: 5.7105 - mae: 1.7201 - mse: 5.7105 - val_loss: 5.8991 - val_mae: 1.7927 - val_mse: 5.8991\n",
      "Epoch 10/100\n",
      "2672/2672 [==============================] - 0s 150us/sample - loss: 5.5776 - mae: 1.6982 - mse: 5.5776 - val_loss: 5.8085 - val_mae: 1.6710 - val_mse: 5.8085\n",
      "Epoch 11/100\n",
      "2672/2672 [==============================] - 1s 208us/sample - loss: 5.4368 - mae: 1.6695 - mse: 5.4368 - val_loss: 5.6096 - val_mae: 1.7507 - val_mse: 5.6096\n",
      "Epoch 12/100\n",
      "2672/2672 [==============================] - 1s 190us/sample - loss: 5.3275 - mae: 1.6630 - mse: 5.3275 - val_loss: 5.8626 - val_mae: 1.8989 - val_mse: 5.8626\n",
      "Epoch 13/100\n",
      "2672/2672 [==============================] - 0s 175us/sample - loss: 5.2079 - mae: 1.6344 - mse: 5.2079 - val_loss: 5.3202 - val_mae: 1.6591 - val_mse: 5.3202\n",
      "Epoch 14/100\n",
      "2672/2672 [==============================] - 0s 153us/sample - loss: 5.1613 - mae: 1.6288 - mse: 5.1613 - val_loss: 5.2900 - val_mae: 1.6109 - val_mse: 5.2900\n",
      "Epoch 15/100\n",
      "2672/2672 [==============================] - 0s 146us/sample - loss: 5.0691 - mae: 1.6132 - mse: 5.0691 - val_loss: 5.1767 - val_mae: 1.6172 - val_mse: 5.1767\n",
      "Epoch 16/100\n",
      "2672/2672 [==============================] - 0s 168us/sample - loss: 4.9736 - mae: 1.6053 - mse: 4.9736 - val_loss: 5.1333 - val_mae: 1.6794 - val_mse: 5.1333\n",
      "Epoch 17/100\n",
      "2672/2672 [==============================] - 0s 153us/sample - loss: 4.9352 - mae: 1.5913 - mse: 4.9352 - val_loss: 5.7496 - val_mae: 1.6041 - val_mse: 5.7496\n",
      "Epoch 18/100\n",
      "2672/2672 [==============================] - 0s 172us/sample - loss: 4.9268 - mae: 1.5927 - mse: 4.9268 - val_loss: 4.9886 - val_mae: 1.6250 - val_mse: 4.9886\n",
      "Epoch 19/100\n",
      "2672/2672 [==============================] - 0s 162us/sample - loss: 4.8304 - mae: 1.5793 - mse: 4.8304 - val_loss: 5.1015 - val_mae: 1.5756 - val_mse: 5.1015\n",
      "Epoch 20/100\n",
      "2672/2672 [==============================] - 0s 149us/sample - loss: 4.8569 - mae: 1.5801 - mse: 4.8569 - val_loss: 5.0674 - val_mae: 1.6923 - val_mse: 5.0674\n",
      "Epoch 21/100\n",
      "2672/2672 [==============================] - 0s 146us/sample - loss: 4.8028 - mae: 1.5772 - mse: 4.8028 - val_loss: 4.9802 - val_mae: 1.6728 - val_mse: 4.9802\n",
      "Epoch 22/100\n",
      "2672/2672 [==============================] - 0s 154us/sample - loss: 4.7650 - mae: 1.5714 - mse: 4.7650 - val_loss: 4.8815 - val_mae: 1.6124 - val_mse: 4.8815\n",
      "Epoch 23/100\n",
      "2672/2672 [==============================] - 0s 157us/sample - loss: 4.7553 - mae: 1.5747 - mse: 4.7553 - val_loss: 4.9005 - val_mae: 1.5852 - val_mse: 4.9005\n",
      "Epoch 24/100\n",
      "2672/2672 [==============================] - 0s 157us/sample - loss: 4.7217 - mae: 1.5639 - mse: 4.7217 - val_loss: 5.9787 - val_mae: 1.6500 - val_mse: 5.9787\n",
      "Epoch 25/100\n",
      "2672/2672 [==============================] - 0s 166us/sample - loss: 4.7694 - mae: 1.5664 - mse: 4.7694 - val_loss: 4.8650 - val_mae: 1.6177 - val_mse: 4.8650\n",
      "Epoch 26/100\n",
      "2672/2672 [==============================] - 0s 147us/sample - loss: 4.7286 - mae: 1.5598 - mse: 4.7286 - val_loss: 5.1462 - val_mae: 1.7584 - val_mse: 5.1462\n",
      "Epoch 27/100\n",
      "2672/2672 [==============================] - 0s 148us/sample - loss: 4.7100 - mae: 1.5632 - mse: 4.7100 - val_loss: 4.8774 - val_mae: 1.5707 - val_mse: 4.8774\n",
      "Epoch 28/100\n",
      "2672/2672 [==============================] - 0s 148us/sample - loss: 4.7358 - mae: 1.5662 - mse: 4.7358 - val_loss: 4.8236 - val_mae: 1.5966 - val_mse: 4.8236\n",
      "Epoch 29/100\n",
      "2672/2672 [==============================] - 0s 150us/sample - loss: 4.6966 - mae: 1.5630 - mse: 4.6966 - val_loss: 4.8615 - val_mae: 1.6184 - val_mse: 4.8615\n",
      "Epoch 30/100\n",
      "2672/2672 [==============================] - 0s 164us/sample - loss: 4.6735 - mae: 1.5566 - mse: 4.6735 - val_loss: 4.8469 - val_mae: 1.6164 - val_mse: 4.8469\n",
      "Epoch 31/100\n",
      "2672/2672 [==============================] - 0s 162us/sample - loss: 4.7051 - mae: 1.5556 - mse: 4.7051 - val_loss: 4.9859 - val_mae: 1.5638 - val_mse: 4.9859\n",
      "Epoch 32/100\n",
      "2672/2672 [==============================] - 0s 170us/sample - loss: 4.6648 - mae: 1.5503 - mse: 4.6648 - val_loss: 4.9684 - val_mae: 1.5613 - val_mse: 4.9684\n",
      "Epoch 33/100\n",
      "2672/2672 [==============================] - 0s 154us/sample - loss: 4.6647 - mae: 1.5552 - mse: 4.6647 - val_loss: 4.9918 - val_mae: 1.5596 - val_mse: 4.9918\n",
      "Epoch 34/100\n",
      "2672/2672 [==============================] - 0s 148us/sample - loss: 4.6494 - mae: 1.5521 - mse: 4.6494 - val_loss: 5.8113 - val_mae: 1.8848 - val_mse: 5.8113\n",
      "Epoch 35/100\n",
      "2672/2672 [==============================] - 0s 151us/sample - loss: 4.6823 - mae: 1.5541 - mse: 4.6823 - val_loss: 4.7906 - val_mae: 1.5752 - val_mse: 4.7906\n",
      "Epoch 36/100\n",
      "2672/2672 [==============================] - 0s 156us/sample - loss: 4.6446 - mae: 1.5497 - mse: 4.6446 - val_loss: 4.8906 - val_mae: 1.5619 - val_mse: 4.8906\n",
      "Epoch 37/100\n",
      "2672/2672 [==============================] - 0s 169us/sample - loss: 4.6581 - mae: 1.5547 - mse: 4.6581 - val_loss: 4.8633 - val_mae: 1.6311 - val_mse: 4.8633\n",
      "Epoch 38/100\n",
      "2672/2672 [==============================] - 0s 147us/sample - loss: 4.6101 - mae: 1.5467 - mse: 4.6101 - val_loss: 4.8354 - val_mae: 1.5617 - val_mse: 4.8354\n",
      "Epoch 39/100\n",
      "2672/2672 [==============================] - 0s 166us/sample - loss: 4.6513 - mae: 1.5472 - mse: 4.6513 - val_loss: 5.3928 - val_mae: 1.7779 - val_mse: 5.3928\n",
      "Epoch 40/100\n",
      "2672/2672 [==============================] - 0s 154us/sample - loss: 4.6007 - mae: 1.5430 - mse: 4.6007 - val_loss: 4.8807 - val_mae: 1.5699 - val_mse: 4.8807\n",
      "Epoch 41/100\n",
      "2672/2672 [==============================] - 0s 153us/sample - loss: 4.6297 - mae: 1.5385 - mse: 4.6297 - val_loss: 4.7728 - val_mae: 1.5811 - val_mse: 4.7728\n",
      "Epoch 42/100\n",
      "2672/2672 [==============================] - 0s 148us/sample - loss: 4.6236 - mae: 1.5520 - mse: 4.6236 - val_loss: 5.0545 - val_mae: 1.5647 - val_mse: 5.0545\n",
      "Epoch 43/100\n",
      "2672/2672 [==============================] - 0s 158us/sample - loss: 4.6222 - mae: 1.5461 - mse: 4.6222 - val_loss: 4.7633 - val_mae: 1.5753 - val_mse: 4.7633\n",
      "Epoch 44/100\n",
      "2672/2672 [==============================] - 0s 146us/sample - loss: 4.5963 - mae: 1.5428 - mse: 4.5963 - val_loss: 4.8381 - val_mae: 1.5598 - val_mse: 4.8381\n",
      "Epoch 45/100\n",
      "2672/2672 [==============================] - 0s 161us/sample - loss: 4.5795 - mae: 1.5433 - mse: 4.5795 - val_loss: 4.7944 - val_mae: 1.5577 - val_mse: 4.7944\n",
      "Epoch 46/100\n",
      "2672/2672 [==============================] - 0s 155us/sample - loss: 4.5494 - mae: 1.5409 - mse: 4.5494 - val_loss: 5.0173 - val_mae: 1.5601 - val_mse: 5.0173\n",
      "Epoch 47/100\n",
      "2672/2672 [==============================] - 0s 149us/sample - loss: 4.5576 - mae: 1.5349 - mse: 4.5576 - val_loss: 4.8523 - val_mae: 1.5586 - val_mse: 4.8523\n",
      "Epoch 48/100\n",
      "2672/2672 [==============================] - 0s 147us/sample - loss: 4.6293 - mae: 1.5539 - mse: 4.6293 - val_loss: 4.7337 - val_mae: 1.5781 - val_mse: 4.7337\n",
      "Epoch 49/100\n",
      "2672/2672 [==============================] - 0s 151us/sample - loss: 4.5838 - mae: 1.5373 - mse: 4.5838 - val_loss: 5.0452 - val_mae: 1.5535 - val_mse: 5.0452\n",
      "Epoch 50/100\n",
      "2672/2672 [==============================] - 0s 146us/sample - loss: 4.5534 - mae: 1.5285 - mse: 4.5534 - val_loss: 4.8683 - val_mae: 1.5504 - val_mse: 4.8683\n",
      "Epoch 51/100\n",
      "2672/2672 [==============================] - 0s 148us/sample - loss: 4.5347 - mae: 1.5315 - mse: 4.5347 - val_loss: 4.7953 - val_mae: 1.5483 - val_mse: 4.7953\n",
      "Epoch 52/100\n",
      "2672/2672 [==============================] - 0s 147us/sample - loss: 4.5584 - mae: 1.5307 - mse: 4.5584 - val_loss: 4.7466 - val_mae: 1.5592 - val_mse: 4.7466\n",
      "Epoch 53/100\n",
      "2672/2672 [==============================] - 0s 148us/sample - loss: 4.5462 - mae: 1.5334 - mse: 4.5462 - val_loss: 4.8390 - val_mae: 1.5450 - val_mse: 4.8390\n",
      "Epoch 54/100\n",
      "2672/2672 [==============================] - 0s 152us/sample - loss: 4.5359 - mae: 1.5277 - mse: 4.5359 - val_loss: 4.9520 - val_mae: 1.6690 - val_mse: 4.9520\n",
      "Epoch 55/100\n",
      "2672/2672 [==============================] - 0s 146us/sample - loss: 4.5525 - mae: 1.5348 - mse: 4.5525 - val_loss: 4.8499 - val_mae: 1.6522 - val_mse: 4.8499\n",
      "Epoch 56/100\n",
      "2672/2672 [==============================] - 0s 152us/sample - loss: 4.5482 - mae: 1.5367 - mse: 4.5482 - val_loss: 4.7599 - val_mae: 1.6036 - val_mse: 4.7599\n",
      "Epoch 57/100\n",
      "2672/2672 [==============================] - 0s 150us/sample - loss: 4.5188 - mae: 1.5203 - mse: 4.5188 - val_loss: 5.6788 - val_mae: 1.8671 - val_mse: 5.6788\n",
      "Epoch 58/100\n",
      "2672/2672 [==============================] - 0s 151us/sample - loss: 4.5558 - mae: 1.5339 - mse: 4.5558 - val_loss: 5.0637 - val_mae: 1.5538 - val_mse: 5.0637\n",
      "Epoch 59/100\n",
      "2672/2672 [==============================] - 0s 158us/sample - loss: 4.4963 - mae: 1.5246 - mse: 4.4963 - val_loss: 4.9112 - val_mae: 1.6682 - val_mse: 4.9112\n",
      "Epoch 60/100\n",
      "2672/2672 [==============================] - 0s 144us/sample - loss: 4.5298 - mae: 1.5235 - mse: 4.5298 - val_loss: 4.7998 - val_mae: 1.5404 - val_mse: 4.7998\n",
      "Epoch 61/100\n",
      "2672/2672 [==============================] - 0s 159us/sample - loss: 4.5232 - mae: 1.5243 - mse: 4.5232 - val_loss: 4.7738 - val_mae: 1.5512 - val_mse: 4.7738\n",
      "Epoch 62/100\n",
      "2672/2672 [==============================] - 0s 150us/sample - loss: 4.5372 - mae: 1.5234 - mse: 4.5372 - val_loss: 4.8143 - val_mae: 1.6397 - val_mse: 4.8143\n",
      "Epoch 63/100\n",
      "2672/2672 [==============================] - 0s 164us/sample - loss: 4.5066 - mae: 1.5284 - mse: 4.5066 - val_loss: 5.1966 - val_mae: 1.5656 - val_mse: 5.1966\n",
      "Epoch 64/100\n",
      "2672/2672 [==============================] - 0s 145us/sample - loss: 4.5013 - mae: 1.5108 - mse: 4.5013 - val_loss: 5.5849 - val_mae: 1.8301 - val_mse: 5.5849\n",
      "Epoch 65/100\n",
      "2672/2672 [==============================] - 0s 150us/sample - loss: 4.5038 - mae: 1.5215 - mse: 4.5038 - val_loss: 4.6915 - val_mae: 1.5575 - val_mse: 4.6915\n",
      "Epoch 66/100\n",
      "2672/2672 [==============================] - 0s 161us/sample - loss: 4.4992 - mae: 1.5239 - mse: 4.4992 - val_loss: 4.7049 - val_mae: 1.5686 - val_mse: 4.7049\n",
      "Epoch 67/100\n",
      "2672/2672 [==============================] - 0s 155us/sample - loss: 4.5007 - mae: 1.5283 - mse: 4.5007 - val_loss: 4.6983 - val_mae: 1.5741 - val_mse: 4.6983\n",
      "Epoch 68/100\n",
      "2672/2672 [==============================] - 0s 160us/sample - loss: 4.4644 - mae: 1.5200 - mse: 4.4644 - val_loss: 5.9291 - val_mae: 1.9184 - val_mse: 5.9291\n",
      "Epoch 69/100\n",
      "2672/2672 [==============================] - 0s 157us/sample - loss: 4.4920 - mae: 1.5204 - mse: 4.4920 - val_loss: 4.6975 - val_mae: 1.5679 - val_mse: 4.6975\n",
      "Epoch 70/100\n",
      "2672/2672 [==============================] - 0s 157us/sample - loss: 4.4737 - mae: 1.5135 - mse: 4.4737 - val_loss: 4.7072 - val_mae: 1.5657 - val_mse: 4.7072\n",
      "Epoch 71/100\n",
      "2672/2672 [==============================] - 0s 148us/sample - loss: 4.4781 - mae: 1.5160 - mse: 4.4781 - val_loss: 4.7205 - val_mae: 1.5681 - val_mse: 4.7205\n",
      "Epoch 72/100\n",
      "2672/2672 [==============================] - 0s 156us/sample - loss: 4.4883 - mae: 1.5116 - mse: 4.4883 - val_loss: 4.8723 - val_mae: 1.6451 - val_mse: 4.8723\n",
      "Epoch 73/100\n",
      "2672/2672 [==============================] - 0s 157us/sample - loss: 4.4729 - mae: 1.5119 - mse: 4.4729 - val_loss: 4.9872 - val_mae: 1.6887 - val_mse: 4.9872\n",
      "Epoch 74/100\n",
      "2672/2672 [==============================] - 0s 142us/sample - loss: 4.4615 - mae: 1.5125 - mse: 4.4615 - val_loss: 4.7197 - val_mae: 1.5811 - val_mse: 4.7197\n",
      "Epoch 75/100\n",
      "2672/2672 [==============================] - 0s 154us/sample - loss: 4.4677 - mae: 1.5185 - mse: 4.4677 - val_loss: 4.6745 - val_mae: 1.5554 - val_mse: 4.6745\n",
      "Epoch 76/100\n",
      "2672/2672 [==============================] - 0s 144us/sample - loss: 4.4718 - mae: 1.5046 - mse: 4.4718 - val_loss: 4.7271 - val_mae: 1.6057 - val_mse: 4.7271\n",
      "Epoch 77/100\n",
      "2672/2672 [==============================] - 0s 139us/sample - loss: 4.4481 - mae: 1.5046 - mse: 4.4481 - val_loss: 4.8414 - val_mae: 1.5423 - val_mse: 4.8414\n",
      "Epoch 78/100\n",
      "2672/2672 [==============================] - 0s 148us/sample - loss: 4.4016 - mae: 1.5080 - mse: 4.4016 - val_loss: 5.1368 - val_mae: 1.7216 - val_mse: 5.1368\n",
      "Epoch 79/100\n",
      "2672/2672 [==============================] - 0s 146us/sample - loss: 4.4739 - mae: 1.5200 - mse: 4.4739 - val_loss: 5.3165 - val_mae: 1.7880 - val_mse: 5.3165\n",
      "Epoch 80/100\n",
      "2672/2672 [==============================] - 0s 148us/sample - loss: 4.4554 - mae: 1.5128 - mse: 4.4554 - val_loss: 4.7224 - val_mae: 1.5350 - val_mse: 4.7224\n",
      "Epoch 81/100\n",
      "2672/2672 [==============================] - 0s 146us/sample - loss: 4.4456 - mae: 1.5044 - mse: 4.4456 - val_loss: 4.7077 - val_mae: 1.5911 - val_mse: 4.7077\n",
      "Epoch 82/100\n",
      "2672/2672 [==============================] - 0s 146us/sample - loss: 4.4218 - mae: 1.4994 - mse: 4.4218 - val_loss: 5.1818 - val_mae: 1.7500 - val_mse: 5.1818\n",
      "Epoch 83/100\n",
      "2672/2672 [==============================] - 0s 156us/sample - loss: 4.4308 - mae: 1.5026 - mse: 4.4308 - val_loss: 4.7996 - val_mae: 1.5366 - val_mse: 4.7996\n",
      "Epoch 84/100\n",
      "2672/2672 [==============================] - 0s 139us/sample - loss: 4.4409 - mae: 1.5048 - mse: 4.4409 - val_loss: 5.0975 - val_mae: 1.7180 - val_mse: 5.0975\n",
      "Epoch 85/100\n",
      "2672/2672 [==============================] - 0s 143us/sample - loss: 4.4320 - mae: 1.5108 - mse: 4.4320 - val_loss: 4.7306 - val_mae: 1.5959 - val_mse: 4.7306\n",
      "Epoch 86/100\n",
      "2672/2672 [==============================] - 0s 143us/sample - loss: 4.3946 - mae: 1.4971 - mse: 4.3946 - val_loss: 4.7067 - val_mae: 1.5876 - val_mse: 4.7067\n",
      "Epoch 87/100\n",
      "2672/2672 [==============================] - 0s 139us/sample - loss: 4.4252 - mae: 1.5058 - mse: 4.4252 - val_loss: 4.6342 - val_mae: 1.5384 - val_mse: 4.6342\n",
      "Epoch 88/100\n",
      "2672/2672 [==============================] - 0s 148us/sample - loss: 4.4446 - mae: 1.5078 - mse: 4.4446 - val_loss: 4.6450 - val_mae: 1.5486 - val_mse: 4.6450\n",
      "Epoch 89/100\n",
      "2672/2672 [==============================] - 0s 137us/sample - loss: 4.3948 - mae: 1.4973 - mse: 4.3948 - val_loss: 4.7134 - val_mae: 1.5282 - val_mse: 4.7134\n",
      "Epoch 90/100\n",
      "2672/2672 [==============================] - 0s 137us/sample - loss: 4.4053 - mae: 1.4869 - mse: 4.4053 - val_loss: 4.7378 - val_mae: 1.6088 - val_mse: 4.7378\n",
      "Epoch 91/100\n",
      "2672/2672 [==============================] - 0s 144us/sample - loss: 4.3907 - mae: 1.5004 - mse: 4.3907 - val_loss: 4.7329 - val_mae: 1.5342 - val_mse: 4.7329\n",
      "Epoch 92/100\n",
      "2672/2672 [==============================] - 0s 148us/sample - loss: 4.3801 - mae: 1.4996 - mse: 4.3801 - val_loss: 4.8327 - val_mae: 1.5396 - val_mse: 4.8327\n",
      "Epoch 93/100\n",
      "2672/2672 [==============================] - 0s 150us/sample - loss: 4.4144 - mae: 1.5031 - mse: 4.4144 - val_loss: 4.6856 - val_mae: 1.5304 - val_mse: 4.6856\n",
      "Epoch 94/100\n",
      "2672/2672 [==============================] - 0s 142us/sample - loss: 4.4018 - mae: 1.5107 - mse: 4.4018 - val_loss: 4.6545 - val_mae: 1.5502 - val_mse: 4.6545\n"
     ]
    },
    {
     "name": "stdout",
     "output_type": "stream",
     "text": [
      "Epoch 95/100\n",
      "2672/2672 [==============================] - 0s 138us/sample - loss: 4.3753 - mae: 1.4988 - mse: 4.3753 - val_loss: 4.6962 - val_mae: 1.5945 - val_mse: 4.6962\n",
      "Epoch 96/100\n",
      "2672/2672 [==============================] - 0s 154us/sample - loss: 4.3835 - mae: 1.4978 - mse: 4.3835 - val_loss: 4.6592 - val_mae: 1.5591 - val_mse: 4.6592\n",
      "Epoch 97/100\n",
      "2672/2672 [==============================] - 0s 139us/sample - loss: 4.3722 - mae: 1.4974 - mse: 4.3722 - val_loss: 4.6617 - val_mae: 1.5685 - val_mse: 4.6617\n",
      "Epoch 98/100\n",
      "2672/2672 [==============================] - 0s 146us/sample - loss: 4.3755 - mae: 1.4980 - mse: 4.3755 - val_loss: 4.8025 - val_mae: 1.5290 - val_mse: 4.8025\n",
      "Epoch 99/100\n",
      "2672/2672 [==============================] - 0s 143us/sample - loss: 4.3699 - mae: 1.4932 - mse: 4.3699 - val_loss: 4.7475 - val_mae: 1.5410 - val_mse: 4.7475\n",
      "Epoch 100/100\n",
      "2672/2672 [==============================] - 0s 140us/sample - loss: 4.3874 - mae: 1.4962 - mse: 4.3874 - val_loss: 4.9084 - val_mae: 1.5321 - val_mse: 4.9084\n"
     ]
    }
   ],
   "source": [
    "history = model.fit(X_tr, y_tr, \n",
    "                    epochs=epochs, \n",
    "                    verbose=1, validation_split=0.2)"
   ]
  },
  {
   "cell_type": "code",
   "execution_count": 24,
   "metadata": {},
   "outputs": [
    {
     "name": "stdout",
     "output_type": "stream",
     "text": [
      "WARNING:tensorflow:Falling back from v2 loop because of error: Failed to find data adapter that can handle input: <class 'pandas.core.frame.DataFrame'>, <class 'NoneType'>\n",
      "Test error: 4.883607526715292\n",
      "Test accuracy: 1.484334\n"
     ]
    }
   ],
   "source": [
    "score = model.evaluate(X_te, y_te, verbose=0)\n",
    "print('Test error:', score[0]) \n",
    "print('Test accuracy:', score[1])"
   ]
  },
  {
   "cell_type": "code",
   "execution_count": 26,
   "metadata": {},
   "outputs": [
    {
     "data": {
      "image/png": "[encoded data removed]",
      "text/plain": [
       "<Figure size 432x288 with 1 Axes>"
      ]
     },
     "metadata": {
      "needs_background": "light"
     },
     "output_type": "display_data"
    }
   ],
   "source": [
    "import matplotlib.pyplot as plt\n",
    "\n",
    "plt.plot(history.history['mse'],'r')\n",
    "plt.plot(history.history['val_mse'],'b')\n",
    "plt.legend({'training mse':'r', 'validation mse': 'b'})\n",
    "plt.show()"
   ]
  },
  {
   "cell_type": "code",
   "execution_count": null,
   "metadata": {},
   "outputs": [],
   "source": []
  }
 ],
 "metadata": {
  "kernelspec": {
   "display_name": "Python 3",
   "language": "python",
   "name": "python3"
  },
  "language_info": {
   "codemirror_mode": {
    "name": "ipython",
    "version": 3
   },
   "file_extension": ".py",
   "mimetype": "text/x-python",
   "name": "python",
   "nbconvert_exporter": "python",
   "pygments_lexer": "ipython3",
   "version": "3.7.5"
  }
 },
 "nbformat": 4,
 "nbformat_minor": 2
}
