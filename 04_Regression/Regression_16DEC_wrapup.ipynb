{
 "cells": [
  {
   "cell_type": "markdown",
   "metadata": {},
   "source": [
    "# Regression wrapup\n",
    "\n",
    "Models\n",
    "\n",
    "- Linear Regression\n",
    "- Random Forest\n",
    "- SVM(not yet)\n",
    "- FFNN\n",
    "\n",
    "Data Preprocessing for Categorical Data\n",
    "\n",
    "- Replace by 0, 1, 2\n",
    "- Replace by 1, 2, 3 \n",
    "- Dummy Coding (ref. https://stats.idre.ucla.edu/spss/faq/coding-systems-for-categorical-variables-in-regression-analysis-2/)"
   ]
  },
  {
   "cell_type": "code",
   "execution_count": 1,
   "metadata": {},
   "outputs": [],
   "source": [
    "# import tools\n",
    "\n",
    "import numpy as np\n",
    "import pandas as pd\n",
    "from sklearn.model_selection import train_test_split\n",
    "from sklearn.metrics import mean_absolute_error as mae\n",
    "from sklearn.metrics import mean_squared_error as mse\n",
    "from sklearn.metrics import r2_score\n",
    "rmse = lambda y_true, y_pred: np.sqrt(mse(y_true, y_pred))"
   ]
  },
  {
   "cell_type": "code",
   "execution_count": 2,
   "metadata": {},
   "outputs": [],
   "source": [
    "# import models\n",
    "\n",
    "from sklearn.linear_model import LinearRegression\n",
    "from sklearn.ensemble import RandomForestRegressor\n",
    "\n",
    "from tensorflow.keras import Sequential\n",
    "from tensorflow.keras.layers import Dense, Flatten"
   ]
  },
  {
   "cell_type": "code",
   "execution_count": 15,
   "metadata": {},
   "outputs": [],
   "source": [
    "# define functions\n",
    "\n",
    "def model_evaluate(y_test, y_pred):\n",
    "    y_res = (y_test, y_pred)\n",
    "    \n",
    "    eval_res = [mae(*y_res), mse(*y_res), rmse(*y_res)]\n",
    "    \n",
    "    print('Mean Absolute Error:    ', eval_res[0])\n",
    "    print('Mean Squared Error:     ', eval_res[1])\n",
    "    print('Root Mean Squared Error:', eval_res[2])\n",
    "    \n",
    "    return eval_res\n",
    "\n",
    "def model_fit_evaluate_ml(X_train, y_train, X_test, y_test, model):\n",
    "    model.fit(X_train, y_train)\n",
    "    y_pred = model.predict(X_test)\n",
    "    \n",
    "    print(model.name)\n",
    "    eval_res = model_evaluate(y_test, y_pred)\n",
    "    print()\n",
    "    \n",
    "    return model, eval_res"
   ]
  },
  {
   "cell_type": "code",
   "execution_count": 4,
   "metadata": {},
   "outputs": [
    {
     "data": {
      "text/plain": [
       "((3341, 8), (836, 8), (3341,), (836,))"
      ]
     },
     "execution_count": 4,
     "metadata": {},
     "output_type": "execute_result"
    }
   ],
   "source": [
    "# Preprocessing 01\n",
    "df = pd.read_csv('reg_data/abalone.data',\n",
    "                 names=['Sex','Length','Diameter','Height','Whole weight','Shucked weight','Viscera weight','Shell weight','Rings'])\n",
    "df['Sex'] = df['Sex'].replace(('I','M','F'),(0,1,2))\n",
    "\n",
    "X = df.iloc[:,:-1]\n",
    "y = df.iloc[:, -1]\n",
    "\n",
    "X_train, X_test, y_train, y_test = train_test_split(X, y, test_size=0.2, random_state=0)\n",
    "\n",
    "X_train.shape, X_test.shape, y_train.shape, y_test.shape"
   ]
  },
  {
   "cell_type": "code",
   "execution_count": 22,
   "metadata": {},
   "outputs": [],
   "source": [
    "# Models\n",
    "\n",
    "linreg = LinearRegression()\n",
    "rfreg = RandomForestRegressor(n_estimators=50, random_state=0)\n",
    "\n",
    "linreg.name='Linear Regression'\n",
    "rfreg.name='Random Forest'"
   ]
  },
  {
   "cell_type": "code",
   "execution_count": 23,
   "metadata": {},
   "outputs": [
    {
     "name": "stdout",
     "output_type": "stream",
     "text": [
      "Linear Regression\n",
      "Mean Absolute Error:     1.5948681995252754\n",
      "Mean Squared Error:      5.036852349442371\n",
      "Root Mean Squared Error: 2.2442932850771466\n",
      "\n",
      "Random Forest\n",
      "Mean Absolute Error:     1.5492822966507176\n",
      "Mean Squared Error:      4.682775119617225\n",
      "Root Mean Squared Error: 2.1639720699716123\n",
      "\n"
     ]
    }
   ],
   "source": [
    "linreg, linreg_res_01 = model_fit_evaluate_ml(X_train, y_train, X_test, y_test, linreg)\n",
    "rfreg, rfreg_res_01 = model_fit_evaluate_ml(X_train, y_train, X_test, y_test, rfreg)"
   ]
  },
  {
   "cell_type": "code",
   "execution_count": null,
   "metadata": {},
   "outputs": [],
   "source": []
  }
 ],
 "metadata": {
  "kernelspec": {
   "display_name": "Python 3",
   "language": "python",
   "name": "python3"
  },
  "language_info": {
   "codemirror_mode": {
    "name": "ipython",
    "version": 3
   },
   "file_extension": ".py",
   "mimetype": "text/x-python",
   "name": "python",
   "nbconvert_exporter": "python",
   "pygments_lexer": "ipython3",
   "version": "3.7.5"
  }
 },
 "nbformat": 4,
 "nbformat_minor": 2
}
