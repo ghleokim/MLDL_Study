{
 "cells": [
  {
   "cell_type": "markdown",
   "metadata": {},
   "source": [
    "\n",
    "\n",
    "\n",
    "# Classification_CNN"
   ]
  },
  {
   "cell_type": "markdown",
   "metadata": {},
   "source": [
    "## Method\n",
    "\n",
    "Build Convolutional Neural Network model with Tensorflow-Keras.\n",
    "\n",
    "```\n",
    "X_train: 50000 samples\n",
    "X_test: 10000 samples\n",
    "\n",
    "batch_size: 128\n",
    "epochs: 100\n",
    "```"
   ]
  },
  {
   "cell_type": "code",
   "execution_count": 20,
   "metadata": {},
   "outputs": [],
   "source": [
    "import tensorflow as tf\n",
    "from tensorflow.keras.datasets import cifar10\n",
    "\n",
    "(X_train, y_train), (X_test, y_test) = cifar10.load_data()"
   ]
  },
  {
   "cell_type": "code",
   "execution_count": 68,
   "metadata": {},
   "outputs": [],
   "source": [
    "import numpy as np\n",
    "from sklearn.metrics import accuracy_score, confusion_matrix\n",
    "import seaborn as sns"
   ]
  },
  {
   "cell_type": "markdown",
   "metadata": {},
   "source": [
    "## Load dataset, Preprocessing"
   ]
  },
  {
   "cell_type": "code",
   "execution_count": 21,
   "metadata": {},
   "outputs": [],
   "source": [
    "from tensorflow.keras import utils\n",
    "from tensorflow.keras.models import Sequential\n",
    "from tensorflow.keras.layers import Dense, Activation, BatchNormalization, Convolution2D, MaxPooling2D, Flatten"
   ]
  },
  {
   "cell_type": "code",
   "execution_count": 22,
   "metadata": {},
   "outputs": [],
   "source": [
    "output_dim = nb_classes = 10\n",
    "input_dim = (32,32,3)"
   ]
  },
  {
   "cell_type": "code",
   "execution_count": 23,
   "metadata": {},
   "outputs": [
    {
     "name": "stdout",
     "output_type": "stream",
     "text": [
      "(50000, 32, 32, 3) (10000, 32, 32, 3)\n"
     ]
    }
   ],
   "source": [
    "print(X_train.shape, X_test.shape)"
   ]
  },
  {
   "cell_type": "code",
   "execution_count": 24,
   "metadata": {},
   "outputs": [],
   "source": [
    "X_train = X_train.astype('float32')\n",
    "X_test = X_test.astype('float32')\n",
    "Y_train = utils.to_categorical(y_train, nb_classes)\n",
    "Y_test = utils.to_categorical(y_test, nb_classes)"
   ]
  },
  {
   "cell_type": "code",
   "execution_count": 34,
   "metadata": {},
   "outputs": [
    {
     "name": "stdout",
     "output_type": "stream",
     "text": [
      "(32, 32, 3) (50000, 32, 32, 3) (50000, 10) (10000, 32, 32, 3) (10000, 10) 10\n"
     ]
    }
   ],
   "source": [
    "print(input_dim, X_train.shape, Y_train.shape, X_test.shape, Y_test.shape, output_dim)"
   ]
  },
  {
   "cell_type": "markdown",
   "metadata": {},
   "source": [
    "## Build Model"
   ]
  },
  {
   "cell_type": "markdown",
   "metadata": {},
   "source": [
    "## arch 3 large param (from DEC13)"
   ]
  },
  {
   "cell_type": "code",
   "execution_count": 9,
   "metadata": {},
   "outputs": [],
   "source": [
    "model = Sequential()\n",
    "\n",
    "# 32,32\n",
    "model.add(Convolution2D(16,(3,3), activation='relu', input_shape=(32,32,3), padding='same'))\n",
    "model.add(BatchNormalization())\n",
    "\n",
    "# 30,30\n",
    "model.add(Convolution2D(32,(3,3), activation='relu'))\n",
    "model.add(BatchNormalization())\n",
    "\n",
    "# 28,28\n",
    "model.add(MaxPooling2D(pool_size=(2,2)))\n",
    "\n",
    "# # 14,14\n",
    "model.add(Convolution2D(24,1, activation='relu'))\n",
    "\n",
    "# 14,14\n",
    "model.add(Convolution2D(64,(3,3), activation='relu', padding='same'))\n",
    "model.add(BatchNormalization())\n",
    "\n",
    "# 12, 12\n",
    "model.add(Convolution2D(128,(3,3), activation='relu'))\n",
    "model.add(BatchNormalization())\n",
    "\n",
    "model.add(MaxPooling2D(pool_size=(2,2)))\n",
    "\n",
    "model.add(Convolution2D(64, 1, activation='relu'))\n",
    "\n",
    "model.add(Convolution2D(256,(3,3), activation='relu'))\n",
    "model.add(BatchNormalization())\n",
    "\n",
    "model.add(Convolution2D(10, 4))\n",
    "\n",
    "model.add(Flatten())\n",
    "model.add(Activation('softmax'))\n"
   ]
  },
  {
   "cell_type": "code",
   "execution_count": 10,
   "metadata": {
    "scrolled": false
   },
   "outputs": [
    {
     "name": "stdout",
     "output_type": "stream",
     "text": [
      "Model: \"sequential\"\n",
      "_________________________________________________________________\n",
      "Layer (type)                 Output Shape              Param #   \n",
      "=================================================================\n",
      "conv2d (Conv2D)              (None, 32, 32, 16)        448       \n",
      "_________________________________________________________________\n",
      "batch_normalization (BatchNo (None, 32, 32, 16)        64        \n",
      "_________________________________________________________________\n",
      "conv2d_1 (Conv2D)            (None, 30, 30, 32)        4640      \n",
      "_________________________________________________________________\n",
      "batch_normalization_1 (Batch (None, 30, 30, 32)        128       \n",
      "_________________________________________________________________\n",
      "max_pooling2d (MaxPooling2D) (None, 15, 15, 32)        0         \n",
      "_________________________________________________________________\n",
      "conv2d_2 (Conv2D)            (None, 15, 15, 24)        792       \n",
      "_________________________________________________________________\n",
      "conv2d_3 (Conv2D)            (None, 15, 15, 64)        13888     \n",
      "_________________________________________________________________\n",
      "batch_normalization_2 (Batch (None, 15, 15, 64)        256       \n",
      "_________________________________________________________________\n",
      "conv2d_4 (Conv2D)            (None, 13, 13, 128)       73856     \n",
      "_________________________________________________________________\n",
      "batch_normalization_3 (Batch (None, 13, 13, 128)       512       \n",
      "_________________________________________________________________\n",
      "max_pooling2d_1 (MaxPooling2 (None, 6, 6, 128)         0         \n",
      "_________________________________________________________________\n",
      "conv2d_5 (Conv2D)            (None, 6, 6, 64)          8256      \n",
      "_________________________________________________________________\n",
      "conv2d_6 (Conv2D)            (None, 4, 4, 256)         147712    \n",
      "_________________________________________________________________\n",
      "batch_normalization_4 (Batch (None, 4, 4, 256)         1024      \n",
      "_________________________________________________________________\n",
      "conv2d_7 (Conv2D)            (None, 1, 1, 10)          40970     \n",
      "_________________________________________________________________\n",
      "flatten (Flatten)            (None, 10)                0         \n",
      "_________________________________________________________________\n",
      "activation (Activation)      (None, 10)                0         \n",
      "=================================================================\n",
      "Total params: 292,546\n",
      "Trainable params: 291,554\n",
      "Non-trainable params: 992\n",
      "_________________________________________________________________\n"
     ]
    }
   ],
   "source": [
    "model.summary()"
   ]
  },
  {
   "cell_type": "code",
   "execution_count": 11,
   "metadata": {},
   "outputs": [],
   "source": [
    "model.compile(optimizer='sgd', loss='categorical_crossentropy', metrics=['accuracy'])"
   ]
  },
  {
   "cell_type": "code",
   "execution_count": 23,
   "metadata": {
    "scrolled": true
   },
   "outputs": [
    {
     "name": "stdout",
     "output_type": "stream",
     "text": [
      "Train on 50000 samples, validate on 10000 samples\n",
      "Epoch 1/100\n",
      "50000/50000 [==============================] - 65s 1ms/sample - loss: 1.5786 - accuracy: 0.4507 - val_loss: 1.3804 - val_accuracy: 0.5125\n",
      "Epoch 2/100\n",
      "50000/50000 [==============================] - 59s 1ms/sample - loss: 1.1060 - accuracy: 0.6114 - val_loss: 1.3714 - val_accuracy: 0.5448\n",
      "Epoch 3/100\n",
      "50000/50000 [==============================] - 58s 1ms/sample - loss: 0.9292 - accuracy: 0.6753 - val_loss: 1.0764 - val_accuracy: 0.6262\n",
      "Epoch 4/100\n",
      "50000/50000 [==============================] - 58s 1ms/sample - loss: 0.8119 - accuracy: 0.7174 - val_loss: 1.0816 - val_accuracy: 0.6237\n",
      "Epoch 5/100\n",
      "50000/50000 [==============================] - 58s 1ms/sample - loss: 0.7203 - accuracy: 0.7519 - val_loss: 1.0177 - val_accuracy: 0.6557\n",
      "Epoch 6/100\n",
      "50000/50000 [==============================] - 58s 1ms/sample - loss: 0.6402 - accuracy: 0.7798 - val_loss: 1.0469 - val_accuracy: 0.6598\n",
      "Epoch 7/100\n",
      "50000/50000 [==============================] - 58s 1ms/sample - loss: 0.5717 - accuracy: 0.8042 - val_loss: 0.9729 - val_accuracy: 0.6711\n",
      "Epoch 8/100\n",
      "50000/50000 [==============================] - 58s 1ms/sample - loss: 0.5110 - accuracy: 0.8276 - val_loss: 0.9334 - val_accuracy: 0.6874\n",
      "Epoch 9/100\n",
      "50000/50000 [==============================] - 58s 1ms/sample - loss: 0.4581 - accuracy: 0.8480 - val_loss: 0.9645 - val_accuracy: 0.6931\n",
      "Epoch 10/100\n",
      "50000/50000 [==============================] - 58s 1ms/sample - loss: 0.4015 - accuracy: 0.8714 - val_loss: 0.9746 - val_accuracy: 0.6823\n",
      "Epoch 11/100\n",
      "50000/50000 [==============================] - 58s 1ms/sample - loss: 0.3525 - accuracy: 0.8896 - val_loss: 1.0180 - val_accuracy: 0.6797\n",
      "Epoch 12/100\n",
      "50000/50000 [==============================] - 58s 1ms/sample - loss: 0.3093 - accuracy: 0.9065 - val_loss: 0.9988 - val_accuracy: 0.6872\n",
      "Epoch 13/100\n",
      "50000/50000 [==============================] - 58s 1ms/sample - loss: 0.2664 - accuracy: 0.9244 - val_loss: 1.0137 - val_accuracy: 0.6893\n",
      "Epoch 14/100\n",
      "50000/50000 [==============================] - 58s 1ms/sample - loss: 0.2280 - accuracy: 0.9372 - val_loss: 1.0102 - val_accuracy: 0.6937\n",
      "Epoch 15/100\n",
      "50000/50000 [==============================] - 60s 1ms/sample - loss: 0.1927 - accuracy: 0.9532 - val_loss: 1.0436 - val_accuracy: 0.6929\n",
      "Epoch 16/100\n",
      "50000/50000 [==============================] - 58s 1ms/sample - loss: 0.1645 - accuracy: 0.9647 - val_loss: 1.0700 - val_accuracy: 0.6890\n",
      "Epoch 17/100\n",
      "50000/50000 [==============================] - 58s 1ms/sample - loss: 0.1353 - accuracy: 0.9739 - val_loss: 1.0387 - val_accuracy: 0.7020\n",
      "Epoch 18/100\n",
      "50000/50000 [==============================] - 58s 1ms/sample - loss: 0.1149 - accuracy: 0.9812 - val_loss: 1.0726 - val_accuracy: 0.6998\n",
      "Epoch 19/100\n",
      "50000/50000 [==============================] - 58s 1ms/sample - loss: 0.0939 - accuracy: 0.9877 - val_loss: 1.0717 - val_accuracy: 0.7025\n",
      "Epoch 20/100\n",
      "50000/50000 [==============================] - 58s 1ms/sample - loss: 0.0798 - accuracy: 0.9919 - val_loss: 1.0760 - val_accuracy: 0.7064\n",
      "Epoch 21/100\n",
      "50000/50000 [==============================] - 58s 1ms/sample - loss: 0.0658 - accuracy: 0.9954 - val_loss: 1.1226 - val_accuracy: 0.7077\n",
      "Epoch 22/100\n",
      "50000/50000 [==============================] - 58s 1ms/sample - loss: 0.0564 - accuracy: 0.9969 - val_loss: 1.1706 - val_accuracy: 0.6901\n",
      "Epoch 23/100\n",
      "50000/50000 [==============================] - 58s 1ms/sample - loss: 0.0477 - accuracy: 0.9981 - val_loss: 1.1455 - val_accuracy: 0.7021\n",
      "Epoch 24/100\n",
      "50000/50000 [==============================] - 58s 1ms/sample - loss: 0.0412 - accuracy: 0.9989 - val_loss: 1.1369 - val_accuracy: 0.7075\n",
      "Epoch 25/100\n",
      "50000/50000 [==============================] - 58s 1ms/sample - loss: 0.0367 - accuracy: 0.9992 - val_loss: 1.1341 - val_accuracy: 0.7104\n",
      "Epoch 26/100\n",
      "50000/50000 [==============================] - 58s 1ms/sample - loss: 0.0318 - accuracy: 0.9995 - val_loss: 1.1661 - val_accuracy: 0.7070\n",
      "Epoch 27/100\n",
      "50000/50000 [==============================] - 58s 1ms/sample - loss: 0.0281 - accuracy: 0.9997 - val_loss: 1.1657 - val_accuracy: 0.7055\n",
      "Epoch 28/100\n",
      "50000/50000 [==============================] - 58s 1ms/sample - loss: 0.0253 - accuracy: 0.9998 - val_loss: 1.1693 - val_accuracy: 0.7055\n",
      "Epoch 29/100\n",
      "50000/50000 [==============================] - 58s 1ms/sample - loss: 0.0231 - accuracy: 0.9998 - val_loss: 1.1862 - val_accuracy: 0.7087\n",
      "Epoch 30/100\n",
      "50000/50000 [==============================] - 58s 1ms/sample - loss: 0.0211 - accuracy: 0.9999 - val_loss: 1.1968 - val_accuracy: 0.7100\n",
      "Epoch 31/100\n",
      "50000/50000 [==============================] - 58s 1ms/sample - loss: 0.0192 - accuracy: 1.0000 - val_loss: 1.2042 - val_accuracy: 0.7092\n",
      "Epoch 32/100\n",
      "50000/50000 [==============================] - 58s 1ms/sample - loss: 0.0174 - accuracy: 1.0000 - val_loss: 1.2124 - val_accuracy: 0.7096\n",
      "Epoch 33/100\n",
      "50000/50000 [==============================] - 58s 1ms/sample - loss: 0.0167 - accuracy: 0.9999 - val_loss: 1.2121 - val_accuracy: 0.7124\n",
      "Epoch 34/100\n",
      "50000/50000 [==============================] - 58s 1ms/sample - loss: 0.0153 - accuracy: 1.0000 - val_loss: 1.2243 - val_accuracy: 0.7121\n",
      "Epoch 35/100\n",
      "50000/50000 [==============================] - 58s 1ms/sample - loss: 0.0148 - accuracy: 1.0000 - val_loss: 1.2332 - val_accuracy: 0.7140\n",
      "Epoch 36/100\n",
      "50000/50000 [==============================] - 58s 1ms/sample - loss: 0.0135 - accuracy: 1.0000 - val_loss: 1.2344 - val_accuracy: 0.7147\n",
      "Epoch 37/100\n",
      "50000/50000 [==============================] - 58s 1ms/sample - loss: 0.0127 - accuracy: 1.0000 - val_loss: 1.2502 - val_accuracy: 0.7137\n",
      "Epoch 38/100\n",
      "50000/50000 [==============================] - 58s 1ms/sample - loss: 0.0121 - accuracy: 1.0000 - val_loss: 1.2414 - val_accuracy: 0.7141\n",
      "Epoch 39/100\n",
      "50000/50000 [==============================] - 58s 1ms/sample - loss: 0.0116 - accuracy: 1.0000 - val_loss: 1.2587 - val_accuracy: 0.7105\n",
      "Epoch 40/100\n",
      "50000/50000 [==============================] - 57s 1ms/sample - loss: 0.0107 - accuracy: 1.0000 - val_loss: 1.2624 - val_accuracy: 0.7117\n",
      "Epoch 41/100\n",
      "50000/50000 [==============================] - 58s 1ms/sample - loss: 0.0103 - accuracy: 1.0000 - val_loss: 1.2713 - val_accuracy: 0.7116\n",
      "Epoch 42/100\n",
      "50000/50000 [==============================] - 58s 1ms/sample - loss: 0.0096 - accuracy: 1.0000 - val_loss: 1.2671 - val_accuracy: 0.7126\n",
      "Epoch 43/100\n",
      "50000/50000 [==============================] - 58s 1ms/sample - loss: 0.0095 - accuracy: 1.0000 - val_loss: 1.2703 - val_accuracy: 0.7137\n",
      "Epoch 44/100\n",
      "50000/50000 [==============================] - 58s 1ms/sample - loss: 0.0092 - accuracy: 1.0000 - val_loss: 1.2835 - val_accuracy: 0.7101\n",
      "Epoch 45/100\n",
      "50000/50000 [==============================] - 58s 1ms/sample - loss: 0.0084 - accuracy: 1.0000 - val_loss: 1.2941 - val_accuracy: 0.7133\n",
      "Epoch 46/100\n",
      "50000/50000 [==============================] - 58s 1ms/sample - loss: 0.0085 - accuracy: 1.0000 - val_loss: 1.2939 - val_accuracy: 0.7125\n",
      "Epoch 47/100\n",
      "50000/50000 [==============================] - 58s 1ms/sample - loss: 0.0082 - accuracy: 1.0000 - val_loss: 1.2999 - val_accuracy: 0.7099\n",
      "Epoch 48/100\n",
      "50000/50000 [==============================] - 57s 1ms/sample - loss: 0.0078 - accuracy: 1.0000 - val_loss: 1.3012 - val_accuracy: 0.7086\n",
      "Epoch 49/100\n",
      "50000/50000 [==============================] - 57s 1ms/sample - loss: 0.0072 - accuracy: 1.0000 - val_loss: 1.3014 - val_accuracy: 0.7152\n",
      "Epoch 50/100\n",
      "50000/50000 [==============================] - 58s 1ms/sample - loss: 0.0071 - accuracy: 1.0000 - val_loss: 1.3086 - val_accuracy: 0.7143\n",
      "Epoch 51/100\n",
      "50000/50000 [==============================] - 57s 1ms/sample - loss: 0.0070 - accuracy: 1.0000 - val_loss: 1.3128 - val_accuracy: 0.7115\n",
      "Epoch 52/100\n",
      "50000/50000 [==============================] - 58s 1ms/sample - loss: 0.0067 - accuracy: 1.0000 - val_loss: 1.3121 - val_accuracy: 0.7129\n",
      "Epoch 53/100\n",
      "50000/50000 [==============================] - 58s 1ms/sample - loss: 0.0066 - accuracy: 1.0000 - val_loss: 1.3204 - val_accuracy: 0.7116\n",
      "Epoch 54/100\n",
      "50000/50000 [==============================] - 58s 1ms/sample - loss: 0.0065 - accuracy: 1.0000 - val_loss: 1.3338 - val_accuracy: 0.7107\n"
     ]
    },
    {
     "name": "stdout",
     "output_type": "stream",
     "text": [
      "Epoch 55/100\n",
      "50000/50000 [==============================] - 57s 1ms/sample - loss: 0.0062 - accuracy: 1.0000 - val_loss: 1.3258 - val_accuracy: 0.7143\n",
      "Epoch 56/100\n",
      "50000/50000 [==============================] - 57s 1ms/sample - loss: 0.0059 - accuracy: 1.0000 - val_loss: 1.3341 - val_accuracy: 0.7121\n",
      "Epoch 57/100\n",
      "50000/50000 [==============================] - 58s 1ms/sample - loss: 0.0058 - accuracy: 1.0000 - val_loss: 1.3366 - val_accuracy: 0.7133\n",
      "Epoch 58/100\n",
      "50000/50000 [==============================] - 57s 1ms/sample - loss: 0.0056 - accuracy: 1.0000 - val_loss: 1.3401 - val_accuracy: 0.7151\n",
      "Epoch 59/100\n",
      "50000/50000 [==============================] - 57s 1ms/sample - loss: 0.0055 - accuracy: 1.0000 - val_loss: 1.3439 - val_accuracy: 0.7135\n",
      "Epoch 60/100\n",
      "50000/50000 [==============================] - 57s 1ms/sample - loss: 0.0053 - accuracy: 1.0000 - val_loss: 1.3446 - val_accuracy: 0.7120\n",
      "Epoch 61/100\n",
      "50000/50000 [==============================] - 57s 1ms/sample - loss: 0.0051 - accuracy: 1.0000 - val_loss: 1.3434 - val_accuracy: 0.7128\n",
      "Epoch 62/100\n",
      "50000/50000 [==============================] - 57s 1ms/sample - loss: 0.0051 - accuracy: 1.0000 - val_loss: 1.3596 - val_accuracy: 0.7126\n",
      "Epoch 63/100\n",
      "50000/50000 [==============================] - 57s 1ms/sample - loss: 0.0049 - accuracy: 1.0000 - val_loss: 1.3514 - val_accuracy: 0.7128\n",
      "Epoch 64/100\n",
      "50000/50000 [==============================] - 57s 1ms/sample - loss: 0.0047 - accuracy: 1.0000 - val_loss: 1.3619 - val_accuracy: 0.7135\n",
      "Epoch 65/100\n",
      "50000/50000 [==============================] - 57s 1ms/sample - loss: 0.0046 - accuracy: 1.0000 - val_loss: 1.3603 - val_accuracy: 0.7145\n",
      "Epoch 66/100\n",
      "50000/50000 [==============================] - 57s 1ms/sample - loss: 0.0044 - accuracy: 1.0000 - val_loss: 1.3617 - val_accuracy: 0.7116\n",
      "Epoch 67/100\n",
      "50000/50000 [==============================] - 57s 1ms/sample - loss: 0.0045 - accuracy: 1.0000 - val_loss: 1.3678 - val_accuracy: 0.7094\n",
      "Epoch 68/100\n",
      "50000/50000 [==============================] - 57s 1ms/sample - loss: 0.0041 - accuracy: 1.0000 - val_loss: 1.3694 - val_accuracy: 0.7123\n",
      "Epoch 69/100\n",
      "50000/50000 [==============================] - 57s 1ms/sample - loss: 0.0042 - accuracy: 1.0000 - val_loss: 1.3684 - val_accuracy: 0.7134\n",
      "Epoch 70/100\n",
      "50000/50000 [==============================] - 58s 1ms/sample - loss: 0.0043 - accuracy: 1.0000 - val_loss: 1.3836 - val_accuracy: 0.7097\n",
      "Epoch 71/100\n",
      "50000/50000 [==============================] - 58s 1ms/sample - loss: 0.0041 - accuracy: 1.0000 - val_loss: 1.3763 - val_accuracy: 0.7132\n",
      "Epoch 72/100\n",
      "50000/50000 [==============================] - 58s 1ms/sample - loss: 0.0039 - accuracy: 1.0000 - val_loss: 1.3779 - val_accuracy: 0.7141\n",
      "Epoch 73/100\n",
      "50000/50000 [==============================] - 58s 1ms/sample - loss: 0.0039 - accuracy: 1.0000 - val_loss: 1.3797 - val_accuracy: 0.7111\n",
      "Epoch 74/100\n",
      "50000/50000 [==============================] - 58s 1ms/sample - loss: 0.0039 - accuracy: 1.0000 - val_loss: 1.3848 - val_accuracy: 0.7122\n",
      "Epoch 75/100\n",
      "50000/50000 [==============================] - 58s 1ms/sample - loss: 0.0037 - accuracy: 1.0000 - val_loss: 1.3898 - val_accuracy: 0.7128\n",
      "Epoch 76/100\n",
      "50000/50000 [==============================] - 58s 1ms/sample - loss: 0.0038 - accuracy: 1.0000 - val_loss: 1.3905 - val_accuracy: 0.7125\n",
      "Epoch 77/100\n",
      "50000/50000 [==============================] - 58s 1ms/sample - loss: 0.0035 - accuracy: 1.0000 - val_loss: 1.3902 - val_accuracy: 0.7121\n",
      "Epoch 78/100\n",
      "50000/50000 [==============================] - 58s 1ms/sample - loss: 0.0035 - accuracy: 1.0000 - val_loss: 1.3969 - val_accuracy: 0.7124\n",
      "Epoch 79/100\n",
      "50000/50000 [==============================] - 58s 1ms/sample - loss: 0.0036 - accuracy: 1.0000 - val_loss: 1.3963 - val_accuracy: 0.7142\n",
      "Epoch 80/100\n",
      "50000/50000 [==============================] - 58s 1ms/sample - loss: 0.0034 - accuracy: 1.0000 - val_loss: 1.3965 - val_accuracy: 0.7138\n",
      "Epoch 81/100\n",
      "50000/50000 [==============================] - 58s 1ms/sample - loss: 0.0033 - accuracy: 1.0000 - val_loss: 1.4038 - val_accuracy: 0.7141\n",
      "Epoch 82/100\n",
      "50000/50000 [==============================] - 58s 1ms/sample - loss: 0.0033 - accuracy: 1.0000 - val_loss: 1.4069 - val_accuracy: 0.7138\n",
      "Epoch 83/100\n",
      "50000/50000 [==============================] - 58s 1ms/sample - loss: 0.0032 - accuracy: 1.0000 - val_loss: 1.4175 - val_accuracy: 0.7126\n",
      "Epoch 84/100\n",
      "50000/50000 [==============================] - 58s 1ms/sample - loss: 0.0032 - accuracy: 1.0000 - val_loss: 1.4074 - val_accuracy: 0.7144\n",
      "Epoch 85/100\n",
      "50000/50000 [==============================] - 58s 1ms/sample - loss: 0.0031 - accuracy: 1.0000 - val_loss: 1.4155 - val_accuracy: 0.7136\n",
      "Epoch 86/100\n",
      "50000/50000 [==============================] - 58s 1ms/sample - loss: 0.0030 - accuracy: 1.0000 - val_loss: 1.4164 - val_accuracy: 0.7144\n",
      "Epoch 87/100\n",
      "50000/50000 [==============================] - 58s 1ms/sample - loss: 0.0030 - accuracy: 1.0000 - val_loss: 1.4179 - val_accuracy: 0.7119\n",
      "Epoch 88/100\n",
      "50000/50000 [==============================] - 58s 1ms/sample - loss: 0.0030 - accuracy: 1.0000 - val_loss: 1.4174 - val_accuracy: 0.7128\n",
      "Epoch 89/100\n",
      "50000/50000 [==============================] - 58s 1ms/sample - loss: 0.0029 - accuracy: 1.0000 - val_loss: 1.4209 - val_accuracy: 0.7130\n",
      "Epoch 90/100\n",
      "50000/50000 [==============================] - 58s 1ms/sample - loss: 0.0029 - accuracy: 1.0000 - val_loss: 1.4246 - val_accuracy: 0.7105\n",
      "Epoch 91/100\n",
      "50000/50000 [==============================] - 58s 1ms/sample - loss: 0.0028 - accuracy: 1.0000 - val_loss: 1.4248 - val_accuracy: 0.7129\n",
      "Epoch 92/100\n",
      "50000/50000 [==============================] - 58s 1ms/sample - loss: 0.0028 - accuracy: 1.0000 - val_loss: 1.4255 - val_accuracy: 0.7126\n",
      "Epoch 93/100\n",
      "50000/50000 [==============================] - 58s 1ms/sample - loss: 0.0028 - accuracy: 1.0000 - val_loss: 1.4292 - val_accuracy: 0.7149\n",
      "Epoch 94/100\n",
      "50000/50000 [==============================] - 58s 1ms/sample - loss: 0.0027 - accuracy: 1.0000 - val_loss: 1.4293 - val_accuracy: 0.7140\n",
      "Epoch 95/100\n",
      "50000/50000 [==============================] - 58s 1ms/sample - loss: 0.0027 - accuracy: 1.0000 - val_loss: 1.4318 - val_accuracy: 0.7136\n",
      "Epoch 96/100\n",
      "50000/50000 [==============================] - 58s 1ms/sample - loss: 0.0026 - accuracy: 1.0000 - val_loss: 1.4334 - val_accuracy: 0.7138\n",
      "Epoch 97/100\n",
      "50000/50000 [==============================] - 58s 1ms/sample - loss: 0.0026 - accuracy: 1.0000 - val_loss: 1.4384 - val_accuracy: 0.7160\n",
      "Epoch 98/100\n",
      "50000/50000 [==============================] - 58s 1ms/sample - loss: 0.0025 - accuracy: 1.0000 - val_loss: 1.4392 - val_accuracy: 0.7129\n",
      "Epoch 99/100\n",
      "50000/50000 [==============================] - 58s 1ms/sample - loss: 0.0027 - accuracy: 1.0000 - val_loss: 1.4388 - val_accuracy: 0.7137\n",
      "Epoch 100/100\n",
      "50000/50000 [==============================] - 58s 1ms/sample - loss: 0.0025 - accuracy: 1.0000 - val_loss: 1.4414 - val_accuracy: 0.7140\n",
      "Test error: 1.441371356010437\n",
      "Test accuracy: 0.714\n"
     ]
    }
   ],
   "source": [
    "batch_size=128\n",
    "epochs=100\n",
    "history = model.fit(X_train, Y_train,\n",
    "                    batch_size=batch_size, epochs=epochs,\n",
    "                    verbose=1, validation_data=(X_test, Y_test))\n",
    "score = model.evaluate(X_test, Y_test, verbose=0) \n",
    "print('Test error:', score[0]) \n",
    "print('Test accuracy:', score[1])"
   ]
  },
  {
   "cell_type": "code",
   "execution_count": 25,
   "metadata": {
    "scrolled": true
   },
   "outputs": [
    {
     "data": {
      "image/png": "[encoded data removed]",
      "text/plain": [
       "<Figure size 432x288 with 1 Axes>"
      ]
     },
     "metadata": {
      "needs_background": "light"
     },
     "output_type": "display_data"
    }
   ],
   "source": [
    "import matplotlib.pyplot as plt\n",
    "plt.plot(history.history['accuracy'],'r')\n",
    "plt.plot(history.history['val_accuracy'],'b')\n",
    "plt.legend({'training accuracy':'r', 'validation accuracy': 'b'})\n",
    "plt.show()"
   ]
  },
  {
   "cell_type": "code",
   "execution_count": 26,
   "metadata": {},
   "outputs": [
    {
     "data": {
      "image/png": "[encoded data removed]",
      "text/plain": [
       "<Figure size 432x288 with 1 Axes>"
      ]
     },
     "metadata": {
      "needs_background": "light"
     },
     "output_type": "display_data"
    }
   ],
   "source": [
    "plt.plot(history.history['loss'],'r')\n",
    "plt.plot(history.history['val_loss'],'b')\n",
    "plt.legend({'training loss':'r', 'validation loss': 'b'})\n",
    "plt.show()"
   ]
  },
  {
   "cell_type": "code",
   "execution_count": 48,
   "metadata": {},
   "outputs": [],
   "source": [
    "predictions = model.predict_classes(X_test)"
   ]
  },
  {
   "cell_type": "code",
   "execution_count": null,
   "metadata": {},
   "outputs": [],
   "source": []
  },
  {
   "cell_type": "markdown",
   "metadata": {},
   "source": [
    "## arch 1 image augmentation\n",
    "\n",
    "```python\n",
    "{\n",
    "    horizontal_flip: True\n",
    "}\n",
    "```"
   ]
  },
  {
   "cell_type": "code",
   "execution_count": 46,
   "metadata": {},
   "outputs": [],
   "source": [
    "model = Sequential()\n",
    "\n",
    "# 32,32\n",
    "model.add(Convolution2D(16,(3,3), activation='relu', input_shape=(32,32,3), padding='same'))\n",
    "model.add(BatchNormalization())\n",
    "\n",
    "# 30,30\n",
    "model.add(Convolution2D(32,(3,3), activation='relu'))\n",
    "model.add(BatchNormalization())\n",
    "\n",
    "# 28,28\n",
    "model.add(MaxPooling2D(pool_size=(2,2)))\n",
    "\n",
    "# # 14,14\n",
    "model.add(Convolution2D(24,1, activation='relu'))\n",
    "\n",
    "# 14,14\n",
    "model.add(Convolution2D(64,(3,3), activation='relu', padding='same'))\n",
    "model.add(BatchNormalization())\n",
    "\n",
    "# 12, 12\n",
    "model.add(Convolution2D(128,(3,3), activation='relu'))\n",
    "model.add(BatchNormalization())\n",
    "\n",
    "model.add(MaxPooling2D(pool_size=(2,2)))\n",
    "\n",
    "model.add(Convolution2D(64, 1, activation='relu'))\n",
    "\n",
    "model.add(Convolution2D(256,(3,3), activation='relu'))\n",
    "model.add(BatchNormalization())\n",
    "\n",
    "model.add(Convolution2D(10, 4))\n",
    "\n",
    "model.add(Flatten())\n",
    "model.add(Activation('softmax'))\n"
   ]
  },
  {
   "cell_type": "code",
   "execution_count": 47,
   "metadata": {
    "scrolled": true
   },
   "outputs": [
    {
     "name": "stdout",
     "output_type": "stream",
     "text": [
      "Model: \"sequential_2\"\n",
      "_________________________________________________________________\n",
      "Layer (type)                 Output Shape              Param #   \n",
      "=================================================================\n",
      "conv2d_16 (Conv2D)           (None, 32, 32, 16)        448       \n",
      "_________________________________________________________________\n",
      "batch_normalization_10 (Batc (None, 32, 32, 16)        64        \n",
      "_________________________________________________________________\n",
      "conv2d_17 (Conv2D)           (None, 30, 30, 32)        4640      \n",
      "_________________________________________________________________\n",
      "batch_normalization_11 (Batc (None, 30, 30, 32)        128       \n",
      "_________________________________________________________________\n",
      "max_pooling2d_4 (MaxPooling2 (None, 15, 15, 32)        0         \n",
      "_________________________________________________________________\n",
      "conv2d_18 (Conv2D)           (None, 15, 15, 24)        792       \n",
      "_________________________________________________________________\n",
      "conv2d_19 (Conv2D)           (None, 15, 15, 64)        13888     \n",
      "_________________________________________________________________\n",
      "batch_normalization_12 (Batc (None, 15, 15, 64)        256       \n",
      "_________________________________________________________________\n",
      "conv2d_20 (Conv2D)           (None, 13, 13, 128)       73856     \n",
      "_________________________________________________________________\n",
      "batch_normalization_13 (Batc (None, 13, 13, 128)       512       \n",
      "_________________________________________________________________\n",
      "max_pooling2d_5 (MaxPooling2 (None, 6, 6, 128)         0         \n",
      "_________________________________________________________________\n",
      "conv2d_21 (Conv2D)           (None, 6, 6, 64)          8256      \n",
      "_________________________________________________________________\n",
      "conv2d_22 (Conv2D)           (None, 4, 4, 256)         147712    \n",
      "_________________________________________________________________\n",
      "batch_normalization_14 (Batc (None, 4, 4, 256)         1024      \n",
      "_________________________________________________________________\n",
      "conv2d_23 (Conv2D)           (None, 1, 1, 10)          40970     \n",
      "_________________________________________________________________\n",
      "flatten_2 (Flatten)          (None, 10)                0         \n",
      "_________________________________________________________________\n",
      "activation_2 (Activation)    (None, 10)                0         \n",
      "=================================================================\n",
      "Total params: 292,546\n",
      "Trainable params: 291,554\n",
      "Non-trainable params: 992\n",
      "_________________________________________________________________\n"
     ]
    }
   ],
   "source": [
    "model.summary()"
   ]
  },
  {
   "cell_type": "code",
   "execution_count": 48,
   "metadata": {},
   "outputs": [],
   "source": [
    "model.compile(optimizer='sgd', loss='categorical_crossentropy', metrics=['accuracy'])"
   ]
  },
  {
   "cell_type": "code",
   "execution_count": 42,
   "metadata": {},
   "outputs": [],
   "source": [
    "from tensorflow.keras.preprocessing.image import ImageDataGenerator"
   ]
  },
  {
   "cell_type": "code",
   "execution_count": 49,
   "metadata": {},
   "outputs": [],
   "source": [
    "datagen = ImageDataGenerator(\n",
    "    horizontal_flip=True\n",
    ")"
   ]
  },
  {
   "cell_type": "code",
   "execution_count": null,
   "metadata": {
    "scrolled": true
   },
   "outputs": [
    {
     "name": "stdout",
     "output_type": "stream",
     "text": [
      "Epoch 1/50\n",
      "390/390 [==============================] - 104s 266ms/step - loss: 1.6366 - accuracy: 0.4322 - val_loss: 1.4235 - val_accuracy: 0.4934\n",
      "Epoch 2/50\n",
      "390/390 [==============================] - 103s 265ms/step - loss: 1.1883 - accuracy: 0.5818 - val_loss: 1.1919 - val_accuracy: 0.5852\n",
      "Epoch 3/50\n",
      "390/390 [==============================] - 106s 271ms/step - loss: 1.0168 - accuracy: 0.6425 - val_loss: 1.0603 - val_accuracy: 0.6283\n",
      "Epoch 4/50\n",
      "390/390 [==============================] - 104s 266ms/step - loss: 0.9050 - accuracy: 0.6849 - val_loss: 0.9647 - val_accuracy: 0.6619\n",
      "Epoch 5/50\n",
      "390/390 [==============================] - 104s 266ms/step - loss: 0.8236 - accuracy: 0.7127 - val_loss: 0.9540 - val_accuracy: 0.6682\n",
      "Epoch 6/50\n",
      "390/390 [==============================] - 103s 264ms/step - loss: 0.7645 - accuracy: 0.7347 - val_loss: 0.8745 - val_accuracy: 0.7029\n",
      "Epoch 7/50\n",
      "390/390 [==============================] - 107s 274ms/step - loss: 0.7111 - accuracy: 0.7555 - val_loss: 0.8894 - val_accuracy: 0.6918\n",
      "Epoch 8/50\n",
      "390/390 [==============================] - 103s 263ms/step - loss: 0.6696 - accuracy: 0.7684 - val_loss: 0.8470 - val_accuracy: 0.7115\n",
      "Epoch 9/50\n",
      "390/390 [==============================] - 102s 263ms/step - loss: 0.6316 - accuracy: 0.7840 - val_loss: 0.8082 - val_accuracy: 0.7249\n",
      "Epoch 10/50\n",
      "390/390 [==============================] - 112s 286ms/step - loss: 0.5963 - accuracy: 0.7952 - val_loss: 0.7840 - val_accuracy: 0.7363\n",
      "Epoch 11/50\n",
      "390/390 [==============================] - 118s 304ms/step - loss: 0.5620 - accuracy: 0.8062 - val_loss: 0.8809 - val_accuracy: 0.7051\n",
      "Epoch 12/50\n",
      "390/390 [==============================] - 117s 301ms/step - loss: 0.5344 - accuracy: 0.8174 - val_loss: 0.7891 - val_accuracy: 0.7422\n",
      "Epoch 13/50\n",
      "390/390 [==============================] - 117s 301ms/step - loss: 0.5099 - accuracy: 0.8250 - val_loss: 0.7883 - val_accuracy: 0.7397\n",
      "Epoch 14/50\n",
      "390/390 [==============================] - 118s 301ms/step - loss: 0.4842 - accuracy: 0.8346 - val_loss: 0.7635 - val_accuracy: 0.7470\n",
      "Epoch 15/50\n",
      "390/390 [==============================] - 110s 282ms/step - loss: 0.4615 - accuracy: 0.8432 - val_loss: 0.7886 - val_accuracy: 0.7439\n",
      "Epoch 16/50\n",
      "390/390 [==============================] - 104s 266ms/step - loss: 0.4363 - accuracy: 0.8511 - val_loss: 0.7676 - val_accuracy: 0.7424\n",
      "Epoch 17/50\n",
      "390/390 [==============================] - 102s 262ms/step - loss: 0.4193 - accuracy: 0.8575 - val_loss: 0.7766 - val_accuracy: 0.7456\n",
      "Epoch 18/50\n",
      "390/390 [==============================] - 102s 263ms/step - loss: 0.3936 - accuracy: 0.8657 - val_loss: 0.7964 - val_accuracy: 0.7424\n",
      "Epoch 19/50\n",
      "390/390 [==============================] - 102s 262ms/step - loss: 0.3746 - accuracy: 0.8740 - val_loss: 0.8418 - val_accuracy: 0.7319\n",
      "Epoch 20/50\n",
      "390/390 [==============================] - 102s 263ms/step - loss: 0.3553 - accuracy: 0.8815 - val_loss: 0.7705 - val_accuracy: 0.7519\n",
      "Epoch 21/50\n",
      "390/390 [==============================] - 103s 263ms/step - loss: 0.3402 - accuracy: 0.8874 - val_loss: 0.8254 - val_accuracy: 0.7427\n",
      "Epoch 22/50\n",
      "390/390 [==============================] - 109s 279ms/step - loss: 0.3217 - accuracy: 0.8939 - val_loss: 0.7721 - val_accuracy: 0.7540\n",
      "Epoch 23/50\n",
      "390/390 [==============================] - 116s 297ms/step - loss: 0.3043 - accuracy: 0.9007 - val_loss: 0.7735 - val_accuracy: 0.7609\n",
      "Epoch 24/50\n",
      "390/390 [==============================] - 115s 295ms/step - loss: 0.2868 - accuracy: 0.9063 - val_loss: 0.7849 - val_accuracy: 0.7585\n",
      "Epoch 25/50\n",
      "390/390 [==============================] - 115s 296ms/step - loss: 0.2670 - accuracy: 0.9148 - val_loss: 0.7967 - val_accuracy: 0.7543\n",
      "Epoch 26/50\n",
      "390/390 [==============================] - 116s 297ms/step - loss: 0.2560 - accuracy: 0.9191 - val_loss: 0.8197 - val_accuracy: 0.7530\n",
      "Epoch 27/50\n",
      "390/390 [==============================] - 113s 289ms/step - loss: 0.2469 - accuracy: 0.9223 - val_loss: 0.8030 - val_accuracy: 0.7563\n",
      "Epoch 28/50\n",
      "390/390 [==============================] - 107s 273ms/step - loss: 0.2253 - accuracy: 0.9295 - val_loss: 0.8130 - val_accuracy: 0.7551\n",
      "Epoch 29/50\n",
      "390/390 [==============================] - 105s 269ms/step - loss: 0.2140 - accuracy: 0.9333 - val_loss: 0.8328 - val_accuracy: 0.7488\n",
      "Epoch 30/50\n",
      "390/390 [==============================] - 128s 328ms/step - loss: 0.2016 - accuracy: 0.9397 - val_loss: 0.8496 - val_accuracy: 0.7526\n",
      "Epoch 31/50\n",
      "390/390 [==============================] - 104s 267ms/step - loss: 0.1859 - accuracy: 0.9445 - val_loss: 0.8299 - val_accuracy: 0.7601\n",
      "Epoch 32/50\n",
      "390/390 [==============================] - 103s 265ms/step - loss: 0.1751 - accuracy: 0.9492 - val_loss: 0.8666 - val_accuracy: 0.7545\n",
      "Epoch 33/50\n",
      "390/390 [==============================] - 146s 375ms/step - loss: 0.1634 - accuracy: 0.9530 - val_loss: 0.8543 - val_accuracy: 0.7575\n",
      "Epoch 34/50\n",
      "390/390 [==============================] - 261s 670ms/step - loss: 0.1522 - accuracy: 0.9571 - val_loss: 0.8626 - val_accuracy: 0.7647\n",
      "Epoch 35/50\n",
      "390/390 [==============================] - 103s 265ms/step - loss: 0.1419 - accuracy: 0.9619 - val_loss: 0.8685 - val_accuracy: 0.7585\n",
      "Epoch 36/50\n",
      "390/390 [==============================] - 104s 267ms/step - loss: 0.1353 - accuracy: 0.9643 - val_loss: 0.8487 - val_accuracy: 0.7601\n",
      "Epoch 37/50\n",
      "390/390 [==============================] - 106s 272ms/step - loss: 0.1224 - accuracy: 0.9690 - val_loss: 0.8789 - val_accuracy: 0.7588\n",
      "Epoch 38/50\n",
      "390/390 [==============================] - 104s 267ms/step - loss: 0.1163 - accuracy: 0.9713 - val_loss: 0.8802 - val_accuracy: 0.7618\n",
      "Epoch 39/50\n",
      "390/390 [==============================] - 110s 281ms/step - loss: 0.1061 - accuracy: 0.9751 - val_loss: 0.8807 - val_accuracy: 0.7637\n",
      "Epoch 40/50\n",
      "390/390 [==============================] - 106s 272ms/step - loss: 0.0976 - accuracy: 0.9781 - val_loss: 0.8942 - val_accuracy: 0.7635\n",
      "Epoch 41/50\n",
      "390/390 [==============================] - 111s 284ms/step - loss: 0.0892 - accuracy: 0.9816 - val_loss: 0.9146 - val_accuracy: 0.7627\n",
      "Epoch 42/50\n",
      "390/390 [==============================] - 107s 273ms/step - loss: 0.0839 - accuracy: 0.9830 - val_loss: 0.9088 - val_accuracy: 0.7613\n",
      "Epoch 43/50\n",
      "390/390 [==============================] - 108s 276ms/step - loss: 0.0786 - accuracy: 0.9839 - val_loss: 0.9264 - val_accuracy: 0.7613\n",
      "Epoch 44/50\n",
      "390/390 [==============================] - 107s 275ms/step - loss: 0.0733 - accuracy: 0.9864 - val_loss: 0.9182 - val_accuracy: 0.7585\n",
      "Epoch 45/50\n",
      " 31/390 [=>............................] - ETA: 1:35 - loss: 0.0805 - accuracy: 0.9836"
     ]
    }
   ],
   "source": [
    "batch_size=128\n",
    "model_info = model.fit_generator(\n",
    "    datagen.flow(X_train, Y_train, batch_size=batch_size),\n",
    "    steps_per_epoch=X_train.shape[0] // batch_size,\n",
    "    epochs=50,\n",
    "    validation_data=(X_test, Y_test),\n",
    ")"
   ]
  },
  {
   "cell_type": "code",
   "execution_count": null,
   "metadata": {},
   "outputs": [],
   "source": []
  },
  {
   "cell_type": "markdown",
   "metadata": {},
   "source": [
    "## arch 2 image augmentation\n",
    "\n",
    "```python\n",
    "{\n",
    "    horizontal_flip: True,\n",
    "    rotation_range: 10,\n",
    "    zoom_range: 0.15,\n",
    "    width_shift_range: 0.2\n",
    "}\n",
    "```"
   ]
  },
  {
   "cell_type": "code",
   "execution_count": 54,
   "metadata": {},
   "outputs": [],
   "source": [
    "model = Sequential()\n",
    "\n",
    "# 32,32\n",
    "model.add(Convolution2D(16,(3,3), activation='relu', input_shape=(32,32,3), padding='same'))\n",
    "model.add(BatchNormalization())\n",
    "\n",
    "# 30,30\n",
    "model.add(Convolution2D(32,(3,3), activation='relu'))\n",
    "model.add(BatchNormalization())\n",
    "\n",
    "# 28,28\n",
    "model.add(MaxPooling2D(pool_size=(2,2)))\n",
    "\n",
    "# # 14,14\n",
    "model.add(Convolution2D(24,1, activation='relu'))\n",
    "\n",
    "# 14,14\n",
    "model.add(Convolution2D(64,(3,3), activation='relu', padding='same'))\n",
    "model.add(BatchNormalization())\n",
    "\n",
    "# 12, 12\n",
    "model.add(Convolution2D(128,(3,3), activation='relu'))\n",
    "model.add(BatchNormalization())\n",
    "\n",
    "model.add(MaxPooling2D(pool_size=(2,2)))\n",
    "\n",
    "model.add(Convolution2D(64, 1, activation='relu'))\n",
    "\n",
    "model.add(Convolution2D(256,(3,3), activation='relu'))\n",
    "model.add(BatchNormalization())\n",
    "\n",
    "model.add(Convolution2D(10, 4))\n",
    "\n",
    "model.add(Flatten())\n",
    "model.add(Activation('softmax'))\n"
   ]
  },
  {
   "cell_type": "code",
   "execution_count": 55,
   "metadata": {
    "scrolled": true
   },
   "outputs": [
    {
     "name": "stdout",
     "output_type": "stream",
     "text": [
      "Model: \"sequential_3\"\n",
      "_________________________________________________________________\n",
      "Layer (type)                 Output Shape              Param #   \n",
      "=================================================================\n",
      "conv2d_24 (Conv2D)           (None, 32, 32, 16)        448       \n",
      "_________________________________________________________________\n",
      "batch_normalization_15 (Batc (None, 32, 32, 16)        64        \n",
      "_________________________________________________________________\n",
      "conv2d_25 (Conv2D)           (None, 30, 30, 32)        4640      \n",
      "_________________________________________________________________\n",
      "batch_normalization_16 (Batc (None, 30, 30, 32)        128       \n",
      "_________________________________________________________________\n",
      "max_pooling2d_6 (MaxPooling2 (None, 15, 15, 32)        0         \n",
      "_________________________________________________________________\n",
      "conv2d_26 (Conv2D)           (None, 15, 15, 24)        792       \n",
      "_________________________________________________________________\n",
      "conv2d_27 (Conv2D)           (None, 15, 15, 64)        13888     \n",
      "_________________________________________________________________\n",
      "batch_normalization_17 (Batc (None, 15, 15, 64)        256       \n",
      "_________________________________________________________________\n",
      "conv2d_28 (Conv2D)           (None, 13, 13, 128)       73856     \n",
      "_________________________________________________________________\n",
      "batch_normalization_18 (Batc (None, 13, 13, 128)       512       \n",
      "_________________________________________________________________\n",
      "max_pooling2d_7 (MaxPooling2 (None, 6, 6, 128)         0         \n",
      "_________________________________________________________________\n",
      "conv2d_29 (Conv2D)           (None, 6, 6, 64)          8256      \n",
      "_________________________________________________________________\n",
      "conv2d_30 (Conv2D)           (None, 4, 4, 256)         147712    \n",
      "_________________________________________________________________\n",
      "batch_normalization_19 (Batc (None, 4, 4, 256)         1024      \n",
      "_________________________________________________________________\n",
      "conv2d_31 (Conv2D)           (None, 1, 1, 10)          40970     \n",
      "_________________________________________________________________\n",
      "flatten_3 (Flatten)          (None, 10)                0         \n",
      "_________________________________________________________________\n",
      "activation_3 (Activation)    (None, 10)                0         \n",
      "=================================================================\n",
      "Total params: 292,546\n",
      "Trainable params: 291,554\n",
      "Non-trainable params: 992\n",
      "_________________________________________________________________\n"
     ]
    }
   ],
   "source": [
    "model.summary()"
   ]
  },
  {
   "cell_type": "code",
   "execution_count": 56,
   "metadata": {},
   "outputs": [],
   "source": [
    "model.compile(optimizer='sgd', loss='categorical_crossentropy', metrics=['accuracy'])"
   ]
  },
  {
   "cell_type": "code",
   "execution_count": 57,
   "metadata": {},
   "outputs": [],
   "source": [
    "from tensorflow.keras.preprocessing.image import ImageDataGenerator"
   ]
  },
  {
   "cell_type": "code",
   "execution_count": 58,
   "metadata": {},
   "outputs": [],
   "source": [
    "datagen = ImageDataGenerator(\n",
    "    horizontal_flip=True,\n",
    "    rotation_range=10,###\n",
    "    zoom_range=0.15,\n",
    "    width_shift_range=0.2\n",
    ")"
   ]
  },
  {
   "cell_type": "code",
   "execution_count": 59,
   "metadata": {
    "scrolled": true
   },
   "outputs": [
    {
     "name": "stdout",
     "output_type": "stream",
     "text": [
      "Epoch 1/50\n",
      "390/390 [==============================] - 111s 284ms/step - loss: 1.6987 - accuracy: 0.4073 - val_loss: 1.5358 - val_accuracy: 0.4693\n",
      "Epoch 2/50\n",
      "390/390 [==============================] - 108s 277ms/step - loss: 1.3453 - accuracy: 0.5205 - val_loss: 1.3489 - val_accuracy: 0.5314\n",
      "Epoch 3/50\n",
      "390/390 [==============================] - 110s 282ms/step - loss: 1.2170 - accuracy: 0.5695 - val_loss: 1.3263 - val_accuracy: 0.5525\n",
      "Epoch 4/50\n",
      "390/390 [==============================] - 107s 275ms/step - loss: 1.1330 - accuracy: 0.5968 - val_loss: 1.3577 - val_accuracy: 0.5570\n",
      "Epoch 5/50\n",
      "390/390 [==============================] - 108s 277ms/step - loss: 1.0703 - accuracy: 0.6252 - val_loss: 1.2779 - val_accuracy: 0.5935\n",
      "Epoch 6/50\n",
      "390/390 [==============================] - 107s 275ms/step - loss: 1.0257 - accuracy: 0.6384 - val_loss: 1.2175 - val_accuracy: 0.5972\n",
      "Epoch 7/50\n",
      "390/390 [==============================] - 108s 276ms/step - loss: 0.9811 - accuracy: 0.6540 - val_loss: 1.0934 - val_accuracy: 0.6422\n",
      "Epoch 8/50\n",
      "390/390 [==============================] - 109s 279ms/step - loss: 0.9397 - accuracy: 0.6697 - val_loss: 0.9238 - val_accuracy: 0.6881\n",
      "Epoch 9/50\n",
      "390/390 [==============================] - 108s 276ms/step - loss: 0.9168 - accuracy: 0.6771 - val_loss: 1.0223 - val_accuracy: 0.6574\n",
      "Epoch 10/50\n",
      "390/390 [==============================] - 108s 277ms/step - loss: 0.8787 - accuracy: 0.6921 - val_loss: 0.9431 - val_accuracy: 0.6896\n",
      "Epoch 11/50\n",
      "390/390 [==============================] - 108s 278ms/step - loss: 0.8509 - accuracy: 0.7012 - val_loss: 0.9460 - val_accuracy: 0.6966\n",
      "Epoch 12/50\n",
      "390/390 [==============================] - 108s 278ms/step - loss: 0.8301 - accuracy: 0.7089 - val_loss: 0.9000 - val_accuracy: 0.7084\n",
      "Epoch 13/50\n",
      "390/390 [==============================] - 116s 297ms/step - loss: 0.8072 - accuracy: 0.7165 - val_loss: 1.0829 - val_accuracy: 0.6674\n",
      "Epoch 14/50\n",
      "390/390 [==============================] - 108s 277ms/step - loss: 0.7803 - accuracy: 0.7279 - val_loss: 0.8695 - val_accuracy: 0.7156\n",
      "Epoch 15/50\n",
      "390/390 [==============================] - 109s 279ms/step - loss: 0.7690 - accuracy: 0.7307 - val_loss: 0.7609 - val_accuracy: 0.7395\n",
      "Epoch 16/50\n",
      "390/390 [==============================] - 109s 279ms/step - loss: 0.7530 - accuracy: 0.7390 - val_loss: 0.9080 - val_accuracy: 0.7086\n",
      "Epoch 17/50\n",
      "390/390 [==============================] - 109s 279ms/step - loss: 0.7375 - accuracy: 0.7428 - val_loss: 0.7560 - val_accuracy: 0.7414\n",
      "Epoch 18/50\n",
      "390/390 [==============================] - 108s 278ms/step - loss: 0.7182 - accuracy: 0.7479 - val_loss: 0.7791 - val_accuracy: 0.7428\n",
      "Epoch 19/50\n",
      "390/390 [==============================] - 108s 276ms/step - loss: 0.7096 - accuracy: 0.7528 - val_loss: 0.8347 - val_accuracy: 0.7282\n",
      "Epoch 20/50\n",
      "390/390 [==============================] - 108s 278ms/step - loss: 0.6933 - accuracy: 0.7580 - val_loss: 0.7812 - val_accuracy: 0.7378\n",
      "Epoch 21/50\n",
      "390/390 [==============================] - 118s 303ms/step - loss: 0.6830 - accuracy: 0.7611 - val_loss: 0.7435 - val_accuracy: 0.7576\n",
      "Epoch 22/50\n",
      "390/390 [==============================] - 344s 883ms/step - loss: 0.6667 - accuracy: 0.7668 - val_loss: 0.8682 - val_accuracy: 0.7236\n",
      "Epoch 23/50\n",
      "390/390 [==============================] - 108s 277ms/step - loss: 0.6612 - accuracy: 0.7684 - val_loss: 0.7913 - val_accuracy: 0.7469\n",
      "Epoch 24/50\n",
      "390/390 [==============================] - 109s 280ms/step - loss: 0.6528 - accuracy: 0.7708 - val_loss: 0.7895 - val_accuracy: 0.7419\n",
      "Epoch 25/50\n",
      "390/390 [==============================] - 109s 279ms/step - loss: 0.6329 - accuracy: 0.7802 - val_loss: 0.7387 - val_accuracy: 0.7564\n",
      "Epoch 26/50\n",
      "390/390 [==============================] - 110s 283ms/step - loss: 0.6303 - accuracy: 0.7790 - val_loss: 0.7836 - val_accuracy: 0.7435\n",
      "Epoch 27/50\n",
      "390/390 [==============================] - 110s 282ms/step - loss: 0.6213 - accuracy: 0.7836 - val_loss: 0.8437 - val_accuracy: 0.7342\n",
      "Epoch 28/50\n",
      "390/390 [==============================] - 105s 269ms/step - loss: 0.6105 - accuracy: 0.7843 - val_loss: 0.7040 - val_accuracy: 0.7703\n",
      "Epoch 29/50\n",
      "390/390 [==============================] - 107s 274ms/step - loss: 0.6032 - accuracy: 0.7894 - val_loss: 0.7299 - val_accuracy: 0.7627\n",
      "Epoch 30/50\n",
      "390/390 [==============================] - 108s 276ms/step - loss: 0.5953 - accuracy: 0.7933 - val_loss: 0.7145 - val_accuracy: 0.7634\n",
      "Epoch 31/50\n",
      "390/390 [==============================] - 107s 274ms/step - loss: 0.5916 - accuracy: 0.7920 - val_loss: 0.7243 - val_accuracy: 0.7643\n",
      "Epoch 32/50\n",
      "390/390 [==============================] - 107s 273ms/step - loss: 0.5832 - accuracy: 0.7984 - val_loss: 0.7812 - val_accuracy: 0.7517\n",
      "Epoch 33/50\n",
      "390/390 [==============================] - 105s 270ms/step - loss: 0.5721 - accuracy: 0.7995 - val_loss: 0.7016 - val_accuracy: 0.7763\n",
      "Epoch 34/50\n",
      "390/390 [==============================] - 106s 273ms/step - loss: 0.5658 - accuracy: 0.8029 - val_loss: 0.7368 - val_accuracy: 0.7638\n",
      "Epoch 35/50\n",
      "390/390 [==============================] - 109s 279ms/step - loss: 0.5651 - accuracy: 0.8031 - val_loss: 0.7268 - val_accuracy: 0.7663\n",
      "Epoch 36/50\n",
      "390/390 [==============================] - 106s 273ms/step - loss: 0.5561 - accuracy: 0.8065 - val_loss: 0.8054 - val_accuracy: 0.7539\n",
      "Epoch 37/50\n",
      "390/390 [==============================] - 108s 277ms/step - loss: 0.5458 - accuracy: 0.8084 - val_loss: 0.8414 - val_accuracy: 0.7399\n",
      "Epoch 38/50\n",
      "390/390 [==============================] - 107s 274ms/step - loss: 0.5519 - accuracy: 0.8080 - val_loss: 0.6794 - val_accuracy: 0.7789\n",
      "Epoch 39/50\n",
      "390/390 [==============================] - 107s 274ms/step - loss: 0.5423 - accuracy: 0.8102 - val_loss: 0.6636 - val_accuracy: 0.7822\n",
      "Epoch 40/50\n",
      "390/390 [==============================] - 107s 275ms/step - loss: 0.5341 - accuracy: 0.8130 - val_loss: 0.7204 - val_accuracy: 0.7728\n",
      "Epoch 41/50\n",
      "390/390 [==============================] - 106s 272ms/step - loss: 0.5248 - accuracy: 0.8155 - val_loss: 0.6428 - val_accuracy: 0.7960\n",
      "Epoch 42/50\n",
      "390/390 [==============================] - 107s 274ms/step - loss: 0.5242 - accuracy: 0.8153 - val_loss: 0.7154 - val_accuracy: 0.7722\n",
      "Epoch 43/50\n",
      "390/390 [==============================] - 107s 274ms/step - loss: 0.5122 - accuracy: 0.8214 - val_loss: 0.6748 - val_accuracy: 0.7834\n",
      "Epoch 44/50\n",
      "390/390 [==============================] - 108s 276ms/step - loss: 0.5182 - accuracy: 0.8176 - val_loss: 0.6763 - val_accuracy: 0.7864\n",
      "Epoch 45/50\n",
      "390/390 [==============================] - 108s 276ms/step - loss: 0.5122 - accuracy: 0.8237 - val_loss: 0.6293 - val_accuracy: 0.8015\n",
      "Epoch 46/50\n",
      "390/390 [==============================] - 110s 281ms/step - loss: 0.5009 - accuracy: 0.8246 - val_loss: 0.6255 - val_accuracy: 0.7960\n",
      "Epoch 47/50\n",
      "390/390 [==============================] - 109s 279ms/step - loss: 0.4991 - accuracy: 0.8250 - val_loss: 0.6611 - val_accuracy: 0.7904\n",
      "Epoch 48/50\n",
      "390/390 [==============================] - 107s 274ms/step - loss: 0.4931 - accuracy: 0.8252 - val_loss: 0.7373 - val_accuracy: 0.7759\n",
      "Epoch 49/50\n",
      "390/390 [==============================] - 109s 278ms/step - loss: 0.4883 - accuracy: 0.8274 - val_loss: 0.7060 - val_accuracy: 0.7775\n",
      "Epoch 50/50\n",
      "390/390 [==============================] - 107s 274ms/step - loss: 0.4834 - accuracy: 0.8319 - val_loss: 0.6099 - val_accuracy: 0.8031\n"
     ]
    }
   ],
   "source": [
    "batch_size=128\n",
    "model_info = model.fit_generator(\n",
    "    datagen.flow(X_train, Y_train, batch_size=batch_size),\n",
    "    steps_per_epoch=X_train.shape[0] // batch_size,\n",
    "    epochs=50,\n",
    "    validation_data=(X_test, Y_test),\n",
    ")"
   ]
  },
  {
   "cell_type": "code",
   "execution_count": 60,
   "metadata": {
    "scrolled": false
   },
   "outputs": [
    {
     "data": {
      "image/png": "[encoded data removed]",
      "text/plain": [
       "<Figure size 432x288 with 1 Axes>"
      ]
     },
     "metadata": {
      "needs_background": "light"
     },
     "output_type": "display_data"
    }
   ],
   "source": [
    "import matplotlib.pyplot as plt\n",
    "plt.plot(model_info.history['accuracy'],'r')\n",
    "plt.plot(model_info.history['val_accuracy'],'b')\n",
    "plt.legend({'training accuracy':'r', 'validation accuracy': 'b'})\n",
    "plt.show()"
   ]
  },
  {
   "cell_type": "code",
   "execution_count": 61,
   "metadata": {},
   "outputs": [
    {
     "data": {
      "image/png": "[encoded data removed]",
      "text/plain": [
       "<Figure size 432x288 with 1 Axes>"
      ]
     },
     "metadata": {
      "needs_background": "light"
     },
     "output_type": "display_data"
    }
   ],
   "source": [
    "plt.plot(model_info.history['loss'],'r')\n",
    "plt.plot(model_info.history['val_loss'],'b')\n",
    "plt.legend({'training loss':'r', 'validation loss': 'b'})\n",
    "plt.show()"
   ]
  },
  {
   "cell_type": "code",
   "execution_count": 62,
   "metadata": {},
   "outputs": [],
   "source": [
    "y_pred = model.predict_classes(X_test)"
   ]
  },
  {
   "cell_type": "code",
   "execution_count": 72,
   "metadata": {},
   "outputs": [
    {
     "data": {
      "text/plain": [
       "0.8031"
      ]
     },
     "execution_count": 72,
     "metadata": {},
     "output_type": "execute_result"
    }
   ],
   "source": [
    "score = accuracy_score(y_test, y_pred)\n",
    "score"
   ]
  },
  {
   "cell_type": "code",
   "execution_count": 71,
   "metadata": {},
   "outputs": [
    {
     "data": {
      "image/png": "[encoded data removed]",
      "text/plain": [
       "<Figure size 720x720 with 2 Axes>"
      ]
     },
     "metadata": {
      "needs_background": "light"
     },
     "output_type": "display_data"
    }
   ],
   "source": [
    "cm = confusion_matrix(y_test, y_pred)\n",
    "cm = cm.astype('float') / cm.sum(axis=1)[:, np.newaxis]\n",
    "\n",
    "plt.figure(figsize=(10, 10))\n",
    "sns.heatmap(cm, annot=True, fmt=\".3f\", linewidths=.5, square = True, cmap = 'Blues_r');\n",
    "plt.ylabel('Actual label');\n",
    "plt.xlabel('Predicted label');\n",
    "all_sample_title = 'Overall Accuracy Score: {0}'.format(score)\n",
    "plt.title(all_sample_title, size = 15);\n",
    "plt.savefig('ConfusionMatrix_CNN_image_augmentation_4.png')\n",
    "plt.show();"
   ]
  },
  {
   "cell_type": "code",
   "execution_count": null,
   "metadata": {},
   "outputs": [],
   "source": []
  },
  {
   "cell_type": "markdown",
   "metadata": {},
   "source": [
    "## arch 3 image augmentation + L2 regularization 0.1\n",
    "\n",
    "```python\n",
    "{\n",
    "    horizontal_flip: True,\n",
    "    rotation_range: 10,\n",
    "    zoom_range: 0.15,\n",
    "    width_shift_range: 0.2\n",
    "}\n",
    "```"
   ]
  },
  {
   "cell_type": "code",
   "execution_count": 73,
   "metadata": {},
   "outputs": [],
   "source": [
    "from tensorflow.keras import regularizers"
   ]
  },
  {
   "cell_type": "code",
   "execution_count": 74,
   "metadata": {},
   "outputs": [],
   "source": [
    "model = Sequential()\n",
    "\n",
    "# 32,32\n",
    "model.add(Convolution2D(16,(3,3), activation='relu', kernel_regularizer=regularizers.l2(0.1), input_shape=(32,32,3), padding='same'))\n",
    "model.add(BatchNormalization())\n",
    "\n",
    "# 30,30\n",
    "model.add(Convolution2D(32,(3,3), activation='relu', kernel_regularizer=regularizers.l2(0.1)))\n",
    "model.add(BatchNormalization())\n",
    "\n",
    "# 28,28\n",
    "model.add(MaxPooling2D(pool_size=(2,2)))\n",
    "\n",
    "# # 14,14\n",
    "model.add(Convolution2D(24,1, activation='relu', kernel_regularizer=regularizers.l2(0.1)))\n",
    "\n",
    "# 14,14\n",
    "model.add(Convolution2D(64,(3,3), activation='relu', padding='same', kernel_regularizer=regularizers.l2(0.1)))\n",
    "model.add(BatchNormalization())\n",
    "\n",
    "# 12, 12\n",
    "model.add(Convolution2D(128,(3,3), activation='relu', kernel_regularizer=regularizers.l2(0.1)))\n",
    "model.add(BatchNormalization())\n",
    "\n",
    "model.add(MaxPooling2D(pool_size=(2,2)))\n",
    "\n",
    "model.add(Convolution2D(64, 1, activation='relu', kernel_regularizer=regularizers.l2(0.1)))\n",
    "\n",
    "model.add(Convolution2D(256,(3,3), activation='relu', kernel_regularizer=regularizers.l2(0.1)))\n",
    "model.add(BatchNormalization())\n",
    "\n",
    "model.add(Convolution2D(10, 4, kernel_regularizer=regularizers.l2(0.1)))\n",
    "\n",
    "model.add(Flatten())\n",
    "model.add(Activation('softmax'))\n"
   ]
  },
  {
   "cell_type": "code",
   "execution_count": 75,
   "metadata": {
    "scrolled": true
   },
   "outputs": [
    {
     "name": "stdout",
     "output_type": "stream",
     "text": [
      "Model: \"sequential_4\"\n",
      "_________________________________________________________________\n",
      "Layer (type)                 Output Shape              Param #   \n",
      "=================================================================\n",
      "conv2d_32 (Conv2D)           (None, 32, 32, 16)        448       \n",
      "_________________________________________________________________\n",
      "batch_normalization_20 (Batc (None, 32, 32, 16)        64        \n",
      "_________________________________________________________________\n",
      "conv2d_33 (Conv2D)           (None, 30, 30, 32)        4640      \n",
      "_________________________________________________________________\n",
      "batch_normalization_21 (Batc (None, 30, 30, 32)        128       \n",
      "_________________________________________________________________\n",
      "max_pooling2d_8 (MaxPooling2 (None, 15, 15, 32)        0         \n",
      "_________________________________________________________________\n",
      "conv2d_34 (Conv2D)           (None, 15, 15, 24)        792       \n",
      "_________________________________________________________________\n",
      "conv2d_35 (Conv2D)           (None, 15, 15, 64)        13888     \n",
      "_________________________________________________________________\n",
      "batch_normalization_22 (Batc (None, 15, 15, 64)        256       \n",
      "_________________________________________________________________\n",
      "conv2d_36 (Conv2D)           (None, 13, 13, 128)       73856     \n",
      "_________________________________________________________________\n",
      "batch_normalization_23 (Batc (None, 13, 13, 128)       512       \n",
      "_________________________________________________________________\n",
      "max_pooling2d_9 (MaxPooling2 (None, 6, 6, 128)         0         \n",
      "_________________________________________________________________\n",
      "conv2d_37 (Conv2D)           (None, 6, 6, 64)          8256      \n",
      "_________________________________________________________________\n",
      "conv2d_38 (Conv2D)           (None, 4, 4, 256)         147712    \n",
      "_________________________________________________________________\n",
      "batch_normalization_24 (Batc (None, 4, 4, 256)         1024      \n",
      "_________________________________________________________________\n",
      "conv2d_39 (Conv2D)           (None, 1, 1, 10)          40970     \n",
      "_________________________________________________________________\n",
      "flatten_4 (Flatten)          (None, 10)                0         \n",
      "_________________________________________________________________\n",
      "activation_4 (Activation)    (None, 10)                0         \n",
      "=================================================================\n",
      "Total params: 292,546\n",
      "Trainable params: 291,554\n",
      "Non-trainable params: 992\n",
      "_________________________________________________________________\n"
     ]
    }
   ],
   "source": [
    "model.summary()"
   ]
  },
  {
   "cell_type": "code",
   "execution_count": 76,
   "metadata": {},
   "outputs": [],
   "source": [
    "model.compile(optimizer='sgd', loss='categorical_crossentropy', metrics=['accuracy'])"
   ]
  },
  {
   "cell_type": "code",
   "execution_count": 77,
   "metadata": {},
   "outputs": [],
   "source": [
    "from tensorflow.keras.preprocessing.image import ImageDataGenerator"
   ]
  },
  {
   "cell_type": "code",
   "execution_count": 78,
   "metadata": {},
   "outputs": [],
   "source": [
    "datagen = ImageDataGenerator(\n",
    "    horizontal_flip=True,\n",
    "    rotation_range=10,\n",
    "    zoom_range=0.15,\n",
    "    width_shift_range=0.2\n",
    ")"
   ]
  },
  {
   "cell_type": "code",
   "execution_count": 79,
   "metadata": {
    "scrolled": true
   },
   "outputs": [
    {
     "name": "stdout",
     "output_type": "stream",
     "text": [
      "Epoch 1/50\n",
      "390/390 [==============================] - 116s 296ms/step - loss: 21.0013 - accuracy: 0.4195 - val_loss: 10.7957 - val_accuracy: 0.1385\n",
      "Epoch 2/50\n",
      "390/390 [==============================] - 113s 290ms/step - loss: 5.5066 - accuracy: 0.5334 - val_loss: 3.9733 - val_accuracy: 0.2350\n",
      "Epoch 3/50\n",
      "390/390 [==============================] - 113s 291ms/step - loss: 2.3035 - accuracy: 0.5788 - val_loss: 2.3215 - val_accuracy: 0.4415\n",
      "Epoch 4/50\n",
      "390/390 [==============================] - 113s 289ms/step - loss: 1.6297 - accuracy: 0.6014 - val_loss: 1.6456 - val_accuracy: 0.5649\n",
      "Epoch 5/50\n",
      "390/390 [==============================] - 113s 289ms/step - loss: 1.4541 - accuracy: 0.6245 - val_loss: 1.8444 - val_accuracy: 0.5258\n",
      "Epoch 6/50\n",
      "390/390 [==============================] - 114s 292ms/step - loss: 1.3964 - accuracy: 0.6381 - val_loss: 1.3995 - val_accuracy: 0.6272\n",
      "Epoch 7/50\n",
      "390/390 [==============================] - 113s 290ms/step - loss: 1.3724 - accuracy: 0.6478 - val_loss: 1.5272 - val_accuracy: 0.5988\n",
      "Epoch 8/50\n",
      "390/390 [==============================] - 114s 291ms/step - loss: 1.3550 - accuracy: 0.6551 - val_loss: 1.5471 - val_accuracy: 0.5919\n",
      "Epoch 9/50\n",
      "390/390 [==============================] - 111s 286ms/step - loss: 1.3459 - accuracy: 0.6603 - val_loss: 1.5854 - val_accuracy: 0.6032\n",
      "Epoch 10/50\n",
      "390/390 [==============================] - 111s 285ms/step - loss: 1.3290 - accuracy: 0.6652 - val_loss: 1.3932 - val_accuracy: 0.6316\n",
      "Epoch 11/50\n",
      "390/390 [==============================] - 112s 287ms/step - loss: 1.3229 - accuracy: 0.6684 - val_loss: 1.5966 - val_accuracy: 0.5694\n",
      "Epoch 12/50\n",
      "390/390 [==============================] - 112s 286ms/step - loss: 1.3235 - accuracy: 0.6718 - val_loss: 1.9554 - val_accuracy: 0.5116\n",
      "Epoch 13/50\n",
      "390/390 [==============================] - 111s 285ms/step - loss: 1.3287 - accuracy: 0.6700 - val_loss: 1.6255 - val_accuracy: 0.5896\n",
      "Epoch 14/50\n",
      "390/390 [==============================] - 125s 322ms/step - loss: 1.3098 - accuracy: 0.6783 - val_loss: 1.8330 - val_accuracy: 0.5462\n",
      "Epoch 15/50\n",
      "390/390 [==============================] - 131s 336ms/step - loss: 1.3003 - accuracy: 0.6824 - val_loss: 1.5188 - val_accuracy: 0.6034\n",
      "Epoch 16/50\n",
      "390/390 [==============================] - 131s 335ms/step - loss: 1.3074 - accuracy: 0.6790 - val_loss: 1.6957 - val_accuracy: 0.5430\n",
      "Epoch 17/50\n",
      "390/390 [==============================] - 130s 334ms/step - loss: 1.3035 - accuracy: 0.6778 - val_loss: 6.6188 - val_accuracy: 0.1297\n",
      "Epoch 18/50\n",
      "390/390 [==============================] - 126s 323ms/step - loss: 1.3006 - accuracy: 0.6867 - val_loss: 1.6381 - val_accuracy: 0.5790\n",
      "Epoch 19/50\n",
      "390/390 [==============================] - 111s 284ms/step - loss: 1.3062 - accuracy: 0.6833 - val_loss: 1.5957 - val_accuracy: 0.5963\n",
      "Epoch 20/50\n",
      "390/390 [==============================] - 110s 282ms/step - loss: 1.3061 - accuracy: 0.6835 - val_loss: 1.3354 - val_accuracy: 0.6665\n",
      "Epoch 21/50\n",
      "390/390 [==============================] - 110s 282ms/step - loss: 1.2918 - accuracy: 0.6882 - val_loss: 1.8639 - val_accuracy: 0.5071\n",
      "Epoch 22/50\n",
      "390/390 [==============================] - 110s 282ms/step - loss: 1.2927 - accuracy: 0.6853 - val_loss: 1.3138 - val_accuracy: 0.6753\n",
      "Epoch 23/50\n",
      "390/390 [==============================] - 110s 283ms/step - loss: 1.2854 - accuracy: 0.6904 - val_loss: 2.4043 - val_accuracy: 0.3880\n",
      "Epoch 24/50\n",
      "390/390 [==============================] - 110s 282ms/step - loss: 1.2953 - accuracy: 0.6887 - val_loss: 1.4177 - val_accuracy: 0.6448\n",
      "Epoch 25/50\n",
      "390/390 [==============================] - 110s 282ms/step - loss: 1.2854 - accuracy: 0.6922 - val_loss: 1.6347 - val_accuracy: 0.5934\n",
      "Epoch 26/50\n",
      "390/390 [==============================] - 110s 282ms/step - loss: 1.2939 - accuracy: 0.6887 - val_loss: 1.6198 - val_accuracy: 0.5911\n",
      "Epoch 27/50\n",
      "390/390 [==============================] - 110s 282ms/step - loss: 1.2919 - accuracy: 0.6892 - val_loss: 1.4320 - val_accuracy: 0.6439\n",
      "Epoch 28/50\n",
      "390/390 [==============================] - 110s 283ms/step - loss: 1.2857 - accuracy: 0.6922 - val_loss: 1.7157 - val_accuracy: 0.5790\n",
      "Epoch 29/50\n",
      "390/390 [==============================] - 110s 283ms/step - loss: 1.2859 - accuracy: 0.6925 - val_loss: 1.3219 - val_accuracy: 0.6806\n",
      "Epoch 30/50\n",
      "390/390 [==============================] - 110s 282ms/step - loss: 1.2800 - accuracy: 0.6925 - val_loss: 1.9494 - val_accuracy: 0.5195\n",
      "Epoch 31/50\n",
      "390/390 [==============================] - 110s 283ms/step - loss: 1.2774 - accuracy: 0.6942 - val_loss: 1.2662 - val_accuracy: 0.6972\n",
      "Epoch 32/50\n",
      "390/390 [==============================] - 110s 283ms/step - loss: 1.2955 - accuracy: 0.6895 - val_loss: 1.3753 - val_accuracy: 0.6619\n",
      "Epoch 33/50\n",
      "390/390 [==============================] - 110s 282ms/step - loss: 1.2950 - accuracy: 0.6897 - val_loss: 1.7328 - val_accuracy: 0.5558\n",
      "Epoch 34/50\n",
      "390/390 [==============================] - 109s 280ms/step - loss: 1.2827 - accuracy: 0.6935 - val_loss: 1.3612 - val_accuracy: 0.6714\n",
      "Epoch 35/50\n",
      "390/390 [==============================] - 109s 280ms/step - loss: 1.2962 - accuracy: 0.6904 - val_loss: 1.4462 - val_accuracy: 0.6445\n",
      "Epoch 36/50\n",
      "390/390 [==============================] - 109s 279ms/step - loss: 1.2971 - accuracy: 0.6898 - val_loss: 2.2984 - val_accuracy: 0.4092\n",
      "Epoch 37/50\n",
      "390/390 [==============================] - 109s 279ms/step - loss: 1.2844 - accuracy: 0.6951 - val_loss: 2.0480 - val_accuracy: 0.4631\n",
      "Epoch 38/50\n",
      "390/390 [==============================] - 109s 280ms/step - loss: 1.2866 - accuracy: 0.6949 - val_loss: 2.0543 - val_accuracy: 0.4301\n",
      "Epoch 39/50\n",
      "390/390 [==============================] - 109s 280ms/step - loss: 1.2834 - accuracy: 0.6958 - val_loss: 2.3554 - val_accuracy: 0.4431\n",
      "Epoch 40/50\n",
      "390/390 [==============================] - 109s 279ms/step - loss: 1.2847 - accuracy: 0.6948 - val_loss: 1.9987 - val_accuracy: 0.4923\n",
      "Epoch 41/50\n",
      "390/390 [==============================] - 109s 280ms/step - loss: 1.2831 - accuracy: 0.6939 - val_loss: 1.5684 - val_accuracy: 0.6169\n",
      "Epoch 42/50\n",
      "390/390 [==============================] - 109s 279ms/step - loss: 1.2811 - accuracy: 0.6948 - val_loss: 1.7859 - val_accuracy: 0.5563\n",
      "Epoch 43/50\n",
      "390/390 [==============================] - 109s 280ms/step - loss: 1.2903 - accuracy: 0.6917 - val_loss: 1.9783 - val_accuracy: 0.5169\n",
      "Epoch 44/50\n",
      "390/390 [==============================] - 109s 280ms/step - loss: 1.2831 - accuracy: 0.6918 - val_loss: 1.3840 - val_accuracy: 0.6636\n",
      "Epoch 45/50\n",
      "390/390 [==============================] - 109s 280ms/step - loss: 1.2813 - accuracy: 0.6946 - val_loss: 5.3020 - val_accuracy: 0.1285\n",
      "Epoch 46/50\n",
      "390/390 [==============================] - 109s 279ms/step - loss: 1.2827 - accuracy: 0.6946 - val_loss: 1.3047 - val_accuracy: 0.6771\n",
      "Epoch 47/50\n",
      "390/390 [==============================] - 109s 280ms/step - loss: 1.2889 - accuracy: 0.6938 - val_loss: 1.2637 - val_accuracy: 0.7038\n",
      "Epoch 48/50\n",
      "390/390 [==============================] - 109s 280ms/step - loss: 1.2820 - accuracy: 0.6938 - val_loss: 1.5040 - val_accuracy: 0.6231\n",
      "Epoch 49/50\n",
      "390/390 [==============================] - 109s 279ms/step - loss: 1.2850 - accuracy: 0.6956 - val_loss: 1.4715 - val_accuracy: 0.6453\n",
      "Epoch 50/50\n",
      "390/390 [==============================] - 109s 280ms/step - loss: 1.2870 - accuracy: 0.6926 - val_loss: 1.9437 - val_accuracy: 0.4792\n"
     ]
    }
   ],
   "source": [
    "batch_size=128\n",
    "model_info = model.fit_generator(\n",
    "    datagen.flow(X_train, Y_train, batch_size=batch_size),\n",
    "    steps_per_epoch=X_train.shape[0] // batch_size,\n",
    "    epochs=50,\n",
    "    validation_data=(X_test, Y_test),\n",
    ")"
   ]
  },
  {
   "cell_type": "code",
   "execution_count": 80,
   "metadata": {
    "scrolled": false
   },
   "outputs": [
    {
     "data": {
      "image/png": "[encoded data removed]",
      "text/plain": [
       "<Figure size 432x288 with 1 Axes>"
      ]
     },
     "metadata": {
      "needs_background": "light"
     },
     "output_type": "display_data"
    }
   ],
   "source": [
    "import matplotlib.pyplot as plt\n",
    "plt.plot(model_info.history['accuracy'],'r')\n",
    "plt.plot(model_info.history['val_accuracy'],'b')\n",
    "plt.legend({'training accuracy':'r', 'validation accuracy': 'b'})\n",
    "plt.show()"
   ]
  },
  {
   "cell_type": "code",
   "execution_count": 81,
   "metadata": {
    "scrolled": true
   },
   "outputs": [
    {
     "data": {
      "image/png": "[encoded data removed]",
      "text/plain": [
       "<Figure size 432x288 with 1 Axes>"
      ]
     },
     "metadata": {
      "needs_background": "light"
     },
     "output_type": "display_data"
    }
   ],
   "source": [
    "plt.plot(model_info.history['loss'],'r')\n",
    "plt.plot(model_info.history['val_loss'],'b')\n",
    "plt.legend({'training loss':'r', 'validation loss': 'b'})\n",
    "plt.show()"
   ]
  },
  {
   "cell_type": "code",
   "execution_count": 82,
   "metadata": {},
   "outputs": [],
   "source": [
    "y_pred = model.predict_classes(X_test)"
   ]
  },
  {
   "cell_type": "code",
   "execution_count": 83,
   "metadata": {},
   "outputs": [
    {
     "data": {
      "text/plain": [
       "0.4792"
      ]
     },
     "execution_count": 83,
     "metadata": {},
     "output_type": "execute_result"
    }
   ],
   "source": [
    "score = accuracy_score(y_test, y_pred)\n",
    "score"
   ]
  },
  {
   "cell_type": "code",
   "execution_count": 85,
   "metadata": {
    "scrolled": false
   },
   "outputs": [
    {
     "data": {
      "image/png": "[encoded data removed]",
      "text/plain": [
       "<Figure size 720x720 with 2 Axes>"
      ]
     },
     "metadata": {
      "needs_background": "light"
     },
     "output_type": "display_data"
    }
   ],
   "source": [
    "cm = confusion_matrix(y_test, y_pred)\n",
    "cm = cm.astype('float') / cm.sum(axis=1)[:, np.newaxis]\n",
    "\n",
    "plt.figure(figsize=(10, 10))\n",
    "sns.heatmap(cm, annot=True, fmt=\".3f\", linewidths=.5, square = True, cmap = 'Blues_r');\n",
    "plt.ylabel('Actual label');\n",
    "plt.xlabel('Predicted label');\n",
    "all_sample_title = 'Overall Accuracy Score: {0}'.format(score)\n",
    "plt.title(all_sample_title, size = 15);\n",
    "plt.savefig('ConfusionMatrix_CNN_image_augmentation_4_L2_0.1.png')\n",
    "plt.show();"
   ]
  },
  {
   "cell_type": "code",
   "execution_count": null,
   "metadata": {},
   "outputs": [],
   "source": []
  },
  {
   "cell_type": "markdown",
   "metadata": {},
   "source": [
    "## arch 4 image augmentation + L2 regularization 0.01\n",
    "\n",
    "```python\n",
    "{\n",
    "    horizontal_flip: True,\n",
    "    rotation_range: 10,\n",
    "    zoom_range: 0.15,\n",
    "    width_shift_range: 0.2\n",
    "}\n",
    "```"
   ]
  },
  {
   "cell_type": "code",
   "execution_count": 73,
   "metadata": {},
   "outputs": [],
   "source": [
    "from tensorflow.keras import regularizers"
   ]
  },
  {
   "cell_type": "code",
   "execution_count": 86,
   "metadata": {},
   "outputs": [],
   "source": [
    "model = Sequential()\n",
    "\n",
    "# 32,32\n",
    "model.add(Convolution2D(16,(3,3), activation='relu', kernel_regularizer=regularizers.l2(0.01), input_shape=(32,32,3), padding='same'))\n",
    "model.add(BatchNormalization())\n",
    "\n",
    "# 30,30\n",
    "model.add(Convolution2D(32,(3,3), activation='relu', kernel_regularizer=regularizers.l2(0.01)))\n",
    "model.add(BatchNormalization())\n",
    "\n",
    "# 28,28\n",
    "model.add(MaxPooling2D(pool_size=(2,2)))\n",
    "\n",
    "# # 14,14\n",
    "model.add(Convolution2D(24,1, activation='relu', kernel_regularizer=regularizers.l2(0.01)))\n",
    "\n",
    "# 14,14\n",
    "model.add(Convolution2D(64,(3,3), activation='relu', padding='same', kernel_regularizer=regularizers.l2(0.01)))\n",
    "model.add(BatchNormalization())\n",
    "\n",
    "# 12, 12\n",
    "model.add(Convolution2D(128,(3,3), activation='relu', kernel_regularizer=regularizers.l2(0.01)))\n",
    "model.add(BatchNormalization())\n",
    "\n",
    "model.add(MaxPooling2D(pool_size=(2,2)))\n",
    "\n",
    "model.add(Convolution2D(64, 1, activation='relu', kernel_regularizer=regularizers.l2(0.01)))\n",
    "\n",
    "model.add(Convolution2D(256,(3,3), activation='relu', kernel_regularizer=regularizers.l2(0.01)))\n",
    "model.add(BatchNormalization())\n",
    "\n",
    "model.add(Convolution2D(10, 4, kernel_regularizer=regularizers.l2(0.01)))\n",
    "\n",
    "model.add(Flatten())\n",
    "model.add(Activation('softmax'))\n"
   ]
  },
  {
   "cell_type": "code",
   "execution_count": 87,
   "metadata": {
    "scrolled": true
   },
   "outputs": [
    {
     "name": "stdout",
     "output_type": "stream",
     "text": [
      "Model: \"sequential_5\"\n",
      "_________________________________________________________________\n",
      "Layer (type)                 Output Shape              Param #   \n",
      "=================================================================\n",
      "conv2d_40 (Conv2D)           (None, 32, 32, 16)        448       \n",
      "_________________________________________________________________\n",
      "batch_normalization_25 (Batc (None, 32, 32, 16)        64        \n",
      "_________________________________________________________________\n",
      "conv2d_41 (Conv2D)           (None, 30, 30, 32)        4640      \n",
      "_________________________________________________________________\n",
      "batch_normalization_26 (Batc (None, 30, 30, 32)        128       \n",
      "_________________________________________________________________\n",
      "max_pooling2d_10 (MaxPooling (None, 15, 15, 32)        0         \n",
      "_________________________________________________________________\n",
      "conv2d_42 (Conv2D)           (None, 15, 15, 24)        792       \n",
      "_________________________________________________________________\n",
      "conv2d_43 (Conv2D)           (None, 15, 15, 64)        13888     \n",
      "_________________________________________________________________\n",
      "batch_normalization_27 (Batc (None, 15, 15, 64)        256       \n",
      "_________________________________________________________________\n",
      "conv2d_44 (Conv2D)           (None, 13, 13, 128)       73856     \n",
      "_________________________________________________________________\n",
      "batch_normalization_28 (Batc (None, 13, 13, 128)       512       \n",
      "_________________________________________________________________\n",
      "max_pooling2d_11 (MaxPooling (None, 6, 6, 128)         0         \n",
      "_________________________________________________________________\n",
      "conv2d_45 (Conv2D)           (None, 6, 6, 64)          8256      \n",
      "_________________________________________________________________\n",
      "conv2d_46 (Conv2D)           (None, 4, 4, 256)         147712    \n",
      "_________________________________________________________________\n",
      "batch_normalization_29 (Batc (None, 4, 4, 256)         1024      \n",
      "_________________________________________________________________\n",
      "conv2d_47 (Conv2D)           (None, 1, 1, 10)          40970     \n",
      "_________________________________________________________________\n",
      "flatten_5 (Flatten)          (None, 10)                0         \n",
      "_________________________________________________________________\n",
      "activation_5 (Activation)    (None, 10)                0         \n",
      "=================================================================\n",
      "Total params: 292,546\n",
      "Trainable params: 291,554\n",
      "Non-trainable params: 992\n",
      "_________________________________________________________________\n"
     ]
    }
   ],
   "source": [
    "model.summary()"
   ]
  },
  {
   "cell_type": "code",
   "execution_count": 88,
   "metadata": {},
   "outputs": [],
   "source": [
    "model.compile(optimizer='sgd', loss='categorical_crossentropy', metrics=['accuracy'])"
   ]
  },
  {
   "cell_type": "code",
   "execution_count": 77,
   "metadata": {},
   "outputs": [],
   "source": [
    "from tensorflow.keras.preprocessing.image import ImageDataGenerator"
   ]
  },
  {
   "cell_type": "code",
   "execution_count": 89,
   "metadata": {},
   "outputs": [],
   "source": [
    "datagen = ImageDataGenerator(\n",
    "    horizontal_flip=True,\n",
    "    rotation_range=10,\n",
    "    zoom_range=0.15,\n",
    "    width_shift_range=0.2\n",
    ")"
   ]
  },
  {
   "cell_type": "code",
   "execution_count": 90,
   "metadata": {},
   "outputs": [
    {
     "name": "stdout",
     "output_type": "stream",
     "text": [
      "Epoch 1/50\n",
      "390/390 [==============================] - 117s 300ms/step - loss: 5.2689 - accuracy: 0.3941 - val_loss: 4.8828 - val_accuracy: 0.4218\n",
      "Epoch 2/50\n",
      "390/390 [==============================] - 113s 291ms/step - loss: 4.3952 - accuracy: 0.5173 - val_loss: 4.1052 - val_accuracy: 0.5421\n",
      "Epoch 3/50\n",
      "390/390 [==============================] - 116s 297ms/step - loss: 3.8204 - accuracy: 0.5725 - val_loss: 3.5990 - val_accuracy: 0.5817\n",
      "Epoch 4/50\n",
      "390/390 [==============================] - 114s 292ms/step - loss: 3.3507 - accuracy: 0.6101 - val_loss: 3.2751 - val_accuracy: 0.5876\n",
      "Epoch 5/50\n",
      "390/390 [==============================] - 112s 288ms/step - loss: 2.9608 - accuracy: 0.6396 - val_loss: 2.7679 - val_accuracy: 0.6596\n",
      "Epoch 6/50\n",
      "390/390 [==============================] - 115s 296ms/step - loss: 2.6364 - accuracy: 0.6629 - val_loss: 2.5275 - val_accuracy: 0.6624\n",
      "Epoch 7/50\n",
      "390/390 [==============================] - 114s 291ms/step - loss: 2.3611 - accuracy: 0.6806 - val_loss: 2.4026 - val_accuracy: 0.6487\n",
      "Epoch 8/50\n",
      "390/390 [==============================] - 114s 291ms/step - loss: 2.1189 - accuracy: 0.7003 - val_loss: 2.0655 - val_accuracy: 0.6938\n",
      "Epoch 9/50\n",
      "390/390 [==============================] - 114s 291ms/step - loss: 1.9256 - accuracy: 0.7118 - val_loss: 2.0610 - val_accuracy: 0.6632\n",
      "Epoch 10/50\n",
      "390/390 [==============================] - 118s 303ms/step - loss: 1.7511 - accuracy: 0.7238 - val_loss: 1.6921 - val_accuracy: 0.7304\n",
      "Epoch 11/50\n",
      "390/390 [==============================] - 118s 302ms/step - loss: 1.6029 - accuracy: 0.7345 - val_loss: 1.5211 - val_accuracy: 0.7505\n",
      "Epoch 12/50\n",
      "390/390 [==============================] - 113s 289ms/step - loss: 1.4770 - accuracy: 0.7481 - val_loss: 1.4998 - val_accuracy: 0.7305\n",
      "Epoch 13/50\n",
      "390/390 [==============================] - 111s 286ms/step - loss: 1.3724 - accuracy: 0.7524 - val_loss: 1.4586 - val_accuracy: 0.7170\n",
      "Epoch 14/50\n",
      "390/390 [==============================] - 113s 289ms/step - loss: 1.2782 - accuracy: 0.7627 - val_loss: 1.5986 - val_accuracy: 0.6700\n",
      "Epoch 15/50\n",
      "390/390 [==============================] - 113s 289ms/step - loss: 1.2000 - accuracy: 0.7689 - val_loss: 1.2245 - val_accuracy: 0.7591\n",
      "Epoch 16/50\n",
      "390/390 [==============================] - 113s 289ms/step - loss: 1.1326 - accuracy: 0.7744 - val_loss: 1.3199 - val_accuracy: 0.7140\n",
      "Epoch 17/50\n",
      "390/390 [==============================] - 113s 290ms/step - loss: 1.0734 - accuracy: 0.7816 - val_loss: 1.1780 - val_accuracy: 0.7461\n",
      "Epoch 18/50\n",
      "390/390 [==============================] - 114s 293ms/step - loss: 1.0269 - accuracy: 0.7852 - val_loss: 1.2470 - val_accuracy: 0.7220\n",
      "Epoch 19/50\n",
      "390/390 [==============================] - 126s 324ms/step - loss: 0.9851 - accuracy: 0.7900 - val_loss: 1.4977 - val_accuracy: 0.6313\n",
      "Epoch 20/50\n",
      "390/390 [==============================] - 113s 289ms/step - loss: 0.9468 - accuracy: 0.7933 - val_loss: 1.1174 - val_accuracy: 0.7410\n",
      "Epoch 21/50\n",
      "390/390 [==============================] - 116s 296ms/step - loss: 0.9098 - accuracy: 0.8013 - val_loss: 0.9479 - val_accuracy: 0.7918\n",
      "Epoch 22/50\n",
      "390/390 [==============================] - 112s 288ms/step - loss: 0.8834 - accuracy: 0.8037 - val_loss: 0.9643 - val_accuracy: 0.7724\n",
      "Epoch 23/50\n",
      "390/390 [==============================] - 112s 288ms/step - loss: 0.8582 - accuracy: 0.8085 - val_loss: 1.0047 - val_accuracy: 0.7539\n",
      "Epoch 24/50\n",
      "390/390 [==============================] - 113s 289ms/step - loss: 0.8344 - accuracy: 0.8112 - val_loss: 0.9403 - val_accuracy: 0.7869\n",
      "Epoch 25/50\n",
      "390/390 [==============================] - 113s 290ms/step - loss: 0.8127 - accuracy: 0.8162 - val_loss: 0.9593 - val_accuracy: 0.7734\n",
      "Epoch 26/50\n",
      "390/390 [==============================] - 114s 291ms/step - loss: 0.8046 - accuracy: 0.8173 - val_loss: 1.0828 - val_accuracy: 0.7291\n",
      "Epoch 27/50\n",
      "390/390 [==============================] - 113s 290ms/step - loss: 0.7907 - accuracy: 0.8177 - val_loss: 0.9805 - val_accuracy: 0.7614\n",
      "Epoch 28/50\n",
      "390/390 [==============================] - 113s 289ms/step - loss: 0.7754 - accuracy: 0.8227 - val_loss: 0.9023 - val_accuracy: 0.7882\n",
      "Epoch 29/50\n",
      "390/390 [==============================] - 113s 289ms/step - loss: 0.7686 - accuracy: 0.8219 - val_loss: 1.0240 - val_accuracy: 0.7438\n",
      "Epoch 30/50\n",
      "390/390 [==============================] - 131s 337ms/step - loss: 0.7523 - accuracy: 0.8266 - val_loss: 0.8569 - val_accuracy: 0.7960\n",
      "Epoch 31/50\n",
      "390/390 [==============================] - 126s 322ms/step - loss: 0.7454 - accuracy: 0.8290 - val_loss: 1.0849 - val_accuracy: 0.7154\n",
      "Epoch 32/50\n",
      "390/390 [==============================] - 113s 290ms/step - loss: 0.7274 - accuracy: 0.8344 - val_loss: 0.9138 - val_accuracy: 0.7796\n",
      "Epoch 33/50\n",
      "390/390 [==============================] - 112s 288ms/step - loss: 0.7287 - accuracy: 0.8346 - val_loss: 0.8745 - val_accuracy: 0.7941\n",
      "Epoch 34/50\n",
      "390/390 [==============================] - 113s 290ms/step - loss: 0.7197 - accuracy: 0.8359 - val_loss: 0.7694 - val_accuracy: 0.8204\n",
      "Epoch 35/50\n",
      "390/390 [==============================] - 113s 290ms/step - loss: 0.7176 - accuracy: 0.8363 - val_loss: 0.7937 - val_accuracy: 0.8105\n",
      "Epoch 36/50\n",
      "390/390 [==============================] - 113s 290ms/step - loss: 0.7051 - accuracy: 0.8411 - val_loss: 0.7936 - val_accuracy: 0.8075\n",
      "Epoch 37/50\n",
      "390/390 [==============================] - 139s 355ms/step - loss: 0.7049 - accuracy: 0.8403 - val_loss: 0.8577 - val_accuracy: 0.7949\n",
      "Epoch 38/50\n",
      "390/390 [==============================] - 136s 350ms/step - loss: 0.6957 - accuracy: 0.8429 - val_loss: 0.8042 - val_accuracy: 0.8063\n",
      "Epoch 39/50\n",
      "390/390 [==============================] - 138s 354ms/step - loss: 0.6919 - accuracy: 0.8427 - val_loss: 0.8941 - val_accuracy: 0.7858\n",
      "Epoch 40/50\n",
      "390/390 [==============================] - 139s 356ms/step - loss: 0.6958 - accuracy: 0.8444 - val_loss: 0.8389 - val_accuracy: 0.7967\n",
      "Epoch 41/50\n",
      "390/390 [==============================] - 121s 309ms/step - loss: 0.6880 - accuracy: 0.8457 - val_loss: 0.8276 - val_accuracy: 0.8012\n",
      "Epoch 42/50\n",
      "390/390 [==============================] - 122s 313ms/step - loss: 0.6786 - accuracy: 0.8493 - val_loss: 0.9055 - val_accuracy: 0.7881\n",
      "Epoch 43/50\n",
      "390/390 [==============================] - 122s 313ms/step - loss: 0.6776 - accuracy: 0.8490 - val_loss: 0.9148 - val_accuracy: 0.7818\n",
      "Epoch 44/50\n",
      "390/390 [==============================] - 123s 316ms/step - loss: 0.6736 - accuracy: 0.8494 - val_loss: 0.9966 - val_accuracy: 0.7514\n",
      "Epoch 45/50\n",
      "390/390 [==============================] - 125s 322ms/step - loss: 0.6763 - accuracy: 0.8497 - val_loss: 0.9289 - val_accuracy: 0.7754\n",
      "Epoch 46/50\n",
      "390/390 [==============================] - 118s 302ms/step - loss: 0.6712 - accuracy: 0.8509 - val_loss: 0.8824 - val_accuracy: 0.7899\n",
      "Epoch 47/50\n",
      "390/390 [==============================] - 113s 290ms/step - loss: 0.6687 - accuracy: 0.8527 - val_loss: 0.8503 - val_accuracy: 0.7902\n",
      "Epoch 48/50\n",
      "390/390 [==============================] - 113s 291ms/step - loss: 0.6634 - accuracy: 0.8536 - val_loss: 0.9117 - val_accuracy: 0.7836\n",
      "Epoch 49/50\n",
      "390/390 [==============================] - 114s 292ms/step - loss: 0.6638 - accuracy: 0.8541 - val_loss: 0.7271 - val_accuracy: 0.8279\n",
      "Epoch 50/50\n",
      "390/390 [==============================] - 114s 293ms/step - loss: 0.6618 - accuracy: 0.8558 - val_loss: 0.8866 - val_accuracy: 0.7883\n"
     ]
    }
   ],
   "source": [
    "batch_size=128\n",
    "model_info = model.fit_generator(\n",
    "    datagen.flow(X_train, Y_train, batch_size=batch_size),\n",
    "    steps_per_epoch=X_train.shape[0] // batch_size,\n",
    "    epochs=50,\n",
    "    validation_data=(X_test, Y_test),\n",
    ")"
   ]
  },
  {
   "cell_type": "code",
   "execution_count": 91,
   "metadata": {
    "scrolled": false
   },
   "outputs": [
    {
     "data": {
      "image/png": "[encoded data removed]",
      "text/plain": [
       "<Figure size 432x288 with 1 Axes>"
      ]
     },
     "metadata": {
      "needs_background": "light"
     },
     "output_type": "display_data"
    }
   ],
   "source": [
    "import matplotlib.pyplot as plt\n",
    "plt.plot(model_info.history['accuracy'],'r')\n",
    "plt.plot(model_info.history['val_accuracy'],'b')\n",
    "plt.legend({'training accuracy':'r', 'validation accuracy': 'b'})\n",
    "plt.show()"
   ]
  },
  {
   "cell_type": "code",
   "execution_count": 92,
   "metadata": {
    "scrolled": true
   },
   "outputs": [
    {
     "data": {
      "image/png": "[encoded data removed]",
      "text/plain": [
       "<Figure size 432x288 with 1 Axes>"
      ]
     },
     "metadata": {
      "needs_background": "light"
     },
     "output_type": "display_data"
    }
   ],
   "source": [
    "plt.plot(model_info.history['loss'],'r')\n",
    "plt.plot(model_info.history['val_loss'],'b')\n",
    "plt.legend({'training loss':'r', 'validation loss': 'b'})\n",
    "plt.show()"
   ]
  },
  {
   "cell_type": "code",
   "execution_count": 82,
   "metadata": {},
   "outputs": [],
   "source": [
    "y_pred = model.predict_classes(X_test)"
   ]
  },
  {
   "cell_type": "code",
   "execution_count": 83,
   "metadata": {},
   "outputs": [
    {
     "data": {
      "text/plain": [
       "0.4792"
      ]
     },
     "execution_count": 83,
     "metadata": {},
     "output_type": "execute_result"
    }
   ],
   "source": [
    "score = accuracy_score(y_test, y_pred)\n",
    "score"
   ]
  },
  {
   "cell_type": "code",
   "execution_count": 84,
   "metadata": {
    "scrolled": true
   },
   "outputs": [
    {
     "data": {
      "image/png": "[encoded data removed]",
      "text/plain": [
       "<Figure size 720x720 with 2 Axes>"
      ]
     },
     "metadata": {
      "needs_background": "light"
     },
     "output_type": "display_data"
    }
   ],
   "source": [
    "cm = confusion_matrix(y_test, y_pred)\n",
    "cm = cm.astype('float') / cm.sum(axis=1)[:, np.newaxis]\n",
    "\n",
    "plt.figure(figsize=(10, 10))\n",
    "sns.heatmap(cm, annot=True, fmt=\".3f\", linewidths=.5, square = True, cmap = 'Blues_r');\n",
    "plt.ylabel('Actual label');\n",
    "plt.xlabel('Predicted label');\n",
    "all_sample_title = 'Overall Accuracy Score: {0}'.format(score)\n",
    "plt.title(all_sample_title, size = 15);\n",
    "plt.savefig('ConfusionMatrix_CNN_image_augmentation_4_L2_0.01.png')\n",
    "plt.show();"
   ]
  },
  {
   "cell_type": "code",
   "execution_count": null,
   "metadata": {},
   "outputs": [],
   "source": []
  },
  {
   "cell_type": "markdown",
   "metadata": {},
   "source": [
    "# -------------------------------------- "
   ]
  },
  {
   "cell_type": "markdown",
   "metadata": {},
   "source": [
    "## arch 5 image augmentation + L2 regularization 0.001\n",
    "\n",
    "```python\n",
    "{\n",
    "    horizontal_flip: True,\n",
    "    rotation_range: 10,\n",
    "    zoom_range: 0.15,\n",
    "    width_shift_range: 0.2\n",
    "}\n",
    "```"
   ]
  },
  {
   "cell_type": "code",
   "execution_count": 93,
   "metadata": {},
   "outputs": [],
   "source": [
    "from tensorflow.keras import regularizers"
   ]
  },
  {
   "cell_type": "code",
   "execution_count": 94,
   "metadata": {},
   "outputs": [],
   "source": [
    "model = Sequential()\n",
    "\n",
    "# 32,32\n",
    "model.add(Convolution2D(16,(3,3), activation='relu', kernel_regularizer=regularizers.l2(0.001), input_shape=(32,32,3), padding='same'))\n",
    "model.add(BatchNormalization())\n",
    "\n",
    "# 30,30\n",
    "model.add(Convolution2D(32,(3,3), activation='relu', kernel_regularizer=regularizers.l2(0.001)))\n",
    "model.add(BatchNormalization())\n",
    "\n",
    "# 28,28\n",
    "model.add(MaxPooling2D(pool_size=(2,2)))\n",
    "\n",
    "# # 14,14\n",
    "model.add(Convolution2D(24,1, activation='relu', kernel_regularizer=regularizers.l2(0.001)))\n",
    "\n",
    "# 14,14\n",
    "model.add(Convolution2D(64,(3,3), activation='relu', padding='same', kernel_regularizer=regularizers.l2(0.001)))\n",
    "model.add(BatchNormalization())\n",
    "\n",
    "# 12, 12\n",
    "model.add(Convolution2D(128,(3,3), activation='relu', kernel_regularizer=regularizers.l2(0.001)))\n",
    "model.add(BatchNormalization())\n",
    "\n",
    "model.add(MaxPooling2D(pool_size=(2,2)))\n",
    "\n",
    "model.add(Convolution2D(64, 1, activation='relu', kernel_regularizer=regularizers.l2(0.001)))\n",
    "\n",
    "model.add(Convolution2D(256,(3,3), activation='relu', kernel_regularizer=regularizers.l2(0.001)))\n",
    "model.add(BatchNormalization())\n",
    "\n",
    "model.add(Convolution2D(10, 4, kernel_regularizer=regularizers.l2(0.001)))\n",
    "\n",
    "model.add(Flatten())\n",
    "model.add(Activation('softmax'))\n"
   ]
  },
  {
   "cell_type": "code",
   "execution_count": 95,
   "metadata": {
    "scrolled": true
   },
   "outputs": [
    {
     "name": "stdout",
     "output_type": "stream",
     "text": [
      "Model: \"sequential_6\"\n",
      "_________________________________________________________________\n",
      "Layer (type)                 Output Shape              Param #   \n",
      "=================================================================\n",
      "conv2d_48 (Conv2D)           (None, 32, 32, 16)        448       \n",
      "_________________________________________________________________\n",
      "batch_normalization_30 (Batc (None, 32, 32, 16)        64        \n",
      "_________________________________________________________________\n",
      "conv2d_49 (Conv2D)           (None, 30, 30, 32)        4640      \n",
      "_________________________________________________________________\n",
      "batch_normalization_31 (Batc (None, 30, 30, 32)        128       \n",
      "_________________________________________________________________\n",
      "max_pooling2d_12 (MaxPooling (None, 15, 15, 32)        0         \n",
      "_________________________________________________________________\n",
      "conv2d_50 (Conv2D)           (None, 15, 15, 24)        792       \n",
      "_________________________________________________________________\n",
      "conv2d_51 (Conv2D)           (None, 15, 15, 64)        13888     \n",
      "_________________________________________________________________\n",
      "batch_normalization_32 (Batc (None, 15, 15, 64)        256       \n",
      "_________________________________________________________________\n",
      "conv2d_52 (Conv2D)           (None, 13, 13, 128)       73856     \n",
      "_________________________________________________________________\n",
      "batch_normalization_33 (Batc (None, 13, 13, 128)       512       \n",
      "_________________________________________________________________\n",
      "max_pooling2d_13 (MaxPooling (None, 6, 6, 128)         0         \n",
      "_________________________________________________________________\n",
      "conv2d_53 (Conv2D)           (None, 6, 6, 64)          8256      \n",
      "_________________________________________________________________\n",
      "conv2d_54 (Conv2D)           (None, 4, 4, 256)         147712    \n",
      "_________________________________________________________________\n",
      "batch_normalization_34 (Batc (None, 4, 4, 256)         1024      \n",
      "_________________________________________________________________\n",
      "conv2d_55 (Conv2D)           (None, 1, 1, 10)          40970     \n",
      "_________________________________________________________________\n",
      "flatten_6 (Flatten)          (None, 10)                0         \n",
      "_________________________________________________________________\n",
      "activation_6 (Activation)    (None, 10)                0         \n",
      "=================================================================\n",
      "Total params: 292,546\n",
      "Trainable params: 291,554\n",
      "Non-trainable params: 992\n",
      "_________________________________________________________________\n"
     ]
    }
   ],
   "source": [
    "model.summary()"
   ]
  },
  {
   "cell_type": "code",
   "execution_count": 96,
   "metadata": {},
   "outputs": [],
   "source": [
    "model.compile(optimizer='sgd', loss='categorical_crossentropy', metrics=['accuracy'])"
   ]
  },
  {
   "cell_type": "code",
   "execution_count": 97,
   "metadata": {},
   "outputs": [],
   "source": [
    "from tensorflow.keras.preprocessing.image import ImageDataGenerator"
   ]
  },
  {
   "cell_type": "code",
   "execution_count": 98,
   "metadata": {},
   "outputs": [],
   "source": [
    "datagen = ImageDataGenerator(\n",
    "    horizontal_flip=True,\n",
    "    rotation_range=10,\n",
    "    zoom_range=0.15,\n",
    "    width_shift_range=0.2\n",
    ")"
   ]
  },
  {
   "cell_type": "code",
   "execution_count": 99,
   "metadata": {},
   "outputs": [
    {
     "name": "stdout",
     "output_type": "stream",
     "text": [
      "Epoch 1/50\n",
      "390/390 [==============================] - 114s 293ms/step - loss: 2.0482 - accuracy: 0.4150 - val_loss: 1.9078 - val_accuracy: 0.4631\n",
      "Epoch 2/50\n",
      "390/390 [==============================] - 112s 288ms/step - loss: 1.7109 - accuracy: 0.5253 - val_loss: 1.9166 - val_accuracy: 0.4995\n",
      "Epoch 3/50\n",
      "390/390 [==============================] - 111s 284ms/step - loss: 1.5878 - accuracy: 0.5678 - val_loss: 1.5982 - val_accuracy: 0.5734\n",
      "Epoch 4/50\n",
      "390/390 [==============================] - 111s 283ms/step - loss: 1.4946 - accuracy: 0.6004 - val_loss: 1.6178 - val_accuracy: 0.5778\n",
      "Epoch 5/50\n",
      "390/390 [==============================] - 111s 284ms/step - loss: 1.4252 - accuracy: 0.6238 - val_loss: 1.5018 - val_accuracy: 0.6099\n",
      "Epoch 6/50\n",
      "390/390 [==============================] - 111s 284ms/step - loss: 1.3682 - accuracy: 0.6444 - val_loss: 1.3452 - val_accuracy: 0.6634\n",
      "Epoch 7/50\n",
      "390/390 [==============================] - 115s 294ms/step - loss: 1.3127 - accuracy: 0.6622 - val_loss: 1.5202 - val_accuracy: 0.6113\n",
      "Epoch 8/50\n",
      "390/390 [==============================] - 128s 328ms/step - loss: 1.2711 - accuracy: 0.6760 - val_loss: 1.4938 - val_accuracy: 0.6220\n",
      "Epoch 9/50\n",
      "390/390 [==============================] - 128s 328ms/step - loss: 1.2315 - accuracy: 0.6865 - val_loss: 1.3195 - val_accuracy: 0.6810\n",
      "Epoch 10/50\n",
      "390/390 [==============================] - 131s 335ms/step - loss: 1.2035 - accuracy: 0.6967 - val_loss: 1.5174 - val_accuracy: 0.6327\n",
      "Epoch 11/50\n",
      "390/390 [==============================] - 128s 327ms/step - loss: 1.1607 - accuracy: 0.7110 - val_loss: 1.2791 - val_accuracy: 0.6784\n",
      "Epoch 12/50\n",
      "390/390 [==============================] - 128s 327ms/step - loss: 1.1275 - accuracy: 0.7216 - val_loss: 1.1172 - val_accuracy: 0.7307\n",
      "Epoch 13/50\n",
      "390/390 [==============================] - 128s 329ms/step - loss: 1.1046 - accuracy: 0.7292 - val_loss: 1.1730 - val_accuracy: 0.7212\n",
      "Epoch 14/50\n",
      "390/390 [==============================] - 128s 329ms/step - loss: 1.0724 - accuracy: 0.7385 - val_loss: 1.2162 - val_accuracy: 0.7027\n",
      "Epoch 15/50\n",
      "390/390 [==============================] - 128s 327ms/step - loss: 1.0511 - accuracy: 0.7448 - val_loss: 1.1069 - val_accuracy: 0.7391\n",
      "Epoch 16/50\n",
      "390/390 [==============================] - 128s 327ms/step - loss: 1.0303 - accuracy: 0.7506 - val_loss: 1.1131 - val_accuracy: 0.7404\n",
      "Epoch 17/50\n",
      "390/390 [==============================] - 129s 330ms/step - loss: 1.0071 - accuracy: 0.7583 - val_loss: 1.1166 - val_accuracy: 0.7371\n",
      "Epoch 18/50\n",
      "390/390 [==============================] - 128s 329ms/step - loss: 0.9910 - accuracy: 0.7627 - val_loss: 1.2020 - val_accuracy: 0.7078\n",
      "Epoch 19/50\n",
      "390/390 [==============================] - 128s 329ms/step - loss: 0.9712 - accuracy: 0.7667 - val_loss: 1.0174 - val_accuracy: 0.7602\n",
      "Epoch 20/50\n",
      "390/390 [==============================] - 128s 328ms/step - loss: 0.9514 - accuracy: 0.7721 - val_loss: 1.0742 - val_accuracy: 0.7460\n",
      "Epoch 21/50\n",
      "390/390 [==============================] - 128s 327ms/step - loss: 0.9307 - accuracy: 0.7800 - val_loss: 1.0672 - val_accuracy: 0.7476\n",
      "Epoch 22/50\n",
      "390/390 [==============================] - 128s 328ms/step - loss: 0.9206 - accuracy: 0.7823 - val_loss: 0.9676 - val_accuracy: 0.7755\n",
      "Epoch 23/50\n",
      "390/390 [==============================] - 130s 333ms/step - loss: 0.9100 - accuracy: 0.7848 - val_loss: 1.1131 - val_accuracy: 0.7416\n",
      "Epoch 24/50\n",
      "390/390 [==============================] - 129s 332ms/step - loss: 0.8915 - accuracy: 0.7895 - val_loss: 1.0268 - val_accuracy: 0.7592\n",
      "Epoch 25/50\n",
      "390/390 [==============================] - 128s 327ms/step - loss: 0.8746 - accuracy: 0.7950 - val_loss: 1.0324 - val_accuracy: 0.7612\n",
      "Epoch 26/50\n",
      "390/390 [==============================] - 128s 327ms/step - loss: 0.8697 - accuracy: 0.7954 - val_loss: 1.0751 - val_accuracy: 0.7453\n",
      "Epoch 27/50\n",
      "390/390 [==============================] - 128s 327ms/step - loss: 0.8569 - accuracy: 0.7994 - val_loss: 1.0143 - val_accuracy: 0.7675\n",
      "Epoch 28/50\n",
      "390/390 [==============================] - 118s 303ms/step - loss: 0.8425 - accuracy: 0.8017 - val_loss: 1.0565 - val_accuracy: 0.7533\n",
      "Epoch 29/50\n",
      "390/390 [==============================] - 109s 280ms/step - loss: 0.8245 - accuracy: 0.8090 - val_loss: 1.0071 - val_accuracy: 0.7624\n",
      "Epoch 30/50\n",
      "390/390 [==============================] - 110s 282ms/step - loss: 0.8202 - accuracy: 0.8080 - val_loss: 1.1186 - val_accuracy: 0.7326\n",
      "Epoch 31/50\n",
      "390/390 [==============================] - 110s 281ms/step - loss: 0.8049 - accuracy: 0.8135 - val_loss: 0.9333 - val_accuracy: 0.7793\n",
      "Epoch 32/50\n",
      "390/390 [==============================] - 110s 281ms/step - loss: 0.7952 - accuracy: 0.8142 - val_loss: 0.8756 - val_accuracy: 0.8034\n",
      "Epoch 33/50\n",
      "390/390 [==============================] - 109s 281ms/step - loss: 0.7877 - accuracy: 0.8166 - val_loss: 0.9202 - val_accuracy: 0.7844\n",
      "Epoch 34/50\n",
      "390/390 [==============================] - 110s 281ms/step - loss: 0.7767 - accuracy: 0.8177 - val_loss: 0.8776 - val_accuracy: 0.7952\n",
      "Epoch 35/50\n",
      "390/390 [==============================] - 109s 281ms/step - loss: 0.7634 - accuracy: 0.8222 - val_loss: 0.9139 - val_accuracy: 0.7906\n",
      "Epoch 36/50\n",
      "390/390 [==============================] - 110s 283ms/step - loss: 0.7567 - accuracy: 0.8241 - val_loss: 0.9867 - val_accuracy: 0.7675\n",
      "Epoch 37/50\n",
      "390/390 [==============================] - 109s 281ms/step - loss: 0.7463 - accuracy: 0.8278 - val_loss: 0.8377 - val_accuracy: 0.8081\n",
      "Epoch 38/50\n",
      "390/390 [==============================] - 110s 281ms/step - loss: 0.7398 - accuracy: 0.8288 - val_loss: 0.8928 - val_accuracy: 0.7913\n",
      "Epoch 39/50\n",
      "390/390 [==============================] - 109s 280ms/step - loss: 0.7267 - accuracy: 0.8329 - val_loss: 0.8312 - val_accuracy: 0.8125\n",
      "Epoch 40/50\n",
      "390/390 [==============================] - 110s 281ms/step - loss: 0.7218 - accuracy: 0.8329 - val_loss: 0.8210 - val_accuracy: 0.8128\n",
      "Epoch 41/50\n",
      "390/390 [==============================] - 110s 281ms/step - loss: 0.7148 - accuracy: 0.8357 - val_loss: 0.9258 - val_accuracy: 0.7774\n",
      "Epoch 42/50\n",
      "390/390 [==============================] - 110s 281ms/step - loss: 0.7058 - accuracy: 0.8362 - val_loss: 0.8916 - val_accuracy: 0.7927\n",
      "Epoch 43/50\n",
      "390/390 [==============================] - 109s 281ms/step - loss: 0.6945 - accuracy: 0.8416 - val_loss: 0.9676 - val_accuracy: 0.7696\n",
      "Epoch 44/50\n",
      "390/390 [==============================] - 109s 281ms/step - loss: 0.6903 - accuracy: 0.8416 - val_loss: 0.8665 - val_accuracy: 0.7950\n",
      "Epoch 45/50\n",
      "390/390 [==============================] - 109s 281ms/step - loss: 0.6842 - accuracy: 0.8422 - val_loss: 0.9186 - val_accuracy: 0.7865\n",
      "Epoch 46/50\n",
      "390/390 [==============================] - 110s 281ms/step - loss: 0.6707 - accuracy: 0.8484 - val_loss: 0.8492 - val_accuracy: 0.7994\n",
      "Epoch 47/50\n",
      "390/390 [==============================] - 109s 280ms/step - loss: 0.6697 - accuracy: 0.8456 - val_loss: 0.8968 - val_accuracy: 0.7888\n",
      "Epoch 48/50\n",
      "390/390 [==============================] - 110s 281ms/step - loss: 0.6620 - accuracy: 0.8472 - val_loss: 0.8201 - val_accuracy: 0.8088\n",
      "Epoch 49/50\n",
      "390/390 [==============================] - 110s 281ms/step - loss: 0.6486 - accuracy: 0.8540 - val_loss: 0.9524 - val_accuracy: 0.7784\n",
      "Epoch 50/50\n",
      "390/390 [==============================] - 109s 281ms/step - loss: 0.6575 - accuracy: 0.8467 - val_loss: 0.8455 - val_accuracy: 0.7991\n"
     ]
    }
   ],
   "source": [
    "batch_size=128\n",
    "model_info = model.fit_generator(\n",
    "    datagen.flow(X_train, Y_train, batch_size=batch_size),\n",
    "    steps_per_epoch=X_train.shape[0] // batch_size,\n",
    "    epochs=50,\n",
    "    validation_data=(X_test, Y_test),\n",
    ")"
   ]
  },
  {
   "cell_type": "code",
   "execution_count": 100,
   "metadata": {
    "scrolled": false
   },
   "outputs": [
    {
     "data": {
      "image/png": "[encoded data removed]",
      "text/plain": [
       "<Figure size 432x288 with 1 Axes>"
      ]
     },
     "metadata": {
      "needs_background": "light"
     },
     "output_type": "display_data"
    }
   ],
   "source": [
    "import matplotlib.pyplot as plt\n",
    "plt.plot(model_info.history['accuracy'],'r')\n",
    "plt.plot(model_info.history['val_accuracy'],'b')\n",
    "plt.legend({'training accuracy':'r', 'validation accuracy': 'b'})\n",
    "plt.show()"
   ]
  },
  {
   "cell_type": "code",
   "execution_count": 101,
   "metadata": {
    "scrolled": true
   },
   "outputs": [
    {
     "data": {
      "image/png": "[encoded data removed]",
      "text/plain": [
       "<Figure size 432x288 with 1 Axes>"
      ]
     },
     "metadata": {
      "needs_background": "light"
     },
     "output_type": "display_data"
    }
   ],
   "source": [
    "plt.plot(model_info.history['loss'],'r')\n",
    "plt.plot(model_info.history['val_loss'],'b')\n",
    "plt.legend({'training loss':'r', 'validation loss': 'b'})\n",
    "plt.show()"
   ]
  },
  {
   "cell_type": "code",
   "execution_count": 102,
   "metadata": {},
   "outputs": [],
   "source": [
    "y_pred = model.predict_classes(X_test)"
   ]
  },
  {
   "cell_type": "code",
   "execution_count": 103,
   "metadata": {},
   "outputs": [
    {
     "data": {
      "text/plain": [
       "0.7991"
      ]
     },
     "execution_count": 103,
     "metadata": {},
     "output_type": "execute_result"
    }
   ],
   "source": [
    "score = accuracy_score(y_test, y_pred)\n",
    "score"
   ]
  },
  {
   "cell_type": "code",
   "execution_count": 104,
   "metadata": {
    "scrolled": true
   },
   "outputs": [
    {
     "data": {
      "image/png": "[encoded data removed]",
      "text/plain": [
       "<Figure size 720x720 with 2 Axes>"
      ]
     },
     "metadata": {
      "needs_background": "light"
     },
     "output_type": "display_data"
    }
   ],
   "source": [
    "cm = confusion_matrix(y_test, y_pred)\n",
    "cm = cm.astype('float') / cm.sum(axis=1)[:, np.newaxis]\n",
    "\n",
    "plt.figure(figsize=(10, 10))\n",
    "sns.heatmap(cm, annot=True, fmt=\".3f\", linewidths=.5, square = True, cmap = 'Blues_r');\n",
    "plt.ylabel('Actual label');\n",
    "plt.xlabel('Predicted label');\n",
    "all_sample_title = 'Overall Accuracy Score: {0}'.format(score)\n",
    "plt.title(all_sample_title, size = 15);\n",
    "plt.savefig('ConfusionMatrix_CNN_image_augmentation_4_L2_0.001.png')\n",
    "plt.show();"
   ]
  },
  {
   "cell_type": "code",
   "execution_count": null,
   "metadata": {},
   "outputs": [],
   "source": []
  },
  {
   "cell_type": "markdown",
   "metadata": {},
   "source": [
    "## arch 6 image augmentation + L2 regularization 0.0001\n",
    "\n",
    "```python\n",
    "{\n",
    "    horizontal_flip: True,\n",
    "    rotation_range: 10,\n",
    "    zoom_range: 0.15,\n",
    "    width_shift_range: 0.2\n",
    "}\n",
    "```"
   ]
  },
  {
   "cell_type": "code",
   "execution_count": 105,
   "metadata": {},
   "outputs": [],
   "source": [
    "from tensorflow.keras import regularizers"
   ]
  },
  {
   "cell_type": "code",
   "execution_count": 106,
   "metadata": {},
   "outputs": [],
   "source": [
    "model = Sequential()\n",
    "\n",
    "# 32,32\n",
    "model.add(Convolution2D(16,(3,3), activation='relu', kernel_regularizer=regularizers.l2(0.0001), input_shape=(32,32,3), padding='same'))\n",
    "model.add(BatchNormalization())\n",
    "\n",
    "# 30,30\n",
    "model.add(Convolution2D(32,(3,3), activation='relu', kernel_regularizer=regularizers.l2(0.0001)))\n",
    "model.add(BatchNormalization())\n",
    "\n",
    "# 28,28\n",
    "model.add(MaxPooling2D(pool_size=(2,2)))\n",
    "\n",
    "# # 14,14\n",
    "model.add(Convolution2D(24,1, activation='relu', kernel_regularizer=regularizers.l2(0.0001)))\n",
    "\n",
    "# 14,14\n",
    "model.add(Convolution2D(64,(3,3), activation='relu', padding='same', kernel_regularizer=regularizers.l2(0.0001)))\n",
    "model.add(BatchNormalization())\n",
    "\n",
    "# 12, 12\n",
    "model.add(Convolution2D(128,(3,3), activation='relu', kernel_regularizer=regularizers.l2(0.0001)))\n",
    "model.add(BatchNormalization())\n",
    "\n",
    "model.add(MaxPooling2D(pool_size=(2,2)))\n",
    "\n",
    "model.add(Convolution2D(64, 1, activation='relu', kernel_regularizer=regularizers.l2(0.0001)))\n",
    "\n",
    "model.add(Convolution2D(256,(3,3), activation='relu', kernel_regularizer=regularizers.l2(0.0001)))\n",
    "model.add(BatchNormalization())\n",
    "\n",
    "model.add(Convolution2D(10, 4, kernel_regularizer=regularizers.l2(0.0001)))\n",
    "\n",
    "model.add(Flatten())\n",
    "model.add(Activation('softmax'))\n"
   ]
  },
  {
   "cell_type": "code",
   "execution_count": 107,
   "metadata": {
    "scrolled": true
   },
   "outputs": [
    {
     "name": "stdout",
     "output_type": "stream",
     "text": [
      "Model: \"sequential_7\"\n",
      "_________________________________________________________________\n",
      "Layer (type)                 Output Shape              Param #   \n",
      "=================================================================\n",
      "conv2d_56 (Conv2D)           (None, 32, 32, 16)        448       \n",
      "_________________________________________________________________\n",
      "batch_normalization_35 (Batc (None, 32, 32, 16)        64        \n",
      "_________________________________________________________________\n",
      "conv2d_57 (Conv2D)           (None, 30, 30, 32)        4640      \n",
      "_________________________________________________________________\n",
      "batch_normalization_36 (Batc (None, 30, 30, 32)        128       \n",
      "_________________________________________________________________\n",
      "max_pooling2d_14 (MaxPooling (None, 15, 15, 32)        0         \n",
      "_________________________________________________________________\n",
      "conv2d_58 (Conv2D)           (None, 15, 15, 24)        792       \n",
      "_________________________________________________________________\n",
      "conv2d_59 (Conv2D)           (None, 15, 15, 64)        13888     \n",
      "_________________________________________________________________\n",
      "batch_normalization_37 (Batc (None, 15, 15, 64)        256       \n",
      "_________________________________________________________________\n",
      "conv2d_60 (Conv2D)           (None, 13, 13, 128)       73856     \n",
      "_________________________________________________________________\n",
      "batch_normalization_38 (Batc (None, 13, 13, 128)       512       \n",
      "_________________________________________________________________\n",
      "max_pooling2d_15 (MaxPooling (None, 6, 6, 128)         0         \n",
      "_________________________________________________________________\n",
      "conv2d_61 (Conv2D)           (None, 6, 6, 64)          8256      \n",
      "_________________________________________________________________\n",
      "conv2d_62 (Conv2D)           (None, 4, 4, 256)         147712    \n",
      "_________________________________________________________________\n",
      "batch_normalization_39 (Batc (None, 4, 4, 256)         1024      \n",
      "_________________________________________________________________\n",
      "conv2d_63 (Conv2D)           (None, 1, 1, 10)          40970     \n",
      "_________________________________________________________________\n",
      "flatten_7 (Flatten)          (None, 10)                0         \n",
      "_________________________________________________________________\n",
      "activation_7 (Activation)    (None, 10)                0         \n",
      "=================================================================\n",
      "Total params: 292,546\n",
      "Trainable params: 291,554\n",
      "Non-trainable params: 992\n",
      "_________________________________________________________________\n"
     ]
    }
   ],
   "source": [
    "model.summary()"
   ]
  },
  {
   "cell_type": "code",
   "execution_count": 108,
   "metadata": {},
   "outputs": [],
   "source": [
    "model.compile(optimizer='sgd', loss='categorical_crossentropy', metrics=['accuracy'])"
   ]
  },
  {
   "cell_type": "code",
   "execution_count": 109,
   "metadata": {},
   "outputs": [],
   "source": [
    "from tensorflow.keras.preprocessing.image import ImageDataGenerator"
   ]
  },
  {
   "cell_type": "code",
   "execution_count": 110,
   "metadata": {},
   "outputs": [],
   "source": [
    "datagen = ImageDataGenerator(\n",
    "    horizontal_flip=True,\n",
    "    rotation_range=10,\n",
    "    zoom_range=0.15,\n",
    "    width_shift_range=0.2\n",
    ")"
   ]
  },
  {
   "cell_type": "code",
   "execution_count": 111,
   "metadata": {},
   "outputs": [
    {
     "name": "stdout",
     "output_type": "stream",
     "text": [
      "Epoch 1/50\n",
      "390/390 [==============================] - 110s 281ms/step - loss: 1.6971 - accuracy: 0.4173 - val_loss: 1.4667 - val_accuracy: 0.4862\n",
      "Epoch 2/50\n",
      "390/390 [==============================] - 110s 281ms/step - loss: 1.3871 - accuracy: 0.5195 - val_loss: 1.3667 - val_accuracy: 0.5371\n",
      "Epoch 3/50\n",
      "390/390 [==============================] - 109s 280ms/step - loss: 1.2746 - accuracy: 0.5617 - val_loss: 1.3367 - val_accuracy: 0.5642\n",
      "Epoch 4/50\n",
      "390/390 [==============================] - 109s 280ms/step - loss: 1.1878 - accuracy: 0.5943 - val_loss: 1.3479 - val_accuracy: 0.5605\n",
      "Epoch 5/50\n",
      "390/390 [==============================] - 109s 280ms/step - loss: 1.1300 - accuracy: 0.6146 - val_loss: 1.1425 - val_accuracy: 0.6278\n",
      "Epoch 6/50\n",
      "390/390 [==============================] - 110s 281ms/step - loss: 1.0801 - accuracy: 0.6307 - val_loss: 1.1622 - val_accuracy: 0.6220\n",
      "Epoch 7/50\n",
      "390/390 [==============================] - 110s 282ms/step - loss: 1.0256 - accuracy: 0.6513 - val_loss: 1.1999 - val_accuracy: 0.6273\n",
      "Epoch 8/50\n",
      "390/390 [==============================] - 109s 280ms/step - loss: 0.9943 - accuracy: 0.6632 - val_loss: 1.1980 - val_accuracy: 0.6100\n",
      "Epoch 9/50\n",
      "390/390 [==============================] - 110s 282ms/step - loss: 0.9560 - accuracy: 0.6778 - val_loss: 0.9976 - val_accuracy: 0.6724\n",
      "Epoch 10/50\n",
      "390/390 [==============================] - 109s 280ms/step - loss: 0.9263 - accuracy: 0.6890 - val_loss: 1.0582 - val_accuracy: 0.6630\n",
      "Epoch 11/50\n",
      "390/390 [==============================] - 110s 281ms/step - loss: 0.8983 - accuracy: 0.6976 - val_loss: 0.9727 - val_accuracy: 0.6900\n",
      "Epoch 12/50\n",
      "390/390 [==============================] - 110s 282ms/step - loss: 0.8708 - accuracy: 0.7089 - val_loss: 0.9387 - val_accuracy: 0.6990\n",
      "Epoch 13/50\n",
      "390/390 [==============================] - 110s 281ms/step - loss: 0.8503 - accuracy: 0.7173 - val_loss: 0.8923 - val_accuracy: 0.7147\n",
      "Epoch 14/50\n",
      "390/390 [==============================] - 110s 281ms/step - loss: 0.8289 - accuracy: 0.7251 - val_loss: 0.8628 - val_accuracy: 0.7252\n",
      "Epoch 15/50\n",
      "390/390 [==============================] - 110s 281ms/step - loss: 0.8115 - accuracy: 0.7298 - val_loss: 1.0453 - val_accuracy: 0.6820\n",
      "Epoch 16/50\n",
      "390/390 [==============================] - 110s 281ms/step - loss: 0.7956 - accuracy: 0.7362 - val_loss: 0.9897 - val_accuracy: 0.6950\n",
      "Epoch 17/50\n",
      "390/390 [==============================] - 110s 281ms/step - loss: 0.7784 - accuracy: 0.7400 - val_loss: 0.8846 - val_accuracy: 0.7211\n",
      "Epoch 18/50\n",
      "390/390 [==============================] - 110s 281ms/step - loss: 0.7647 - accuracy: 0.7477 - val_loss: 0.8523 - val_accuracy: 0.7390\n",
      "Epoch 19/50\n",
      "390/390 [==============================] - 109s 281ms/step - loss: 0.7468 - accuracy: 0.7517 - val_loss: 0.9903 - val_accuracy: 0.6991\n",
      "Epoch 20/50\n",
      "390/390 [==============================] - 109s 281ms/step - loss: 0.7340 - accuracy: 0.7583 - val_loss: 0.8856 - val_accuracy: 0.7274\n",
      "Epoch 21/50\n",
      "390/390 [==============================] - 109s 281ms/step - loss: 0.7165 - accuracy: 0.7626 - val_loss: 0.8943 - val_accuracy: 0.7226\n",
      "Epoch 22/50\n",
      "390/390 [==============================] - 109s 280ms/step - loss: 0.7071 - accuracy: 0.7651 - val_loss: 0.7854 - val_accuracy: 0.7544\n",
      "Epoch 23/50\n",
      "390/390 [==============================] - 110s 281ms/step - loss: 0.6987 - accuracy: 0.7715 - val_loss: 0.7388 - val_accuracy: 0.7644\n",
      "Epoch 24/50\n",
      "390/390 [==============================] - 110s 281ms/step - loss: 0.6830 - accuracy: 0.7748 - val_loss: 0.8003 - val_accuracy: 0.7416\n",
      "Epoch 25/50\n",
      "390/390 [==============================] - 110s 281ms/step - loss: 0.6741 - accuracy: 0.7777 - val_loss: 0.7780 - val_accuracy: 0.7578\n",
      "Epoch 26/50\n",
      "390/390 [==============================] - 110s 281ms/step - loss: 0.6715 - accuracy: 0.7788 - val_loss: 0.7857 - val_accuracy: 0.7583\n",
      "Epoch 27/50\n",
      "390/390 [==============================] - 110s 281ms/step - loss: 0.6568 - accuracy: 0.7843 - val_loss: 0.7672 - val_accuracy: 0.7642\n",
      "Epoch 28/50\n",
      "390/390 [==============================] - 110s 281ms/step - loss: 0.6538 - accuracy: 0.7852 - val_loss: 0.7420 - val_accuracy: 0.7666\n",
      "Epoch 29/50\n",
      "390/390 [==============================] - 109s 280ms/step - loss: 0.6379 - accuracy: 0.7921 - val_loss: 0.7800 - val_accuracy: 0.7625\n",
      "Epoch 30/50\n",
      "390/390 [==============================] - 109s 280ms/step - loss: 0.6316 - accuracy: 0.7939 - val_loss: 0.6861 - val_accuracy: 0.7873\n",
      "Epoch 31/50\n",
      "390/390 [==============================] - 110s 282ms/step - loss: 0.6242 - accuracy: 0.7978 - val_loss: 0.6918 - val_accuracy: 0.7844\n",
      "Epoch 32/50\n",
      "390/390 [==============================] - 109s 281ms/step - loss: 0.6161 - accuracy: 0.7980 - val_loss: 0.7357 - val_accuracy: 0.7736\n",
      "Epoch 33/50\n",
      "390/390 [==============================] - 110s 281ms/step - loss: 0.6072 - accuracy: 0.8020 - val_loss: 0.7873 - val_accuracy: 0.7641\n",
      "Epoch 34/50\n",
      "390/390 [==============================] - 109s 281ms/step - loss: 0.5955 - accuracy: 0.8064 - val_loss: 0.7111 - val_accuracy: 0.7803\n",
      "Epoch 35/50\n",
      "390/390 [==============================] - 110s 281ms/step - loss: 0.5958 - accuracy: 0.8047 - val_loss: 0.7521 - val_accuracy: 0.7698\n",
      "Epoch 36/50\n",
      "390/390 [==============================] - 110s 281ms/step - loss: 0.5910 - accuracy: 0.8071 - val_loss: 0.6932 - val_accuracy: 0.7844\n",
      "Epoch 37/50\n",
      "390/390 [==============================] - 110s 282ms/step - loss: 0.5870 - accuracy: 0.8081 - val_loss: 0.7150 - val_accuracy: 0.7834\n",
      "Epoch 38/50\n",
      "390/390 [==============================] - 110s 281ms/step - loss: 0.5767 - accuracy: 0.8117 - val_loss: 0.7045 - val_accuracy: 0.7830\n",
      "Epoch 39/50\n",
      "390/390 [==============================] - 110s 281ms/step - loss: 0.5685 - accuracy: 0.8145 - val_loss: 0.7170 - val_accuracy: 0.7857\n",
      "Epoch 40/50\n",
      "390/390 [==============================] - 109s 281ms/step - loss: 0.5659 - accuracy: 0.8157 - val_loss: 0.7378 - val_accuracy: 0.7764\n",
      "Epoch 41/50\n",
      "390/390 [==============================] - 110s 281ms/step - loss: 0.5503 - accuracy: 0.8212 - val_loss: 0.7257 - val_accuracy: 0.7793\n",
      "Epoch 42/50\n",
      "390/390 [==============================] - 110s 281ms/step - loss: 0.5535 - accuracy: 0.8177 - val_loss: 0.7358 - val_accuracy: 0.7743\n",
      "Epoch 43/50\n",
      "390/390 [==============================] - 110s 281ms/step - loss: 0.5483 - accuracy: 0.8224 - val_loss: 0.6869 - val_accuracy: 0.7856\n",
      "Epoch 44/50\n",
      "390/390 [==============================] - 110s 281ms/step - loss: 0.5419 - accuracy: 0.8257 - val_loss: 0.6866 - val_accuracy: 0.7960\n",
      "Epoch 45/50\n",
      "390/390 [==============================] - 109s 280ms/step - loss: 0.5390 - accuracy: 0.8240 - val_loss: 0.7058 - val_accuracy: 0.7860\n",
      "Epoch 46/50\n",
      "390/390 [==============================] - 110s 281ms/step - loss: 0.5291 - accuracy: 0.8306 - val_loss: 0.6477 - val_accuracy: 0.8018\n",
      "Epoch 47/50\n",
      "390/390 [==============================] - 110s 281ms/step - loss: 0.5264 - accuracy: 0.8307 - val_loss: 0.7984 - val_accuracy: 0.7592\n",
      "Epoch 48/50\n",
      "390/390 [==============================] - 110s 283ms/step - loss: 0.5257 - accuracy: 0.8282 - val_loss: 0.6680 - val_accuracy: 0.7998\n",
      "Epoch 49/50\n",
      "390/390 [==============================] - 109s 281ms/step - loss: 0.5179 - accuracy: 0.8322 - val_loss: 0.6631 - val_accuracy: 0.8012\n",
      "Epoch 50/50\n",
      "390/390 [==============================] - 109s 281ms/step - loss: 0.5129 - accuracy: 0.8350 - val_loss: 0.6904 - val_accuracy: 0.7973\n"
     ]
    }
   ],
   "source": [
    "batch_size=128\n",
    "model_info = model.fit_generator(\n",
    "    datagen.flow(X_train, Y_train, batch_size=batch_size),\n",
    "    steps_per_epoch=X_train.shape[0] // batch_size,\n",
    "    epochs=50,\n",
    "    validation_data=(X_test, Y_test),\n",
    ")"
   ]
  },
  {
   "cell_type": "code",
   "execution_count": 112,
   "metadata": {
    "scrolled": false
   },
   "outputs": [
    {
     "data": {
      "image/png": "[encoded data removed]",
      "text/plain": [
       "<Figure size 432x288 with 1 Axes>"
      ]
     },
     "metadata": {
      "needs_background": "light"
     },
     "output_type": "display_data"
    }
   ],
   "source": [
    "import matplotlib.pyplot as plt\n",
    "plt.plot(model_info.history['accuracy'],'r')\n",
    "plt.plot(model_info.history['val_accuracy'],'b')\n",
    "plt.legend({'training accuracy':'r', 'validation accuracy': 'b'})\n",
    "plt.show()"
   ]
  },
  {
   "cell_type": "code",
   "execution_count": 113,
   "metadata": {
    "scrolled": true
   },
   "outputs": [
    {
     "data": {
      "image/png": "[encoded data removed]",
      "text/plain": [
       "<Figure size 432x288 with 1 Axes>"
      ]
     },
     "metadata": {
      "needs_background": "light"
     },
     "output_type": "display_data"
    }
   ],
   "source": [
    "plt.plot(model_info.history['loss'],'r')\n",
    "plt.plot(model_info.history['val_loss'],'b')\n",
    "plt.legend({'training loss':'r', 'validation loss': 'b'})\n",
    "plt.show()"
   ]
  },
  {
   "cell_type": "code",
   "execution_count": 114,
   "metadata": {},
   "outputs": [],
   "source": [
    "y_pred = model.predict_classes(X_test)"
   ]
  },
  {
   "cell_type": "code",
   "execution_count": 115,
   "metadata": {},
   "outputs": [
    {
     "data": {
      "text/plain": [
       "0.7973"
      ]
     },
     "execution_count": 115,
     "metadata": {},
     "output_type": "execute_result"
    }
   ],
   "source": [
    "score = accuracy_score(y_test, y_pred)\n",
    "score"
   ]
  },
  {
   "cell_type": "code",
   "execution_count": 116,
   "metadata": {
    "scrolled": true
   },
   "outputs": [
    {
     "data": {
      "image/png": "[encoded data removed]",
      "text/plain": [
       "<Figure size 720x720 with 2 Axes>"
      ]
     },
     "metadata": {
      "needs_background": "light"
     },
     "output_type": "display_data"
    }
   ],
   "source": [
    "cm = confusion_matrix(y_test, y_pred)\n",
    "cm = cm.astype('float') / cm.sum(axis=1)[:, np.newaxis]\n",
    "\n",
    "plt.figure(figsize=(10, 10))\n",
    "sns.heatmap(cm, annot=True, fmt=\".3f\", linewidths=.5, square = True, cmap = 'Blues_r');\n",
    "plt.ylabel('Actual label');\n",
    "plt.xlabel('Predicted label');\n",
    "all_sample_title = 'Overall Accuracy Score: {0}'.format(score)\n",
    "plt.title(all_sample_title, size = 15);\n",
    "plt.savefig('ConfusionMatrix_CNN_image_augmentation_4_L2_0.0001.png')\n",
    "plt.show();"
   ]
  },
  {
   "cell_type": "code",
   "execution_count": null,
   "metadata": {},
   "outputs": [],
   "source": []
  },
  {
   "cell_type": "markdown",
   "metadata": {},
   "source": [
    "## arch 7 image augmentation + L2 regularization 0.001 + 500 epochs\n",
    "\n",
    "```python\n",
    "{\n",
    "    horizontal_flip: True,\n",
    "    rotation_range: 10,\n",
    "    zoom_range: 0.15,\n",
    "    width_shift_range: 0.2\n",
    "}\n",
    "```"
   ]
  },
  {
   "cell_type": "code",
   "execution_count": 117,
   "metadata": {},
   "outputs": [],
   "source": [
    "from tensorflow.keras import regularizers"
   ]
  },
  {
   "cell_type": "code",
   "execution_count": 118,
   "metadata": {},
   "outputs": [],
   "source": [
    "model = Sequential()\n",
    "\n",
    "# 32,32\n",
    "model.add(Convolution2D(16,(3,3), activation='relu', kernel_regularizer=regularizers.l2(0.001), input_shape=(32,32,3), padding='same'))\n",
    "model.add(BatchNormalization())\n",
    "\n",
    "# 30,30\n",
    "model.add(Convolution2D(32,(3,3), activation='relu', kernel_regularizer=regularizers.l2(0.001)))\n",
    "model.add(BatchNormalization())\n",
    "\n",
    "# 28,28\n",
    "model.add(MaxPooling2D(pool_size=(2,2)))\n",
    "\n",
    "# # 14,14\n",
    "model.add(Convolution2D(24,1, activation='relu', kernel_regularizer=regularizers.l2(0.001)))\n",
    "\n",
    "# 14,14\n",
    "model.add(Convolution2D(64,(3,3), activation='relu', padding='same', kernel_regularizer=regularizers.l2(0.001)))\n",
    "model.add(BatchNormalization())\n",
    "\n",
    "# 12, 12\n",
    "model.add(Convolution2D(128,(3,3), activation='relu', kernel_regularizer=regularizers.l2(0.001)))\n",
    "model.add(BatchNormalization())\n",
    "\n",
    "model.add(MaxPooling2D(pool_size=(2,2)))\n",
    "\n",
    "model.add(Convolution2D(64, 1, activation='relu', kernel_regularizer=regularizers.l2(0.001)))\n",
    "\n",
    "model.add(Convolution2D(256,(3,3), activation='relu', kernel_regularizer=regularizers.l2(0.001)))\n",
    "model.add(BatchNormalization())\n",
    "\n",
    "model.add(Convolution2D(10, 4, kernel_regularizer=regularizers.l2(0.001)))\n",
    "\n",
    "model.add(Flatten())\n",
    "model.add(Activation('softmax'))\n"
   ]
  },
  {
   "cell_type": "code",
   "execution_count": 119,
   "metadata": {
    "scrolled": true
   },
   "outputs": [
    {
     "name": "stdout",
     "output_type": "stream",
     "text": [
      "Model: \"sequential_8\"\n",
      "_________________________________________________________________\n",
      "Layer (type)                 Output Shape              Param #   \n",
      "=================================================================\n",
      "conv2d_64 (Conv2D)           (None, 32, 32, 16)        448       \n",
      "_________________________________________________________________\n",
      "batch_normalization_40 (Batc (None, 32, 32, 16)        64        \n",
      "_________________________________________________________________\n",
      "conv2d_65 (Conv2D)           (None, 30, 30, 32)        4640      \n",
      "_________________________________________________________________\n",
      "batch_normalization_41 (Batc (None, 30, 30, 32)        128       \n",
      "_________________________________________________________________\n",
      "max_pooling2d_16 (MaxPooling (None, 15, 15, 32)        0         \n",
      "_________________________________________________________________\n",
      "conv2d_66 (Conv2D)           (None, 15, 15, 24)        792       \n",
      "_________________________________________________________________\n",
      "conv2d_67 (Conv2D)           (None, 15, 15, 64)        13888     \n",
      "_________________________________________________________________\n",
      "batch_normalization_42 (Batc (None, 15, 15, 64)        256       \n",
      "_________________________________________________________________\n",
      "conv2d_68 (Conv2D)           (None, 13, 13, 128)       73856     \n",
      "_________________________________________________________________\n",
      "batch_normalization_43 (Batc (None, 13, 13, 128)       512       \n",
      "_________________________________________________________________\n",
      "max_pooling2d_17 (MaxPooling (None, 6, 6, 128)         0         \n",
      "_________________________________________________________________\n",
      "conv2d_69 (Conv2D)           (None, 6, 6, 64)          8256      \n",
      "_________________________________________________________________\n",
      "conv2d_70 (Conv2D)           (None, 4, 4, 256)         147712    \n",
      "_________________________________________________________________\n",
      "batch_normalization_44 (Batc (None, 4, 4, 256)         1024      \n",
      "_________________________________________________________________\n",
      "conv2d_71 (Conv2D)           (None, 1, 1, 10)          40970     \n",
      "_________________________________________________________________\n",
      "flatten_8 (Flatten)          (None, 10)                0         \n",
      "_________________________________________________________________\n",
      "activation_8 (Activation)    (None, 10)                0         \n",
      "=================================================================\n",
      "Total params: 292,546\n",
      "Trainable params: 291,554\n",
      "Non-trainable params: 992\n",
      "_________________________________________________________________\n"
     ]
    }
   ],
   "source": [
    "model.summary()"
   ]
  },
  {
   "cell_type": "code",
   "execution_count": 120,
   "metadata": {},
   "outputs": [],
   "source": [
    "model.compile(optimizer='sgd', loss='categorical_crossentropy', metrics=['accuracy'])"
   ]
  },
  {
   "cell_type": "code",
   "execution_count": 121,
   "metadata": {},
   "outputs": [],
   "source": [
    "from tensorflow.keras.preprocessing.image import ImageDataGenerator"
   ]
  },
  {
   "cell_type": "code",
   "execution_count": 122,
   "metadata": {},
   "outputs": [],
   "source": [
    "datagen = ImageDataGenerator(\n",
    "    horizontal_flip=True,\n",
    "    rotation_range=10,\n",
    "    zoom_range=0.15,\n",
    "    width_shift_range=0.2\n",
    ")"
   ]
  },
  {
   "cell_type": "code",
   "execution_count": null,
   "metadata": {
    "scrolled": true
   },
   "outputs": [
    {
     "name": "stdout",
     "output_type": "stream",
     "text": [
      "Epoch 1/500\n",
      "390/390 [==============================] - 109s 281ms/step - loss: 2.0599 - accuracy: 0.4107 - val_loss: 1.8859 - val_accuracy: 0.4693\n",
      "Epoch 2/500\n",
      "390/390 [==============================] - 109s 281ms/step - loss: 1.7205 - accuracy: 0.5219 - val_loss: 1.9937 - val_accuracy: 0.4844\n",
      "Epoch 3/500\n",
      "390/390 [==============================] - 109s 281ms/step - loss: 1.5905 - accuracy: 0.5688 - val_loss: 1.6765 - val_accuracy: 0.5591\n",
      "Epoch 4/500\n",
      "390/390 [==============================] - 110s 281ms/step - loss: 1.4974 - accuracy: 0.6016 - val_loss: 1.4793 - val_accuracy: 0.6142\n",
      "Epoch 5/500\n",
      "390/390 [==============================] - 110s 281ms/step - loss: 1.4271 - accuracy: 0.6250 - val_loss: 1.5261 - val_accuracy: 0.5974\n",
      "Epoch 6/500\n",
      "390/390 [==============================] - 109s 281ms/step - loss: 1.3700 - accuracy: 0.6446 - val_loss: 1.4851 - val_accuracy: 0.6282\n",
      "Epoch 7/500\n",
      "390/390 [==============================] - 110s 281ms/step - loss: 1.3220 - accuracy: 0.6601 - val_loss: 1.2994 - val_accuracy: 0.6803\n",
      "Epoch 8/500\n",
      "390/390 [==============================] - 110s 281ms/step - loss: 1.2739 - accuracy: 0.6759 - val_loss: 1.2912 - val_accuracy: 0.6783\n",
      "Epoch 9/500\n",
      "390/390 [==============================] - 110s 281ms/step - loss: 1.2277 - accuracy: 0.6915 - val_loss: 1.2616 - val_accuracy: 0.6900\n",
      "Epoch 10/500\n",
      "390/390 [==============================] - 110s 281ms/step - loss: 1.1872 - accuracy: 0.7038 - val_loss: 1.3190 - val_accuracy: 0.6726\n",
      "Epoch 11/500\n",
      "390/390 [==============================] - 109s 280ms/step - loss: 1.1571 - accuracy: 0.7128 - val_loss: 1.2867 - val_accuracy: 0.6792\n",
      "Epoch 12/500\n",
      "390/390 [==============================] - 109s 280ms/step - loss: 1.1277 - accuracy: 0.7219 - val_loss: 1.4620 - val_accuracy: 0.6396\n",
      "Epoch 13/500\n",
      "390/390 [==============================] - 109s 280ms/step - loss: 1.1028 - accuracy: 0.7280 - val_loss: 1.1590 - val_accuracy: 0.7258\n",
      "Epoch 14/500\n",
      "390/390 [==============================] - 109s 281ms/step - loss: 1.0755 - accuracy: 0.7381 - val_loss: 1.0992 - val_accuracy: 0.7424\n",
      "Epoch 15/500\n",
      "390/390 [==============================] - 110s 281ms/step - loss: 1.0511 - accuracy: 0.7459 - val_loss: 1.2855 - val_accuracy: 0.6940\n",
      "Epoch 16/500\n",
      "390/390 [==============================] - 110s 281ms/step - loss: 1.0278 - accuracy: 0.7506 - val_loss: 1.1468 - val_accuracy: 0.7265\n",
      "Epoch 17/500\n",
      "390/390 [==============================] - 110s 281ms/step - loss: 1.0140 - accuracy: 0.7562 - val_loss: 1.1902 - val_accuracy: 0.7183\n",
      "Epoch 18/500\n",
      "390/390 [==============================] - 110s 281ms/step - loss: 0.9820 - accuracy: 0.7662 - val_loss: 1.0532 - val_accuracy: 0.7541\n",
      "Epoch 19/500\n",
      "390/390 [==============================] - 109s 281ms/step - loss: 0.9678 - accuracy: 0.7707 - val_loss: 1.0227 - val_accuracy: 0.7582\n",
      "Epoch 20/500\n",
      "390/390 [==============================] - 110s 281ms/step - loss: 0.9565 - accuracy: 0.7727 - val_loss: 1.0175 - val_accuracy: 0.7660\n",
      "Epoch 21/500\n",
      "390/390 [==============================] - 110s 281ms/step - loss: 0.9401 - accuracy: 0.7755 - val_loss: 1.0776 - val_accuracy: 0.7495\n",
      "Epoch 22/500\n",
      "390/390 [==============================] - 109s 281ms/step - loss: 0.9174 - accuracy: 0.7846 - val_loss: 1.1113 - val_accuracy: 0.7345\n",
      "Epoch 23/500\n",
      "390/390 [==============================] - 110s 281ms/step - loss: 0.9102 - accuracy: 0.7841 - val_loss: 1.0366 - val_accuracy: 0.7573\n",
      "Epoch 24/500\n",
      "390/390 [==============================] - 110s 282ms/step - loss: 0.8935 - accuracy: 0.7870 - val_loss: 1.1080 - val_accuracy: 0.7364\n",
      "Epoch 25/500\n",
      "390/390 [==============================] - 110s 281ms/step - loss: 0.8751 - accuracy: 0.7944 - val_loss: 0.9486 - val_accuracy: 0.7782\n",
      "Epoch 26/500\n",
      "390/390 [==============================] - 110s 281ms/step - loss: 0.8635 - accuracy: 0.7977 - val_loss: 0.9943 - val_accuracy: 0.7717\n",
      "Epoch 27/500\n",
      "390/390 [==============================] - 110s 281ms/step - loss: 0.8496 - accuracy: 0.8022 - val_loss: 0.9457 - val_accuracy: 0.7786\n",
      "Epoch 28/500\n",
      "390/390 [==============================] - 109s 281ms/step - loss: 0.8395 - accuracy: 0.8027 - val_loss: 0.9368 - val_accuracy: 0.7791\n",
      "Epoch 29/500\n",
      "390/390 [==============================] - 109s 281ms/step - loss: 0.8291 - accuracy: 0.8066 - val_loss: 0.9918 - val_accuracy: 0.7723\n",
      "Epoch 30/500\n",
      "390/390 [==============================] - 109s 281ms/step - loss: 0.8171 - accuracy: 0.8100 - val_loss: 1.0488 - val_accuracy: 0.7564\n",
      "Epoch 31/500\n",
      "390/390 [==============================] - 109s 281ms/step - loss: 0.8074 - accuracy: 0.8119 - val_loss: 0.8897 - val_accuracy: 0.7932\n",
      "Epoch 32/500\n",
      "390/390 [==============================] - 110s 282ms/step - loss: 0.7953 - accuracy: 0.8157 - val_loss: 0.8769 - val_accuracy: 0.8045\n",
      "Epoch 33/500\n",
      "390/390 [==============================] - 109s 281ms/step - loss: 0.7836 - accuracy: 0.8187 - val_loss: 0.8802 - val_accuracy: 0.8007\n",
      "Epoch 34/500\n",
      "390/390 [==============================] - 110s 281ms/step - loss: 0.7703 - accuracy: 0.8216 - val_loss: 0.8704 - val_accuracy: 0.8038\n",
      "Epoch 35/500\n",
      "390/390 [==============================] - 110s 281ms/step - loss: 0.7665 - accuracy: 0.8241 - val_loss: 0.8473 - val_accuracy: 0.8063\n",
      "Epoch 36/500\n",
      "390/390 [==============================] - 109s 281ms/step - loss: 0.7571 - accuracy: 0.8253 - val_loss: 0.9571 - val_accuracy: 0.7805\n",
      "Epoch 37/500\n",
      "390/390 [==============================] - 109s 281ms/step - loss: 0.7461 - accuracy: 0.8266 - val_loss: 0.8691 - val_accuracy: 0.7997\n",
      "Epoch 38/500\n",
      "390/390 [==============================] - 110s 281ms/step - loss: 0.7360 - accuracy: 0.8314 - val_loss: 0.9446 - val_accuracy: 0.7772\n",
      "Epoch 39/500\n",
      "390/390 [==============================] - 110s 281ms/step - loss: 0.7283 - accuracy: 0.8309 - val_loss: 0.8442 - val_accuracy: 0.8037\n",
      "Epoch 40/500\n",
      "390/390 [==============================] - 110s 281ms/step - loss: 0.7202 - accuracy: 0.8347 - val_loss: 0.8885 - val_accuracy: 0.7935\n",
      "Epoch 41/500\n",
      "390/390 [==============================] - 109s 281ms/step - loss: 0.7188 - accuracy: 0.8330 - val_loss: 0.8955 - val_accuracy: 0.7898\n",
      "Epoch 42/500\n",
      "390/390 [==============================] - 109s 281ms/step - loss: 0.7046 - accuracy: 0.8397 - val_loss: 0.8608 - val_accuracy: 0.8028\n",
      "Epoch 43/500\n",
      "390/390 [==============================] - 110s 281ms/step - loss: 0.6946 - accuracy: 0.8395 - val_loss: 0.8278 - val_accuracy: 0.8117\n",
      "Epoch 44/500\n",
      "390/390 [==============================] - 109s 280ms/step - loss: 0.6887 - accuracy: 0.8418 - val_loss: 0.8742 - val_accuracy: 0.7925\n",
      "Epoch 45/500\n",
      "390/390 [==============================] - 109s 280ms/step - loss: 0.6783 - accuracy: 0.8446 - val_loss: 0.8551 - val_accuracy: 0.8005\n",
      "Epoch 46/500\n",
      "390/390 [==============================] - 109s 281ms/step - loss: 0.6786 - accuracy: 0.8439 - val_loss: 0.8351 - val_accuracy: 0.8032\n",
      "Epoch 47/500\n",
      "390/390 [==============================] - 109s 281ms/step - loss: 0.6651 - accuracy: 0.8478 - val_loss: 0.8334 - val_accuracy: 0.8021\n",
      "Epoch 48/500\n",
      "390/390 [==============================] - 110s 281ms/step - loss: 0.6626 - accuracy: 0.8482 - val_loss: 0.8033 - val_accuracy: 0.8168\n",
      "Epoch 49/500\n",
      "390/390 [==============================] - 110s 281ms/step - loss: 0.6481 - accuracy: 0.8510 - val_loss: 0.8713 - val_accuracy: 0.8006\n",
      "Epoch 50/500\n",
      "390/390 [==============================] - 109s 281ms/step - loss: 0.6409 - accuracy: 0.8544 - val_loss: 0.8011 - val_accuracy: 0.8171\n",
      "Epoch 51/500\n",
      "390/390 [==============================] - 110s 283ms/step - loss: 0.6448 - accuracy: 0.8517 - val_loss: 0.8453 - val_accuracy: 0.8102\n",
      "Epoch 52/500\n",
      "390/390 [==============================] - 109s 280ms/step - loss: 0.6380 - accuracy: 0.8545 - val_loss: 0.7950 - val_accuracy: 0.8185\n",
      "Epoch 53/500\n",
      "390/390 [==============================] - 110s 281ms/step - loss: 0.6299 - accuracy: 0.8556 - val_loss: 0.7773 - val_accuracy: 0.8177\n",
      "Epoch 54/500\n",
      "390/390 [==============================] - 109s 280ms/step - loss: 0.6212 - accuracy: 0.8579 - val_loss: 0.7947 - val_accuracy: 0.8141\n",
      "Epoch 55/500\n",
      "390/390 [==============================] - 110s 281ms/step - loss: 0.6146 - accuracy: 0.8589 - val_loss: 0.9437 - val_accuracy: 0.7802\n",
      "Epoch 56/500\n",
      "390/390 [==============================] - 110s 281ms/step - loss: 0.6104 - accuracy: 0.8621 - val_loss: 0.8790 - val_accuracy: 0.7928\n",
      "Epoch 57/500\n",
      "390/390 [==============================] - 109s 281ms/step - loss: 0.6028 - accuracy: 0.8638 - val_loss: 0.8848 - val_accuracy: 0.7962\n",
      "Epoch 58/500\n",
      "390/390 [==============================] - 109s 281ms/step - loss: 0.6024 - accuracy: 0.8619 - val_loss: 0.7880 - val_accuracy: 0.8196\n",
      "Epoch 59/500\n",
      "390/390 [==============================] - 110s 281ms/step - loss: 0.5957 - accuracy: 0.8625 - val_loss: 0.8284 - val_accuracy: 0.8092\n",
      "Epoch 60/500\n",
      "390/390 [==============================] - 110s 281ms/step - loss: 0.5872 - accuracy: 0.8674 - val_loss: 0.7586 - val_accuracy: 0.8216\n",
      "Epoch 61/500\n",
      "390/390 [==============================] - 109s 280ms/step - loss: 0.5825 - accuracy: 0.8671 - val_loss: 0.7995 - val_accuracy: 0.8161\n",
      "Epoch 62/500\n",
      "390/390 [==============================] - 109s 281ms/step - loss: 0.5796 - accuracy: 0.8667 - val_loss: 0.8975 - val_accuracy: 0.7895\n",
      "Epoch 63/500\n",
      "390/390 [==============================] - 109s 281ms/step - loss: 0.5733 - accuracy: 0.8684 - val_loss: 0.8706 - val_accuracy: 0.7936\n",
      "Epoch 64/500\n",
      "390/390 [==============================] - 109s 281ms/step - loss: 0.5711 - accuracy: 0.8687 - val_loss: 0.8334 - val_accuracy: 0.8098\n",
      "Epoch 65/500\n",
      "390/390 [==============================] - 109s 281ms/step - loss: 0.5611 - accuracy: 0.8732 - val_loss: 0.7812 - val_accuracy: 0.8222\n",
      "Epoch 66/500\n",
      "390/390 [==============================] - 109s 281ms/step - loss: 0.5616 - accuracy: 0.8715 - val_loss: 0.7427 - val_accuracy: 0.8254\n",
      "Epoch 67/500\n",
      "390/390 [==============================] - 109s 280ms/step - loss: 0.5570 - accuracy: 0.8726 - val_loss: 0.7551 - val_accuracy: 0.8251\n",
      "Epoch 68/500\n",
      "390/390 [==============================] - 109s 280ms/step - loss: 0.5540 - accuracy: 0.8728 - val_loss: 0.7871 - val_accuracy: 0.8099\n",
      "Epoch 69/500\n",
      "390/390 [==============================] - 109s 281ms/step - loss: 0.5490 - accuracy: 0.8751 - val_loss: 0.7427 - val_accuracy: 0.8269\n",
      "Epoch 70/500\n",
      "390/390 [==============================] - 109s 280ms/step - loss: 0.5395 - accuracy: 0.8779 - val_loss: 0.8832 - val_accuracy: 0.7881\n",
      "Epoch 71/500\n",
      "390/390 [==============================] - 109s 281ms/step - loss: 0.5393 - accuracy: 0.8781 - val_loss: 0.7371 - val_accuracy: 0.8270\n",
      "Epoch 72/500\n",
      "390/390 [==============================] - 110s 281ms/step - loss: 0.5325 - accuracy: 0.8798 - val_loss: 0.7335 - val_accuracy: 0.8280\n",
      "Epoch 73/500\n",
      "390/390 [==============================] - 110s 281ms/step - loss: 0.5226 - accuracy: 0.8812 - val_loss: 0.7645 - val_accuracy: 0.8163\n",
      "Epoch 74/500\n",
      "390/390 [==============================] - 109s 280ms/step - loss: 0.5194 - accuracy: 0.8835 - val_loss: 0.7325 - val_accuracy: 0.8299\n",
      "Epoch 75/500\n",
      "390/390 [==============================] - 109s 280ms/step - loss: 0.5207 - accuracy: 0.8827 - val_loss: 0.8524 - val_accuracy: 0.8052\n",
      "Epoch 76/500\n",
      "390/390 [==============================] - 110s 281ms/step - loss: 0.5116 - accuracy: 0.8845 - val_loss: 0.7493 - val_accuracy: 0.8271\n",
      "Epoch 77/500\n",
      "390/390 [==============================] - 109s 280ms/step - loss: 0.5109 - accuracy: 0.8835 - val_loss: 0.7522 - val_accuracy: 0.8217\n",
      "Epoch 78/500\n",
      "390/390 [==============================] - 109s 281ms/step - loss: 0.5116 - accuracy: 0.8841 - val_loss: 0.8058 - val_accuracy: 0.8078\n",
      "Epoch 79/500\n",
      "390/390 [==============================] - 110s 281ms/step - loss: 0.5080 - accuracy: 0.8839 - val_loss: 0.7211 - val_accuracy: 0.8263\n",
      "Epoch 80/500\n",
      "390/390 [==============================] - 110s 281ms/step - loss: 0.5034 - accuracy: 0.8851 - val_loss: 0.7202 - val_accuracy: 0.8322\n",
      "Epoch 81/500\n",
      "390/390 [==============================] - 110s 281ms/step - loss: 0.5016 - accuracy: 0.8879 - val_loss: 0.7210 - val_accuracy: 0.8264\n",
      "Epoch 82/500\n",
      "390/390 [==============================] - 109s 281ms/step - loss: 0.4918 - accuracy: 0.8876 - val_loss: 0.7478 - val_accuracy: 0.8233\n",
      "Epoch 83/500\n",
      "390/390 [==============================] - 109s 280ms/step - loss: 0.4968 - accuracy: 0.8874 - val_loss: 0.7869 - val_accuracy: 0.8167\n",
      "Epoch 84/500\n",
      "390/390 [==============================] - 110s 281ms/step - loss: 0.4822 - accuracy: 0.8937 - val_loss: 0.7451 - val_accuracy: 0.8288\n",
      "Epoch 85/500\n",
      "390/390 [==============================] - 109s 280ms/step - loss: 0.4860 - accuracy: 0.8910 - val_loss: 0.7508 - val_accuracy: 0.8233\n",
      "Epoch 86/500\n",
      "390/390 [==============================] - 109s 280ms/step - loss: 0.4840 - accuracy: 0.8903 - val_loss: 0.7341 - val_accuracy: 0.8239\n",
      "Epoch 87/500\n",
      "390/390 [==============================] - 110s 281ms/step - loss: 0.4801 - accuracy: 0.8912 - val_loss: 0.6927 - val_accuracy: 0.8367\n",
      "Epoch 88/500\n",
      "390/390 [==============================] - 110s 281ms/step - loss: 0.4740 - accuracy: 0.8934 - val_loss: 0.8767 - val_accuracy: 0.7975\n",
      "Epoch 89/500\n",
      "390/390 [==============================] - 110s 281ms/step - loss: 0.4719 - accuracy: 0.8948 - val_loss: 0.7124 - val_accuracy: 0.8346\n",
      "Epoch 90/500\n",
      "390/390 [==============================] - 109s 280ms/step - loss: 0.4704 - accuracy: 0.8945 - val_loss: 0.7406 - val_accuracy: 0.8249\n",
      "Epoch 91/500\n",
      "390/390 [==============================] - 109s 280ms/step - loss: 0.4657 - accuracy: 0.8954 - val_loss: 0.7814 - val_accuracy: 0.8118\n",
      "Epoch 92/500\n",
      "390/390 [==============================] - 109s 280ms/step - loss: 0.4678 - accuracy: 0.8940 - val_loss: 0.6929 - val_accuracy: 0.8324\n",
      "Epoch 93/500\n",
      "390/390 [==============================] - 110s 281ms/step - loss: 0.4588 - accuracy: 0.8968 - val_loss: 0.7917 - val_accuracy: 0.8235\n",
      "Epoch 94/500\n",
      "390/390 [==============================] - 109s 280ms/step - loss: 0.4602 - accuracy: 0.8974 - val_loss: 0.8237 - val_accuracy: 0.8075\n",
      "Epoch 95/500\n",
      "390/390 [==============================] - 110s 281ms/step - loss: 0.4539 - accuracy: 0.8973 - val_loss: 0.8110 - val_accuracy: 0.8133\n",
      "Epoch 96/500\n",
      "390/390 [==============================] - 110s 281ms/step - loss: 0.4526 - accuracy: 0.8981 - val_loss: 0.7317 - val_accuracy: 0.8185\n",
      "Epoch 97/500\n",
      "390/390 [==============================] - 109s 280ms/step - loss: 0.4570 - accuracy: 0.8967 - val_loss: 0.6710 - val_accuracy: 0.8415\n",
      "Epoch 98/500\n",
      "390/390 [==============================] - 109s 280ms/step - loss: 0.4524 - accuracy: 0.8983 - val_loss: 0.6893 - val_accuracy: 0.8344\n",
      "Epoch 99/500\n",
      "390/390 [==============================] - 109s 281ms/step - loss: 0.4493 - accuracy: 0.8990 - val_loss: 0.6305 - val_accuracy: 0.8499\n",
      "Epoch 100/500\n",
      "390/390 [==============================] - 109s 280ms/step - loss: 0.4414 - accuracy: 0.9012 - val_loss: 0.7630 - val_accuracy: 0.8216\n",
      "Epoch 101/500\n",
      "390/390 [==============================] - 110s 281ms/step - loss: 0.4423 - accuracy: 0.9009 - val_loss: 0.7386 - val_accuracy: 0.8312\n",
      "Epoch 102/500\n",
      "390/390 [==============================] - 109s 280ms/step - loss: 0.4368 - accuracy: 0.9036 - val_loss: 0.7295 - val_accuracy: 0.8280\n",
      "Epoch 103/500\n",
      "390/390 [==============================] - 109s 281ms/step - loss: 0.4348 - accuracy: 0.9043 - val_loss: 0.6502 - val_accuracy: 0.8453\n",
      "Epoch 104/500\n",
      "390/390 [==============================] - 110s 281ms/step - loss: 0.4333 - accuracy: 0.9055 - val_loss: 0.6806 - val_accuracy: 0.8392\n",
      "Epoch 105/500\n",
      "390/390 [==============================] - 109s 281ms/step - loss: 0.4319 - accuracy: 0.9046 - val_loss: 0.7490 - val_accuracy: 0.8239\n",
      "Epoch 106/500\n",
      "390/390 [==============================] - 110s 281ms/step - loss: 0.4257 - accuracy: 0.9059 - val_loss: 0.9395 - val_accuracy: 0.7869\n",
      "Epoch 107/500\n",
      "390/390 [==============================] - 109s 280ms/step - loss: 0.4251 - accuracy: 0.9052 - val_loss: 0.7368 - val_accuracy: 0.8312\n",
      "Epoch 108/500\n",
      "390/390 [==============================] - 109s 280ms/step - loss: 0.4276 - accuracy: 0.9051 - val_loss: 0.6543 - val_accuracy: 0.8467\n",
      "Epoch 109/500\n",
      "390/390 [==============================] - 110s 281ms/step - loss: 0.4259 - accuracy: 0.9058 - val_loss: 0.7818 - val_accuracy: 0.8148\n",
      "Epoch 110/500\n",
      "390/390 [==============================] - 109s 281ms/step - loss: 0.4130 - accuracy: 0.9092 - val_loss: 0.7225 - val_accuracy: 0.8326\n",
      "Epoch 111/500\n"
     ]
    },
    {
     "name": "stdout",
     "output_type": "stream",
     "text": [
      "390/390 [==============================] - 109s 280ms/step - loss: 0.4205 - accuracy: 0.9060 - val_loss: 0.7117 - val_accuracy: 0.8322\n",
      "Epoch 112/500\n",
      "390/390 [==============================] - 110s 281ms/step - loss: 0.4246 - accuracy: 0.9067 - val_loss: 0.6748 - val_accuracy: 0.8395\n",
      "Epoch 113/500\n",
      "390/390 [==============================] - 109s 280ms/step - loss: 0.4124 - accuracy: 0.9097 - val_loss: 0.6957 - val_accuracy: 0.8390\n",
      "Epoch 114/500\n",
      "390/390 [==============================] - 109s 280ms/step - loss: 0.4117 - accuracy: 0.9093 - val_loss: 0.7909 - val_accuracy: 0.8077\n",
      "Epoch 115/500\n",
      "390/390 [==============================] - 110s 281ms/step - loss: 0.4105 - accuracy: 0.9108 - val_loss: 0.6461 - val_accuracy: 0.8505\n",
      "Epoch 116/500\n",
      "390/390 [==============================] - 110s 281ms/step - loss: 0.4098 - accuracy: 0.9098 - val_loss: 0.6621 - val_accuracy: 0.8461\n",
      "Epoch 117/500\n",
      "390/390 [==============================] - 109s 280ms/step - loss: 0.4041 - accuracy: 0.9119 - val_loss: 0.6754 - val_accuracy: 0.8404\n",
      "Epoch 118/500\n",
      "390/390 [==============================] - 109s 280ms/step - loss: 0.4013 - accuracy: 0.9117 - val_loss: 0.6281 - val_accuracy: 0.8512\n",
      "Epoch 119/500\n",
      "390/390 [==============================] - 109s 280ms/step - loss: 0.4081 - accuracy: 0.9091 - val_loss: 0.7457 - val_accuracy: 0.8332\n",
      "Epoch 120/500\n",
      "390/390 [==============================] - 109s 281ms/step - loss: 0.4034 - accuracy: 0.9101 - val_loss: 0.6785 - val_accuracy: 0.8379\n",
      "Epoch 121/500\n",
      "390/390 [==============================] - 109s 280ms/step - loss: 0.4027 - accuracy: 0.9112 - val_loss: 0.6523 - val_accuracy: 0.8470\n",
      "Epoch 122/500\n",
      "390/390 [==============================] - 109s 281ms/step - loss: 0.3946 - accuracy: 0.9141 - val_loss: 0.7062 - val_accuracy: 0.8365\n",
      "Epoch 123/500\n",
      "390/390 [==============================] - 109s 281ms/step - loss: 0.3935 - accuracy: 0.9137 - val_loss: 0.6977 - val_accuracy: 0.8402\n",
      "Epoch 124/500\n",
      "390/390 [==============================] - 109s 281ms/step - loss: 0.3941 - accuracy: 0.9137 - val_loss: 0.7185 - val_accuracy: 0.8353\n",
      "Epoch 125/500\n",
      "390/390 [==============================] - 109s 280ms/step - loss: 0.3899 - accuracy: 0.9143 - val_loss: 0.6906 - val_accuracy: 0.8425\n",
      "Epoch 126/500\n",
      "390/390 [==============================] - 110s 281ms/step - loss: 0.3896 - accuracy: 0.9152 - val_loss: 0.6042 - val_accuracy: 0.8622\n",
      "Epoch 127/500\n",
      "390/390 [==============================] - 109s 280ms/step - loss: 0.3888 - accuracy: 0.9163 - val_loss: 0.7511 - val_accuracy: 0.8306\n",
      "Epoch 128/500\n",
      "390/390 [==============================] - 110s 281ms/step - loss: 0.3904 - accuracy: 0.9142 - val_loss: 0.7261 - val_accuracy: 0.8339\n",
      "Epoch 129/500\n",
      "390/390 [==============================] - 110s 281ms/step - loss: 0.3933 - accuracy: 0.9150 - val_loss: 0.6887 - val_accuracy: 0.8487\n",
      "Epoch 130/500\n",
      "390/390 [==============================] - 109s 280ms/step - loss: 0.3860 - accuracy: 0.9166 - val_loss: 0.7198 - val_accuracy: 0.8274\n",
      "Epoch 131/500\n",
      "390/390 [==============================] - 109s 280ms/step - loss: 0.3850 - accuracy: 0.9156 - val_loss: 0.7012 - val_accuracy: 0.8405\n",
      "Epoch 132/500\n",
      "390/390 [==============================] - 109s 280ms/step - loss: 0.3825 - accuracy: 0.9178 - val_loss: 0.7076 - val_accuracy: 0.8367\n",
      "Epoch 133/500\n",
      "390/390 [==============================] - 109s 280ms/step - loss: 0.3788 - accuracy: 0.9196 - val_loss: 0.7418 - val_accuracy: 0.8290\n",
      "Epoch 134/500\n",
      "390/390 [==============================] - 109s 280ms/step - loss: 0.3798 - accuracy: 0.9185 - val_loss: 0.7080 - val_accuracy: 0.8364\n",
      "Epoch 135/500\n",
      "390/390 [==============================] - 109s 280ms/step - loss: 0.3791 - accuracy: 0.9178 - val_loss: 0.7835 - val_accuracy: 0.8224\n",
      "Epoch 136/500\n",
      "390/390 [==============================] - 109s 280ms/step - loss: 0.3745 - accuracy: 0.9192 - val_loss: 0.7252 - val_accuracy: 0.8296\n",
      "Epoch 137/500\n",
      "390/390 [==============================] - 110s 281ms/step - loss: 0.3781 - accuracy: 0.9176 - val_loss: 0.6736 - val_accuracy: 0.8435\n",
      "Epoch 138/500\n",
      "390/390 [==============================] - 109s 280ms/step - loss: 0.3738 - accuracy: 0.9198 - val_loss: 0.6460 - val_accuracy: 0.8524\n",
      "Epoch 139/500\n",
      "390/390 [==============================] - 109s 280ms/step - loss: 0.3719 - accuracy: 0.9196 - val_loss: 0.6453 - val_accuracy: 0.8457\n",
      "Epoch 140/500\n",
      "390/390 [==============================] - 109s 280ms/step - loss: 0.3690 - accuracy: 0.9213 - val_loss: 0.7210 - val_accuracy: 0.8305\n",
      "Epoch 141/500\n",
      "390/390 [==============================] - 109s 280ms/step - loss: 0.3767 - accuracy: 0.9187 - val_loss: 0.7102 - val_accuracy: 0.8349\n",
      "Epoch 142/500\n",
      "390/390 [==============================] - 109s 280ms/step - loss: 0.3657 - accuracy: 0.9209 - val_loss: 0.7309 - val_accuracy: 0.8375\n",
      "Epoch 143/500\n",
      "390/390 [==============================] - 109s 280ms/step - loss: 0.3657 - accuracy: 0.9228 - val_loss: 0.6755 - val_accuracy: 0.8485\n",
      "Epoch 144/500\n",
      "390/390 [==============================] - 110s 281ms/step - loss: 0.3686 - accuracy: 0.9208 - val_loss: 0.7396 - val_accuracy: 0.8297\n",
      "Epoch 145/500\n",
      "390/390 [==============================] - 109s 280ms/step - loss: 0.3676 - accuracy: 0.9205 - val_loss: 0.6342 - val_accuracy: 0.8523\n",
      "Epoch 146/500\n",
      "390/390 [==============================] - 109s 281ms/step - loss: 0.3641 - accuracy: 0.9215 - val_loss: 0.6575 - val_accuracy: 0.8448\n",
      "Epoch 147/500\n",
      "390/390 [==============================] - 109s 281ms/step - loss: 0.3655 - accuracy: 0.9216 - val_loss: 0.7022 - val_accuracy: 0.8398\n",
      "Epoch 148/500\n",
      "390/390 [==============================] - 109s 280ms/step - loss: 0.3623 - accuracy: 0.9226 - val_loss: 0.6499 - val_accuracy: 0.8494\n",
      "Epoch 149/500\n",
      "390/390 [==============================] - 109s 281ms/step - loss: 0.3616 - accuracy: 0.9224 - val_loss: 0.6991 - val_accuracy: 0.8424\n",
      "Epoch 150/500\n",
      "390/390 [==============================] - 109s 281ms/step - loss: 0.3611 - accuracy: 0.9227 - val_loss: 0.6561 - val_accuracy: 0.8502\n",
      "Epoch 151/500\n",
      "390/390 [==============================] - 109s 280ms/step - loss: 0.3562 - accuracy: 0.9257 - val_loss: 0.6600 - val_accuracy: 0.8482\n",
      "Epoch 152/500\n",
      "390/390 [==============================] - 109s 280ms/step - loss: 0.3582 - accuracy: 0.9235 - val_loss: 0.7339 - val_accuracy: 0.8293\n",
      "Epoch 153/500\n",
      "390/390 [==============================] - 109s 280ms/step - loss: 0.3555 - accuracy: 0.9254 - val_loss: 0.7092 - val_accuracy: 0.8417\n",
      "Epoch 154/500\n",
      "390/390 [==============================] - 109s 281ms/step - loss: 0.3557 - accuracy: 0.9238 - val_loss: 0.6888 - val_accuracy: 0.8460\n",
      "Epoch 155/500\n",
      "390/390 [==============================] - 109s 280ms/step - loss: 0.3568 - accuracy: 0.9242 - val_loss: 0.6725 - val_accuracy: 0.8451\n",
      "Epoch 156/500\n",
      "390/390 [==============================] - 109s 280ms/step - loss: 0.3535 - accuracy: 0.9251 - val_loss: 0.7240 - val_accuracy: 0.8294\n",
      "Epoch 157/500\n",
      "390/390 [==============================] - 109s 280ms/step - loss: 0.3492 - accuracy: 0.9276 - val_loss: 0.6655 - val_accuracy: 0.8537\n",
      "Epoch 158/500\n",
      "390/390 [==============================] - 109s 280ms/step - loss: 0.3497 - accuracy: 0.9259 - val_loss: 0.6961 - val_accuracy: 0.8421\n",
      "Epoch 159/500\n",
      "390/390 [==============================] - 109s 280ms/step - loss: 0.3507 - accuracy: 0.9258 - val_loss: 0.7412 - val_accuracy: 0.8317\n",
      "Epoch 160/500\n",
      "390/390 [==============================] - 110s 281ms/step - loss: 0.3456 - accuracy: 0.9278 - val_loss: 0.7584 - val_accuracy: 0.8320\n",
      "Epoch 161/500\n",
      "390/390 [==============================] - 109s 280ms/step - loss: 0.3515 - accuracy: 0.9255 - val_loss: 0.7653 - val_accuracy: 0.8323\n",
      "Epoch 162/500\n",
      "390/390 [==============================] - 109s 281ms/step - loss: 0.3485 - accuracy: 0.9273 - val_loss: 0.8621 - val_accuracy: 0.8102\n",
      "Epoch 163/500\n",
      "390/390 [==============================] - 109s 281ms/step - loss: 0.3431 - accuracy: 0.9284 - val_loss: 0.6966 - val_accuracy: 0.8400\n",
      "Epoch 164/500\n",
      "390/390 [==============================] - 109s 280ms/step - loss: 0.3473 - accuracy: 0.9263 - val_loss: 0.6647 - val_accuracy: 0.8458\n",
      "Epoch 165/500\n",
      "390/390 [==============================] - 109s 280ms/step - loss: 0.3493 - accuracy: 0.9256 - val_loss: 0.7269 - val_accuracy: 0.8378\n",
      "Epoch 166/500\n"
     ]
    },
    {
     "name": "stdout",
     "output_type": "stream",
     "text": [
      "390/390 [==============================] - 109s 280ms/step - loss: 0.3417 - accuracy: 0.9282 - val_loss: 0.6705 - val_accuracy: 0.8467\n",
      "Epoch 167/500\n",
      "390/390 [==============================] - 109s 280ms/step - loss: 0.3437 - accuracy: 0.9283 - val_loss: 0.6731 - val_accuracy: 0.8454\n",
      "Epoch 168/500\n",
      "390/390 [==============================] - 110s 281ms/step - loss: 0.3427 - accuracy: 0.9290 - val_loss: 0.6205 - val_accuracy: 0.8632\n",
      "Epoch 169/500\n",
      "390/390 [==============================] - 109s 280ms/step - loss: 0.3345 - accuracy: 0.9321 - val_loss: 0.6706 - val_accuracy: 0.8445\n",
      "Epoch 170/500\n",
      "390/390 [==============================] - 109s 280ms/step - loss: 0.3428 - accuracy: 0.9280 - val_loss: 0.6996 - val_accuracy: 0.8395\n",
      "Epoch 171/500\n",
      "390/390 [==============================] - 109s 281ms/step - loss: 0.3418 - accuracy: 0.9286 - val_loss: 0.7535 - val_accuracy: 0.8222\n",
      "Epoch 172/500\n",
      "390/390 [==============================] - 109s 280ms/step - loss: 0.3368 - accuracy: 0.9298 - val_loss: 0.6665 - val_accuracy: 0.8473\n",
      "Epoch 173/500\n",
      "390/390 [==============================] - 109s 280ms/step - loss: 0.3376 - accuracy: 0.9288 - val_loss: 0.7368 - val_accuracy: 0.8275\n",
      "Epoch 174/500\n",
      "390/390 [==============================] - 109s 281ms/step - loss: 0.3312 - accuracy: 0.9310 - val_loss: 0.6454 - val_accuracy: 0.8510\n",
      "Epoch 175/500\n",
      "390/390 [==============================] - 109s 281ms/step - loss: 0.3346 - accuracy: 0.9298 - val_loss: 0.7085 - val_accuracy: 0.8391\n",
      "Epoch 176/500\n",
      "390/390 [==============================] - 109s 281ms/step - loss: 0.3343 - accuracy: 0.9304 - val_loss: 0.7461 - val_accuracy: 0.8379\n",
      "Epoch 177/500\n",
      "390/390 [==============================] - 109s 280ms/step - loss: 0.3363 - accuracy: 0.9302 - val_loss: 0.8247 - val_accuracy: 0.8162\n",
      "Epoch 178/500\n",
      "390/390 [==============================] - 109s 280ms/step - loss: 0.3359 - accuracy: 0.9303 - val_loss: 0.6700 - val_accuracy: 0.8463\n",
      "Epoch 179/500\n",
      "390/390 [==============================] - 109s 280ms/step - loss: 0.3332 - accuracy: 0.9315 - val_loss: 0.7507 - val_accuracy: 0.8346\n",
      "Epoch 180/500\n",
      "390/390 [==============================] - 110s 281ms/step - loss: 0.3345 - accuracy: 0.9317 - val_loss: 0.6369 - val_accuracy: 0.8548\n",
      "Epoch 181/500\n",
      "390/390 [==============================] - 110s 281ms/step - loss: 0.3288 - accuracy: 0.9323 - val_loss: 0.6668 - val_accuracy: 0.8444\n",
      "Epoch 182/500\n",
      "390/390 [==============================] - 109s 280ms/step - loss: 0.3256 - accuracy: 0.9342 - val_loss: 0.7236 - val_accuracy: 0.8449\n",
      "Epoch 183/500\n",
      "390/390 [==============================] - 109s 280ms/step - loss: 0.3316 - accuracy: 0.9312 - val_loss: 0.7541 - val_accuracy: 0.8382\n",
      "Epoch 184/500\n",
      "390/390 [==============================] - 109s 281ms/step - loss: 0.3286 - accuracy: 0.9326 - val_loss: 0.6289 - val_accuracy: 0.8535\n",
      "Epoch 185/500\n",
      "390/390 [==============================] - 109s 281ms/step - loss: 0.3266 - accuracy: 0.9327 - val_loss: 0.6611 - val_accuracy: 0.8476\n",
      "Epoch 186/500\n",
      "390/390 [==============================] - 109s 281ms/step - loss: 0.3289 - accuracy: 0.9318 - val_loss: 0.7026 - val_accuracy: 0.8415\n",
      "Epoch 187/500\n",
      "390/390 [==============================] - 109s 280ms/step - loss: 0.3318 - accuracy: 0.9321 - val_loss: 0.7372 - val_accuracy: 0.8318\n",
      "Epoch 188/500\n",
      "390/390 [==============================] - 109s 280ms/step - loss: 0.3292 - accuracy: 0.9323 - val_loss: 0.6257 - val_accuracy: 0.8538\n",
      "Epoch 189/500\n",
      "390/390 [==============================] - 109s 280ms/step - loss: 0.3286 - accuracy: 0.9333 - val_loss: 0.6941 - val_accuracy: 0.8452\n",
      "Epoch 190/500\n",
      "390/390 [==============================] - 109s 280ms/step - loss: 0.3272 - accuracy: 0.9327 - val_loss: 0.7283 - val_accuracy: 0.8353\n",
      "Epoch 191/500\n",
      "390/390 [==============================] - 109s 280ms/step - loss: 0.3183 - accuracy: 0.9364 - val_loss: 0.7015 - val_accuracy: 0.8436\n",
      "Epoch 192/500\n",
      "390/390 [==============================] - 109s 280ms/step - loss: 0.3251 - accuracy: 0.9340 - val_loss: 0.7640 - val_accuracy: 0.8329\n",
      "Epoch 193/500\n",
      "390/390 [==============================] - 109s 281ms/step - loss: 0.3232 - accuracy: 0.9339 - val_loss: 0.6122 - val_accuracy: 0.8564\n",
      "Epoch 194/500\n",
      "390/390 [==============================] - 109s 280ms/step - loss: 0.3223 - accuracy: 0.9345 - val_loss: 0.6764 - val_accuracy: 0.8485\n",
      "Epoch 195/500\n",
      "390/390 [==============================] - 109s 280ms/step - loss: 0.3215 - accuracy: 0.9354 - val_loss: 0.6869 - val_accuracy: 0.8418\n",
      "Epoch 196/500\n",
      "390/390 [==============================] - 109s 281ms/step - loss: 0.3213 - accuracy: 0.9353 - val_loss: 0.6983 - val_accuracy: 0.8443\n",
      "Epoch 197/500\n",
      "390/390 [==============================] - 109s 280ms/step - loss: 0.3198 - accuracy: 0.9345 - val_loss: 0.7679 - val_accuracy: 0.8276\n",
      "Epoch 198/500\n",
      "390/390 [==============================] - 109s 280ms/step - loss: 0.3177 - accuracy: 0.9353 - val_loss: 0.6658 - val_accuracy: 0.8462\n",
      "Epoch 199/500\n",
      "390/390 [==============================] - 110s 283ms/step - loss: 0.3215 - accuracy: 0.9344 - val_loss: 0.8749 - val_accuracy: 0.8120\n",
      "Epoch 200/500\n",
      "390/390 [==============================] - 110s 281ms/step - loss: 0.3194 - accuracy: 0.9358 - val_loss: 0.7133 - val_accuracy: 0.8388\n",
      "Epoch 201/500\n",
      "390/390 [==============================] - 109s 280ms/step - loss: 0.3197 - accuracy: 0.9349 - val_loss: 0.7902 - val_accuracy: 0.8310\n",
      "Epoch 202/500\n",
      "390/390 [==============================] - 109s 281ms/step - loss: 0.3195 - accuracy: 0.9365 - val_loss: 0.7068 - val_accuracy: 0.8398\n",
      "Epoch 203/500\n",
      "390/390 [==============================] - 110s 281ms/step - loss: 0.3141 - accuracy: 0.9374 - val_loss: 0.7026 - val_accuracy: 0.8394\n",
      "Epoch 204/500\n",
      "390/390 [==============================] - 109s 280ms/step - loss: 0.3202 - accuracy: 0.9355 - val_loss: 0.6624 - val_accuracy: 0.8476\n",
      "Epoch 205/500\n",
      "390/390 [==============================] - 109s 281ms/step - loss: 0.3191 - accuracy: 0.9349 - val_loss: 0.7917 - val_accuracy: 0.8253\n",
      "Epoch 206/500\n",
      "390/390 [==============================] - 109s 280ms/step - loss: 0.3161 - accuracy: 0.9364 - val_loss: 0.8080 - val_accuracy: 0.8276\n",
      "Epoch 207/500\n",
      "390/390 [==============================] - 109s 280ms/step - loss: 0.3089 - accuracy: 0.9391 - val_loss: 0.6986 - val_accuracy: 0.8434\n",
      "Epoch 208/500\n",
      "390/390 [==============================] - 109s 281ms/step - loss: 0.3109 - accuracy: 0.9383 - val_loss: 0.6794 - val_accuracy: 0.8427\n",
      "Epoch 209/500\n",
      "390/390 [==============================] - 110s 281ms/step - loss: 0.3116 - accuracy: 0.9369 - val_loss: 0.6797 - val_accuracy: 0.8463\n",
      "Epoch 210/500\n",
      "390/390 [==============================] - 109s 280ms/step - loss: 0.3161 - accuracy: 0.9360 - val_loss: 0.7264 - val_accuracy: 0.8365\n",
      "Epoch 211/500\n",
      "390/390 [==============================] - 110s 281ms/step - loss: 0.3099 - accuracy: 0.9386 - val_loss: 0.6726 - val_accuracy: 0.8505\n",
      "Epoch 212/500\n",
      "390/390 [==============================] - 109s 281ms/step - loss: 0.3094 - accuracy: 0.9391 - val_loss: 0.7146 - val_accuracy: 0.8398\n",
      "Epoch 213/500\n",
      "390/390 [==============================] - 109s 280ms/step - loss: 0.3088 - accuracy: 0.9388 - val_loss: 0.7955 - val_accuracy: 0.8320\n",
      "Epoch 214/500\n",
      "390/390 [==============================] - 109s 280ms/step - loss: 0.3119 - accuracy: 0.9386 - val_loss: 0.7168 - val_accuracy: 0.8363\n",
      "Epoch 215/500\n",
      "390/390 [==============================] - 109s 280ms/step - loss: 0.3089 - accuracy: 0.9389 - val_loss: 0.6878 - val_accuracy: 0.8492\n",
      "Epoch 216/500\n",
      "390/390 [==============================] - 109s 281ms/step - loss: 0.3151 - accuracy: 0.9362 - val_loss: 0.7203 - val_accuracy: 0.8379\n",
      "Epoch 217/500\n",
      "390/390 [==============================] - 110s 283ms/step - loss: 0.3067 - accuracy: 0.9397 - val_loss: 0.7213 - val_accuracy: 0.8420\n",
      "Epoch 218/500\n",
      "390/390 [==============================] - 109s 280ms/step - loss: 0.3131 - accuracy: 0.9376 - val_loss: 0.6650 - val_accuracy: 0.8522\n",
      "Epoch 219/500\n",
      "390/390 [==============================] - 110s 281ms/step - loss: 0.3060 - accuracy: 0.9396 - val_loss: 0.7011 - val_accuracy: 0.8440\n",
      "Epoch 220/500\n",
      "390/390 [==============================] - 109s 281ms/step - loss: 0.3075 - accuracy: 0.9400 - val_loss: 0.6790 - val_accuracy: 0.8543\n",
      "Epoch 221/500\n"
     ]
    },
    {
     "name": "stdout",
     "output_type": "stream",
     "text": [
      "390/390 [==============================] - 109s 280ms/step - loss: 0.3046 - accuracy: 0.9413 - val_loss: 0.6216 - val_accuracy: 0.8585\n",
      "Epoch 222/500\n",
      "390/390 [==============================] - 109s 280ms/step - loss: 0.3099 - accuracy: 0.9373 - val_loss: 0.6922 - val_accuracy: 0.8502\n",
      "Epoch 223/500\n",
      "390/390 [==============================] - 109s 280ms/step - loss: 0.3038 - accuracy: 0.9404 - val_loss: 0.6552 - val_accuracy: 0.8478\n",
      "Epoch 224/500\n",
      "390/390 [==============================] - 109s 280ms/step - loss: 0.3005 - accuracy: 0.9418 - val_loss: 0.6608 - val_accuracy: 0.8510\n",
      "Epoch 225/500\n",
      "390/390 [==============================] - 109s 281ms/step - loss: 0.3073 - accuracy: 0.9390 - val_loss: 0.6958 - val_accuracy: 0.8508\n",
      "Epoch 226/500\n",
      "390/390 [==============================] - 109s 281ms/step - loss: 0.3046 - accuracy: 0.9410 - val_loss: 0.6881 - val_accuracy: 0.8473\n",
      "Epoch 227/500\n",
      "390/390 [==============================] - 109s 280ms/step - loss: 0.3084 - accuracy: 0.9383 - val_loss: 0.8249 - val_accuracy: 0.8274\n",
      "Epoch 228/500\n",
      "390/390 [==============================] - 109s 281ms/step - loss: 0.3040 - accuracy: 0.9410 - val_loss: 0.6705 - val_accuracy: 0.8480\n",
      "Epoch 229/500\n",
      "390/390 [==============================] - 109s 280ms/step - loss: 0.3043 - accuracy: 0.9394 - val_loss: 0.6781 - val_accuracy: 0.8474\n",
      "Epoch 230/500\n",
      "390/390 [==============================] - 109s 280ms/step - loss: 0.3042 - accuracy: 0.9412 - val_loss: 0.7273 - val_accuracy: 0.8329\n",
      "Epoch 231/500\n",
      "390/390 [==============================] - 110s 281ms/step - loss: 0.3017 - accuracy: 0.9417 - val_loss: 0.6684 - val_accuracy: 0.8465\n",
      "Epoch 232/500\n",
      "390/390 [==============================] - 110s 281ms/step - loss: 0.3011 - accuracy: 0.9410 - val_loss: 0.6391 - val_accuracy: 0.8602\n",
      "Epoch 233/500\n",
      "390/390 [==============================] - 109s 281ms/step - loss: 0.2978 - accuracy: 0.9421 - val_loss: 0.6991 - val_accuracy: 0.8495\n",
      "Epoch 234/500\n",
      "390/390 [==============================] - 109s 281ms/step - loss: 0.3034 - accuracy: 0.9408 - val_loss: 0.6925 - val_accuracy: 0.8489\n",
      "Epoch 235/500\n",
      "390/390 [==============================] - 109s 280ms/step - loss: 0.2976 - accuracy: 0.9433 - val_loss: 0.6635 - val_accuracy: 0.8527\n",
      "Epoch 236/500\n",
      "390/390 [==============================] - 110s 281ms/step - loss: 0.3014 - accuracy: 0.9418 - val_loss: 0.7973 - val_accuracy: 0.8294\n",
      "Epoch 237/500\n",
      "390/390 [==============================] - 109s 280ms/step - loss: 0.2985 - accuracy: 0.9419 - val_loss: 0.6742 - val_accuracy: 0.8506\n",
      "Epoch 238/500\n",
      "390/390 [==============================] - 109s 280ms/step - loss: 0.3011 - accuracy: 0.9413 - val_loss: 0.7191 - val_accuracy: 0.8471\n",
      "Epoch 239/500\n",
      "390/390 [==============================] - 109s 280ms/step - loss: 0.3012 - accuracy: 0.9401 - val_loss: 0.6431 - val_accuracy: 0.8521\n",
      "Epoch 240/500\n",
      "390/390 [==============================] - 109s 280ms/step - loss: 0.2997 - accuracy: 0.9419 - val_loss: 0.7556 - val_accuracy: 0.8458\n",
      "Epoch 241/500\n",
      "390/390 [==============================] - 109s 281ms/step - loss: 0.3001 - accuracy: 0.9402 - val_loss: 0.6356 - val_accuracy: 0.8536\n",
      "Epoch 242/500\n",
      "390/390 [==============================] - 109s 281ms/step - loss: 0.2992 - accuracy: 0.9418 - val_loss: 0.6312 - val_accuracy: 0.8588\n",
      "Epoch 243/500\n",
      "390/390 [==============================] - 109s 280ms/step - loss: 0.3016 - accuracy: 0.9401 - val_loss: 0.7272 - val_accuracy: 0.8391\n",
      "Epoch 244/500\n",
      "390/390 [==============================] - 110s 281ms/step - loss: 0.2998 - accuracy: 0.9414 - val_loss: 0.7180 - val_accuracy: 0.8344\n",
      "Epoch 245/500\n",
      "390/390 [==============================] - 110s 282ms/step - loss: 0.2952 - accuracy: 0.9445 - val_loss: 0.7679 - val_accuracy: 0.8362\n",
      "Epoch 246/500\n",
      "390/390 [==============================] - 109s 280ms/step - loss: 0.3008 - accuracy: 0.9416 - val_loss: 0.6788 - val_accuracy: 0.8516\n",
      "Epoch 247/500\n",
      "390/390 [==============================] - 110s 281ms/step - loss: 0.2944 - accuracy: 0.9441 - val_loss: 0.6949 - val_accuracy: 0.8504\n",
      "Epoch 248/500\n",
      "390/390 [==============================] - 109s 281ms/step - loss: 0.2988 - accuracy: 0.9417 - val_loss: 0.6695 - val_accuracy: 0.8514\n",
      "Epoch 249/500\n",
      "390/390 [==============================] - 109s 280ms/step - loss: 0.2939 - accuracy: 0.9447 - val_loss: 0.8013 - val_accuracy: 0.8193\n",
      "Epoch 250/500\n",
      "390/390 [==============================] - 109s 280ms/step - loss: 0.2916 - accuracy: 0.9452 - val_loss: 0.6845 - val_accuracy: 0.8430\n",
      "Epoch 251/500\n",
      "390/390 [==============================] - 110s 281ms/step - loss: 0.2937 - accuracy: 0.9430 - val_loss: 0.7472 - val_accuracy: 0.8389\n",
      "Epoch 252/500\n",
      "390/390 [==============================] - 109s 280ms/step - loss: 0.2934 - accuracy: 0.9437 - val_loss: 0.6337 - val_accuracy: 0.8567\n",
      "Epoch 253/500\n",
      "390/390 [==============================] - 109s 280ms/step - loss: 0.2920 - accuracy: 0.9455 - val_loss: 0.6658 - val_accuracy: 0.8507\n",
      "Epoch 254/500\n",
      "390/390 [==============================] - 109s 280ms/step - loss: 0.2876 - accuracy: 0.9450 - val_loss: 0.6713 - val_accuracy: 0.8532\n",
      "Epoch 255/500\n",
      "390/390 [==============================] - 109s 280ms/step - loss: 0.2917 - accuracy: 0.9438 - val_loss: 0.7080 - val_accuracy: 0.8413\n",
      "Epoch 256/500\n",
      "390/390 [==============================] - 110s 281ms/step - loss: 0.2980 - accuracy: 0.9416 - val_loss: 0.7020 - val_accuracy: 0.8435\n",
      "Epoch 257/500\n",
      "390/390 [==============================] - 110s 281ms/step - loss: 0.2899 - accuracy: 0.9449 - val_loss: 0.6924 - val_accuracy: 0.8512\n",
      "Epoch 258/500\n",
      "390/390 [==============================] - 109s 281ms/step - loss: 0.2943 - accuracy: 0.9447 - val_loss: 0.6810 - val_accuracy: 0.8489\n",
      "Epoch 259/500\n",
      "390/390 [==============================] - 110s 281ms/step - loss: 0.2940 - accuracy: 0.9434 - val_loss: 0.8251 - val_accuracy: 0.8239\n",
      "Epoch 260/500\n",
      "390/390 [==============================] - 109s 280ms/step - loss: 0.2934 - accuracy: 0.9432 - val_loss: 0.7448 - val_accuracy: 0.8392\n",
      "Epoch 261/500\n",
      "390/390 [==============================] - 110s 281ms/step - loss: 0.2884 - accuracy: 0.9458 - val_loss: 0.6474 - val_accuracy: 0.8575\n",
      "Epoch 262/500\n",
      "390/390 [==============================] - 109s 280ms/step - loss: 0.2962 - accuracy: 0.9420 - val_loss: 0.7087 - val_accuracy: 0.8501\n",
      "Epoch 263/500\n",
      "390/390 [==============================] - 109s 280ms/step - loss: 0.2887 - accuracy: 0.9453 - val_loss: 0.6648 - val_accuracy: 0.8578\n",
      "Epoch 264/500\n",
      "390/390 [==============================] - 109s 281ms/step - loss: 0.2879 - accuracy: 0.9457 - val_loss: 0.8294 - val_accuracy: 0.8290\n",
      "Epoch 265/500\n",
      "390/390 [==============================] - 110s 281ms/step - loss: 0.2920 - accuracy: 0.9450 - val_loss: 0.6918 - val_accuracy: 0.8468\n",
      "Epoch 266/500\n",
      "390/390 [==============================] - 109s 281ms/step - loss: 0.2938 - accuracy: 0.9432 - val_loss: 0.6478 - val_accuracy: 0.8582\n",
      "Epoch 267/500\n",
      "390/390 [==============================] - 109s 281ms/step - loss: 0.2898 - accuracy: 0.9453 - val_loss: 0.6158 - val_accuracy: 0.8626\n",
      "Epoch 268/500\n",
      "390/390 [==============================] - 110s 283ms/step - loss: 0.2877 - accuracy: 0.9446 - val_loss: 0.8230 - val_accuracy: 0.8223\n",
      "Epoch 269/500\n",
      "390/390 [==============================] - 109s 281ms/step - loss: 0.2908 - accuracy: 0.9447 - val_loss: 0.6714 - val_accuracy: 0.8470\n",
      "Epoch 270/500\n",
      "390/390 [==============================] - 109s 280ms/step - loss: 0.2868 - accuracy: 0.9467 - val_loss: 0.6512 - val_accuracy: 0.8538\n",
      "Epoch 271/500\n",
      "390/390 [==============================] - 109s 280ms/step - loss: 0.2885 - accuracy: 0.9455 - val_loss: 0.6484 - val_accuracy: 0.8568\n",
      "Epoch 272/500\n",
      "390/390 [==============================] - 109s 280ms/step - loss: 0.2928 - accuracy: 0.9437 - val_loss: 0.6663 - val_accuracy: 0.8477\n",
      "Epoch 273/500\n",
      "390/390 [==============================] - 110s 281ms/step - loss: 0.2873 - accuracy: 0.9464 - val_loss: 0.7923 - val_accuracy: 0.8270\n",
      "Epoch 274/500\n",
      "390/390 [==============================] - 110s 281ms/step - loss: 0.2907 - accuracy: 0.9440 - val_loss: 0.7000 - val_accuracy: 0.8391\n",
      "Epoch 275/500\n",
      "390/390 [==============================] - 109s 281ms/step - loss: 0.2882 - accuracy: 0.9450 - val_loss: 0.6631 - val_accuracy: 0.8568\n",
      "Epoch 276/500\n"
     ]
    },
    {
     "name": "stdout",
     "output_type": "stream",
     "text": [
      "390/390 [==============================] - 110s 282ms/step - loss: 0.2861 - accuracy: 0.9453 - val_loss: 0.5883 - val_accuracy: 0.8659\n",
      "Epoch 277/500\n",
      "390/390 [==============================] - 109s 280ms/step - loss: 0.2842 - accuracy: 0.9467 - val_loss: 0.7048 - val_accuracy: 0.8468\n",
      "Epoch 278/500\n",
      "390/390 [==============================] - 109s 281ms/step - loss: 0.2877 - accuracy: 0.9462 - val_loss: 0.6291 - val_accuracy: 0.8538\n",
      "Epoch 279/500\n",
      "390/390 [==============================] - 109s 280ms/step - loss: 0.2888 - accuracy: 0.9445 - val_loss: 0.7404 - val_accuracy: 0.8354\n",
      "Epoch 280/500\n",
      "390/390 [==============================] - 109s 280ms/step - loss: 0.2836 - accuracy: 0.9466 - val_loss: 0.7674 - val_accuracy: 0.8370\n",
      "Epoch 281/500\n",
      "390/390 [==============================] - 109s 280ms/step - loss: 0.2892 - accuracy: 0.9446 - val_loss: 0.7080 - val_accuracy: 0.8475\n",
      "Epoch 282/500\n",
      "390/390 [==============================] - 109s 280ms/step - loss: 0.2880 - accuracy: 0.9452 - val_loss: 0.7282 - val_accuracy: 0.8448\n",
      "Epoch 283/500\n",
      "390/390 [==============================] - 109s 281ms/step - loss: 0.2869 - accuracy: 0.9450 - val_loss: 0.6440 - val_accuracy: 0.8607\n",
      "Epoch 284/500\n",
      "390/390 [==============================] - 109s 281ms/step - loss: 0.2859 - accuracy: 0.9458 - val_loss: 0.6764 - val_accuracy: 0.8526\n",
      "Epoch 285/500\n",
      "390/390 [==============================] - 110s 281ms/step - loss: 0.2879 - accuracy: 0.9450 - val_loss: 0.7023 - val_accuracy: 0.8520\n",
      "Epoch 286/500\n",
      "390/390 [==============================] - 109s 280ms/step - loss: 0.2799 - accuracy: 0.9495 - val_loss: 0.6175 - val_accuracy: 0.8683\n",
      "Epoch 287/500\n",
      "390/390 [==============================] - 109s 280ms/step - loss: 0.2827 - accuracy: 0.9475 - val_loss: 0.8263 - val_accuracy: 0.8273\n",
      "Epoch 288/500\n",
      "390/390 [==============================] - 109s 280ms/step - loss: 0.2795 - accuracy: 0.9479 - val_loss: 0.6924 - val_accuracy: 0.8450\n",
      "Epoch 289/500\n",
      "390/390 [==============================] - 109s 280ms/step - loss: 0.2856 - accuracy: 0.9450 - val_loss: 0.7191 - val_accuracy: 0.8407\n",
      "Epoch 290/500\n",
      "390/390 [==============================] - 109s 280ms/step - loss: 0.2855 - accuracy: 0.9466 - val_loss: 0.6592 - val_accuracy: 0.8526\n",
      "Epoch 291/500\n",
      "390/390 [==============================] - 109s 280ms/step - loss: 0.2824 - accuracy: 0.9471 - val_loss: 0.7608 - val_accuracy: 0.8409\n",
      "Epoch 292/500\n",
      "390/390 [==============================] - 109s 281ms/step - loss: 0.2832 - accuracy: 0.9471 - val_loss: 0.6451 - val_accuracy: 0.8550\n",
      "Epoch 293/500\n",
      "390/390 [==============================] - 109s 281ms/step - loss: 0.2814 - accuracy: 0.9486 - val_loss: 0.6678 - val_accuracy: 0.8492\n",
      "Epoch 294/500\n",
      "390/390 [==============================] - 109s 280ms/step - loss: 0.2799 - accuracy: 0.9482 - val_loss: 0.6797 - val_accuracy: 0.8521\n",
      "Epoch 295/500\n",
      "390/390 [==============================] - 109s 280ms/step - loss: 0.2859 - accuracy: 0.9457 - val_loss: 0.6798 - val_accuracy: 0.8507\n",
      "Epoch 296/500\n",
      "390/390 [==============================] - 109s 281ms/step - loss: 0.2834 - accuracy: 0.9474 - val_loss: 0.6828 - val_accuracy: 0.8566\n",
      "Epoch 297/500\n",
      "390/390 [==============================] - 109s 281ms/step - loss: 0.2803 - accuracy: 0.9488 - val_loss: 0.6909 - val_accuracy: 0.8460\n",
      "Epoch 298/500\n",
      "390/390 [==============================] - 109s 280ms/step - loss: 0.2798 - accuracy: 0.9485 - val_loss: 0.6899 - val_accuracy: 0.8437\n",
      "Epoch 299/500\n",
      "390/390 [==============================] - 109s 280ms/step - loss: 0.2770 - accuracy: 0.9484 - val_loss: 0.6863 - val_accuracy: 0.8503\n",
      "Epoch 300/500\n",
      "390/390 [==============================] - 109s 280ms/step - loss: 0.2809 - accuracy: 0.9467 - val_loss: 0.6927 - val_accuracy: 0.8499\n",
      "Epoch 301/500\n",
      "390/390 [==============================] - 109s 280ms/step - loss: 0.2792 - accuracy: 0.9484 - val_loss: 0.6560 - val_accuracy: 0.8580\n",
      "Epoch 302/500\n",
      "390/390 [==============================] - 109s 280ms/step - loss: 0.2802 - accuracy: 0.9472 - val_loss: 0.6405 - val_accuracy: 0.8626\n",
      "Epoch 303/500\n",
      "390/390 [==============================] - 109s 280ms/step - loss: 0.2779 - accuracy: 0.9488 - val_loss: 0.6713 - val_accuracy: 0.8536\n",
      "Epoch 304/500\n",
      "390/390 [==============================] - 109s 280ms/step - loss: 0.2779 - accuracy: 0.9496 - val_loss: 0.6530 - val_accuracy: 0.8614\n",
      "Epoch 305/500\n",
      "390/390 [==============================] - 109s 280ms/step - loss: 0.2770 - accuracy: 0.9488 - val_loss: 0.7120 - val_accuracy: 0.8528\n",
      "Epoch 306/500\n",
      "390/390 [==============================] - 109s 280ms/step - loss: 0.2791 - accuracy: 0.9481 - val_loss: 0.6720 - val_accuracy: 0.8495\n",
      "Epoch 307/500\n",
      "390/390 [==============================] - 109s 281ms/step - loss: 0.2819 - accuracy: 0.9472 - val_loss: 0.7144 - val_accuracy: 0.8472\n",
      "Epoch 308/500\n",
      "390/390 [==============================] - 109s 280ms/step - loss: 0.2753 - accuracy: 0.9498 - val_loss: 0.7666 - val_accuracy: 0.8306\n",
      "Epoch 309/500\n",
      "390/390 [==============================] - 109s 280ms/step - loss: 0.2816 - accuracy: 0.9475 - val_loss: 0.6860 - val_accuracy: 0.8523\n",
      "Epoch 310/500\n",
      "390/390 [==============================] - 110s 282ms/step - loss: 0.2776 - accuracy: 0.9483 - val_loss: 0.6804 - val_accuracy: 0.8555\n",
      "Epoch 311/500\n",
      "390/390 [==============================] - 109s 281ms/step - loss: 0.2786 - accuracy: 0.9486 - val_loss: 0.7367 - val_accuracy: 0.8473\n",
      "Epoch 312/500\n",
      "390/390 [==============================] - 109s 281ms/step - loss: 0.2726 - accuracy: 0.9506 - val_loss: 0.7451 - val_accuracy: 0.8436\n",
      "Epoch 313/500\n",
      "390/390 [==============================] - 110s 281ms/step - loss: 0.2743 - accuracy: 0.9501 - val_loss: 0.6761 - val_accuracy: 0.8491\n",
      "Epoch 314/500\n",
      "390/390 [==============================] - 109s 280ms/step - loss: 0.2786 - accuracy: 0.9481 - val_loss: 0.7307 - val_accuracy: 0.8401\n",
      "Epoch 315/500\n",
      "390/390 [==============================] - 109s 281ms/step - loss: 0.2759 - accuracy: 0.9497 - val_loss: 0.6713 - val_accuracy: 0.8542\n",
      "Epoch 316/500\n",
      "390/390 [==============================] - 110s 281ms/step - loss: 0.2738 - accuracy: 0.9512 - val_loss: 0.6667 - val_accuracy: 0.8529\n",
      "Epoch 317/500\n",
      "390/390 [==============================] - 109s 280ms/step - loss: 0.2760 - accuracy: 0.9498 - val_loss: 0.7754 - val_accuracy: 0.8369\n",
      "Epoch 318/500\n",
      "390/390 [==============================] - 110s 281ms/step - loss: 0.2765 - accuracy: 0.9477 - val_loss: 0.6874 - val_accuracy: 0.8531\n",
      "Epoch 319/500\n",
      "390/390 [==============================] - 109s 280ms/step - loss: 0.2715 - accuracy: 0.9517 - val_loss: 0.6533 - val_accuracy: 0.8537\n",
      "Epoch 320/500\n",
      "390/390 [==============================] - 109s 280ms/step - loss: 0.2762 - accuracy: 0.9483 - val_loss: 0.7438 - val_accuracy: 0.8434\n",
      "Epoch 321/500\n",
      "390/390 [==============================] - 110s 281ms/step - loss: 0.2733 - accuracy: 0.9509 - val_loss: 0.7636 - val_accuracy: 0.8368\n",
      "Epoch 322/500\n",
      "390/390 [==============================] - 110s 282ms/step - loss: 0.2731 - accuracy: 0.9500 - val_loss: 0.7383 - val_accuracy: 0.8384\n",
      "Epoch 323/500\n",
      "390/390 [==============================] - 110s 281ms/step - loss: 0.2705 - accuracy: 0.9519 - val_loss: 0.6764 - val_accuracy: 0.8581\n",
      "Epoch 324/500\n",
      "390/390 [==============================] - 109s 280ms/step - loss: 0.2768 - accuracy: 0.9494 - val_loss: 0.6772 - val_accuracy: 0.8575\n",
      "Epoch 325/500\n",
      "390/390 [==============================] - 110s 281ms/step - loss: 0.2719 - accuracy: 0.9510 - val_loss: 0.6400 - val_accuracy: 0.8595\n",
      "Epoch 326/500\n",
      "390/390 [==============================] - 114s 293ms/step - loss: 0.2663 - accuracy: 0.9526 - val_loss: 0.6620 - val_accuracy: 0.8509\n",
      "Epoch 327/500\n",
      "390/390 [==============================] - 112s 286ms/step - loss: 0.2744 - accuracy: 0.9492 - val_loss: 0.6701 - val_accuracy: 0.8544\n",
      "Epoch 328/500\n",
      "390/390 [==============================] - 114s 291ms/step - loss: 0.2695 - accuracy: 0.9514 - val_loss: 0.6916 - val_accuracy: 0.8550\n",
      "Epoch 329/500\n",
      "390/390 [==============================] - 115s 294ms/step - loss: 0.2722 - accuracy: 0.9512 - val_loss: 0.7454 - val_accuracy: 0.8447\n",
      "Epoch 330/500\n",
      "390/390 [==============================] - 116s 297ms/step - loss: 0.2795 - accuracy: 0.9474 - val_loss: 0.7416 - val_accuracy: 0.8388\n",
      "Epoch 331/500\n"
     ]
    },
    {
     "name": "stdout",
     "output_type": "stream",
     "text": [
      "390/390 [==============================] - 112s 287ms/step - loss: 0.2745 - accuracy: 0.9499 - val_loss: 0.7185 - val_accuracy: 0.8433\n",
      "Epoch 332/500\n",
      "390/390 [==============================] - 113s 291ms/step - loss: 0.2728 - accuracy: 0.9506 - val_loss: 0.6861 - val_accuracy: 0.8568\n",
      "Epoch 333/500\n",
      "390/390 [==============================] - 114s 292ms/step - loss: 0.2720 - accuracy: 0.9499 - val_loss: 0.7373 - val_accuracy: 0.8420\n",
      "Epoch 334/500\n",
      "390/390 [==============================] - 113s 291ms/step - loss: 0.2694 - accuracy: 0.9522 - val_loss: 0.6462 - val_accuracy: 0.8587\n",
      "Epoch 335/500\n",
      "390/390 [==============================] - 113s 289ms/step - loss: 0.2732 - accuracy: 0.9501 - val_loss: 0.7015 - val_accuracy: 0.8469\n",
      "Epoch 336/500\n",
      "390/390 [==============================] - 111s 286ms/step - loss: 0.2731 - accuracy: 0.9498 - val_loss: 0.6470 - val_accuracy: 0.8630\n",
      "Epoch 337/500\n",
      "390/390 [==============================] - 111s 285ms/step - loss: 0.2729 - accuracy: 0.9503 - val_loss: 0.8527 - val_accuracy: 0.8240\n",
      "Epoch 338/500\n",
      "390/390 [==============================] - 111s 285ms/step - loss: 0.2708 - accuracy: 0.9513 - val_loss: 0.6755 - val_accuracy: 0.8525\n",
      "Epoch 339/500\n",
      "390/390 [==============================] - 112s 286ms/step - loss: 0.2735 - accuracy: 0.9506 - val_loss: 0.7327 - val_accuracy: 0.8424\n",
      "Epoch 340/500\n",
      "390/390 [==============================] - 111s 285ms/step - loss: 0.2710 - accuracy: 0.9513 - val_loss: 0.6720 - val_accuracy: 0.8564\n",
      "Epoch 341/500\n",
      "390/390 [==============================] - 111s 286ms/step - loss: 0.2726 - accuracy: 0.9515 - val_loss: 0.6834 - val_accuracy: 0.8543\n",
      "Epoch 342/500\n",
      "390/390 [==============================] - 111s 285ms/step - loss: 0.2674 - accuracy: 0.9522 - val_loss: 0.6595 - val_accuracy: 0.8561\n",
      "Epoch 343/500\n",
      "390/390 [==============================] - 115s 294ms/step - loss: 0.2674 - accuracy: 0.9519 - val_loss: 0.6965 - val_accuracy: 0.8480\n",
      "Epoch 344/500\n",
      "390/390 [==============================] - 128s 327ms/step - loss: 0.2742 - accuracy: 0.9498 - val_loss: 0.8320 - val_accuracy: 0.8341\n",
      "Epoch 345/500\n",
      "390/390 [==============================] - 127s 327ms/step - loss: 0.2688 - accuracy: 0.9515 - val_loss: 0.7245 - val_accuracy: 0.8485\n",
      "Epoch 346/500\n",
      "390/390 [==============================] - 122s 313ms/step - loss: 0.2741 - accuracy: 0.9487 - val_loss: 0.8742 - val_accuracy: 0.8256\n",
      "Epoch 347/500\n",
      "390/390 [==============================] - 111s 284ms/step - loss: 0.2724 - accuracy: 0.9503 - val_loss: 0.7522 - val_accuracy: 0.8332\n",
      "Epoch 348/500\n",
      "390/390 [==============================] - 111s 285ms/step - loss: 0.2677 - accuracy: 0.9521 - val_loss: 0.6746 - val_accuracy: 0.8563\n",
      "Epoch 349/500\n",
      "390/390 [==============================] - 111s 285ms/step - loss: 0.2681 - accuracy: 0.9515 - val_loss: 0.7856 - val_accuracy: 0.8296\n",
      "Epoch 350/500\n",
      "390/390 [==============================] - 111s 285ms/step - loss: 0.2669 - accuracy: 0.9532 - val_loss: 0.6581 - val_accuracy: 0.8571\n",
      "Epoch 351/500\n",
      "390/390 [==============================] - 111s 285ms/step - loss: 0.2676 - accuracy: 0.9518 - val_loss: 0.6211 - val_accuracy: 0.8610\n",
      "Epoch 352/500\n",
      "390/390 [==============================] - 111s 286ms/step - loss: 0.2686 - accuracy: 0.9524 - val_loss: 0.6593 - val_accuracy: 0.8573\n",
      "Epoch 353/500\n",
      "390/390 [==============================] - 111s 285ms/step - loss: 0.2682 - accuracy: 0.9525 - val_loss: 0.7021 - val_accuracy: 0.8523\n",
      "Epoch 354/500\n",
      "390/390 [==============================] - 124s 317ms/step - loss: 0.2672 - accuracy: 0.9532 - val_loss: 0.6965 - val_accuracy: 0.8492\n",
      "Epoch 355/500\n",
      "390/390 [==============================] - 116s 297ms/step - loss: 0.2666 - accuracy: 0.9525 - val_loss: 0.7969 - val_accuracy: 0.8292\n",
      "Epoch 356/500\n",
      "390/390 [==============================] - 110s 282ms/step - loss: 0.2659 - accuracy: 0.9533 - val_loss: 0.7062 - val_accuracy: 0.8461\n",
      "Epoch 357/500\n",
      "390/390 [==============================] - 111s 286ms/step - loss: 0.2701 - accuracy: 0.9506 - val_loss: 0.7249 - val_accuracy: 0.8499\n",
      "Epoch 358/500\n",
      "390/390 [==============================] - 110s 282ms/step - loss: 0.2630 - accuracy: 0.9538 - val_loss: 0.7024 - val_accuracy: 0.8479\n",
      "Epoch 359/500\n",
      "390/390 [==============================] - 110s 282ms/step - loss: 0.2685 - accuracy: 0.9502 - val_loss: 0.6537 - val_accuracy: 0.8627\n",
      "Epoch 360/500\n",
      "390/390 [==============================] - 110s 282ms/step - loss: 0.2691 - accuracy: 0.9515 - val_loss: 0.6930 - val_accuracy: 0.8517\n",
      "Epoch 361/500\n",
      "390/390 [==============================] - 110s 282ms/step - loss: 0.2640 - accuracy: 0.9536 - val_loss: 0.6640 - val_accuracy: 0.8533\n",
      "Epoch 362/500\n",
      "390/390 [==============================] - 110s 282ms/step - loss: 0.2663 - accuracy: 0.9527 - val_loss: 0.6400 - val_accuracy: 0.8611\n",
      "Epoch 363/500\n",
      "390/390 [==============================] - 120s 309ms/step - loss: 0.2690 - accuracy: 0.9512 - val_loss: 0.7377 - val_accuracy: 0.8530\n",
      "Epoch 364/500\n",
      "390/390 [==============================] - 127s 325ms/step - loss: 0.2642 - accuracy: 0.9536 - val_loss: 0.6716 - val_accuracy: 0.8618\n",
      "Epoch 365/500\n",
      "390/390 [==============================] - 128s 327ms/step - loss: 0.2653 - accuracy: 0.9526 - val_loss: 0.7125 - val_accuracy: 0.8529\n",
      "Epoch 366/500\n",
      "390/390 [==============================] - 128s 328ms/step - loss: 0.2677 - accuracy: 0.9509 - val_loss: 0.6676 - val_accuracy: 0.8515\n",
      "Epoch 367/500\n",
      "390/390 [==============================] - 127s 325ms/step - loss: 0.2668 - accuracy: 0.9531 - val_loss: 0.7023 - val_accuracy: 0.8529\n",
      "Epoch 368/500\n",
      "390/390 [==============================] - 111s 285ms/step - loss: 0.2694 - accuracy: 0.9504 - val_loss: 0.7458 - val_accuracy: 0.8407\n",
      "Epoch 369/500\n",
      "390/390 [==============================] - 110s 282ms/step - loss: 0.2675 - accuracy: 0.9522 - val_loss: 0.6850 - val_accuracy: 0.8518\n",
      "Epoch 370/500\n",
      "390/390 [==============================] - 109s 281ms/step - loss: 0.2644 - accuracy: 0.9527 - val_loss: 0.7056 - val_accuracy: 0.8494\n",
      "Epoch 371/500\n",
      "390/390 [==============================] - 109s 281ms/step - loss: 0.2637 - accuracy: 0.9522 - val_loss: 0.6489 - val_accuracy: 0.8566\n",
      "Epoch 372/500\n",
      "390/390 [==============================] - 109s 281ms/step - loss: 0.2659 - accuracy: 0.9526 - val_loss: 0.6922 - val_accuracy: 0.8555\n",
      "Epoch 373/500\n",
      "390/390 [==============================] - 110s 282ms/step - loss: 0.2608 - accuracy: 0.9551 - val_loss: 0.6417 - val_accuracy: 0.8606\n",
      "Epoch 374/500\n",
      "390/390 [==============================] - 109s 280ms/step - loss: 0.2644 - accuracy: 0.9535 - val_loss: 0.6931 - val_accuracy: 0.8561\n",
      "Epoch 375/500\n",
      "390/390 [==============================] - 110s 281ms/step - loss: 0.2617 - accuracy: 0.9531 - val_loss: 0.7804 - val_accuracy: 0.8321\n",
      "Epoch 376/500\n",
      "390/390 [==============================] - 109s 281ms/step - loss: 0.2647 - accuracy: 0.9525 - val_loss: 0.7794 - val_accuracy: 0.8333\n",
      "Epoch 377/500\n",
      "390/390 [==============================] - 110s 281ms/step - loss: 0.2641 - accuracy: 0.9532 - val_loss: 0.7805 - val_accuracy: 0.8368\n",
      "Epoch 378/500\n",
      "390/390 [==============================] - 109s 281ms/step - loss: 0.2666 - accuracy: 0.9517 - val_loss: 0.6105 - val_accuracy: 0.8671\n",
      "Epoch 379/500\n",
      "390/390 [==============================] - 109s 280ms/step - loss: 0.2642 - accuracy: 0.9526 - val_loss: 0.6633 - val_accuracy: 0.8573\n",
      "Epoch 380/500\n",
      "390/390 [==============================] - 109s 281ms/step - loss: 0.2619 - accuracy: 0.9539 - val_loss: 0.6349 - val_accuracy: 0.8556\n",
      "Epoch 381/500\n",
      "390/390 [==============================] - 110s 281ms/step - loss: 0.2654 - accuracy: 0.9533 - val_loss: 0.6601 - val_accuracy: 0.8625\n",
      "Epoch 382/500\n",
      "390/390 [==============================] - 109s 280ms/step - loss: 0.2633 - accuracy: 0.9530 - val_loss: 0.6633 - val_accuracy: 0.8596\n",
      "Epoch 383/500\n",
      "390/390 [==============================] - 109s 280ms/step - loss: 0.2595 - accuracy: 0.9548 - val_loss: 0.7185 - val_accuracy: 0.8444\n",
      "Epoch 384/500\n",
      "390/390 [==============================] - 110s 281ms/step - loss: 0.2650 - accuracy: 0.9528 - val_loss: 0.6608 - val_accuracy: 0.8551\n",
      "Epoch 385/500\n",
      "390/390 [==============================] - 110s 282ms/step - loss: 0.2602 - accuracy: 0.9544 - val_loss: 0.6564 - val_accuracy: 0.8623\n",
      "Epoch 386/500\n"
     ]
    },
    {
     "name": "stdout",
     "output_type": "stream",
     "text": [
      "390/390 [==============================] - 111s 285ms/step - loss: 0.2605 - accuracy: 0.9536 - val_loss: 0.7244 - val_accuracy: 0.8448\n",
      "Epoch 387/500\n",
      "390/390 [==============================] - 113s 289ms/step - loss: 0.2627 - accuracy: 0.9525 - val_loss: 0.7320 - val_accuracy: 0.8400\n",
      "Epoch 388/500\n",
      "390/390 [==============================] - 110s 281ms/step - loss: 0.2590 - accuracy: 0.9551 - val_loss: 0.7197 - val_accuracy: 0.8470\n",
      "Epoch 389/500\n",
      "390/390 [==============================] - 109s 281ms/step - loss: 0.2637 - accuracy: 0.9530 - val_loss: 0.6643 - val_accuracy: 0.8647\n",
      "Epoch 390/500\n",
      "390/390 [==============================] - 109s 281ms/step - loss: 0.2636 - accuracy: 0.9516 - val_loss: 0.7211 - val_accuracy: 0.8525\n",
      "Epoch 391/500\n",
      "390/390 [==============================] - 109s 281ms/step - loss: 0.2630 - accuracy: 0.9542 - val_loss: 0.7936 - val_accuracy: 0.8417\n",
      "Epoch 392/500\n",
      "390/390 [==============================] - 109s 280ms/step - loss: 0.2643 - accuracy: 0.9529 - val_loss: 0.6415 - val_accuracy: 0.8582\n",
      "Epoch 393/500\n",
      "390/390 [==============================] - 109s 280ms/step - loss: 0.2624 - accuracy: 0.9523 - val_loss: 0.6906 - val_accuracy: 0.8505\n",
      "Epoch 394/500\n",
      "390/390 [==============================] - 109s 280ms/step - loss: 0.2641 - accuracy: 0.9533 - val_loss: 0.7900 - val_accuracy: 0.8337\n",
      "Epoch 395/500\n",
      "390/390 [==============================] - 109s 280ms/step - loss: 0.2596 - accuracy: 0.9550 - val_loss: 0.7332 - val_accuracy: 0.8525\n",
      "Epoch 396/500\n",
      "390/390 [==============================] - 110s 281ms/step - loss: 0.2592 - accuracy: 0.9551 - val_loss: 0.7620 - val_accuracy: 0.8421\n",
      "Epoch 397/500\n",
      "390/390 [==============================] - 109s 280ms/step - loss: 0.2639 - accuracy: 0.9529 - val_loss: 0.7878 - val_accuracy: 0.8388\n",
      "Epoch 398/500\n",
      "390/390 [==============================] - 110s 282ms/step - loss: 0.2582 - accuracy: 0.9538 - val_loss: 0.7343 - val_accuracy: 0.8463\n",
      "Epoch 399/500\n",
      "390/390 [==============================] - 112s 288ms/step - loss: 0.2623 - accuracy: 0.9541 - val_loss: 0.6424 - val_accuracy: 0.8570\n",
      "Epoch 400/500\n",
      "390/390 [==============================] - 111s 285ms/step - loss: 0.2579 - accuracy: 0.9536 - val_loss: 0.7216 - val_accuracy: 0.8420\n",
      "Epoch 401/500\n",
      "390/390 [==============================] - 111s 285ms/step - loss: 0.2621 - accuracy: 0.9533 - val_loss: 0.6775 - val_accuracy: 0.8556\n",
      "Epoch 402/500\n",
      "390/390 [==============================] - 111s 285ms/step - loss: 0.2603 - accuracy: 0.9547 - val_loss: 0.7284 - val_accuracy: 0.8466\n",
      "Epoch 403/500\n",
      "390/390 [==============================] - 114s 293ms/step - loss: 0.2548 - accuracy: 0.9544 - val_loss: 0.7301 - val_accuracy: 0.8443\n",
      "Epoch 404/500\n",
      "390/390 [==============================] - 116s 297ms/step - loss: 0.2612 - accuracy: 0.9543 - val_loss: 0.7883 - val_accuracy: 0.8323\n",
      "Epoch 405/500\n",
      "390/390 [==============================] - 132s 339ms/step - loss: 0.2622 - accuracy: 0.9542 - val_loss: 0.7217 - val_accuracy: 0.8503\n",
      "Epoch 406/500\n",
      "390/390 [==============================] - 139s 357ms/step - loss: 0.2604 - accuracy: 0.9539 - val_loss: 0.6567 - val_accuracy: 0.8566\n",
      "Epoch 407/500\n",
      " 54/390 [===>..........................] - ETA: 1:32 - loss: 0.2571 - accuracy: 0.9537"
     ]
    }
   ],
   "source": [
    "batch_size=128\n",
    "model_info = model.fit_generator(\n",
    "    datagen.flow(X_train, Y_train, batch_size=batch_size),\n",
    "    steps_per_epoch=X_train.shape[0] // batch_size,\n",
    "    epochs=500,\n",
    "    validation_data=(X_test, Y_test),\n",
    ")"
   ]
  },
  {
   "cell_type": "code",
   "execution_count": null,
   "metadata": {
    "scrolled": false
   },
   "outputs": [],
   "source": [
    "import matplotlib.pyplot as plt\n",
    "plt.plot(model_info.history['accuracy'],'r')\n",
    "plt.plot(model_info.history['val_accuracy'],'b')\n",
    "plt.legend({'training accuracy':'r', 'validation accuracy': 'b'})\n",
    "plt.show()"
   ]
  },
  {
   "cell_type": "code",
   "execution_count": null,
   "metadata": {
    "scrolled": true
   },
   "outputs": [],
   "source": [
    "plt.plot(model_info.history['loss'],'r')\n",
    "plt.plot(model_info.history['val_loss'],'b')\n",
    "plt.legend({'training loss':'r', 'validation loss': 'b'})\n",
    "plt.show()"
   ]
  },
  {
   "cell_type": "code",
   "execution_count": null,
   "metadata": {},
   "outputs": [],
   "source": [
    "y_pred = model.predict_classes(X_test)"
   ]
  },
  {
   "cell_type": "code",
   "execution_count": null,
   "metadata": {},
   "outputs": [],
   "source": [
    "score = accuracy_score(y_test, y_pred)\n",
    "score"
   ]
  },
  {
   "cell_type": "code",
   "execution_count": null,
   "metadata": {
    "scrolled": false
   },
   "outputs": [],
   "source": [
    "cm = confusion_matrix(y_test, y_pred)\n",
    "cm = cm.astype('float') / cm.sum(axis=1)[:, np.newaxis]\n",
    "\n",
    "plt.figure(figsize=(10, 10))\n",
    "sns.heatmap(cm, annot=True, fmt=\".3f\", linewidths=.5, square = True, cmap = 'Blues_r');\n",
    "plt.ylabel('Actual label');\n",
    "plt.xlabel('Predicted label');\n",
    "all_sample_title = 'Overall Accuracy Score: {0}'.format(score)\n",
    "plt.title(all_sample_title, size = 15);\n",
    "plt.savefig('ConfusionMatrix_CNN_image_augmentation_4_L2_0.001_500epochs.png')\n",
    "plt.show();"
   ]
  },
  {
   "cell_type": "code",
   "execution_count": null,
   "metadata": {},
   "outputs": [],
   "source": []
  }
 ],
 "metadata": {
  "kernelspec": {
   "display_name": "Python 3",
   "language": "python",
   "name": "python3"
  },
  "language_info": {
   "codemirror_mode": {
    "name": "ipython",
    "version": 3
   },
   "file_extension": ".py",
   "mimetype": "text/x-python",
   "name": "python",
   "nbconvert_exporter": "python",
   "pygments_lexer": "ipython3",
   "version": "3.7.5"
  }
 },
 "nbformat": 4,
 "nbformat_minor": 2
}
