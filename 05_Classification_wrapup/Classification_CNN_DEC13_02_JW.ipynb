{
 "cells": [
  {
   "cell_type": "markdown",
   "metadata": {},
   "source": [
    "\n",
    "\n",
    "\n",
    "# Classification_CNN"
   ]
  },
  {
   "cell_type": "markdown",
   "metadata": {},
   "source": [
    "## Method\n",
    "\n",
    "Build Convolutional Neural Network model with Tensorflow-Keras.\n",
    "\n",
    "```\n",
    "X_train: 50000 samples\n",
    "X_test: 10000 samples\n",
    "\n",
    "batch_size: 128\n",
    "epochs: 100\n",
    "```"
   ]
  },
  {
   "cell_type": "code",
   "execution_count": 5,
   "metadata": {},
   "outputs": [],
   "source": [
    "import tensorflow as tf\n",
    "from tensorflow.keras.datasets import cifar10\n",
    "\n",
    "(X_train, y_train), (X_test, y_test) = cifar10.load_data()"
   ]
  },
  {
   "cell_type": "markdown",
   "metadata": {},
   "source": [
    "## Load dataset, Preprocessing"
   ]
  },
  {
   "cell_type": "code",
   "execution_count": 6,
   "metadata": {},
   "outputs": [],
   "source": [
    "from tensorflow.keras import utils\n",
    "from tensorflow.keras.models import Sequential\n",
    "from tensorflow.keras.layers import Dense, Activation, BatchNormalization, Convolution2D, MaxPooling2D, Flatten"
   ]
  },
  {
   "cell_type": "code",
   "execution_count": 7,
   "metadata": {},
   "outputs": [],
   "source": [
    "output_dim = nb_classes = 10\n",
    "input_dim = (32,32,3)"
   ]
  },
  {
   "cell_type": "code",
   "execution_count": 8,
   "metadata": {},
   "outputs": [
    {
     "name": "stdout",
     "output_type": "stream",
     "text": [
      "(50000, 32, 32, 3) (10000, 32, 32, 3)\n"
     ]
    }
   ],
   "source": [
    "print(X_train.shape, X_test.shape)"
   ]
  },
  {
   "cell_type": "code",
   "execution_count": 10,
   "metadata": {},
   "outputs": [],
   "source": [
    "X_train = X_train.astype('float32')\n",
    "X_test = X_test.astype('float32')\n",
    "Y_train = utils.to_categorical(y_train, nb_classes)\n",
    "Y_test = utils.to_categorical(y_test, nb_classes)"
   ]
  },
  {
   "cell_type": "code",
   "execution_count": 12,
   "metadata": {},
   "outputs": [
    {
     "name": "stdout",
     "output_type": "stream",
     "text": [
      "(32, 32, 3) (50000, 32, 32, 3) (50000, 10) (10000, 32, 32, 3) (10000, 10) 10\n"
     ]
    }
   ],
   "source": [
    "print(input_dim, X_train.shape, Y_train.shape, X_test.shape, Y_test.shape, output_dim)"
   ]
  },
  {
   "cell_type": "markdown",
   "metadata": {},
   "source": [
    "## Build Model"
   ]
  },
  {
   "cell_type": "code",
   "execution_count": 42,
   "metadata": {},
   "outputs": [],
   "source": [
    "model = Sequential()\n",
    "\n",
    "# 32,32\n",
    "model.add(Convolution2D(8,(3,3), activation='relu', input_shape=(32,32,3)))\n",
    "model.add(BatchNormalization())\n",
    "\n",
    "# 30,30\n",
    "model.add(Convolution2D(16,(3,3), activation='relu'))\n",
    "model.add(BatchNormalization())\n",
    "\n",
    "# 28,28\n",
    "model.add(MaxPooling2D(pool_size=(2,2)))\n",
    "\n",
    "# # 14,14\n",
    "model.add(Convolution2D(10,1, activation='relu'))\n",
    "\n",
    "# 14,14\n",
    "model.add(Convolution2D(16,(3,3), activation='relu'))\n",
    "model.add(BatchNormalization())\n",
    "\n",
    "# 12, 12\n",
    "model.add(MaxPooling2D(pool_size=(2,2)))\n",
    "\n",
    "model.add(Convolution2D(10, 1, activation='relu'))\n",
    "\n",
    "model.add(Convolution2D(10, 6))\n",
    "\n",
    "model.add(Flatten())\n",
    "model.add(Activation('softmax'))\n",
    "\n",
    "# model.add(Dense(output_dim, input_dim=input_dim, activation='softmax'))"
   ]
  },
  {
   "cell_type": "code",
   "execution_count": 43,
   "metadata": {
    "scrolled": false
   },
   "outputs": [
    {
     "name": "stdout",
     "output_type": "stream",
     "text": [
      "Model: \"sequential_4\"\n",
      "_________________________________________________________________\n",
      "Layer (type)                 Output Shape              Param #   \n",
      "=================================================================\n",
      "conv2d_25 (Conv2D)           (None, 30, 30, 8)         224       \n",
      "_________________________________________________________________\n",
      "batch_normalization_13 (Batc (None, 30, 30, 8)         32        \n",
      "_________________________________________________________________\n",
      "conv2d_26 (Conv2D)           (None, 28, 28, 16)        1168      \n",
      "_________________________________________________________________\n",
      "batch_normalization_14 (Batc (None, 28, 28, 16)        64        \n",
      "_________________________________________________________________\n",
      "max_pooling2d_8 (MaxPooling2 (None, 14, 14, 16)        0         \n",
      "_________________________________________________________________\n",
      "conv2d_27 (Conv2D)           (None, 14, 14, 10)        170       \n",
      "_________________________________________________________________\n",
      "conv2d_28 (Conv2D)           (None, 12, 12, 16)        1456      \n",
      "_________________________________________________________________\n",
      "batch_normalization_15 (Batc (None, 12, 12, 16)        64        \n",
      "_________________________________________________________________\n",
      "max_pooling2d_9 (MaxPooling2 (None, 6, 6, 16)          0         \n",
      "_________________________________________________________________\n",
      "conv2d_29 (Conv2D)           (None, 6, 6, 10)          170       \n",
      "_________________________________________________________________\n",
      "conv2d_30 (Conv2D)           (None, 1, 1, 10)          3610      \n",
      "_________________________________________________________________\n",
      "flatten_4 (Flatten)          (None, 10)                0         \n",
      "_________________________________________________________________\n",
      "activation_4 (Activation)    (None, 10)                0         \n",
      "=================================================================\n",
      "Total params: 6,958\n",
      "Trainable params: 6,878\n",
      "Non-trainable params: 80\n",
      "_________________________________________________________________\n"
     ]
    }
   ],
   "source": [
    "model.summary()"
   ]
  },
  {
   "cell_type": "code",
   "execution_count": 44,
   "metadata": {},
   "outputs": [],
   "source": [
    "model.compile(optimizer='sgd', loss='categorical_crossentropy', metrics=['accuracy'])"
   ]
  },
  {
   "cell_type": "code",
   "execution_count": 45,
   "metadata": {
    "scrolled": true
   },
   "outputs": [
    {
     "name": "stdout",
     "output_type": "stream",
     "text": [
      "Train on 50000 samples, validate on 10000 samples\n",
      "Epoch 1/100\n",
      "50000/50000 [==============================] - 19s 378us/sample - loss: 1.9197 - accuracy: 0.3043 - val_loss: 1.6747 - val_accuracy: 0.4021\n",
      "Epoch 2/100\n",
      "50000/50000 [==============================] - 17s 347us/sample - loss: 1.5220 - accuracy: 0.4529 - val_loss: 1.5336 - val_accuracy: 0.4463\n",
      "Epoch 3/100\n",
      "50000/50000 [==============================] - 17s 343us/sample - loss: 1.4061 - accuracy: 0.4974 - val_loss: 1.4946 - val_accuracy: 0.4629\n",
      "Epoch 4/100\n",
      "50000/50000 [==============================] - 17s 343us/sample - loss: 1.3418 - accuracy: 0.5232 - val_loss: 1.3423 - val_accuracy: 0.5206\n",
      "Epoch 5/100\n",
      "50000/50000 [==============================] - 17s 346us/sample - loss: 1.2990 - accuracy: 0.5405 - val_loss: 1.4571 - val_accuracy: 0.4978\n",
      "Epoch 6/100\n",
      "50000/50000 [==============================] - 17s 339us/sample - loss: 1.2652 - accuracy: 0.5515 - val_loss: 1.4092 - val_accuracy: 0.5031\n",
      "Epoch 7/100\n",
      "50000/50000 [==============================] - 17s 343us/sample - loss: 1.2384 - accuracy: 0.5616 - val_loss: 1.2456 - val_accuracy: 0.5622\n",
      "Epoch 8/100\n",
      "50000/50000 [==============================] - 17s 342us/sample - loss: 1.2101 - accuracy: 0.5731 - val_loss: 1.2917 - val_accuracy: 0.5397\n",
      "Epoch 9/100\n",
      "50000/50000 [==============================] - 17s 338us/sample - loss: 1.1871 - accuracy: 0.5823 - val_loss: 1.2444 - val_accuracy: 0.5678\n",
      "Epoch 10/100\n",
      "50000/50000 [==============================] - 17s 343us/sample - loss: 1.1660 - accuracy: 0.5878 - val_loss: 1.1928 - val_accuracy: 0.5867\n",
      "Epoch 11/100\n",
      "50000/50000 [==============================] - 17s 346us/sample - loss: 1.1453 - accuracy: 0.5974 - val_loss: 1.2333 - val_accuracy: 0.5730\n",
      "Epoch 12/100\n",
      "50000/50000 [==============================] - 17s 343us/sample - loss: 1.1281 - accuracy: 0.6030 - val_loss: 1.1820 - val_accuracy: 0.5860\n",
      "Epoch 13/100\n",
      "50000/50000 [==============================] - 17s 342us/sample - loss: 1.1102 - accuracy: 0.6079 - val_loss: 1.1701 - val_accuracy: 0.5865\n",
      "Epoch 14/100\n",
      "50000/50000 [==============================] - 17s 340us/sample - loss: 1.0961 - accuracy: 0.6131 - val_loss: 1.2229 - val_accuracy: 0.5783\n",
      "Epoch 15/100\n",
      "50000/50000 [==============================] - 17s 340us/sample - loss: 1.0800 - accuracy: 0.6193 - val_loss: 1.1526 - val_accuracy: 0.5957\n",
      "Epoch 16/100\n",
      "50000/50000 [==============================] - 17s 341us/sample - loss: 1.0685 - accuracy: 0.6229 - val_loss: 1.1572 - val_accuracy: 0.5956\n",
      "Epoch 17/100\n",
      "50000/50000 [==============================] - 17s 339us/sample - loss: 1.0553 - accuracy: 0.6293 - val_loss: 1.1116 - val_accuracy: 0.6127\n",
      "Epoch 18/100\n",
      "50000/50000 [==============================] - 17s 336us/sample - loss: 1.0428 - accuracy: 0.6316 - val_loss: 1.1567 - val_accuracy: 0.5951\n",
      "Epoch 19/100\n",
      "50000/50000 [==============================] - 17s 342us/sample - loss: 1.0321 - accuracy: 0.6364 - val_loss: 1.1002 - val_accuracy: 0.6128\n",
      "Epoch 20/100\n",
      "50000/50000 [==============================] - 17s 337us/sample - loss: 1.0211 - accuracy: 0.6416 - val_loss: 1.1011 - val_accuracy: 0.6101\n",
      "Epoch 21/100\n",
      "50000/50000 [==============================] - 17s 343us/sample - loss: 1.0122 - accuracy: 0.6440 - val_loss: 1.0736 - val_accuracy: 0.6208\n",
      "Epoch 22/100\n",
      "50000/50000 [==============================] - 17s 339us/sample - loss: 1.0023 - accuracy: 0.6483 - val_loss: 1.0968 - val_accuracy: 0.6148\n",
      "Epoch 23/100\n",
      "50000/50000 [==============================] - 17s 343us/sample - loss: 0.9927 - accuracy: 0.6510 - val_loss: 1.0625 - val_accuracy: 0.6242\n",
      "Epoch 24/100\n",
      "50000/50000 [==============================] - 17s 341us/sample - loss: 0.9862 - accuracy: 0.6546 - val_loss: 1.0996 - val_accuracy: 0.6180\n",
      "Epoch 25/100\n",
      "50000/50000 [==============================] - 17s 343us/sample - loss: 0.9780 - accuracy: 0.6561 - val_loss: 1.0848 - val_accuracy: 0.6141\n",
      "Epoch 26/100\n",
      "50000/50000 [==============================] - 17s 339us/sample - loss: 0.9706 - accuracy: 0.6598 - val_loss: 1.0592 - val_accuracy: 0.6195\n",
      "Epoch 27/100\n",
      "50000/50000 [==============================] - 17s 345us/sample - loss: 0.9650 - accuracy: 0.6595 - val_loss: 1.0588 - val_accuracy: 0.6294\n",
      "Epoch 28/100\n",
      "50000/50000 [==============================] - 17s 340us/sample - loss: 0.9576 - accuracy: 0.6631 - val_loss: 1.0448 - val_accuracy: 0.6325\n",
      "Epoch 29/100\n",
      "50000/50000 [==============================] - 17s 344us/sample - loss: 0.9506 - accuracy: 0.6657 - val_loss: 1.0366 - val_accuracy: 0.6334\n",
      "Epoch 30/100\n",
      "50000/50000 [==============================] - 17s 343us/sample - loss: 0.9451 - accuracy: 0.6674 - val_loss: 1.0405 - val_accuracy: 0.6315\n",
      "Epoch 31/100\n",
      "50000/50000 [==============================] - 17s 341us/sample - loss: 0.9388 - accuracy: 0.6678 - val_loss: 1.1111 - val_accuracy: 0.6132\n",
      "Epoch 32/100\n",
      "50000/50000 [==============================] - 17s 338us/sample - loss: 0.9336 - accuracy: 0.6727 - val_loss: 1.0163 - val_accuracy: 0.6428\n",
      "Epoch 33/100\n",
      "50000/50000 [==============================] - 17s 341us/sample - loss: 0.9297 - accuracy: 0.6728 - val_loss: 1.0849 - val_accuracy: 0.6221\n",
      "Epoch 34/100\n",
      "50000/50000 [==============================] - 17s 339us/sample - loss: 0.9246 - accuracy: 0.6735 - val_loss: 1.0282 - val_accuracy: 0.6417\n",
      "Epoch 35/100\n",
      "50000/50000 [==============================] - 17s 342us/sample - loss: 0.9202 - accuracy: 0.6760 - val_loss: 1.0134 - val_accuracy: 0.6480\n",
      "Epoch 36/100\n",
      "50000/50000 [==============================] - 17s 341us/sample - loss: 0.9154 - accuracy: 0.6782 - val_loss: 1.0197 - val_accuracy: 0.6454\n",
      "Epoch 37/100\n",
      "50000/50000 [==============================] - 17s 340us/sample - loss: 0.9118 - accuracy: 0.6806 - val_loss: 1.0185 - val_accuracy: 0.6450\n",
      "Epoch 38/100\n",
      "50000/50000 [==============================] - 17s 341us/sample - loss: 0.9067 - accuracy: 0.6815 - val_loss: 1.0719 - val_accuracy: 0.6217\n",
      "Epoch 39/100\n",
      "50000/50000 [==============================] - 17s 344us/sample - loss: 0.9027 - accuracy: 0.6827 - val_loss: 1.0401 - val_accuracy: 0.6379\n",
      "Epoch 40/100\n",
      "50000/50000 [==============================] - 17s 339us/sample - loss: 0.8982 - accuracy: 0.6832 - val_loss: 0.9932 - val_accuracy: 0.6511\n",
      "Epoch 41/100\n",
      "50000/50000 [==============================] - 17s 344us/sample - loss: 0.8948 - accuracy: 0.6845 - val_loss: 1.0741 - val_accuracy: 0.6267\n",
      "Epoch 42/100\n",
      "50000/50000 [==============================] - 17s 343us/sample - loss: 0.8917 - accuracy: 0.6860 - val_loss: 1.0545 - val_accuracy: 0.6328\n",
      "Epoch 43/100\n",
      "50000/50000 [==============================] - 17s 341us/sample - loss: 0.8873 - accuracy: 0.6868 - val_loss: 1.0111 - val_accuracy: 0.6475\n",
      "Epoch 44/100\n",
      "50000/50000 [==============================] - 17s 341us/sample - loss: 0.8844 - accuracy: 0.6878 - val_loss: 0.9794 - val_accuracy: 0.6544\n",
      "Epoch 45/100\n",
      "50000/50000 [==============================] - 17s 343us/sample - loss: 0.8802 - accuracy: 0.6916 - val_loss: 1.0220 - val_accuracy: 0.6437\n",
      "Epoch 46/100\n",
      "50000/50000 [==============================] - 17s 342us/sample - loss: 0.8769 - accuracy: 0.6911 - val_loss: 1.0382 - val_accuracy: 0.6383\n",
      "Epoch 47/100\n",
      "50000/50000 [==============================] - 17s 343us/sample - loss: 0.8731 - accuracy: 0.6942 - val_loss: 0.9928 - val_accuracy: 0.6567\n",
      "Epoch 48/100\n",
      "50000/50000 [==============================] - 17s 347us/sample - loss: 0.8703 - accuracy: 0.6929 - val_loss: 1.0306 - val_accuracy: 0.6443\n",
      "Epoch 49/100\n",
      "50000/50000 [==============================] - 18s 352us/sample - loss: 0.8682 - accuracy: 0.6948 - val_loss: 0.9951 - val_accuracy: 0.6501\n",
      "Epoch 50/100\n",
      "50000/50000 [==============================] - 17s 341us/sample - loss: 0.8649 - accuracy: 0.6951 - val_loss: 1.0518 - val_accuracy: 0.6331\n",
      "Epoch 51/100\n",
      "50000/50000 [==============================] - 17s 344us/sample - loss: 0.8629 - accuracy: 0.6967 - val_loss: 0.9674 - val_accuracy: 0.6617\n",
      "Epoch 52/100\n",
      "50000/50000 [==============================] - 17s 341us/sample - loss: 0.8588 - accuracy: 0.6974 - val_loss: 1.0188 - val_accuracy: 0.6458\n",
      "Epoch 53/100\n",
      "50000/50000 [==============================] - 17s 346us/sample - loss: 0.8574 - accuracy: 0.6982 - val_loss: 0.9546 - val_accuracy: 0.6657\n",
      "Epoch 54/100\n",
      "50000/50000 [==============================] - 17s 338us/sample - loss: 0.8541 - accuracy: 0.6997 - val_loss: 0.9716 - val_accuracy: 0.6655\n",
      "Epoch 55/100\n",
      "50000/50000 [==============================] - 17s 341us/sample - loss: 0.8506 - accuracy: 0.7012 - val_loss: 0.9851 - val_accuracy: 0.6578\n",
      "Epoch 56/100\n",
      "50000/50000 [==============================] - 17s 342us/sample - loss: 0.8489 - accuracy: 0.7023 - val_loss: 0.9895 - val_accuracy: 0.6552\n",
      "Epoch 57/100\n",
      "50000/50000 [==============================] - 17s 342us/sample - loss: 0.8457 - accuracy: 0.7016 - val_loss: 0.9634 - val_accuracy: 0.6662\n",
      "Epoch 58/100\n",
      "50000/50000 [==============================] - 17s 341us/sample - loss: 0.8435 - accuracy: 0.7038 - val_loss: 1.0026 - val_accuracy: 0.6508\n",
      "Epoch 59/100\n",
      "50000/50000 [==============================] - 17s 342us/sample - loss: 0.8422 - accuracy: 0.7027 - val_loss: 0.9472 - val_accuracy: 0.6695\n",
      "Epoch 60/100\n",
      "50000/50000 [==============================] - 17s 339us/sample - loss: 0.8413 - accuracy: 0.7039 - val_loss: 0.9953 - val_accuracy: 0.6528\n",
      "Epoch 61/100\n",
      "50000/50000 [==============================] - 17s 346us/sample - loss: 0.8387 - accuracy: 0.7049 - val_loss: 0.9816 - val_accuracy: 0.6582\n",
      "Epoch 62/100\n",
      "50000/50000 [==============================] - 17s 344us/sample - loss: 0.8349 - accuracy: 0.7054 - val_loss: 0.9525 - val_accuracy: 0.6668\n",
      "Epoch 63/100\n",
      "50000/50000 [==============================] - 17s 341us/sample - loss: 0.8338 - accuracy: 0.7090 - val_loss: 0.9393 - val_accuracy: 0.6716\n",
      "Epoch 64/100\n",
      "50000/50000 [==============================] - 17s 345us/sample - loss: 0.8321 - accuracy: 0.7080 - val_loss: 1.0123 - val_accuracy: 0.6455\n",
      "Epoch 65/100\n",
      "50000/50000 [==============================] - 18s 356us/sample - loss: 0.8302 - accuracy: 0.7096 - val_loss: 1.0006 - val_accuracy: 0.6500\n",
      "Epoch 66/100\n",
      "50000/50000 [==============================] - 17s 348us/sample - loss: 0.8299 - accuracy: 0.7080 - val_loss: 1.0054 - val_accuracy: 0.6492\n",
      "Epoch 67/100\n",
      "50000/50000 [==============================] - 17s 347us/sample - loss: 0.8261 - accuracy: 0.7103 - val_loss: 0.9451 - val_accuracy: 0.6696\n",
      "Epoch 68/100\n",
      "50000/50000 [==============================] - 17s 338us/sample - loss: 0.8264 - accuracy: 0.7107 - val_loss: 0.9540 - val_accuracy: 0.6673\n",
      "Epoch 69/100\n",
      "50000/50000 [==============================] - 17s 343us/sample - loss: 0.8247 - accuracy: 0.7104 - val_loss: 0.9567 - val_accuracy: 0.6676\n",
      "Epoch 70/100\n",
      "50000/50000 [==============================] - 17s 341us/sample - loss: 0.8219 - accuracy: 0.7123 - val_loss: 0.9529 - val_accuracy: 0.6742\n",
      "Epoch 71/100\n",
      "50000/50000 [==============================] - 17s 342us/sample - loss: 0.8207 - accuracy: 0.7125 - val_loss: 1.0010 - val_accuracy: 0.6560\n",
      "Epoch 72/100\n",
      "50000/50000 [==============================] - 17s 343us/sample - loss: 0.8178 - accuracy: 0.7134 - val_loss: 0.9353 - val_accuracy: 0.6760\n",
      "Epoch 73/100\n",
      "50000/50000 [==============================] - 17s 343us/sample - loss: 0.8171 - accuracy: 0.7135 - val_loss: 0.9418 - val_accuracy: 0.6721\n",
      "Epoch 74/100\n",
      "50000/50000 [==============================] - 17s 338us/sample - loss: 0.8163 - accuracy: 0.7134 - val_loss: 0.9421 - val_accuracy: 0.6745\n",
      "Epoch 75/100\n",
      "50000/50000 [==============================] - 17s 340us/sample - loss: 0.8143 - accuracy: 0.7135 - val_loss: 0.9613 - val_accuracy: 0.6679\n",
      "Epoch 76/100\n",
      "50000/50000 [==============================] - 17s 338us/sample - loss: 0.8116 - accuracy: 0.7155 - val_loss: 0.9552 - val_accuracy: 0.6691\n",
      "Epoch 77/100\n",
      "50000/50000 [==============================] - 17s 338us/sample - loss: 0.8091 - accuracy: 0.7156 - val_loss: 0.9440 - val_accuracy: 0.6719\n",
      "Epoch 78/100\n",
      "50000/50000 [==============================] - 17s 340us/sample - loss: 0.8090 - accuracy: 0.7169 - val_loss: 0.9571 - val_accuracy: 0.6688\n",
      "Epoch 79/100\n",
      "50000/50000 [==============================] - 17s 341us/sample - loss: 0.8073 - accuracy: 0.7190 - val_loss: 0.9766 - val_accuracy: 0.6658\n",
      "Epoch 80/100\n",
      "50000/50000 [==============================] - 17s 337us/sample - loss: 0.8051 - accuracy: 0.7174 - val_loss: 0.9412 - val_accuracy: 0.6731\n",
      "Epoch 81/100\n",
      "50000/50000 [==============================] - 17s 341us/sample - loss: 0.8046 - accuracy: 0.7198 - val_loss: 0.9606 - val_accuracy: 0.6678\n",
      "Epoch 82/100\n",
      "50000/50000 [==============================] - 17s 338us/sample - loss: 0.8030 - accuracy: 0.7168 - val_loss: 0.9411 - val_accuracy: 0.6717\n",
      "Epoch 83/100\n",
      "50000/50000 [==============================] - 17s 342us/sample - loss: 0.8016 - accuracy: 0.7170 - val_loss: 0.9460 - val_accuracy: 0.6737\n",
      "Epoch 84/100\n",
      "50000/50000 [==============================] - 17s 338us/sample - loss: 0.8030 - accuracy: 0.7187 - val_loss: 0.9339 - val_accuracy: 0.6766\n",
      "Epoch 85/100\n",
      "50000/50000 [==============================] - 17s 339us/sample - loss: 0.8010 - accuracy: 0.7183 - val_loss: 0.9768 - val_accuracy: 0.6618\n",
      "Epoch 86/100\n",
      "50000/50000 [==============================] - 18s 366us/sample - loss: 0.8000 - accuracy: 0.7187 - val_loss: 0.9985 - val_accuracy: 0.6557\n",
      "Epoch 87/100\n",
      "50000/50000 [==============================] - 18s 350us/sample - loss: 0.7978 - accuracy: 0.7195 - val_loss: 0.9523 - val_accuracy: 0.6703\n",
      "Epoch 88/100\n",
      "50000/50000 [==============================] - 17s 345us/sample - loss: 0.7952 - accuracy: 0.7195 - val_loss: 0.9607 - val_accuracy: 0.6728\n",
      "Epoch 89/100\n",
      "50000/50000 [==============================] - 17s 344us/sample - loss: 0.7944 - accuracy: 0.7208 - val_loss: 0.9528 - val_accuracy: 0.6677\n",
      "Epoch 90/100\n",
      "50000/50000 [==============================] - 17s 339us/sample - loss: 0.7930 - accuracy: 0.7211 - val_loss: 0.9409 - val_accuracy: 0.6732\n",
      "Epoch 91/100\n",
      "50000/50000 [==============================] - 17s 342us/sample - loss: 0.7926 - accuracy: 0.7212 - val_loss: 0.9681 - val_accuracy: 0.6660\n",
      "Epoch 92/100\n",
      "50000/50000 [==============================] - 17s 340us/sample - loss: 0.7911 - accuracy: 0.7222 - val_loss: 0.9270 - val_accuracy: 0.6775\n",
      "Epoch 93/100\n",
      "50000/50000 [==============================] - 17s 343us/sample - loss: 0.7904 - accuracy: 0.7217 - val_loss: 0.9205 - val_accuracy: 0.6824\n",
      "Epoch 94/100\n",
      "50000/50000 [==============================] - 17s 336us/sample - loss: 0.7897 - accuracy: 0.7229 - val_loss: 0.9302 - val_accuracy: 0.6810\n",
      "Epoch 95/100\n",
      "50000/50000 [==============================] - 17s 341us/sample - loss: 0.7877 - accuracy: 0.7230 - val_loss: 0.9382 - val_accuracy: 0.6742\n",
      "Epoch 96/100\n",
      "50000/50000 [==============================] - 17s 337us/sample - loss: 0.7858 - accuracy: 0.7240 - val_loss: 0.9312 - val_accuracy: 0.6789\n",
      "Epoch 97/100\n",
      "50000/50000 [==============================] - 17s 346us/sample - loss: 0.7850 - accuracy: 0.7231 - val_loss: 0.9582 - val_accuracy: 0.6730\n",
      "Epoch 98/100\n",
      "50000/50000 [==============================] - 17s 340us/sample - loss: 0.7851 - accuracy: 0.7253 - val_loss: 0.9194 - val_accuracy: 0.6792\n",
      "Epoch 99/100\n",
      "50000/50000 [==============================] - 17s 348us/sample - loss: 0.7823 - accuracy: 0.7253 - val_loss: 0.9545 - val_accuracy: 0.6705\n",
      "Epoch 100/100\n",
      "50000/50000 [==============================] - 17s 343us/sample - loss: 0.7825 - accuracy: 0.7251 - val_loss: 0.9307 - val_accuracy: 0.6778\n",
      "Test error: 0.9307232022285461\n",
      "Test accuracy: 0.6778\n"
     ]
    }
   ],
   "source": [
    "batch_size=128\n",
    "epochs=100\n",
    "history_3 = model.fit(X_train, Y_train,\n",
    "                    batch_size=batch_size, epochs=epochs,\n",
    "                    verbose=1, validation_data=(X_test, Y_test))\n",
    "score = model.evaluate(X_test, Y_test, verbose=0) \n",
    "print('Test error:', score[0]) \n",
    "print('Test accuracy:', score[1])"
   ]
  },
  {
   "cell_type": "code",
   "execution_count": 46,
   "metadata": {
    "scrolled": true
   },
   "outputs": [
    {
     "data": {
      "image/png": "[encoded data removed]",
      "text/plain": [
       "<Figure size 432x288 with 1 Axes>"
      ]
     },
     "metadata": {
      "needs_background": "light"
     },
     "output_type": "display_data"
    }
   ],
   "source": [
    "plt.plot(history_3.history['accuracy'],'r')\n",
    "plt.plot(history_3.history['val_accuracy'],'b')\n",
    "plt.legend({'training accuracy':'r', 'validation accuracy': 'b'})\n",
    "plt.show()"
   ]
  },
  {
   "cell_type": "code",
   "execution_count": 47,
   "metadata": {},
   "outputs": [
    {
     "data": {
      "image/png": "[encoded data removed]",
      "text/plain": [
       "<Figure size 432x288 with 1 Axes>"
      ]
     },
     "metadata": {
      "needs_background": "light"
     },
     "output_type": "display_data"
    }
   ],
   "source": [
    "plt.plot(history_3.history['loss'],'r')\n",
    "plt.plot(history_3.history['val_loss'],'b')\n",
    "plt.legend({'training loss':'r', 'validation loss': 'b'})\n",
    "plt.show()"
   ]
  },
  {
   "cell_type": "code",
   "execution_count": 48,
   "metadata": {},
   "outputs": [],
   "source": [
    "predictions_3 = model.predict_classes(X_test)"
   ]
  },
  {
   "cell_type": "code",
   "execution_count": null,
   "metadata": {},
   "outputs": [],
   "source": []
  },
  {
   "cell_type": "markdown",
   "metadata": {},
   "source": [
    "## arch 3 large parm"
   ]
  },
  {
   "cell_type": "code",
   "execution_count": 20,
   "metadata": {},
   "outputs": [],
   "source": [
    "model = Sequential()\n",
    "\n",
    "# 32,32\n",
    "model.add(Convolution2D(16,(3,3), activation='relu', input_shape=(32,32,3), padding='same'))\n",
    "model.add(BatchNormalization())\n",
    "\n",
    "# 30,30\n",
    "model.add(Convolution2D(32,(3,3), activation='relu'))\n",
    "model.add(BatchNormalization())\n",
    "\n",
    "# 28,28\n",
    "model.add(MaxPooling2D(pool_size=(2,2)))\n",
    "\n",
    "# # 14,14\n",
    "model.add(Convolution2D(24,1, activation='relu'))\n",
    "\n",
    "# 14,14\n",
    "model.add(Convolution2D(64,(3,3), activation='relu', padding='same'))\n",
    "model.add(BatchNormalization())\n",
    "\n",
    "# 12, 12\n",
    "model.add(Convolution2D(128,(3,3), activation='relu'))\n",
    "model.add(BatchNormalization())\n",
    "\n",
    "model.add(MaxPooling2D(pool_size=(2,2)))\n",
    "\n",
    "model.add(Convolution2D(64, 1, activation='relu'))\n",
    "\n",
    "model.add(Convolution2D(256,(3,3), activation='relu'))\n",
    "model.add(BatchNormalization())\n",
    "\n",
    "model.add(Convolution2D(10, 4))\n",
    "\n",
    "model.add(Flatten())\n",
    "model.add(Activation('softmax'))\n"
   ]
  },
  {
   "cell_type": "code",
   "execution_count": 21,
   "metadata": {
    "scrolled": false
   },
   "outputs": [
    {
     "name": "stdout",
     "output_type": "stream",
     "text": [
      "Model: \"sequential_6\"\n",
      "_________________________________________________________________\n",
      "Layer (type)                 Output Shape              Param #   \n",
      "=================================================================\n",
      "conv2d_42 (Conv2D)           (None, 32, 32, 16)        448       \n",
      "_________________________________________________________________\n",
      "batch_normalization_24 (Batc (None, 32, 32, 16)        64        \n",
      "_________________________________________________________________\n",
      "conv2d_43 (Conv2D)           (None, 30, 30, 32)        4640      \n",
      "_________________________________________________________________\n",
      "batch_normalization_25 (Batc (None, 30, 30, 32)        128       \n",
      "_________________________________________________________________\n",
      "max_pooling2d_12 (MaxPooling (None, 15, 15, 32)        0         \n",
      "_________________________________________________________________\n",
      "conv2d_44 (Conv2D)           (None, 15, 15, 24)        792       \n",
      "_________________________________________________________________\n",
      "conv2d_45 (Conv2D)           (None, 15, 15, 64)        13888     \n",
      "_________________________________________________________________\n",
      "batch_normalization_26 (Batc (None, 15, 15, 64)        256       \n",
      "_________________________________________________________________\n",
      "conv2d_46 (Conv2D)           (None, 13, 13, 128)       73856     \n",
      "_________________________________________________________________\n",
      "batch_normalization_27 (Batc (None, 13, 13, 128)       512       \n",
      "_________________________________________________________________\n",
      "max_pooling2d_13 (MaxPooling (None, 6, 6, 128)         0         \n",
      "_________________________________________________________________\n",
      "conv2d_47 (Conv2D)           (None, 6, 6, 64)          8256      \n",
      "_________________________________________________________________\n",
      "conv2d_48 (Conv2D)           (None, 4, 4, 256)         147712    \n",
      "_________________________________________________________________\n",
      "batch_normalization_28 (Batc (None, 4, 4, 256)         1024      \n",
      "_________________________________________________________________\n",
      "conv2d_49 (Conv2D)           (None, 1, 1, 10)          40970     \n",
      "_________________________________________________________________\n",
      "flatten_4 (Flatten)          (None, 10)                0         \n",
      "_________________________________________________________________\n",
      "activation_4 (Activation)    (None, 10)                0         \n",
      "=================================================================\n",
      "Total params: 292,546\n",
      "Trainable params: 291,554\n",
      "Non-trainable params: 992\n",
      "_________________________________________________________________\n"
     ]
    }
   ],
   "source": [
    "model.summary()"
   ]
  },
  {
   "cell_type": "code",
   "execution_count": 22,
   "metadata": {},
   "outputs": [],
   "source": [
    "model.compile(optimizer='sgd', loss='categorical_crossentropy', metrics=['accuracy'])"
   ]
  },
  {
   "cell_type": "code",
   "execution_count": 23,
   "metadata": {
    "scrolled": true
   },
   "outputs": [
    {
     "name": "stdout",
     "output_type": "stream",
     "text": [
      "Train on 50000 samples, validate on 10000 samples\n",
      "Epoch 1/100\n",
      "50000/50000 [==============================] - 65s 1ms/sample - loss: 1.5786 - accuracy: 0.4507 - val_loss: 1.3804 - val_accuracy: 0.5125\n",
      "Epoch 2/100\n",
      "50000/50000 [==============================] - 59s 1ms/sample - loss: 1.1060 - accuracy: 0.6114 - val_loss: 1.3714 - val_accuracy: 0.5448\n",
      "Epoch 3/100\n",
      "50000/50000 [==============================] - 58s 1ms/sample - loss: 0.9292 - accuracy: 0.6753 - val_loss: 1.0764 - val_accuracy: 0.6262\n",
      "Epoch 4/100\n",
      "50000/50000 [==============================] - 58s 1ms/sample - loss: 0.8119 - accuracy: 0.7174 - val_loss: 1.0816 - val_accuracy: 0.6237\n",
      "Epoch 5/100\n",
      "50000/50000 [==============================] - 58s 1ms/sample - loss: 0.7203 - accuracy: 0.7519 - val_loss: 1.0177 - val_accuracy: 0.6557\n",
      "Epoch 6/100\n",
      "50000/50000 [==============================] - 58s 1ms/sample - loss: 0.6402 - accuracy: 0.7798 - val_loss: 1.0469 - val_accuracy: 0.6598\n",
      "Epoch 7/100\n",
      "50000/50000 [==============================] - 58s 1ms/sample - loss: 0.5717 - accuracy: 0.8042 - val_loss: 0.9729 - val_accuracy: 0.6711\n",
      "Epoch 8/100\n",
      "50000/50000 [==============================] - 58s 1ms/sample - loss: 0.5110 - accuracy: 0.8276 - val_loss: 0.9334 - val_accuracy: 0.6874\n",
      "Epoch 9/100\n",
      "50000/50000 [==============================] - 58s 1ms/sample - loss: 0.4581 - accuracy: 0.8480 - val_loss: 0.9645 - val_accuracy: 0.6931\n",
      "Epoch 10/100\n",
      "50000/50000 [==============================] - 58s 1ms/sample - loss: 0.4015 - accuracy: 0.8714 - val_loss: 0.9746 - val_accuracy: 0.6823\n",
      "Epoch 11/100\n",
      "50000/50000 [==============================] - 58s 1ms/sample - loss: 0.3525 - accuracy: 0.8896 - val_loss: 1.0180 - val_accuracy: 0.6797\n",
      "Epoch 12/100\n",
      "50000/50000 [==============================] - 58s 1ms/sample - loss: 0.3093 - accuracy: 0.9065 - val_loss: 0.9988 - val_accuracy: 0.6872\n",
      "Epoch 13/100\n",
      "50000/50000 [==============================] - 58s 1ms/sample - loss: 0.2664 - accuracy: 0.9244 - val_loss: 1.0137 - val_accuracy: 0.6893\n",
      "Epoch 14/100\n",
      "50000/50000 [==============================] - 58s 1ms/sample - loss: 0.2280 - accuracy: 0.9372 - val_loss: 1.0102 - val_accuracy: 0.6937\n",
      "Epoch 15/100\n",
      "50000/50000 [==============================] - 60s 1ms/sample - loss: 0.1927 - accuracy: 0.9532 - val_loss: 1.0436 - val_accuracy: 0.6929\n",
      "Epoch 16/100\n",
      "50000/50000 [==============================] - 58s 1ms/sample - loss: 0.1645 - accuracy: 0.9647 - val_loss: 1.0700 - val_accuracy: 0.6890\n",
      "Epoch 17/100\n",
      "50000/50000 [==============================] - 58s 1ms/sample - loss: 0.1353 - accuracy: 0.9739 - val_loss: 1.0387 - val_accuracy: 0.7020\n",
      "Epoch 18/100\n",
      "50000/50000 [==============================] - 58s 1ms/sample - loss: 0.1149 - accuracy: 0.9812 - val_loss: 1.0726 - val_accuracy: 0.6998\n",
      "Epoch 19/100\n",
      "50000/50000 [==============================] - 58s 1ms/sample - loss: 0.0939 - accuracy: 0.9877 - val_loss: 1.0717 - val_accuracy: 0.7025\n",
      "Epoch 20/100\n",
      "50000/50000 [==============================] - 58s 1ms/sample - loss: 0.0798 - accuracy: 0.9919 - val_loss: 1.0760 - val_accuracy: 0.7064\n",
      "Epoch 21/100\n",
      "50000/50000 [==============================] - 58s 1ms/sample - loss: 0.0658 - accuracy: 0.9954 - val_loss: 1.1226 - val_accuracy: 0.7077\n",
      "Epoch 22/100\n",
      "50000/50000 [==============================] - 58s 1ms/sample - loss: 0.0564 - accuracy: 0.9969 - val_loss: 1.1706 - val_accuracy: 0.6901\n",
      "Epoch 23/100\n",
      "50000/50000 [==============================] - 58s 1ms/sample - loss: 0.0477 - accuracy: 0.9981 - val_loss: 1.1455 - val_accuracy: 0.7021\n",
      "Epoch 24/100\n",
      "50000/50000 [==============================] - 58s 1ms/sample - loss: 0.0412 - accuracy: 0.9989 - val_loss: 1.1369 - val_accuracy: 0.7075\n",
      "Epoch 25/100\n",
      "50000/50000 [==============================] - 58s 1ms/sample - loss: 0.0367 - accuracy: 0.9992 - val_loss: 1.1341 - val_accuracy: 0.7104\n",
      "Epoch 26/100\n",
      "50000/50000 [==============================] - 58s 1ms/sample - loss: 0.0318 - accuracy: 0.9995 - val_loss: 1.1661 - val_accuracy: 0.7070\n",
      "Epoch 27/100\n",
      "50000/50000 [==============================] - 58s 1ms/sample - loss: 0.0281 - accuracy: 0.9997 - val_loss: 1.1657 - val_accuracy: 0.7055\n",
      "Epoch 28/100\n",
      "50000/50000 [==============================] - 58s 1ms/sample - loss: 0.0253 - accuracy: 0.9998 - val_loss: 1.1693 - val_accuracy: 0.7055\n",
      "Epoch 29/100\n",
      "50000/50000 [==============================] - 58s 1ms/sample - loss: 0.0231 - accuracy: 0.9998 - val_loss: 1.1862 - val_accuracy: 0.7087\n",
      "Epoch 30/100\n",
      "50000/50000 [==============================] - 58s 1ms/sample - loss: 0.0211 - accuracy: 0.9999 - val_loss: 1.1968 - val_accuracy: 0.7100\n",
      "Epoch 31/100\n",
      "50000/50000 [==============================] - 58s 1ms/sample - loss: 0.0192 - accuracy: 1.0000 - val_loss: 1.2042 - val_accuracy: 0.7092\n",
      "Epoch 32/100\n",
      "50000/50000 [==============================] - 58s 1ms/sample - loss: 0.0174 - accuracy: 1.0000 - val_loss: 1.2124 - val_accuracy: 0.7096\n",
      "Epoch 33/100\n",
      "50000/50000 [==============================] - 58s 1ms/sample - loss: 0.0167 - accuracy: 0.9999 - val_loss: 1.2121 - val_accuracy: 0.7124\n",
      "Epoch 34/100\n",
      "50000/50000 [==============================] - 58s 1ms/sample - loss: 0.0153 - accuracy: 1.0000 - val_loss: 1.2243 - val_accuracy: 0.7121\n",
      "Epoch 35/100\n",
      "50000/50000 [==============================] - 58s 1ms/sample - loss: 0.0148 - accuracy: 1.0000 - val_loss: 1.2332 - val_accuracy: 0.7140\n",
      "Epoch 36/100\n",
      "50000/50000 [==============================] - 58s 1ms/sample - loss: 0.0135 - accuracy: 1.0000 - val_loss: 1.2344 - val_accuracy: 0.7147\n",
      "Epoch 37/100\n",
      "50000/50000 [==============================] - 58s 1ms/sample - loss: 0.0127 - accuracy: 1.0000 - val_loss: 1.2502 - val_accuracy: 0.7137\n",
      "Epoch 38/100\n",
      "50000/50000 [==============================] - 58s 1ms/sample - loss: 0.0121 - accuracy: 1.0000 - val_loss: 1.2414 - val_accuracy: 0.7141\n",
      "Epoch 39/100\n",
      "50000/50000 [==============================] - 58s 1ms/sample - loss: 0.0116 - accuracy: 1.0000 - val_loss: 1.2587 - val_accuracy: 0.7105\n",
      "Epoch 40/100\n",
      "50000/50000 [==============================] - 57s 1ms/sample - loss: 0.0107 - accuracy: 1.0000 - val_loss: 1.2624 - val_accuracy: 0.7117\n",
      "Epoch 41/100\n",
      "50000/50000 [==============================] - 58s 1ms/sample - loss: 0.0103 - accuracy: 1.0000 - val_loss: 1.2713 - val_accuracy: 0.7116\n",
      "Epoch 42/100\n",
      "50000/50000 [==============================] - 58s 1ms/sample - loss: 0.0096 - accuracy: 1.0000 - val_loss: 1.2671 - val_accuracy: 0.7126\n",
      "Epoch 43/100\n",
      "50000/50000 [==============================] - 58s 1ms/sample - loss: 0.0095 - accuracy: 1.0000 - val_loss: 1.2703 - val_accuracy: 0.7137\n",
      "Epoch 44/100\n",
      "50000/50000 [==============================] - 58s 1ms/sample - loss: 0.0092 - accuracy: 1.0000 - val_loss: 1.2835 - val_accuracy: 0.7101\n",
      "Epoch 45/100\n",
      "50000/50000 [==============================] - 58s 1ms/sample - loss: 0.0084 - accuracy: 1.0000 - val_loss: 1.2941 - val_accuracy: 0.7133\n",
      "Epoch 46/100\n",
      "50000/50000 [==============================] - 58s 1ms/sample - loss: 0.0085 - accuracy: 1.0000 - val_loss: 1.2939 - val_accuracy: 0.7125\n",
      "Epoch 47/100\n",
      "50000/50000 [==============================] - 58s 1ms/sample - loss: 0.0082 - accuracy: 1.0000 - val_loss: 1.2999 - val_accuracy: 0.7099\n",
      "Epoch 48/100\n",
      "50000/50000 [==============================] - 57s 1ms/sample - loss: 0.0078 - accuracy: 1.0000 - val_loss: 1.3012 - val_accuracy: 0.7086\n",
      "Epoch 49/100\n",
      "50000/50000 [==============================] - 57s 1ms/sample - loss: 0.0072 - accuracy: 1.0000 - val_loss: 1.3014 - val_accuracy: 0.7152\n",
      "Epoch 50/100\n",
      "50000/50000 [==============================] - 58s 1ms/sample - loss: 0.0071 - accuracy: 1.0000 - val_loss: 1.3086 - val_accuracy: 0.7143\n",
      "Epoch 51/100\n",
      "50000/50000 [==============================] - 57s 1ms/sample - loss: 0.0070 - accuracy: 1.0000 - val_loss: 1.3128 - val_accuracy: 0.7115\n",
      "Epoch 52/100\n",
      "50000/50000 [==============================] - 58s 1ms/sample - loss: 0.0067 - accuracy: 1.0000 - val_loss: 1.3121 - val_accuracy: 0.7129\n",
      "Epoch 53/100\n",
      "50000/50000 [==============================] - 58s 1ms/sample - loss: 0.0066 - accuracy: 1.0000 - val_loss: 1.3204 - val_accuracy: 0.7116\n",
      "Epoch 54/100\n",
      "50000/50000 [==============================] - 58s 1ms/sample - loss: 0.0065 - accuracy: 1.0000 - val_loss: 1.3338 - val_accuracy: 0.7107\n"
     ]
    },
    {
     "name": "stdout",
     "output_type": "stream",
     "text": [
      "Epoch 55/100\n",
      "50000/50000 [==============================] - 57s 1ms/sample - loss: 0.0062 - accuracy: 1.0000 - val_loss: 1.3258 - val_accuracy: 0.7143\n",
      "Epoch 56/100\n",
      "50000/50000 [==============================] - 57s 1ms/sample - loss: 0.0059 - accuracy: 1.0000 - val_loss: 1.3341 - val_accuracy: 0.7121\n",
      "Epoch 57/100\n",
      "50000/50000 [==============================] - 58s 1ms/sample - loss: 0.0058 - accuracy: 1.0000 - val_loss: 1.3366 - val_accuracy: 0.7133\n",
      "Epoch 58/100\n",
      "50000/50000 [==============================] - 57s 1ms/sample - loss: 0.0056 - accuracy: 1.0000 - val_loss: 1.3401 - val_accuracy: 0.7151\n",
      "Epoch 59/100\n",
      "50000/50000 [==============================] - 57s 1ms/sample - loss: 0.0055 - accuracy: 1.0000 - val_loss: 1.3439 - val_accuracy: 0.7135\n",
      "Epoch 60/100\n",
      "50000/50000 [==============================] - 57s 1ms/sample - loss: 0.0053 - accuracy: 1.0000 - val_loss: 1.3446 - val_accuracy: 0.7120\n",
      "Epoch 61/100\n",
      "50000/50000 [==============================] - 57s 1ms/sample - loss: 0.0051 - accuracy: 1.0000 - val_loss: 1.3434 - val_accuracy: 0.7128\n",
      "Epoch 62/100\n",
      "50000/50000 [==============================] - 57s 1ms/sample - loss: 0.0051 - accuracy: 1.0000 - val_loss: 1.3596 - val_accuracy: 0.7126\n",
      "Epoch 63/100\n",
      "50000/50000 [==============================] - 57s 1ms/sample - loss: 0.0049 - accuracy: 1.0000 - val_loss: 1.3514 - val_accuracy: 0.7128\n",
      "Epoch 64/100\n",
      "50000/50000 [==============================] - 57s 1ms/sample - loss: 0.0047 - accuracy: 1.0000 - val_loss: 1.3619 - val_accuracy: 0.7135\n",
      "Epoch 65/100\n",
      "50000/50000 [==============================] - 57s 1ms/sample - loss: 0.0046 - accuracy: 1.0000 - val_loss: 1.3603 - val_accuracy: 0.7145\n",
      "Epoch 66/100\n",
      "50000/50000 [==============================] - 57s 1ms/sample - loss: 0.0044 - accuracy: 1.0000 - val_loss: 1.3617 - val_accuracy: 0.7116\n",
      "Epoch 67/100\n",
      "50000/50000 [==============================] - 57s 1ms/sample - loss: 0.0045 - accuracy: 1.0000 - val_loss: 1.3678 - val_accuracy: 0.7094\n",
      "Epoch 68/100\n",
      "50000/50000 [==============================] - 57s 1ms/sample - loss: 0.0041 - accuracy: 1.0000 - val_loss: 1.3694 - val_accuracy: 0.7123\n",
      "Epoch 69/100\n",
      "50000/50000 [==============================] - 57s 1ms/sample - loss: 0.0042 - accuracy: 1.0000 - val_loss: 1.3684 - val_accuracy: 0.7134\n",
      "Epoch 70/100\n",
      "50000/50000 [==============================] - 58s 1ms/sample - loss: 0.0043 - accuracy: 1.0000 - val_loss: 1.3836 - val_accuracy: 0.7097\n",
      "Epoch 71/100\n",
      "50000/50000 [==============================] - 58s 1ms/sample - loss: 0.0041 - accuracy: 1.0000 - val_loss: 1.3763 - val_accuracy: 0.7132\n",
      "Epoch 72/100\n",
      "50000/50000 [==============================] - 58s 1ms/sample - loss: 0.0039 - accuracy: 1.0000 - val_loss: 1.3779 - val_accuracy: 0.7141\n",
      "Epoch 73/100\n",
      "50000/50000 [==============================] - 58s 1ms/sample - loss: 0.0039 - accuracy: 1.0000 - val_loss: 1.3797 - val_accuracy: 0.7111\n",
      "Epoch 74/100\n",
      "50000/50000 [==============================] - 58s 1ms/sample - loss: 0.0039 - accuracy: 1.0000 - val_loss: 1.3848 - val_accuracy: 0.7122\n",
      "Epoch 75/100\n",
      "50000/50000 [==============================] - 58s 1ms/sample - loss: 0.0037 - accuracy: 1.0000 - val_loss: 1.3898 - val_accuracy: 0.7128\n",
      "Epoch 76/100\n",
      "50000/50000 [==============================] - 58s 1ms/sample - loss: 0.0038 - accuracy: 1.0000 - val_loss: 1.3905 - val_accuracy: 0.7125\n",
      "Epoch 77/100\n",
      "50000/50000 [==============================] - 58s 1ms/sample - loss: 0.0035 - accuracy: 1.0000 - val_loss: 1.3902 - val_accuracy: 0.7121\n",
      "Epoch 78/100\n",
      "50000/50000 [==============================] - 58s 1ms/sample - loss: 0.0035 - accuracy: 1.0000 - val_loss: 1.3969 - val_accuracy: 0.7124\n",
      "Epoch 79/100\n",
      "50000/50000 [==============================] - 58s 1ms/sample - loss: 0.0036 - accuracy: 1.0000 - val_loss: 1.3963 - val_accuracy: 0.7142\n",
      "Epoch 80/100\n",
      "50000/50000 [==============================] - 58s 1ms/sample - loss: 0.0034 - accuracy: 1.0000 - val_loss: 1.3965 - val_accuracy: 0.7138\n",
      "Epoch 81/100\n",
      "50000/50000 [==============================] - 58s 1ms/sample - loss: 0.0033 - accuracy: 1.0000 - val_loss: 1.4038 - val_accuracy: 0.7141\n",
      "Epoch 82/100\n",
      "50000/50000 [==============================] - 58s 1ms/sample - loss: 0.0033 - accuracy: 1.0000 - val_loss: 1.4069 - val_accuracy: 0.7138\n",
      "Epoch 83/100\n",
      "50000/50000 [==============================] - 58s 1ms/sample - loss: 0.0032 - accuracy: 1.0000 - val_loss: 1.4175 - val_accuracy: 0.7126\n",
      "Epoch 84/100\n",
      "50000/50000 [==============================] - 58s 1ms/sample - loss: 0.0032 - accuracy: 1.0000 - val_loss: 1.4074 - val_accuracy: 0.7144\n",
      "Epoch 85/100\n",
      "50000/50000 [==============================] - 58s 1ms/sample - loss: 0.0031 - accuracy: 1.0000 - val_loss: 1.4155 - val_accuracy: 0.7136\n",
      "Epoch 86/100\n",
      "50000/50000 [==============================] - 58s 1ms/sample - loss: 0.0030 - accuracy: 1.0000 - val_loss: 1.4164 - val_accuracy: 0.7144\n",
      "Epoch 87/100\n",
      "50000/50000 [==============================] - 58s 1ms/sample - loss: 0.0030 - accuracy: 1.0000 - val_loss: 1.4179 - val_accuracy: 0.7119\n",
      "Epoch 88/100\n",
      "50000/50000 [==============================] - 58s 1ms/sample - loss: 0.0030 - accuracy: 1.0000 - val_loss: 1.4174 - val_accuracy: 0.7128\n",
      "Epoch 89/100\n",
      "50000/50000 [==============================] - 58s 1ms/sample - loss: 0.0029 - accuracy: 1.0000 - val_loss: 1.4209 - val_accuracy: 0.7130\n",
      "Epoch 90/100\n",
      "50000/50000 [==============================] - 58s 1ms/sample - loss: 0.0029 - accuracy: 1.0000 - val_loss: 1.4246 - val_accuracy: 0.7105\n",
      "Epoch 91/100\n",
      "50000/50000 [==============================] - 58s 1ms/sample - loss: 0.0028 - accuracy: 1.0000 - val_loss: 1.4248 - val_accuracy: 0.7129\n",
      "Epoch 92/100\n",
      "50000/50000 [==============================] - 58s 1ms/sample - loss: 0.0028 - accuracy: 1.0000 - val_loss: 1.4255 - val_accuracy: 0.7126\n",
      "Epoch 93/100\n",
      "50000/50000 [==============================] - 58s 1ms/sample - loss: 0.0028 - accuracy: 1.0000 - val_loss: 1.4292 - val_accuracy: 0.7149\n",
      "Epoch 94/100\n",
      "50000/50000 [==============================] - 58s 1ms/sample - loss: 0.0027 - accuracy: 1.0000 - val_loss: 1.4293 - val_accuracy: 0.7140\n",
      "Epoch 95/100\n",
      "50000/50000 [==============================] - 58s 1ms/sample - loss: 0.0027 - accuracy: 1.0000 - val_loss: 1.4318 - val_accuracy: 0.7136\n",
      "Epoch 96/100\n",
      "50000/50000 [==============================] - 58s 1ms/sample - loss: 0.0026 - accuracy: 1.0000 - val_loss: 1.4334 - val_accuracy: 0.7138\n",
      "Epoch 97/100\n",
      "50000/50000 [==============================] - 58s 1ms/sample - loss: 0.0026 - accuracy: 1.0000 - val_loss: 1.4384 - val_accuracy: 0.7160\n",
      "Epoch 98/100\n",
      "50000/50000 [==============================] - 58s 1ms/sample - loss: 0.0025 - accuracy: 1.0000 - val_loss: 1.4392 - val_accuracy: 0.7129\n",
      "Epoch 99/100\n",
      "50000/50000 [==============================] - 58s 1ms/sample - loss: 0.0027 - accuracy: 1.0000 - val_loss: 1.4388 - val_accuracy: 0.7137\n",
      "Epoch 100/100\n",
      "50000/50000 [==============================] - 58s 1ms/sample - loss: 0.0025 - accuracy: 1.0000 - val_loss: 1.4414 - val_accuracy: 0.7140\n",
      "Test error: 1.441371356010437\n",
      "Test accuracy: 0.714\n"
     ]
    }
   ],
   "source": [
    "batch_size=128\n",
    "epochs=100\n",
    "history = model.fit(X_train, Y_train,\n",
    "                    batch_size=batch_size, epochs=epochs,\n",
    "                    verbose=1, validation_data=(X_test, Y_test))\n",
    "score = model.evaluate(X_test, Y_test, verbose=0) \n",
    "\n",
    "print('Test error:', score[0]) \n",
    "print('Test accuracy:', score[1])"
   ]
  },
  {
   "cell_type": "code",
   "execution_count": 25,
   "metadata": {
    "scrolled": true
   },
   "outputs": [
    {
     "data": {
      "image/png": "[encoded data removed]",
      "text/plain": [
       "<Figure size 432x288 with 1 Axes>"
      ]
     },
     "metadata": {
      "needs_background": "light"
     },
     "output_type": "display_data"
    }
   ],
   "source": [
    "import matplotlib.pyplot as plt\n",
    "plt.plot(history.history['accuracy'],'r')\n",
    "plt.plot(history.history['val_accuracy'],'b')\n",
    "plt.legend({'training accuracy':'r', 'validation accuracy': 'b'})\n",
    "plt.show()"
   ]
  },
  {
   "cell_type": "code",
   "execution_count": 26,
   "metadata": {},
   "outputs": [
    {
     "data": {
      "image/png": "[encoded data removed]",
      "text/plain": [
       "<Figure size 432x288 with 1 Axes>"
      ]
     },
     "metadata": {
      "needs_background": "light"
     },
     "output_type": "display_data"
    }
   ],
   "source": [
    "plt.plot(history.history['loss'],'r')\n",
    "plt.plot(history.history['val_loss'],'b')\n",
    "plt.legend({'training loss':'r', 'validation loss': 'b'})\n",
    "plt.show()"
   ]
  },
  {
   "cell_type": "code",
   "execution_count": 48,
   "metadata": {},
   "outputs": [],
   "source": [
    "predictions = model.predict_classes(X_test)"
   ]
  },
  {
   "cell_type": "markdown",
   "metadata": {},
   "source": [
    "## arch 5 small param with delete layers"
   ]
  },
  {
   "cell_type": "code",
   "execution_count": 31,
   "metadata": {},
   "outputs": [],
   "source": [
    "model = Sequential()\n",
    "\n",
    "# 32,32\n",
    "model.add(Convolution2D(16,(3,3), activation='relu', input_shape=(32,32,3), padding='same'))\n",
    "model.add(BatchNormalization())\n",
    "\n",
    "# 32,32\n",
    "model.add(Convolution2D(32,(3,3), activation='relu'))\n",
    "model.add(BatchNormalization())\n",
    "\n",
    "# 30,30\n",
    "model.add(MaxPooling2D(pool_size=(2,2)))\n",
    "\n",
    "# 15,15\n",
    "model.add(Convolution2D(24,1, activation='relu'))\n",
    "\n",
    "# 15, 15\n",
    "model.add(Convolution2D(64,(3,3), activation='relu', padding='same'))\n",
    "model.add(BatchNormalization())\n",
    "\n",
    "# # 12, 12\n",
    "# model.add(Convolution2D(128,(3,3), activation='relu'))\n",
    "# model.add(BatchNormalization())\n",
    "\n",
    "# 15 15\n",
    "model.add(MaxPooling2D(pool_size=(2,2)))\n",
    "\n",
    "# model.add(Convolution2D(64, 1, activation='relu'))\n",
    "\n",
    "# model.add(Convolution2D(256,(3,3), activation='relu'))\n",
    "# model.add(BatchNormalization())\n",
    "\n",
    "\n",
    "model.add(Convolution2D(10, 7))\n",
    "\n",
    "model.add(Flatten())\n",
    "model.add(Activation('softmax'))\n"
   ]
  },
  {
   "cell_type": "code",
   "execution_count": 32,
   "metadata": {
    "scrolled": false
   },
   "outputs": [
    {
     "name": "stdout",
     "output_type": "stream",
     "text": [
      "Model: \"sequential_9\"\n",
      "_________________________________________________________________\n",
      "Layer (type)                 Output Shape              Param #   \n",
      "=================================================================\n",
      "conv2d_65 (Conv2D)           (None, 32, 32, 16)        448       \n",
      "_________________________________________________________________\n",
      "batch_normalization_38 (Batc (None, 32, 32, 16)        64        \n",
      "_________________________________________________________________\n",
      "conv2d_66 (Conv2D)           (None, 30, 30, 32)        4640      \n",
      "_________________________________________________________________\n",
      "batch_normalization_39 (Batc (None, 30, 30, 32)        128       \n",
      "_________________________________________________________________\n",
      "max_pooling2d_18 (MaxPooling (None, 15, 15, 32)        0         \n",
      "_________________________________________________________________\n",
      "conv2d_67 (Conv2D)           (None, 15, 15, 24)        792       \n",
      "_________________________________________________________________\n",
      "conv2d_68 (Conv2D)           (None, 15, 15, 64)        13888     \n",
      "_________________________________________________________________\n",
      "batch_normalization_40 (Batc (None, 15, 15, 64)        256       \n",
      "_________________________________________________________________\n",
      "max_pooling2d_19 (MaxPooling (None, 7, 7, 64)          0         \n",
      "_________________________________________________________________\n",
      "conv2d_69 (Conv2D)           (None, 1, 1, 10)          31370     \n",
      "_________________________________________________________________\n",
      "flatten_7 (Flatten)          (None, 10)                0         \n",
      "_________________________________________________________________\n",
      "activation_7 (Activation)    (None, 10)                0         \n",
      "=================================================================\n",
      "Total params: 51,586\n",
      "Trainable params: 51,362\n",
      "Non-trainable params: 224\n",
      "_________________________________________________________________\n"
     ]
    }
   ],
   "source": [
    "model.summary()"
   ]
  },
  {
   "cell_type": "code",
   "execution_count": 33,
   "metadata": {},
   "outputs": [],
   "source": [
    "model.compile(optimizer='sgd', loss='categorical_crossentropy', metrics=['accuracy'])"
   ]
  },
  {
   "cell_type": "code",
   "execution_count": 34,
   "metadata": {
    "scrolled": false
   },
   "outputs": [
    {
     "name": "stdout",
     "output_type": "stream",
     "text": [
      "Train on 50000 samples, validate on 10000 samples\n",
      "Epoch 1/100\n",
      "50000/50000 [==============================] - 37s 739us/sample - loss: 1.6336 - accuracy: 0.4435 - val_loss: 1.4680 - val_accuracy: 0.4967\n",
      "Epoch 2/100\n",
      "50000/50000 [==============================] - 36s 718us/sample - loss: 1.2410 - accuracy: 0.5620 - val_loss: 1.3200 - val_accuracy: 0.5422\n",
      "Epoch 3/100\n",
      "50000/50000 [==============================] - 36s 716us/sample - loss: 1.0971 - accuracy: 0.6174 - val_loss: 1.3995 - val_accuracy: 0.5313\n",
      "Epoch 4/100\n",
      "50000/50000 [==============================] - 36s 717us/sample - loss: 1.0024 - accuracy: 0.6485 - val_loss: 1.1040 - val_accuracy: 0.6116\n",
      "Epoch 5/100\n",
      "50000/50000 [==============================] - 36s 714us/sample - loss: 0.9312 - accuracy: 0.6765 - val_loss: 1.1225 - val_accuracy: 0.6188\n",
      "Epoch 6/100\n",
      "50000/50000 [==============================] - 36s 713us/sample - loss: 0.8752 - accuracy: 0.6961 - val_loss: 1.0208 - val_accuracy: 0.6537\n",
      "Epoch 7/100\n",
      "50000/50000 [==============================] - 36s 713us/sample - loss: 0.8303 - accuracy: 0.7118 - val_loss: 1.1025 - val_accuracy: 0.6262\n",
      "Epoch 8/100\n",
      "50000/50000 [==============================] - 36s 712us/sample - loss: 0.7889 - accuracy: 0.7274 - val_loss: 1.0865 - val_accuracy: 0.6223\n",
      "Epoch 9/100\n",
      "50000/50000 [==============================] - 36s 711us/sample - loss: 0.7539 - accuracy: 0.7410 - val_loss: 1.0380 - val_accuracy: 0.6502\n",
      "Epoch 10/100\n",
      "50000/50000 [==============================] - 36s 713us/sample - loss: 0.7202 - accuracy: 0.7526 - val_loss: 1.0190 - val_accuracy: 0.6539\n",
      "Epoch 11/100\n",
      "50000/50000 [==============================] - 35s 709us/sample - loss: 0.6929 - accuracy: 0.7615 - val_loss: 1.0548 - val_accuracy: 0.6503\n",
      "Epoch 12/100\n",
      "50000/50000 [==============================] - 36s 713us/sample - loss: 0.6673 - accuracy: 0.7696 - val_loss: 0.9894 - val_accuracy: 0.6745\n",
      "Epoch 13/100\n",
      "50000/50000 [==============================] - 36s 711us/sample - loss: 0.6399 - accuracy: 0.7786 - val_loss: 1.0267 - val_accuracy: 0.6628\n",
      "Epoch 14/100\n",
      "50000/50000 [==============================] - 36s 712us/sample - loss: 0.6168 - accuracy: 0.7858 - val_loss: 0.9777 - val_accuracy: 0.6760\n",
      "Epoch 15/100\n",
      "50000/50000 [==============================] - 36s 714us/sample - loss: 0.5925 - accuracy: 0.7975 - val_loss: 1.0594 - val_accuracy: 0.6597\n",
      "Epoch 16/100\n",
      "50000/50000 [==============================] - 35s 709us/sample - loss: 0.5731 - accuracy: 0.8035 - val_loss: 0.9836 - val_accuracy: 0.6786\n",
      "Epoch 17/100\n",
      "50000/50000 [==============================] - 35s 709us/sample - loss: 0.5523 - accuracy: 0.8094 - val_loss: 1.0065 - val_accuracy: 0.6751\n",
      "Epoch 18/100\n",
      "50000/50000 [==============================] - 36s 712us/sample - loss: 0.5326 - accuracy: 0.8170 - val_loss: 1.0222 - val_accuracy: 0.6756\n",
      "Epoch 19/100\n",
      "50000/50000 [==============================] - 35s 709us/sample - loss: 0.5176 - accuracy: 0.8200 - val_loss: 1.0631 - val_accuracy: 0.6706\n",
      "Epoch 20/100\n",
      "50000/50000 [==============================] - 36s 710us/sample - loss: 0.4964 - accuracy: 0.8287 - val_loss: 1.0428 - val_accuracy: 0.6830\n",
      "Epoch 21/100\n",
      "50000/50000 [==============================] - 35s 710us/sample - loss: 0.4820 - accuracy: 0.8343 - val_loss: 1.0122 - val_accuracy: 0.6831\n",
      "Epoch 22/100\n",
      "50000/50000 [==============================] - 36s 720us/sample - loss: 0.4650 - accuracy: 0.8405 - val_loss: 1.0740 - val_accuracy: 0.6664\n",
      "Epoch 23/100\n",
      "50000/50000 [==============================] - 35s 707us/sample - loss: 0.4495 - accuracy: 0.8447 - val_loss: 1.0706 - val_accuracy: 0.6721\n",
      "Epoch 24/100\n",
      "50000/50000 [==============================] - 36s 711us/sample - loss: 0.4367 - accuracy: 0.8499 - val_loss: 1.0847 - val_accuracy: 0.6714\n",
      "Epoch 25/100\n",
      "50000/50000 [==============================] - 36s 710us/sample - loss: 0.4241 - accuracy: 0.8555 - val_loss: 1.1032 - val_accuracy: 0.6731\n",
      "Epoch 26/100\n",
      "50000/50000 [==============================] - 35s 707us/sample - loss: 0.4095 - accuracy: 0.8607 - val_loss: 1.0970 - val_accuracy: 0.6838\n",
      "Epoch 27/100\n",
      "50000/50000 [==============================] - 35s 707us/sample - loss: 0.3975 - accuracy: 0.8628 - val_loss: 1.0643 - val_accuracy: 0.6804\n",
      "Epoch 28/100\n",
      "50000/50000 [==============================] - 35s 707us/sample - loss: 0.3844 - accuracy: 0.8680 - val_loss: 1.1719 - val_accuracy: 0.6725\n",
      "Epoch 29/100\n",
      "50000/50000 [==============================] - 35s 707us/sample - loss: 0.3703 - accuracy: 0.8736 - val_loss: 1.1766 - val_accuracy: 0.6694\n",
      "Epoch 30/100\n",
      "50000/50000 [==============================] - 35s 708us/sample - loss: 0.3607 - accuracy: 0.8772 - val_loss: 1.1959 - val_accuracy: 0.6699\n",
      "Epoch 31/100\n",
      "50000/50000 [==============================] - 35s 707us/sample - loss: 0.3501 - accuracy: 0.8795 - val_loss: 1.1878 - val_accuracy: 0.6688\n",
      "Epoch 32/100\n",
      "50000/50000 [==============================] - 35s 708us/sample - loss: 0.3406 - accuracy: 0.8826 - val_loss: 1.1924 - val_accuracy: 0.6740\n",
      "Epoch 33/100\n",
      "50000/50000 [==============================] - 35s 706us/sample - loss: 0.3289 - accuracy: 0.8894 - val_loss: 1.2189 - val_accuracy: 0.6707\n",
      "Epoch 34/100\n",
      "50000/50000 [==============================] - 35s 708us/sample - loss: 0.3189 - accuracy: 0.8929 - val_loss: 1.1701 - val_accuracy: 0.6783\n",
      "Epoch 35/100\n",
      "50000/50000 [==============================] - 35s 706us/sample - loss: 0.3079 - accuracy: 0.8970 - val_loss: 1.2090 - val_accuracy: 0.6749\n",
      "Epoch 36/100\n",
      "50000/50000 [==============================] - 35s 709us/sample - loss: 0.2986 - accuracy: 0.9000 - val_loss: 1.2653 - val_accuracy: 0.6693\n",
      "Epoch 37/100\n",
      "50000/50000 [==============================] - 35s 705us/sample - loss: 0.2906 - accuracy: 0.9029 - val_loss: 1.2562 - val_accuracy: 0.6764\n",
      "Epoch 38/100\n",
      "50000/50000 [==============================] - 36s 711us/sample - loss: 0.2841 - accuracy: 0.9044 - val_loss: 1.2845 - val_accuracy: 0.6694\n",
      "Epoch 39/100\n",
      "50000/50000 [==============================] - 35s 706us/sample - loss: 0.2727 - accuracy: 0.9095 - val_loss: 1.2467 - val_accuracy: 0.6789\n",
      "Epoch 40/100\n",
      "50000/50000 [==============================] - 35s 707us/sample - loss: 0.2674 - accuracy: 0.9118 - val_loss: 1.4845 - val_accuracy: 0.6411\n",
      "Epoch 41/100\n",
      "50000/50000 [==============================] - 35s 706us/sample - loss: 0.2593 - accuracy: 0.9145 - val_loss: 1.3475 - val_accuracy: 0.6622\n",
      "Epoch 42/100\n",
      "50000/50000 [==============================] - 35s 709us/sample - loss: 0.2493 - accuracy: 0.9180 - val_loss: 1.3240 - val_accuracy: 0.6730\n",
      "Epoch 43/100\n",
      "50000/50000 [==============================] - 35s 706us/sample - loss: 0.2413 - accuracy: 0.9211 - val_loss: 1.3023 - val_accuracy: 0.6759\n",
      "Epoch 44/100\n",
      "50000/50000 [==============================] - 35s 709us/sample - loss: 0.2348 - accuracy: 0.9226 - val_loss: 1.3811 - val_accuracy: 0.6684\n",
      "Epoch 45/100\n",
      "50000/50000 [==============================] - 35s 705us/sample - loss: 0.2315 - accuracy: 0.9228 - val_loss: 1.4108 - val_accuracy: 0.6649\n",
      "Epoch 46/100\n",
      "50000/50000 [==============================] - 35s 709us/sample - loss: 0.2217 - accuracy: 0.9276 - val_loss: 1.3638 - val_accuracy: 0.6756\n",
      "Epoch 47/100\n",
      "50000/50000 [==============================] - 35s 707us/sample - loss: 0.2149 - accuracy: 0.9291 - val_loss: 1.4724 - val_accuracy: 0.6616\n",
      "Epoch 48/100\n",
      "50000/50000 [==============================] - 36s 711us/sample - loss: 0.2089 - accuracy: 0.9322 - val_loss: 1.4236 - val_accuracy: 0.6655\n",
      "Epoch 49/100\n",
      "50000/50000 [==============================] - 36s 714us/sample - loss: 0.2026 - accuracy: 0.9346 - val_loss: 1.5066 - val_accuracy: 0.6544\n",
      "Epoch 50/100\n",
      "50000/50000 [==============================] - 36s 716us/sample - loss: 0.1970 - accuracy: 0.9358 - val_loss: 1.4649 - val_accuracy: 0.6668\n",
      "Epoch 51/100\n",
      "50000/50000 [==============================] - 36s 710us/sample - loss: 0.1906 - accuracy: 0.9378 - val_loss: 1.4247 - val_accuracy: 0.6762\n",
      "Epoch 52/100\n",
      "50000/50000 [==============================] - 35s 708us/sample - loss: 0.1842 - accuracy: 0.9416 - val_loss: 1.6067 - val_accuracy: 0.6438\n",
      "Epoch 53/100\n",
      "50000/50000 [==============================] - 35s 706us/sample - loss: 0.1796 - accuracy: 0.9418 - val_loss: 1.5293 - val_accuracy: 0.6687\n",
      "Epoch 54/100\n",
      "50000/50000 [==============================] - 36s 716us/sample - loss: 0.1715 - accuracy: 0.9465 - val_loss: 1.5157 - val_accuracy: 0.6755\n",
      "Epoch 55/100\n",
      "50000/50000 [==============================] - 36s 710us/sample - loss: 0.1666 - accuracy: 0.9481 - val_loss: 1.5706 - val_accuracy: 0.6696\n",
      "Epoch 56/100\n",
      "50000/50000 [==============================] - 36s 714us/sample - loss: 0.1609 - accuracy: 0.9512 - val_loss: 1.5476 - val_accuracy: 0.6602\n",
      "Epoch 57/100\n",
      "50000/50000 [==============================] - 36s 717us/sample - loss: 0.1559 - accuracy: 0.9518 - val_loss: 1.5179 - val_accuracy: 0.6752\n",
      "Epoch 58/100\n",
      "50000/50000 [==============================] - 36s 713us/sample - loss: 0.1530 - accuracy: 0.9523 - val_loss: 1.6361 - val_accuracy: 0.6565\n",
      "Epoch 59/100\n",
      "50000/50000 [==============================] - 36s 712us/sample - loss: 0.1484 - accuracy: 0.9546 - val_loss: 1.6208 - val_accuracy: 0.6615\n",
      "Epoch 60/100\n",
      "50000/50000 [==============================] - 36s 715us/sample - loss: 0.1442 - accuracy: 0.9563 - val_loss: 1.6294 - val_accuracy: 0.6638\n",
      "Epoch 61/100\n",
      "50000/50000 [==============================] - 36s 712us/sample - loss: 0.1392 - accuracy: 0.9580 - val_loss: 1.6602 - val_accuracy: 0.6662\n",
      "Epoch 62/100\n",
      "50000/50000 [==============================] - 36s 713us/sample - loss: 0.1372 - accuracy: 0.9582 - val_loss: 1.6819 - val_accuracy: 0.6630\n",
      "Epoch 63/100\n",
      "50000/50000 [==============================] - 36s 712us/sample - loss: 0.1331 - accuracy: 0.9598 - val_loss: 1.6944 - val_accuracy: 0.6619\n",
      "Epoch 64/100\n",
      "50000/50000 [==============================] - 36s 713us/sample - loss: 0.1258 - accuracy: 0.9647 - val_loss: 1.6310 - val_accuracy: 0.6723\n",
      "Epoch 65/100\n",
      "50000/50000 [==============================] - 36s 711us/sample - loss: 0.1245 - accuracy: 0.9637 - val_loss: 1.7154 - val_accuracy: 0.6649\n",
      "Epoch 66/100\n",
      "50000/50000 [==============================] - 36s 716us/sample - loss: 0.1162 - accuracy: 0.9676 - val_loss: 1.7126 - val_accuracy: 0.6665\n",
      "Epoch 67/100\n",
      "50000/50000 [==============================] - 36s 713us/sample - loss: 0.1139 - accuracy: 0.9674 - val_loss: 1.7208 - val_accuracy: 0.6765\n",
      "Epoch 68/100\n",
      "50000/50000 [==============================] - 36s 713us/sample - loss: 0.1119 - accuracy: 0.9681 - val_loss: 1.7727 - val_accuracy: 0.6667\n",
      "Epoch 69/100\n",
      "50000/50000 [==============================] - 36s 714us/sample - loss: 0.1068 - accuracy: 0.9706 - val_loss: 1.7741 - val_accuracy: 0.6667\n",
      "Epoch 70/100\n",
      "50000/50000 [==============================] - 36s 712us/sample - loss: 0.1061 - accuracy: 0.9702 - val_loss: 1.7873 - val_accuracy: 0.6685\n",
      "Epoch 71/100\n",
      "50000/50000 [==============================] - 36s 713us/sample - loss: 0.1014 - accuracy: 0.9720 - val_loss: 1.9568 - val_accuracy: 0.6477\n",
      "Epoch 72/100\n",
      "50000/50000 [==============================] - 36s 714us/sample - loss: 0.0994 - accuracy: 0.9726 - val_loss: 1.8136 - val_accuracy: 0.6693\n",
      "Epoch 73/100\n",
      "50000/50000 [==============================] - 36s 712us/sample - loss: 0.0960 - accuracy: 0.9740 - val_loss: 1.8513 - val_accuracy: 0.6688\n",
      "Epoch 74/100\n",
      "50000/50000 [==============================] - 36s 716us/sample - loss: 0.0920 - accuracy: 0.9754 - val_loss: 1.8044 - val_accuracy: 0.6750\n",
      "Epoch 75/100\n",
      "50000/50000 [==============================] - 36s 712us/sample - loss: 0.0897 - accuracy: 0.9765 - val_loss: 1.8465 - val_accuracy: 0.6644\n",
      "Epoch 76/100\n",
      "50000/50000 [==============================] - 36s 714us/sample - loss: 0.0873 - accuracy: 0.9780 - val_loss: 1.8811 - val_accuracy: 0.6676\n",
      "Epoch 77/100\n",
      "50000/50000 [==============================] - 36s 712us/sample - loss: 0.0860 - accuracy: 0.9778 - val_loss: 1.8853 - val_accuracy: 0.6694\n",
      "Epoch 78/100\n",
      "50000/50000 [==============================] - 36s 717us/sample - loss: 0.0838 - accuracy: 0.9796 - val_loss: 1.9892 - val_accuracy: 0.6520\n",
      "Epoch 79/100\n",
      "50000/50000 [==============================] - 36s 712us/sample - loss: 0.0807 - accuracy: 0.9804 - val_loss: 1.9798 - val_accuracy: 0.6559\n",
      "Epoch 80/100\n",
      "50000/50000 [==============================] - 36s 713us/sample - loss: 0.0765 - accuracy: 0.9820 - val_loss: 1.9441 - val_accuracy: 0.6651\n",
      "Epoch 81/100\n",
      "50000/50000 [==============================] - 36s 714us/sample - loss: 0.0753 - accuracy: 0.9823 - val_loss: 1.9356 - val_accuracy: 0.6650\n",
      "Epoch 82/100\n",
      "50000/50000 [==============================] - 36s 711us/sample - loss: 0.0736 - accuracy: 0.9826 - val_loss: 1.9820 - val_accuracy: 0.6650\n",
      "Epoch 83/100\n",
      "50000/50000 [==============================] - 36s 716us/sample - loss: 0.0728 - accuracy: 0.9827 - val_loss: 2.0565 - val_accuracy: 0.6506\n",
      "Epoch 84/100\n",
      "50000/50000 [==============================] - 36s 713us/sample - loss: 0.0669 - accuracy: 0.9852 - val_loss: 1.9614 - val_accuracy: 0.6688\n",
      "Epoch 85/100\n",
      "50000/50000 [==============================] - 36s 712us/sample - loss: 0.0667 - accuracy: 0.9850 - val_loss: 2.0449 - val_accuracy: 0.6561\n",
      "Epoch 86/100\n",
      "50000/50000 [==============================] - 36s 713us/sample - loss: 0.0654 - accuracy: 0.9857 - val_loss: 2.0275 - val_accuracy: 0.6690\n",
      "Epoch 87/100\n",
      "50000/50000 [==============================] - 35s 709us/sample - loss: 0.0644 - accuracy: 0.9859 - val_loss: 2.1367 - val_accuracy: 0.6476\n",
      "Epoch 88/100\n",
      "50000/50000 [==============================] - 36s 714us/sample - loss: 0.0610 - accuracy: 0.9866 - val_loss: 2.0943 - val_accuracy: 0.6620\n",
      "Epoch 89/100\n",
      "50000/50000 [==============================] - 36s 711us/sample - loss: 0.0608 - accuracy: 0.9866 - val_loss: 2.0842 - val_accuracy: 0.6583\n",
      "Epoch 90/100\n",
      "50000/50000 [==============================] - 36s 711us/sample - loss: 0.0555 - accuracy: 0.9898 - val_loss: 2.1028 - val_accuracy: 0.6675\n",
      "Epoch 91/100\n",
      "50000/50000 [==============================] - 36s 711us/sample - loss: 0.0575 - accuracy: 0.9881 - val_loss: 2.0809 - val_accuracy: 0.6678\n",
      "Epoch 92/100\n",
      "50000/50000 [==============================] - 36s 713us/sample - loss: 0.0536 - accuracy: 0.9896 - val_loss: 2.1526 - val_accuracy: 0.6638\n",
      "Epoch 93/100\n",
      "50000/50000 [==============================] - 36s 710us/sample - loss: 0.0511 - accuracy: 0.9906 - val_loss: 2.0843 - val_accuracy: 0.6706\n",
      "Epoch 94/100\n",
      "50000/50000 [==============================] - 36s 712us/sample - loss: 0.0505 - accuracy: 0.9908 - val_loss: 2.1527 - val_accuracy: 0.6625\n",
      "Epoch 95/100\n",
      "50000/50000 [==============================] - 36s 713us/sample - loss: 0.0488 - accuracy: 0.9908 - val_loss: 2.0844 - val_accuracy: 0.6691\n",
      "Epoch 96/100\n",
      "50000/50000 [==============================] - 35s 707us/sample - loss: 0.0488 - accuracy: 0.9910 - val_loss: 2.2022 - val_accuracy: 0.6687\n",
      "Epoch 97/100\n",
      "50000/50000 [==============================] - 35s 707us/sample - loss: 0.0479 - accuracy: 0.9912 - val_loss: 2.1456 - val_accuracy: 0.6700\n",
      "Epoch 98/100\n",
      "50000/50000 [==============================] - 35s 706us/sample - loss: 0.0442 - accuracy: 0.9927 - val_loss: 2.1521 - val_accuracy: 0.6667\n",
      "Epoch 99/100\n",
      "50000/50000 [==============================] - 35s 707us/sample - loss: 0.0418 - accuracy: 0.9939 - val_loss: 2.1516 - val_accuracy: 0.6722\n",
      "Epoch 100/100\n",
      "50000/50000 [==============================] - 35s 709us/sample - loss: 0.0408 - accuracy: 0.9942 - val_loss: 2.1675 - val_accuracy: 0.6703\n",
      "Test error: 2.1674647945404053\n",
      "Test accuracy: 0.6703\n"
     ]
    }
   ],
   "source": [
    "batch_size=128\n",
    "epochs=100\n",
    "history = model.fit(X_train, Y_train,\n",
    "                    batch_size=batch_size, epochs=epochs,\n",
    "                    verbose=1, validation_data=(X_test, Y_test))\n",
    "score = model.evaluate(X_test, Y_test, verbose=0) \n",
    "print('Test error:', score[0]) \n",
    "print('Test accuracy:', score[1])"
   ]
  },
  {
   "cell_type": "code",
   "execution_count": 35,
   "metadata": {
    "scrolled": true
   },
   "outputs": [
    {
     "data": {
      "image/png": "[encoded data removed]",
      "text/plain": [
       "<Figure size 432x288 with 1 Axes>"
      ]
     },
     "metadata": {
      "needs_background": "light"
     },
     "output_type": "display_data"
    }
   ],
   "source": [
    "import matplotlib.pyplot as plt\n",
    "plt.plot(history.history['accuracy'],'r')\n",
    "plt.plot(history.history['val_accuracy'],'b')\n",
    "plt.legend({'training accuracy':'r', 'validation accuracy': 'b'})\n",
    "plt.show()"
   ]
  },
  {
   "cell_type": "code",
   "execution_count": 36,
   "metadata": {},
   "outputs": [
    {
     "data": {
      "image/png": "[encoded data removed]",
      "text/plain": [
       "<Figure size 432x288 with 1 Axes>"
      ]
     },
     "metadata": {
      "needs_background": "light"
     },
     "output_type": "display_data"
    }
   ],
   "source": [
    "plt.plot(history.history['loss'],'r')\n",
    "plt.plot(history.history['val_loss'],'b')\n",
    "plt.legend({'training loss':'r', 'validation loss': 'b'})\n",
    "plt.show()"
   ]
  },
  {
   "cell_type": "code",
   "execution_count": 37,
   "metadata": {},
   "outputs": [],
   "source": [
    "predictions = model.predict_classes(X_test)"
   ]
  },
  {
   "cell_type": "code",
   "execution_count": null,
   "metadata": {},
   "outputs": [],
   "source": []
  }
 ],
 "metadata": {
  "kernelspec": {
   "display_name": "Python 3",
   "language": "python",
   "name": "python3"
  },
  "language_info": {
   "codemirror_mode": {
    "name": "ipython",
    "version": 3
   },
   "file_extension": ".py",
   "mimetype": "text/x-python",
   "name": "python",
   "nbconvert_exporter": "python",
   "pygments_lexer": "ipython3",
   "version": "3.7.5"
  }
 },
 "nbformat": 4,
 "nbformat_minor": 2
}
