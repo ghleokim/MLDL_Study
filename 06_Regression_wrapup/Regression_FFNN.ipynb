{
 "cells": [
  {
   "cell_type": "markdown",
   "metadata": {},
   "source": [
    "# Regression - FFNN (test)"
   ]
  },
  {
   "cell_type": "code",
   "execution_count": 1,
   "metadata": {},
   "outputs": [],
   "source": [
    "import numpy as np\n",
    "import pandas as pd\n",
    "import seaborn as sns\n",
    "import matplotlib.pyplot as plt"
   ]
  },
  {
   "cell_type": "code",
   "execution_count": 2,
   "metadata": {},
   "outputs": [],
   "source": [
    "df = pd.read_csv('reg_data/abalone.data',\n",
    "                 names=['Sex','Length','Diameter','Height','Whole weight','Shucked weight','Viscera weight','Shell weight','Rings'])"
   ]
  },
  {
   "cell_type": "code",
   "execution_count": 3,
   "metadata": {},
   "outputs": [],
   "source": [
    "from sklearn.model_selection import train_test_split"
   ]
  },
  {
   "cell_type": "code",
   "execution_count": 4,
   "metadata": {},
   "outputs": [],
   "source": [
    "df['Sex'] = df['Sex'].replace(('I','M','F'),(3,1,2))\n",
    "\n",
    "X = df.iloc[:,:-1].values\n",
    "y = df.iloc[:, -1].values\n",
    "\n",
    "X_train, X_test, y_train, y_test = train_test_split(X, y, test_size=0.2, random_state=7)"
   ]
  },
  {
   "cell_type": "code",
   "execution_count": 5,
   "metadata": {},
   "outputs": [
    {
     "data": {
      "text/html": [
       "<div>\n",
       "<style scoped>\n",
       "    .dataframe tbody tr th:only-of-type {\n",
       "        vertical-align: middle;\n",
       "    }\n",
       "\n",
       "    .dataframe tbody tr th {\n",
       "        vertical-align: top;\n",
       "    }\n",
       "\n",
       "    .dataframe thead th {\n",
       "        text-align: right;\n",
       "    }\n",
       "</style>\n",
       "<table border=\"1\" class=\"dataframe\">\n",
       "  <thead>\n",
       "    <tr style=\"text-align: right;\">\n",
       "      <th></th>\n",
       "      <th>Sex</th>\n",
       "      <th>Length</th>\n",
       "      <th>Diameter</th>\n",
       "      <th>Height</th>\n",
       "      <th>Whole weight</th>\n",
       "      <th>Shucked weight</th>\n",
       "      <th>Viscera weight</th>\n",
       "      <th>Shell weight</th>\n",
       "      <th>Rings</th>\n",
       "    </tr>\n",
       "  </thead>\n",
       "  <tbody>\n",
       "    <tr>\n",
       "      <th>0</th>\n",
       "      <td>1</td>\n",
       "      <td>0.455</td>\n",
       "      <td>0.365</td>\n",
       "      <td>0.095</td>\n",
       "      <td>0.5140</td>\n",
       "      <td>0.2245</td>\n",
       "      <td>0.1010</td>\n",
       "      <td>0.150</td>\n",
       "      <td>15</td>\n",
       "    </tr>\n",
       "    <tr>\n",
       "      <th>1</th>\n",
       "      <td>1</td>\n",
       "      <td>0.350</td>\n",
       "      <td>0.265</td>\n",
       "      <td>0.090</td>\n",
       "      <td>0.2255</td>\n",
       "      <td>0.0995</td>\n",
       "      <td>0.0485</td>\n",
       "      <td>0.070</td>\n",
       "      <td>7</td>\n",
       "    </tr>\n",
       "    <tr>\n",
       "      <th>2</th>\n",
       "      <td>2</td>\n",
       "      <td>0.530</td>\n",
       "      <td>0.420</td>\n",
       "      <td>0.135</td>\n",
       "      <td>0.6770</td>\n",
       "      <td>0.2565</td>\n",
       "      <td>0.1415</td>\n",
       "      <td>0.210</td>\n",
       "      <td>9</td>\n",
       "    </tr>\n",
       "    <tr>\n",
       "      <th>3</th>\n",
       "      <td>1</td>\n",
       "      <td>0.440</td>\n",
       "      <td>0.365</td>\n",
       "      <td>0.125</td>\n",
       "      <td>0.5160</td>\n",
       "      <td>0.2155</td>\n",
       "      <td>0.1140</td>\n",
       "      <td>0.155</td>\n",
       "      <td>10</td>\n",
       "    </tr>\n",
       "    <tr>\n",
       "      <th>4</th>\n",
       "      <td>3</td>\n",
       "      <td>0.330</td>\n",
       "      <td>0.255</td>\n",
       "      <td>0.080</td>\n",
       "      <td>0.2050</td>\n",
       "      <td>0.0895</td>\n",
       "      <td>0.0395</td>\n",
       "      <td>0.055</td>\n",
       "      <td>7</td>\n",
       "    </tr>\n",
       "  </tbody>\n",
       "</table>\n",
       "</div>"
      ],
      "text/plain": [
       "   Sex  Length  Diameter  Height  Whole weight  Shucked weight  \\\n",
       "0    1   0.455     0.365   0.095        0.5140          0.2245   \n",
       "1    1   0.350     0.265   0.090        0.2255          0.0995   \n",
       "2    2   0.530     0.420   0.135        0.6770          0.2565   \n",
       "3    1   0.440     0.365   0.125        0.5160          0.2155   \n",
       "4    3   0.330     0.255   0.080        0.2050          0.0895   \n",
       "\n",
       "   Viscera weight  Shell weight  Rings  \n",
       "0          0.1010         0.150     15  \n",
       "1          0.0485         0.070      7  \n",
       "2          0.1415         0.210      9  \n",
       "3          0.1140         0.155     10  \n",
       "4          0.0395         0.055      7  "
      ]
     },
     "execution_count": 5,
     "metadata": {},
     "output_type": "execute_result"
    }
   ],
   "source": [
    "df.head()"
   ]
  },
  {
   "cell_type": "markdown",
   "metadata": {},
   "source": [
    "## Build Model"
   ]
  },
  {
   "cell_type": "code",
   "execution_count": 6,
   "metadata": {},
   "outputs": [],
   "source": [
    "from tensorflow.keras import Sequential\n",
    "from tensorflow.keras.layers import Dense"
   ]
  },
  {
   "cell_type": "code",
   "execution_count": 7,
   "metadata": {},
   "outputs": [],
   "source": [
    "model = Sequential()\n",
    "model.add(Dense(32, input_shape=(8,)))\n",
    "model.add(Dense(64, activation='relu'))\n",
    "model.add(Dense(128, activation='relu'))\n",
    "model.add(Dense(1))"
   ]
  },
  {
   "cell_type": "code",
   "execution_count": 8,
   "metadata": {},
   "outputs": [],
   "source": [
    "model.compile(optimizer='adam', loss='mse', metrics=['mae'])"
   ]
  },
  {
   "cell_type": "code",
   "execution_count": null,
   "metadata": {},
   "outputs": [],
   "source": [
    "model.summary()"
   ]
  },
  {
   "cell_type": "code",
   "execution_count": 10,
   "metadata": {
    "scrolled": true
   },
   "outputs": [
    {
     "name": "stdout",
     "output_type": "stream",
     "text": [
      "Train on 3341 samples, validate on 836 samples\n",
      "Epoch 1/100\n",
      "3341/3341 [==============================] - 1s 323us/sample - loss: 88.3470 - mae: 8.7779 - val_loss: 55.8603 - val_mae: 6.6456\n",
      "Epoch 2/100\n",
      "3341/3341 [==============================] - 0s 45us/sample - loss: 23.8801 - mae: 3.8564 - val_loss: 13.5769 - val_mae: 3.0226\n",
      "Epoch 3/100\n",
      "3341/3341 [==============================] - 0s 37us/sample - loss: 10.6668 - mae: 2.5132 - val_loss: 10.3701 - val_mae: 2.3802\n",
      "Epoch 4/100\n",
      "3341/3341 [==============================] - 0s 33us/sample - loss: 9.1224 - mae: 2.2627 - val_loss: 9.7602 - val_mae: 2.2356\n",
      "Epoch 5/100\n",
      "3341/3341 [==============================] - 0s 29us/sample - loss: 8.7254 - mae: 2.1546 - val_loss: 9.0934 - val_mae: 2.1861\n",
      "Epoch 6/100\n",
      "3341/3341 [==============================] - 0s 34us/sample - loss: 8.2086 - mae: 2.0850 - val_loss: 8.6103 - val_mae: 2.0902\n",
      "Epoch 7/100\n",
      "3341/3341 [==============================] - 0s 33us/sample - loss: 7.6357 - mae: 2.0111 - val_loss: 8.0199 - val_mae: 2.0011\n",
      "Epoch 8/100\n",
      "3341/3341 [==============================] - 0s 36us/sample - loss: 7.0633 - mae: 1.9181 - val_loss: 7.3021 - val_mae: 1.9106\n",
      "Epoch 9/100\n",
      "3341/3341 [==============================] - 0s 59us/sample - loss: 6.4516 - mae: 1.8237 - val_loss: 6.6849 - val_mae: 1.8227\n",
      "Epoch 10/100\n",
      "3341/3341 [==============================] - 0s 39us/sample - loss: 5.9059 - mae: 1.7458 - val_loss: 6.2180 - val_mae: 1.7292\n",
      "Epoch 11/100\n",
      "3341/3341 [==============================] - 0s 35us/sample - loss: 5.4898 - mae: 1.6734 - val_loss: 5.8514 - val_mae: 1.7106\n",
      "Epoch 12/100\n",
      "3341/3341 [==============================] - 0s 40us/sample - loss: 5.3023 - mae: 1.6608 - val_loss: 5.6741 - val_mae: 1.6987\n",
      "Epoch 13/100\n",
      "3341/3341 [==============================] - 0s 37us/sample - loss: 5.1379 - mae: 1.6339 - val_loss: 5.6395 - val_mae: 1.6393\n",
      "Epoch 14/100\n",
      "3341/3341 [==============================] - 0s 32us/sample - loss: 5.0330 - mae: 1.6079 - val_loss: 5.4860 - val_mae: 1.6436\n",
      "Epoch 15/100\n",
      "3341/3341 [==============================] - 0s 41us/sample - loss: 4.9874 - mae: 1.6127 - val_loss: 5.5239 - val_mae: 1.6230\n",
      "Epoch 16/100\n",
      "3341/3341 [==============================] - 0s 32us/sample - loss: 4.9185 - mae: 1.5923 - val_loss: 5.4120 - val_mae: 1.6188\n",
      "Epoch 17/100\n",
      "3341/3341 [==============================] - 0s 58us/sample - loss: 4.8616 - mae: 1.5884 - val_loss: 5.6461 - val_mae: 1.6153\n",
      "Epoch 18/100\n",
      "3341/3341 [==============================] - 0s 70us/sample - loss: 4.9085 - mae: 1.5817 - val_loss: 5.2271 - val_mae: 1.6094\n",
      "Epoch 19/100\n",
      "3341/3341 [==============================] - 0s 30us/sample - loss: 4.7871 - mae: 1.5734 - val_loss: 5.1760 - val_mae: 1.6138\n",
      "Epoch 20/100\n",
      "3341/3341 [==============================] - 0s 34us/sample - loss: 4.7528 - mae: 1.5667 - val_loss: 5.1020 - val_mae: 1.6148\n",
      "Epoch 21/100\n",
      "3341/3341 [==============================] - 0s 29us/sample - loss: 4.7877 - mae: 1.5849 - val_loss: 5.0921 - val_mae: 1.6783\n",
      "Epoch 22/100\n",
      "3341/3341 [==============================] - 0s 29us/sample - loss: 4.8764 - mae: 1.5960 - val_loss: 4.9905 - val_mae: 1.6211\n",
      "Epoch 23/100\n",
      "3341/3341 [==============================] - 0s 34us/sample - loss: 4.7195 - mae: 1.5633 - val_loss: 5.1286 - val_mae: 1.5841\n",
      "Epoch 24/100\n",
      "3341/3341 [==============================] - 0s 36us/sample - loss: 4.7154 - mae: 1.5608 - val_loss: 5.3926 - val_mae: 1.5951\n",
      "Epoch 25/100\n",
      "3341/3341 [==============================] - 0s 37us/sample - loss: 4.6869 - mae: 1.5452 - val_loss: 5.3133 - val_mae: 1.5866\n",
      "Epoch 26/100\n",
      "3341/3341 [==============================] - 0s 36us/sample - loss: 4.6457 - mae: 1.5458 - val_loss: 5.1844 - val_mae: 1.5769\n",
      "Epoch 27/100\n",
      "3341/3341 [==============================] - 0s 35us/sample - loss: 4.6805 - mae: 1.5415 - val_loss: 5.3321 - val_mae: 1.5865\n",
      "Epoch 28/100\n",
      "3341/3341 [==============================] - 0s 32us/sample - loss: 4.6411 - mae: 1.5409 - val_loss: 5.0911 - val_mae: 1.5691\n",
      "Epoch 29/100\n",
      "3341/3341 [==============================] - 0s 29us/sample - loss: 4.6386 - mae: 1.5413 - val_loss: 5.0530 - val_mae: 1.5743\n",
      "Epoch 30/100\n",
      "3341/3341 [==============================] - 0s 28us/sample - loss: 4.6763 - mae: 1.5452 - val_loss: 5.2633 - val_mae: 1.5811\n",
      "Epoch 31/100\n",
      "3341/3341 [==============================] - 0s 29us/sample - loss: 4.6493 - mae: 1.5450 - val_loss: 5.1761 - val_mae: 1.5748\n",
      "Epoch 32/100\n",
      "3341/3341 [==============================] - 0s 35us/sample - loss: 4.6056 - mae: 1.5333 - val_loss: 4.8173 - val_mae: 1.5992\n",
      "Epoch 33/100\n",
      "3341/3341 [==============================] - 0s 30us/sample - loss: 4.5908 - mae: 1.5367 - val_loss: 5.1685 - val_mae: 1.5685\n",
      "Epoch 34/100\n",
      "3341/3341 [==============================] - 0s 27us/sample - loss: 4.5747 - mae: 1.5270 - val_loss: 4.9907 - val_mae: 1.5593\n",
      "Epoch 35/100\n",
      "3341/3341 [==============================] - 0s 27us/sample - loss: 4.5641 - mae: 1.5264 - val_loss: 4.7833 - val_mae: 1.5904\n",
      "Epoch 36/100\n",
      "3341/3341 [==============================] - 0s 28us/sample - loss: 4.5978 - mae: 1.5383 - val_loss: 4.8055 - val_mae: 1.5606\n",
      "Epoch 37/100\n",
      "3341/3341 [==============================] - 0s 33us/sample - loss: 4.5485 - mae: 1.5256 - val_loss: 5.1583 - val_mae: 1.5651\n",
      "Epoch 38/100\n",
      "3341/3341 [==============================] - 0s 29us/sample - loss: 4.5886 - mae: 1.5219 - val_loss: 5.0647 - val_mae: 1.5591\n",
      "Epoch 39/100\n",
      "3341/3341 [==============================] - 0s 29us/sample - loss: 4.5746 - mae: 1.5220 - val_loss: 5.0957 - val_mae: 1.5568\n",
      "Epoch 40/100\n",
      "3341/3341 [==============================] - 0s 26us/sample - loss: 4.5990 - mae: 1.5259 - val_loss: 4.8766 - val_mae: 1.5627\n",
      "Epoch 41/100\n",
      "3341/3341 [==============================] - 0s 32us/sample - loss: 4.5379 - mae: 1.5264 - val_loss: 5.1239 - val_mae: 1.5629\n",
      "Epoch 42/100\n",
      "3341/3341 [==============================] - 0s 29us/sample - loss: 4.5332 - mae: 1.5227 - val_loss: 5.2186 - val_mae: 1.5733\n",
      "Epoch 43/100\n",
      "3341/3341 [==============================] - 0s 26us/sample - loss: 4.5747 - mae: 1.5180 - val_loss: 5.2401 - val_mae: 1.5723\n",
      "Epoch 44/100\n",
      "3341/3341 [==============================] - 0s 32us/sample - loss: 4.5537 - mae: 1.5097 - val_loss: 4.8851 - val_mae: 1.5436\n",
      "Epoch 45/100\n",
      "3341/3341 [==============================] - 0s 44us/sample - loss: 4.4920 - mae: 1.5049 - val_loss: 4.8254 - val_mae: 1.5491\n",
      "Epoch 46/100\n",
      "3341/3341 [==============================] - 0s 38us/sample - loss: 4.5094 - mae: 1.5170 - val_loss: 4.7727 - val_mae: 1.5430\n",
      "Epoch 47/100\n",
      "3341/3341 [==============================] - 0s 28us/sample - loss: 4.4959 - mae: 1.5077 - val_loss: 4.7516 - val_mae: 1.5409\n",
      "Epoch 48/100\n",
      "3341/3341 [==============================] - 0s 37us/sample - loss: 4.4864 - mae: 1.5019 - val_loss: 4.7044 - val_mae: 1.5667\n",
      "Epoch 49/100\n",
      "3341/3341 [==============================] - 0s 54us/sample - loss: 4.4731 - mae: 1.5022 - val_loss: 4.7082 - val_mae: 1.5917\n",
      "Epoch 50/100\n",
      "3341/3341 [==============================] - 0s 59us/sample - loss: 4.5559 - mae: 1.5239 - val_loss: 4.7182 - val_mae: 1.5882\n",
      "Epoch 51/100\n",
      "3341/3341 [==============================] - 0s 49us/sample - loss: 4.5069 - mae: 1.5066 - val_loss: 4.9052 - val_mae: 1.6896\n",
      "Epoch 52/100\n",
      "3341/3341 [==============================] - 0s 44us/sample - loss: 4.7128 - mae: 1.5686 - val_loss: 5.1439 - val_mae: 1.5535\n",
      "Epoch 53/100\n",
      "3341/3341 [==============================] - 0s 53us/sample - loss: 4.6085 - mae: 1.5324 - val_loss: 5.7363 - val_mae: 1.6372\n",
      "Epoch 54/100\n",
      "3341/3341 [==============================] - 0s 65us/sample - loss: 4.5931 - mae: 1.5255 - val_loss: 5.0705 - val_mae: 1.5469\n",
      "Epoch 55/100\n",
      "3341/3341 [==============================] - 0s 58us/sample - loss: 4.6542 - mae: 1.5321 - val_loss: 4.9544 - val_mae: 1.5351\n",
      "Epoch 56/100\n",
      "3341/3341 [==============================] - 0s 43us/sample - loss: 4.5187 - mae: 1.5132 - val_loss: 4.9429 - val_mae: 1.5371\n",
      "Epoch 57/100\n",
      "3341/3341 [==============================] - 0s 69us/sample - loss: 4.4215 - mae: 1.4909 - val_loss: 4.8842 - val_mae: 1.5315\n",
      "Epoch 58/100\n",
      "3341/3341 [==============================] - 0s 62us/sample - loss: 4.4841 - mae: 1.5008 - val_loss: 5.1191 - val_mae: 1.5482\n",
      "Epoch 59/100\n",
      "3341/3341 [==============================] - 0s 64us/sample - loss: 4.5268 - mae: 1.5067 - val_loss: 5.0703 - val_mae: 1.5451\n",
      "Epoch 60/100\n",
      "3341/3341 [==============================] - 0s 75us/sample - loss: 4.4539 - mae: 1.4964 - val_loss: 4.8249 - val_mae: 1.5299\n",
      "Epoch 61/100\n",
      "3341/3341 [==============================] - 0s 68us/sample - loss: 4.4542 - mae: 1.4867 - val_loss: 4.8480 - val_mae: 1.5339\n",
      "Epoch 62/100\n",
      "3341/3341 [==============================] - 0s 68us/sample - loss: 4.5056 - mae: 1.5136 - val_loss: 4.9080 - val_mae: 1.5308\n",
      "Epoch 63/100\n",
      "3341/3341 [==============================] - 0s 71us/sample - loss: 4.4458 - mae: 1.4967 - val_loss: 4.9674 - val_mae: 1.5358\n",
      "Epoch 64/100\n",
      "3341/3341 [==============================] - 0s 34us/sample - loss: 4.4682 - mae: 1.4959 - val_loss: 5.0446 - val_mae: 1.5470\n",
      "Epoch 65/100\n",
      "3341/3341 [==============================] - 0s 35us/sample - loss: 4.5232 - mae: 1.5053 - val_loss: 4.6718 - val_mae: 1.5340\n",
      "Epoch 66/100\n",
      "3341/3341 [==============================] - 0s 36us/sample - loss: 4.4588 - mae: 1.5038 - val_loss: 5.0498 - val_mae: 1.5421\n",
      "Epoch 67/100\n",
      "3341/3341 [==============================] - 0s 33us/sample - loss: 4.5006 - mae: 1.5014 - val_loss: 4.6756 - val_mae: 1.5720\n",
      "Epoch 68/100\n",
      "3341/3341 [==============================] - 0s 37us/sample - loss: 4.4504 - mae: 1.4992 - val_loss: 4.6616 - val_mae: 1.5387\n",
      "Epoch 69/100\n",
      "3341/3341 [==============================] - 0s 49us/sample - loss: 4.4337 - mae: 1.4977 - val_loss: 4.8310 - val_mae: 1.5315\n",
      "Epoch 70/100\n",
      "3341/3341 [==============================] - 0s 56us/sample - loss: 4.4228 - mae: 1.4867 - val_loss: 4.6372 - val_mae: 1.5412\n",
      "Epoch 71/100\n",
      "3341/3341 [==============================] - 0s 38us/sample - loss: 4.4050 - mae: 1.4842 - val_loss: 4.6272 - val_mae: 1.5434\n",
      "Epoch 72/100\n",
      "3341/3341 [==============================] - 0s 45us/sample - loss: 4.4800 - mae: 1.5121 - val_loss: 4.7604 - val_mae: 1.6365\n",
      "Epoch 73/100\n",
      "3341/3341 [==============================] - 0s 70us/sample - loss: 4.5076 - mae: 1.5050 - val_loss: 4.6966 - val_mae: 1.5938\n",
      "Epoch 74/100\n",
      "3341/3341 [==============================] - 0s 67us/sample - loss: 4.4910 - mae: 1.5121 - val_loss: 4.6885 - val_mae: 1.5449\n",
      "Epoch 75/100\n",
      "3341/3341 [==============================] - 0s 60us/sample - loss: 4.4498 - mae: 1.4936 - val_loss: 4.9347 - val_mae: 1.5361\n",
      "Epoch 76/100\n",
      "3341/3341 [==============================] - 0s 69us/sample - loss: 4.4291 - mae: 1.4875 - val_loss: 4.9071 - val_mae: 1.5314\n",
      "Epoch 77/100\n",
      "3341/3341 [==============================] - 0s 101us/sample - loss: 4.4053 - mae: 1.4851 - val_loss: 4.6365 - val_mae: 1.5581\n",
      "Epoch 78/100\n",
      "3341/3341 [==============================] - 0s 47us/sample - loss: 4.4128 - mae: 1.4914 - val_loss: 4.6770 - val_mae: 1.5843\n",
      "Epoch 79/100\n",
      "3341/3341 [==============================] - 0s 54us/sample - loss: 4.5211 - mae: 1.5159 - val_loss: 4.7367 - val_mae: 1.6236\n",
      "Epoch 80/100\n",
      "3341/3341 [==============================] - 0s 31us/sample - loss: 4.4672 - mae: 1.5074 - val_loss: 4.6265 - val_mae: 1.5532\n",
      "Epoch 81/100\n",
      "3341/3341 [==============================] - 0s 28us/sample - loss: 4.4193 - mae: 1.4935 - val_loss: 5.2358 - val_mae: 1.5600\n",
      "Epoch 82/100\n",
      "3341/3341 [==============================] - 0s 33us/sample - loss: 4.5320 - mae: 1.5153 - val_loss: 5.0287 - val_mae: 1.5378\n",
      "Epoch 83/100\n",
      "3341/3341 [==============================] - 0s 34us/sample - loss: 4.4908 - mae: 1.4964 - val_loss: 4.7118 - val_mae: 1.5278\n",
      "Epoch 84/100\n",
      "3341/3341 [==============================] - 0s 40us/sample - loss: 4.3951 - mae: 1.4853 - val_loss: 4.8313 - val_mae: 1.5320\n",
      "Epoch 85/100\n",
      "3341/3341 [==============================] - 0s 38us/sample - loss: 4.4453 - mae: 1.4875 - val_loss: 4.6543 - val_mae: 1.5452\n",
      "Epoch 86/100\n",
      "3341/3341 [==============================] - 0s 34us/sample - loss: 4.4100 - mae: 1.4923 - val_loss: 4.8783 - val_mae: 1.5253\n",
      "Epoch 87/100\n",
      "3341/3341 [==============================] - 0s 30us/sample - loss: 4.3654 - mae: 1.4699 - val_loss: 4.8531 - val_mae: 1.5356\n",
      "Epoch 88/100\n",
      "3341/3341 [==============================] - 0s 43us/sample - loss: 4.5026 - mae: 1.5061 - val_loss: 4.6748 - val_mae: 1.5775\n",
      "Epoch 89/100\n",
      "3341/3341 [==============================] - 0s 32us/sample - loss: 4.3711 - mae: 1.4746 - val_loss: 4.6423 - val_mae: 1.5425\n",
      "Epoch 90/100\n",
      "3341/3341 [==============================] - 0s 41us/sample - loss: 4.4423 - mae: 1.4922 - val_loss: 4.7019 - val_mae: 1.6009\n",
      "Epoch 91/100\n",
      "3341/3341 [==============================] - 0s 50us/sample - loss: 4.4808 - mae: 1.5135 - val_loss: 4.6727 - val_mae: 1.5257\n",
      "Epoch 92/100\n",
      "3341/3341 [==============================] - 0s 31us/sample - loss: 4.4168 - mae: 1.4792 - val_loss: 4.6324 - val_mae: 1.5533\n",
      "Epoch 93/100\n",
      "3341/3341 [==============================] - 0s 39us/sample - loss: 4.3821 - mae: 1.4804 - val_loss: 4.6512 - val_mae: 1.5610\n",
      "Epoch 94/100\n",
      "3341/3341 [==============================] - 0s 39us/sample - loss: 4.3934 - mae: 1.4894 - val_loss: 4.6237 - val_mae: 1.5410\n",
      "Epoch 95/100\n",
      "3341/3341 [==============================] - 0s 33us/sample - loss: 4.3961 - mae: 1.4928 - val_loss: 4.9136 - val_mae: 1.5238\n",
      "Epoch 96/100\n",
      "3341/3341 [==============================] - 0s 32us/sample - loss: 4.3372 - mae: 1.4731 - val_loss: 4.6261 - val_mae: 1.5527\n",
      "Epoch 97/100\n",
      "3341/3341 [==============================] - 0s 37us/sample - loss: 4.3607 - mae: 1.4857 - val_loss: 4.8033 - val_mae: 1.5192\n",
      "Epoch 98/100\n",
      "3341/3341 [==============================] - 0s 30us/sample - loss: 4.3584 - mae: 1.4744 - val_loss: 4.8466 - val_mae: 1.5197\n",
      "Epoch 99/100\n",
      "3341/3341 [==============================] - 0s 30us/sample - loss: 4.3298 - mae: 1.4700 - val_loss: 5.0527 - val_mae: 1.5434\n",
      "Epoch 100/100\n",
      "3341/3341 [==============================] - 0s 38us/sample - loss: 4.4024 - mae: 1.4950 - val_loss: 4.6282 - val_mae: 1.5577\n"
     ]
    }
   ],
   "source": [
    "epochs = 100\n",
    "batch_size=128\n",
    "\n",
    "history = model.fit(X_train, y_train, epochs=epochs, batch_size=batch_size, validation_data=[X_test, y_test])"
   ]
  },
  {
   "cell_type": "code",
   "execution_count": 12,
   "metadata": {},
   "outputs": [],
   "source": [
    "y_pred = model.predict(X_test)"
   ]
  },
  {
   "cell_type": "markdown",
   "metadata": {},
   "source": [
    "## Evaluate"
   ]
  },
  {
   "cell_type": "code",
   "execution_count": 13,
   "metadata": {},
   "outputs": [],
   "source": [
    "from sklearn.metrics import mean_squared_error as mse\n",
    "from sklearn.metrics import r2_score as r2"
   ]
  },
  {
   "cell_type": "code",
   "execution_count": 14,
   "metadata": {
    "scrolled": true
   },
   "outputs": [
    {
     "name": "stdout",
     "output_type": "stream",
     "text": [
      "Score\n",
      "MSE :       4.628186913852855\n",
      "RMSE :      2.1513221315862614\n",
      "r2_score :  0.5875665219162838\n"
     ]
    }
   ],
   "source": [
    "print('Score')\n",
    "print('MSE :      ', mse(y_test, y_pred))\n",
    "print('RMSE :     ', np.sqrt(mse(y_test, y_pred)))\n",
    "print('r2_score : ', r2(y_test, y_pred))"
   ]
  },
  {
   "cell_type": "code",
   "execution_count": 16,
   "metadata": {},
   "outputs": [
    {
     "data": {
      "image/png": "[encoded data removed]",
      "text/plain": [
       "<Figure size 432x288 with 1 Axes>"
      ]
     },
     "metadata": {
      "needs_background": "light"
     },
     "output_type": "display_data"
    }
   ],
   "source": [
    "# Plot training & validation accuracy values\n",
    "plt.plot(history.history['loss'])\n",
    "plt.plot(history.history['val_loss'])\n",
    "plt.ylabel('MSE')\n",
    "plt.xlabel('Epoch')\n",
    "plt.legend(['Train', 'Test'], loc='upper left')\n",
    "plt.show()"
   ]
  },
  {
   "cell_type": "markdown",
   "metadata": {},
   "source": [
    "## Model 1-1 : increase param"
   ]
  },
  {
   "cell_type": "code",
   "execution_count": 17,
   "metadata": {},
   "outputs": [],
   "source": [
    "model = Sequential()\n",
    "model.add(Dense(512, input_shape=(8,)))\n",
    "model.add(Dense(512, activation='relu'))\n",
    "model.add(Dense(512, activation='relu'))\n",
    "model.add(Dense(1))"
   ]
  },
  {
   "cell_type": "code",
   "execution_count": 18,
   "metadata": {},
   "outputs": [],
   "source": [
    "model.compile(optimizer='adam', loss='mse', metrics=['mae'])"
   ]
  },
  {
   "cell_type": "code",
   "execution_count": 24,
   "metadata": {},
   "outputs": [
    {
     "name": "stdout",
     "output_type": "stream",
     "text": [
      "Model: \"sequential_1\"\n",
      "_________________________________________________________________\n",
      "Layer (type)                 Output Shape              Param #   \n",
      "=================================================================\n",
      "dense_4 (Dense)              (None, 512)               4608      \n",
      "_________________________________________________________________\n",
      "dense_5 (Dense)              (None, 512)               262656    \n",
      "_________________________________________________________________\n",
      "dense_6 (Dense)              (None, 512)               262656    \n",
      "_________________________________________________________________\n",
      "dense_7 (Dense)              (None, 1)                 513       \n",
      "=================================================================\n",
      "Total params: 530,433\n",
      "Trainable params: 530,433\n",
      "Non-trainable params: 0\n",
      "_________________________________________________________________\n"
     ]
    }
   ],
   "source": [
    "model.summary()"
   ]
  },
  {
   "cell_type": "code",
   "execution_count": 19,
   "metadata": {
    "scrolled": true
   },
   "outputs": [
    {
     "name": "stdout",
     "output_type": "stream",
     "text": [
      "Train on 3341 samples, validate on 836 samples\n",
      "Epoch 1/100\n",
      "3341/3341 [==============================] - 1s 404us/sample - loss: 29.2887 - mae: 4.1126 - val_loss: 12.1843 - val_mae: 2.7881\n",
      "Epoch 2/100\n",
      "3341/3341 [==============================] - 1s 184us/sample - loss: 9.7994 - mae: 2.2942 - val_loss: 9.5234 - val_mae: 2.2367\n",
      "Epoch 3/100\n",
      "3341/3341 [==============================] - 1s 163us/sample - loss: 8.2263 - mae: 2.0981 - val_loss: 8.1718 - val_mae: 2.0550\n",
      "Epoch 4/100\n",
      "3341/3341 [==============================] - 0s 121us/sample - loss: 7.0855 - mae: 1.9246 - val_loss: 7.6078 - val_mae: 1.8193\n",
      "Epoch 5/100\n",
      "3341/3341 [==============================] - 0s 105us/sample - loss: 6.0878 - mae: 1.7775 - val_loss: 6.8555 - val_mae: 2.1118\n",
      "Epoch 6/100\n",
      "3341/3341 [==============================] - 0s 102us/sample - loss: 5.8897 - mae: 1.7875 - val_loss: 6.1725 - val_mae: 1.6580\n",
      "Epoch 7/100\n",
      "3341/3341 [==============================] - 0s 100us/sample - loss: 5.3222 - mae: 1.6683 - val_loss: 6.1227 - val_mae: 1.6354\n",
      "Epoch 8/100\n",
      "3341/3341 [==============================] - 0s 107us/sample - loss: 5.1654 - mae: 1.6238 - val_loss: 5.4697 - val_mae: 1.6270\n",
      "Epoch 9/100\n",
      "3341/3341 [==============================] - 0s 134us/sample - loss: 5.0279 - mae: 1.6056 - val_loss: 5.2467 - val_mae: 1.7216\n",
      "Epoch 10/100\n",
      "3341/3341 [==============================] - 0s 120us/sample - loss: 4.9771 - mae: 1.6011 - val_loss: 6.6504 - val_mae: 1.7272\n",
      "Epoch 11/100\n",
      "3341/3341 [==============================] - 0s 101us/sample - loss: 4.9498 - mae: 1.6000 - val_loss: 5.5672 - val_mae: 1.6016\n",
      "Epoch 12/100\n",
      "3341/3341 [==============================] - 0s 125us/sample - loss: 4.9724 - mae: 1.6032 - val_loss: 5.0178 - val_mae: 1.6844\n",
      "Epoch 13/100\n",
      "3341/3341 [==============================] - 0s 129us/sample - loss: 4.7632 - mae: 1.5660 - val_loss: 4.9887 - val_mae: 1.5563\n",
      "Epoch 14/100\n",
      "3341/3341 [==============================] - 0s 105us/sample - loss: 4.8953 - mae: 1.5841 - val_loss: 4.8819 - val_mae: 1.5920\n",
      "Epoch 15/100\n",
      "3341/3341 [==============================] - 0s 114us/sample - loss: 4.9847 - mae: 1.6125 - val_loss: 4.9768 - val_mae: 1.5529\n",
      "Epoch 16/100\n",
      "3341/3341 [==============================] - 0s 104us/sample - loss: 4.6590 - mae: 1.5369 - val_loss: 5.0856 - val_mae: 1.5533\n",
      "Epoch 17/100\n",
      "3341/3341 [==============================] - 0s 105us/sample - loss: 4.6102 - mae: 1.5395 - val_loss: 4.8979 - val_mae: 1.5534\n",
      "Epoch 18/100\n",
      "3341/3341 [==============================] - 0s 137us/sample - loss: 4.7944 - mae: 1.5655 - val_loss: 4.9179 - val_mae: 1.6573\n",
      "Epoch 19/100\n",
      "3341/3341 [==============================] - 0s 112us/sample - loss: 4.8349 - mae: 1.5973 - val_loss: 4.8599 - val_mae: 1.5444\n",
      "Epoch 20/100\n",
      "3341/3341 [==============================] - 0s 112us/sample - loss: 4.5994 - mae: 1.5291 - val_loss: 4.7620 - val_mae: 1.5640\n",
      "Epoch 21/100\n",
      "3341/3341 [==============================] - 0s 109us/sample - loss: 4.6028 - mae: 1.5346 - val_loss: 5.3022 - val_mae: 1.5999\n",
      "Epoch 22/100\n",
      "3341/3341 [==============================] - 0s 117us/sample - loss: 4.6612 - mae: 1.5387 - val_loss: 4.8214 - val_mae: 1.5375\n",
      "Epoch 23/100\n",
      "3341/3341 [==============================] - 0s 118us/sample - loss: 4.5803 - mae: 1.5252 - val_loss: 4.7983 - val_mae: 1.6414\n",
      "Epoch 24/100\n",
      "3341/3341 [==============================] - ETA: 0s - loss: 4.6924 - mae: 1.553 - 0s 100us/sample - loss: 4.6884 - mae: 1.5539 - val_loss: 4.9983 - val_mae: 1.5478\n",
      "Epoch 25/100\n",
      "3341/3341 [==============================] - 0s 120us/sample - loss: 4.6256 - mae: 1.5285 - val_loss: 5.0011 - val_mae: 1.7062\n",
      "Epoch 26/100\n",
      "3341/3341 [==============================] - 0s 125us/sample - loss: 4.7599 - mae: 1.5752 - val_loss: 5.0319 - val_mae: 1.5389\n",
      "Epoch 27/100\n",
      "3341/3341 [==============================] - 1s 177us/sample - loss: 4.5668 - mae: 1.5204 - val_loss: 5.2393 - val_mae: 1.5560\n",
      "Epoch 28/100\n",
      "3341/3341 [==============================] - 0s 137us/sample - loss: 4.7808 - mae: 1.5612 - val_loss: 5.2139 - val_mae: 1.8025\n",
      "Epoch 29/100\n",
      "3341/3341 [==============================] - 0s 126us/sample - loss: 4.9128 - mae: 1.6082 - val_loss: 4.7747 - val_mae: 1.5807\n",
      "Epoch 30/100\n",
      "3341/3341 [==============================] - 0s 106us/sample - loss: 4.6134 - mae: 1.5352 - val_loss: 5.2954 - val_mae: 1.5727\n",
      "Epoch 31/100\n",
      "3341/3341 [==============================] - 0s 121us/sample - loss: 4.6827 - mae: 1.5387 - val_loss: 5.1556 - val_mae: 1.5537\n",
      "Epoch 32/100\n",
      "3341/3341 [==============================] - 0s 111us/sample - loss: 4.6106 - mae: 1.5234 - val_loss: 4.7110 - val_mae: 1.5514\n",
      "Epoch 33/100\n",
      "3341/3341 [==============================] - 0s 111us/sample - loss: 4.7269 - mae: 1.5575 - val_loss: 6.0974 - val_mae: 1.6666\n",
      "Epoch 34/100\n",
      "3341/3341 [==============================] - 0s 122us/sample - loss: 5.1110 - mae: 1.6560 - val_loss: 4.8278 - val_mae: 1.5532\n",
      "Epoch 35/100\n",
      "3341/3341 [==============================] - 0s 110us/sample - loss: 4.7119 - mae: 1.5455 - val_loss: 4.8442 - val_mae: 1.5277\n",
      "Epoch 36/100\n",
      "3341/3341 [==============================] - 0s 111us/sample - loss: 4.5972 - mae: 1.5213 - val_loss: 4.7297 - val_mae: 1.5875\n",
      "Epoch 37/100\n",
      "3341/3341 [==============================] - 0s 126us/sample - loss: 4.6428 - mae: 1.5394 - val_loss: 5.8594 - val_mae: 1.6421\n",
      "Epoch 38/100\n",
      "3341/3341 [==============================] - 0s 107us/sample - loss: 4.7266 - mae: 1.5411 - val_loss: 4.9338 - val_mae: 1.5452\n",
      "Epoch 39/100\n",
      "3341/3341 [==============================] - 0s 116us/sample - loss: 4.4534 - mae: 1.4998 - val_loss: 5.0081 - val_mae: 1.5335\n",
      "Epoch 40/100\n",
      "3341/3341 [==============================] - 0s 110us/sample - loss: 4.4668 - mae: 1.4976 - val_loss: 4.7623 - val_mae: 1.5796\n",
      "Epoch 41/100\n",
      "3341/3341 [==============================] - 0s 114us/sample - loss: 4.4846 - mae: 1.5048 - val_loss: 4.9436 - val_mae: 1.5342\n",
      "Epoch 42/100\n",
      "3341/3341 [==============================] - 0s 109us/sample - loss: 4.4676 - mae: 1.4931 - val_loss: 4.7727 - val_mae: 1.6231\n",
      "Epoch 43/100\n",
      "3341/3341 [==============================] - 0s 119us/sample - loss: 4.8214 - mae: 1.5792 - val_loss: 5.1532 - val_mae: 1.5439\n",
      "Epoch 44/100\n",
      "3341/3341 [==============================] - 0s 107us/sample - loss: 4.5238 - mae: 1.5045 - val_loss: 4.7328 - val_mae: 1.5355\n",
      "Epoch 45/100\n",
      "3341/3341 [==============================] - 0s 108us/sample - loss: 4.4732 - mae: 1.5007 - val_loss: 4.6706 - val_mae: 1.5413\n",
      "Epoch 46/100\n",
      "3341/3341 [==============================] - 0s 116us/sample - loss: 4.6105 - mae: 1.5247 - val_loss: 4.7096 - val_mae: 1.5317\n",
      "Epoch 47/100\n",
      "3341/3341 [==============================] - 0s 117us/sample - loss: 4.5788 - mae: 1.5208 - val_loss: 5.0536 - val_mae: 1.5433\n",
      "Epoch 48/100\n",
      "3341/3341 [==============================] - 0s 109us/sample - loss: 4.4906 - mae: 1.4978 - val_loss: 5.3434 - val_mae: 1.5736\n",
      "Epoch 49/100\n",
      "3341/3341 [==============================] - 0s 110us/sample - loss: 4.6982 - mae: 1.5408 - val_loss: 4.7530 - val_mae: 1.6008\n",
      "Epoch 50/100\n",
      "3341/3341 [==============================] - 0s 113us/sample - loss: 4.6186 - mae: 1.5314 - val_loss: 6.3381 - val_mae: 2.0802\n",
      "Epoch 51/100\n",
      "3341/3341 [==============================] - 0s 109us/sample - loss: 5.4878 - mae: 1.7189 - val_loss: 4.6813 - val_mae: 1.5672\n",
      "Epoch 52/100\n",
      "3341/3341 [==============================] - 0s 102us/sample - loss: 4.6260 - mae: 1.5221 - val_loss: 4.7185 - val_mae: 1.5603\n",
      "Epoch 53/100\n",
      "3341/3341 [==============================] - 0s 110us/sample - loss: 4.4298 - mae: 1.4995 - val_loss: 4.8397 - val_mae: 1.5219\n",
      "Epoch 54/100\n",
      "3341/3341 [==============================] - 0s 107us/sample - loss: 4.4281 - mae: 1.4880 - val_loss: 4.7044 - val_mae: 1.5205\n",
      "Epoch 55/100\n",
      "3341/3341 [==============================] - 0s 114us/sample - loss: 4.5277 - mae: 1.5139 - val_loss: 4.9013 - val_mae: 1.5284\n",
      "Epoch 56/100\n",
      "3341/3341 [==============================] - 0s 115us/sample - loss: 4.4573 - mae: 1.4891 - val_loss: 5.0658 - val_mae: 1.5453\n",
      "Epoch 57/100\n",
      "3341/3341 [==============================] - 0s 110us/sample - loss: 4.4250 - mae: 1.4890 - val_loss: 5.3072 - val_mae: 1.5670\n",
      "Epoch 58/100\n",
      "3341/3341 [==============================] - 1s 170us/sample - loss: 4.4976 - mae: 1.5049 - val_loss: 4.7996 - val_mae: 1.6444\n"
     ]
    },
    {
     "name": "stdout",
     "output_type": "stream",
     "text": [
      "Epoch 59/100\n",
      "3341/3341 [==============================] - 1s 177us/sample - loss: 4.8192 - mae: 1.5764 - val_loss: 4.9478 - val_mae: 1.5342\n",
      "Epoch 60/100\n",
      "3341/3341 [==============================] - 1s 152us/sample - loss: 4.4092 - mae: 1.4817 - val_loss: 5.3270 - val_mae: 1.5650\n",
      "Epoch 61/100\n",
      "3341/3341 [==============================] - 0s 91us/sample - loss: 4.5294 - mae: 1.5100 - val_loss: 4.7444 - val_mae: 1.6283\n",
      "Epoch 62/100\n",
      "3341/3341 [==============================] - 0s 102us/sample - loss: 4.5576 - mae: 1.5244 - val_loss: 6.0155 - val_mae: 1.6631\n",
      "Epoch 63/100\n",
      "3341/3341 [==============================] - 0s 112us/sample - loss: 4.5439 - mae: 1.5033 - val_loss: 4.8258 - val_mae: 1.5313\n",
      "Epoch 64/100\n",
      "3341/3341 [==============================] - 0s 98us/sample - loss: 4.4105 - mae: 1.4940 - val_loss: 5.5443 - val_mae: 1.6019\n",
      "Epoch 65/100\n",
      "3341/3341 [==============================] - 0s 112us/sample - loss: 4.5927 - mae: 1.5243 - val_loss: 4.9938 - val_mae: 1.5416\n",
      "Epoch 66/100\n",
      "3341/3341 [==============================] - 0s 116us/sample - loss: 4.4554 - mae: 1.5007 - val_loss: 4.8781 - val_mae: 1.5288\n",
      "Epoch 67/100\n",
      "3341/3341 [==============================] - 0s 106us/sample - loss: 4.5859 - mae: 1.5314 - val_loss: 4.7263 - val_mae: 1.5883\n",
      "Epoch 68/100\n",
      "3341/3341 [==============================] - 0s 106us/sample - loss: 4.7886 - mae: 1.5771 - val_loss: 4.8213 - val_mae: 1.6545\n",
      "Epoch 69/100\n",
      "3341/3341 [==============================] - 0s 111us/sample - loss: 4.7338 - mae: 1.5540 - val_loss: 5.1069 - val_mae: 1.7591\n",
      "Epoch 70/100\n",
      "3341/3341 [==============================] - 1s 161us/sample - loss: 4.7820 - mae: 1.5817 - val_loss: 4.9812 - val_mae: 1.7112\n",
      "Epoch 71/100\n",
      "3341/3341 [==============================] - 0s 113us/sample - loss: 4.7139 - mae: 1.5622 - val_loss: 4.8510 - val_mae: 1.5907\n",
      "Epoch 72/100\n",
      "3341/3341 [==============================] - 0s 115us/sample - loss: 4.4170 - mae: 1.4872 - val_loss: 4.6909 - val_mae: 1.5766\n",
      "Epoch 73/100\n",
      "3341/3341 [==============================] - 1s 183us/sample - loss: 4.4137 - mae: 1.4907 - val_loss: 5.2475 - val_mae: 1.5614\n",
      "Epoch 74/100\n",
      "3341/3341 [==============================] - 0s 138us/sample - loss: 4.4782 - mae: 1.5071 - val_loss: 5.3440 - val_mae: 1.5691\n",
      "Epoch 75/100\n",
      "3341/3341 [==============================] - 1s 151us/sample - loss: 4.6143 - mae: 1.5295 - val_loss: 4.8394 - val_mae: 1.5176\n",
      "Epoch 76/100\n",
      "3341/3341 [==============================] - 0s 130us/sample - loss: 4.3722 - mae: 1.4813 - val_loss: 4.6843 - val_mae: 1.5149\n",
      "Epoch 77/100\n",
      "3341/3341 [==============================] - 0s 113us/sample - loss: 4.3598 - mae: 1.4791 - val_loss: 4.6645 - val_mae: 1.5807\n",
      "Epoch 78/100\n",
      "3341/3341 [==============================] - 0s 106us/sample - loss: 4.4288 - mae: 1.5042 - val_loss: 5.1757 - val_mae: 1.5454\n",
      "Epoch 79/100\n",
      "3341/3341 [==============================] - 0s 105us/sample - loss: 4.3500 - mae: 1.4697 - val_loss: 4.8213 - val_mae: 1.5367\n",
      "Epoch 80/100\n",
      "3341/3341 [==============================] - 0s 91us/sample - loss: 4.3375 - mae: 1.4832 - val_loss: 4.6728 - val_mae: 1.6039\n",
      "Epoch 81/100\n",
      "3341/3341 [==============================] - 0s 91us/sample - loss: 4.8742 - mae: 1.5788 - val_loss: 4.8610 - val_mae: 1.6368\n",
      "Epoch 82/100\n",
      "3341/3341 [==============================] - 0s 125us/sample - loss: 4.4405 - mae: 1.5061 - val_loss: 4.7434 - val_mae: 1.6191\n",
      "Epoch 83/100\n",
      "3341/3341 [==============================] - 0s 101us/sample - loss: 4.4151 - mae: 1.5156 - val_loss: 4.9137 - val_mae: 1.6428\n",
      "Epoch 84/100\n",
      "3341/3341 [==============================] - 0s 99us/sample - loss: 4.3663 - mae: 1.4874 - val_loss: 4.7138 - val_mae: 1.5211\n",
      "Epoch 85/100\n",
      "3341/3341 [==============================] - 0s 101us/sample - loss: 4.3160 - mae: 1.4664 - val_loss: 5.0557 - val_mae: 1.5352\n",
      "Epoch 86/100\n",
      "3341/3341 [==============================] - 0s 101us/sample - loss: 4.4402 - mae: 1.5142 - val_loss: 5.3324 - val_mae: 1.5676\n",
      "Epoch 87/100\n",
      "3341/3341 [==============================] - 1s 157us/sample - loss: 4.3755 - mae: 1.4854 - val_loss: 5.0487 - val_mae: 1.7066\n",
      "Epoch 88/100\n",
      "3341/3341 [==============================] - 0s 130us/sample - loss: 4.8185 - mae: 1.5783 - val_loss: 5.1644 - val_mae: 1.7301\n",
      "Epoch 89/100\n",
      "3341/3341 [==============================] - 0s 124us/sample - loss: 4.4757 - mae: 1.5082 - val_loss: 4.6982 - val_mae: 1.5674\n",
      "Epoch 90/100\n",
      "3341/3341 [==============================] - 0s 147us/sample - loss: 4.4342 - mae: 1.5091 - val_loss: 4.9575 - val_mae: 1.5329\n",
      "Epoch 91/100\n",
      "3341/3341 [==============================] - 0s 94us/sample - loss: 4.3653 - mae: 1.4845 - val_loss: 5.6134 - val_mae: 1.5956\n",
      "Epoch 92/100\n",
      "3341/3341 [==============================] - 0s 130us/sample - loss: 4.3724 - mae: 1.4905 - val_loss: 5.3572 - val_mae: 1.5586\n",
      "Epoch 93/100\n",
      "3341/3341 [==============================] - 0s 127us/sample - loss: 4.6904 - mae: 1.5434 - val_loss: 4.7287 - val_mae: 1.5894\n",
      "Epoch 94/100\n",
      "3341/3341 [==============================] - 0s 129us/sample - loss: 4.3777 - mae: 1.4881 - val_loss: 4.9615 - val_mae: 1.5208\n",
      "Epoch 95/100\n",
      "3341/3341 [==============================] - 0s 129us/sample - loss: 4.2886 - mae: 1.4777 - val_loss: 4.8077 - val_mae: 1.5070\n",
      "Epoch 96/100\n",
      "3341/3341 [==============================] - 0s 149us/sample - loss: 4.7075 - mae: 1.5625 - val_loss: 5.3467 - val_mae: 1.5631\n",
      "Epoch 97/100\n",
      "3341/3341 [==============================] - 0s 129us/sample - loss: 4.5869 - mae: 1.5358 - val_loss: 5.5598 - val_mae: 1.5850\n",
      "Epoch 98/100\n",
      "3341/3341 [==============================] - 0s 128us/sample - loss: 4.3793 - mae: 1.4803 - val_loss: 5.1777 - val_mae: 1.5446\n",
      "Epoch 99/100\n",
      "3341/3341 [==============================] - 0s 130us/sample - loss: 4.3566 - mae: 1.4888 - val_loss: 4.8552 - val_mae: 1.5080\n",
      "Epoch 100/100\n",
      "3341/3341 [==============================] - 0s 109us/sample - loss: 4.2361 - mae: 1.4571 - val_loss: 4.8044 - val_mae: 1.5110\n"
     ]
    }
   ],
   "source": [
    "epochs = 100\n",
    "batch_size=128\n",
    "\n",
    "history = model.fit(X_train, y_train, epochs=epochs, batch_size=batch_size, validation_data=[X_test, y_test])"
   ]
  },
  {
   "cell_type": "code",
   "execution_count": 20,
   "metadata": {},
   "outputs": [],
   "source": [
    "y_pred = model.predict(X_test)"
   ]
  },
  {
   "cell_type": "markdown",
   "metadata": {},
   "source": [
    "## Evaluate"
   ]
  },
  {
   "cell_type": "code",
   "execution_count": 21,
   "metadata": {},
   "outputs": [],
   "source": [
    "from sklearn.metrics import mean_squared_error as mse\n",
    "from sklearn.metrics import r2_score as r2"
   ]
  },
  {
   "cell_type": "code",
   "execution_count": 22,
   "metadata": {
    "scrolled": true
   },
   "outputs": [
    {
     "name": "stdout",
     "output_type": "stream",
     "text": [
      "Score\n",
      "MSE :       4.804425480102542\n",
      "RMSE :      2.191899970368753\n",
      "r2_score :  0.5718613038246627\n"
     ]
    }
   ],
   "source": [
    "print('Score')\n",
    "print('MSE :      ', mse(y_test, y_pred))\n",
    "print('RMSE :     ', np.sqrt(mse(y_test, y_pred)))\n",
    "print('r2_score : ', r2(y_test, y_pred))"
   ]
  },
  {
   "cell_type": "code",
   "execution_count": 23,
   "metadata": {
    "scrolled": true
   },
   "outputs": [
    {
     "data": {
      "image/png": "[encoded data removed]",
      "text/plain": [
       "<Figure size 432x288 with 1 Axes>"
      ]
     },
     "metadata": {
      "needs_background": "light"
     },
     "output_type": "display_data"
    }
   ],
   "source": [
    "# Plot training & validation accuracy values\n",
    "plt.plot(history.history['loss'])\n",
    "plt.plot(history.history['val_loss'])\n",
    "plt.ylabel('MSE')\n",
    "plt.xlabel('Epoch')\n",
    "plt.legend(['Train', 'Test'], loc='upper left')\n",
    "plt.show()"
   ]
  },
  {
   "cell_type": "code",
   "execution_count": null,
   "metadata": {},
   "outputs": [],
   "source": []
  },
  {
   "cell_type": "markdown",
   "metadata": {},
   "source": [
    "## Model 1-2 : change optimizer"
   ]
  },
  {
   "cell_type": "code",
   "execution_count": 25,
   "metadata": {},
   "outputs": [],
   "source": [
    "model = Sequential()\n",
    "model.add(Dense(512, input_shape=(8,)))\n",
    "model.add(Dense(512, activation='relu'))\n",
    "model.add(Dense(512, activation='relu'))\n",
    "model.add(Dense(1))"
   ]
  },
  {
   "cell_type": "code",
   "execution_count": 26,
   "metadata": {},
   "outputs": [],
   "source": [
    "model.compile(optimizer='sgd', loss='mse', metrics=['mae'])"
   ]
  },
  {
   "cell_type": "code",
   "execution_count": 27,
   "metadata": {
    "scrolled": true
   },
   "outputs": [
    {
     "name": "stdout",
     "output_type": "stream",
     "text": [
      "Model: \"sequential_2\"\n",
      "_________________________________________________________________\n",
      "Layer (type)                 Output Shape              Param #   \n",
      "=================================================================\n",
      "dense_8 (Dense)              (None, 512)               4608      \n",
      "_________________________________________________________________\n",
      "dense_9 (Dense)              (None, 512)               262656    \n",
      "_________________________________________________________________\n",
      "dense_10 (Dense)             (None, 512)               262656    \n",
      "_________________________________________________________________\n",
      "dense_11 (Dense)             (None, 1)                 513       \n",
      "=================================================================\n",
      "Total params: 530,433\n",
      "Trainable params: 530,433\n",
      "Non-trainable params: 0\n",
      "_________________________________________________________________\n"
     ]
    }
   ],
   "source": [
    "model.summary()"
   ]
  },
  {
   "cell_type": "code",
   "execution_count": 28,
   "metadata": {
    "scrolled": true
   },
   "outputs": [
    {
     "name": "stdout",
     "output_type": "stream",
     "text": [
      "Train on 3341 samples, validate on 836 samples\n",
      "Epoch 1/100\n",
      "3341/3341 [==============================] - 1s 289us/sample - loss: 35.6837 - mae: 4.7782 - val_loss: 9.8762 - val_mae: 2.1046\n",
      "Epoch 2/100\n",
      "3341/3341 [==============================] - 1s 223us/sample - loss: 10.0331 - mae: 2.3646 - val_loss: 8.1920 - val_mae: 1.9170\n",
      "Epoch 3/100\n",
      "3341/3341 [==============================] - 0s 136us/sample - loss: 8.2746 - mae: 2.1488 - val_loss: 7.3560 - val_mae: 1.9682\n",
      "Epoch 4/100\n",
      "3341/3341 [==============================] - 0s 105us/sample - loss: 8.8304 - mae: 2.1988 - val_loss: 11.5142 - val_mae: 2.8994\n",
      "Epoch 5/100\n",
      "3341/3341 [==============================] - 0s 103us/sample - loss: 7.3436 - mae: 1.9747 - val_loss: 7.2052 - val_mae: 2.0922\n",
      "Epoch 6/100\n",
      "3341/3341 [==============================] - 0s 105us/sample - loss: 7.3627 - mae: 1.9910 - val_loss: 9.0368 - val_mae: 1.9206\n",
      "Epoch 7/100\n",
      "3341/3341 [==============================] - 0s 103us/sample - loss: 7.3869 - mae: 1.9980 - val_loss: 12.4843 - val_mae: 3.1509\n",
      "Epoch 8/100\n",
      "3341/3341 [==============================] - 0s 108us/sample - loss: 7.3427 - mae: 1.9944 - val_loss: 13.4702 - val_mae: 3.2581\n",
      "Epoch 9/100\n",
      "3341/3341 [==============================] - 0s 107us/sample - loss: 7.0215 - mae: 1.9384 - val_loss: 10.9939 - val_mae: 2.2929\n",
      "Epoch 10/100\n",
      "3341/3341 [==============================] - 0s 111us/sample - loss: 7.0383 - mae: 1.9440 - val_loss: 9.8207 - val_mae: 2.0326\n",
      "Epoch 11/100\n",
      "3341/3341 [==============================] - 0s 110us/sample - loss: 6.6902 - mae: 1.8729 - val_loss: 7.2617 - val_mae: 2.2213\n",
      "Epoch 12/100\n",
      "3341/3341 [==============================] - 0s 121us/sample - loss: 6.9035 - mae: 1.9413 - val_loss: 7.7861 - val_mae: 2.3466\n",
      "Epoch 13/100\n",
      "3341/3341 [==============================] - 0s 122us/sample - loss: 6.4926 - mae: 1.8595 - val_loss: 6.7626 - val_mae: 1.7055\n",
      "Epoch 14/100\n",
      "3341/3341 [==============================] - 0s 117us/sample - loss: 6.5948 - mae: 1.8775 - val_loss: 6.3661 - val_mae: 1.6694\n",
      "Epoch 15/100\n",
      "3341/3341 [==============================] - 0s 113us/sample - loss: 6.6401 - mae: 1.8749 - val_loss: 10.5325 - val_mae: 2.2420\n",
      "Epoch 16/100\n",
      "3341/3341 [==============================] - 0s 119us/sample - loss: 6.1769 - mae: 1.8202 - val_loss: 12.2785 - val_mae: 3.1631\n",
      "Epoch 17/100\n",
      "3341/3341 [==============================] - 0s 127us/sample - loss: 6.8253 - mae: 1.9202 - val_loss: 7.4224 - val_mae: 1.7479\n",
      "Epoch 18/100\n",
      "3341/3341 [==============================] - 0s 125us/sample - loss: 6.3985 - mae: 1.8445 - val_loss: 6.2267 - val_mae: 1.6711\n",
      "Epoch 19/100\n",
      "3341/3341 [==============================] - 0s 105us/sample - loss: 6.4350 - mae: 1.8432 - val_loss: 5.8649 - val_mae: 1.7114\n",
      "Epoch 20/100\n",
      "3341/3341 [==============================] - 0s 126us/sample - loss: 6.5060 - mae: 1.8704 - val_loss: 5.9318 - val_mae: 1.7736\n",
      "Epoch 21/100\n",
      "3341/3341 [==============================] - 0s 117us/sample - loss: 5.9516 - mae: 1.7703 - val_loss: 6.4001 - val_mae: 2.0430\n",
      "Epoch 22/100\n",
      "3341/3341 [==============================] - 0s 99us/sample - loss: 6.1552 - mae: 1.8001 - val_loss: 10.4070 - val_mae: 2.2297\n",
      "Epoch 23/100\n",
      "3341/3341 [==============================] - 0s 106us/sample - loss: 5.8760 - mae: 1.7533 - val_loss: 6.0380 - val_mae: 1.6279\n",
      "Epoch 24/100\n",
      "3341/3341 [==============================] - 0s 94us/sample - loss: 6.1907 - mae: 1.7953 - val_loss: 13.2107 - val_mae: 3.0682\n",
      "Epoch 25/100\n",
      "3341/3341 [==============================] - 0s 101us/sample - loss: 5.9993 - mae: 1.7881 - val_loss: 18.8157 - val_mae: 3.8983\n",
      "Epoch 26/100\n",
      "3341/3341 [==============================] - 0s 97us/sample - loss: 8.1870 - mae: 2.0593 - val_loss: 7.4537 - val_mae: 2.0829\n",
      "Epoch 27/100\n",
      "3341/3341 [==============================] - 0s 94us/sample - loss: 6.2327 - mae: 1.8143 - val_loss: 6.0894 - val_mae: 1.6940\n",
      "Epoch 28/100\n",
      "3341/3341 [==============================] - 0s 104us/sample - loss: 6.3213 - mae: 1.8256 - val_loss: 8.8384 - val_mae: 1.9460\n",
      "Epoch 29/100\n",
      "3341/3341 [==============================] - 0s 94us/sample - loss: 6.0923 - mae: 1.7786 - val_loss: 6.4649 - val_mae: 1.6667\n",
      "Epoch 30/100\n",
      "3341/3341 [==============================] - 0s 101us/sample - loss: 5.8625 - mae: 1.7518 - val_loss: 18.6398 - val_mae: 3.9429\n",
      "Epoch 31/100\n",
      "3341/3341 [==============================] - 0s 104us/sample - loss: 7.6110 - mae: 1.9958 - val_loss: 6.3166 - val_mae: 1.7013\n",
      "Epoch 32/100\n",
      "3341/3341 [==============================] - 0s 107us/sample - loss: 6.6694 - mae: 1.8476 - val_loss: 6.5614 - val_mae: 2.0083\n",
      "Epoch 33/100\n",
      "3341/3341 [==============================] - 0s 100us/sample - loss: 5.7104 - mae: 1.7448 - val_loss: 8.6071 - val_mae: 2.4751\n",
      "Epoch 34/100\n",
      "3341/3341 [==============================] - 0s 108us/sample - loss: 5.6011 - mae: 1.7063 - val_loss: 15.0048 - val_mae: 2.8422\n",
      "Epoch 35/100\n",
      "3341/3341 [==============================] - 0s 118us/sample - loss: 5.8138 - mae: 1.7308 - val_loss: 6.3147 - val_mae: 1.6772\n",
      "Epoch 36/100\n",
      "3341/3341 [==============================] - 0s 120us/sample - loss: 5.4901 - mae: 1.6911 - val_loss: 6.3369 - val_mae: 2.0048\n",
      "Epoch 37/100\n",
      "3341/3341 [==============================] - 0s 115us/sample - loss: 5.8115 - mae: 1.7447 - val_loss: 6.1181 - val_mae: 2.0369\n",
      "Epoch 38/100\n",
      "3341/3341 [==============================] - 0s 132us/sample - loss: 5.5033 - mae: 1.6948 - val_loss: 5.6707 - val_mae: 1.6042\n",
      "Epoch 39/100\n",
      "3341/3341 [==============================] - 0s 125us/sample - loss: 5.4761 - mae: 1.6744 - val_loss: 10.2282 - val_mae: 2.2025\n",
      "Epoch 40/100\n",
      "3341/3341 [==============================] - 0s 124us/sample - loss: 5.4905 - mae: 1.6800 - val_loss: 5.3289 - val_mae: 1.6947\n",
      "Epoch 41/100\n",
      "3341/3341 [==============================] - 0s 136us/sample - loss: 5.5084 - mae: 1.7024 - val_loss: 4.9406 - val_mae: 1.6544\n",
      "Epoch 42/100\n",
      "3341/3341 [==============================] - 0s 144us/sample - loss: 5.6448 - mae: 1.7033 - val_loss: 8.8191 - val_mae: 2.0023\n",
      "Epoch 43/100\n",
      "3341/3341 [==============================] - 1s 153us/sample - loss: 5.1232 - mae: 1.6238 - val_loss: 5.3495 - val_mae: 1.6011\n",
      "Epoch 44/100\n",
      "3341/3341 [==============================] - 0s 111us/sample - loss: 5.3168 - mae: 1.6520 - val_loss: 5.2764 - val_mae: 1.7931\n",
      "Epoch 45/100\n",
      "3341/3341 [==============================] - 0s 130us/sample - loss: 5.3204 - mae: 1.6582 - val_loss: 6.7956 - val_mae: 1.7310\n",
      "Epoch 46/100\n",
      "3341/3341 [==============================] - 0s 108us/sample - loss: 5.3607 - mae: 1.6584 - val_loss: 21.7433 - val_mae: 4.2929\n",
      "Epoch 47/100\n",
      "3341/3341 [==============================] - 0s 102us/sample - loss: 8.0488 - mae: 2.0657 - val_loss: 7.1051 - val_mae: 1.9808\n",
      "Epoch 48/100\n",
      "3341/3341 [==============================] - 0s 117us/sample - loss: 6.4034 - mae: 1.8231 - val_loss: 6.4892 - val_mae: 1.7431\n",
      "Epoch 49/100\n",
      "3341/3341 [==============================] - 0s 127us/sample - loss: 5.9911 - mae: 1.7723 - val_loss: 6.0600 - val_mae: 1.7571\n",
      "Epoch 50/100\n",
      "3341/3341 [==============================] - 0s 114us/sample - loss: 6.0456 - mae: 1.7996 - val_loss: 6.0765 - val_mae: 1.8514\n",
      "Epoch 51/100\n",
      "3341/3341 [==============================] - 0s 113us/sample - loss: 5.8627 - mae: 1.7611 - val_loss: 5.4411 - val_mae: 1.6822\n",
      "Epoch 52/100\n",
      "3341/3341 [==============================] - 0s 135us/sample - loss: 5.7439 - mae: 1.7440 - val_loss: 5.6611 - val_mae: 1.6202\n",
      "Epoch 53/100\n",
      "3341/3341 [==============================] - 0s 126us/sample - loss: 5.6245 - mae: 1.7254 - val_loss: 6.5435 - val_mae: 1.6770\n",
      "Epoch 54/100\n",
      "3341/3341 [==============================] - 0s 132us/sample - loss: 5.1871 - mae: 1.6332 - val_loss: 26.1940 - val_mae: 4.4668\n",
      "Epoch 55/100\n",
      "3341/3341 [==============================] - 0s 111us/sample - loss: 7.7769 - mae: 1.9678 - val_loss: 6.8814 - val_mae: 1.9731\n",
      "Epoch 56/100\n",
      "3341/3341 [==============================] - 0s 113us/sample - loss: 5.7527 - mae: 1.7555 - val_loss: 8.0314 - val_mae: 1.8797\n",
      "Epoch 57/100\n",
      "3341/3341 [==============================] - 0s 122us/sample - loss: 5.3935 - mae: 1.6880 - val_loss: 5.4643 - val_mae: 1.7433\n",
      "Epoch 58/100\n",
      "3341/3341 [==============================] - 0s 102us/sample - loss: 5.3617 - mae: 1.6715 - val_loss: 6.5287 - val_mae: 1.7307\n",
      "Epoch 59/100\n",
      "3341/3341 [==============================] - 0s 114us/sample - loss: 5.2139 - mae: 1.6441 - val_loss: 14.8138 - val_mae: 3.0057\n",
      "Epoch 60/100\n",
      "3341/3341 [==============================] - 1s 151us/sample - loss: 5.3741 - mae: 1.6723 - val_loss: 6.8725 - val_mae: 1.8155\n",
      "Epoch 61/100\n",
      "3341/3341 [==============================] - 0s 127us/sample - loss: 5.3070 - mae: 1.6667 - val_loss: 8.6847 - val_mae: 2.0297\n",
      "Epoch 62/100\n",
      "3341/3341 [==============================] - 0s 130us/sample - loss: 5.1971 - mae: 1.6338 - val_loss: 5.9085 - val_mae: 1.6068\n",
      "Epoch 63/100\n",
      "3341/3341 [==============================] - 0s 121us/sample - loss: 5.2070 - mae: 1.6330 - val_loss: 11.4611 - val_mae: 2.9175\n",
      "Epoch 64/100\n",
      "3341/3341 [==============================] - 0s 125us/sample - loss: 5.4253 - mae: 1.6725 - val_loss: 7.4963 - val_mae: 1.8420\n",
      "Epoch 65/100\n",
      "3341/3341 [==============================] - 0s 107us/sample - loss: 5.0416 - mae: 1.6195 - val_loss: 5.3425 - val_mae: 1.7450\n",
      "Epoch 66/100\n",
      "3341/3341 [==============================] - 0s 107us/sample - loss: 5.0579 - mae: 1.6271 - val_loss: 4.9359 - val_mae: 1.6325\n",
      "Epoch 67/100\n",
      "3341/3341 [==============================] - 0s 120us/sample - loss: 5.0286 - mae: 1.6068 - val_loss: 5.2111 - val_mae: 1.6808\n",
      "Epoch 68/100\n",
      "3341/3341 [==============================] - 0s 126us/sample - loss: 4.8602 - mae: 1.5857 - val_loss: 5.4133 - val_mae: 1.5542\n",
      "Epoch 69/100\n",
      "3341/3341 [==============================] - 0s 114us/sample - loss: 4.8498 - mae: 1.5818 - val_loss: 7.9557 - val_mae: 1.9234\n",
      "Epoch 70/100\n",
      "3341/3341 [==============================] - 0s 120us/sample - loss: 4.9953 - mae: 1.6025 - val_loss: 7.2618 - val_mae: 1.7789\n",
      "Epoch 71/100\n",
      "3341/3341 [==============================] - 0s 131us/sample - loss: 4.7467 - mae: 1.5602 - val_loss: 6.4586 - val_mae: 2.0335\n",
      "Epoch 72/100\n",
      "3341/3341 [==============================] - 0s 134us/sample - loss: 5.1522 - mae: 1.6436 - val_loss: 5.3040 - val_mae: 1.5494\n",
      "Epoch 73/100\n",
      "3341/3341 [==============================] - 0s 133us/sample - loss: 4.8738 - mae: 1.5760 - val_loss: 6.7875 - val_mae: 2.1389\n",
      "Epoch 74/100\n",
      "3341/3341 [==============================] - 0s 135us/sample - loss: 4.9173 - mae: 1.5942 - val_loss: 5.9267 - val_mae: 1.6304\n",
      "Epoch 75/100\n",
      "3341/3341 [==============================] - 0s 99us/sample - loss: 5.0731 - mae: 1.6034 - val_loss: 4.8662 - val_mae: 1.5876\n",
      "Epoch 76/100\n",
      "3341/3341 [==============================] - 0s 107us/sample - loss: 4.7867 - mae: 1.5645 - val_loss: 4.9827 - val_mae: 1.5332\n",
      "Epoch 77/100\n",
      "3341/3341 [==============================] - 0s 97us/sample - loss: 4.9749 - mae: 1.6024 - val_loss: 6.9087 - val_mae: 1.7036\n",
      "Epoch 78/100\n",
      "3341/3341 [==============================] - 0s 95us/sample - loss: 4.8333 - mae: 1.5665 - val_loss: 7.0902 - val_mae: 1.7738\n",
      "Epoch 79/100\n",
      "3341/3341 [==============================] - 0s 97us/sample - loss: 5.0318 - mae: 1.5975 - val_loss: 5.9862 - val_mae: 1.6192\n",
      "Epoch 80/100\n",
      "3341/3341 [==============================] - 0s 95us/sample - loss: 4.4954 - mae: 1.5049 - val_loss: 11.1243 - val_mae: 2.3511\n",
      "Epoch 81/100\n",
      "3341/3341 [==============================] - 0s 95us/sample - loss: 4.9494 - mae: 1.5864 - val_loss: 5.5551 - val_mae: 1.5766\n",
      "Epoch 82/100\n",
      "3341/3341 [==============================] - 0s 96us/sample - loss: 4.6882 - mae: 1.5520 - val_loss: 5.9452 - val_mae: 1.6024\n",
      "Epoch 83/100\n",
      "3341/3341 [==============================] - 0s 103us/sample - loss: 4.8009 - mae: 1.5693 - val_loss: 4.6714 - val_mae: 1.6002\n",
      "Epoch 84/100\n",
      "3341/3341 [==============================] - 0s 100us/sample - loss: 4.7012 - mae: 1.5485 - val_loss: 11.6853 - val_mae: 2.4453\n",
      "Epoch 85/100\n",
      "3341/3341 [==============================] - 0s 93us/sample - loss: 4.8789 - mae: 1.5676 - val_loss: 8.4827 - val_mae: 1.9479\n",
      "Epoch 86/100\n",
      "3341/3341 [==============================] - 0s 97us/sample - loss: 4.7540 - mae: 1.5585 - val_loss: 4.9817 - val_mae: 1.6236\n",
      "Epoch 87/100\n",
      "3341/3341 [==============================] - 0s 101us/sample - loss: 4.8339 - mae: 1.5832 - val_loss: 5.1743 - val_mae: 1.5769\n",
      "Epoch 88/100\n",
      "3341/3341 [==============================] - 0s 94us/sample - loss: 4.9681 - mae: 1.5808 - val_loss: 5.1782 - val_mae: 1.5317\n",
      "Epoch 89/100\n",
      "3341/3341 [==============================] - 0s 95us/sample - loss: 4.6218 - mae: 1.5320 - val_loss: 5.6804 - val_mae: 1.5875\n",
      "Epoch 90/100\n",
      "3341/3341 [==============================] - 0s 98us/sample - loss: 4.5675 - mae: 1.5226 - val_loss: 4.5985 - val_mae: 1.5305\n",
      "Epoch 91/100\n",
      "3341/3341 [==============================] - 0s 98us/sample - loss: 4.7189 - mae: 1.5538 - val_loss: 8.0832 - val_mae: 1.8733\n",
      "Epoch 92/100\n",
      "3341/3341 [==============================] - 0s 89us/sample - loss: 4.8734 - mae: 1.5593 - val_loss: 5.2516 - val_mae: 1.5467\n",
      "Epoch 93/100\n",
      "3341/3341 [==============================] - 0s 98us/sample - loss: 4.7452 - mae: 1.5517 - val_loss: 4.8324 - val_mae: 1.5824\n",
      "Epoch 94/100\n",
      "3341/3341 [==============================] - 0s 99us/sample - loss: 4.7983 - mae: 1.5623 - val_loss: 5.8163 - val_mae: 1.5835\n",
      "Epoch 95/100\n",
      "3341/3341 [==============================] - 0s 94us/sample - loss: 4.5660 - mae: 1.5125 - val_loss: 4.6165 - val_mae: 1.5173\n",
      "Epoch 96/100\n",
      "3341/3341 [==============================] - 0s 106us/sample - loss: 4.8781 - mae: 1.5729 - val_loss: 5.1415 - val_mae: 1.5416\n",
      "Epoch 97/100\n",
      "3341/3341 [==============================] - 0s 109us/sample - loss: 4.6675 - mae: 1.5364 - val_loss: 6.8544 - val_mae: 1.7558\n",
      "Epoch 98/100\n",
      "3341/3341 [==============================] - 0s 106us/sample - loss: 4.9739 - mae: 1.5925 - val_loss: 5.4337 - val_mae: 1.8072\n",
      "Epoch 99/100\n",
      "3341/3341 [==============================] - 0s 95us/sample - loss: 4.7965 - mae: 1.5728 - val_loss: 9.8882 - val_mae: 2.7084\n",
      "Epoch 100/100\n",
      "3341/3341 [==============================] - 0s 97us/sample - loss: 5.1567 - mae: 1.6299 - val_loss: 5.9750 - val_mae: 1.6383\n"
     ]
    }
   ],
   "source": [
    "epochs = 100\n",
    "batch_size=128\n",
    "\n",
    "history = model.fit(X_train, y_train, epochs=epochs, batch_size=batch_size, validation_data=[X_test, y_test])"
   ]
  },
  {
   "cell_type": "code",
   "execution_count": 29,
   "metadata": {},
   "outputs": [],
   "source": [
    "y_pred = model.predict(X_test)"
   ]
  },
  {
   "cell_type": "markdown",
   "metadata": {},
   "source": [
    "## Evaluate"
   ]
  },
  {
   "cell_type": "code",
   "execution_count": 30,
   "metadata": {},
   "outputs": [],
   "source": [
    "from sklearn.metrics import mean_squared_error as mse\n",
    "from sklearn.metrics import r2_score as r2"
   ]
  },
  {
   "cell_type": "code",
   "execution_count": 31,
   "metadata": {
    "scrolled": true
   },
   "outputs": [
    {
     "name": "stdout",
     "output_type": "stream",
     "text": [
      "Score\n",
      "MSE :       5.975040370808466\n",
      "RMSE :      2.444389570180757\n",
      "r2_score :  0.4675438292159042\n"
     ]
    }
   ],
   "source": [
    "print('Score')\n",
    "print('MSE :      ', mse(y_test, y_pred))\n",
    "print('RMSE :     ', np.sqrt(mse(y_test, y_pred)))\n",
    "print('r2_score : ', r2(y_test, y_pred))"
   ]
  },
  {
   "cell_type": "code",
   "execution_count": 32,
   "metadata": {
    "scrolled": false
   },
   "outputs": [
    {
     "data": {
      "image/png": "[encoded data removed]",
      "text/plain": [
       "<Figure size 432x288 with 1 Axes>"
      ]
     },
     "metadata": {
      "needs_background": "light"
     },
     "output_type": "display_data"
    }
   ],
   "source": [
    "# Plot training & validation accuracy values\n",
    "plt.plot(history.history['loss'])\n",
    "plt.plot(history.history['val_loss'])\n",
    "plt.ylabel('MSE')\n",
    "plt.xlabel('Epoch')\n",
    "plt.legend(['Train', 'Test'], loc='upper left')\n",
    "plt.show()"
   ]
  },
  {
   "cell_type": "code",
   "execution_count": null,
   "metadata": {},
   "outputs": [],
   "source": []
  },
  {
   "cell_type": "code",
   "execution_count": null,
   "metadata": {},
   "outputs": [],
   "source": []
  },
  {
   "cell_type": "markdown",
   "metadata": {},
   "source": [
    "## Model 1-3 : increase param"
   ]
  },
  {
   "cell_type": "code",
   "execution_count": 43,
   "metadata": {},
   "outputs": [],
   "source": [
    "model = Sequential()\n",
    "model.add(Dense(512, input_shape=(8,)))\n",
    "model.add(Dense(512, activation='relu'))\n",
    "model.add(Dense(512, activation='relu'))\n",
    "model.add(Dense(512, activation='relu'))\n",
    "model.add(Dense(512, activation='relu'))\n",
    "model.add(Dense(512, activation='relu'))\n",
    "model.add(Dense(1))"
   ]
  },
  {
   "cell_type": "code",
   "execution_count": 44,
   "metadata": {},
   "outputs": [],
   "source": [
    "model.compile(optimizer='adam', loss='mse', metrics=['mae'])"
   ]
  },
  {
   "cell_type": "code",
   "execution_count": 45,
   "metadata": {},
   "outputs": [
    {
     "name": "stdout",
     "output_type": "stream",
     "text": [
      "Model: \"sequential_4\"\n",
      "_________________________________________________________________\n",
      "Layer (type)                 Output Shape              Param #   \n",
      "=================================================================\n",
      "dense_16 (Dense)             (None, 512)               4608      \n",
      "_________________________________________________________________\n",
      "dense_17 (Dense)             (None, 512)               262656    \n",
      "_________________________________________________________________\n",
      "dense_18 (Dense)             (None, 512)               262656    \n",
      "_________________________________________________________________\n",
      "dense_19 (Dense)             (None, 512)               262656    \n",
      "_________________________________________________________________\n",
      "dense_20 (Dense)             (None, 512)               262656    \n",
      "_________________________________________________________________\n",
      "dense_21 (Dense)             (None, 512)               262656    \n",
      "_________________________________________________________________\n",
      "dense_22 (Dense)             (None, 1)                 513       \n",
      "=================================================================\n",
      "Total params: 1,318,401\n",
      "Trainable params: 1,318,401\n",
      "Non-trainable params: 0\n",
      "_________________________________________________________________\n"
     ]
    }
   ],
   "source": [
    "model.summary()"
   ]
  },
  {
   "cell_type": "code",
   "execution_count": 46,
   "metadata": {
    "scrolled": true
   },
   "outputs": [
    {
     "name": "stdout",
     "output_type": "stream",
     "text": [
      "Train on 3341 samples, validate on 836 samples\n",
      "Epoch 1/100\n",
      "3341/3341 [==============================] - 2s 558us/sample - loss: 28.1367 - mae: 4.0296 - val_loss: 9.8951 - val_mae: 2.4549\n",
      "Epoch 2/100\n",
      "3341/3341 [==============================] - 1s 262us/sample - loss: 8.5814 - mae: 2.1771 - val_loss: 9.6799 - val_mae: 2.0997\n",
      "Epoch 3/100\n",
      "3341/3341 [==============================] - 1s 218us/sample - loss: 7.2214 - mae: 1.9260 - val_loss: 6.7063 - val_mae: 1.9523\n",
      "Epoch 4/100\n",
      "3341/3341 [==============================] - 1s 196us/sample - loss: 6.3137 - mae: 1.8192 - val_loss: 6.0279 - val_mae: 1.7015\n",
      "Epoch 5/100\n",
      "3341/3341 [==============================] - 1s 277us/sample - loss: 5.7671 - mae: 1.7601 - val_loss: 6.3557 - val_mae: 1.6491\n",
      "Epoch 6/100\n",
      "3341/3341 [==============================] - 1s 279us/sample - loss: 5.3719 - mae: 1.6750 - val_loss: 6.5175 - val_mae: 1.6865\n",
      "Epoch 7/100\n",
      "3341/3341 [==============================] - 1s 283us/sample - loss: 5.1954 - mae: 1.6476 - val_loss: 5.1269 - val_mae: 1.6367\n",
      "Epoch 8/100\n",
      "3341/3341 [==============================] - 1s 233us/sample - loss: 5.0391 - mae: 1.6168 - val_loss: 5.8482 - val_mae: 1.6270\n",
      "Epoch 9/100\n",
      "3341/3341 [==============================] - 1s 239us/sample - loss: 4.7185 - mae: 1.5546 - val_loss: 5.4347 - val_mae: 1.5828\n",
      "Epoch 10/100\n",
      "3341/3341 [==============================] - 1s 293us/sample - loss: 4.7809 - mae: 1.5571 - val_loss: 5.4122 - val_mae: 1.5943\n",
      "Epoch 11/100\n",
      "3341/3341 [==============================] - 1s 304us/sample - loss: 4.5983 - mae: 1.5302 - val_loss: 8.6753 - val_mae: 2.0996\n",
      "Epoch 12/100\n",
      "3341/3341 [==============================] - 1s 258us/sample - loss: 5.1565 - mae: 1.6366 - val_loss: 5.2832 - val_mae: 1.7758\n",
      "Epoch 13/100\n",
      "3341/3341 [==============================] - 1s 270us/sample - loss: 4.6741 - mae: 1.5440 - val_loss: 5.0229 - val_mae: 1.5456\n",
      "Epoch 14/100\n",
      "3341/3341 [==============================] - 1s 262us/sample - loss: 5.0154 - mae: 1.5981 - val_loss: 5.0997 - val_mae: 1.7574\n",
      "Epoch 15/100\n",
      "3341/3341 [==============================] - 1s 280us/sample - loss: 5.1206 - mae: 1.6239 - val_loss: 5.0354 - val_mae: 1.7254\n",
      "Epoch 16/100\n",
      "3341/3341 [==============================] - 1s 276us/sample - loss: 4.5474 - mae: 1.5268 - val_loss: 4.7673 - val_mae: 1.5276\n",
      "Epoch 17/100\n",
      "3341/3341 [==============================] - 1s 245us/sample - loss: 4.5516 - mae: 1.5156 - val_loss: 7.3276 - val_mae: 2.2425\n",
      "Epoch 18/100\n",
      "3341/3341 [==============================] - 1s 260us/sample - loss: 5.1782 - mae: 1.6472 - val_loss: 5.1901 - val_mae: 1.5738\n",
      "Epoch 19/100\n",
      "3341/3341 [==============================] - 1s 247us/sample - loss: 4.7222 - mae: 1.5503 - val_loss: 5.5083 - val_mae: 1.5887\n",
      "Epoch 20/100\n",
      "3341/3341 [==============================] - 1s 263us/sample - loss: 4.6530 - mae: 1.5393 - val_loss: 5.2481 - val_mae: 1.5657\n",
      "Epoch 21/100\n",
      "3341/3341 [==============================] - 1s 249us/sample - loss: 4.6251 - mae: 1.5248 - val_loss: 4.6580 - val_mae: 1.5729\n",
      "Epoch 22/100\n",
      "3341/3341 [==============================] - 1s 263us/sample - loss: 4.5513 - mae: 1.5125 - val_loss: 6.0209 - val_mae: 1.9576\n",
      "Epoch 23/100\n",
      "3341/3341 [==============================] - 1s 256us/sample - loss: 4.8846 - mae: 1.5808 - val_loss: 5.9754 - val_mae: 1.6699\n",
      "Epoch 24/100\n",
      "3341/3341 [==============================] - 1s 259us/sample - loss: 4.6172 - mae: 1.5147 - val_loss: 4.7073 - val_mae: 1.5466\n",
      "Epoch 25/100\n",
      "3341/3341 [==============================] - 1s 249us/sample - loss: 4.5637 - mae: 1.5176 - val_loss: 4.6999 - val_mae: 1.5450\n",
      "Epoch 26/100\n",
      "3341/3341 [==============================] - 1s 248us/sample - loss: 4.7622 - mae: 1.5649 - val_loss: 5.0376 - val_mae: 1.5341\n",
      "Epoch 27/100\n",
      "3341/3341 [==============================] - 1s 262us/sample - loss: 4.7285 - mae: 1.5554 - val_loss: 5.2260 - val_mae: 1.5686\n",
      "Epoch 28/100\n",
      "3341/3341 [==============================] - 1s 260us/sample - loss: 4.8204 - mae: 1.5605 - val_loss: 5.0037 - val_mae: 1.7273\n",
      "Epoch 29/100\n",
      "3341/3341 [==============================] - 1s 261us/sample - loss: 4.8816 - mae: 1.5748 - val_loss: 4.9020 - val_mae: 1.5443\n",
      "Epoch 30/100\n",
      "3341/3341 [==============================] - 1s 260us/sample - loss: 4.7084 - mae: 1.5508 - val_loss: 4.6897 - val_mae: 1.5520\n",
      "Epoch 31/100\n",
      "3341/3341 [==============================] - 1s 270us/sample - loss: 4.6365 - mae: 1.5338 - val_loss: 5.2735 - val_mae: 1.5741\n",
      "Epoch 32/100\n",
      "3341/3341 [==============================] - 1s 264us/sample - loss: 4.4073 - mae: 1.4842 - val_loss: 4.6729 - val_mae: 1.5608\n",
      "Epoch 33/100\n",
      "3341/3341 [==============================] - 1s 257us/sample - loss: 4.4416 - mae: 1.4948 - val_loss: 4.6130 - val_mae: 1.5486\n",
      "Epoch 34/100\n",
      "3341/3341 [==============================] - 1s 209us/sample - loss: 4.8484 - mae: 1.5634 - val_loss: 4.7048 - val_mae: 1.5561\n",
      "Epoch 35/100\n",
      "3341/3341 [==============================] - 1s 293us/sample - loss: 4.8034 - mae: 1.5635 - val_loss: 5.7343 - val_mae: 1.9356\n",
      "Epoch 36/100\n",
      "3341/3341 [==============================] - 1s 264us/sample - loss: 5.2584 - mae: 1.6621 - val_loss: 5.8623 - val_mae: 1.9871\n",
      "Epoch 37/100\n",
      "3341/3341 [==============================] - 1s 261us/sample - loss: 5.0192 - mae: 1.6250 - val_loss: 6.8193 - val_mae: 1.8278\n",
      "Epoch 38/100\n",
      "3341/3341 [==============================] - 1s 261us/sample - loss: 5.3474 - mae: 1.6823 - val_loss: 4.8161 - val_mae: 1.6031\n",
      "Epoch 39/100\n",
      "3341/3341 [==============================] - 1s 271us/sample - loss: 4.5810 - mae: 1.5234 - val_loss: 4.7207 - val_mae: 1.6148\n",
      "Epoch 40/100\n",
      "3341/3341 [==============================] - 1s 265us/sample - loss: 5.2139 - mae: 1.6588 - val_loss: 4.7619 - val_mae: 1.6007\n",
      "Epoch 41/100\n",
      "3341/3341 [==============================] - 1s 245us/sample - loss: 4.7066 - mae: 1.5495 - val_loss: 4.6160 - val_mae: 1.5500\n",
      "Epoch 42/100\n",
      "3341/3341 [==============================] - 1s 250us/sample - loss: 4.4376 - mae: 1.4934 - val_loss: 4.6940 - val_mae: 1.5225\n",
      "Epoch 43/100\n",
      "3341/3341 [==============================] - 1s 267us/sample - loss: 4.4924 - mae: 1.4930 - val_loss: 4.8704 - val_mae: 1.5153\n",
      "Epoch 44/100\n",
      "3341/3341 [==============================] - 1s 251us/sample - loss: 4.4538 - mae: 1.4888 - val_loss: 5.9972 - val_mae: 1.6567\n",
      "Epoch 45/100\n",
      "3341/3341 [==============================] - 1s 295us/sample - loss: 4.6684 - mae: 1.5442 - val_loss: 4.6456 - val_mae: 1.5255\n",
      "Epoch 46/100\n",
      "3341/3341 [==============================] - 1s 245us/sample - loss: 4.4108 - mae: 1.4844 - val_loss: 5.7765 - val_mae: 1.6152\n",
      "Epoch 47/100\n",
      "3341/3341 [==============================] - 1s 277us/sample - loss: 4.9665 - mae: 1.6046 - val_loss: 4.7543 - val_mae: 1.5170\n",
      "Epoch 48/100\n",
      "3341/3341 [==============================] - 1s 237us/sample - loss: 4.7428 - mae: 1.5670 - val_loss: 5.1427 - val_mae: 1.5600\n",
      "Epoch 49/100\n",
      "3341/3341 [==============================] - 1s 271us/sample - loss: 4.7687 - mae: 1.5607 - val_loss: 4.6392 - val_mae: 1.5638\n",
      "Epoch 50/100\n",
      "3341/3341 [==============================] - 1s 257us/sample - loss: 4.3823 - mae: 1.4928 - val_loss: 4.9623 - val_mae: 1.5165\n",
      "Epoch 51/100\n",
      "3341/3341 [==============================] - 1s 236us/sample - loss: 4.2869 - mae: 1.4616 - val_loss: 4.8577 - val_mae: 1.5148\n",
      "Epoch 52/100\n",
      "3341/3341 [==============================] - 1s 249us/sample - loss: 4.6238 - mae: 1.5379 - val_loss: 8.0356 - val_mae: 1.9405\n",
      "Epoch 53/100\n",
      "3341/3341 [==============================] - 1s 266us/sample - loss: 5.3141 - mae: 1.6521 - val_loss: 4.9047 - val_mae: 1.6763\n",
      "Epoch 54/100\n",
      "3341/3341 [==============================] - 1s 259us/sample - loss: 4.5640 - mae: 1.5282 - val_loss: 4.8396 - val_mae: 1.6328\n",
      "Epoch 55/100\n",
      "3341/3341 [==============================] - 1s 237us/sample - loss: 5.1250 - mae: 1.6614 - val_loss: 7.1435 - val_mae: 1.8500\n",
      "Epoch 56/100\n",
      "3341/3341 [==============================] - 1s 243us/sample - loss: 4.6212 - mae: 1.5218 - val_loss: 4.7436 - val_mae: 1.5957\n",
      "Epoch 57/100\n",
      "3341/3341 [==============================] - 1s 252us/sample - loss: 4.3246 - mae: 1.4690 - val_loss: 5.8027 - val_mae: 1.9180\n",
      "Epoch 58/100\n",
      "3341/3341 [==============================] - 1s 260us/sample - loss: 4.6728 - mae: 1.5544 - val_loss: 4.9363 - val_mae: 1.5135\n",
      "Epoch 59/100\n",
      "3341/3341 [==============================] - 1s 219us/sample - loss: 4.4052 - mae: 1.5056 - val_loss: 5.9985 - val_mae: 1.6672\n",
      "Epoch 60/100\n",
      "3341/3341 [==============================] - 1s 202us/sample - loss: 4.5534 - mae: 1.5144 - val_loss: 4.8774 - val_mae: 1.6283\n",
      "Epoch 61/100\n",
      "3341/3341 [==============================] - 1s 224us/sample - loss: 4.2730 - mae: 1.4723 - val_loss: 4.5622 - val_mae: 1.5303\n",
      "Epoch 62/100\n",
      "3341/3341 [==============================] - 1s 267us/sample - loss: 4.7179 - mae: 1.5668 - val_loss: 7.3985 - val_mae: 1.8817\n",
      "Epoch 63/100\n",
      "3341/3341 [==============================] - 1s 240us/sample - loss: 5.2425 - mae: 1.6433 - val_loss: 4.7820 - val_mae: 1.5856\n",
      "Epoch 64/100\n",
      "3341/3341 [==============================] - ETA: 0s - loss: 4.4559 - mae: 1.507 - 1s 245us/sample - loss: 4.4183 - mae: 1.5028 - val_loss: 5.4614 - val_mae: 1.8432\n",
      "Epoch 65/100\n",
      "3341/3341 [==============================] - 1s 218us/sample - loss: 4.6843 - mae: 1.5635 - val_loss: 6.1661 - val_mae: 1.6718\n",
      "Epoch 66/100\n",
      "3341/3341 [==============================] - 1s 235us/sample - loss: 4.4311 - mae: 1.4951 - val_loss: 5.1006 - val_mae: 1.5103\n",
      "Epoch 67/100\n",
      "3341/3341 [==============================] - 1s 241us/sample - loss: 4.3241 - mae: 1.4708 - val_loss: 5.4198 - val_mae: 1.5641\n",
      "Epoch 68/100\n",
      "3341/3341 [==============================] - 1s 289us/sample - loss: 4.7606 - mae: 1.5513 - val_loss: 4.8233 - val_mae: 1.6045\n",
      "Epoch 69/100\n",
      "3341/3341 [==============================] - 1s 259us/sample - loss: 4.4502 - mae: 1.5099 - val_loss: 4.7077 - val_mae: 1.5076\n",
      "Epoch 70/100\n",
      "3341/3341 [==============================] - 1s 255us/sample - loss: 4.1834 - mae: 1.4503 - val_loss: 5.3163 - val_mae: 1.7403\n",
      "Epoch 71/100\n",
      "3341/3341 [==============================] - 1s 270us/sample - loss: 4.5241 - mae: 1.5349 - val_loss: 5.8363 - val_mae: 1.6458\n",
      "Epoch 72/100\n",
      "3341/3341 [==============================] - 1s 262us/sample - loss: 5.1888 - mae: 1.6341 - val_loss: 5.6518 - val_mae: 1.6033\n",
      "Epoch 73/100\n",
      "3341/3341 [==============================] - 1s 217us/sample - loss: 4.3565 - mae: 1.4778 - val_loss: 4.6680 - val_mae: 1.4927\n",
      "Epoch 74/100\n",
      "3341/3341 [==============================] - 1s 201us/sample - loss: 4.2395 - mae: 1.4708 - val_loss: 4.7896 - val_mae: 1.5021\n",
      "Epoch 75/100\n",
      "3341/3341 [==============================] - 1s 207us/sample - loss: 4.1407 - mae: 1.4339 - val_loss: 4.7699 - val_mae: 1.5020\n",
      "Epoch 76/100\n",
      "3341/3341 [==============================] - 1s 214us/sample - loss: 4.2677 - mae: 1.4666 - val_loss: 6.1099 - val_mae: 1.6916\n",
      "Epoch 77/100\n",
      "3341/3341 [==============================] - 1s 218us/sample - loss: 4.5308 - mae: 1.5263 - val_loss: 4.9534 - val_mae: 1.5042\n",
      "Epoch 78/100\n",
      "3341/3341 [==============================] - 1s 201us/sample - loss: 4.2906 - mae: 1.4690 - val_loss: 4.7058 - val_mae: 1.4897\n",
      "Epoch 79/100\n",
      "3341/3341 [==============================] - 1s 202us/sample - loss: 4.3317 - mae: 1.4851 - val_loss: 5.0713 - val_mae: 1.5115\n",
      "Epoch 80/100\n",
      "3341/3341 [==============================] - 1s 201us/sample - loss: 4.5538 - mae: 1.5030 - val_loss: 4.9135 - val_mae: 1.6442\n",
      "Epoch 81/100\n",
      "3341/3341 [==============================] - 1s 203us/sample - loss: 4.6285 - mae: 1.5411 - val_loss: 5.1225 - val_mae: 1.5997\n",
      "Epoch 82/100\n",
      "3341/3341 [==============================] - 1s 198us/sample - loss: 4.5903 - mae: 1.5389 - val_loss: 4.9813 - val_mae: 1.5357\n",
      "Epoch 83/100\n",
      "3341/3341 [==============================] - 1s 206us/sample - loss: 4.2058 - mae: 1.4539 - val_loss: 4.5856 - val_mae: 1.5239\n",
      "Epoch 84/100\n",
      "3341/3341 [==============================] - 1s 211us/sample - loss: 4.1838 - mae: 1.4518 - val_loss: 5.0060 - val_mae: 1.5028\n",
      "Epoch 85/100\n",
      "3341/3341 [==============================] - 1s 208us/sample - loss: 4.1381 - mae: 1.4398 - val_loss: 4.7469 - val_mae: 1.4947\n",
      "Epoch 86/100\n",
      "3341/3341 [==============================] - 1s 201us/sample - loss: 4.2263 - mae: 1.4605 - val_loss: 5.1371 - val_mae: 1.5210\n",
      "Epoch 87/100\n",
      "3341/3341 [==============================] - 1s 210us/sample - loss: 4.2797 - mae: 1.4683 - val_loss: 4.7083 - val_mae: 1.5050\n",
      "Epoch 88/100\n",
      "3341/3341 [==============================] - 1s 201us/sample - loss: 4.1864 - mae: 1.4490 - val_loss: 4.7963 - val_mae: 1.4943\n",
      "Epoch 89/100\n",
      "3341/3341 [==============================] - 1s 209us/sample - loss: 4.1878 - mae: 1.4504 - val_loss: 4.7454 - val_mae: 1.4960\n",
      "Epoch 90/100\n",
      "3341/3341 [==============================] - 1s 204us/sample - loss: 4.2095 - mae: 1.4581 - val_loss: 5.1241 - val_mae: 1.5242\n",
      "Epoch 91/100\n",
      "3341/3341 [==============================] - 1s 225us/sample - loss: 4.5091 - mae: 1.5065 - val_loss: 4.7234 - val_mae: 1.5733\n",
      "Epoch 92/100\n",
      "3341/3341 [==============================] - 1s 214us/sample - loss: 4.4052 - mae: 1.4910 - val_loss: 4.8149 - val_mae: 1.6240\n",
      "Epoch 93/100\n",
      "3341/3341 [==============================] - 1s 232us/sample - loss: 4.3864 - mae: 1.4918 - val_loss: 4.5674 - val_mae: 1.4993\n",
      "Epoch 94/100\n",
      "3341/3341 [==============================] - 1s 216us/sample - loss: 4.1817 - mae: 1.4428 - val_loss: 5.7176 - val_mae: 1.5911\n",
      "Epoch 95/100\n",
      "3341/3341 [==============================] - 1s 205us/sample - loss: 4.4014 - mae: 1.4804 - val_loss: 5.1629 - val_mae: 1.5333\n",
      "Epoch 96/100\n",
      "3341/3341 [==============================] - 1s 206us/sample - loss: 4.1742 - mae: 1.4451 - val_loss: 5.1106 - val_mae: 1.7086\n",
      "Epoch 97/100\n",
      "3341/3341 [==============================] - 1s 202us/sample - loss: 4.6217 - mae: 1.5397 - val_loss: 5.8819 - val_mae: 1.9380\n",
      "Epoch 98/100\n",
      "3341/3341 [==============================] - 1s 208us/sample - loss: 4.6790 - mae: 1.5573 - val_loss: 5.0577 - val_mae: 1.5168\n",
      "Epoch 99/100\n",
      "3341/3341 [==============================] - 1s 213us/sample - loss: 4.2900 - mae: 1.4818 - val_loss: 4.6499 - val_mae: 1.5697\n",
      "Epoch 100/100\n",
      "3341/3341 [==============================] - 1s 212us/sample - loss: 4.3310 - mae: 1.4796 - val_loss: 6.7050 - val_mae: 1.7116\n"
     ]
    }
   ],
   "source": [
    "epochs = 100\n",
    "batch_size=128\n",
    "\n",
    "history = model.fit(X_train, y_train, epochs=epochs, batch_size=batch_size, validation_data=[X_test, y_test])"
   ]
  },
  {
   "cell_type": "code",
   "execution_count": 47,
   "metadata": {},
   "outputs": [],
   "source": [
    "y_pred = model.predict(X_test)"
   ]
  },
  {
   "cell_type": "markdown",
   "metadata": {},
   "source": [
    "## Evaluate"
   ]
  },
  {
   "cell_type": "code",
   "execution_count": 48,
   "metadata": {},
   "outputs": [],
   "source": [
    "from sklearn.metrics import mean_squared_error as mse\n",
    "from sklearn.metrics import r2_score as r2"
   ]
  },
  {
   "cell_type": "code",
   "execution_count": 49,
   "metadata": {
    "scrolled": true
   },
   "outputs": [
    {
     "name": "stdout",
     "output_type": "stream",
     "text": [
      "Score\n",
      "MSE :       6.705038039198805\n",
      "RMSE :      2.589408820406466\n",
      "r2_score :  0.4024912539912374\n"
     ]
    }
   ],
   "source": [
    "print('Score')\n",
    "print('MSE :      ', mse(y_test, y_pred))\n",
    "print('RMSE :     ', np.sqrt(mse(y_test, y_pred)))\n",
    "print('r2_score : ', r2(y_test, y_pred))"
   ]
  },
  {
   "cell_type": "code",
   "execution_count": 50,
   "metadata": {
    "scrolled": true
   },
   "outputs": [
    {
     "data": {
      "image/png": "[encoded data removed]",
      "text/plain": [
       "<Figure size 432x288 with 1 Axes>"
      ]
     },
     "metadata": {
      "needs_background": "light"
     },
     "output_type": "display_data"
    }
   ],
   "source": [
    "# Plot training & validation accuracy values\n",
    "plt.plot(history.history['loss'])\n",
    "plt.plot(history.history['val_loss'])\n",
    "plt.ylabel('MSE')\n",
    "plt.xlabel('Epoch')\n",
    "plt.legend(['Train', 'Test'], loc='upper left')\n",
    "plt.show()"
   ]
  },
  {
   "cell_type": "code",
   "execution_count": null,
   "metadata": {},
   "outputs": [],
   "source": []
  },
  {
   "cell_type": "markdown",
   "metadata": {},
   "source": [
    "## ------------------------------\n",
    "## Model 2 Dummy Columns"
   ]
  },
  {
   "cell_type": "code",
   "execution_count": 7,
   "metadata": {},
   "outputs": [],
   "source": [
    "from sklearn.model_selection import train_test_split"
   ]
  },
  {
   "cell_type": "code",
   "execution_count": 8,
   "metadata": {},
   "outputs": [],
   "source": [
    "dummy = pd.get_dummies(df['Sex'])\n",
    "dummy.head()\n",
    "\n",
    "df = pd.concat([df.iloc[:,0], dummy, df.iloc[:,1:]], axis=1)\n",
    "\n",
    "X = df.iloc[:,1:-1].values\n",
    "y = df.iloc[:, -1].values\n",
    "\n",
    "X_train, X_test, y_train, y_test = train_test_split(X, y, test_size=0.2, random_state=7)"
   ]
  },
  {
   "cell_type": "code",
   "execution_count": 9,
   "metadata": {
    "scrolled": false
   },
   "outputs": [
    {
     "data": {
      "text/html": [
       "<div>\n",
       "<style scoped>\n",
       "    .dataframe tbody tr th:only-of-type {\n",
       "        vertical-align: middle;\n",
       "    }\n",
       "\n",
       "    .dataframe tbody tr th {\n",
       "        vertical-align: top;\n",
       "    }\n",
       "\n",
       "    .dataframe thead th {\n",
       "        text-align: right;\n",
       "    }\n",
       "</style>\n",
       "<table border=\"1\" class=\"dataframe\">\n",
       "  <thead>\n",
       "    <tr style=\"text-align: right;\">\n",
       "      <th></th>\n",
       "      <th>Sex</th>\n",
       "      <th>1</th>\n",
       "      <th>2</th>\n",
       "      <th>3</th>\n",
       "      <th>Length</th>\n",
       "      <th>Diameter</th>\n",
       "      <th>Height</th>\n",
       "      <th>Whole weight</th>\n",
       "      <th>Shucked weight</th>\n",
       "      <th>Viscera weight</th>\n",
       "      <th>Shell weight</th>\n",
       "      <th>Rings</th>\n",
       "    </tr>\n",
       "  </thead>\n",
       "  <tbody>\n",
       "    <tr>\n",
       "      <th>0</th>\n",
       "      <td>1</td>\n",
       "      <td>1</td>\n",
       "      <td>0</td>\n",
       "      <td>0</td>\n",
       "      <td>0.455</td>\n",
       "      <td>0.365</td>\n",
       "      <td>0.095</td>\n",
       "      <td>0.5140</td>\n",
       "      <td>0.2245</td>\n",
       "      <td>0.1010</td>\n",
       "      <td>0.150</td>\n",
       "      <td>15</td>\n",
       "    </tr>\n",
       "    <tr>\n",
       "      <th>1</th>\n",
       "      <td>1</td>\n",
       "      <td>1</td>\n",
       "      <td>0</td>\n",
       "      <td>0</td>\n",
       "      <td>0.350</td>\n",
       "      <td>0.265</td>\n",
       "      <td>0.090</td>\n",
       "      <td>0.2255</td>\n",
       "      <td>0.0995</td>\n",
       "      <td>0.0485</td>\n",
       "      <td>0.070</td>\n",
       "      <td>7</td>\n",
       "    </tr>\n",
       "    <tr>\n",
       "      <th>2</th>\n",
       "      <td>2</td>\n",
       "      <td>0</td>\n",
       "      <td>1</td>\n",
       "      <td>0</td>\n",
       "      <td>0.530</td>\n",
       "      <td>0.420</td>\n",
       "      <td>0.135</td>\n",
       "      <td>0.6770</td>\n",
       "      <td>0.2565</td>\n",
       "      <td>0.1415</td>\n",
       "      <td>0.210</td>\n",
       "      <td>9</td>\n",
       "    </tr>\n",
       "    <tr>\n",
       "      <th>3</th>\n",
       "      <td>1</td>\n",
       "      <td>1</td>\n",
       "      <td>0</td>\n",
       "      <td>0</td>\n",
       "      <td>0.440</td>\n",
       "      <td>0.365</td>\n",
       "      <td>0.125</td>\n",
       "      <td>0.5160</td>\n",
       "      <td>0.2155</td>\n",
       "      <td>0.1140</td>\n",
       "      <td>0.155</td>\n",
       "      <td>10</td>\n",
       "    </tr>\n",
       "    <tr>\n",
       "      <th>4</th>\n",
       "      <td>3</td>\n",
       "      <td>0</td>\n",
       "      <td>0</td>\n",
       "      <td>1</td>\n",
       "      <td>0.330</td>\n",
       "      <td>0.255</td>\n",
       "      <td>0.080</td>\n",
       "      <td>0.2050</td>\n",
       "      <td>0.0895</td>\n",
       "      <td>0.0395</td>\n",
       "      <td>0.055</td>\n",
       "      <td>7</td>\n",
       "    </tr>\n",
       "  </tbody>\n",
       "</table>\n",
       "</div>"
      ],
      "text/plain": [
       "   Sex  1  2  3  Length  Diameter  Height  Whole weight  Shucked weight  \\\n",
       "0    1  1  0  0   0.455     0.365   0.095        0.5140          0.2245   \n",
       "1    1  1  0  0   0.350     0.265   0.090        0.2255          0.0995   \n",
       "2    2  0  1  0   0.530     0.420   0.135        0.6770          0.2565   \n",
       "3    1  1  0  0   0.440     0.365   0.125        0.5160          0.2155   \n",
       "4    3  0  0  1   0.330     0.255   0.080        0.2050          0.0895   \n",
       "\n",
       "   Viscera weight  Shell weight  Rings  \n",
       "0          0.1010         0.150     15  \n",
       "1          0.0485         0.070      7  \n",
       "2          0.1415         0.210      9  \n",
       "3          0.1140         0.155     10  \n",
       "4          0.0395         0.055      7  "
      ]
     },
     "execution_count": 9,
     "metadata": {},
     "output_type": "execute_result"
    }
   ],
   "source": [
    "df.head()"
   ]
  },
  {
   "cell_type": "code",
   "execution_count": 54,
   "metadata": {},
   "outputs": [],
   "source": [
    "from tensorflow.keras import Sequential\n",
    "from tensorflow.keras.layers import Dense"
   ]
  },
  {
   "cell_type": "code",
   "execution_count": 60,
   "metadata": {},
   "outputs": [],
   "source": [
    "model = Sequential()\n",
    "model.add(Dense(32, input_shape=(10,)))\n",
    "model.add(Dense(64, activation='relu'))\n",
    "model.add(Dense(128, activation='relu'))\n",
    "model.add(Dense(1))"
   ]
  },
  {
   "cell_type": "code",
   "execution_count": 61,
   "metadata": {},
   "outputs": [],
   "source": [
    "model.compile(optimizer='adam', loss='mse', metrics=['mae'])"
   ]
  },
  {
   "cell_type": "code",
   "execution_count": 62,
   "metadata": {},
   "outputs": [
    {
     "name": "stdout",
     "output_type": "stream",
     "text": [
      "Model: \"sequential_6\"\n",
      "_________________________________________________________________\n",
      "Layer (type)                 Output Shape              Param #   \n",
      "=================================================================\n",
      "dense_27 (Dense)             (None, 32)                352       \n",
      "_________________________________________________________________\n",
      "dense_28 (Dense)             (None, 64)                2112      \n",
      "_________________________________________________________________\n",
      "dense_29 (Dense)             (None, 128)               8320      \n",
      "_________________________________________________________________\n",
      "dense_30 (Dense)             (None, 1)                 129       \n",
      "=================================================================\n",
      "Total params: 10,913\n",
      "Trainable params: 10,913\n",
      "Non-trainable params: 0\n",
      "_________________________________________________________________\n"
     ]
    }
   ],
   "source": [
    "model.summary()"
   ]
  },
  {
   "cell_type": "code",
   "execution_count": 63,
   "metadata": {
    "scrolled": true
   },
   "outputs": [
    {
     "name": "stdout",
     "output_type": "stream",
     "text": [
      "Train on 3341 samples, validate on 836 samples\n",
      "Epoch 1/100\n",
      "3341/3341 [==============================] - 1s 246us/sample - loss: 89.4263 - mae: 8.8894 - val_loss: 54.7446 - val_mae: 6.7646\n",
      "Epoch 2/100\n",
      "3341/3341 [==============================] - 0s 32us/sample - loss: 19.2289 - mae: 3.4369 - val_loss: 8.8779 - val_mae: 2.3851\n",
      "Epoch 3/100\n",
      "3341/3341 [==============================] - 0s 40us/sample - loss: 7.6592 - mae: 1.9693 - val_loss: 7.5649 - val_mae: 1.9622\n",
      "Epoch 4/100\n",
      "3341/3341 [==============================] - 0s 37us/sample - loss: 6.8992 - mae: 1.9144 - val_loss: 7.3050 - val_mae: 1.8709\n",
      "Epoch 5/100\n",
      "3341/3341 [==============================] - 0s 48us/sample - loss: 6.5411 - mae: 1.8467 - val_loss: 6.9745 - val_mae: 1.8399\n",
      "Epoch 6/100\n",
      "3341/3341 [==============================] - 0s 42us/sample - loss: 6.2930 - mae: 1.8180 - val_loss: 6.8015 - val_mae: 1.7967\n",
      "Epoch 7/100\n",
      "3341/3341 [==============================] - 0s 53us/sample - loss: 6.1437 - mae: 1.7835 - val_loss: 6.7222 - val_mae: 1.7576\n",
      "Epoch 8/100\n",
      "3341/3341 [==============================] - 0s 36us/sample - loss: 5.9800 - mae: 1.7729 - val_loss: 6.4824 - val_mae: 1.7594\n",
      "Epoch 9/100\n",
      "3341/3341 [==============================] - 0s 44us/sample - loss: 5.8274 - mae: 1.7435 - val_loss: 6.3037 - val_mae: 1.7550\n",
      "Epoch 10/100\n",
      "3341/3341 [==============================] - 0s 32us/sample - loss: 5.7109 - mae: 1.7176 - val_loss: 6.3926 - val_mae: 1.6846\n",
      "Epoch 11/100\n",
      "3341/3341 [==============================] - 0s 34us/sample - loss: 5.5506 - mae: 1.6920 - val_loss: 6.0013 - val_mae: 1.7164\n",
      "Epoch 12/100\n",
      "3341/3341 [==============================] - 0s 32us/sample - loss: 5.4023 - mae: 1.6762 - val_loss: 5.8890 - val_mae: 1.6683\n",
      "Epoch 13/100\n",
      "3341/3341 [==============================] - 0s 28us/sample - loss: 5.3267 - mae: 1.6510 - val_loss: 5.7309 - val_mae: 1.6455\n",
      "Epoch 14/100\n",
      "3341/3341 [==============================] - 0s 36us/sample - loss: 5.1433 - mae: 1.6081 - val_loss: 5.7196 - val_mae: 1.6163\n",
      "Epoch 15/100\n",
      "3341/3341 [==============================] - 0s 31us/sample - loss: 5.0132 - mae: 1.5914 - val_loss: 5.3469 - val_mae: 1.6540\n",
      "Epoch 16/100\n",
      "3341/3341 [==============================] - 0s 30us/sample - loss: 4.9114 - mae: 1.5888 - val_loss: 5.4432 - val_mae: 1.5927\n",
      "Epoch 17/100\n",
      "3341/3341 [==============================] - 0s 34us/sample - loss: 4.8371 - mae: 1.5682 - val_loss: 5.5264 - val_mae: 1.6030\n",
      "Epoch 18/100\n",
      "3341/3341 [==============================] - 0s 28us/sample - loss: 4.8563 - mae: 1.5760 - val_loss: 5.2855 - val_mae: 1.5716\n",
      "Epoch 19/100\n",
      "3341/3341 [==============================] - 0s 32us/sample - loss: 4.7467 - mae: 1.5595 - val_loss: 5.2187 - val_mae: 1.5693\n",
      "Epoch 20/100\n",
      "3341/3341 [==============================] - 0s 41us/sample - loss: 4.6570 - mae: 1.5368 - val_loss: 4.9228 - val_mae: 1.5858\n",
      "Epoch 21/100\n",
      "3341/3341 [==============================] - 0s 37us/sample - loss: 4.6423 - mae: 1.5394 - val_loss: 5.0529 - val_mae: 1.5506\n",
      "Epoch 22/100\n",
      "3341/3341 [==============================] - 0s 50us/sample - loss: 4.6494 - mae: 1.5330 - val_loss: 5.0458 - val_mae: 1.5463\n",
      "Epoch 23/100\n",
      "3341/3341 [==============================] - 0s 43us/sample - loss: 4.5546 - mae: 1.5175 - val_loss: 5.0933 - val_mae: 1.5590\n",
      "Epoch 24/100\n",
      "3341/3341 [==============================] - 0s 46us/sample - loss: 4.6302 - mae: 1.5310 - val_loss: 5.5013 - val_mae: 1.5818\n",
      "Epoch 25/100\n",
      "3341/3341 [==============================] - 0s 46us/sample - loss: 4.6369 - mae: 1.5341 - val_loss: 4.9491 - val_mae: 1.5569\n",
      "Epoch 26/100\n",
      "3341/3341 [==============================] - 0s 38us/sample - loss: 4.5386 - mae: 1.5176 - val_loss: 5.0965 - val_mae: 1.5536\n",
      "Epoch 27/100\n",
      "3341/3341 [==============================] - 0s 44us/sample - loss: 4.5429 - mae: 1.5122 - val_loss: 4.9401 - val_mae: 1.5342\n",
      "Epoch 28/100\n",
      "3341/3341 [==============================] - 0s 38us/sample - loss: 4.4827 - mae: 1.5038 - val_loss: 5.3907 - val_mae: 1.5777\n",
      "Epoch 29/100\n",
      "3341/3341 [==============================] - 0s 34us/sample - loss: 4.6289 - mae: 1.5184 - val_loss: 5.0355 - val_mae: 1.5397\n",
      "Epoch 30/100\n",
      "3341/3341 [==============================] - 0s 33us/sample - loss: 4.6234 - mae: 1.5318 - val_loss: 5.0830 - val_mae: 1.5430\n",
      "Epoch 31/100\n",
      "3341/3341 [==============================] - 0s 32us/sample - loss: 4.5755 - mae: 1.5168 - val_loss: 4.7924 - val_mae: 1.5439\n",
      "Epoch 32/100\n",
      "3341/3341 [==============================] - 0s 31us/sample - loss: 4.4875 - mae: 1.5182 - val_loss: 5.0185 - val_mae: 1.5384\n",
      "Epoch 33/100\n",
      "3341/3341 [==============================] - 0s 41us/sample - loss: 4.4836 - mae: 1.4950 - val_loss: 4.9086 - val_mae: 1.5300\n",
      "Epoch 34/100\n",
      "3341/3341 [==============================] - 0s 31us/sample - loss: 4.4709 - mae: 1.5011 - val_loss: 5.0555 - val_mae: 1.5428\n",
      "Epoch 35/100\n",
      "3341/3341 [==============================] - 0s 35us/sample - loss: 4.4718 - mae: 1.4867 - val_loss: 4.8398 - val_mae: 1.5266\n",
      "Epoch 36/100\n",
      "3341/3341 [==============================] - 0s 37us/sample - loss: 4.4792 - mae: 1.4956 - val_loss: 4.7150 - val_mae: 1.5467\n",
      "Epoch 37/100\n",
      "3341/3341 [==============================] - 0s 36us/sample - loss: 4.4772 - mae: 1.4879 - val_loss: 4.7156 - val_mae: 1.5421\n",
      "Epoch 38/100\n",
      "3341/3341 [==============================] - 0s 33us/sample - loss: 4.4792 - mae: 1.5018 - val_loss: 4.9073 - val_mae: 1.5337\n",
      "Epoch 39/100\n",
      "3341/3341 [==============================] - 0s 32us/sample - loss: 4.4607 - mae: 1.4898 - val_loss: 4.7238 - val_mae: 1.5209\n",
      "Epoch 40/100\n",
      "3341/3341 [==============================] - 0s 32us/sample - loss: 4.4750 - mae: 1.4996 - val_loss: 4.7504 - val_mae: 1.5271\n",
      "Epoch 41/100\n",
      "3341/3341 [==============================] - 0s 41us/sample - loss: 4.5068 - mae: 1.5014 - val_loss: 4.8614 - val_mae: 1.5329\n",
      "Epoch 42/100\n",
      "3341/3341 [==============================] - 0s 34us/sample - loss: 4.4167 - mae: 1.4918 - val_loss: 5.2269 - val_mae: 1.5543\n",
      "Epoch 43/100\n",
      "3341/3341 [==============================] - 0s 34us/sample - loss: 4.4720 - mae: 1.5025 - val_loss: 5.2177 - val_mae: 1.5494\n",
      "Epoch 44/100\n",
      "3341/3341 [==============================] - 0s 36us/sample - loss: 4.4682 - mae: 1.4980 - val_loss: 4.7845 - val_mae: 1.5208\n",
      "Epoch 45/100\n",
      "3341/3341 [==============================] - 0s 37us/sample - loss: 4.3868 - mae: 1.4815 - val_loss: 4.8478 - val_mae: 1.5210\n",
      "Epoch 46/100\n",
      "3341/3341 [==============================] - 0s 33us/sample - loss: 4.3994 - mae: 1.4853 - val_loss: 4.8458 - val_mae: 1.5174\n",
      "Epoch 47/100\n",
      "3341/3341 [==============================] - 0s 42us/sample - loss: 4.3764 - mae: 1.4773 - val_loss: 4.6949 - val_mae: 1.5253\n",
      "Epoch 48/100\n",
      "3341/3341 [==============================] - 0s 37us/sample - loss: 4.3964 - mae: 1.4791 - val_loss: 4.6608 - val_mae: 1.5452\n",
      "Epoch 49/100\n",
      "3341/3341 [==============================] - 0s 35us/sample - loss: 4.4525 - mae: 1.4990 - val_loss: 4.6712 - val_mae: 1.5238\n",
      "Epoch 50/100\n",
      "3341/3341 [==============================] - 0s 40us/sample - loss: 4.3690 - mae: 1.4792 - val_loss: 4.7360 - val_mae: 1.5355\n",
      "Epoch 51/100\n",
      "3341/3341 [==============================] - 0s 35us/sample - loss: 4.3631 - mae: 1.4743 - val_loss: 5.0036 - val_mae: 1.5361\n",
      "Epoch 52/100\n",
      "3341/3341 [==============================] - 0s 36us/sample - loss: 4.3679 - mae: 1.4796 - val_loss: 5.0945 - val_mae: 1.5352\n",
      "Epoch 53/100\n",
      "3341/3341 [==============================] - 0s 38us/sample - loss: 4.3821 - mae: 1.4702 - val_loss: 4.7836 - val_mae: 1.5188\n",
      "Epoch 54/100\n",
      "3341/3341 [==============================] - 0s 36us/sample - loss: 4.3784 - mae: 1.4761 - val_loss: 4.8240 - val_mae: 1.6400\n",
      "Epoch 55/100\n",
      "3341/3341 [==============================] - 0s 38us/sample - loss: 4.5686 - mae: 1.5162 - val_loss: 4.6464 - val_mae: 1.5487\n",
      "Epoch 56/100\n",
      "3341/3341 [==============================] - 0s 37us/sample - loss: 4.3370 - mae: 1.4681 - val_loss: 4.7386 - val_mae: 1.6056\n",
      "Epoch 57/100\n",
      "3341/3341 [==============================] - 0s 39us/sample - loss: 4.3670 - mae: 1.4840 - val_loss: 4.8126 - val_mae: 1.5329\n",
      "Epoch 58/100\n",
      "3341/3341 [==============================] - 0s 42us/sample - loss: 4.4127 - mae: 1.4868 - val_loss: 4.9872 - val_mae: 1.5254\n",
      "Epoch 59/100\n",
      "3341/3341 [==============================] - 0s 30us/sample - loss: 4.3600 - mae: 1.4784 - val_loss: 5.0371 - val_mae: 1.5302\n",
      "Epoch 60/100\n",
      "3341/3341 [==============================] - 0s 33us/sample - loss: 4.3105 - mae: 1.4627 - val_loss: 4.6636 - val_mae: 1.5201\n",
      "Epoch 61/100\n",
      "3341/3341 [==============================] - 0s 35us/sample - loss: 4.3566 - mae: 1.4789 - val_loss: 4.6655 - val_mae: 1.5201\n",
      "Epoch 62/100\n",
      "3341/3341 [==============================] - 0s 40us/sample - loss: 4.3251 - mae: 1.4716 - val_loss: 4.9177 - val_mae: 1.5198\n",
      "Epoch 63/100\n",
      "3341/3341 [==============================] - 0s 31us/sample - loss: 4.2984 - mae: 1.4595 - val_loss: 4.7280 - val_mae: 1.5208\n",
      "Epoch 64/100\n",
      "3341/3341 [==============================] - 0s 30us/sample - loss: 4.3475 - mae: 1.4742 - val_loss: 4.7074 - val_mae: 1.5361\n",
      "Epoch 65/100\n",
      "3341/3341 [==============================] - 0s 37us/sample - loss: 4.2930 - mae: 1.4635 - val_loss: 4.7176 - val_mae: 1.5207\n",
      "Epoch 66/100\n",
      "3341/3341 [==============================] - 0s 36us/sample - loss: 4.3426 - mae: 1.4812 - val_loss: 4.8627 - val_mae: 1.5120\n",
      "Epoch 67/100\n",
      "3341/3341 [==============================] - 0s 52us/sample - loss: 4.3125 - mae: 1.4644 - val_loss: 4.8626 - val_mae: 1.5204\n",
      "Epoch 68/100\n",
      "3341/3341 [==============================] - 0s 29us/sample - loss: 4.3117 - mae: 1.4684 - val_loss: 4.7141 - val_mae: 1.5887\n",
      "Epoch 69/100\n",
      "3341/3341 [==============================] - 0s 29us/sample - loss: 4.3879 - mae: 1.4820 - val_loss: 4.7043 - val_mae: 1.5291\n",
      "Epoch 70/100\n",
      "3341/3341 [==============================] - 0s 30us/sample - loss: 4.2851 - mae: 1.4686 - val_loss: 4.8301 - val_mae: 1.5166\n",
      "Epoch 71/100\n",
      "3341/3341 [==============================] - 0s 33us/sample - loss: 4.3019 - mae: 1.4670 - val_loss: 4.9547 - val_mae: 1.5243\n",
      "Epoch 72/100\n",
      "3341/3341 [==============================] - 0s 35us/sample - loss: 4.4310 - mae: 1.4941 - val_loss: 5.8963 - val_mae: 1.6463\n",
      "Epoch 73/100\n",
      "3341/3341 [==============================] - 0s 30us/sample - loss: 4.3837 - mae: 1.4769 - val_loss: 5.0116 - val_mae: 1.5276\n",
      "Epoch 74/100\n",
      "3341/3341 [==============================] - 0s 38us/sample - loss: 4.2718 - mae: 1.4583 - val_loss: 4.6854 - val_mae: 1.5411\n",
      "Epoch 75/100\n",
      "3341/3341 [==============================] - 0s 31us/sample - loss: 4.3075 - mae: 1.4662 - val_loss: 5.3501 - val_mae: 1.5633\n",
      "Epoch 76/100\n",
      "3341/3341 [==============================] - 0s 31us/sample - loss: 4.3417 - mae: 1.4656 - val_loss: 4.8097 - val_mae: 1.5186\n",
      "Epoch 77/100\n",
      "3341/3341 [==============================] - 0s 31us/sample - loss: 4.2765 - mae: 1.4543 - val_loss: 4.6414 - val_mae: 1.5202\n",
      "Epoch 78/100\n",
      "3341/3341 [==============================] - 0s 35us/sample - loss: 4.3346 - mae: 1.4755 - val_loss: 4.9202 - val_mae: 1.5146\n",
      "Epoch 79/100\n",
      "3341/3341 [==============================] - 0s 36us/sample - loss: 4.2895 - mae: 1.4652 - val_loss: 4.8963 - val_mae: 1.5189\n",
      "Epoch 80/100\n",
      "3341/3341 [==============================] - 0s 31us/sample - loss: 4.3466 - mae: 1.4758 - val_loss: 4.7214 - val_mae: 1.5301\n",
      "Epoch 81/100\n",
      "3341/3341 [==============================] - 0s 35us/sample - loss: 4.2850 - mae: 1.4642 - val_loss: 4.6979 - val_mae: 1.5262\n",
      "Epoch 82/100\n",
      "3341/3341 [==============================] - 0s 35us/sample - loss: 4.3944 - mae: 1.4910 - val_loss: 4.7754 - val_mae: 1.5090\n",
      "Epoch 83/100\n",
      "3341/3341 [==============================] - 0s 34us/sample - loss: 4.2446 - mae: 1.4512 - val_loss: 4.7599 - val_mae: 1.5049\n",
      "Epoch 84/100\n",
      "3341/3341 [==============================] - 0s 35us/sample - loss: 4.2800 - mae: 1.4605 - val_loss: 4.8397 - val_mae: 1.5170\n",
      "Epoch 85/100\n",
      "3341/3341 [==============================] - 0s 39us/sample - loss: 4.2961 - mae: 1.4612 - val_loss: 4.7117 - val_mae: 1.5111\n",
      "Epoch 86/100\n",
      "3341/3341 [==============================] - 0s 38us/sample - loss: 4.2456 - mae: 1.4524 - val_loss: 4.7508 - val_mae: 1.5036\n",
      "Epoch 87/100\n",
      "3341/3341 [==============================] - 0s 43us/sample - loss: 4.2851 - mae: 1.4580 - val_loss: 4.6867 - val_mae: 1.5177\n",
      "Epoch 88/100\n",
      "3341/3341 [==============================] - 0s 40us/sample - loss: 4.2718 - mae: 1.4556 - val_loss: 4.6427 - val_mae: 1.5125\n",
      "Epoch 89/100\n",
      "3341/3341 [==============================] - 0s 31us/sample - loss: 4.2757 - mae: 1.4598 - val_loss: 4.7185 - val_mae: 1.5063\n",
      "Epoch 90/100\n",
      "3341/3341 [==============================] - 0s 36us/sample - loss: 4.2573 - mae: 1.4542 - val_loss: 4.6795 - val_mae: 1.5059\n",
      "Epoch 91/100\n",
      "3341/3341 [==============================] - 0s 35us/sample - loss: 4.3100 - mae: 1.4633 - val_loss: 4.6236 - val_mae: 1.5205\n",
      "Epoch 92/100\n",
      "3341/3341 [==============================] - 0s 32us/sample - loss: 4.3421 - mae: 1.4792 - val_loss: 4.7253 - val_mae: 1.5215\n",
      "Epoch 93/100\n",
      "3341/3341 [==============================] - 0s 36us/sample - loss: 4.2621 - mae: 1.4568 - val_loss: 4.6708 - val_mae: 1.5694\n",
      "Epoch 94/100\n",
      "3341/3341 [==============================] - 0s 35us/sample - loss: 4.3744 - mae: 1.4883 - val_loss: 4.7559 - val_mae: 1.5058\n",
      "Epoch 95/100\n",
      "3341/3341 [==============================] - 0s 32us/sample - loss: 4.2732 - mae: 1.4675 - val_loss: 5.1639 - val_mae: 1.5418\n",
      "Epoch 96/100\n",
      "3341/3341 [==============================] - 0s 46us/sample - loss: 4.2514 - mae: 1.4548 - val_loss: 4.7950 - val_mae: 1.5146\n",
      "Epoch 97/100\n",
      "3341/3341 [==============================] - 0s 37us/sample - loss: 4.3708 - mae: 1.4758 - val_loss: 4.6896 - val_mae: 1.5191\n",
      "Epoch 98/100\n",
      "3341/3341 [==============================] - 0s 51us/sample - loss: 4.3193 - mae: 1.4780 - val_loss: 5.1625 - val_mae: 1.5642\n",
      "Epoch 99/100\n",
      "3341/3341 [==============================] - 0s 40us/sample - loss: 4.3528 - mae: 1.4841 - val_loss: 4.8252 - val_mae: 1.5167\n",
      "Epoch 100/100\n",
      "3341/3341 [==============================] - 0s 36us/sample - loss: 4.2626 - mae: 1.4609 - val_loss: 4.8105 - val_mae: 1.5081\n"
     ]
    }
   ],
   "source": [
    "epochs = 100\n",
    "batch_size=128\n",
    "\n",
    "history = model.fit(X_train, y_train, epochs=epochs, batch_size=batch_size, validation_data=[X_test, y_test])"
   ]
  },
  {
   "cell_type": "code",
   "execution_count": 64,
   "metadata": {},
   "outputs": [],
   "source": [
    "y_pred = model.predict(X_test)"
   ]
  },
  {
   "cell_type": "markdown",
   "metadata": {},
   "source": [
    "## Evaluate"
   ]
  },
  {
   "cell_type": "code",
   "execution_count": 65,
   "metadata": {
    "scrolled": true
   },
   "outputs": [
    {
     "name": "stdout",
     "output_type": "stream",
     "text": [
      "Score\n",
      "MSE :       4.81047612001228\n",
      "RMSE :      2.193279763279705\n",
      "r2_score :  0.5713221107218223\n"
     ]
    }
   ],
   "source": [
    "print('Score')\n",
    "print('MSE :      ', mse(y_test, y_pred))\n",
    "print('RMSE :     ', np.sqrt(mse(y_test, y_pred)))\n",
    "print('r2_score : ', r2(y_test, y_pred))"
   ]
  },
  {
   "cell_type": "code",
   "execution_count": null,
   "metadata": {},
   "outputs": [],
   "source": []
  },
  {
   "cell_type": "markdown",
   "metadata": {},
   "source": [
    "## Model 2-3 : increase param"
   ]
  },
  {
   "cell_type": "code",
   "execution_count": 74,
   "metadata": {},
   "outputs": [],
   "source": [
    "model = Sequential()\n",
    "model.add(Dense(512, activation='relu', input_shape=(10,)))\n",
    "model.add(Dense(512, activation='relu'))\n",
    "model.add(Dense(512, activation='relu'))\n",
    "model.add(Dense(512, activation='relu'))\n",
    "model.add(Dense(512, activation='relu'))\n",
    "model.add(Dense(512, activation='relu'))\n",
    "model.add(Dense(1))"
   ]
  },
  {
   "cell_type": "code",
   "execution_count": 75,
   "metadata": {},
   "outputs": [],
   "source": [
    "model.compile(optimizer='adam', loss='mse', metrics=['mae'])"
   ]
  },
  {
   "cell_type": "code",
   "execution_count": 76,
   "metadata": {},
   "outputs": [
    {
     "name": "stdout",
     "output_type": "stream",
     "text": [
      "Model: \"sequential_9\"\n",
      "_________________________________________________________________\n",
      "Layer (type)                 Output Shape              Param #   \n",
      "=================================================================\n",
      "dense_45 (Dense)             (None, 512)               5632      \n",
      "_________________________________________________________________\n",
      "dense_46 (Dense)             (None, 512)               262656    \n",
      "_________________________________________________________________\n",
      "dense_47 (Dense)             (None, 512)               262656    \n",
      "_________________________________________________________________\n",
      "dense_48 (Dense)             (None, 512)               262656    \n",
      "_________________________________________________________________\n",
      "dense_49 (Dense)             (None, 512)               262656    \n",
      "_________________________________________________________________\n",
      "dense_50 (Dense)             (None, 512)               262656    \n",
      "_________________________________________________________________\n",
      "dense_51 (Dense)             (None, 1)                 513       \n",
      "=================================================================\n",
      "Total params: 1,319,425\n",
      "Trainable params: 1,319,425\n",
      "Non-trainable params: 0\n",
      "_________________________________________________________________\n"
     ]
    }
   ],
   "source": [
    "model.summary()"
   ]
  },
  {
   "cell_type": "code",
   "execution_count": 77,
   "metadata": {
    "scrolled": true
   },
   "outputs": [
    {
     "name": "stdout",
     "output_type": "stream",
     "text": [
      "Train on 3341 samples, validate on 836 samples\n",
      "Epoch 1/100\n",
      "3341/3341 [==============================] - 2s 683us/sample - loss: 27.2003 - mae: 3.9194 - val_loss: 8.3886 - val_mae: 1.9013\n",
      "Epoch 2/100\n",
      "3341/3341 [==============================] - 1s 212us/sample - loss: 7.8861 - mae: 2.0448 - val_loss: 7.3697 - val_mae: 2.1408\n",
      "Epoch 3/100\n",
      "3341/3341 [==============================] - 1s 199us/sample - loss: 6.3470 - mae: 1.8153 - val_loss: 6.3434 - val_mae: 1.8925\n",
      "Epoch 4/100\n",
      "3341/3341 [==============================] - 1s 225us/sample - loss: 5.5987 - mae: 1.7179 - val_loss: 6.0801 - val_mae: 1.6434\n",
      "Epoch 5/100\n",
      "3341/3341 [==============================] - 1s 206us/sample - loss: 5.1409 - mae: 1.6176 - val_loss: 6.3203 - val_mae: 1.6760\n",
      "Epoch 6/100\n",
      "3341/3341 [==============================] - 1s 202us/sample - loss: 4.9048 - mae: 1.5828 - val_loss: 5.3704 - val_mae: 1.5759\n",
      "Epoch 7/100\n",
      "3341/3341 [==============================] - 1s 228us/sample - loss: 4.7953 - mae: 1.5616 - val_loss: 5.1779 - val_mae: 1.7373\n",
      "Epoch 8/100\n",
      "3341/3341 [==============================] - 1s 285us/sample - loss: 5.2338 - mae: 1.6477 - val_loss: 4.9199 - val_mae: 1.5443\n",
      "Epoch 9/100\n",
      "3341/3341 [==============================] - 1s 255us/sample - loss: 5.0200 - mae: 1.6186 - val_loss: 4.9271 - val_mae: 1.5462\n",
      "Epoch 10/100\n",
      "3341/3341 [==============================] - 1s 319us/sample - loss: 4.7351 - mae: 1.5548 - val_loss: 5.0716 - val_mae: 1.7379\n",
      "Epoch 11/100\n",
      "3341/3341 [==============================] - 1s 287us/sample - loss: 4.5036 - mae: 1.5161 - val_loss: 5.0017 - val_mae: 1.5347\n",
      "Epoch 12/100\n",
      "3341/3341 [==============================] - 1s 220us/sample - loss: 4.7244 - mae: 1.5690 - val_loss: 5.4543 - val_mae: 1.5845\n",
      "Epoch 13/100\n",
      "3341/3341 [==============================] - 1s 293us/sample - loss: 4.7086 - mae: 1.5626 - val_loss: 6.6723 - val_mae: 1.7342\n",
      "Epoch 14/100\n",
      "3341/3341 [==============================] - 1s 297us/sample - loss: 5.0776 - mae: 1.6079 - val_loss: 4.8160 - val_mae: 1.5448\n",
      "Epoch 15/100\n",
      "3341/3341 [==============================] - 1s 258us/sample - loss: 4.8931 - mae: 1.5957 - val_loss: 6.0260 - val_mae: 1.6393\n",
      "Epoch 16/100\n",
      "3341/3341 [==============================] - 1s 243us/sample - loss: 4.6645 - mae: 1.5347 - val_loss: 5.7912 - val_mae: 1.9604\n",
      "Epoch 17/100\n",
      "3341/3341 [==============================] - 1s 272us/sample - loss: 4.9261 - mae: 1.6041 - val_loss: 4.6715 - val_mae: 1.5197\n",
      "Epoch 18/100\n",
      "3341/3341 [==============================] - 1s 232us/sample - loss: 4.4154 - mae: 1.4993 - val_loss: 6.7971 - val_mae: 1.7927\n",
      "Epoch 19/100\n",
      "3341/3341 [==============================] - 1s 271us/sample - loss: 5.4194 - mae: 1.6991 - val_loss: 5.6030 - val_mae: 1.5750\n",
      "Epoch 20/100\n",
      "3341/3341 [==============================] - 1s 321us/sample - loss: 4.5080 - mae: 1.5062 - val_loss: 4.7799 - val_mae: 1.5016\n",
      "Epoch 21/100\n",
      "3341/3341 [==============================] - 1s 262us/sample - loss: 4.4853 - mae: 1.5039 - val_loss: 4.6883 - val_mae: 1.5004\n",
      "Epoch 22/100\n",
      "3341/3341 [==============================] - 1s 252us/sample - loss: 4.4053 - mae: 1.4901 - val_loss: 4.7275 - val_mae: 1.6095\n",
      "Epoch 23/100\n",
      "3341/3341 [==============================] - 1s 262us/sample - loss: 4.5472 - mae: 1.5193 - val_loss: 4.6879 - val_mae: 1.5319\n",
      "Epoch 24/100\n",
      "3341/3341 [==============================] - 1s 252us/sample - loss: 4.9370 - mae: 1.5982 - val_loss: 6.0800 - val_mae: 1.6658\n",
      "Epoch 25/100\n",
      "3341/3341 [==============================] - 1s 254us/sample - loss: 4.6072 - mae: 1.5260 - val_loss: 4.6942 - val_mae: 1.5316\n",
      "Epoch 26/100\n",
      "3341/3341 [==============================] - 1s 289us/sample - loss: 4.5810 - mae: 1.5395 - val_loss: 5.6791 - val_mae: 1.6079\n",
      "Epoch 27/100\n",
      "3341/3341 [==============================] - 1s 245us/sample - loss: 4.5467 - mae: 1.5170 - val_loss: 5.2725 - val_mae: 1.5590\n",
      "Epoch 28/100\n",
      "3341/3341 [==============================] - 1s 231us/sample - loss: 4.4485 - mae: 1.5133 - val_loss: 5.6658 - val_mae: 1.9228\n",
      "Epoch 29/100\n",
      "3341/3341 [==============================] - 1s 242us/sample - loss: 5.2291 - mae: 1.6503 - val_loss: 5.2732 - val_mae: 1.5586\n",
      "Epoch 30/100\n",
      "3341/3341 [==============================] - 1s 219us/sample - loss: 4.3962 - mae: 1.4907 - val_loss: 4.6328 - val_mae: 1.5282\n",
      "Epoch 31/100\n",
      "3341/3341 [==============================] - 1s 218us/sample - loss: 4.3016 - mae: 1.4797 - val_loss: 4.5721 - val_mae: 1.5193\n",
      "Epoch 32/100\n",
      "3341/3341 [==============================] - 1s 238us/sample - loss: 4.3076 - mae: 1.4904 - val_loss: 5.1261 - val_mae: 1.5259\n",
      "Epoch 33/100\n",
      "3341/3341 [==============================] - 1s 280us/sample - loss: 4.3629 - mae: 1.4756 - val_loss: 4.9973 - val_mae: 1.5153\n",
      "Epoch 34/100\n",
      "3341/3341 [==============================] - 1s 225us/sample - loss: 4.3037 - mae: 1.4679 - val_loss: 4.8110 - val_mae: 1.4948\n",
      "Epoch 35/100\n",
      "3341/3341 [==============================] - 1s 231us/sample - loss: 4.4328 - mae: 1.4951 - val_loss: 4.8882 - val_mae: 1.5147\n",
      "Epoch 36/100\n",
      "3341/3341 [==============================] - 1s 230us/sample - loss: 4.3020 - mae: 1.4709 - val_loss: 4.6769 - val_mae: 1.5054\n",
      "Epoch 37/100\n",
      "3341/3341 [==============================] - 1s 220us/sample - loss: 4.2586 - mae: 1.4591 - val_loss: 4.9505 - val_mae: 1.6605\n",
      "Epoch 38/100\n",
      "3341/3341 [==============================] - 1s 220us/sample - loss: 4.4010 - mae: 1.4957 - val_loss: 4.5992 - val_mae: 1.5056\n",
      "Epoch 39/100\n",
      "3341/3341 [==============================] - 1s 210us/sample - loss: 4.2984 - mae: 1.4824 - val_loss: 4.9028 - val_mae: 1.4974\n",
      "Epoch 40/100\n",
      "3341/3341 [==============================] - 1s 209us/sample - loss: 4.4553 - mae: 1.5014 - val_loss: 5.6061 - val_mae: 1.5841\n",
      "Epoch 41/100\n",
      "3341/3341 [==============================] - 1s 213us/sample - loss: 4.3771 - mae: 1.4779 - val_loss: 4.7621 - val_mae: 1.5961\n",
      "Epoch 42/100\n",
      "3341/3341 [==============================] - 1s 203us/sample - loss: 4.3426 - mae: 1.4871 - val_loss: 4.5533 - val_mae: 1.5101\n",
      "Epoch 43/100\n",
      "3341/3341 [==============================] - 1s 205us/sample - loss: 4.4390 - mae: 1.4919 - val_loss: 5.7204 - val_mae: 1.9129\n",
      "Epoch 44/100\n",
      "3341/3341 [==============================] - 1s 205us/sample - loss: 4.8895 - mae: 1.5958 - val_loss: 4.6915 - val_mae: 1.5118\n",
      "Epoch 45/100\n",
      "3341/3341 [==============================] - 1s 205us/sample - loss: 4.5348 - mae: 1.5218 - val_loss: 5.0267 - val_mae: 1.7352\n",
      "Epoch 46/100\n",
      "3341/3341 [==============================] - 1s 202us/sample - loss: 4.3666 - mae: 1.4835 - val_loss: 6.0246 - val_mae: 1.6502\n",
      "Epoch 47/100\n",
      "3341/3341 [==============================] - 1s 228us/sample - loss: 4.3679 - mae: 1.4777 - val_loss: 5.1616 - val_mae: 1.5373\n",
      "Epoch 48/100\n",
      "3341/3341 [==============================] - 1s 228us/sample - loss: 4.7899 - mae: 1.5745 - val_loss: 4.8782 - val_mae: 1.6865\n",
      "Epoch 49/100\n",
      "3341/3341 [==============================] - 1s 211us/sample - loss: 5.0470 - mae: 1.6111 - val_loss: 4.9131 - val_mae: 1.5096\n",
      "Epoch 50/100\n",
      "3341/3341 [==============================] - 1s 213us/sample - loss: 4.4123 - mae: 1.4958 - val_loss: 5.5034 - val_mae: 1.5840\n",
      "Epoch 51/100\n",
      "3341/3341 [==============================] - 1s 206us/sample - loss: 4.2823 - mae: 1.4640 - val_loss: 5.3756 - val_mae: 1.5472\n",
      "Epoch 52/100\n",
      "3341/3341 [==============================] - 1s 219us/sample - loss: 4.3004 - mae: 1.4772 - val_loss: 5.2930 - val_mae: 1.5520\n",
      "Epoch 53/100\n",
      "3341/3341 [==============================] - 1s 218us/sample - loss: 4.2772 - mae: 1.4579 - val_loss: 4.9654 - val_mae: 1.6845\n",
      "Epoch 54/100\n",
      "3341/3341 [==============================] - 1s 217us/sample - loss: 4.6289 - mae: 1.5462 - val_loss: 4.6988 - val_mae: 1.4976\n",
      "Epoch 55/100\n",
      "3341/3341 [==============================] - 1s 205us/sample - loss: 4.5419 - mae: 1.5208 - val_loss: 5.4855 - val_mae: 1.5732\n",
      "Epoch 56/100\n",
      "3341/3341 [==============================] - 1s 203us/sample - loss: 4.2614 - mae: 1.4570 - val_loss: 4.5373 - val_mae: 1.5402\n",
      "Epoch 57/100\n",
      "3341/3341 [==============================] - 1s 226us/sample - loss: 4.3213 - mae: 1.4789 - val_loss: 4.8607 - val_mae: 1.6384\n",
      "Epoch 58/100\n",
      "3341/3341 [==============================] - 1s 217us/sample - loss: 4.3309 - mae: 1.4777 - val_loss: 4.6067 - val_mae: 1.5834\n",
      "Epoch 59/100\n",
      "3341/3341 [==============================] - 1s 188us/sample - loss: 4.2658 - mae: 1.4740 - val_loss: 4.9861 - val_mae: 1.5165\n",
      "Epoch 60/100\n",
      "3341/3341 [==============================] - 1s 181us/sample - loss: 4.5026 - mae: 1.5131 - val_loss: 5.8713 - val_mae: 1.6283\n",
      "Epoch 61/100\n",
      "3341/3341 [==============================] - 1s 180us/sample - loss: 4.2742 - mae: 1.4695 - val_loss: 6.4087 - val_mae: 1.7370\n",
      "Epoch 62/100\n",
      "3341/3341 [==============================] - 1s 182us/sample - loss: 4.4997 - mae: 1.5091 - val_loss: 5.1228 - val_mae: 1.7070\n",
      "Epoch 63/100\n",
      "3341/3341 [==============================] - 1s 182us/sample - loss: 4.5092 - mae: 1.5193 - val_loss: 5.4040 - val_mae: 1.7879\n",
      "Epoch 64/100\n",
      "3341/3341 [==============================] - 1s 179us/sample - loss: 4.9823 - mae: 1.6044 - val_loss: 6.2989 - val_mae: 1.6894\n",
      "Epoch 65/100\n",
      "3341/3341 [==============================] - 1s 178us/sample - loss: 4.6054 - mae: 1.5239 - val_loss: 5.0265 - val_mae: 1.7193\n",
      "Epoch 66/100\n",
      "3341/3341 [==============================] - 1s 178us/sample - loss: 4.3749 - mae: 1.4873 - val_loss: 5.0943 - val_mae: 1.5209\n",
      "Epoch 67/100\n",
      "3341/3341 [==============================] - 1s 181us/sample - loss: 4.2655 - mae: 1.4632 - val_loss: 6.2186 - val_mae: 1.6909\n",
      "Epoch 68/100\n",
      "3341/3341 [==============================] - 1s 198us/sample - loss: 4.2267 - mae: 1.4614 - val_loss: 5.3677 - val_mae: 1.5592\n",
      "Epoch 69/100\n",
      "3341/3341 [==============================] - 1s 183us/sample - loss: 4.1488 - mae: 1.4397 - val_loss: 4.5687 - val_mae: 1.4916\n",
      "Epoch 70/100\n",
      "3341/3341 [==============================] - 1s 182us/sample - loss: 4.2408 - mae: 1.4690 - val_loss: 5.8070 - val_mae: 1.9146\n",
      "Epoch 71/100\n",
      "3341/3341 [==============================] - 1s 198us/sample - loss: 4.7431 - mae: 1.5754 - val_loss: 4.7614 - val_mae: 1.4886\n",
      "Epoch 72/100\n",
      "3341/3341 [==============================] - 1s 272us/sample - loss: 4.2709 - mae: 1.4643 - val_loss: 4.8511 - val_mae: 1.5027\n",
      "Epoch 73/100\n",
      "3341/3341 [==============================] - 1s 270us/sample - loss: 4.3063 - mae: 1.4604 - val_loss: 4.6078 - val_mae: 1.5081\n",
      "Epoch 74/100\n",
      "3341/3341 [==============================] - 1s 293us/sample - loss: 4.2495 - mae: 1.4609 - val_loss: 4.8418 - val_mae: 1.5153\n",
      "Epoch 75/100\n",
      "3341/3341 [==============================] - 1s 245us/sample - loss: 4.2310 - mae: 1.4579 - val_loss: 5.3218 - val_mae: 1.5443\n",
      "Epoch 76/100\n",
      "3341/3341 [==============================] - 1s 270us/sample - loss: 4.2969 - mae: 1.4705 - val_loss: 4.6797 - val_mae: 1.4866\n",
      "Epoch 77/100\n",
      "3341/3341 [==============================] - 1s 251us/sample - loss: 4.1989 - mae: 1.4554 - val_loss: 4.9444 - val_mae: 1.4984\n",
      "Epoch 78/100\n",
      "3341/3341 [==============================] - 1s 269us/sample - loss: 4.2592 - mae: 1.4726 - val_loss: 6.7286 - val_mae: 1.7704\n",
      "Epoch 79/100\n",
      "3341/3341 [==============================] - 1s 258us/sample - loss: 4.9862 - mae: 1.6058 - val_loss: 5.3170 - val_mae: 1.7969\n",
      "Epoch 80/100\n",
      "3341/3341 [==============================] - 1s 263us/sample - loss: 4.5346 - mae: 1.5404 - val_loss: 6.7294 - val_mae: 1.7334\n",
      "Epoch 81/100\n",
      "3341/3341 [==============================] - 1s 255us/sample - loss: 4.8377 - mae: 1.5819 - val_loss: 4.6697 - val_mae: 1.4902\n",
      "Epoch 82/100\n",
      "3341/3341 [==============================] - 1s 261us/sample - loss: 4.6333 - mae: 1.5473 - val_loss: 4.7706 - val_mae: 1.4985\n",
      "Epoch 83/100\n",
      "3341/3341 [==============================] - 1s 266us/sample - loss: 4.3445 - mae: 1.4845 - val_loss: 4.6435 - val_mae: 1.4987\n",
      "Epoch 84/100\n",
      "3341/3341 [==============================] - 1s 250us/sample - loss: 4.2804 - mae: 1.4548 - val_loss: 4.6746 - val_mae: 1.5285\n",
      "Epoch 85/100\n",
      "3341/3341 [==============================] - 1s 244us/sample - loss: 4.1995 - mae: 1.4571 - val_loss: 5.3383 - val_mae: 1.5536\n",
      "Epoch 86/100\n",
      "3341/3341 [==============================] - 1s 249us/sample - loss: 4.1509 - mae: 1.4318 - val_loss: 4.5077 - val_mae: 1.5291\n",
      "Epoch 87/100\n",
      "3341/3341 [==============================] - 1s 249us/sample - loss: 4.4162 - mae: 1.4972 - val_loss: 4.6084 - val_mae: 1.5525\n",
      "Epoch 88/100\n",
      "3341/3341 [==============================] - 1s 251us/sample - loss: 4.2647 - mae: 1.4659 - val_loss: 5.3778 - val_mae: 1.5590\n",
      "Epoch 89/100\n",
      "3341/3341 [==============================] - 1s 255us/sample - loss: 4.1819 - mae: 1.4420 - val_loss: 5.5909 - val_mae: 1.5863\n",
      "Epoch 90/100\n",
      "3341/3341 [==============================] - 1s 258us/sample - loss: 4.3316 - mae: 1.4813 - val_loss: 4.6910 - val_mae: 1.4771\n",
      "Epoch 91/100\n",
      "3341/3341 [==============================] - 1s 267us/sample - loss: 4.1555 - mae: 1.4442 - val_loss: 4.8263 - val_mae: 1.4974\n",
      "Epoch 92/100\n",
      "3341/3341 [==============================] - 1s 255us/sample - loss: 4.1726 - mae: 1.4404 - val_loss: 4.9121 - val_mae: 1.5059\n",
      "Epoch 93/100\n",
      "3341/3341 [==============================] - 1s 272us/sample - loss: 4.2239 - mae: 1.4530 - val_loss: 9.3490 - val_mae: 2.5522\n",
      "Epoch 94/100\n",
      "3341/3341 [==============================] - 1s 284us/sample - loss: 5.8271 - mae: 1.7535 - val_loss: 4.8332 - val_mae: 1.6438\n",
      "Epoch 95/100\n",
      "3341/3341 [==============================] - 1s 249us/sample - loss: 4.6739 - mae: 1.5391 - val_loss: 5.4337 - val_mae: 1.5668\n",
      "Epoch 96/100\n",
      "3341/3341 [==============================] - 1s 266us/sample - loss: 4.4631 - mae: 1.5079 - val_loss: 4.5995 - val_mae: 1.5679\n",
      "Epoch 97/100\n",
      "3341/3341 [==============================] - 1s 270us/sample - loss: 4.4489 - mae: 1.5049 - val_loss: 4.9667 - val_mae: 1.5107\n",
      "Epoch 98/100\n",
      "3341/3341 [==============================] - 1s 259us/sample - loss: 4.3641 - mae: 1.4869 - val_loss: 4.6467 - val_mae: 1.4985\n",
      "Epoch 99/100\n",
      "3341/3341 [==============================] - 1s 261us/sample - loss: 4.2606 - mae: 1.4630 - val_loss: 5.9094 - val_mae: 1.6225\n",
      "Epoch 100/100\n",
      "3341/3341 [==============================] - 1s 244us/sample - loss: 4.5634 - mae: 1.4993 - val_loss: 6.1702 - val_mae: 1.6815\n"
     ]
    }
   ],
   "source": [
    "epochs = 100\n",
    "batch_size=128\n",
    "\n",
    "history = model.fit(X_train, y_train, epochs=epochs, batch_size=batch_size, validation_data=[X_test, y_test])"
   ]
  },
  {
   "cell_type": "code",
   "execution_count": 78,
   "metadata": {},
   "outputs": [],
   "source": [
    "y_pred = model.predict(X_test)"
   ]
  },
  {
   "cell_type": "markdown",
   "metadata": {},
   "source": [
    "## Evaluate"
   ]
  },
  {
   "cell_type": "code",
   "execution_count": 79,
   "metadata": {},
   "outputs": [],
   "source": [
    "from sklearn.metrics import mean_squared_error as mse\n",
    "from sklearn.metrics import r2_score as r2"
   ]
  },
  {
   "cell_type": "code",
   "execution_count": 80,
   "metadata": {
    "scrolled": true
   },
   "outputs": [
    {
     "name": "stdout",
     "output_type": "stream",
     "text": [
      "Score\n",
      "MSE :       6.170228162478003\n",
      "RMSE :      2.4839943966277387\n",
      "r2_score :  0.4501499811937353\n"
     ]
    }
   ],
   "source": [
    "print('Score')\n",
    "print('MSE :      ', mse(y_test, y_pred))\n",
    "print('RMSE :     ', np.sqrt(mse(y_test, y_pred)))\n",
    "print('r2_score : ', r2(y_test, y_pred))"
   ]
  },
  {
   "cell_type": "code",
   "execution_count": 81,
   "metadata": {
    "scrolled": true
   },
   "outputs": [
    {
     "data": {
      "image/png": "[encoded data removed]",
      "text/plain": [
       "<Figure size 432x288 with 1 Axes>"
      ]
     },
     "metadata": {
      "needs_background": "light"
     },
     "output_type": "display_data"
    }
   ],
   "source": [
    "# Plot training & validation accuracy values\n",
    "plt.plot(history.history['loss'])\n",
    "plt.plot(history.history['val_loss'])\n",
    "plt.ylabel('MSE')\n",
    "plt.xlabel('Epoch')\n",
    "plt.legend(['Train', 'Test'], loc='upper left')\n",
    "plt.show()"
   ]
  },
  {
   "cell_type": "code",
   "execution_count": null,
   "metadata": {},
   "outputs": [],
   "source": []
  },
  {
   "cell_type": "code",
   "execution_count": null,
   "metadata": {},
   "outputs": [],
   "source": []
  },
  {
   "cell_type": "markdown",
   "metadata": {},
   "source": [
    "## Model 3"
   ]
  },
  {
   "cell_type": "code",
   "execution_count": 10,
   "metadata": {},
   "outputs": [],
   "source": [
    "model = Sequential()\n",
    "model.add(Dense(512, activation='relu', input_shape=(10,)))\n",
    "model.add(Dense(512, activation='relu'))\n",
    "model.add(Dense(512, activation='relu'))\n",
    "model.add(Dense(512, activation='relu'))\n",
    "model.add(Dense(512, activation='relu'))\n",
    "model.add(Dense(512, activation='relu'))\n",
    "model.add(Dense(1))"
   ]
  },
  {
   "cell_type": "code",
   "execution_count": 11,
   "metadata": {},
   "outputs": [],
   "source": [
    "model.compile(optimizer='adam', loss='mse', metrics=['mae'])"
   ]
  },
  {
   "cell_type": "code",
   "execution_count": 12,
   "metadata": {},
   "outputs": [
    {
     "name": "stdout",
     "output_type": "stream",
     "text": [
      "Model: \"sequential\"\n",
      "_________________________________________________________________\n",
      "Layer (type)                 Output Shape              Param #   \n",
      "=================================================================\n",
      "dense (Dense)                (None, 512)               5632      \n",
      "_________________________________________________________________\n",
      "dense_1 (Dense)              (None, 512)               262656    \n",
      "_________________________________________________________________\n",
      "dense_2 (Dense)              (None, 512)               262656    \n",
      "_________________________________________________________________\n",
      "dense_3 (Dense)              (None, 512)               262656    \n",
      "_________________________________________________________________\n",
      "dense_4 (Dense)              (None, 512)               262656    \n",
      "_________________________________________________________________\n",
      "dense_5 (Dense)              (None, 512)               262656    \n",
      "_________________________________________________________________\n",
      "dense_6 (Dense)              (None, 1)                 513       \n",
      "=================================================================\n",
      "Total params: 1,319,425\n",
      "Trainable params: 1,319,425\n",
      "Non-trainable params: 0\n",
      "_________________________________________________________________\n"
     ]
    }
   ],
   "source": [
    "model.summary()"
   ]
  },
  {
   "cell_type": "code",
   "execution_count": 13,
   "metadata": {
    "scrolled": true
   },
   "outputs": [
    {
     "name": "stdout",
     "output_type": "stream",
     "text": [
      "Train on 3341 samples, validate on 836 samples\n",
      "Epoch 1/100\n",
      " 128/3341 [>.............................] - ETA: 2:19"
     ]
    },
    {
     "ename": "InternalError",
     "evalue": " Blas GEMM launch failed : a.shape=(128, 10), b.shape=(10, 512), m=128, n=512, k=10\n\t [[node sequential/dense/MatMul (defined at c:\\users\\visitor.slsi\\appdata\\local\\programs\\python\\python37\\lib\\site-packages\\tensorflow_core\\python\\framework\\ops.py:1751) ]] [Op:__inference_distributed_function_1239]\n\nFunction call stack:\ndistributed_function\n",
     "output_type": "error",
     "traceback": [
      "\u001b[1;31m---------------------------------------------------------------------------\u001b[0m",
      "\u001b[1;31mInternalError\u001b[0m                             Traceback (most recent call last)",
      "\u001b[1;32m<ipython-input-13-53c3829f34b5>\u001b[0m in \u001b[0;36m<module>\u001b[1;34m\u001b[0m\n\u001b[0;32m      2\u001b[0m \u001b[0mbatch_size\u001b[0m\u001b[1;33m=\u001b[0m\u001b[1;36m128\u001b[0m\u001b[1;33m\u001b[0m\u001b[1;33m\u001b[0m\u001b[0m\n\u001b[0;32m      3\u001b[0m \u001b[1;33m\u001b[0m\u001b[0m\n\u001b[1;32m----> 4\u001b[1;33m \u001b[0mhistory\u001b[0m \u001b[1;33m=\u001b[0m \u001b[0mmodel\u001b[0m\u001b[1;33m.\u001b[0m\u001b[0mfit\u001b[0m\u001b[1;33m(\u001b[0m\u001b[0mX_train\u001b[0m\u001b[1;33m,\u001b[0m \u001b[0my_train\u001b[0m\u001b[1;33m,\u001b[0m \u001b[0mepochs\u001b[0m\u001b[1;33m=\u001b[0m\u001b[0mepochs\u001b[0m\u001b[1;33m,\u001b[0m \u001b[0mbatch_size\u001b[0m\u001b[1;33m=\u001b[0m\u001b[0mbatch_size\u001b[0m\u001b[1;33m,\u001b[0m \u001b[0mvalidation_data\u001b[0m\u001b[1;33m=\u001b[0m\u001b[1;33m[\u001b[0m\u001b[0mX_test\u001b[0m\u001b[1;33m,\u001b[0m \u001b[0my_test\u001b[0m\u001b[1;33m]\u001b[0m\u001b[1;33m)\u001b[0m\u001b[1;33m\u001b[0m\u001b[1;33m\u001b[0m\u001b[0m\n\u001b[0m",
      "\u001b[1;32mc:\\users\\visitor.slsi\\appdata\\local\\programs\\python\\python37\\lib\\site-packages\\tensorflow_core\\python\\keras\\engine\\training.py\u001b[0m in \u001b[0;36mfit\u001b[1;34m(self, x, y, batch_size, epochs, verbose, callbacks, validation_split, validation_data, shuffle, class_weight, sample_weight, initial_epoch, steps_per_epoch, validation_steps, validation_freq, max_queue_size, workers, use_multiprocessing, **kwargs)\u001b[0m\n\u001b[0;32m    726\u001b[0m         \u001b[0mmax_queue_size\u001b[0m\u001b[1;33m=\u001b[0m\u001b[0mmax_queue_size\u001b[0m\u001b[1;33m,\u001b[0m\u001b[1;33m\u001b[0m\u001b[1;33m\u001b[0m\u001b[0m\n\u001b[0;32m    727\u001b[0m         \u001b[0mworkers\u001b[0m\u001b[1;33m=\u001b[0m\u001b[0mworkers\u001b[0m\u001b[1;33m,\u001b[0m\u001b[1;33m\u001b[0m\u001b[1;33m\u001b[0m\u001b[0m\n\u001b[1;32m--> 728\u001b[1;33m         use_multiprocessing=use_multiprocessing)\n\u001b[0m\u001b[0;32m    729\u001b[0m \u001b[1;33m\u001b[0m\u001b[0m\n\u001b[0;32m    730\u001b[0m   def evaluate(self,\n",
      "\u001b[1;32mc:\\users\\visitor.slsi\\appdata\\local\\programs\\python\\python37\\lib\\site-packages\\tensorflow_core\\python\\keras\\engine\\training_v2.py\u001b[0m in \u001b[0;36mfit\u001b[1;34m(self, model, x, y, batch_size, epochs, verbose, callbacks, validation_split, validation_data, shuffle, class_weight, sample_weight, initial_epoch, steps_per_epoch, validation_steps, validation_freq, **kwargs)\u001b[0m\n\u001b[0;32m    322\u001b[0m                 \u001b[0mmode\u001b[0m\u001b[1;33m=\u001b[0m\u001b[0mModeKeys\u001b[0m\u001b[1;33m.\u001b[0m\u001b[0mTRAIN\u001b[0m\u001b[1;33m,\u001b[0m\u001b[1;33m\u001b[0m\u001b[1;33m\u001b[0m\u001b[0m\n\u001b[0;32m    323\u001b[0m                 \u001b[0mtraining_context\u001b[0m\u001b[1;33m=\u001b[0m\u001b[0mtraining_context\u001b[0m\u001b[1;33m,\u001b[0m\u001b[1;33m\u001b[0m\u001b[1;33m\u001b[0m\u001b[0m\n\u001b[1;32m--> 324\u001b[1;33m                 total_epochs=epochs)\n\u001b[0m\u001b[0;32m    325\u001b[0m             \u001b[0mcbks\u001b[0m\u001b[1;33m.\u001b[0m\u001b[0mmake_logs\u001b[0m\u001b[1;33m(\u001b[0m\u001b[0mmodel\u001b[0m\u001b[1;33m,\u001b[0m \u001b[0mepoch_logs\u001b[0m\u001b[1;33m,\u001b[0m \u001b[0mtraining_result\u001b[0m\u001b[1;33m,\u001b[0m \u001b[0mModeKeys\u001b[0m\u001b[1;33m.\u001b[0m\u001b[0mTRAIN\u001b[0m\u001b[1;33m)\u001b[0m\u001b[1;33m\u001b[0m\u001b[1;33m\u001b[0m\u001b[0m\n\u001b[0;32m    326\u001b[0m \u001b[1;33m\u001b[0m\u001b[0m\n",
      "\u001b[1;32mc:\\users\\visitor.slsi\\appdata\\local\\programs\\python\\python37\\lib\\site-packages\\tensorflow_core\\python\\keras\\engine\\training_v2.py\u001b[0m in \u001b[0;36mrun_one_epoch\u001b[1;34m(model, iterator, execution_function, dataset_size, batch_size, strategy, steps_per_epoch, num_samples, mode, training_context, total_epochs)\u001b[0m\n\u001b[0;32m    121\u001b[0m         step=step, mode=mode, size=current_batch_size) as batch_logs:\n\u001b[0;32m    122\u001b[0m       \u001b[1;32mtry\u001b[0m\u001b[1;33m:\u001b[0m\u001b[1;33m\u001b[0m\u001b[1;33m\u001b[0m\u001b[0m\n\u001b[1;32m--> 123\u001b[1;33m         \u001b[0mbatch_outs\u001b[0m \u001b[1;33m=\u001b[0m \u001b[0mexecution_function\u001b[0m\u001b[1;33m(\u001b[0m\u001b[0miterator\u001b[0m\u001b[1;33m)\u001b[0m\u001b[1;33m\u001b[0m\u001b[1;33m\u001b[0m\u001b[0m\n\u001b[0m\u001b[0;32m    124\u001b[0m       \u001b[1;32mexcept\u001b[0m \u001b[1;33m(\u001b[0m\u001b[0mStopIteration\u001b[0m\u001b[1;33m,\u001b[0m \u001b[0merrors\u001b[0m\u001b[1;33m.\u001b[0m\u001b[0mOutOfRangeError\u001b[0m\u001b[1;33m)\u001b[0m\u001b[1;33m:\u001b[0m\u001b[1;33m\u001b[0m\u001b[1;33m\u001b[0m\u001b[0m\n\u001b[0;32m    125\u001b[0m         \u001b[1;31m# TODO(kaftan): File bug about tf function and errors.OutOfRangeError?\u001b[0m\u001b[1;33m\u001b[0m\u001b[1;33m\u001b[0m\u001b[1;33m\u001b[0m\u001b[0m\n",
      "\u001b[1;32mc:\\users\\visitor.slsi\\appdata\\local\\programs\\python\\python37\\lib\\site-packages\\tensorflow_core\\python\\keras\\engine\\training_v2_utils.py\u001b[0m in \u001b[0;36mexecution_function\u001b[1;34m(input_fn)\u001b[0m\n\u001b[0;32m     84\u001b[0m     \u001b[1;31m# `numpy` translates Tensors to values in Eager mode.\u001b[0m\u001b[1;33m\u001b[0m\u001b[1;33m\u001b[0m\u001b[1;33m\u001b[0m\u001b[0m\n\u001b[0;32m     85\u001b[0m     return nest.map_structure(_non_none_constant_value,\n\u001b[1;32m---> 86\u001b[1;33m                               distributed_function(input_fn))\n\u001b[0m\u001b[0;32m     87\u001b[0m \u001b[1;33m\u001b[0m\u001b[0m\n\u001b[0;32m     88\u001b[0m   \u001b[1;32mreturn\u001b[0m \u001b[0mexecution_function\u001b[0m\u001b[1;33m\u001b[0m\u001b[1;33m\u001b[0m\u001b[0m\n",
      "\u001b[1;32mc:\\users\\visitor.slsi\\appdata\\local\\programs\\python\\python37\\lib\\site-packages\\tensorflow_core\\python\\eager\\def_function.py\u001b[0m in \u001b[0;36m__call__\u001b[1;34m(self, *args, **kwds)\u001b[0m\n\u001b[0;32m    455\u001b[0m \u001b[1;33m\u001b[0m\u001b[0m\n\u001b[0;32m    456\u001b[0m     \u001b[0mtracing_count\u001b[0m \u001b[1;33m=\u001b[0m \u001b[0mself\u001b[0m\u001b[1;33m.\u001b[0m\u001b[0m_get_tracing_count\u001b[0m\u001b[1;33m(\u001b[0m\u001b[1;33m)\u001b[0m\u001b[1;33m\u001b[0m\u001b[1;33m\u001b[0m\u001b[0m\n\u001b[1;32m--> 457\u001b[1;33m     \u001b[0mresult\u001b[0m \u001b[1;33m=\u001b[0m \u001b[0mself\u001b[0m\u001b[1;33m.\u001b[0m\u001b[0m_call\u001b[0m\u001b[1;33m(\u001b[0m\u001b[1;33m*\u001b[0m\u001b[0margs\u001b[0m\u001b[1;33m,\u001b[0m \u001b[1;33m**\u001b[0m\u001b[0mkwds\u001b[0m\u001b[1;33m)\u001b[0m\u001b[1;33m\u001b[0m\u001b[1;33m\u001b[0m\u001b[0m\n\u001b[0m\u001b[0;32m    458\u001b[0m     \u001b[1;32mif\u001b[0m \u001b[0mtracing_count\u001b[0m \u001b[1;33m==\u001b[0m \u001b[0mself\u001b[0m\u001b[1;33m.\u001b[0m\u001b[0m_get_tracing_count\u001b[0m\u001b[1;33m(\u001b[0m\u001b[1;33m)\u001b[0m\u001b[1;33m:\u001b[0m\u001b[1;33m\u001b[0m\u001b[1;33m\u001b[0m\u001b[0m\n\u001b[0;32m    459\u001b[0m       \u001b[0mself\u001b[0m\u001b[1;33m.\u001b[0m\u001b[0m_call_counter\u001b[0m\u001b[1;33m.\u001b[0m\u001b[0mcalled_without_tracing\u001b[0m\u001b[1;33m(\u001b[0m\u001b[1;33m)\u001b[0m\u001b[1;33m\u001b[0m\u001b[1;33m\u001b[0m\u001b[0m\n",
      "\u001b[1;32mc:\\users\\visitor.slsi\\appdata\\local\\programs\\python\\python37\\lib\\site-packages\\tensorflow_core\\python\\eager\\def_function.py\u001b[0m in \u001b[0;36m_call\u001b[1;34m(self, *args, **kwds)\u001b[0m\n\u001b[0;32m    518\u001b[0m         \u001b[1;31m# Lifting succeeded, so variables are initialized and we can run the\u001b[0m\u001b[1;33m\u001b[0m\u001b[1;33m\u001b[0m\u001b[1;33m\u001b[0m\u001b[0m\n\u001b[0;32m    519\u001b[0m         \u001b[1;31m# stateless function.\u001b[0m\u001b[1;33m\u001b[0m\u001b[1;33m\u001b[0m\u001b[1;33m\u001b[0m\u001b[0m\n\u001b[1;32m--> 520\u001b[1;33m         \u001b[1;32mreturn\u001b[0m \u001b[0mself\u001b[0m\u001b[1;33m.\u001b[0m\u001b[0m_stateless_fn\u001b[0m\u001b[1;33m(\u001b[0m\u001b[1;33m*\u001b[0m\u001b[0margs\u001b[0m\u001b[1;33m,\u001b[0m \u001b[1;33m**\u001b[0m\u001b[0mkwds\u001b[0m\u001b[1;33m)\u001b[0m\u001b[1;33m\u001b[0m\u001b[1;33m\u001b[0m\u001b[0m\n\u001b[0m\u001b[0;32m    521\u001b[0m     \u001b[1;32melse\u001b[0m\u001b[1;33m:\u001b[0m\u001b[1;33m\u001b[0m\u001b[1;33m\u001b[0m\u001b[0m\n\u001b[0;32m    522\u001b[0m       \u001b[0mcanon_args\u001b[0m\u001b[1;33m,\u001b[0m \u001b[0mcanon_kwds\u001b[0m \u001b[1;33m=\u001b[0m\u001b[0;31m \u001b[0m\u001b[0;31m\\\u001b[0m\u001b[1;33m\u001b[0m\u001b[1;33m\u001b[0m\u001b[0m\n",
      "\u001b[1;32mc:\\users\\visitor.slsi\\appdata\\local\\programs\\python\\python37\\lib\\site-packages\\tensorflow_core\\python\\eager\\function.py\u001b[0m in \u001b[0;36m__call__\u001b[1;34m(self, *args, **kwargs)\u001b[0m\n\u001b[0;32m   1821\u001b[0m     \u001b[1;34m\"\"\"Calls a graph function specialized to the inputs.\"\"\"\u001b[0m\u001b[1;33m\u001b[0m\u001b[1;33m\u001b[0m\u001b[0m\n\u001b[0;32m   1822\u001b[0m     \u001b[0mgraph_function\u001b[0m\u001b[1;33m,\u001b[0m \u001b[0margs\u001b[0m\u001b[1;33m,\u001b[0m \u001b[0mkwargs\u001b[0m \u001b[1;33m=\u001b[0m \u001b[0mself\u001b[0m\u001b[1;33m.\u001b[0m\u001b[0m_maybe_define_function\u001b[0m\u001b[1;33m(\u001b[0m\u001b[0margs\u001b[0m\u001b[1;33m,\u001b[0m \u001b[0mkwargs\u001b[0m\u001b[1;33m)\u001b[0m\u001b[1;33m\u001b[0m\u001b[1;33m\u001b[0m\u001b[0m\n\u001b[1;32m-> 1823\u001b[1;33m     \u001b[1;32mreturn\u001b[0m \u001b[0mgraph_function\u001b[0m\u001b[1;33m.\u001b[0m\u001b[0m_filtered_call\u001b[0m\u001b[1;33m(\u001b[0m\u001b[0margs\u001b[0m\u001b[1;33m,\u001b[0m \u001b[0mkwargs\u001b[0m\u001b[1;33m)\u001b[0m  \u001b[1;31m# pylint: disable=protected-access\u001b[0m\u001b[1;33m\u001b[0m\u001b[1;33m\u001b[0m\u001b[0m\n\u001b[0m\u001b[0;32m   1824\u001b[0m \u001b[1;33m\u001b[0m\u001b[0m\n\u001b[0;32m   1825\u001b[0m   \u001b[1;33m@\u001b[0m\u001b[0mproperty\u001b[0m\u001b[1;33m\u001b[0m\u001b[1;33m\u001b[0m\u001b[0m\n",
      "\u001b[1;32mc:\\users\\visitor.slsi\\appdata\\local\\programs\\python\\python37\\lib\\site-packages\\tensorflow_core\\python\\eager\\function.py\u001b[0m in \u001b[0;36m_filtered_call\u001b[1;34m(self, args, kwargs)\u001b[0m\n\u001b[0;32m   1139\u001b[0m          if isinstance(t, (ops.Tensor,\n\u001b[0;32m   1140\u001b[0m                            resource_variable_ops.BaseResourceVariable))),\n\u001b[1;32m-> 1141\u001b[1;33m         self.captured_inputs)\n\u001b[0m\u001b[0;32m   1142\u001b[0m \u001b[1;33m\u001b[0m\u001b[0m\n\u001b[0;32m   1143\u001b[0m   \u001b[1;32mdef\u001b[0m \u001b[0m_call_flat\u001b[0m\u001b[1;33m(\u001b[0m\u001b[0mself\u001b[0m\u001b[1;33m,\u001b[0m \u001b[0margs\u001b[0m\u001b[1;33m,\u001b[0m \u001b[0mcaptured_inputs\u001b[0m\u001b[1;33m,\u001b[0m \u001b[0mcancellation_manager\u001b[0m\u001b[1;33m=\u001b[0m\u001b[1;32mNone\u001b[0m\u001b[1;33m)\u001b[0m\u001b[1;33m:\u001b[0m\u001b[1;33m\u001b[0m\u001b[1;33m\u001b[0m\u001b[0m\n",
      "\u001b[1;32mc:\\users\\visitor.slsi\\appdata\\local\\programs\\python\\python37\\lib\\site-packages\\tensorflow_core\\python\\eager\\function.py\u001b[0m in \u001b[0;36m_call_flat\u001b[1;34m(self, args, captured_inputs, cancellation_manager)\u001b[0m\n\u001b[0;32m   1222\u001b[0m     \u001b[1;32mif\u001b[0m \u001b[0mexecuting_eagerly\u001b[0m\u001b[1;33m:\u001b[0m\u001b[1;33m\u001b[0m\u001b[1;33m\u001b[0m\u001b[0m\n\u001b[0;32m   1223\u001b[0m       flat_outputs = forward_function.call(\n\u001b[1;32m-> 1224\u001b[1;33m           ctx, args, cancellation_manager=cancellation_manager)\n\u001b[0m\u001b[0;32m   1225\u001b[0m     \u001b[1;32melse\u001b[0m\u001b[1;33m:\u001b[0m\u001b[1;33m\u001b[0m\u001b[1;33m\u001b[0m\u001b[0m\n\u001b[0;32m   1226\u001b[0m       \u001b[0mgradient_name\u001b[0m \u001b[1;33m=\u001b[0m \u001b[0mself\u001b[0m\u001b[1;33m.\u001b[0m\u001b[0m_delayed_rewrite_functions\u001b[0m\u001b[1;33m.\u001b[0m\u001b[0mregister\u001b[0m\u001b[1;33m(\u001b[0m\u001b[1;33m)\u001b[0m\u001b[1;33m\u001b[0m\u001b[1;33m\u001b[0m\u001b[0m\n",
      "\u001b[1;32mc:\\users\\visitor.slsi\\appdata\\local\\programs\\python\\python37\\lib\\site-packages\\tensorflow_core\\python\\eager\\function.py\u001b[0m in \u001b[0;36mcall\u001b[1;34m(self, ctx, args, cancellation_manager)\u001b[0m\n\u001b[0;32m    509\u001b[0m               \u001b[0minputs\u001b[0m\u001b[1;33m=\u001b[0m\u001b[0margs\u001b[0m\u001b[1;33m,\u001b[0m\u001b[1;33m\u001b[0m\u001b[1;33m\u001b[0m\u001b[0m\n\u001b[0;32m    510\u001b[0m               \u001b[0mattrs\u001b[0m\u001b[1;33m=\u001b[0m\u001b[1;33m(\u001b[0m\u001b[1;34m\"executor_type\"\u001b[0m\u001b[1;33m,\u001b[0m \u001b[0mexecutor_type\u001b[0m\u001b[1;33m,\u001b[0m \u001b[1;34m\"config_proto\"\u001b[0m\u001b[1;33m,\u001b[0m \u001b[0mconfig\u001b[0m\u001b[1;33m)\u001b[0m\u001b[1;33m,\u001b[0m\u001b[1;33m\u001b[0m\u001b[1;33m\u001b[0m\u001b[0m\n\u001b[1;32m--> 511\u001b[1;33m               ctx=ctx)\n\u001b[0m\u001b[0;32m    512\u001b[0m         \u001b[1;32melse\u001b[0m\u001b[1;33m:\u001b[0m\u001b[1;33m\u001b[0m\u001b[1;33m\u001b[0m\u001b[0m\n\u001b[0;32m    513\u001b[0m           outputs = execute.execute_with_cancellation(\n",
      "\u001b[1;32mc:\\users\\visitor.slsi\\appdata\\local\\programs\\python\\python37\\lib\\site-packages\\tensorflow_core\\python\\eager\\execute.py\u001b[0m in \u001b[0;36mquick_execute\u001b[1;34m(op_name, num_outputs, inputs, attrs, ctx, name)\u001b[0m\n\u001b[0;32m     65\u001b[0m     \u001b[1;32melse\u001b[0m\u001b[1;33m:\u001b[0m\u001b[1;33m\u001b[0m\u001b[1;33m\u001b[0m\u001b[0m\n\u001b[0;32m     66\u001b[0m       \u001b[0mmessage\u001b[0m \u001b[1;33m=\u001b[0m \u001b[0me\u001b[0m\u001b[1;33m.\u001b[0m\u001b[0mmessage\u001b[0m\u001b[1;33m\u001b[0m\u001b[1;33m\u001b[0m\u001b[0m\n\u001b[1;32m---> 67\u001b[1;33m     \u001b[0msix\u001b[0m\u001b[1;33m.\u001b[0m\u001b[0mraise_from\u001b[0m\u001b[1;33m(\u001b[0m\u001b[0mcore\u001b[0m\u001b[1;33m.\u001b[0m\u001b[0m_status_to_exception\u001b[0m\u001b[1;33m(\u001b[0m\u001b[0me\u001b[0m\u001b[1;33m.\u001b[0m\u001b[0mcode\u001b[0m\u001b[1;33m,\u001b[0m \u001b[0mmessage\u001b[0m\u001b[1;33m)\u001b[0m\u001b[1;33m,\u001b[0m \u001b[1;32mNone\u001b[0m\u001b[1;33m)\u001b[0m\u001b[1;33m\u001b[0m\u001b[1;33m\u001b[0m\u001b[0m\n\u001b[0m\u001b[0;32m     68\u001b[0m   \u001b[1;32mexcept\u001b[0m \u001b[0mTypeError\u001b[0m \u001b[1;32mas\u001b[0m \u001b[0me\u001b[0m\u001b[1;33m:\u001b[0m\u001b[1;33m\u001b[0m\u001b[1;33m\u001b[0m\u001b[0m\n\u001b[0;32m     69\u001b[0m     keras_symbolic_tensors = [\n",
      "\u001b[1;32mc:\\users\\visitor.slsi\\appdata\\local\\programs\\python\\python37\\lib\\site-packages\\six.py\u001b[0m in \u001b[0;36mraise_from\u001b[1;34m(value, from_value)\u001b[0m\n",
      "\u001b[1;31mInternalError\u001b[0m:  Blas GEMM launch failed : a.shape=(128, 10), b.shape=(10, 512), m=128, n=512, k=10\n\t [[node sequential/dense/MatMul (defined at c:\\users\\visitor.slsi\\appdata\\local\\programs\\python\\python37\\lib\\site-packages\\tensorflow_core\\python\\framework\\ops.py:1751) ]] [Op:__inference_distributed_function_1239]\n\nFunction call stack:\ndistributed_function\n"
     ]
    }
   ],
   "source": [
    "epochs = 100\n",
    "batch_size=128\n",
    "\n",
    "history = model.fit(X_train, y_train, epochs=epochs, batch_size=batch_size, validation_data=[X_test, y_test])"
   ]
  },
  {
   "cell_type": "code",
   "execution_count": 78,
   "metadata": {},
   "outputs": [],
   "source": [
    "y_pred = model.predict(X_test)"
   ]
  },
  {
   "cell_type": "markdown",
   "metadata": {},
   "source": [
    "## Evaluate"
   ]
  },
  {
   "cell_type": "code",
   "execution_count": 79,
   "metadata": {},
   "outputs": [],
   "source": [
    "from sklearn.metrics import mean_squared_error as mse\n",
    "from sklearn.metrics import r2_score as r2"
   ]
  },
  {
   "cell_type": "code",
   "execution_count": 80,
   "metadata": {
    "scrolled": true
   },
   "outputs": [
    {
     "name": "stdout",
     "output_type": "stream",
     "text": [
      "Score\n",
      "MSE :       6.170228162478003\n",
      "RMSE :      2.4839943966277387\n",
      "r2_score :  0.4501499811937353\n"
     ]
    }
   ],
   "source": [
    "print('Score')\n",
    "print('MSE :      ', mse(y_test, y_pred))\n",
    "print('RMSE :     ', np.sqrt(mse(y_test, y_pred)))\n",
    "print('r2_score : ', r2(y_test, y_pred))"
   ]
  },
  {
   "cell_type": "code",
   "execution_count": 81,
   "metadata": {
    "scrolled": true
   },
   "outputs": [
    {
     "data": {
      "image/png": "[encoded data removed]",
      "text/plain": [
       "<Figure size 432x288 with 1 Axes>"
      ]
     },
     "metadata": {
      "needs_background": "light"
     },
     "output_type": "display_data"
    }
   ],
   "source": [
    "# Plot training & validation accuracy values\n",
    "plt.plot(history.history['loss'])\n",
    "plt.plot(history.history['val_loss'])\n",
    "plt.ylabel('MSE')\n",
    "plt.xlabel('Epoch')\n",
    "plt.legend(['Train', 'Test'], loc='upper left')\n",
    "plt.show()"
   ]
  }
 ],
 "metadata": {
  "kernelspec": {
   "display_name": "Python 3",
   "language": "python",
   "name": "python3"
  },
  "language_info": {
   "codemirror_mode": {
    "name": "ipython",
    "version": 3
   },
   "file_extension": ".py",
   "mimetype": "text/x-python",
   "name": "python",
   "nbconvert_exporter": "python",
   "pygments_lexer": "ipython3",
   "version": "3.7.5"
  }
 },
 "nbformat": 4,
 "nbformat_minor": 2
}
