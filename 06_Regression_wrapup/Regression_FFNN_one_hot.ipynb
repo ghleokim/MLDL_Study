{
 "cells": [
  {
   "cell_type": "markdown",
   "metadata": {},
   "source": [
    "# Regression - FFNN - one_hot"
   ]
  },
  {
   "cell_type": "code",
   "execution_count": 1,
   "metadata": {},
   "outputs": [],
   "source": [
    "import numpy as np\n",
    "import pandas as pd\n",
    "import seaborn as sns\n",
    "import matplotlib.pyplot as plt"
   ]
  },
  {
   "cell_type": "code",
   "execution_count": 16,
   "metadata": {},
   "outputs": [],
   "source": [
    "from sklearn.metrics import mean_squared_error as mse\n",
    "from sklearn.metrics import r2_score as r2"
   ]
  },
  {
   "cell_type": "code",
   "execution_count": 2,
   "metadata": {},
   "outputs": [],
   "source": [
    "df = pd.read_csv('reg_data/abalone.data',\n",
    "                 names=['Sex','Length','Diameter','Height','Whole weight','Shucked weight','Viscera weight','Shell weight','Rings'])"
   ]
  },
  {
   "cell_type": "code",
   "execution_count": 3,
   "metadata": {},
   "outputs": [],
   "source": [
    "from sklearn.model_selection import train_test_split"
   ]
  },
  {
   "cell_type": "code",
   "execution_count": 4,
   "metadata": {},
   "outputs": [],
   "source": [
    "df['Sex'] = df['Sex'].replace(('I','M','F'),(3,1,2))\n",
    "\n",
    "X = df.iloc[:,:-1].values\n",
    "y = df.iloc[:, -1].values\n",
    "\n",
    "X_train, X_test, y_train, y_test = train_test_split(X, y, test_size=0.2, random_state=7)"
   ]
  },
  {
   "cell_type": "code",
   "execution_count": 5,
   "metadata": {
    "scrolled": true
   },
   "outputs": [
    {
     "data": {
      "text/html": [
       "<div>\n",
       "<style scoped>\n",
       "    .dataframe tbody tr th:only-of-type {\n",
       "        vertical-align: middle;\n",
       "    }\n",
       "\n",
       "    .dataframe tbody tr th {\n",
       "        vertical-align: top;\n",
       "    }\n",
       "\n",
       "    .dataframe thead th {\n",
       "        text-align: right;\n",
       "    }\n",
       "</style>\n",
       "<table border=\"1\" class=\"dataframe\">\n",
       "  <thead>\n",
       "    <tr style=\"text-align: right;\">\n",
       "      <th></th>\n",
       "      <th>Sex</th>\n",
       "      <th>Length</th>\n",
       "      <th>Diameter</th>\n",
       "      <th>Height</th>\n",
       "      <th>Whole weight</th>\n",
       "      <th>Shucked weight</th>\n",
       "      <th>Viscera weight</th>\n",
       "      <th>Shell weight</th>\n",
       "      <th>Rings</th>\n",
       "    </tr>\n",
       "  </thead>\n",
       "  <tbody>\n",
       "    <tr>\n",
       "      <th>0</th>\n",
       "      <td>1</td>\n",
       "      <td>0.455</td>\n",
       "      <td>0.365</td>\n",
       "      <td>0.095</td>\n",
       "      <td>0.5140</td>\n",
       "      <td>0.2245</td>\n",
       "      <td>0.1010</td>\n",
       "      <td>0.150</td>\n",
       "      <td>15</td>\n",
       "    </tr>\n",
       "    <tr>\n",
       "      <th>1</th>\n",
       "      <td>1</td>\n",
       "      <td>0.350</td>\n",
       "      <td>0.265</td>\n",
       "      <td>0.090</td>\n",
       "      <td>0.2255</td>\n",
       "      <td>0.0995</td>\n",
       "      <td>0.0485</td>\n",
       "      <td>0.070</td>\n",
       "      <td>7</td>\n",
       "    </tr>\n",
       "    <tr>\n",
       "      <th>2</th>\n",
       "      <td>2</td>\n",
       "      <td>0.530</td>\n",
       "      <td>0.420</td>\n",
       "      <td>0.135</td>\n",
       "      <td>0.6770</td>\n",
       "      <td>0.2565</td>\n",
       "      <td>0.1415</td>\n",
       "      <td>0.210</td>\n",
       "      <td>9</td>\n",
       "    </tr>\n",
       "    <tr>\n",
       "      <th>3</th>\n",
       "      <td>1</td>\n",
       "      <td>0.440</td>\n",
       "      <td>0.365</td>\n",
       "      <td>0.125</td>\n",
       "      <td>0.5160</td>\n",
       "      <td>0.2155</td>\n",
       "      <td>0.1140</td>\n",
       "      <td>0.155</td>\n",
       "      <td>10</td>\n",
       "    </tr>\n",
       "    <tr>\n",
       "      <th>4</th>\n",
       "      <td>3</td>\n",
       "      <td>0.330</td>\n",
       "      <td>0.255</td>\n",
       "      <td>0.080</td>\n",
       "      <td>0.2050</td>\n",
       "      <td>0.0895</td>\n",
       "      <td>0.0395</td>\n",
       "      <td>0.055</td>\n",
       "      <td>7</td>\n",
       "    </tr>\n",
       "  </tbody>\n",
       "</table>\n",
       "</div>"
      ],
      "text/plain": [
       "   Sex  Length  Diameter  Height  Whole weight  Shucked weight  \\\n",
       "0    1   0.455     0.365   0.095        0.5140          0.2245   \n",
       "1    1   0.350     0.265   0.090        0.2255          0.0995   \n",
       "2    2   0.530     0.420   0.135        0.6770          0.2565   \n",
       "3    1   0.440     0.365   0.125        0.5160          0.2155   \n",
       "4    3   0.330     0.255   0.080        0.2050          0.0895   \n",
       "\n",
       "   Viscera weight  Shell weight  Rings  \n",
       "0          0.1010         0.150     15  \n",
       "1          0.0485         0.070      7  \n",
       "2          0.1415         0.210      9  \n",
       "3          0.1140         0.155     10  \n",
       "4          0.0395         0.055      7  "
      ]
     },
     "execution_count": 5,
     "metadata": {},
     "output_type": "execute_result"
    }
   ],
   "source": [
    "df.head()"
   ]
  },
  {
   "cell_type": "markdown",
   "metadata": {},
   "source": [
    "## Build Model"
   ]
  },
  {
   "cell_type": "code",
   "execution_count": 6,
   "metadata": {},
   "outputs": [],
   "source": [
    "from sklearn.model_selection import train_test_split"
   ]
  },
  {
   "cell_type": "code",
   "execution_count": 7,
   "metadata": {},
   "outputs": [],
   "source": [
    "dummy = pd.get_dummies(df['Sex'])\n",
    "dummy.head()\n",
    "\n",
    "df = pd.concat([df.iloc[:,0], dummy, df.iloc[:,1:]], axis=1)\n",
    "\n",
    "X = df.iloc[:,1:-1].values\n",
    "y = df.iloc[:, -1].values\n",
    "\n",
    "X_train, X_test, y_train, y_test = train_test_split(X, y, test_size=0.2, random_state=7)"
   ]
  },
  {
   "cell_type": "code",
   "execution_count": 8,
   "metadata": {
    "scrolled": false
   },
   "outputs": [
    {
     "data": {
      "text/html": [
       "<div>\n",
       "<style scoped>\n",
       "    .dataframe tbody tr th:only-of-type {\n",
       "        vertical-align: middle;\n",
       "    }\n",
       "\n",
       "    .dataframe tbody tr th {\n",
       "        vertical-align: top;\n",
       "    }\n",
       "\n",
       "    .dataframe thead th {\n",
       "        text-align: right;\n",
       "    }\n",
       "</style>\n",
       "<table border=\"1\" class=\"dataframe\">\n",
       "  <thead>\n",
       "    <tr style=\"text-align: right;\">\n",
       "      <th></th>\n",
       "      <th>Sex</th>\n",
       "      <th>1</th>\n",
       "      <th>2</th>\n",
       "      <th>3</th>\n",
       "      <th>Length</th>\n",
       "      <th>Diameter</th>\n",
       "      <th>Height</th>\n",
       "      <th>Whole weight</th>\n",
       "      <th>Shucked weight</th>\n",
       "      <th>Viscera weight</th>\n",
       "      <th>Shell weight</th>\n",
       "      <th>Rings</th>\n",
       "    </tr>\n",
       "  </thead>\n",
       "  <tbody>\n",
       "    <tr>\n",
       "      <th>0</th>\n",
       "      <td>1</td>\n",
       "      <td>1</td>\n",
       "      <td>0</td>\n",
       "      <td>0</td>\n",
       "      <td>0.455</td>\n",
       "      <td>0.365</td>\n",
       "      <td>0.095</td>\n",
       "      <td>0.5140</td>\n",
       "      <td>0.2245</td>\n",
       "      <td>0.1010</td>\n",
       "      <td>0.150</td>\n",
       "      <td>15</td>\n",
       "    </tr>\n",
       "    <tr>\n",
       "      <th>1</th>\n",
       "      <td>1</td>\n",
       "      <td>1</td>\n",
       "      <td>0</td>\n",
       "      <td>0</td>\n",
       "      <td>0.350</td>\n",
       "      <td>0.265</td>\n",
       "      <td>0.090</td>\n",
       "      <td>0.2255</td>\n",
       "      <td>0.0995</td>\n",
       "      <td>0.0485</td>\n",
       "      <td>0.070</td>\n",
       "      <td>7</td>\n",
       "    </tr>\n",
       "    <tr>\n",
       "      <th>2</th>\n",
       "      <td>2</td>\n",
       "      <td>0</td>\n",
       "      <td>1</td>\n",
       "      <td>0</td>\n",
       "      <td>0.530</td>\n",
       "      <td>0.420</td>\n",
       "      <td>0.135</td>\n",
       "      <td>0.6770</td>\n",
       "      <td>0.2565</td>\n",
       "      <td>0.1415</td>\n",
       "      <td>0.210</td>\n",
       "      <td>9</td>\n",
       "    </tr>\n",
       "    <tr>\n",
       "      <th>3</th>\n",
       "      <td>1</td>\n",
       "      <td>1</td>\n",
       "      <td>0</td>\n",
       "      <td>0</td>\n",
       "      <td>0.440</td>\n",
       "      <td>0.365</td>\n",
       "      <td>0.125</td>\n",
       "      <td>0.5160</td>\n",
       "      <td>0.2155</td>\n",
       "      <td>0.1140</td>\n",
       "      <td>0.155</td>\n",
       "      <td>10</td>\n",
       "    </tr>\n",
       "    <tr>\n",
       "      <th>4</th>\n",
       "      <td>3</td>\n",
       "      <td>0</td>\n",
       "      <td>0</td>\n",
       "      <td>1</td>\n",
       "      <td>0.330</td>\n",
       "      <td>0.255</td>\n",
       "      <td>0.080</td>\n",
       "      <td>0.2050</td>\n",
       "      <td>0.0895</td>\n",
       "      <td>0.0395</td>\n",
       "      <td>0.055</td>\n",
       "      <td>7</td>\n",
       "    </tr>\n",
       "  </tbody>\n",
       "</table>\n",
       "</div>"
      ],
      "text/plain": [
       "   Sex  1  2  3  Length  Diameter  Height  Whole weight  Shucked weight  \\\n",
       "0    1  1  0  0   0.455     0.365   0.095        0.5140          0.2245   \n",
       "1    1  1  0  0   0.350     0.265   0.090        0.2255          0.0995   \n",
       "2    2  0  1  0   0.530     0.420   0.135        0.6770          0.2565   \n",
       "3    1  1  0  0   0.440     0.365   0.125        0.5160          0.2155   \n",
       "4    3  0  0  1   0.330     0.255   0.080        0.2050          0.0895   \n",
       "\n",
       "   Viscera weight  Shell weight  Rings  \n",
       "0          0.1010         0.150     15  \n",
       "1          0.0485         0.070      7  \n",
       "2          0.1415         0.210      9  \n",
       "3          0.1140         0.155     10  \n",
       "4          0.0395         0.055      7  "
      ]
     },
     "execution_count": 8,
     "metadata": {},
     "output_type": "execute_result"
    }
   ],
   "source": [
    "df.head()"
   ]
  },
  {
   "cell_type": "code",
   "execution_count": 9,
   "metadata": {},
   "outputs": [],
   "source": [
    "from tensorflow.keras import Sequential\n",
    "from tensorflow.keras.layers import Dense"
   ]
  },
  {
   "cell_type": "code",
   "execution_count": 10,
   "metadata": {},
   "outputs": [],
   "source": [
    "model = Sequential()\n",
    "model.add(Dense(32, input_shape=(10,)))\n",
    "model.add(Dense(64, activation='relu'))\n",
    "model.add(Dense(128, activation='relu'))\n",
    "model.add(Dense(1))"
   ]
  },
  {
   "cell_type": "code",
   "execution_count": 11,
   "metadata": {},
   "outputs": [],
   "source": [
    "model.compile(optimizer='adam', loss='mse', metrics=['mae'])"
   ]
  },
  {
   "cell_type": "code",
   "execution_count": 12,
   "metadata": {},
   "outputs": [
    {
     "name": "stdout",
     "output_type": "stream",
     "text": [
      "Model: \"sequential\"\n",
      "_________________________________________________________________\n",
      "Layer (type)                 Output Shape              Param #   \n",
      "=================================================================\n",
      "dense (Dense)                (None, 32)                352       \n",
      "_________________________________________________________________\n",
      "dense_1 (Dense)              (None, 64)                2112      \n",
      "_________________________________________________________________\n",
      "dense_2 (Dense)              (None, 128)               8320      \n",
      "_________________________________________________________________\n",
      "dense_3 (Dense)              (None, 1)                 129       \n",
      "=================================================================\n",
      "Total params: 10,913\n",
      "Trainable params: 10,913\n",
      "Non-trainable params: 0\n",
      "_________________________________________________________________\n"
     ]
    }
   ],
   "source": [
    "model.summary()"
   ]
  },
  {
   "cell_type": "code",
   "execution_count": 13,
   "metadata": {
    "scrolled": true
   },
   "outputs": [
    {
     "name": "stdout",
     "output_type": "stream",
     "text": [
      "Train on 3341 samples, validate on 836 samples\n",
      "Epoch 1/100\n",
      "3341/3341 [==============================] - 1s 400us/sample - loss: 69.3134 - mae: 7.6192 - val_loss: 21.3496 - val_mae: 3.6959\n",
      "Epoch 2/100\n",
      "3341/3341 [==============================] - 0s 48us/sample - loss: 10.1369 - mae: 2.4045 - val_loss: 8.2887 - val_mae: 1.9161\n",
      "Epoch 3/100\n",
      "3341/3341 [==============================] - 0s 49us/sample - loss: 7.1007 - mae: 1.9052 - val_loss: 7.4171 - val_mae: 1.8776\n",
      "Epoch 4/100\n",
      "3341/3341 [==============================] - 0s 51us/sample - loss: 6.7007 - mae: 1.8661 - val_loss: 7.2786 - val_mae: 1.8357\n",
      "Epoch 5/100\n",
      "3341/3341 [==============================] - 0s 50us/sample - loss: 6.5319 - mae: 1.8526 - val_loss: 7.2767 - val_mae: 1.7951\n",
      "Epoch 6/100\n",
      "3341/3341 [==============================] - 0s 49us/sample - loss: 6.4420 - mae: 1.8323 - val_loss: 7.1736 - val_mae: 1.7795\n",
      "Epoch 7/100\n",
      "3341/3341 [==============================] - 0s 63us/sample - loss: 6.3489 - mae: 1.8275 - val_loss: 7.1284 - val_mae: 1.7626\n",
      "Epoch 8/100\n",
      "3341/3341 [==============================] - 0s 75us/sample - loss: 6.2832 - mae: 1.8173 - val_loss: 6.8120 - val_mae: 1.7897\n",
      "Epoch 9/100\n",
      "3341/3341 [==============================] - 0s 54us/sample - loss: 6.1429 - mae: 1.7838 - val_loss: 6.8998 - val_mae: 1.7361\n",
      "Epoch 10/100\n",
      "3341/3341 [==============================] - 0s 51us/sample - loss: 6.0446 - mae: 1.7654 - val_loss: 6.5521 - val_mae: 1.7864\n",
      "Epoch 11/100\n",
      "3341/3341 [==============================] - 0s 43us/sample - loss: 5.9828 - mae: 1.7809 - val_loss: 6.4476 - val_mae: 1.7569\n",
      "Epoch 12/100\n",
      "3341/3341 [==============================] - 0s 49us/sample - loss: 5.8476 - mae: 1.7435 - val_loss: 6.4266 - val_mae: 1.7097\n",
      "Epoch 13/100\n",
      "3341/3341 [==============================] - 0s 61us/sample - loss: 5.7787 - mae: 1.7191 - val_loss: 6.4630 - val_mae: 1.6831\n",
      "Epoch 14/100\n",
      "3341/3341 [==============================] - 0s 75us/sample - loss: 5.6433 - mae: 1.6932 - val_loss: 6.0520 - val_mae: 1.7441\n",
      "Epoch 15/100\n",
      "3341/3341 [==============================] - 0s 65us/sample - loss: 5.5881 - mae: 1.7063 - val_loss: 5.9989 - val_mae: 1.6755\n",
      "Epoch 16/100\n",
      "3341/3341 [==============================] - 0s 62us/sample - loss: 5.4274 - mae: 1.6640 - val_loss: 5.8163 - val_mae: 1.7026\n",
      "Epoch 17/100\n",
      "3341/3341 [==============================] - 0s 56us/sample - loss: 5.4139 - mae: 1.6893 - val_loss: 5.8273 - val_mae: 1.6304\n",
      "Epoch 18/100\n",
      "3341/3341 [==============================] - 0s 65us/sample - loss: 5.2128 - mae: 1.6237 - val_loss: 5.6999 - val_mae: 1.6290\n",
      "Epoch 19/100\n",
      "3341/3341 [==============================] - 0s 62us/sample - loss: 5.1225 - mae: 1.6087 - val_loss: 5.5019 - val_mae: 1.6267\n",
      "Epoch 20/100\n",
      "3341/3341 [==============================] - 0s 64us/sample - loss: 5.0429 - mae: 1.6002 - val_loss: 5.5907 - val_mae: 1.5920\n",
      "Epoch 21/100\n",
      "3341/3341 [==============================] - 0s 58us/sample - loss: 4.9484 - mae: 1.5832 - val_loss: 5.3511 - val_mae: 1.5893\n",
      "Epoch 22/100\n",
      "3341/3341 [==============================] - 0s 56us/sample - loss: 4.8778 - mae: 1.5737 - val_loss: 5.2044 - val_mae: 1.5937\n",
      "Epoch 23/100\n",
      "3341/3341 [==============================] - 0s 74us/sample - loss: 4.8490 - mae: 1.5705 - val_loss: 5.0948 - val_mae: 1.6019\n",
      "Epoch 24/100\n",
      "3341/3341 [==============================] - 0s 107us/sample - loss: 4.8063 - mae: 1.5587 - val_loss: 5.1475 - val_mae: 1.7087\n",
      "Epoch 25/100\n",
      "3341/3341 [==============================] - 0s 94us/sample - loss: 4.8696 - mae: 1.5756 - val_loss: 5.1892 - val_mae: 1.5737\n",
      "Epoch 26/100\n",
      "3341/3341 [==============================] - 0s 116us/sample - loss: 4.7160 - mae: 1.5427 - val_loss: 5.2207 - val_mae: 1.5553\n",
      "Epoch 27/100\n",
      "3341/3341 [==============================] - 0s 74us/sample - loss: 4.6953 - mae: 1.5421 - val_loss: 4.9580 - val_mae: 1.5685\n",
      "Epoch 28/100\n",
      "3341/3341 [==============================] - 0s 58us/sample - loss: 4.6656 - mae: 1.5338 - val_loss: 5.0747 - val_mae: 1.5530\n",
      "Epoch 29/100\n",
      "3341/3341 [==============================] - 0s 67us/sample - loss: 4.7125 - mae: 1.5450 - val_loss: 5.2577 - val_mae: 1.5558\n",
      "Epoch 30/100\n",
      "3341/3341 [==============================] - 0s 51us/sample - loss: 4.6786 - mae: 1.5317 - val_loss: 4.9161 - val_mae: 1.5542\n",
      "Epoch 31/100\n",
      "3341/3341 [==============================] - 0s 79us/sample - loss: 4.6757 - mae: 1.5426 - val_loss: 4.9168 - val_mae: 1.5531\n",
      "Epoch 32/100\n",
      "3341/3341 [==============================] - 0s 72us/sample - loss: 4.6094 - mae: 1.5279 - val_loss: 4.9702 - val_mae: 1.5484\n",
      "Epoch 33/100\n",
      "3341/3341 [==============================] - 0s 97us/sample - loss: 4.6235 - mae: 1.5205 - val_loss: 4.9341 - val_mae: 1.5380\n",
      "Epoch 34/100\n",
      "3341/3341 [==============================] - 1s 160us/sample - loss: 4.5609 - mae: 1.5073 - val_loss: 4.7999 - val_mae: 1.5958\n",
      "Epoch 35/100\n",
      "3341/3341 [==============================] - 0s 91us/sample - loss: 4.6643 - mae: 1.5391 - val_loss: 4.8204 - val_mae: 1.6089\n",
      "Epoch 36/100\n",
      "3341/3341 [==============================] - 0s 73us/sample - loss: 4.5770 - mae: 1.5296 - val_loss: 4.7326 - val_mae: 1.5536\n",
      "Epoch 37/100\n",
      "3341/3341 [==============================] - 0s 67us/sample - loss: 4.5540 - mae: 1.5172 - val_loss: 4.9358 - val_mae: 1.5306\n",
      "Epoch 38/100\n",
      "3341/3341 [==============================] - 0s 45us/sample - loss: 4.5129 - mae: 1.5074 - val_loss: 4.8016 - val_mae: 1.5927\n",
      "Epoch 39/100\n",
      "3341/3341 [==============================] - 0s 60us/sample - loss: 4.5144 - mae: 1.5044 - val_loss: 4.7373 - val_mae: 1.5610\n",
      "Epoch 40/100\n",
      "3341/3341 [==============================] - 0s 43us/sample - loss: 4.5223 - mae: 1.4990 - val_loss: 4.7619 - val_mae: 1.5593\n",
      "Epoch 41/100\n",
      "3341/3341 [==============================] - 0s 66us/sample - loss: 4.5121 - mae: 1.4989 - val_loss: 4.7294 - val_mae: 1.5261\n",
      "Epoch 42/100\n",
      "3341/3341 [==============================] - 0s 75us/sample - loss: 4.4652 - mae: 1.4936 - val_loss: 4.8835 - val_mae: 1.5355\n",
      "Epoch 43/100\n",
      "3341/3341 [==============================] - 0s 72us/sample - loss: 4.5056 - mae: 1.4999 - val_loss: 4.8385 - val_mae: 1.5571\n",
      "Epoch 44/100\n",
      "3341/3341 [==============================] - 0s 52us/sample - loss: 4.4274 - mae: 1.4901 - val_loss: 4.7320 - val_mae: 1.5178\n",
      "Epoch 45/100\n",
      "3341/3341 [==============================] - 0s 49us/sample - loss: 4.5012 - mae: 1.5018 - val_loss: 5.3420 - val_mae: 1.5684\n",
      "Epoch 46/100\n",
      "3341/3341 [==============================] - 0s 53us/sample - loss: 4.5235 - mae: 1.5056 - val_loss: 4.9312 - val_mae: 1.5213\n",
      "Epoch 47/100\n",
      "3341/3341 [==============================] - 0s 96us/sample - loss: 4.4495 - mae: 1.4911 - val_loss: 4.9044 - val_mae: 1.5203\n",
      "Epoch 48/100\n",
      "3341/3341 [==============================] - 0s 59us/sample - loss: 4.4273 - mae: 1.4864 - val_loss: 4.6786 - val_mae: 1.5359\n",
      "Epoch 49/100\n",
      "3341/3341 [==============================] - 0s 78us/sample - loss: 4.5103 - mae: 1.5131 - val_loss: 4.8144 - val_mae: 1.5398\n",
      "Epoch 50/100\n",
      "3341/3341 [==============================] - 0s 63us/sample - loss: 4.4630 - mae: 1.4873 - val_loss: 4.7293 - val_mae: 1.5249\n",
      "Epoch 51/100\n",
      "3341/3341 [==============================] - 0s 77us/sample - loss: 4.4188 - mae: 1.4857 - val_loss: 4.7356 - val_mae: 1.5167\n",
      "Epoch 52/100\n",
      "3341/3341 [==============================] - 0s 69us/sample - loss: 4.4552 - mae: 1.4999 - val_loss: 4.9080 - val_mae: 1.5197\n",
      "Epoch 53/100\n",
      "3341/3341 [==============================] - 0s 59us/sample - loss: 4.4779 - mae: 1.5026 - val_loss: 4.6948 - val_mae: 1.5635\n",
      "Epoch 54/100\n",
      "3341/3341 [==============================] - 0s 58us/sample - loss: 4.6214 - mae: 1.5371 - val_loss: 4.6875 - val_mae: 1.5668\n",
      "Epoch 55/100\n",
      "3341/3341 [==============================] - 0s 65us/sample - loss: 4.5223 - mae: 1.5116 - val_loss: 4.7769 - val_mae: 1.5799\n",
      "Epoch 56/100\n",
      "3341/3341 [==============================] - 0s 82us/sample - loss: 4.4028 - mae: 1.4794 - val_loss: 4.7688 - val_mae: 1.5358\n",
      "Epoch 57/100\n",
      "3341/3341 [==============================] - 0s 70us/sample - loss: 4.4335 - mae: 1.4966 - val_loss: 4.7725 - val_mae: 1.5336\n",
      "Epoch 58/100\n",
      "3341/3341 [==============================] - 0s 75us/sample - loss: 4.5493 - mae: 1.5227 - val_loss: 5.0770 - val_mae: 1.5258\n",
      "Epoch 59/100\n"
     ]
    },
    {
     "name": "stdout",
     "output_type": "stream",
     "text": [
      "3341/3341 [==============================] - 0s 93us/sample - loss: 4.3656 - mae: 1.4779 - val_loss: 4.7494 - val_mae: 1.5117\n",
      "Epoch 60/100\n",
      "3341/3341 [==============================] - 0s 71us/sample - loss: 4.3585 - mae: 1.4807 - val_loss: 5.1297 - val_mae: 1.5345\n",
      "Epoch 61/100\n",
      "3341/3341 [==============================] - 0s 54us/sample - loss: 4.3764 - mae: 1.4825 - val_loss: 4.8498 - val_mae: 1.5378\n",
      "Epoch 62/100\n",
      "3341/3341 [==============================] - 0s 53us/sample - loss: 4.3659 - mae: 1.4744 - val_loss: 4.7174 - val_mae: 1.5585\n",
      "Epoch 63/100\n",
      "3341/3341 [==============================] - 0s 62us/sample - loss: 4.4183 - mae: 1.4982 - val_loss: 4.6866 - val_mae: 1.5274\n",
      "Epoch 64/100\n",
      "3341/3341 [==============================] - 0s 68us/sample - loss: 4.3885 - mae: 1.4907 - val_loss: 4.8882 - val_mae: 1.5163\n",
      "Epoch 65/100\n",
      "3341/3341 [==============================] - 0s 77us/sample - loss: 4.4404 - mae: 1.4891 - val_loss: 5.2265 - val_mae: 1.5470\n",
      "Epoch 66/100\n",
      "3341/3341 [==============================] - 0s 87us/sample - loss: 4.3790 - mae: 1.4822 - val_loss: 4.8648 - val_mae: 1.5081\n",
      "Epoch 67/100\n",
      "3341/3341 [==============================] - 0s 42us/sample - loss: 4.4170 - mae: 1.4783 - val_loss: 5.1163 - val_mae: 1.5309\n",
      "Epoch 68/100\n",
      "3341/3341 [==============================] - 0s 42us/sample - loss: 4.3096 - mae: 1.4698 - val_loss: 4.7076 - val_mae: 1.5126\n",
      "Epoch 69/100\n",
      "3341/3341 [==============================] - 0s 47us/sample - loss: 4.3760 - mae: 1.4855 - val_loss: 4.8720 - val_mae: 1.5146\n",
      "Epoch 70/100\n",
      "3341/3341 [==============================] - 0s 51us/sample - loss: 4.4043 - mae: 1.4767 - val_loss: 4.6361 - val_mae: 1.5223\n",
      "Epoch 71/100\n",
      "3341/3341 [==============================] - 0s 37us/sample - loss: 4.3311 - mae: 1.4766 - val_loss: 4.7241 - val_mae: 1.5020\n",
      "Epoch 72/100\n",
      "3341/3341 [==============================] - 0s 47us/sample - loss: 4.3176 - mae: 1.4703 - val_loss: 5.1409 - val_mae: 1.5393\n",
      "Epoch 73/100\n",
      "3341/3341 [==============================] - 0s 42us/sample - loss: 4.3679 - mae: 1.4751 - val_loss: 5.1781 - val_mae: 1.5382\n",
      "Epoch 74/100\n",
      "3341/3341 [==============================] - 0s 42us/sample - loss: 4.3511 - mae: 1.4796 - val_loss: 4.7526 - val_mae: 1.5263\n",
      "Epoch 75/100\n",
      "3341/3341 [==============================] - 0s 42us/sample - loss: 4.3587 - mae: 1.4786 - val_loss: 4.7871 - val_mae: 1.5140\n",
      "Epoch 76/100\n",
      "3341/3341 [==============================] - 0s 42us/sample - loss: 4.3643 - mae: 1.4693 - val_loss: 4.7680 - val_mae: 1.6118\n",
      "Epoch 77/100\n",
      "3341/3341 [==============================] - 0s 51us/sample - loss: 4.3768 - mae: 1.4848 - val_loss: 4.6252 - val_mae: 1.5196\n",
      "Epoch 78/100\n",
      "3341/3341 [==============================] - 0s 33us/sample - loss: 4.3852 - mae: 1.4926 - val_loss: 5.0026 - val_mae: 1.5197\n",
      "Epoch 79/100\n",
      "3341/3341 [==============================] - 0s 42us/sample - loss: 4.4003 - mae: 1.4812 - val_loss: 4.7197 - val_mae: 1.5014\n",
      "Epoch 80/100\n",
      "3341/3341 [==============================] - 0s 42us/sample - loss: 4.3413 - mae: 1.4685 - val_loss: 4.7267 - val_mae: 1.5105\n",
      "Epoch 81/100\n",
      "3341/3341 [==============================] - 0s 37us/sample - loss: 4.2640 - mae: 1.4591 - val_loss: 4.6326 - val_mae: 1.5461\n",
      "Epoch 82/100\n",
      "3341/3341 [==============================] - 0s 42us/sample - loss: 4.2845 - mae: 1.4630 - val_loss: 4.6332 - val_mae: 1.5575\n",
      "Epoch 83/100\n",
      "3341/3341 [==============================] - 0s 42us/sample - loss: 4.3542 - mae: 1.4865 - val_loss: 5.3199 - val_mae: 1.5591\n",
      "Epoch 84/100\n",
      "3341/3341 [==============================] - 0s 89us/sample - loss: 4.3666 - mae: 1.4660 - val_loss: 4.6681 - val_mae: 1.5137\n",
      "Epoch 85/100\n",
      "3341/3341 [==============================] - 0s 79us/sample - loss: 4.2703 - mae: 1.4629 - val_loss: 4.6820 - val_mae: 1.5126\n",
      "Epoch 86/100\n",
      "3341/3341 [==============================] - 0s 51us/sample - loss: 4.3595 - mae: 1.4774 - val_loss: 4.7870 - val_mae: 1.5029\n",
      "Epoch 87/100\n",
      "3341/3341 [==============================] - 0s 47us/sample - loss: 4.3061 - mae: 1.4733 - val_loss: 5.1979 - val_mae: 1.5443\n",
      "Epoch 88/100\n",
      "3341/3341 [==============================] - 0s 83us/sample - loss: 4.2965 - mae: 1.4714 - val_loss: 4.7456 - val_mae: 1.5173\n",
      "Epoch 89/100\n",
      "3341/3341 [==============================] - 0s 47us/sample - loss: 4.2952 - mae: 1.4662 - val_loss: 4.8559 - val_mae: 1.5126\n",
      "Epoch 90/100\n",
      "3341/3341 [==============================] - 0s 62us/sample - loss: 4.3095 - mae: 1.4744 - val_loss: 4.5954 - val_mae: 1.5087\n",
      "Epoch 91/100\n",
      "3341/3341 [==============================] - 0s 60us/sample - loss: 4.2497 - mae: 1.4622 - val_loss: 4.6680 - val_mae: 1.5332\n",
      "Epoch 92/100\n",
      "3341/3341 [==============================] - 0s 62us/sample - loss: 4.2740 - mae: 1.4647 - val_loss: 4.7343 - val_mae: 1.5001\n",
      "Epoch 93/100\n",
      "3341/3341 [==============================] - 0s 61us/sample - loss: 4.2461 - mae: 1.4624 - val_loss: 4.7589 - val_mae: 1.5108\n",
      "Epoch 94/100\n",
      "3341/3341 [==============================] - 0s 48us/sample - loss: 4.3242 - mae: 1.4720 - val_loss: 4.6649 - val_mae: 1.5021\n",
      "Epoch 95/100\n",
      "3341/3341 [==============================] - 0s 50us/sample - loss: 4.2712 - mae: 1.4630 - val_loss: 4.6417 - val_mae: 1.5048\n",
      "Epoch 96/100\n",
      "3341/3341 [==============================] - 0s 44us/sample - loss: 4.2624 - mae: 1.4617 - val_loss: 4.7558 - val_mae: 1.5053\n",
      "Epoch 97/100\n",
      "3341/3341 [==============================] - 0s 42us/sample - loss: 4.3328 - mae: 1.4671 - val_loss: 4.6608 - val_mae: 1.5138\n",
      "Epoch 98/100\n",
      "3341/3341 [==============================] - 0s 39us/sample - loss: 4.2961 - mae: 1.4655 - val_loss: 4.7600 - val_mae: 1.5102\n",
      "Epoch 99/100\n",
      "3341/3341 [==============================] - 0s 56us/sample - loss: 4.3520 - mae: 1.4814 - val_loss: 5.4559 - val_mae: 1.5801\n",
      "Epoch 100/100\n",
      "3341/3341 [==============================] - 0s 59us/sample - loss: 4.3954 - mae: 1.4875 - val_loss: 4.9828 - val_mae: 1.5152\n"
     ]
    }
   ],
   "source": [
    "epochs = 100\n",
    "batch_size=128\n",
    "\n",
    "history = model.fit(X_train, y_train, epochs=epochs, batch_size=batch_size, validation_data=[X_test, y_test])"
   ]
  },
  {
   "cell_type": "code",
   "execution_count": 14,
   "metadata": {},
   "outputs": [],
   "source": [
    "y_pred = model.predict(X_test)"
   ]
  },
  {
   "cell_type": "markdown",
   "metadata": {},
   "source": [
    "## Evaluate"
   ]
  },
  {
   "cell_type": "code",
   "execution_count": 17,
   "metadata": {
    "scrolled": true
   },
   "outputs": [
    {
     "name": "stdout",
     "output_type": "stream",
     "text": [
      "Score\n",
      "MSE :       4.982772313321918\n",
      "RMSE :      2.2322124256714275\n",
      "r2_score :  0.55596821089237\n"
     ]
    }
   ],
   "source": [
    "print('Score')\n",
    "print('MSE :      ', mse(y_test, y_pred))\n",
    "print('RMSE :     ', np.sqrt(mse(y_test, y_pred)))\n",
    "print('r2_score : ', r2(y_test, y_pred))"
   ]
  },
  {
   "cell_type": "code",
   "execution_count": null,
   "metadata": {},
   "outputs": [],
   "source": []
  },
  {
   "cell_type": "markdown",
   "metadata": {},
   "source": [
    "## Model 2 : increase param"
   ]
  },
  {
   "cell_type": "code",
   "execution_count": 18,
   "metadata": {},
   "outputs": [],
   "source": [
    "model = Sequential()\n",
    "model.add(Dense(512, activation='relu', input_shape=(10,)))\n",
    "model.add(Dense(512, activation='relu'))\n",
    "model.add(Dense(512, activation='relu'))\n",
    "model.add(Dense(512, activation='relu'))\n",
    "model.add(Dense(512, activation='relu'))\n",
    "model.add(Dense(512, activation='relu'))\n",
    "model.add(Dense(1))"
   ]
  },
  {
   "cell_type": "code",
   "execution_count": 19,
   "metadata": {},
   "outputs": [],
   "source": [
    "model.compile(optimizer='adam', loss='mse', metrics=['mae'])"
   ]
  },
  {
   "cell_type": "code",
   "execution_count": 20,
   "metadata": {},
   "outputs": [
    {
     "name": "stdout",
     "output_type": "stream",
     "text": [
      "Model: \"sequential_1\"\n",
      "_________________________________________________________________\n",
      "Layer (type)                 Output Shape              Param #   \n",
      "=================================================================\n",
      "dense_4 (Dense)              (None, 512)               5632      \n",
      "_________________________________________________________________\n",
      "dense_5 (Dense)              (None, 512)               262656    \n",
      "_________________________________________________________________\n",
      "dense_6 (Dense)              (None, 512)               262656    \n",
      "_________________________________________________________________\n",
      "dense_7 (Dense)              (None, 512)               262656    \n",
      "_________________________________________________________________\n",
      "dense_8 (Dense)              (None, 512)               262656    \n",
      "_________________________________________________________________\n",
      "dense_9 (Dense)              (None, 512)               262656    \n",
      "_________________________________________________________________\n",
      "dense_10 (Dense)             (None, 1)                 513       \n",
      "=================================================================\n",
      "Total params: 1,319,425\n",
      "Trainable params: 1,319,425\n",
      "Non-trainable params: 0\n",
      "_________________________________________________________________\n"
     ]
    }
   ],
   "source": [
    "model.summary()"
   ]
  },
  {
   "cell_type": "code",
   "execution_count": 21,
   "metadata": {
    "scrolled": true
   },
   "outputs": [
    {
     "name": "stdout",
     "output_type": "stream",
     "text": [
      "Train on 3341 samples, validate on 836 samples\n",
      "Epoch 1/100\n",
      "3341/3341 [==============================] - 1s 336us/sample - loss: 26.0467 - mae: 3.7895 - val_loss: 7.6992 - val_mae: 2.1133\n",
      "Epoch 2/100\n",
      "3341/3341 [==============================] - 0s 122us/sample - loss: 7.5946 - mae: 2.0295 - val_loss: 8.2337 - val_mae: 1.8269\n",
      "Epoch 3/100\n",
      "3341/3341 [==============================] - 0s 109us/sample - loss: 6.2797 - mae: 1.8040 - val_loss: 6.8286 - val_mae: 1.7064\n",
      "Epoch 4/100\n",
      "3341/3341 [==============================] - 0s 117us/sample - loss: 5.6450 - mae: 1.6975 - val_loss: 5.6348 - val_mae: 1.6692\n",
      "Epoch 5/100\n",
      "3341/3341 [==============================] - 0s 113us/sample - loss: 5.1077 - mae: 1.6189 - val_loss: 5.7276 - val_mae: 1.6074\n",
      "Epoch 6/100\n",
      "3341/3341 [==============================] - 0s 112us/sample - loss: 4.9842 - mae: 1.6084 - val_loss: 5.6328 - val_mae: 1.5891\n",
      "Epoch 7/100\n",
      "3341/3341 [==============================] - 0s 120us/sample - loss: 4.9881 - mae: 1.6024 - val_loss: 4.9010 - val_mae: 1.5350\n",
      "Epoch 8/100\n",
      "3341/3341 [==============================] - 0s 112us/sample - loss: 4.9824 - mae: 1.6103 - val_loss: 5.7938 - val_mae: 1.6213\n",
      "Epoch 9/100\n",
      "3341/3341 [==============================] - 0s 115us/sample - loss: 5.1621 - mae: 1.6516 - val_loss: 6.2651 - val_mae: 1.6814\n",
      "Epoch 10/100\n",
      "3341/3341 [==============================] - 0s 115us/sample - loss: 4.6927 - mae: 1.5468 - val_loss: 5.2480 - val_mae: 1.5446\n",
      "Epoch 11/100\n",
      "3341/3341 [==============================] - 0s 108us/sample - loss: 4.5130 - mae: 1.5110 - val_loss: 4.9749 - val_mae: 1.5153\n",
      "Epoch 12/100\n",
      "3341/3341 [==============================] - 0s 126us/sample - loss: 4.5180 - mae: 1.5120 - val_loss: 5.5608 - val_mae: 1.6292\n",
      "Epoch 13/100\n",
      "3341/3341 [==============================] - 0s 118us/sample - loss: 4.6388 - mae: 1.5335 - val_loss: 4.6859 - val_mae: 1.5207\n",
      "Epoch 14/100\n",
      "3341/3341 [==============================] - 0s 115us/sample - loss: 4.4626 - mae: 1.5068 - val_loss: 8.4912 - val_mae: 2.0877\n",
      "Epoch 15/100\n",
      "3341/3341 [==============================] - 0s 121us/sample - loss: 5.2691 - mae: 1.6720 - val_loss: 5.4394 - val_mae: 1.5742\n",
      "Epoch 16/100\n",
      "3341/3341 [==============================] - 0s 122us/sample - loss: 5.0189 - mae: 1.6028 - val_loss: 5.0359 - val_mae: 1.5773\n",
      "Epoch 17/100\n",
      "3341/3341 [==============================] - 0s 124us/sample - loss: 4.7823 - mae: 1.5821 - val_loss: 4.9808 - val_mae: 1.5154\n",
      "Epoch 18/100\n",
      "3341/3341 [==============================] - 0s 117us/sample - loss: 4.6722 - mae: 1.5520 - val_loss: 6.8506 - val_mae: 1.7816\n",
      "Epoch 19/100\n",
      "3341/3341 [==============================] - 0s 116us/sample - loss: 4.7132 - mae: 1.5420 - val_loss: 4.8239 - val_mae: 1.5512\n",
      "Epoch 20/100\n",
      "3341/3341 [==============================] - 0s 120us/sample - loss: 4.6010 - mae: 1.5162 - val_loss: 4.6337 - val_mae: 1.5565\n",
      "Epoch 21/100\n",
      "3341/3341 [==============================] - 0s 122us/sample - loss: 4.3883 - mae: 1.4882 - val_loss: 4.6550 - val_mae: 1.5058\n",
      "Epoch 22/100\n",
      "3341/3341 [==============================] - 0s 138us/sample - loss: 4.4749 - mae: 1.5171 - val_loss: 6.9490 - val_mae: 1.7973\n",
      "Epoch 23/100\n",
      "3341/3341 [==============================] - 0s 104us/sample - loss: 4.9195 - mae: 1.5946 - val_loss: 5.5099 - val_mae: 1.5758\n",
      "Epoch 24/100\n",
      "3341/3341 [==============================] - 0s 111us/sample - loss: 4.4747 - mae: 1.5133 - val_loss: 5.5949 - val_mae: 1.5968\n",
      "Epoch 25/100\n",
      "3341/3341 [==============================] - 0s 150us/sample - loss: 4.8891 - mae: 1.5912 - val_loss: 5.6100 - val_mae: 1.5751\n",
      "Epoch 26/100\n",
      "3341/3341 [==============================] - 0s 138us/sample - loss: 4.4098 - mae: 1.4895 - val_loss: 4.8024 - val_mae: 1.6467\n",
      "Epoch 27/100\n",
      "3341/3341 [==============================] - 0s 107us/sample - loss: 5.0457 - mae: 1.6296 - val_loss: 4.9921 - val_mae: 1.6972\n",
      "Epoch 28/100\n",
      "3341/3341 [==============================] - 0s 121us/sample - loss: 4.4827 - mae: 1.5131 - val_loss: 4.8845 - val_mae: 1.5100\n",
      "Epoch 29/100\n",
      "3341/3341 [==============================] - 0s 136us/sample - loss: 4.3570 - mae: 1.4893 - val_loss: 4.9923 - val_mae: 1.5111\n",
      "Epoch 30/100\n",
      "3341/3341 [==============================] - 1s 161us/sample - loss: 4.4946 - mae: 1.5016 - val_loss: 5.4406 - val_mae: 1.5582\n",
      "Epoch 31/100\n",
      "3341/3341 [==============================] - 0s 140us/sample - loss: 4.3429 - mae: 1.4819 - val_loss: 5.7470 - val_mae: 1.6267\n",
      "Epoch 32/100\n",
      "3341/3341 [==============================] - 0s 137us/sample - loss: 4.4100 - mae: 1.4906 - val_loss: 4.6447 - val_mae: 1.4853\n",
      "Epoch 33/100\n",
      "3341/3341 [==============================] - 0s 101us/sample - loss: 4.3076 - mae: 1.4611 - val_loss: 4.5883 - val_mae: 1.5016\n",
      "Epoch 34/100\n",
      "3341/3341 [==============================] - 0s 107us/sample - loss: 4.4436 - mae: 1.4972 - val_loss: 5.3687 - val_mae: 1.7393\n",
      "Epoch 35/100\n",
      "3341/3341 [==============================] - 0s 108us/sample - loss: 4.4684 - mae: 1.5024 - val_loss: 5.0667 - val_mae: 1.5287\n",
      "Epoch 36/100\n",
      "3341/3341 [==============================] - 0s 111us/sample - loss: 4.4783 - mae: 1.5085 - val_loss: 5.1186 - val_mae: 1.5244\n",
      "Epoch 37/100\n",
      "3341/3341 [==============================] - 0s 144us/sample - loss: 4.4561 - mae: 1.4918 - val_loss: 5.2464 - val_mae: 1.7719\n",
      "Epoch 38/100\n",
      "3341/3341 [==============================] - 1s 157us/sample - loss: 4.3744 - mae: 1.4906 - val_loss: 4.8589 - val_mae: 1.4963\n",
      "Epoch 39/100\n",
      "3341/3341 [==============================] - 0s 144us/sample - loss: 4.3527 - mae: 1.4885 - val_loss: 4.9960 - val_mae: 1.6558\n",
      "Epoch 40/100\n",
      "3341/3341 [==============================] - 0s 106us/sample - loss: 4.7138 - mae: 1.5621 - val_loss: 4.6092 - val_mae: 1.5430\n",
      "Epoch 41/100\n",
      "3341/3341 [==============================] - 0s 121us/sample - loss: 4.4455 - mae: 1.5019 - val_loss: 4.5757 - val_mae: 1.5234\n",
      "Epoch 42/100\n",
      "3341/3341 [==============================] - 1s 156us/sample - loss: 4.2680 - mae: 1.4778 - val_loss: 4.7512 - val_mae: 1.5100\n",
      "Epoch 43/100\n",
      "3341/3341 [==============================] - 1s 154us/sample - loss: 4.2736 - mae: 1.4727 - val_loss: 4.6431 - val_mae: 1.4933\n",
      "Epoch 44/100\n",
      "3341/3341 [==============================] - 0s 113us/sample - loss: 4.3258 - mae: 1.4721 - val_loss: 4.5824 - val_mae: 1.5380\n",
      "Epoch 45/100\n",
      "3341/3341 [==============================] - 0s 109us/sample - loss: 4.3528 - mae: 1.4900 - val_loss: 4.9270 - val_mae: 1.4984\n",
      "Epoch 46/100\n",
      "3341/3341 [==============================] - 0s 107us/sample - loss: 4.3327 - mae: 1.4752 - val_loss: 5.0495 - val_mae: 1.5209\n",
      "Epoch 47/100\n",
      "3341/3341 [==============================] - 0s 107us/sample - loss: 4.4462 - mae: 1.5024 - val_loss: 5.1282 - val_mae: 1.5500\n",
      "Epoch 48/100\n",
      "3341/3341 [==============================] - 0s 109us/sample - loss: 4.6491 - mae: 1.5397 - val_loss: 5.4903 - val_mae: 1.5596\n",
      "Epoch 49/100\n",
      "3341/3341 [==============================] - 0s 121us/sample - loss: 4.4243 - mae: 1.5034 - val_loss: 4.7222 - val_mae: 1.5275\n",
      "Epoch 50/100\n",
      "3341/3341 [==============================] - 0s 143us/sample - loss: 4.3174 - mae: 1.4835 - val_loss: 6.4495 - val_mae: 1.7403\n",
      "Epoch 51/100\n",
      "3341/3341 [==============================] - 0s 136us/sample - loss: 4.7134 - mae: 1.5382 - val_loss: 4.6579 - val_mae: 1.5255\n",
      "Epoch 52/100\n",
      "3341/3341 [==============================] - 0s 105us/sample - loss: 4.4335 - mae: 1.5133 - val_loss: 7.0522 - val_mae: 1.8294\n",
      "Epoch 53/100\n",
      "3341/3341 [==============================] - 0s 144us/sample - loss: 4.5471 - mae: 1.5193 - val_loss: 4.7525 - val_mae: 1.6393\n",
      "Epoch 54/100\n",
      "3341/3341 [==============================] - 1s 157us/sample - loss: 4.3358 - mae: 1.4849 - val_loss: 5.2083 - val_mae: 1.5462\n",
      "Epoch 55/100\n",
      "3341/3341 [==============================] - 0s 149us/sample - loss: 4.4711 - mae: 1.5146 - val_loss: 4.7070 - val_mae: 1.4913\n",
      "Epoch 56/100\n",
      "3341/3341 [==============================] - 0s 108us/sample - loss: 4.5952 - mae: 1.5270 - val_loss: 5.7294 - val_mae: 1.6276\n",
      "Epoch 57/100\n",
      "3341/3341 [==============================] - 0s 109us/sample - loss: 4.7439 - mae: 1.5480 - val_loss: 4.6023 - val_mae: 1.5490\n",
      "Epoch 58/100\n",
      "3341/3341 [==============================] - 0s 103us/sample - loss: 4.3291 - mae: 1.4827 - val_loss: 4.5396 - val_mae: 1.4945\n",
      "Epoch 59/100\n"
     ]
    },
    {
     "name": "stdout",
     "output_type": "stream",
     "text": [
      "3341/3341 [==============================] - 0s 107us/sample - loss: 4.3361 - mae: 1.4790 - val_loss: 4.6389 - val_mae: 1.6094\n",
      "Epoch 60/100\n",
      "3341/3341 [==============================] - 0s 111us/sample - loss: 4.4212 - mae: 1.5003 - val_loss: 5.3047 - val_mae: 1.5488\n",
      "Epoch 61/100\n",
      "3341/3341 [==============================] - 0s 109us/sample - loss: 4.5300 - mae: 1.5132 - val_loss: 5.4657 - val_mae: 1.5570\n",
      "Epoch 62/100\n",
      "3341/3341 [==============================] - 0s 107us/sample - loss: 4.2783 - mae: 1.4666 - val_loss: 4.5484 - val_mae: 1.5260\n",
      "Epoch 63/100\n",
      "3341/3341 [==============================] - 0s 107us/sample - loss: 4.2319 - mae: 1.4621 - val_loss: 4.7030 - val_mae: 1.5737\n",
      "Epoch 64/100\n",
      "3341/3341 [==============================] - 0s 110us/sample - loss: 4.2535 - mae: 1.4778 - val_loss: 4.6252 - val_mae: 1.5091\n",
      "Epoch 65/100\n",
      "3341/3341 [==============================] - 0s 112us/sample - loss: 4.3848 - mae: 1.4760 - val_loss: 4.6462 - val_mae: 1.5172\n",
      "Epoch 66/100\n",
      "3341/3341 [==============================] - 0s 106us/sample - loss: 4.1620 - mae: 1.4431 - val_loss: 5.4021 - val_mae: 1.8337\n",
      "Epoch 67/100\n",
      "3341/3341 [==============================] - 0s 110us/sample - loss: 5.0310 - mae: 1.6095 - val_loss: 5.3450 - val_mae: 1.5478\n",
      "Epoch 68/100\n",
      "3341/3341 [==============================] - 0s 112us/sample - loss: 4.2174 - mae: 1.4587 - val_loss: 4.9621 - val_mae: 1.6893\n",
      "Epoch 69/100\n",
      "3341/3341 [==============================] - 0s 114us/sample - loss: 4.3425 - mae: 1.4714 - val_loss: 4.6146 - val_mae: 1.5549\n",
      "Epoch 70/100\n",
      "3341/3341 [==============================] - 0s 110us/sample - loss: 4.6127 - mae: 1.5425 - val_loss: 5.0970 - val_mae: 1.5257\n",
      "Epoch 71/100\n",
      "3341/3341 [==============================] - 0s 122us/sample - loss: 4.2572 - mae: 1.4544 - val_loss: 4.5527 - val_mae: 1.5569\n",
      "Epoch 72/100\n",
      "3341/3341 [==============================] - 0s 108us/sample - loss: 4.4455 - mae: 1.5137 - val_loss: 5.0489 - val_mae: 1.5128\n",
      "Epoch 73/100\n",
      "3341/3341 [==============================] - 0s 109us/sample - loss: 4.2459 - mae: 1.4524 - val_loss: 5.5065 - val_mae: 1.5774\n",
      "Epoch 74/100\n",
      "3341/3341 [==============================] - 0s 109us/sample - loss: 5.3097 - mae: 1.6532 - val_loss: 5.6424 - val_mae: 1.5920\n",
      "Epoch 75/100\n",
      "3341/3341 [==============================] - 0s 110us/sample - loss: 4.3301 - mae: 1.4757 - val_loss: 4.7037 - val_mae: 1.6077\n",
      "Epoch 76/100\n",
      "3341/3341 [==============================] - 0s 110us/sample - loss: 4.5799 - mae: 1.5312 - val_loss: 5.2829 - val_mae: 1.5333\n",
      "Epoch 77/100\n",
      "3341/3341 [==============================] - 0s 104us/sample - loss: 4.2165 - mae: 1.4500 - val_loss: 4.6781 - val_mae: 1.4870\n",
      "Epoch 78/100\n",
      "3341/3341 [==============================] - 0s 104us/sample - loss: 4.2175 - mae: 1.4516 - val_loss: 5.2436 - val_mae: 1.5288\n",
      "Epoch 79/100\n",
      "3341/3341 [==============================] - 0s 107us/sample - loss: 4.2138 - mae: 1.4505 - val_loss: 4.5518 - val_mae: 1.5606\n",
      "Epoch 80/100\n",
      "3341/3341 [==============================] - 0s 114us/sample - loss: 4.3074 - mae: 1.4856 - val_loss: 4.6459 - val_mae: 1.4885\n",
      "Epoch 81/100\n",
      "3341/3341 [==============================] - 0s 110us/sample - loss: 4.1612 - mae: 1.4460 - val_loss: 4.6513 - val_mae: 1.5730\n",
      "Epoch 82/100\n",
      "3341/3341 [==============================] - 0s 121us/sample - loss: 4.4364 - mae: 1.4976 - val_loss: 4.6827 - val_mae: 1.4797\n",
      "Epoch 83/100\n",
      "3341/3341 [==============================] - 0s 111us/sample - loss: 4.1892 - mae: 1.4541 - val_loss: 4.5854 - val_mae: 1.4792\n",
      "Epoch 84/100\n",
      "3341/3341 [==============================] - 0s 128us/sample - loss: 4.2050 - mae: 1.4613 - val_loss: 4.8274 - val_mae: 1.5002\n",
      "Epoch 85/100\n",
      "3341/3341 [==============================] - 0s 110us/sample - loss: 4.2267 - mae: 1.4713 - val_loss: 5.4295 - val_mae: 1.5713\n",
      "Epoch 86/100\n",
      "3341/3341 [==============================] - 0s 109us/sample - loss: 4.3005 - mae: 1.4638 - val_loss: 4.5273 - val_mae: 1.4918\n",
      "Epoch 87/100\n",
      "3341/3341 [==============================] - 0s 116us/sample - loss: 4.3787 - mae: 1.5000 - val_loss: 4.7832 - val_mae: 1.4849\n",
      "Epoch 88/100\n",
      "3341/3341 [==============================] - 0s 118us/sample - loss: 4.1517 - mae: 1.4381 - val_loss: 4.6758 - val_mae: 1.5930\n",
      "Epoch 89/100\n",
      "3341/3341 [==============================] - 0s 109us/sample - loss: 4.3794 - mae: 1.5117 - val_loss: 4.5352 - val_mae: 1.4750\n",
      "Epoch 90/100\n",
      "3341/3341 [==============================] - 0s 126us/sample - loss: 4.1390 - mae: 1.4325 - val_loss: 4.7012 - val_mae: 1.5528\n",
      "Epoch 91/100\n",
      "3341/3341 [==============================] - 0s 103us/sample - loss: 4.2130 - mae: 1.4523 - val_loss: 4.8172 - val_mae: 1.4965\n",
      "Epoch 92/100\n",
      "3341/3341 [==============================] - 0s 111us/sample - loss: 4.1951 - mae: 1.4539 - val_loss: 4.5864 - val_mae: 1.5669\n",
      "Epoch 93/100\n",
      "3341/3341 [==============================] - 0s 104us/sample - loss: 4.1764 - mae: 1.4546 - val_loss: 4.8075 - val_mae: 1.5046\n",
      "Epoch 94/100\n",
      "3341/3341 [==============================] - 0s 118us/sample - loss: 4.2280 - mae: 1.4509 - val_loss: 4.7548 - val_mae: 1.6210\n",
      "Epoch 95/100\n",
      "3341/3341 [==============================] - 1s 154us/sample - loss: 4.1617 - mae: 1.4536 - val_loss: 5.5069 - val_mae: 1.5752\n",
      "Epoch 96/100\n",
      "3341/3341 [==============================] - 0s 132us/sample - loss: 4.1722 - mae: 1.4405 - val_loss: 4.5563 - val_mae: 1.4784\n",
      "Epoch 97/100\n",
      "3341/3341 [==============================] - 0s 129us/sample - loss: 4.2379 - mae: 1.4684 - val_loss: 5.8195 - val_mae: 1.5982\n",
      "Epoch 98/100\n",
      "3341/3341 [==============================] - 0s 124us/sample - loss: 4.3171 - mae: 1.4794 - val_loss: 5.4670 - val_mae: 1.5652\n",
      "Epoch 99/100\n",
      "3341/3341 [==============================] - 0s 129us/sample - loss: 4.1146 - mae: 1.4349 - val_loss: 4.4927 - val_mae: 1.4947\n",
      "Epoch 100/100\n",
      "3341/3341 [==============================] - 0s 132us/sample - loss: 4.4052 - mae: 1.4881 - val_loss: 4.6271 - val_mae: 1.4862\n"
     ]
    }
   ],
   "source": [
    "epochs = 100\n",
    "batch_size=128\n",
    "\n",
    "history = model.fit(X_train, y_train, epochs=epochs, batch_size=batch_size, validation_data=[X_test, y_test])"
   ]
  },
  {
   "cell_type": "code",
   "execution_count": 22,
   "metadata": {},
   "outputs": [],
   "source": [
    "y_pred = model.predict(X_test)"
   ]
  },
  {
   "cell_type": "markdown",
   "metadata": {},
   "source": [
    "## Evaluate"
   ]
  },
  {
   "cell_type": "code",
   "execution_count": 23,
   "metadata": {},
   "outputs": [],
   "source": [
    "from sklearn.metrics import mean_squared_error as mse\n",
    "from sklearn.metrics import r2_score as r2"
   ]
  },
  {
   "cell_type": "code",
   "execution_count": 24,
   "metadata": {
    "scrolled": true
   },
   "outputs": [
    {
     "name": "stdout",
     "output_type": "stream",
     "text": [
      "Score\n",
      "MSE :       4.6271302268924615\n",
      "RMSE :      2.151076527437474\n",
      "r2_score :  0.587660686885511\n"
     ]
    }
   ],
   "source": [
    "print('Score')\n",
    "print('MSE :      ', mse(y_test, y_pred))\n",
    "print('RMSE :     ', np.sqrt(mse(y_test, y_pred)))\n",
    "print('r2_score : ', r2(y_test, y_pred))"
   ]
  },
  {
   "cell_type": "code",
   "execution_count": 25,
   "metadata": {
    "scrolled": true
   },
   "outputs": [
    {
     "data": {
      "image/png": "[encoded data removed]",
      "text/plain": [
       "<Figure size 432x288 with 1 Axes>"
      ]
     },
     "metadata": {
      "needs_background": "light"
     },
     "output_type": "display_data"
    }
   ],
   "source": [
    "# Plot training & validation accuracy values\n",
    "plt.plot(history.history['loss'])\n",
    "plt.plot(history.history['val_loss'])\n",
    "plt.ylabel('MSE')\n",
    "plt.xlabel('Epoch')\n",
    "plt.legend(['Train', 'Test'], loc='upper left')\n",
    "plt.show()"
   ]
  },
  {
   "cell_type": "code",
   "execution_count": null,
   "metadata": {},
   "outputs": [],
   "source": []
  },
  {
   "cell_type": "code",
   "execution_count": null,
   "metadata": {},
   "outputs": [],
   "source": []
  },
  {
   "cell_type": "markdown",
   "metadata": {},
   "source": [
    "## Model 3"
   ]
  },
  {
   "cell_type": "code",
   "execution_count": 26,
   "metadata": {},
   "outputs": [],
   "source": [
    "model = Sequential()\n",
    "model.add(Dense(512, activation='relu', input_shape=(10,)))\n",
    "model.add(Dense(512, activation='relu'))\n",
    "model.add(Dense(512, activation='relu'))\n",
    "model.add(Dense(512, activation='relu'))\n",
    "model.add(Dense(512, activation='relu'))\n",
    "model.add(Dense(512, activation='relu'))\n",
    "model.add(Dense(1, activation='linear'))"
   ]
  },
  {
   "cell_type": "code",
   "execution_count": 27,
   "metadata": {},
   "outputs": [],
   "source": [
    "model.compile(optimizer='adam', loss='mse', metrics=['mae'])"
   ]
  },
  {
   "cell_type": "code",
   "execution_count": 28,
   "metadata": {},
   "outputs": [
    {
     "name": "stdout",
     "output_type": "stream",
     "text": [
      "Model: \"sequential_2\"\n",
      "_________________________________________________________________\n",
      "Layer (type)                 Output Shape              Param #   \n",
      "=================================================================\n",
      "dense_11 (Dense)             (None, 512)               5632      \n",
      "_________________________________________________________________\n",
      "dense_12 (Dense)             (None, 512)               262656    \n",
      "_________________________________________________________________\n",
      "dense_13 (Dense)             (None, 512)               262656    \n",
      "_________________________________________________________________\n",
      "dense_14 (Dense)             (None, 512)               262656    \n",
      "_________________________________________________________________\n",
      "dense_15 (Dense)             (None, 512)               262656    \n",
      "_________________________________________________________________\n",
      "dense_16 (Dense)             (None, 512)               262656    \n",
      "_________________________________________________________________\n",
      "dense_17 (Dense)             (None, 1)                 513       \n",
      "=================================================================\n",
      "Total params: 1,319,425\n",
      "Trainable params: 1,319,425\n",
      "Non-trainable params: 0\n",
      "_________________________________________________________________\n"
     ]
    }
   ],
   "source": [
    "model.summary()"
   ]
  },
  {
   "cell_type": "code",
   "execution_count": 29,
   "metadata": {
    "scrolled": true
   },
   "outputs": [
    {
     "name": "stdout",
     "output_type": "stream",
     "text": [
      "Train on 3341 samples, validate on 836 samples\n",
      "Epoch 1/100\n",
      "3341/3341 [==============================] - 1s 382us/sample - loss: 26.6681 - mae: 3.8194 - val_loss: 8.0511 - val_mae: 1.8622\n",
      "Epoch 2/100\n",
      "3341/3341 [==============================] - 0s 117us/sample - loss: 6.7773 - mae: 1.8936 - val_loss: 7.0898 - val_mae: 1.7684\n",
      "Epoch 3/100\n",
      "3341/3341 [==============================] - 0s 111us/sample - loss: 6.0254 - mae: 1.7618 - val_loss: 6.1224 - val_mae: 1.7686\n",
      "Epoch 4/100\n",
      "3341/3341 [==============================] - 0s 108us/sample - loss: 5.4943 - mae: 1.6889 - val_loss: 6.8898 - val_mae: 1.7303\n",
      "Epoch 5/100\n",
      "3341/3341 [==============================] - 0s 113us/sample - loss: 5.0650 - mae: 1.6037 - val_loss: 5.2414 - val_mae: 1.7398\n",
      "Epoch 6/100\n",
      "3341/3341 [==============================] - 0s 106us/sample - loss: 4.7946 - mae: 1.5765 - val_loss: 4.8368 - val_mae: 1.6301\n",
      "Epoch 7/100\n",
      "3341/3341 [==============================] - 0s 122us/sample - loss: 4.7296 - mae: 1.5560 - val_loss: 4.9479 - val_mae: 1.5515\n",
      "Epoch 8/100\n",
      "3341/3341 [==============================] - 0s 135us/sample - loss: 4.6224 - mae: 1.5322 - val_loss: 6.2649 - val_mae: 1.6738\n",
      "Epoch 9/100\n",
      "3341/3341 [==============================] - 0s 115us/sample - loss: 4.7912 - mae: 1.5799 - val_loss: 4.9476 - val_mae: 1.5227\n",
      "Epoch 10/100\n",
      "3341/3341 [==============================] - 0s 118us/sample - loss: 4.5535 - mae: 1.5346 - val_loss: 4.6639 - val_mae: 1.5505\n",
      "Epoch 11/100\n",
      "3341/3341 [==============================] - 0s 127us/sample - loss: 4.7552 - mae: 1.5652 - val_loss: 4.8002 - val_mae: 1.6288\n",
      "Epoch 12/100\n",
      "3341/3341 [==============================] - 0s 124us/sample - loss: 4.7220 - mae: 1.5537 - val_loss: 5.2550 - val_mae: 1.7775\n",
      "Epoch 13/100\n",
      "3341/3341 [==============================] - 0s 114us/sample - loss: 5.3631 - mae: 1.6665 - val_loss: 4.7211 - val_mae: 1.5975\n",
      "Epoch 14/100\n",
      "3341/3341 [==============================] - 0s 130us/sample - loss: 4.4914 - mae: 1.5079 - val_loss: 8.4879 - val_mae: 2.4384\n",
      "Epoch 15/100\n",
      "3341/3341 [==============================] - 0s 125us/sample - loss: 6.4223 - mae: 1.8409 - val_loss: 5.5027 - val_mae: 1.5685\n",
      "Epoch 16/100\n",
      "3341/3341 [==============================] - 0s 126us/sample - loss: 4.7007 - mae: 1.5542 - val_loss: 6.9868 - val_mae: 1.7946\n",
      "Epoch 17/100\n",
      "3341/3341 [==============================] - 0s 119us/sample - loss: 4.6591 - mae: 1.5342 - val_loss: 4.6757 - val_mae: 1.5108\n",
      "Epoch 18/100\n",
      "3341/3341 [==============================] - 0s 112us/sample - loss: 4.3816 - mae: 1.4793 - val_loss: 5.1688 - val_mae: 1.7717\n",
      "Epoch 19/100\n",
      "3341/3341 [==============================] - 0s 114us/sample - loss: 4.7095 - mae: 1.5534 - val_loss: 4.6452 - val_mae: 1.5210\n",
      "Epoch 20/100\n",
      "3341/3341 [==============================] - 0s 122us/sample - loss: 4.7232 - mae: 1.5500 - val_loss: 4.7045 - val_mae: 1.5215\n",
      "Epoch 21/100\n",
      "3341/3341 [==============================] - 0s 122us/sample - loss: 4.4631 - mae: 1.5165 - val_loss: 5.8381 - val_mae: 1.6638\n",
      "Epoch 22/100\n",
      "3341/3341 [==============================] - 0s 121us/sample - loss: 4.8416 - mae: 1.5755 - val_loss: 5.5782 - val_mae: 1.5831\n",
      "Epoch 23/100\n",
      "3341/3341 [==============================] - 0s 119us/sample - loss: 4.5833 - mae: 1.5246 - val_loss: 4.8671 - val_mae: 1.6428\n",
      "Epoch 24/100\n",
      "3341/3341 [==============================] - 0s 114us/sample - loss: 4.4840 - mae: 1.5051 - val_loss: 5.0185 - val_mae: 1.7018\n",
      "Epoch 25/100\n",
      "3341/3341 [==============================] - 0s 126us/sample - loss: 4.7434 - mae: 1.5618 - val_loss: 5.9312 - val_mae: 1.6222\n",
      "Epoch 26/100\n",
      "3341/3341 [==============================] - ETA: 0s - loss: 4.5701 - mae: 1.523 - 0s 115us/sample - loss: 4.4674 - mae: 1.5033 - val_loss: 4.7157 - val_mae: 1.5695\n",
      "Epoch 27/100\n",
      "3341/3341 [==============================] - 0s 117us/sample - loss: 4.2960 - mae: 1.4692 - val_loss: 4.5587 - val_mae: 1.5384\n",
      "Epoch 28/100\n",
      "3341/3341 [==============================] - 1s 153us/sample - loss: 4.4065 - mae: 1.4960 - val_loss: 6.3699 - val_mae: 1.7112\n",
      "Epoch 29/100\n",
      "3341/3341 [==============================] - 0s 137us/sample - loss: 4.3861 - mae: 1.4864 - val_loss: 4.7089 - val_mae: 1.4862\n",
      "Epoch 30/100\n",
      "3341/3341 [==============================] - 1s 175us/sample - loss: 4.2653 - mae: 1.4640 - val_loss: 5.4247 - val_mae: 1.5594\n",
      "Epoch 31/100\n",
      "3341/3341 [==============================] - 0s 137us/sample - loss: 4.5230 - mae: 1.5140 - val_loss: 4.6222 - val_mae: 1.5423\n",
      "Epoch 32/100\n",
      "3341/3341 [==============================] - 1s 163us/sample - loss: 4.4170 - mae: 1.5131 - val_loss: 6.1104 - val_mae: 1.6761\n",
      "Epoch 33/100\n",
      "3341/3341 [==============================] - 0s 105us/sample - loss: 4.6146 - mae: 1.5353 - val_loss: 5.4052 - val_mae: 1.5568\n",
      "Epoch 34/100\n",
      "3341/3341 [==============================] - 0s 115us/sample - loss: 4.4294 - mae: 1.5037 - val_loss: 6.9693 - val_mae: 1.8235\n",
      "Epoch 35/100\n",
      "3341/3341 [==============================] - 0s 110us/sample - loss: 4.8219 - mae: 1.5791 - val_loss: 5.0321 - val_mae: 1.5111\n",
      "Epoch 36/100\n",
      "3341/3341 [==============================] - 0s 111us/sample - loss: 4.3395 - mae: 1.4750 - val_loss: 4.5452 - val_mae: 1.5460\n",
      "Epoch 37/100\n",
      "3341/3341 [==============================] - 0s 144us/sample - loss: 4.3103 - mae: 1.4651 - val_loss: 4.7402 - val_mae: 1.4997\n",
      "Epoch 38/100\n",
      "3341/3341 [==============================] - 0s 117us/sample - loss: 4.2713 - mae: 1.4745 - val_loss: 4.9370 - val_mae: 1.6456\n",
      "Epoch 39/100\n",
      "3341/3341 [==============================] - 0s 140us/sample - loss: 4.5597 - mae: 1.5171 - val_loss: 4.6052 - val_mae: 1.5086\n",
      "Epoch 40/100\n",
      "3341/3341 [==============================] - 0s 122us/sample - loss: 4.3376 - mae: 1.4920 - val_loss: 5.0201 - val_mae: 1.5232\n",
      "Epoch 41/100\n",
      "3341/3341 [==============================] - 0s 103us/sample - loss: 4.2917 - mae: 1.4751 - val_loss: 4.7509 - val_mae: 1.5092\n",
      "Epoch 42/100\n",
      "3341/3341 [==============================] - 1s 154us/sample - loss: 4.2505 - mae: 1.4579 - val_loss: 4.6556 - val_mae: 1.6044\n",
      "Epoch 43/100\n",
      "3341/3341 [==============================] - 0s 117us/sample - loss: 4.9580 - mae: 1.6025 - val_loss: 4.9385 - val_mae: 1.5159\n",
      "Epoch 44/100\n",
      "3341/3341 [==============================] - 0s 108us/sample - loss: 4.2629 - mae: 1.4763 - val_loss: 5.5807 - val_mae: 1.5778\n",
      "Epoch 45/100\n",
      "3341/3341 [==============================] - 0s 108us/sample - loss: 4.3156 - mae: 1.4693 - val_loss: 4.7680 - val_mae: 1.4892\n",
      "Epoch 46/100\n",
      "3341/3341 [==============================] - 0s 122us/sample - loss: 4.2274 - mae: 1.4540 - val_loss: 4.6044 - val_mae: 1.5082\n",
      "Epoch 47/100\n",
      "3341/3341 [==============================] - 0s 117us/sample - loss: 4.3163 - mae: 1.4776 - val_loss: 4.7872 - val_mae: 1.5028\n",
      "Epoch 48/100\n",
      "3341/3341 [==============================] - 0s 117us/sample - loss: 4.2879 - mae: 1.4699 - val_loss: 4.6735 - val_mae: 1.5473\n",
      "Epoch 49/100\n",
      "3341/3341 [==============================] - 0s 122us/sample - loss: 4.3168 - mae: 1.4848 - val_loss: 5.1067 - val_mae: 1.5112\n",
      "Epoch 50/100\n",
      "3341/3341 [==============================] - 0s 112us/sample - loss: 4.2170 - mae: 1.4556 - val_loss: 4.9065 - val_mae: 1.6352\n",
      "Epoch 51/100\n",
      "3341/3341 [==============================] - 0s 103us/sample - loss: 4.3310 - mae: 1.4767 - val_loss: 4.5400 - val_mae: 1.4792\n",
      "Epoch 52/100\n",
      "3341/3341 [==============================] - 0s 126us/sample - loss: 4.4501 - mae: 1.4965 - val_loss: 5.1081 - val_mae: 1.5119\n",
      "Epoch 53/100\n",
      "3341/3341 [==============================] - 0s 126us/sample - loss: 4.2977 - mae: 1.4673 - val_loss: 4.6334 - val_mae: 1.5165\n",
      "Epoch 54/100\n",
      "3341/3341 [==============================] - 1s 164us/sample - loss: 4.2164 - mae: 1.4564 - val_loss: 4.7055 - val_mae: 1.4856\n",
      "Epoch 55/100\n",
      "3341/3341 [==============================] - 0s 145us/sample - loss: 4.2896 - mae: 1.4608 - val_loss: 4.5856 - val_mae: 1.5762\n",
      "Epoch 56/100\n",
      "3341/3341 [==============================] - 1s 154us/sample - loss: 4.2714 - mae: 1.4767 - val_loss: 6.0218 - val_mae: 1.6653\n",
      "Epoch 57/100\n",
      "3341/3341 [==============================] - 0s 98us/sample - loss: 4.3280 - mae: 1.4797 - val_loss: 4.6516 - val_mae: 1.5000\n",
      "Epoch 58/100\n",
      "3341/3341 [==============================] - 0s 98us/sample - loss: 4.2884 - mae: 1.4777 - val_loss: 8.4597 - val_mae: 2.0375\n"
     ]
    },
    {
     "name": "stdout",
     "output_type": "stream",
     "text": [
      "Epoch 59/100\n",
      "3341/3341 [==============================] - 0s 103us/sample - loss: 5.6830 - mae: 1.7115 - val_loss: 6.8963 - val_mae: 2.1591\n",
      "Epoch 60/100\n",
      "3341/3341 [==============================] - 0s 103us/sample - loss: 5.1977 - mae: 1.6524 - val_loss: 5.1696 - val_mae: 1.5325\n",
      "Epoch 61/100\n",
      "3341/3341 [==============================] - 0s 112us/sample - loss: 4.3702 - mae: 1.4756 - val_loss: 4.6202 - val_mae: 1.5481\n",
      "Epoch 62/100\n",
      "3341/3341 [==============================] - 0s 103us/sample - loss: 4.2749 - mae: 1.4761 - val_loss: 5.9625 - val_mae: 1.6372\n",
      "Epoch 63/100\n",
      "3341/3341 [==============================] - 0s 103us/sample - loss: 4.3103 - mae: 1.4723 - val_loss: 4.5063 - val_mae: 1.4835\n",
      "Epoch 64/100\n",
      "3341/3341 [==============================] - 0s 103us/sample - loss: 4.3349 - mae: 1.4860 - val_loss: 6.8575 - val_mae: 1.7929\n",
      "Epoch 65/100\n",
      "3341/3341 [==============================] - 0s 108us/sample - loss: 4.6073 - mae: 1.5301 - val_loss: 5.1698 - val_mae: 1.5347\n",
      "Epoch 66/100\n",
      "3341/3341 [==============================] - 0s 103us/sample - loss: 4.2257 - mae: 1.4594 - val_loss: 4.5368 - val_mae: 1.5486\n",
      "Epoch 67/100\n",
      "3341/3341 [==============================] - 0s 103us/sample - loss: 4.2240 - mae: 1.4573 - val_loss: 4.6161 - val_mae: 1.4868\n",
      "Epoch 68/100\n",
      "3341/3341 [==============================] - 0s 108us/sample - loss: 4.1658 - mae: 1.4478 - val_loss: 5.8622 - val_mae: 1.6542\n",
      "Epoch 69/100\n",
      "3341/3341 [==============================] - 0s 103us/sample - loss: 4.1799 - mae: 1.4494 - val_loss: 4.8236 - val_mae: 1.5065\n",
      "Epoch 70/100\n",
      "3341/3341 [==============================] - 0s 112us/sample - loss: 4.2789 - mae: 1.4655 - val_loss: 6.0206 - val_mae: 1.9540\n",
      "Epoch 71/100\n",
      "3341/3341 [==============================] - 0s 103us/sample - loss: 5.2428 - mae: 1.6667 - val_loss: 5.1107 - val_mae: 1.5225\n",
      "Epoch 72/100\n",
      "3341/3341 [==============================] - 0s 112us/sample - loss: 4.4926 - mae: 1.5070 - val_loss: 6.2075 - val_mae: 1.6964\n",
      "Epoch 73/100\n",
      "3341/3341 [==============================] - 0s 108us/sample - loss: 4.7418 - mae: 1.5554 - val_loss: 4.8029 - val_mae: 1.4882\n",
      "Epoch 74/100\n",
      "3341/3341 [==============================] - 0s 134us/sample - loss: 4.1742 - mae: 1.4516 - val_loss: 5.2393 - val_mae: 1.7752\n",
      "Epoch 75/100\n",
      "3341/3341 [==============================] - 0s 110us/sample - loss: 4.5901 - mae: 1.5488 - val_loss: 5.4774 - val_mae: 1.5788\n",
      "Epoch 76/100\n",
      "3341/3341 [==============================] - 0s 114us/sample - loss: 4.4878 - mae: 1.5096 - val_loss: 5.0723 - val_mae: 1.5120\n",
      "Epoch 77/100\n",
      "3341/3341 [==============================] - 0s 118us/sample - loss: 4.1572 - mae: 1.4460 - val_loss: 4.7320 - val_mae: 1.4777\n",
      "Epoch 78/100\n",
      "3341/3341 [==============================] - 0s 110us/sample - loss: 4.2080 - mae: 1.4540 - val_loss: 4.7165 - val_mae: 1.4946\n",
      "Epoch 79/100\n",
      "3341/3341 [==============================] - 0s 105us/sample - loss: 4.2147 - mae: 1.4540 - val_loss: 4.8034 - val_mae: 1.6565\n",
      "Epoch 80/100\n",
      "3341/3341 [==============================] - 0s 109us/sample - loss: 5.3010 - mae: 1.6662 - val_loss: 4.9849 - val_mae: 1.4963\n",
      "Epoch 81/100\n",
      "3341/3341 [==============================] - 0s 137us/sample - loss: 4.5273 - mae: 1.5163 - val_loss: 4.6698 - val_mae: 1.5533\n",
      "Epoch 82/100\n",
      "3341/3341 [==============================] - 0s 119us/sample - loss: 4.4927 - mae: 1.5021 - val_loss: 4.9847 - val_mae: 1.4999\n",
      "Epoch 83/100\n",
      "3341/3341 [==============================] - 0s 126us/sample - loss: 4.2098 - mae: 1.4572 - val_loss: 4.5504 - val_mae: 1.4737\n",
      "Epoch 84/100\n",
      "3341/3341 [==============================] - 0s 128us/sample - loss: 4.1438 - mae: 1.4445 - val_loss: 4.5100 - val_mae: 1.5558\n",
      "Epoch 85/100\n",
      "3341/3341 [==============================] - 0s 124us/sample - loss: 4.1886 - mae: 1.4540 - val_loss: 4.5465 - val_mae: 1.4884\n",
      "Epoch 86/100\n",
      "3341/3341 [==============================] - 0s 112us/sample - loss: 4.3278 - mae: 1.4914 - val_loss: 5.7475 - val_mae: 1.6126\n",
      "Epoch 87/100\n",
      "3341/3341 [==============================] - 0s 135us/sample - loss: 4.4260 - mae: 1.4970 - val_loss: 4.7311 - val_mae: 1.4885\n",
      "Epoch 88/100\n",
      "3341/3341 [==============================] - 0s 144us/sample - loss: 4.5563 - mae: 1.5186 - val_loss: 5.0336 - val_mae: 1.5016\n",
      "Epoch 89/100\n",
      "3341/3341 [==============================] - 0s 137us/sample - loss: 4.2998 - mae: 1.4644 - val_loss: 4.5525 - val_mae: 1.5009\n",
      "Epoch 90/100\n",
      "3341/3341 [==============================] - 0s 136us/sample - loss: 4.1286 - mae: 1.4388 - val_loss: 4.5434 - val_mae: 1.4866\n",
      "Epoch 91/100\n",
      "3341/3341 [==============================] - 0s 113us/sample - loss: 4.1628 - mae: 1.4461 - val_loss: 5.2706 - val_mae: 1.5350\n",
      "Epoch 92/100\n",
      "3341/3341 [==============================] - 1s 153us/sample - loss: 4.1249 - mae: 1.4243 - val_loss: 4.5865 - val_mae: 1.5554\n",
      "Epoch 93/100\n",
      "3341/3341 [==============================] - 0s 127us/sample - loss: 4.1068 - mae: 1.4392 - val_loss: 4.5680 - val_mae: 1.4766\n",
      "Epoch 94/100\n",
      "3341/3341 [==============================] - 0s 148us/sample - loss: 4.1239 - mae: 1.4387 - val_loss: 4.7537 - val_mae: 1.5926\n",
      "Epoch 95/100\n",
      "3341/3341 [==============================] - 0s 129us/sample - loss: 4.7685 - mae: 1.5552 - val_loss: 4.7482 - val_mae: 1.6050\n",
      "Epoch 96/100\n",
      "3341/3341 [==============================] - 0s 131us/sample - loss: 4.2089 - mae: 1.4595 - val_loss: 4.8673 - val_mae: 1.4957\n",
      "Epoch 97/100\n",
      "3341/3341 [==============================] - 0s 141us/sample - loss: 4.2623 - mae: 1.4730 - val_loss: 4.5911 - val_mae: 1.5280\n",
      "Epoch 98/100\n",
      "3341/3341 [==============================] - 0s 128us/sample - loss: 4.1285 - mae: 1.4395 - val_loss: 4.6961 - val_mae: 1.5951\n",
      "Epoch 99/100\n",
      "3341/3341 [==============================] - 0s 147us/sample - loss: 4.5813 - mae: 1.5228 - val_loss: 5.2305 - val_mae: 1.5354\n",
      "Epoch 100/100\n",
      "3341/3341 [==============================] - 0s 127us/sample - loss: 4.2949 - mae: 1.4683 - val_loss: 5.1092 - val_mae: 1.5287\n"
     ]
    }
   ],
   "source": [
    "epochs = 100\n",
    "batch_size=128\n",
    "\n",
    "history = model.fit(X_train, y_train, epochs=epochs, batch_size=batch_size, validation_data=[X_test, y_test])"
   ]
  },
  {
   "cell_type": "code",
   "execution_count": 30,
   "metadata": {},
   "outputs": [],
   "source": [
    "y_pred = model.predict(X_test)"
   ]
  },
  {
   "cell_type": "markdown",
   "metadata": {},
   "source": [
    "## Evaluate"
   ]
  },
  {
   "cell_type": "code",
   "execution_count": 31,
   "metadata": {},
   "outputs": [],
   "source": [
    "from sklearn.metrics import mean_squared_error as mse\n",
    "from sklearn.metrics import r2_score as r2"
   ]
  },
  {
   "cell_type": "code",
   "execution_count": 32,
   "metadata": {
    "scrolled": true
   },
   "outputs": [
    {
     "name": "stdout",
     "output_type": "stream",
     "text": [
      "Score\n",
      "MSE :       5.109205739663165\n",
      "RMSE :      2.2603552242209997\n",
      "r2_score :  0.5447012982238513\n"
     ]
    }
   ],
   "source": [
    "print('Score')\n",
    "print('MSE :      ', mse(y_test, y_pred))\n",
    "print('RMSE :     ', np.sqrt(mse(y_test, y_pred)))\n",
    "print('r2_score : ', r2(y_test, y_pred))"
   ]
  },
  {
   "cell_type": "code",
   "execution_count": 33,
   "metadata": {
    "scrolled": true
   },
   "outputs": [
    {
     "data": {
      "image/png": "[encoded data removed]",
      "text/plain": [
       "<Figure size 432x288 with 1 Axes>"
      ]
     },
     "metadata": {
      "needs_background": "light"
     },
     "output_type": "display_data"
    }
   ],
   "source": [
    "# Plot training & validation accuracy values\n",
    "plt.plot(history.history['loss'])\n",
    "plt.plot(history.history['val_loss'])\n",
    "plt.ylabel('MSE')\n",
    "plt.xlabel('Epoch')\n",
    "plt.legend(['Train', 'Test'], loc='upper left')\n",
    "plt.show()"
   ]
  },
  {
   "cell_type": "code",
   "execution_count": null,
   "metadata": {},
   "outputs": [],
   "source": []
  }
 ],
 "metadata": {
  "kernelspec": {
   "display_name": "Python 3",
   "language": "python",
   "name": "python3"
  },
  "language_info": {
   "codemirror_mode": {
    "name": "ipython",
    "version": 3
   },
   "file_extension": ".py",
   "mimetype": "text/x-python",
   "name": "python",
   "nbconvert_exporter": "python",
   "pygments_lexer": "ipython3",
   "version": "3.7.5"
  }
 },
 "nbformat": 4,
 "nbformat_minor": 2
}
