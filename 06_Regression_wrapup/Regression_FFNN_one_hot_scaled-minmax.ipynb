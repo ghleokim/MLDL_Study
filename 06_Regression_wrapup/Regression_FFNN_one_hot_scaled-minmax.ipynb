{
 "cells": [
  {
   "cell_type": "markdown",
   "metadata": {},
   "source": [
    "# Regression - FFNN - one_hot + normalize"
   ]
  },
  {
   "cell_type": "code",
   "execution_count": 1,
   "metadata": {},
   "outputs": [],
   "source": [
    "import numpy as np\n",
    "import pandas as pd\n",
    "import seaborn as sns\n",
    "import matplotlib.pyplot as plt"
   ]
  },
  {
   "cell_type": "code",
   "execution_count": 2,
   "metadata": {},
   "outputs": [],
   "source": [
    "from sklearn.metrics import mean_squared_error as mse\n",
    "from sklearn.metrics import r2_score as r2\n",
    "from sklearn.preprocessing import MinMaxScaler"
   ]
  },
  {
   "cell_type": "code",
   "execution_count": 40,
   "metadata": {},
   "outputs": [],
   "source": [
    "df = pd.read_csv('reg_data/abalone.data',\n",
    "                 names=['Sex','Length','Diameter','Height','Whole weight','Shucked weight','Viscera weight','Shell weight','Rings'])"
   ]
  },
  {
   "cell_type": "code",
   "execution_count": 4,
   "metadata": {},
   "outputs": [],
   "source": [
    "from sklearn.model_selection import train_test_split"
   ]
  },
  {
   "cell_type": "code",
   "execution_count": 6,
   "metadata": {},
   "outputs": [],
   "source": [
    "dummy = pd.get_dummies(df['Sex'])\n",
    "dummy.head()\n",
    "\n",
    "df = pd.concat([df.iloc[:,0], dummy, df.iloc[:,1:]], axis=1)\n",
    "\n",
    "X = df.iloc[:,1:-1].values\n",
    "y = df.iloc[:, -1].values\n",
    "\n",
    "X_train, X_test, y_train, y_test = train_test_split(X, y, test_size=0.2, random_state=7)"
   ]
  },
  {
   "cell_type": "code",
   "execution_count": 7,
   "metadata": {
    "scrolled": false
   },
   "outputs": [
    {
     "data": {
      "text/html": [
       "<div>\n",
       "<style scoped>\n",
       "    .dataframe tbody tr th:only-of-type {\n",
       "        vertical-align: middle;\n",
       "    }\n",
       "\n",
       "    .dataframe tbody tr th {\n",
       "        vertical-align: top;\n",
       "    }\n",
       "\n",
       "    .dataframe thead th {\n",
       "        text-align: right;\n",
       "    }\n",
       "</style>\n",
       "<table border=\"1\" class=\"dataframe\">\n",
       "  <thead>\n",
       "    <tr style=\"text-align: right;\">\n",
       "      <th></th>\n",
       "      <th>Sex</th>\n",
       "      <th>F</th>\n",
       "      <th>I</th>\n",
       "      <th>M</th>\n",
       "      <th>Length</th>\n",
       "      <th>Diameter</th>\n",
       "      <th>Height</th>\n",
       "      <th>Whole weight</th>\n",
       "      <th>Shucked weight</th>\n",
       "      <th>Viscera weight</th>\n",
       "      <th>Shell weight</th>\n",
       "      <th>Rings</th>\n",
       "    </tr>\n",
       "  </thead>\n",
       "  <tbody>\n",
       "    <tr>\n",
       "      <th>0</th>\n",
       "      <td>M</td>\n",
       "      <td>0</td>\n",
       "      <td>0</td>\n",
       "      <td>1</td>\n",
       "      <td>0.455</td>\n",
       "      <td>0.365</td>\n",
       "      <td>0.095</td>\n",
       "      <td>0.5140</td>\n",
       "      <td>0.2245</td>\n",
       "      <td>0.1010</td>\n",
       "      <td>0.150</td>\n",
       "      <td>15</td>\n",
       "    </tr>\n",
       "    <tr>\n",
       "      <th>1</th>\n",
       "      <td>M</td>\n",
       "      <td>0</td>\n",
       "      <td>0</td>\n",
       "      <td>1</td>\n",
       "      <td>0.350</td>\n",
       "      <td>0.265</td>\n",
       "      <td>0.090</td>\n",
       "      <td>0.2255</td>\n",
       "      <td>0.0995</td>\n",
       "      <td>0.0485</td>\n",
       "      <td>0.070</td>\n",
       "      <td>7</td>\n",
       "    </tr>\n",
       "    <tr>\n",
       "      <th>2</th>\n",
       "      <td>F</td>\n",
       "      <td>1</td>\n",
       "      <td>0</td>\n",
       "      <td>0</td>\n",
       "      <td>0.530</td>\n",
       "      <td>0.420</td>\n",
       "      <td>0.135</td>\n",
       "      <td>0.6770</td>\n",
       "      <td>0.2565</td>\n",
       "      <td>0.1415</td>\n",
       "      <td>0.210</td>\n",
       "      <td>9</td>\n",
       "    </tr>\n",
       "    <tr>\n",
       "      <th>3</th>\n",
       "      <td>M</td>\n",
       "      <td>0</td>\n",
       "      <td>0</td>\n",
       "      <td>1</td>\n",
       "      <td>0.440</td>\n",
       "      <td>0.365</td>\n",
       "      <td>0.125</td>\n",
       "      <td>0.5160</td>\n",
       "      <td>0.2155</td>\n",
       "      <td>0.1140</td>\n",
       "      <td>0.155</td>\n",
       "      <td>10</td>\n",
       "    </tr>\n",
       "    <tr>\n",
       "      <th>4</th>\n",
       "      <td>I</td>\n",
       "      <td>0</td>\n",
       "      <td>1</td>\n",
       "      <td>0</td>\n",
       "      <td>0.330</td>\n",
       "      <td>0.255</td>\n",
       "      <td>0.080</td>\n",
       "      <td>0.2050</td>\n",
       "      <td>0.0895</td>\n",
       "      <td>0.0395</td>\n",
       "      <td>0.055</td>\n",
       "      <td>7</td>\n",
       "    </tr>\n",
       "  </tbody>\n",
       "</table>\n",
       "</div>"
      ],
      "text/plain": [
       "  Sex  F  I  M  Length  Diameter  Height  Whole weight  Shucked weight  \\\n",
       "0   M  0  0  1   0.455     0.365   0.095        0.5140          0.2245   \n",
       "1   M  0  0  1   0.350     0.265   0.090        0.2255          0.0995   \n",
       "2   F  1  0  0   0.530     0.420   0.135        0.6770          0.2565   \n",
       "3   M  0  0  1   0.440     0.365   0.125        0.5160          0.2155   \n",
       "4   I  0  1  0   0.330     0.255   0.080        0.2050          0.0895   \n",
       "\n",
       "   Viscera weight  Shell weight  Rings  \n",
       "0          0.1010         0.150     15  \n",
       "1          0.0485         0.070      7  \n",
       "2          0.1415         0.210      9  \n",
       "3          0.1140         0.155     10  \n",
       "4          0.0395         0.055      7  "
      ]
     },
     "execution_count": 7,
     "metadata": {},
     "output_type": "execute_result"
    }
   ],
   "source": [
    "df.head()"
   ]
  },
  {
   "cell_type": "code",
   "execution_count": 8,
   "metadata": {},
   "outputs": [],
   "source": [
    "scaler = MinMaxScaler()\n",
    "scaler.fit(X[:,3:])\n",
    "\n",
    "X_train_scaled = scaler.transform(X_train[:,3:])\n",
    "X_test_scaled = scaler.transform(X_test[:,3:])"
   ]
  },
  {
   "cell_type": "code",
   "execution_count": 9,
   "metadata": {},
   "outputs": [
    {
     "data": {
      "text/plain": [
       "array([0.64189189, 0.63865546, 0.11061947, 0.26173189, 0.23335575,\n",
       "       0.2080316 , 0.20378675])"
      ]
     },
     "execution_count": 9,
     "metadata": {},
     "output_type": "execute_result"
    }
   ],
   "source": [
    "X_train_scaled[0]"
   ]
  },
  {
   "cell_type": "code",
   "execution_count": 10,
   "metadata": {},
   "outputs": [],
   "source": [
    "X_train_scaled = np.concatenate((X_train[:,:3], X_train_scaled), axis=1)\n",
    "X_test_scaled = np.concatenate((X_test[:,:3], X_test_scaled), axis=1)"
   ]
  },
  {
   "cell_type": "code",
   "execution_count": 11,
   "metadata": {},
   "outputs": [
    {
     "data": {
      "text/plain": [
       "array([0.        , 1.        , 0.        , 0.64189189, 0.63865546,\n",
       "       0.11061947, 0.26173189, 0.23335575, 0.2080316 , 0.20378675])"
      ]
     },
     "execution_count": 11,
     "metadata": {},
     "output_type": "execute_result"
    }
   ],
   "source": [
    "X_train_scaled[0]"
   ]
  },
  {
   "cell_type": "code",
   "execution_count": 12,
   "metadata": {},
   "outputs": [],
   "source": [
    "y_scaler = MinMaxScaler()\n",
    "y_scaler.fit(y.reshape(-1,1))\n",
    "\n",
    "y_train_scaled = y_scaler.transform(y_train.reshape(-1,1))\n",
    "y_test_scaled = y_scaler.transform(y_test.reshape(-1,1))"
   ]
  },
  {
   "cell_type": "code",
   "execution_count": 13,
   "metadata": {
    "scrolled": true
   },
   "outputs": [
    {
     "data": {
      "text/plain": [
       "array([[0.28571429],\n",
       "       [0.32142857],\n",
       "       [0.17857143],\n",
       "       [0.21428571],\n",
       "       [0.46428571]])"
      ]
     },
     "execution_count": 13,
     "metadata": {},
     "output_type": "execute_result"
    }
   ],
   "source": [
    "y_train_scaled[:5]"
   ]
  },
  {
   "cell_type": "code",
   "execution_count": 37,
   "metadata": {
    "scrolled": false
   },
   "outputs": [
    {
     "data": {
      "text/plain": [
       "<matplotlib.axes._subplots.AxesSubplot at 0x25736c8d348>"
      ]
     },
     "execution_count": 37,
     "metadata": {},
     "output_type": "execute_result"
    },
    {
     "data": {
      "image/png": "[encoded data removed]",
      "text/plain": [
       "<Figure size 432x288 with 1 Axes>"
      ]
     },
     "metadata": {
      "needs_background": "light"
     },
     "output_type": "display_data"
    }
   ],
   "source": [
    "sns.boxplot(df['Height'])"
   ]
  },
  {
   "cell_type": "markdown",
   "metadata": {},
   "source": [
    "### feature selection"
   ]
  },
  {
   "cell_type": "code",
   "execution_count": 41,
   "metadata": {},
   "outputs": [],
   "source": [
    "dummy = pd.get_dummies(df['Sex'])\n",
    "dummy.head()\n",
    "\n",
    "df = pd.concat([df.iloc[:,0], dummy, df.iloc[:,1:]], axis=1)\n",
    "\n",
    "X = df.iloc[:,1:-1].values\n",
    "y = df.iloc[:, -1].values\n",
    "\n",
    "X_train, X_test, y_train, y_test = train_test_split(X, y, test_size=0.2, random_state=7)"
   ]
  },
  {
   "cell_type": "code",
   "execution_count": 42,
   "metadata": {
    "scrolled": false
   },
   "outputs": [
    {
     "data": {
      "text/html": [
       "<div>\n",
       "<style scoped>\n",
       "    .dataframe tbody tr th:only-of-type {\n",
       "        vertical-align: middle;\n",
       "    }\n",
       "\n",
       "    .dataframe tbody tr th {\n",
       "        vertical-align: top;\n",
       "    }\n",
       "\n",
       "    .dataframe thead th {\n",
       "        text-align: right;\n",
       "    }\n",
       "</style>\n",
       "<table border=\"1\" class=\"dataframe\">\n",
       "  <thead>\n",
       "    <tr style=\"text-align: right;\">\n",
       "      <th></th>\n",
       "      <th>Sex</th>\n",
       "      <th>F</th>\n",
       "      <th>I</th>\n",
       "      <th>M</th>\n",
       "      <th>Length</th>\n",
       "      <th>Diameter</th>\n",
       "      <th>Height</th>\n",
       "      <th>Whole weight</th>\n",
       "      <th>Shucked weight</th>\n",
       "      <th>Viscera weight</th>\n",
       "      <th>Shell weight</th>\n",
       "      <th>Rings</th>\n",
       "    </tr>\n",
       "  </thead>\n",
       "  <tbody>\n",
       "    <tr>\n",
       "      <th>0</th>\n",
       "      <td>M</td>\n",
       "      <td>0</td>\n",
       "      <td>0</td>\n",
       "      <td>1</td>\n",
       "      <td>0.455</td>\n",
       "      <td>0.365</td>\n",
       "      <td>0.095</td>\n",
       "      <td>0.5140</td>\n",
       "      <td>0.2245</td>\n",
       "      <td>0.1010</td>\n",
       "      <td>0.150</td>\n",
       "      <td>15</td>\n",
       "    </tr>\n",
       "    <tr>\n",
       "      <th>1</th>\n",
       "      <td>M</td>\n",
       "      <td>0</td>\n",
       "      <td>0</td>\n",
       "      <td>1</td>\n",
       "      <td>0.350</td>\n",
       "      <td>0.265</td>\n",
       "      <td>0.090</td>\n",
       "      <td>0.2255</td>\n",
       "      <td>0.0995</td>\n",
       "      <td>0.0485</td>\n",
       "      <td>0.070</td>\n",
       "      <td>7</td>\n",
       "    </tr>\n",
       "    <tr>\n",
       "      <th>2</th>\n",
       "      <td>F</td>\n",
       "      <td>1</td>\n",
       "      <td>0</td>\n",
       "      <td>0</td>\n",
       "      <td>0.530</td>\n",
       "      <td>0.420</td>\n",
       "      <td>0.135</td>\n",
       "      <td>0.6770</td>\n",
       "      <td>0.2565</td>\n",
       "      <td>0.1415</td>\n",
       "      <td>0.210</td>\n",
       "      <td>9</td>\n",
       "    </tr>\n",
       "    <tr>\n",
       "      <th>3</th>\n",
       "      <td>M</td>\n",
       "      <td>0</td>\n",
       "      <td>0</td>\n",
       "      <td>1</td>\n",
       "      <td>0.440</td>\n",
       "      <td>0.365</td>\n",
       "      <td>0.125</td>\n",
       "      <td>0.5160</td>\n",
       "      <td>0.2155</td>\n",
       "      <td>0.1140</td>\n",
       "      <td>0.155</td>\n",
       "      <td>10</td>\n",
       "    </tr>\n",
       "    <tr>\n",
       "      <th>4</th>\n",
       "      <td>I</td>\n",
       "      <td>0</td>\n",
       "      <td>1</td>\n",
       "      <td>0</td>\n",
       "      <td>0.330</td>\n",
       "      <td>0.255</td>\n",
       "      <td>0.080</td>\n",
       "      <td>0.2050</td>\n",
       "      <td>0.0895</td>\n",
       "      <td>0.0395</td>\n",
       "      <td>0.055</td>\n",
       "      <td>7</td>\n",
       "    </tr>\n",
       "  </tbody>\n",
       "</table>\n",
       "</div>"
      ],
      "text/plain": [
       "  Sex  F  I  M  Length  Diameter  Height  Whole weight  Shucked weight  \\\n",
       "0   M  0  0  1   0.455     0.365   0.095        0.5140          0.2245   \n",
       "1   M  0  0  1   0.350     0.265   0.090        0.2255          0.0995   \n",
       "2   F  1  0  0   0.530     0.420   0.135        0.6770          0.2565   \n",
       "3   M  0  0  1   0.440     0.365   0.125        0.5160          0.2155   \n",
       "4   I  0  1  0   0.330     0.255   0.080        0.2050          0.0895   \n",
       "\n",
       "   Viscera weight  Shell weight  Rings  \n",
       "0          0.1010         0.150     15  \n",
       "1          0.0485         0.070      7  \n",
       "2          0.1415         0.210      9  \n",
       "3          0.1140         0.155     10  \n",
       "4          0.0395         0.055      7  "
      ]
     },
     "execution_count": 42,
     "metadata": {},
     "output_type": "execute_result"
    }
   ],
   "source": [
    "df.head()"
   ]
  },
  {
   "cell_type": "code",
   "execution_count": 43,
   "metadata": {},
   "outputs": [],
   "source": [
    "scaler = MinMaxScaler()\n",
    "scaler.fit(X[:,3:])\n",
    "\n",
    "X_train_scaled = scaler.transform(X_train[:,3:])\n",
    "X_test_scaled = scaler.transform(X_test[:,3:])"
   ]
  },
  {
   "cell_type": "code",
   "execution_count": 44,
   "metadata": {},
   "outputs": [
    {
     "data": {
      "text/plain": [
       "array([0.64189189, 0.63865546, 0.11061947, 0.26173189, 0.23335575,\n",
       "       0.2080316 , 0.20378675])"
      ]
     },
     "execution_count": 44,
     "metadata": {},
     "output_type": "execute_result"
    }
   ],
   "source": [
    "X_train_scaled[0]"
   ]
  },
  {
   "cell_type": "code",
   "execution_count": 56,
   "metadata": {},
   "outputs": [],
   "source": [
    "X_train_scaled = np.concatenate((X_train[:,:3], X_train_scaled), axis=1)\n",
    "X_test_scaled = np.concatenate((X_test[:,:3], X_test_scaled), axis=1)"
   ]
  },
  {
   "cell_type": "code",
   "execution_count": 57,
   "metadata": {},
   "outputs": [
    {
     "data": {
      "text/plain": [
       "array([0.        , 1.        , 0.        , 0.64189189, 0.63865546,\n",
       "       0.11061947, 0.26173189, 0.23335575, 0.2080316 , 0.20378675])"
      ]
     },
     "execution_count": 57,
     "metadata": {},
     "output_type": "execute_result"
    }
   ],
   "source": [
    "X_train_scaled[0]"
   ]
  },
  {
   "cell_type": "code",
   "execution_count": 45,
   "metadata": {},
   "outputs": [],
   "source": [
    "y_scaler = MinMaxScaler()\n",
    "y_scaler.fit(y.reshape(-1,1))\n",
    "\n",
    "y_train_scaled = y_scaler.transform(y_train.reshape(-1,1))\n",
    "y_test_scaled = y_scaler.transform(y_test.reshape(-1,1))"
   ]
  },
  {
   "cell_type": "code",
   "execution_count": 46,
   "metadata": {
    "scrolled": true
   },
   "outputs": [
    {
     "data": {
      "text/plain": [
       "array([[0.28571429],\n",
       "       [0.32142857],\n",
       "       [0.17857143],\n",
       "       [0.21428571],\n",
       "       [0.46428571]])"
      ]
     },
     "execution_count": 46,
     "metadata": {},
     "output_type": "execute_result"
    }
   ],
   "source": [
    "y_train_scaled[:5]"
   ]
  },
  {
   "cell_type": "markdown",
   "metadata": {},
   "source": [
    "### feature selection"
   ]
  },
  {
   "cell_type": "code",
   "execution_count": 59,
   "metadata": {},
   "outputs": [],
   "source": [
    "X_train_scaled = X_train_scaled[:,:-1]\n",
    "X_test_scaled = X_test_scaled[:,:-1]"
   ]
  },
  {
   "cell_type": "markdown",
   "metadata": {},
   "source": [
    "## Build Model"
   ]
  },
  {
   "cell_type": "code",
   "execution_count": 27,
   "metadata": {},
   "outputs": [],
   "source": [
    "from tensorflow.keras import Sequential\n",
    "from tensorflow.keras.layers import Dense"
   ]
  },
  {
   "cell_type": "code",
   "execution_count": 28,
   "metadata": {},
   "outputs": [],
   "source": [
    "model = Sequential()\n",
    "model.add(Dense(32, input_shape=(10,)))\n",
    "model.add(Dense(64, activation='relu'))\n",
    "model.add(Dense(128, activation='relu'))\n",
    "model.add(Dense(1))"
   ]
  },
  {
   "cell_type": "code",
   "execution_count": 29,
   "metadata": {},
   "outputs": [],
   "source": [
    "model.compile(optimizer='adam', loss='mse', metrics=['mae'])"
   ]
  },
  {
   "cell_type": "code",
   "execution_count": 27,
   "metadata": {
    "scrolled": true
   },
   "outputs": [
    {
     "name": "stdout",
     "output_type": "stream",
     "text": [
      "Model: \"sequential_2\"\n",
      "_________________________________________________________________\n",
      "Layer (type)                 Output Shape              Param #   \n",
      "=================================================================\n",
      "dense_11 (Dense)             (None, 32)                352       \n",
      "_________________________________________________________________\n",
      "dense_12 (Dense)             (None, 64)                2112      \n",
      "_________________________________________________________________\n",
      "dense_13 (Dense)             (None, 128)               8320      \n",
      "_________________________________________________________________\n",
      "dense_14 (Dense)             (None, 1)                 129       \n",
      "=================================================================\n",
      "Total params: 10,913\n",
      "Trainable params: 10,913\n",
      "Non-trainable params: 0\n",
      "_________________________________________________________________\n"
     ]
    }
   ],
   "source": [
    "model.summary()"
   ]
  },
  {
   "cell_type": "code",
   "execution_count": 28,
   "metadata": {
    "scrolled": true
   },
   "outputs": [
    {
     "name": "stdout",
     "output_type": "stream",
     "text": [
      "Train on 3341 samples, validate on 836 samples\n",
      "Epoch 1/100\n",
      "3341/3341 [==============================] - 1s 192us/sample - loss: 83.4325 - mae: 8.4574 - val_loss: 48.8903 - val_mae: 5.9600\n",
      "Epoch 2/100\n",
      "3341/3341 [==============================] - 0s 47us/sample - loss: 32.8104 - mae: 4.6206 - val_loss: 22.6109 - val_mae: 3.7460\n",
      "Epoch 3/100\n",
      "3341/3341 [==============================] - 0s 71us/sample - loss: 13.8085 - mae: 2.7275 - val_loss: 7.4541 - val_mae: 1.9654\n",
      "Epoch 4/100\n",
      "3341/3341 [==============================] - 0s 52us/sample - loss: 6.8978 - mae: 1.8350 - val_loss: 6.5149 - val_mae: 1.8333\n",
      "Epoch 5/100\n",
      "3341/3341 [==============================] - 0s 46us/sample - loss: 6.0945 - mae: 1.7606 - val_loss: 6.1157 - val_mae: 1.7453\n",
      "Epoch 6/100\n",
      "3341/3341 [==============================] - 0s 46us/sample - loss: 5.5813 - mae: 1.6785 - val_loss: 5.7151 - val_mae: 1.7100\n",
      "Epoch 7/100\n",
      "3341/3341 [==============================] - 0s 46us/sample - loss: 5.3296 - mae: 1.6454 - val_loss: 5.6127 - val_mae: 1.6860\n",
      "Epoch 8/100\n",
      "3341/3341 [==============================] - 0s 55us/sample - loss: 5.1041 - mae: 1.6123 - val_loss: 5.4096 - val_mae: 1.6373\n",
      "Epoch 9/100\n",
      "3341/3341 [==============================] - 0s 66us/sample - loss: 4.9594 - mae: 1.5924 - val_loss: 5.2430 - val_mae: 1.6067\n",
      "Epoch 10/100\n",
      "3341/3341 [==============================] - 0s 41us/sample - loss: 4.8467 - mae: 1.5788 - val_loss: 5.1818 - val_mae: 1.5914\n",
      "Epoch 11/100\n",
      "3341/3341 [==============================] - 0s 51us/sample - loss: 4.7806 - mae: 1.5640 - val_loss: 5.1839 - val_mae: 1.5829\n",
      "Epoch 12/100\n",
      "3341/3341 [==============================] - 0s 46us/sample - loss: 4.6903 - mae: 1.5494 - val_loss: 4.9561 - val_mae: 1.5772\n",
      "Epoch 13/100\n",
      "3341/3341 [==============================] - 0s 43us/sample - loss: 4.6284 - mae: 1.5357 - val_loss: 4.8493 - val_mae: 1.5727\n",
      "Epoch 14/100\n",
      "3341/3341 [==============================] - 0s 43us/sample - loss: 4.6362 - mae: 1.5492 - val_loss: 4.9843 - val_mae: 1.5560\n",
      "Epoch 15/100\n",
      "3341/3341 [==============================] - 0s 55us/sample - loss: 4.5556 - mae: 1.5244 - val_loss: 4.8459 - val_mae: 1.5488\n",
      "Epoch 16/100\n",
      "3341/3341 [==============================] - 0s 46us/sample - loss: 4.5398 - mae: 1.5309 - val_loss: 4.7669 - val_mae: 1.5833\n",
      "Epoch 17/100\n",
      "3341/3341 [==============================] - 0s 47us/sample - loss: 4.5300 - mae: 1.5427 - val_loss: 4.8206 - val_mae: 1.5367\n",
      "Epoch 18/100\n",
      "3341/3341 [==============================] - 0s 52us/sample - loss: 4.5270 - mae: 1.5188 - val_loss: 4.7786 - val_mae: 1.5431\n",
      "Epoch 19/100\n",
      "3341/3341 [==============================] - 0s 47us/sample - loss: 4.4962 - mae: 1.5139 - val_loss: 4.7352 - val_mae: 1.5332\n",
      "Epoch 20/100\n",
      "3341/3341 [==============================] - 0s 48us/sample - loss: 4.4964 - mae: 1.5249 - val_loss: 4.6414 - val_mae: 1.5476\n",
      "Epoch 21/100\n",
      "3341/3341 [==============================] - 0s 52us/sample - loss: 4.4470 - mae: 1.5188 - val_loss: 5.0117 - val_mae: 1.5522\n",
      "Epoch 22/100\n",
      "3341/3341 [==============================] - 0s 45us/sample - loss: 4.4819 - mae: 1.5097 - val_loss: 4.7065 - val_mae: 1.5514\n",
      "Epoch 23/100\n",
      "3341/3341 [==============================] - 0s 44us/sample - loss: 4.4223 - mae: 1.5214 - val_loss: 4.9979 - val_mae: 1.5422\n",
      "Epoch 24/100\n",
      "3341/3341 [==============================] - 0s 55us/sample - loss: 4.4702 - mae: 1.5058 - val_loss: 4.7123 - val_mae: 1.5123\n",
      "Epoch 25/100\n",
      "3341/3341 [==============================] - 0s 50us/sample - loss: 4.4080 - mae: 1.5092 - val_loss: 4.6121 - val_mae: 1.5639\n",
      "Epoch 26/100\n",
      "3341/3341 [==============================] - 0s 55us/sample - loss: 4.3895 - mae: 1.5002 - val_loss: 4.7349 - val_mae: 1.5165\n",
      "Epoch 27/100\n",
      "3341/3341 [==============================] - 0s 71us/sample - loss: 4.3367 - mae: 1.4912 - val_loss: 4.7481 - val_mae: 1.5185\n",
      "Epoch 28/100\n",
      "3341/3341 [==============================] - 0s 40us/sample - loss: 4.3322 - mae: 1.4912 - val_loss: 4.7145 - val_mae: 1.5142\n",
      "Epoch 29/100\n",
      "3341/3341 [==============================] - 0s 53us/sample - loss: 4.3385 - mae: 1.4950 - val_loss: 4.8005 - val_mae: 1.5380\n",
      "Epoch 30/100\n",
      "3341/3341 [==============================] - 0s 45us/sample - loss: 4.3483 - mae: 1.4932 - val_loss: 4.7402 - val_mae: 1.5058\n",
      "Epoch 31/100\n",
      "3341/3341 [==============================] - 0s 42us/sample - loss: 4.3129 - mae: 1.4770 - val_loss: 4.6283 - val_mae: 1.5823\n",
      "Epoch 32/100\n",
      "3341/3341 [==============================] - 0s 51us/sample - loss: 4.3458 - mae: 1.4984 - val_loss: 4.6479 - val_mae: 1.5038\n",
      "Epoch 33/100\n",
      "3341/3341 [==============================] - 0s 55us/sample - loss: 4.2842 - mae: 1.4872 - val_loss: 5.0394 - val_mae: 1.5620\n",
      "Epoch 34/100\n",
      "3341/3341 [==============================] - 0s 50us/sample - loss: 4.3782 - mae: 1.4868 - val_loss: 4.6375 - val_mae: 1.5065\n",
      "Epoch 35/100\n",
      "3341/3341 [==============================] - 0s 51us/sample - loss: 4.3764 - mae: 1.5087 - val_loss: 5.1986 - val_mae: 1.5628\n",
      "Epoch 36/100\n",
      "3341/3341 [==============================] - 0s 48us/sample - loss: 4.3039 - mae: 1.4819 - val_loss: 4.6785 - val_mae: 1.5017\n",
      "Epoch 37/100\n",
      "3341/3341 [==============================] - 0s 51us/sample - loss: 4.2983 - mae: 1.4689 - val_loss: 4.5461 - val_mae: 1.5039\n",
      "Epoch 38/100\n",
      "3341/3341 [==============================] - 0s 54us/sample - loss: 4.2561 - mae: 1.4706 - val_loss: 4.8868 - val_mae: 1.5264\n",
      "Epoch 39/100\n",
      "3341/3341 [==============================] - 0s 57us/sample - loss: 4.2529 - mae: 1.4691 - val_loss: 4.7168 - val_mae: 1.4979\n",
      "Epoch 40/100\n",
      "3341/3341 [==============================] - 0s 51us/sample - loss: 4.2348 - mae: 1.4648 - val_loss: 4.6238 - val_mae: 1.4995\n",
      "Epoch 41/100\n",
      "3341/3341 [==============================] - 0s 46us/sample - loss: 4.2281 - mae: 1.4597 - val_loss: 4.5535 - val_mae: 1.4968\n",
      "Epoch 42/100\n",
      "3341/3341 [==============================] - 0s 42us/sample - loss: 4.2193 - mae: 1.4621 - val_loss: 4.6184 - val_mae: 1.4991\n",
      "Epoch 43/100\n",
      "3341/3341 [==============================] - 0s 46us/sample - loss: 4.2340 - mae: 1.4598 - val_loss: 4.6575 - val_mae: 1.4919\n",
      "Epoch 44/100\n",
      "3341/3341 [==============================] - 0s 46us/sample - loss: 4.2112 - mae: 1.4562 - val_loss: 4.7868 - val_mae: 1.5031\n",
      "Epoch 45/100\n",
      "3341/3341 [==============================] - 0s 64us/sample - loss: 4.1832 - mae: 1.4524 - val_loss: 4.9223 - val_mae: 1.5281\n",
      "Epoch 46/100\n",
      "3341/3341 [==============================] - 0s 59us/sample - loss: 4.2390 - mae: 1.4646 - val_loss: 4.5052 - val_mae: 1.5147\n",
      "Epoch 47/100\n",
      "3341/3341 [==============================] - 0s 60us/sample - loss: 4.2041 - mae: 1.4534 - val_loss: 4.6680 - val_mae: 1.5154\n",
      "Epoch 48/100\n",
      "3341/3341 [==============================] - 0s 52us/sample - loss: 4.2776 - mae: 1.4891 - val_loss: 4.8631 - val_mae: 1.5192\n",
      "Epoch 49/100\n",
      "3341/3341 [==============================] - 0s 59us/sample - loss: 4.2219 - mae: 1.4640 - val_loss: 4.6982 - val_mae: 1.4962\n",
      "Epoch 50/100\n",
      "3341/3341 [==============================] - 0s 65us/sample - loss: 4.2298 - mae: 1.4455 - val_loss: 4.6712 - val_mae: 1.5008\n",
      "Epoch 51/100\n",
      "3341/3341 [==============================] - 0s 58us/sample - loss: 4.2134 - mae: 1.4638 - val_loss: 4.6238 - val_mae: 1.5195\n",
      "Epoch 52/100\n",
      "3341/3341 [==============================] - 0s 46us/sample - loss: 4.1919 - mae: 1.4538 - val_loss: 4.4847 - val_mae: 1.5064\n",
      "Epoch 53/100\n",
      "3341/3341 [==============================] - 0s 58us/sample - loss: 4.2420 - mae: 1.4632 - val_loss: 4.4891 - val_mae: 1.5087\n",
      "Epoch 54/100\n",
      "3341/3341 [==============================] - 0s 61us/sample - loss: 4.2019 - mae: 1.4689 - val_loss: 4.5600 - val_mae: 1.4972\n",
      "Epoch 55/100\n",
      "3341/3341 [==============================] - 0s 66us/sample - loss: 4.1794 - mae: 1.4508 - val_loss: 4.5217 - val_mae: 1.5053\n",
      "Epoch 56/100\n",
      "3341/3341 [==============================] - 0s 48us/sample - loss: 4.1663 - mae: 1.4698 - val_loss: 4.6623 - val_mae: 1.5004\n",
      "Epoch 57/100\n",
      "3341/3341 [==============================] - 0s 62us/sample - loss: 4.1989 - mae: 1.4551 - val_loss: 4.6594 - val_mae: 1.5011\n",
      "Epoch 58/100\n",
      "3341/3341 [==============================] - 0s 51us/sample - loss: 4.1698 - mae: 1.4350 - val_loss: 4.5851 - val_mae: 1.5686\n",
      "Epoch 59/100\n",
      "3341/3341 [==============================] - 0s 52us/sample - loss: 4.2902 - mae: 1.4807 - val_loss: 4.8184 - val_mae: 1.5168\n",
      "Epoch 60/100\n",
      "3341/3341 [==============================] - 0s 52us/sample - loss: 4.2332 - mae: 1.4740 - val_loss: 4.9563 - val_mae: 1.5429\n",
      "Epoch 61/100\n",
      "3341/3341 [==============================] - 0s 45us/sample - loss: 4.1652 - mae: 1.4483 - val_loss: 4.7013 - val_mae: 1.4931\n",
      "Epoch 62/100\n",
      "3341/3341 [==============================] - 0s 41us/sample - loss: 4.2122 - mae: 1.4569 - val_loss: 4.5017 - val_mae: 1.5106\n",
      "Epoch 63/100\n",
      "3341/3341 [==============================] - 0s 59us/sample - loss: 4.2412 - mae: 1.4725 - val_loss: 4.6514 - val_mae: 1.4959\n",
      "Epoch 64/100\n",
      "3341/3341 [==============================] - 0s 57us/sample - loss: 4.1210 - mae: 1.4351 - val_loss: 4.6138 - val_mae: 1.4911\n",
      "Epoch 65/100\n",
      "3341/3341 [==============================] - 0s 44us/sample - loss: 4.1218 - mae: 1.4404 - val_loss: 4.6581 - val_mae: 1.4889\n",
      "Epoch 66/100\n",
      "3341/3341 [==============================] - 0s 48us/sample - loss: 4.1609 - mae: 1.4483 - val_loss: 4.5939 - val_mae: 1.5840\n",
      "Epoch 67/100\n",
      "3341/3341 [==============================] - 0s 48us/sample - loss: 4.2570 - mae: 1.4747 - val_loss: 4.8926 - val_mae: 1.5106\n",
      "Epoch 68/100\n",
      "3341/3341 [==============================] - 0s 46us/sample - loss: 4.1380 - mae: 1.4577 - val_loss: 4.7836 - val_mae: 1.5027\n",
      "Epoch 69/100\n",
      "3341/3341 [==============================] - 0s 44us/sample - loss: 4.1804 - mae: 1.4524 - val_loss: 4.6451 - val_mae: 1.4883\n",
      "Epoch 70/100\n",
      "3341/3341 [==============================] - 0s 45us/sample - loss: 4.1220 - mae: 1.4368 - val_loss: 4.5581 - val_mae: 1.5241\n",
      "Epoch 71/100\n",
      "3341/3341 [==============================] - 0s 46us/sample - loss: 4.2126 - mae: 1.4707 - val_loss: 4.9085 - val_mae: 1.5195\n",
      "Epoch 72/100\n",
      "3341/3341 [==============================] - 0s 52us/sample - loss: 4.0975 - mae: 1.4390 - val_loss: 4.7053 - val_mae: 1.4949\n",
      "Epoch 73/100\n",
      "3341/3341 [==============================] - 0s 44us/sample - loss: 4.1874 - mae: 1.4484 - val_loss: 4.5739 - val_mae: 1.4881\n",
      "Epoch 74/100\n",
      "3341/3341 [==============================] - 0s 50us/sample - loss: 4.0639 - mae: 1.4274 - val_loss: 4.5534 - val_mae: 1.4997\n",
      "Epoch 75/100\n",
      "3341/3341 [==============================] - 0s 43us/sample - loss: 4.0898 - mae: 1.4434 - val_loss: 4.5254 - val_mae: 1.4866\n",
      "Epoch 76/100\n",
      "3341/3341 [==============================] - 0s 41us/sample - loss: 4.1399 - mae: 1.4458 - val_loss: 4.5334 - val_mae: 1.5028\n",
      "Epoch 77/100\n",
      "3341/3341 [==============================] - 0s 40us/sample - loss: 4.1079 - mae: 1.4349 - val_loss: 4.5277 - val_mae: 1.4869\n",
      "Epoch 78/100\n",
      "3341/3341 [==============================] - 0s 41us/sample - loss: 4.1606 - mae: 1.4583 - val_loss: 4.7631 - val_mae: 1.4955\n",
      "Epoch 79/100\n",
      "3341/3341 [==============================] - 0s 55us/sample - loss: 4.1025 - mae: 1.4399 - val_loss: 4.8918 - val_mae: 1.5323\n",
      "Epoch 80/100\n",
      "3341/3341 [==============================] - 0s 43us/sample - loss: 4.1789 - mae: 1.4526 - val_loss: 4.5506 - val_mae: 1.4973\n",
      "Epoch 81/100\n",
      "3341/3341 [==============================] - 0s 42us/sample - loss: 4.0609 - mae: 1.4355 - val_loss: 4.5467 - val_mae: 1.4832\n",
      "Epoch 82/100\n",
      "3341/3341 [==============================] - 0s 52us/sample - loss: 4.0795 - mae: 1.4347 - val_loss: 4.7526 - val_mae: 1.4947\n",
      "Epoch 83/100\n",
      "3341/3341 [==============================] - 0s 66us/sample - loss: 4.0574 - mae: 1.4341 - val_loss: 4.7880 - val_mae: 1.5277\n",
      "Epoch 84/100\n",
      "3341/3341 [==============================] - 0s 59us/sample - loss: 4.1416 - mae: 1.4686 - val_loss: 4.8161 - val_mae: 1.5009\n",
      "Epoch 85/100\n",
      "3341/3341 [==============================] - 0s 67us/sample - loss: 4.1350 - mae: 1.4386 - val_loss: 4.4916 - val_mae: 1.4889\n",
      "Epoch 86/100\n",
      "3341/3341 [==============================] - 0s 59us/sample - loss: 4.0705 - mae: 1.4390 - val_loss: 4.5640 - val_mae: 1.4887\n",
      "Epoch 87/100\n",
      "3341/3341 [==============================] - 0s 63us/sample - loss: 4.1447 - mae: 1.4594 - val_loss: 4.7506 - val_mae: 1.4972\n",
      "Epoch 88/100\n",
      "3341/3341 [==============================] - 0s 82us/sample - loss: 4.0419 - mae: 1.4262 - val_loss: 4.6477 - val_mae: 1.5291\n",
      "Epoch 89/100\n",
      "3341/3341 [==============================] - 0s 72us/sample - loss: 4.0634 - mae: 1.4358 - val_loss: 4.4773 - val_mae: 1.4942\n",
      "Epoch 90/100\n",
      "3341/3341 [==============================] - 0s 73us/sample - loss: 4.0162 - mae: 1.4295 - val_loss: 4.8674 - val_mae: 1.5067\n",
      "Epoch 91/100\n",
      "3341/3341 [==============================] - 0s 74us/sample - loss: 4.0776 - mae: 1.4385 - val_loss: 4.5607 - val_mae: 1.4972\n",
      "Epoch 92/100\n",
      "3341/3341 [==============================] - 0s 79us/sample - loss: 4.0536 - mae: 1.4274 - val_loss: 4.5226 - val_mae: 1.5292\n",
      "Epoch 93/100\n",
      "3341/3341 [==============================] - 0s 61us/sample - loss: 4.1999 - mae: 1.4772 - val_loss: 4.9149 - val_mae: 1.5241\n",
      "Epoch 94/100\n",
      "3341/3341 [==============================] - 0s 67us/sample - loss: 4.0712 - mae: 1.4320 - val_loss: 4.5749 - val_mae: 1.4804\n",
      "Epoch 95/100\n",
      "3341/3341 [==============================] - 0s 55us/sample - loss: 4.1055 - mae: 1.4435 - val_loss: 4.7131 - val_mae: 1.4857\n",
      "Epoch 96/100\n",
      "3341/3341 [==============================] - 0s 70us/sample - loss: 4.0186 - mae: 1.4234 - val_loss: 4.5896 - val_mae: 1.5346\n",
      "Epoch 97/100\n",
      "3341/3341 [==============================] - 0s 69us/sample - loss: 4.0622 - mae: 1.4380 - val_loss: 4.5371 - val_mae: 1.5350\n",
      "Epoch 98/100\n",
      "3341/3341 [==============================] - 0s 55us/sample - loss: 4.0565 - mae: 1.4461 - val_loss: 4.8811 - val_mae: 1.5082\n",
      "Epoch 99/100\n",
      "3341/3341 [==============================] - 0s 54us/sample - loss: 4.0296 - mae: 1.4315 - val_loss: 4.5130 - val_mae: 1.4914\n",
      "Epoch 100/100\n",
      "3341/3341 [==============================] - 0s 72us/sample - loss: 4.0408 - mae: 1.4356 - val_loss: 4.5433 - val_mae: 1.4940\n"
     ]
    }
   ],
   "source": [
    "epochs = 100\n",
    "batch_size=128\n",
    "\n",
    "history = model.fit(X_train_scaled, y_train, epochs=epochs, batch_size=batch_size, validation_data=[X_test_scaled, y_test])"
   ]
  },
  {
   "cell_type": "code",
   "execution_count": 32,
   "metadata": {},
   "outputs": [],
   "source": [
    "y_pred = model.predict(X_test_scaled)"
   ]
  },
  {
   "cell_type": "markdown",
   "metadata": {},
   "source": [
    "## Evaluate"
   ]
  },
  {
   "cell_type": "code",
   "execution_count": 33,
   "metadata": {
    "scrolled": false
   },
   "outputs": [
    {
     "name": "stdout",
     "output_type": "stream",
     "text": [
      "Score\n",
      "MSE :       4.543296066834196\n",
      "RMSE :      2.131500895339759\n",
      "r2_score :  0.5951314340395566\n"
     ]
    }
   ],
   "source": [
    "print('Score')\n",
    "print('MSE :      ', mse(y_test, y_pred))\n",
    "print('RMSE :     ', np.sqrt(mse(y_test, y_pred)))\n",
    "print('r2_score : ', r2(y_test, y_pred))"
   ]
  },
  {
   "cell_type": "code",
   "execution_count": 34,
   "metadata": {
    "scrolled": false
   },
   "outputs": [
    {
     "data": {
      "image/png": "[encoded data removed]",
      "text/plain": [
       "<Figure size 432x288 with 1 Axes>"
      ]
     },
     "metadata": {
      "needs_background": "light"
     },
     "output_type": "display_data"
    }
   ],
   "source": [
    "# Plot training & validation accuracy values\n",
    "plt.plot(history.history['loss'])\n",
    "plt.plot(history.history['val_loss'])\n",
    "plt.ylabel('MSE')\n",
    "plt.xlabel('Epoch')\n",
    "plt.legend(['Train', 'Test'], loc='upper left')\n",
    "plt.show()"
   ]
  },
  {
   "cell_type": "markdown",
   "metadata": {},
   "source": [
    "## minmax"
   ]
  },
  {
   "cell_type": "code",
   "execution_count": 14,
   "metadata": {},
   "outputs": [],
   "source": [
    "from tensorflow.keras import Sequential\n",
    "from tensorflow.keras.layers import Dense\n",
    "from tensorflow.keras import backend as K"
   ]
  },
  {
   "cell_type": "code",
   "execution_count": 15,
   "metadata": {},
   "outputs": [],
   "source": [
    "model = Sequential()\n",
    "model.add(Dense(32, input_shape=(10,)))\n",
    "model.add(Dense(64, activation='relu'))\n",
    "model.add(Dense(128, activation='relu'))\n",
    "model.add(Dense(1))"
   ]
  },
  {
   "cell_type": "code",
   "execution_count": 16,
   "metadata": {},
   "outputs": [],
   "source": [
    "def coeff(y_true, y_pred):\n",
    "    SS_res = K.sum(K.square(y_true-y_pred)) \n",
    "    SS_tot = K.sum(K.square(y_true-K.mean(y_true))) \n",
    "    return (1 - SS_res/(SS_tot+K.epsilon()))\n",
    "\n",
    "model.compile(optimizer='adam', loss='mse', metrics=['mae', coeff])"
   ]
  },
  {
   "cell_type": "code",
   "execution_count": 17,
   "metadata": {
    "scrolled": true
   },
   "outputs": [
    {
     "name": "stdout",
     "output_type": "stream",
     "text": [
      "Model: \"sequential\"\n",
      "_________________________________________________________________\n",
      "Layer (type)                 Output Shape              Param #   \n",
      "=================================================================\n",
      "dense (Dense)                (None, 32)                352       \n",
      "_________________________________________________________________\n",
      "dense_1 (Dense)              (None, 64)                2112      \n",
      "_________________________________________________________________\n",
      "dense_2 (Dense)              (None, 128)               8320      \n",
      "_________________________________________________________________\n",
      "dense_3 (Dense)              (None, 1)                 129       \n",
      "=================================================================\n",
      "Total params: 10,913\n",
      "Trainable params: 10,913\n",
      "Non-trainable params: 0\n",
      "_________________________________________________________________\n"
     ]
    }
   ],
   "source": [
    "model.summary()"
   ]
  },
  {
   "cell_type": "code",
   "execution_count": 18,
   "metadata": {
    "scrolled": true
   },
   "outputs": [
    {
     "name": "stdout",
     "output_type": "stream",
     "text": [
      "Train on 3341 samples, validate on 836 samples\n",
      "Epoch 1/100\n",
      "3341/3341 [==============================] - 2s 483us/sample - loss: 0.0131 - mae: 0.0861 - coeff: -0.0513 - val_loss: 0.0094 - val_mae: 0.0710 - val_coeff: 0.3388\n",
      "Epoch 2/100\n",
      "3341/3341 [==============================] - 0s 61us/sample - loss: 0.0085 - mae: 0.0659 - coeff: 0.3470 - val_loss: 0.0085 - val_mae: 0.0636 - val_coeff: 0.4125\n",
      "Epoch 3/100\n",
      "3341/3341 [==============================] - 0s 77us/sample - loss: 0.0076 - mae: 0.0627 - coeff: 0.4174 - val_loss: 0.0079 - val_mae: 0.0632 - val_coeff: 0.4482\n",
      "Epoch 4/100\n",
      "3341/3341 [==============================] - 0s 75us/sample - loss: 0.0071 - mae: 0.0604 - coeff: 0.4528 - val_loss: 0.0077 - val_mae: 0.0639 - val_coeff: 0.4674\n",
      "Epoch 5/100\n",
      "3341/3341 [==============================] - 0s 58us/sample - loss: 0.0068 - mae: 0.0592 - coeff: 0.4852 - val_loss: 0.0069 - val_mae: 0.0583 - val_coeff: 0.5205\n",
      "Epoch 6/100\n",
      "3341/3341 [==============================] - 0s 54us/sample - loss: 0.0064 - mae: 0.0575 - coeff: 0.5093 - val_loss: 0.0065 - val_mae: 0.0580 - val_coeff: 0.5416\n",
      "Epoch 7/100\n",
      "3341/3341 [==============================] - 0s 61us/sample - loss: 0.0062 - mae: 0.0561 - coeff: 0.4775 - val_loss: 0.0065 - val_mae: 0.0577 - val_coeff: 0.5443\n",
      "Epoch 8/100\n",
      "3341/3341 [==============================] - 0s 55us/sample - loss: 0.0065 - mae: 0.0588 - coeff: 0.4825 - val_loss: 0.0071 - val_mae: 0.0632 - val_coeff: 0.4857\n",
      "Epoch 9/100\n",
      "3341/3341 [==============================] - 0s 56us/sample - loss: 0.0074 - mae: 0.0621 - coeff: 0.4357 - val_loss: 0.0066 - val_mae: 0.0565 - val_coeff: 0.5393\n",
      "Epoch 10/100\n",
      "3341/3341 [==============================] - 0s 62us/sample - loss: 0.0061 - mae: 0.0559 - coeff: 0.5215 - val_loss: 0.0063 - val_mae: 0.0566 - val_coeff: 0.5590\n",
      "Epoch 11/100\n",
      "3341/3341 [==============================] - 0s 57us/sample - loss: 0.0062 - mae: 0.0565 - coeff: 0.5166 - val_loss: 0.0064 - val_mae: 0.0575 - val_coeff: 0.5484\n",
      "Epoch 12/100\n",
      "3341/3341 [==============================] - 0s 55us/sample - loss: 0.0062 - mae: 0.0567 - coeff: 0.5166 - val_loss: 0.0066 - val_mae: 0.0592 - val_coeff: 0.5354\n",
      "Epoch 13/100\n",
      "3341/3341 [==============================] - 0s 71us/sample - loss: 0.0060 - mae: 0.0549 - coeff: 0.5340 - val_loss: 0.0062 - val_mae: 0.0543 - val_coeff: 0.5667\n",
      "Epoch 14/100\n",
      "3341/3341 [==============================] - 0s 64us/sample - loss: 0.0058 - mae: 0.0542 - coeff: 0.5477 - val_loss: 0.0060 - val_mae: 0.0543 - val_coeff: 0.5749\n",
      "Epoch 15/100\n",
      "3341/3341 [==============================] - 0s 62us/sample - loss: 0.0058 - mae: 0.0543 - coeff: 0.5361 - val_loss: 0.0077 - val_mae: 0.0587 - val_coeff: 0.4602\n",
      "Epoch 16/100\n",
      "3341/3341 [==============================] - 0s 61us/sample - loss: 0.0061 - mae: 0.0557 - coeff: 0.5231 - val_loss: 0.0060 - val_mae: 0.0553 - val_coeff: 0.5732\n",
      "Epoch 17/100\n",
      "3341/3341 [==============================] - 0s 72us/sample - loss: 0.0058 - mae: 0.0541 - coeff: 0.5512 - val_loss: 0.0062 - val_mae: 0.0543 - val_coeff: 0.5606\n",
      "Epoch 18/100\n",
      "3341/3341 [==============================] - 0s 66us/sample - loss: 0.0059 - mae: 0.0547 - coeff: 0.5419 - val_loss: 0.0062 - val_mae: 0.0548 - val_coeff: 0.5663\n",
      "Epoch 19/100\n",
      "3341/3341 [==============================] - 0s 63us/sample - loss: 0.0061 - mae: 0.0557 - coeff: 0.5101 - val_loss: 0.0061 - val_mae: 0.0560 - val_coeff: 0.5705\n",
      "Epoch 20/100\n",
      "3341/3341 [==============================] - 0s 63us/sample - loss: 0.0058 - mae: 0.0540 - coeff: 0.5407 - val_loss: 0.0063 - val_mae: 0.0540 - val_coeff: 0.5564\n",
      "Epoch 21/100\n",
      "3341/3341 [==============================] - 0s 60us/sample - loss: 0.0057 - mae: 0.0535 - coeff: 0.5574 - val_loss: 0.0060 - val_mae: 0.0540 - val_coeff: 0.5747\n",
      "Epoch 22/100\n",
      "3341/3341 [==============================] - 0s 58us/sample - loss: 0.0058 - mae: 0.0542 - coeff: 0.5466 - val_loss: 0.0061 - val_mae: 0.0535 - val_coeff: 0.5732\n",
      "Epoch 23/100\n",
      "3341/3341 [==============================] - 0s 50us/sample - loss: 0.0056 - mae: 0.0532 - coeff: 0.5678 - val_loss: 0.0073 - val_mae: 0.0574 - val_coeff: 0.4910\n",
      "Epoch 24/100\n",
      "3341/3341 [==============================] - 0s 55us/sample - loss: 0.0060 - mae: 0.0552 - coeff: 0.5398 - val_loss: 0.0061 - val_mae: 0.0581 - val_coeff: 0.5672\n",
      "Epoch 25/100\n",
      "3341/3341 [==============================] - 0s 59us/sample - loss: 0.0058 - mae: 0.0545 - coeff: 0.5469 - val_loss: 0.0060 - val_mae: 0.0550 - val_coeff: 0.5800\n",
      "Epoch 26/100\n",
      "3341/3341 [==============================] - 0s 72us/sample - loss: 0.0056 - mae: 0.0533 - coeff: 0.5376 - val_loss: 0.0062 - val_mae: 0.0539 - val_coeff: 0.5617\n",
      "Epoch 27/100\n",
      "3341/3341 [==============================] - 0s 69us/sample - loss: 0.0056 - mae: 0.0529 - coeff: 0.5676 - val_loss: 0.0059 - val_mae: 0.0554 - val_coeff: 0.5812\n",
      "Epoch 28/100\n",
      "3341/3341 [==============================] - 0s 55us/sample - loss: 0.0057 - mae: 0.0541 - coeff: 0.5551 - val_loss: 0.0060 - val_mae: 0.0548 - val_coeff: 0.5781\n",
      "Epoch 29/100\n",
      "3341/3341 [==============================] - 0s 68us/sample - loss: 0.0057 - mae: 0.0537 - coeff: 0.5554 - val_loss: 0.0060 - val_mae: 0.0547 - val_coeff: 0.5736\n",
      "Epoch 30/100\n",
      "3341/3341 [==============================] - 0s 63us/sample - loss: 0.0056 - mae: 0.0535 - coeff: 0.5339 - val_loss: 0.0061 - val_mae: 0.0555 - val_coeff: 0.5709\n",
      "Epoch 31/100\n",
      "3341/3341 [==============================] - 0s 61us/sample - loss: 0.0059 - mae: 0.0554 - coeff: 0.5430 - val_loss: 0.0062 - val_mae: 0.0542 - val_coeff: 0.5618\n",
      "Epoch 32/100\n",
      "3341/3341 [==============================] - 0s 70us/sample - loss: 0.0057 - mae: 0.0543 - coeff: 0.5456 - val_loss: 0.0066 - val_mae: 0.0548 - val_coeff: 0.5363\n",
      "Epoch 33/100\n",
      "3341/3341 [==============================] - 0s 58us/sample - loss: 0.0056 - mae: 0.0527 - coeff: 0.5606 - val_loss: 0.0060 - val_mae: 0.0542 - val_coeff: 0.5780\n",
      "Epoch 34/100\n",
      "3341/3341 [==============================] - 0s 62us/sample - loss: 0.0058 - mae: 0.0538 - coeff: 0.5492 - val_loss: 0.0067 - val_mae: 0.0611 - val_coeff: 0.5229\n",
      "Epoch 35/100\n",
      "3341/3341 [==============================] - 0s 69us/sample - loss: 0.0058 - mae: 0.0547 - coeff: 0.5595 - val_loss: 0.0060 - val_mae: 0.0530 - val_coeff: 0.5779\n",
      "Epoch 36/100\n",
      "3341/3341 [==============================] - 0s 72us/sample - loss: 0.0056 - mae: 0.0532 - coeff: 0.5367 - val_loss: 0.0066 - val_mae: 0.0546 - val_coeff: 0.5349\n",
      "Epoch 37/100\n",
      "3341/3341 [==============================] - 0s 67us/sample - loss: 0.0058 - mae: 0.0541 - coeff: 0.5424 - val_loss: 0.0062 - val_mae: 0.0542 - val_coeff: 0.5647\n",
      "Epoch 38/100\n",
      "3341/3341 [==============================] - 0s 60us/sample - loss: 0.0056 - mae: 0.0535 - coeff: 0.5510 - val_loss: 0.0061 - val_mae: 0.0565 - val_coeff: 0.5656\n",
      "Epoch 39/100\n",
      "3341/3341 [==============================] - 0s 55us/sample - loss: 0.0060 - mae: 0.0555 - coeff: 0.5014 - val_loss: 0.0063 - val_mae: 0.0535 - val_coeff: 0.5586\n",
      "Epoch 40/100\n",
      "3341/3341 [==============================] - 0s 69us/sample - loss: 0.0056 - mae: 0.0531 - coeff: 0.5749 - val_loss: 0.0063 - val_mae: 0.0537 - val_coeff: 0.5581\n",
      "Epoch 41/100\n",
      "3341/3341 [==============================] - 0s 68us/sample - loss: 0.0056 - mae: 0.0534 - coeff: 0.5526 - val_loss: 0.0059 - val_mae: 0.0539 - val_coeff: 0.5863\n",
      "Epoch 42/100\n",
      "3341/3341 [==============================] - 0s 76us/sample - loss: 0.0055 - mae: 0.0524 - coeff: 0.5605 - val_loss: 0.0062 - val_mae: 0.0534 - val_coeff: 0.5639\n",
      "Epoch 43/100\n",
      "3341/3341 [==============================] - 0s 78us/sample - loss: 0.0055 - mae: 0.0526 - coeff: 0.5702 - val_loss: 0.0059 - val_mae: 0.0531 - val_coeff: 0.5841\n",
      "Epoch 44/100\n",
      "3341/3341 [==============================] - 0s 73us/sample - loss: 0.0057 - mae: 0.0532 - coeff: 0.5396 - val_loss: 0.0071 - val_mae: 0.0667 - val_coeff: 0.4904\n",
      "Epoch 45/100\n",
      "3341/3341 [==============================] - 0s 74us/sample - loss: 0.0059 - mae: 0.0553 - coeff: 0.5370 - val_loss: 0.0064 - val_mae: 0.0550 - val_coeff: 0.5502\n",
      "Epoch 46/100\n",
      "3341/3341 [==============================] - 0s 59us/sample - loss: 0.0055 - mae: 0.0526 - coeff: 0.5646 - val_loss: 0.0060 - val_mae: 0.0571 - val_coeff: 0.5702\n",
      "Epoch 47/100\n"
     ]
    },
    {
     "name": "stdout",
     "output_type": "stream",
     "text": [
      "3341/3341 [==============================] - 0s 67us/sample - loss: 0.0060 - mae: 0.0558 - coeff: 0.5416 - val_loss: 0.0064 - val_mae: 0.0535 - val_coeff: 0.5490\n",
      "Epoch 48/100\n",
      "3341/3341 [==============================] - 0s 57us/sample - loss: 0.0055 - mae: 0.0525 - coeff: 0.5761 - val_loss: 0.0059 - val_mae: 0.0548 - val_coeff: 0.5830\n",
      "Epoch 49/100\n",
      "3341/3341 [==============================] - 0s 66us/sample - loss: 0.0055 - mae: 0.0525 - coeff: 0.5605 - val_loss: 0.0064 - val_mae: 0.0537 - val_coeff: 0.5515\n",
      "Epoch 50/100\n",
      "3341/3341 [==============================] - 0s 73us/sample - loss: 0.0056 - mae: 0.0532 - coeff: 0.5628 - val_loss: 0.0060 - val_mae: 0.0535 - val_coeff: 0.5765\n",
      "Epoch 51/100\n",
      "3341/3341 [==============================] - 0s 58us/sample - loss: 0.0054 - mae: 0.0522 - coeff: 0.5803 - val_loss: 0.0060 - val_mae: 0.0539 - val_coeff: 0.5754\n",
      "Epoch 52/100\n",
      "3341/3341 [==============================] - 0s 61us/sample - loss: 0.0054 - mae: 0.0524 - coeff: 0.5799 - val_loss: 0.0060 - val_mae: 0.0534 - val_coeff: 0.5784\n",
      "Epoch 53/100\n",
      "3341/3341 [==============================] - 0s 56us/sample - loss: 0.0055 - mae: 0.0529 - coeff: 0.5799 - val_loss: 0.0075 - val_mae: 0.0578 - val_coeff: 0.4717\n",
      "Epoch 54/100\n",
      "3341/3341 [==============================] - 0s 63us/sample - loss: 0.0055 - mae: 0.0529 - coeff: 0.5663 - val_loss: 0.0059 - val_mae: 0.0551 - val_coeff: 0.5817\n",
      "Epoch 55/100\n",
      "3341/3341 [==============================] - 0s 63us/sample - loss: 0.0055 - mae: 0.0526 - coeff: 0.5749 - val_loss: 0.0059 - val_mae: 0.0530 - val_coeff: 0.5836\n",
      "Epoch 56/100\n",
      "3341/3341 [==============================] - 0s 53us/sample - loss: 0.0054 - mae: 0.0519 - coeff: 0.5594 - val_loss: 0.0059 - val_mae: 0.0530 - val_coeff: 0.5833\n",
      "Epoch 57/100\n",
      "3341/3341 [==============================] - 0s 67us/sample - loss: 0.0055 - mae: 0.0523 - coeff: 0.5671 - val_loss: 0.0063 - val_mae: 0.0585 - val_coeff: 0.5469\n",
      "Epoch 58/100\n",
      "3341/3341 [==============================] - 0s 64us/sample - loss: 0.0058 - mae: 0.0547 - coeff: 0.5552 - val_loss: 0.0060 - val_mae: 0.0530 - val_coeff: 0.5758\n",
      "Epoch 59/100\n",
      "3341/3341 [==============================] - 0s 69us/sample - loss: 0.0055 - mae: 0.0527 - coeff: 0.5705 - val_loss: 0.0063 - val_mae: 0.0557 - val_coeff: 0.5545\n",
      "Epoch 60/100\n",
      "3341/3341 [==============================] - 0s 57us/sample - loss: 0.0054 - mae: 0.0524 - coeff: 0.5795 - val_loss: 0.0062 - val_mae: 0.0532 - val_coeff: 0.5659\n",
      "Epoch 61/100\n",
      "3341/3341 [==============================] - 0s 69us/sample - loss: 0.0054 - mae: 0.0524 - coeff: 0.5883 - val_loss: 0.0063 - val_mae: 0.0537 - val_coeff: 0.5534\n",
      "Epoch 62/100\n",
      "3341/3341 [==============================] - 0s 61us/sample - loss: 0.0054 - mae: 0.0521 - coeff: 0.5814 - val_loss: 0.0063 - val_mae: 0.0539 - val_coeff: 0.5581\n",
      "Epoch 63/100\n",
      "3341/3341 [==============================] - 0s 67us/sample - loss: 0.0054 - mae: 0.0523 - coeff: 0.5831 - val_loss: 0.0060 - val_mae: 0.0534 - val_coeff: 0.5793\n",
      "Epoch 64/100\n",
      "3341/3341 [==============================] - 0s 72us/sample - loss: 0.0055 - mae: 0.0526 - coeff: 0.5713 - val_loss: 0.0059 - val_mae: 0.0532 - val_coeff: 0.5855\n",
      "Epoch 65/100\n",
      "3341/3341 [==============================] - 0s 59us/sample - loss: 0.0054 - mae: 0.0525 - coeff: 0.5716 - val_loss: 0.0061 - val_mae: 0.0533 - val_coeff: 0.5678\n",
      "Epoch 66/100\n",
      "3341/3341 [==============================] - 0s 62us/sample - loss: 0.0054 - mae: 0.0522 - coeff: 0.5726 - val_loss: 0.0059 - val_mae: 0.0544 - val_coeff: 0.5827\n",
      "Epoch 67/100\n",
      "3341/3341 [==============================] - 0s 59us/sample - loss: 0.0054 - mae: 0.0520 - coeff: 0.5773 - val_loss: 0.0059 - val_mae: 0.0559 - val_coeff: 0.5784\n",
      "Epoch 68/100\n",
      "3341/3341 [==============================] - 0s 69us/sample - loss: 0.0056 - mae: 0.0534 - coeff: 0.5702 - val_loss: 0.0060 - val_mae: 0.0563 - val_coeff: 0.5754\n",
      "Epoch 69/100\n",
      "3341/3341 [==============================] - 0s 55us/sample - loss: 0.0054 - mae: 0.0523 - coeff: 0.5863 - val_loss: 0.0060 - val_mae: 0.0531 - val_coeff: 0.5762\n",
      "Epoch 70/100\n",
      "3341/3341 [==============================] - 0s 71us/sample - loss: 0.0055 - mae: 0.0527 - coeff: 0.5663 - val_loss: 0.0065 - val_mae: 0.0549 - val_coeff: 0.5459\n",
      "Epoch 71/100\n",
      "3341/3341 [==============================] - 0s 59us/sample - loss: 0.0055 - mae: 0.0531 - coeff: 0.5682 - val_loss: 0.0070 - val_mae: 0.0566 - val_coeff: 0.5067\n",
      "Epoch 72/100\n",
      "3341/3341 [==============================] - 0s 63us/sample - loss: 0.0055 - mae: 0.0526 - coeff: 0.5685 - val_loss: 0.0060 - val_mae: 0.0547 - val_coeff: 0.5786\n",
      "Epoch 73/100\n",
      "3341/3341 [==============================] - 0s 81us/sample - loss: 0.0053 - mae: 0.0516 - coeff: 0.5849 - val_loss: 0.0059 - val_mae: 0.0527 - val_coeff: 0.5814\n",
      "Epoch 74/100\n",
      "3341/3341 [==============================] - 0s 55us/sample - loss: 0.0055 - mae: 0.0526 - coeff: 0.5757 - val_loss: 0.0058 - val_mae: 0.0529 - val_coeff: 0.5850\n",
      "Epoch 75/100\n",
      "3341/3341 [==============================] - 0s 65us/sample - loss: 0.0054 - mae: 0.0521 - coeff: 0.5837 - val_loss: 0.0065 - val_mae: 0.0539 - val_coeff: 0.5462\n",
      "Epoch 76/100\n",
      "3341/3341 [==============================] - 0s 66us/sample - loss: 0.0053 - mae: 0.0518 - coeff: 0.5799 - val_loss: 0.0060 - val_mae: 0.0557 - val_coeff: 0.5726\n",
      "Epoch 77/100\n",
      "3341/3341 [==============================] - 0s 63us/sample - loss: 0.0056 - mae: 0.0542 - coeff: 0.5657 - val_loss: 0.0068 - val_mae: 0.0548 - val_coeff: 0.5261\n",
      "Epoch 78/100\n",
      "3341/3341 [==============================] - 0s 58us/sample - loss: 0.0055 - mae: 0.0523 - coeff: 0.5683 - val_loss: 0.0060 - val_mae: 0.0544 - val_coeff: 0.5738\n",
      "Epoch 79/100\n",
      "3341/3341 [==============================] - 0s 61us/sample - loss: 0.0054 - mae: 0.0521 - coeff: 0.5778 - val_loss: 0.0059 - val_mae: 0.0526 - val_coeff: 0.5819\n",
      "Epoch 80/100\n",
      "3341/3341 [==============================] - 0s 65us/sample - loss: 0.0054 - mae: 0.0520 - coeff: 0.5784 - val_loss: 0.0058 - val_mae: 0.0541 - val_coeff: 0.5893\n",
      "Epoch 81/100\n",
      "3341/3341 [==============================] - 0s 57us/sample - loss: 0.0054 - mae: 0.0522 - coeff: 0.5831 - val_loss: 0.0063 - val_mae: 0.0540 - val_coeff: 0.5547\n",
      "Epoch 82/100\n",
      "3341/3341 [==============================] - 0s 73us/sample - loss: 0.0055 - mae: 0.0525 - coeff: 0.5830 - val_loss: 0.0063 - val_mae: 0.0534 - val_coeff: 0.5536\n",
      "Epoch 83/100\n",
      "3341/3341 [==============================] - 0s 59us/sample - loss: 0.0054 - mae: 0.0521 - coeff: 0.5770 - val_loss: 0.0058 - val_mae: 0.0529 - val_coeff: 0.5904\n",
      "Epoch 84/100\n",
      "3341/3341 [==============================] - 0s 62us/sample - loss: 0.0055 - mae: 0.0526 - coeff: 0.5732 - val_loss: 0.0066 - val_mae: 0.0559 - val_coeff: 0.5363\n",
      "Epoch 85/100\n",
      "3341/3341 [==============================] - 0s 62us/sample - loss: 0.0055 - mae: 0.0524 - coeff: 0.5785 - val_loss: 0.0059 - val_mae: 0.0543 - val_coeff: 0.5817\n",
      "Epoch 86/100\n",
      "3341/3341 [==============================] - 0s 58us/sample - loss: 0.0054 - mae: 0.0523 - coeff: 0.5790 - val_loss: 0.0059 - val_mae: 0.0551 - val_coeff: 0.5790\n",
      "Epoch 87/100\n",
      "3341/3341 [==============================] - 0s 67us/sample - loss: 0.0053 - mae: 0.0521 - coeff: 0.5772 - val_loss: 0.0061 - val_mae: 0.0536 - val_coeff: 0.5683\n",
      "Epoch 88/100\n",
      "3341/3341 [==============================] - 0s 62us/sample - loss: 0.0054 - mae: 0.0526 - coeff: 0.5729 - val_loss: 0.0064 - val_mae: 0.0535 - val_coeff: 0.5514\n",
      "Epoch 89/100\n",
      "3341/3341 [==============================] - 0s 57us/sample - loss: 0.0054 - mae: 0.0519 - coeff: 0.5835 - val_loss: 0.0059 - val_mae: 0.0545 - val_coeff: 0.5781\n",
      "Epoch 90/100\n",
      "3341/3341 [==============================] - 0s 68us/sample - loss: 0.0054 - mae: 0.0518 - coeff: 0.5861 - val_loss: 0.0058 - val_mae: 0.0532 - val_coeff: 0.5886\n",
      "Epoch 91/100\n",
      "3341/3341 [==============================] - 0s 59us/sample - loss: 0.0053 - mae: 0.0519 - coeff: 0.5934 - val_loss: 0.0068 - val_mae: 0.0550 - val_coeff: 0.5257\n",
      "Epoch 92/100\n",
      "3341/3341 [==============================] - 0s 69us/sample - loss: 0.0055 - mae: 0.0522 - coeff: 0.5621 - val_loss: 0.0060 - val_mae: 0.0540 - val_coeff: 0.5750\n",
      "Epoch 93/100\n",
      "3341/3341 [==============================] - 0s 61us/sample - loss: 0.0054 - mae: 0.0526 - coeff: 0.5786 - val_loss: 0.0063 - val_mae: 0.0537 - val_coeff: 0.5562\n"
     ]
    },
    {
     "name": "stdout",
     "output_type": "stream",
     "text": [
      "Epoch 94/100\n",
      "3341/3341 [==============================] - 0s 57us/sample - loss: 0.0053 - mae: 0.0520 - coeff: 0.5911 - val_loss: 0.0060 - val_mae: 0.0551 - val_coeff: 0.5757\n",
      "Epoch 95/100\n",
      "3341/3341 [==============================] - 0s 71us/sample - loss: 0.0053 - mae: 0.0518 - coeff: 0.5806 - val_loss: 0.0059 - val_mae: 0.0531 - val_coeff: 0.5835\n",
      "Epoch 96/100\n",
      "3341/3341 [==============================] - 0s 62us/sample - loss: 0.0053 - mae: 0.0513 - coeff: 0.5727 - val_loss: 0.0061 - val_mae: 0.0594 - val_coeff: 0.5601\n",
      "Epoch 97/100\n",
      "3341/3341 [==============================] - 0s 60us/sample - loss: 0.0060 - mae: 0.0559 - coeff: 0.5321 - val_loss: 0.0079 - val_mae: 0.0593 - val_coeff: 0.4446\n",
      "Epoch 98/100\n",
      "3341/3341 [==============================] - 0s 63us/sample - loss: 0.0060 - mae: 0.0552 - coeff: 0.5427 - val_loss: 0.0062 - val_mae: 0.0534 - val_coeff: 0.5662\n",
      "Epoch 99/100\n",
      "3341/3341 [==============================] - 0s 58us/sample - loss: 0.0056 - mae: 0.0534 - coeff: 0.5606 - val_loss: 0.0059 - val_mae: 0.0541 - val_coeff: 0.5840\n",
      "Epoch 100/100\n",
      "3341/3341 [==============================] - 0s 57us/sample - loss: 0.0053 - mae: 0.0514 - coeff: 0.5766 - val_loss: 0.0058 - val_mae: 0.0530 - val_coeff: 0.5882\n"
     ]
    }
   ],
   "source": [
    "epochs = 100\n",
    "batch_size=128\n",
    "\n",
    "history = model.fit(X_train_scaled, y_train_scaled, epochs=epochs, batch_size=batch_size, validation_data=[X_test_scaled, y_test_scaled])"
   ]
  },
  {
   "cell_type": "code",
   "execution_count": 24,
   "metadata": {},
   "outputs": [],
   "source": [
    "y_pred_scaled = model.predict(X_test_scaled)"
   ]
  },
  {
   "cell_type": "code",
   "execution_count": 25,
   "metadata": {},
   "outputs": [],
   "source": [
    "y_pred = y_scaler.inverse_transform(y_pred_scaled)"
   ]
  },
  {
   "cell_type": "markdown",
   "metadata": {},
   "source": [
    "## Evaluate"
   ]
  },
  {
   "cell_type": "code",
   "execution_count": 27,
   "metadata": {
    "scrolled": false
   },
   "outputs": [
    {
     "name": "stdout",
     "output_type": "stream",
     "text": [
      "Score\n",
      "MSE :       4.571373627400056\n",
      "RMSE :      2.1380770864026526\n",
      "r2_score :  0.5926293471152748\n"
     ]
    }
   ],
   "source": [
    "print('Score')\n",
    "print('MSE :      ', mse(y_test, y_pred))\n",
    "print('RMSE :     ', np.sqrt(mse(y_test, y_pred)))\n",
    "print('r2_score : ', r2(y_test, y_pred))"
   ]
  },
  {
   "cell_type": "code",
   "execution_count": 21,
   "metadata": {
    "scrolled": true
   },
   "outputs": [
    {
     "data": {
      "image/png": "[encoded data removed]",
      "text/plain": [
       "<Figure size 432x288 with 1 Axes>"
      ]
     },
     "metadata": {
      "needs_background": "light"
     },
     "output_type": "display_data"
    },
    {
     "data": {
      "image/png": "[encoded data removed]",
      "text/plain": [
       "<Figure size 432x288 with 1 Axes>"
      ]
     },
     "metadata": {
      "needs_background": "light"
     },
     "output_type": "display_data"
    },
    {
     "data": {
      "image/png": "[encoded data removed]",
      "text/plain": [
       "<Figure size 432x288 with 1 Axes>"
      ]
     },
     "metadata": {
      "needs_background": "light"
     },
     "output_type": "display_data"
    }
   ],
   "source": [
    "# Plot training & validation accuracy values\n",
    "plt.plot(history.history['loss'])\n",
    "plt.plot(history.history['val_loss'])\n",
    "plt.ylabel('MSE')\n",
    "plt.xlabel('Epoch')\n",
    "plt.legend(['Train', 'Test'], loc='upper left')\n",
    "plt.show()\n",
    "\n",
    "plt.plot(history.history['loss'])\n",
    "plt.plot(history.history['val_loss'])\n",
    "plt.ylabel('MSE')\n",
    "plt.xlabel('Epoch')\n",
    "plt.legend(['Train', 'Test'], loc='upper left')\n",
    "plt.ylim((0,8))\n",
    "plt.show()\n",
    "\n",
    "# Plot training & validation accuracy values\n",
    "plt.plot(history.history['coeff'])\n",
    "plt.plot(history.history['val_coeff'])\n",
    "plt.ylabel('R2 score')\n",
    "plt.xlabel('Epoch')\n",
    "plt.legend(['Train', 'Test'], loc='lower right')\n",
    "plt.ylim((-1,1.5))\n",
    "plt.show()"
   ]
  },
  {
   "cell_type": "code",
   "execution_count": null,
   "metadata": {},
   "outputs": [],
   "source": []
  },
  {
   "cell_type": "code",
   "execution_count": null,
   "metadata": {},
   "outputs": [],
   "source": []
  },
  {
   "cell_type": "markdown",
   "metadata": {},
   "source": [
    "## minmax 300 epochs"
   ]
  },
  {
   "cell_type": "code",
   "execution_count": 14,
   "metadata": {},
   "outputs": [],
   "source": [
    "from tensorflow.keras import Sequential\n",
    "from tensorflow.keras.layers import Dense\n",
    "from tensorflow.keras import backend as K"
   ]
  },
  {
   "cell_type": "code",
   "execution_count": 28,
   "metadata": {},
   "outputs": [],
   "source": [
    "model = Sequential()\n",
    "model.add(Dense(32, input_shape=(10,)))\n",
    "model.add(Dense(64, activation='relu'))\n",
    "model.add(Dense(128, activation='relu'))\n",
    "model.add(Dense(1))"
   ]
  },
  {
   "cell_type": "code",
   "execution_count": 29,
   "metadata": {},
   "outputs": [],
   "source": [
    "def coeff(y_true, y_pred):\n",
    "    SS_res = K.sum(K.square(y_true-y_pred)) \n",
    "    SS_tot = K.sum(K.square(y_true-K.mean(y_true))) \n",
    "    return (1 - SS_res/(SS_tot+K.epsilon()))\n",
    "\n",
    "model.compile(optimizer='adam', loss='mse', metrics=['mae', coeff])"
   ]
  },
  {
   "cell_type": "code",
   "execution_count": 30,
   "metadata": {
    "scrolled": true
   },
   "outputs": [
    {
     "name": "stdout",
     "output_type": "stream",
     "text": [
      "Model: \"sequential_1\"\n",
      "_________________________________________________________________\n",
      "Layer (type)                 Output Shape              Param #   \n",
      "=================================================================\n",
      "dense_4 (Dense)              (None, 32)                352       \n",
      "_________________________________________________________________\n",
      "dense_5 (Dense)              (None, 64)                2112      \n",
      "_________________________________________________________________\n",
      "dense_6 (Dense)              (None, 128)               8320      \n",
      "_________________________________________________________________\n",
      "dense_7 (Dense)              (None, 1)                 129       \n",
      "=================================================================\n",
      "Total params: 10,913\n",
      "Trainable params: 10,913\n",
      "Non-trainable params: 0\n",
      "_________________________________________________________________\n"
     ]
    }
   ],
   "source": [
    "model.summary()"
   ]
  },
  {
   "cell_type": "code",
   "execution_count": 31,
   "metadata": {
    "scrolled": true
   },
   "outputs": [
    {
     "name": "stdout",
     "output_type": "stream",
     "text": [
      "Train on 3341 samples, validate on 836 samples\n",
      "Epoch 1/300\n",
      "3341/3341 [==============================] - 1s 244us/sample - loss: 0.0183 - mae: 0.0999 - coeff: -0.4082 - val_loss: 0.0090 - val_mae: 0.0689 - val_coeff: 0.3741\n",
      "Epoch 2/300\n",
      "3341/3341 [==============================] - 0s 84us/sample - loss: 0.0083 - mae: 0.0664 - coeff: 0.3332 - val_loss: 0.0085 - val_mae: 0.0638 - val_coeff: 0.4080\n",
      "Epoch 3/300\n",
      "3341/3341 [==============================] - 0s 75us/sample - loss: 0.0077 - mae: 0.0624 - coeff: 0.4119 - val_loss: 0.0081 - val_mae: 0.0626 - val_coeff: 0.4346\n",
      "Epoch 4/300\n",
      "3341/3341 [==============================] - 0s 64us/sample - loss: 0.0073 - mae: 0.0611 - coeff: 0.4221 - val_loss: 0.0077 - val_mae: 0.0603 - val_coeff: 0.4633\n",
      "Epoch 5/300\n",
      "3341/3341 [==============================] - 0s 51us/sample - loss: 0.0071 - mae: 0.0604 - coeff: 0.4556 - val_loss: 0.0078 - val_mae: 0.0595 - val_coeff: 0.4588\n",
      "Epoch 6/300\n",
      "3341/3341 [==============================] - 0s 51us/sample - loss: 0.0068 - mae: 0.0591 - coeff: 0.4831 - val_loss: 0.0075 - val_mae: 0.0578 - val_coeff: 0.4754\n",
      "Epoch 7/300\n",
      "3341/3341 [==============================] - 0s 82us/sample - loss: 0.0066 - mae: 0.0584 - coeff: 0.4830 - val_loss: 0.0075 - val_mae: 0.0578 - val_coeff: 0.4739\n",
      "Epoch 8/300\n",
      "3341/3341 [==============================] - 0s 54us/sample - loss: 0.0065 - mae: 0.0572 - coeff: 0.4910 - val_loss: 0.0068 - val_mae: 0.0599 - val_coeff: 0.5196\n",
      "Epoch 9/300\n",
      "3341/3341 [==============================] - 0s 55us/sample - loss: 0.0065 - mae: 0.0578 - coeff: 0.5054 - val_loss: 0.0074 - val_mae: 0.0576 - val_coeff: 0.4817\n",
      "Epoch 10/300\n",
      "3341/3341 [==============================] - 0s 62us/sample - loss: 0.0063 - mae: 0.0562 - coeff: 0.5059 - val_loss: 0.0066 - val_mae: 0.0572 - val_coeff: 0.5377\n",
      "Epoch 11/300\n",
      "3341/3341 [==============================] - 0s 55us/sample - loss: 0.0062 - mae: 0.0559 - coeff: 0.5161 - val_loss: 0.0064 - val_mae: 0.0569 - val_coeff: 0.5459\n",
      "Epoch 12/300\n",
      "3341/3341 [==============================] - 0s 68us/sample - loss: 0.0063 - mae: 0.0570 - coeff: 0.5101 - val_loss: 0.0066 - val_mae: 0.0559 - val_coeff: 0.5361\n",
      "Epoch 13/300\n",
      "3341/3341 [==============================] - 0s 56us/sample - loss: 0.0061 - mae: 0.0556 - coeff: 0.5252 - val_loss: 0.0073 - val_mae: 0.0577 - val_coeff: 0.4884\n",
      "Epoch 14/300\n",
      "3341/3341 [==============================] - 0s 57us/sample - loss: 0.0061 - mae: 0.0556 - coeff: 0.5063 - val_loss: 0.0066 - val_mae: 0.0554 - val_coeff: 0.5353\n",
      "Epoch 15/300\n",
      "3341/3341 [==============================] - 0s 61us/sample - loss: 0.0061 - mae: 0.0553 - coeff: 0.5253 - val_loss: 0.0063 - val_mae: 0.0550 - val_coeff: 0.5586\n",
      "Epoch 16/300\n",
      "3341/3341 [==============================] - 0s 55us/sample - loss: 0.0059 - mae: 0.0547 - coeff: 0.5278 - val_loss: 0.0065 - val_mae: 0.0552 - val_coeff: 0.5471\n",
      "Epoch 17/300\n",
      "3341/3341 [==============================] - 0s 63us/sample - loss: 0.0060 - mae: 0.0553 - coeff: 0.5134 - val_loss: 0.0072 - val_mae: 0.0572 - val_coeff: 0.4958\n",
      "Epoch 18/300\n",
      "3341/3341 [==============================] - 0s 59us/sample - loss: 0.0062 - mae: 0.0555 - coeff: 0.5018 - val_loss: 0.0062 - val_mae: 0.0559 - val_coeff: 0.5603\n",
      "Epoch 19/300\n",
      "3341/3341 [==============================] - 0s 60us/sample - loss: 0.0059 - mae: 0.0546 - coeff: 0.4950 - val_loss: 0.0061 - val_mae: 0.0545 - val_coeff: 0.5687\n",
      "Epoch 20/300\n",
      "3341/3341 [==============================] - 0s 59us/sample - loss: 0.0059 - mae: 0.0545 - coeff: 0.5334 - val_loss: 0.0062 - val_mae: 0.0551 - val_coeff: 0.5648\n",
      "Epoch 21/300\n",
      "3341/3341 [==============================] - 0s 56us/sample - loss: 0.0059 - mae: 0.0545 - coeff: 0.5302 - val_loss: 0.0063 - val_mae: 0.0584 - val_coeff: 0.5567\n",
      "Epoch 22/300\n",
      "3341/3341 [==============================] - 0s 61us/sample - loss: 0.0069 - mae: 0.0606 - coeff: 0.4571 - val_loss: 0.0074 - val_mae: 0.0576 - val_coeff: 0.4831\n",
      "Epoch 23/300\n",
      "3341/3341 [==============================] - 0s 57us/sample - loss: 0.0060 - mae: 0.0553 - coeff: 0.5189 - val_loss: 0.0068 - val_mae: 0.0559 - val_coeff: 0.5254\n",
      "Epoch 24/300\n",
      "3341/3341 [==============================] - 0s 56us/sample - loss: 0.0057 - mae: 0.0538 - coeff: 0.5505 - val_loss: 0.0061 - val_mae: 0.0544 - val_coeff: 0.5725\n",
      "Epoch 25/300\n",
      "3341/3341 [==============================] - 0s 52us/sample - loss: 0.0058 - mae: 0.0537 - coeff: 0.5508 - val_loss: 0.0061 - val_mae: 0.0548 - val_coeff: 0.5693\n",
      "Epoch 26/300\n",
      "3341/3341 [==============================] - 0s 64us/sample - loss: 0.0058 - mae: 0.0537 - coeff: 0.5400 - val_loss: 0.0063 - val_mae: 0.0542 - val_coeff: 0.5593\n",
      "Epoch 27/300\n",
      "3341/3341 [==============================] - 0s 56us/sample - loss: 0.0057 - mae: 0.0534 - coeff: 0.5482 - val_loss: 0.0061 - val_mae: 0.0540 - val_coeff: 0.5672\n",
      "Epoch 28/300\n",
      "3341/3341 [==============================] - 0s 56us/sample - loss: 0.0058 - mae: 0.0542 - coeff: 0.5367 - val_loss: 0.0066 - val_mae: 0.0549 - val_coeff: 0.5365\n",
      "Epoch 29/300\n",
      "3341/3341 [==============================] - 0s 63us/sample - loss: 0.0059 - mae: 0.0544 - coeff: 0.5376 - val_loss: 0.0061 - val_mae: 0.0541 - val_coeff: 0.5738\n",
      "Epoch 30/300\n",
      "3341/3341 [==============================] - 0s 55us/sample - loss: 0.0057 - mae: 0.0537 - coeff: 0.5530 - val_loss: 0.0061 - val_mae: 0.0545 - val_coeff: 0.5657\n",
      "Epoch 31/300\n",
      "3341/3341 [==============================] - 0s 57us/sample - loss: 0.0056 - mae: 0.0532 - coeff: 0.5615 - val_loss: 0.0064 - val_mae: 0.0543 - val_coeff: 0.5524\n",
      "Epoch 32/300\n",
      "3341/3341 [==============================] - 0s 69us/sample - loss: 0.0058 - mae: 0.0547 - coeff: 0.5448 - val_loss: 0.0060 - val_mae: 0.0542 - val_coeff: 0.5768\n",
      "Epoch 33/300\n",
      "3341/3341 [==============================] - 0s 56us/sample - loss: 0.0057 - mae: 0.0538 - coeff: 0.5395 - val_loss: 0.0063 - val_mae: 0.0603 - val_coeff: 0.5515\n",
      "Epoch 34/300\n",
      "3341/3341 [==============================] - 0s 58us/sample - loss: 0.0060 - mae: 0.0562 - coeff: 0.5294 - val_loss: 0.0064 - val_mae: 0.0546 - val_coeff: 0.5488\n",
      "Epoch 35/300\n",
      "3341/3341 [==============================] - 0s 54us/sample - loss: 0.0056 - mae: 0.0530 - coeff: 0.5343 - val_loss: 0.0060 - val_mae: 0.0541 - val_coeff: 0.5748\n",
      "Epoch 36/300\n",
      "3341/3341 [==============================] - 0s 58us/sample - loss: 0.0056 - mae: 0.0528 - coeff: 0.5579 - val_loss: 0.0060 - val_mae: 0.0555 - val_coeff: 0.5756\n",
      "Epoch 37/300\n",
      "3341/3341 [==============================] - 0s 59us/sample - loss: 0.0057 - mae: 0.0533 - coeff: 0.5290 - val_loss: 0.0063 - val_mae: 0.0592 - val_coeff: 0.5483\n",
      "Epoch 38/300\n",
      "3341/3341 [==============================] - 0s 56us/sample - loss: 0.0059 - mae: 0.0551 - coeff: 0.5259 - val_loss: 0.0070 - val_mae: 0.0561 - val_coeff: 0.5110\n",
      "Epoch 39/300\n",
      "3341/3341 [==============================] - 0s 55us/sample - loss: 0.0057 - mae: 0.0536 - coeff: 0.5619 - val_loss: 0.0063 - val_mae: 0.0579 - val_coeff: 0.5498\n",
      "Epoch 40/300\n",
      "3341/3341 [==============================] - 0s 58us/sample - loss: 0.0056 - mae: 0.0534 - coeff: 0.5649 - val_loss: 0.0059 - val_mae: 0.0533 - val_coeff: 0.5813\n",
      "Epoch 41/300\n",
      "3341/3341 [==============================] - 0s 58us/sample - loss: 0.0056 - mae: 0.0533 - coeff: 0.5588 - val_loss: 0.0059 - val_mae: 0.0549 - val_coeff: 0.5819\n",
      "Epoch 42/300\n",
      "3341/3341 [==============================] - 0s 62us/sample - loss: 0.0057 - mae: 0.0537 - coeff: 0.5636 - val_loss: 0.0076 - val_mae: 0.0593 - val_coeff: 0.4636\n",
      "Epoch 43/300\n",
      "3341/3341 [==============================] - 0s 53us/sample - loss: 0.0056 - mae: 0.0533 - coeff: 0.5707 - val_loss: 0.0065 - val_mae: 0.0545 - val_coeff: 0.5448\n",
      "Epoch 44/300\n",
      "3341/3341 [==============================] - 0s 51us/sample - loss: 0.0059 - mae: 0.0546 - coeff: 0.5411 - val_loss: 0.0062 - val_mae: 0.0572 - val_coeff: 0.5561\n",
      "Epoch 45/300\n",
      "3341/3341 [==============================] - 0s 63us/sample - loss: 0.0057 - mae: 0.0546 - coeff: 0.5402 - val_loss: 0.0067 - val_mae: 0.0551 - val_coeff: 0.5295\n",
      "Epoch 46/300\n",
      "3341/3341 [==============================] - 0s 59us/sample - loss: 0.0057 - mae: 0.0531 - coeff: 0.5549 - val_loss: 0.0061 - val_mae: 0.0538 - val_coeff: 0.5705\n",
      "Epoch 47/300\n"
     ]
    },
    {
     "name": "stdout",
     "output_type": "stream",
     "text": [
      "3341/3341 [==============================] - 0s 58us/sample - loss: 0.0055 - mae: 0.0526 - coeff: 0.5688 - val_loss: 0.0068 - val_mae: 0.0566 - val_coeff: 0.5196\n",
      "Epoch 48/300\n",
      "3341/3341 [==============================] - 0s 51us/sample - loss: 0.0056 - mae: 0.0531 - coeff: 0.5704 - val_loss: 0.0061 - val_mae: 0.0537 - val_coeff: 0.5707\n",
      "Epoch 49/300\n",
      "3341/3341 [==============================] - 0s 49us/sample - loss: 0.0055 - mae: 0.0526 - coeff: 0.5691 - val_loss: 0.0059 - val_mae: 0.0550 - val_coeff: 0.5830\n",
      "Epoch 50/300\n",
      "3341/3341 [==============================] - 0s 61us/sample - loss: 0.0055 - mae: 0.0535 - coeff: 0.5735 - val_loss: 0.0063 - val_mae: 0.0548 - val_coeff: 0.5559\n",
      "Epoch 51/300\n",
      "3341/3341 [==============================] - 0s 49us/sample - loss: 0.0056 - mae: 0.0531 - coeff: 0.5700 - val_loss: 0.0060 - val_mae: 0.0535 - val_coeff: 0.5745\n",
      "Epoch 52/300\n",
      "3341/3341 [==============================] - 0s 45us/sample - loss: 0.0054 - mae: 0.0521 - coeff: 0.5608 - val_loss: 0.0062 - val_mae: 0.0589 - val_coeff: 0.5515\n",
      "Epoch 53/300\n",
      "3341/3341 [==============================] - 0s 55us/sample - loss: 0.0062 - mae: 0.0572 - coeff: 0.5225 - val_loss: 0.0062 - val_mae: 0.0536 - val_coeff: 0.5625\n",
      "Epoch 54/300\n",
      "3341/3341 [==============================] - 0s 52us/sample - loss: 0.0055 - mae: 0.0527 - coeff: 0.5729 - val_loss: 0.0058 - val_mae: 0.0543 - val_coeff: 0.5864\n",
      "Epoch 55/300\n",
      "3341/3341 [==============================] - 0s 45us/sample - loss: 0.0056 - mae: 0.0529 - coeff: 0.5711 - val_loss: 0.0066 - val_mae: 0.0554 - val_coeff: 0.5357\n",
      "Epoch 56/300\n",
      "3341/3341 [==============================] - 0s 56us/sample - loss: 0.0055 - mae: 0.0527 - coeff: 0.5719 - val_loss: 0.0058 - val_mae: 0.0541 - val_coeff: 0.5877\n",
      "Epoch 57/300\n",
      "3341/3341 [==============================] - 0s 50us/sample - loss: 0.0056 - mae: 0.0536 - coeff: 0.5681 - val_loss: 0.0062 - val_mae: 0.0541 - val_coeff: 0.5618\n",
      "Epoch 58/300\n",
      "3341/3341 [==============================] - 0s 50us/sample - loss: 0.0055 - mae: 0.0524 - coeff: 0.5778 - val_loss: 0.0059 - val_mae: 0.0540 - val_coeff: 0.5822\n",
      "Epoch 59/300\n",
      "3341/3341 [==============================] - 0s 55us/sample - loss: 0.0054 - mae: 0.0521 - coeff: 0.5525 - val_loss: 0.0058 - val_mae: 0.0527 - val_coeff: 0.5875\n",
      "Epoch 60/300\n",
      "3341/3341 [==============================] - 0s 50us/sample - loss: 0.0055 - mae: 0.0530 - coeff: 0.5517 - val_loss: 0.0062 - val_mae: 0.0556 - val_coeff: 0.5621\n",
      "Epoch 61/300\n",
      "3341/3341 [==============================] - 0s 48us/sample - loss: 0.0055 - mae: 0.0529 - coeff: 0.5671 - val_loss: 0.0059 - val_mae: 0.0531 - val_coeff: 0.5846\n",
      "Epoch 62/300\n",
      "3341/3341 [==============================] - 0s 54us/sample - loss: 0.0054 - mae: 0.0522 - coeff: 0.5809 - val_loss: 0.0064 - val_mae: 0.0542 - val_coeff: 0.5497\n",
      "Epoch 63/300\n",
      "3341/3341 [==============================] - 0s 57us/sample - loss: 0.0055 - mae: 0.0525 - coeff: 0.5803 - val_loss: 0.0058 - val_mae: 0.0528 - val_coeff: 0.5876\n",
      "Epoch 64/300\n",
      "3341/3341 [==============================] - 0s 57us/sample - loss: 0.0054 - mae: 0.0523 - coeff: 0.5700 - val_loss: 0.0065 - val_mae: 0.0550 - val_coeff: 0.5402\n",
      "Epoch 65/300\n",
      "3341/3341 [==============================] - 0s 62us/sample - loss: 0.0055 - mae: 0.0523 - coeff: 0.5696 - val_loss: 0.0059 - val_mae: 0.0538 - val_coeff: 0.5813\n",
      "Epoch 66/300\n",
      "3341/3341 [==============================] - 0s 50us/sample - loss: 0.0055 - mae: 0.0522 - coeff: 0.5697 - val_loss: 0.0060 - val_mae: 0.0540 - val_coeff: 0.5733\n",
      "Epoch 67/300\n",
      "3341/3341 [==============================] - 0s 60us/sample - loss: 0.0054 - mae: 0.0520 - coeff: 0.5865 - val_loss: 0.0059 - val_mae: 0.0528 - val_coeff: 0.5817\n",
      "Epoch 68/300\n",
      "3341/3341 [==============================] - 0s 72us/sample - loss: 0.0054 - mae: 0.0521 - coeff: 0.5802 - val_loss: 0.0059 - val_mae: 0.0531 - val_coeff: 0.5844\n",
      "Epoch 69/300\n",
      "3341/3341 [==============================] - 0s 66us/sample - loss: 0.0055 - mae: 0.0527 - coeff: 0.5749 - val_loss: 0.0066 - val_mae: 0.0547 - val_coeff: 0.5337\n",
      "Epoch 70/300\n",
      "3341/3341 [==============================] - 0s 54us/sample - loss: 0.0055 - mae: 0.0525 - coeff: 0.5761 - val_loss: 0.0062 - val_mae: 0.0533 - val_coeff: 0.5658\n",
      "Epoch 71/300\n",
      "3341/3341 [==============================] - 0s 60us/sample - loss: 0.0057 - mae: 0.0541 - coeff: 0.5348 - val_loss: 0.0059 - val_mae: 0.0527 - val_coeff: 0.5842\n",
      "Epoch 72/300\n",
      "3341/3341 [==============================] - 0s 51us/sample - loss: 0.0054 - mae: 0.0523 - coeff: 0.5775 - val_loss: 0.0061 - val_mae: 0.0533 - val_coeff: 0.5677\n",
      "Epoch 73/300\n",
      "3341/3341 [==============================] - 0s 68us/sample - loss: 0.0055 - mae: 0.0527 - coeff: 0.5729 - val_loss: 0.0062 - val_mae: 0.0535 - val_coeff: 0.5628\n",
      "Epoch 74/300\n",
      "3341/3341 [==============================] - 0s 69us/sample - loss: 0.0055 - mae: 0.0523 - coeff: 0.5692 - val_loss: 0.0061 - val_mae: 0.0559 - val_coeff: 0.5702\n",
      "Epoch 75/300\n",
      "3341/3341 [==============================] - 0s 55us/sample - loss: 0.0054 - mae: 0.0525 - coeff: 0.5850 - val_loss: 0.0060 - val_mae: 0.0540 - val_coeff: 0.5767\n",
      "Epoch 76/300\n",
      "3341/3341 [==============================] - 0s 60us/sample - loss: 0.0054 - mae: 0.0515 - coeff: 0.5853 - val_loss: 0.0059 - val_mae: 0.0552 - val_coeff: 0.5798\n",
      "Epoch 77/300\n",
      "3341/3341 [==============================] - 0s 51us/sample - loss: 0.0054 - mae: 0.0526 - coeff: 0.5718 - val_loss: 0.0067 - val_mae: 0.0551 - val_coeff: 0.5305\n",
      "Epoch 78/300\n",
      "3341/3341 [==============================] - 0s 65us/sample - loss: 0.0057 - mae: 0.0531 - coeff: 0.5537 - val_loss: 0.0060 - val_mae: 0.0548 - val_coeff: 0.5788\n",
      "Epoch 79/300\n",
      "3341/3341 [==============================] - 0s 70us/sample - loss: 0.0054 - mae: 0.0519 - coeff: 0.5791 - val_loss: 0.0058 - val_mae: 0.0525 - val_coeff: 0.5902\n",
      "Epoch 80/300\n",
      "3341/3341 [==============================] - 0s 59us/sample - loss: 0.0054 - mae: 0.0521 - coeff: 0.5863 - val_loss: 0.0060 - val_mae: 0.0536 - val_coeff: 0.5741\n",
      "Epoch 81/300\n",
      "3341/3341 [==============================] - 0s 52us/sample - loss: 0.0053 - mae: 0.0517 - coeff: 0.5795 - val_loss: 0.0062 - val_mae: 0.0535 - val_coeff: 0.5656\n",
      "Epoch 82/300\n",
      "3341/3341 [==============================] - 0s 50us/sample - loss: 0.0054 - mae: 0.0524 - coeff: 0.5753 - val_loss: 0.0060 - val_mae: 0.0546 - val_coeff: 0.5753\n",
      "Epoch 83/300\n",
      "3341/3341 [==============================] - 0s 58us/sample - loss: 0.0054 - mae: 0.0517 - coeff: 0.5755 - val_loss: 0.0057 - val_mae: 0.0532 - val_coeff: 0.5942\n",
      "Epoch 84/300\n",
      "3341/3341 [==============================] - 0s 70us/sample - loss: 0.0054 - mae: 0.0524 - coeff: 0.5782 - val_loss: 0.0059 - val_mae: 0.0533 - val_coeff: 0.5853\n",
      "Epoch 85/300\n",
      "3341/3341 [==============================] - 0s 55us/sample - loss: 0.0055 - mae: 0.0525 - coeff: 0.5807 - val_loss: 0.0058 - val_mae: 0.0530 - val_coeff: 0.5869\n",
      "Epoch 86/300\n",
      "3341/3341 [==============================] - 0s 51us/sample - loss: 0.0055 - mae: 0.0528 - coeff: 0.5395 - val_loss: 0.0064 - val_mae: 0.0542 - val_coeff: 0.5460\n",
      "Epoch 87/300\n",
      "3341/3341 [==============================] - 0s 60us/sample - loss: 0.0056 - mae: 0.0531 - coeff: 0.5538 - val_loss: 0.0059 - val_mae: 0.0563 - val_coeff: 0.5736\n",
      "Epoch 88/300\n",
      "3341/3341 [==============================] - 0s 69us/sample - loss: 0.0054 - mae: 0.0528 - coeff: 0.5766 - val_loss: 0.0060 - val_mae: 0.0565 - val_coeff: 0.5760\n",
      "Epoch 89/300\n",
      "3341/3341 [==============================] - 0s 77us/sample - loss: 0.0054 - mae: 0.0524 - coeff: 0.5791 - val_loss: 0.0060 - val_mae: 0.0566 - val_coeff: 0.5735\n",
      "Epoch 90/300\n",
      "3341/3341 [==============================] - 0s 59us/sample - loss: 0.0056 - mae: 0.0541 - coeff: 0.5624 - val_loss: 0.0062 - val_mae: 0.0531 - val_coeff: 0.5632\n",
      "Epoch 91/300\n",
      "3341/3341 [==============================] - 0s 55us/sample - loss: 0.0054 - mae: 0.0523 - coeff: 0.5383 - val_loss: 0.0062 - val_mae: 0.0533 - val_coeff: 0.5631\n",
      "Epoch 92/300\n",
      "3341/3341 [==============================] - 0s 45us/sample - loss: 0.0054 - mae: 0.0518 - coeff: 0.5693 - val_loss: 0.0058 - val_mae: 0.0541 - val_coeff: 0.5885\n",
      "Epoch 93/300\n",
      "3341/3341 [==============================] - 0s 57us/sample - loss: 0.0055 - mae: 0.0532 - coeff: 0.5727 - val_loss: 0.0061 - val_mae: 0.0532 - val_coeff: 0.5688\n"
     ]
    },
    {
     "name": "stdout",
     "output_type": "stream",
     "text": [
      "Epoch 94/300\n",
      "3341/3341 [==============================] - 0s 75us/sample - loss: 0.0054 - mae: 0.0519 - coeff: 0.5805 - val_loss: 0.0059 - val_mae: 0.0558 - val_coeff: 0.5803\n",
      "Epoch 95/300\n",
      "3341/3341 [==============================] - 0s 49us/sample - loss: 0.0054 - mae: 0.0520 - coeff: 0.5801 - val_loss: 0.0062 - val_mae: 0.0535 - val_coeff: 0.5618\n",
      "Epoch 96/300\n",
      "3341/3341 [==============================] - 0s 52us/sample - loss: 0.0053 - mae: 0.0519 - coeff: 0.5816 - val_loss: 0.0063 - val_mae: 0.0534 - val_coeff: 0.5588\n",
      "Epoch 97/300\n",
      "3341/3341 [==============================] - 0s 55us/sample - loss: 0.0055 - mae: 0.0529 - coeff: 0.5768 - val_loss: 0.0069 - val_mae: 0.0558 - val_coeff: 0.5179\n",
      "Epoch 98/300\n",
      "3341/3341 [==============================] - 0s 47us/sample - loss: 0.0053 - mae: 0.0515 - coeff: 0.5767 - val_loss: 0.0059 - val_mae: 0.0528 - val_coeff: 0.5855\n",
      "Epoch 99/300\n",
      "3341/3341 [==============================] - 0s 65us/sample - loss: 0.0054 - mae: 0.0520 - coeff: 0.5705 - val_loss: 0.0059 - val_mae: 0.0532 - val_coeff: 0.5846\n",
      "Epoch 100/300\n",
      "3341/3341 [==============================] - 0s 58us/sample - loss: 0.0054 - mae: 0.0524 - coeff: 0.5756 - val_loss: 0.0059 - val_mae: 0.0539 - val_coeff: 0.5819\n",
      "Epoch 101/300\n",
      "3341/3341 [==============================] - 0s 53us/sample - loss: 0.0054 - mae: 0.0519 - coeff: 0.5867 - val_loss: 0.0059 - val_mae: 0.0535 - val_coeff: 0.5858\n",
      "Epoch 102/300\n",
      "3341/3341 [==============================] - 0s 61us/sample - loss: 0.0054 - mae: 0.0526 - coeff: 0.5808 - val_loss: 0.0059 - val_mae: 0.0529 - val_coeff: 0.5832\n",
      "Epoch 103/300\n",
      "3341/3341 [==============================] - 0s 45us/sample - loss: 0.0054 - mae: 0.0523 - coeff: 0.5678 - val_loss: 0.0063 - val_mae: 0.0547 - val_coeff: 0.5577\n",
      "Epoch 104/300\n",
      "3341/3341 [==============================] - 0s 50us/sample - loss: 0.0055 - mae: 0.0530 - coeff: 0.5635 - val_loss: 0.0062 - val_mae: 0.0531 - val_coeff: 0.5676\n",
      "Epoch 105/300\n",
      "3341/3341 [==============================] - 0s 52us/sample - loss: 0.0054 - mae: 0.0523 - coeff: 0.5508 - val_loss: 0.0058 - val_mae: 0.0531 - val_coeff: 0.5912\n",
      "Epoch 106/300\n",
      "3341/3341 [==============================] - 0s 46us/sample - loss: 0.0054 - mae: 0.0518 - coeff: 0.5795 - val_loss: 0.0059 - val_mae: 0.0528 - val_coeff: 0.5830\n",
      "Epoch 107/300\n",
      "3341/3341 [==============================] - 0s 47us/sample - loss: 0.0054 - mae: 0.0518 - coeff: 0.5804 - val_loss: 0.0057 - val_mae: 0.0537 - val_coeff: 0.5956\n",
      "Epoch 108/300\n",
      "3341/3341 [==============================] - 0s 48us/sample - loss: 0.0055 - mae: 0.0530 - coeff: 0.5703 - val_loss: 0.0064 - val_mae: 0.0535 - val_coeff: 0.5507\n",
      "Epoch 109/300\n",
      "3341/3341 [==============================] - 0s 49us/sample - loss: 0.0053 - mae: 0.0515 - coeff: 0.5720 - val_loss: 0.0059 - val_mae: 0.0530 - val_coeff: 0.5854\n",
      "Epoch 110/300\n",
      "3341/3341 [==============================] - 0s 46us/sample - loss: 0.0053 - mae: 0.0515 - coeff: 0.5789 - val_loss: 0.0062 - val_mae: 0.0541 - val_coeff: 0.5653\n",
      "Epoch 111/300\n",
      "3341/3341 [==============================] - 0s 55us/sample - loss: 0.0055 - mae: 0.0522 - coeff: 0.5684 - val_loss: 0.0058 - val_mae: 0.0540 - val_coeff: 0.5898\n",
      "Epoch 112/300\n",
      "3341/3341 [==============================] - 0s 45us/sample - loss: 0.0054 - mae: 0.0528 - coeff: 0.5725 - val_loss: 0.0065 - val_mae: 0.0540 - val_coeff: 0.5474\n",
      "Epoch 113/300\n",
      "3341/3341 [==============================] - 0s 46us/sample - loss: 0.0053 - mae: 0.0517 - coeff: 0.5969 - val_loss: 0.0060 - val_mae: 0.0535 - val_coeff: 0.5756\n",
      "Epoch 114/300\n",
      "3341/3341 [==============================] - 0s 44us/sample - loss: 0.0053 - mae: 0.0519 - coeff: 0.5858 - val_loss: 0.0060 - val_mae: 0.0534 - val_coeff: 0.5736\n",
      "Epoch 115/300\n",
      "3341/3341 [==============================] - 0s 49us/sample - loss: 0.0054 - mae: 0.0527 - coeff: 0.5776 - val_loss: 0.0071 - val_mae: 0.0574 - val_coeff: 0.5011\n",
      "Epoch 116/300\n",
      "3341/3341 [==============================] - 0s 44us/sample - loss: 0.0056 - mae: 0.0532 - coeff: 0.5652 - val_loss: 0.0060 - val_mae: 0.0530 - val_coeff: 0.5760\n",
      "Epoch 117/300\n",
      "3341/3341 [==============================] - 0s 54us/sample - loss: 0.0053 - mae: 0.0517 - coeff: 0.5846 - val_loss: 0.0068 - val_mae: 0.0549 - val_coeff: 0.5212\n",
      "Epoch 118/300\n",
      "3341/3341 [==============================] - 0s 50us/sample - loss: 0.0053 - mae: 0.0512 - coeff: 0.5880 - val_loss: 0.0056 - val_mae: 0.0527 - val_coeff: 0.5989\n",
      "Epoch 119/300\n",
      "3341/3341 [==============================] - 0s 48us/sample - loss: 0.0053 - mae: 0.0516 - coeff: 0.5740 - val_loss: 0.0062 - val_mae: 0.0540 - val_coeff: 0.5618\n",
      "Epoch 120/300\n",
      "3341/3341 [==============================] - 0s 50us/sample - loss: 0.0055 - mae: 0.0528 - coeff: 0.5754 - val_loss: 0.0058 - val_mae: 0.0531 - val_coeff: 0.5861\n",
      "Epoch 121/300\n",
      "3341/3341 [==============================] - 0s 52us/sample - loss: 0.0052 - mae: 0.0511 - coeff: 0.5918 - val_loss: 0.0059 - val_mae: 0.0525 - val_coeff: 0.5862\n",
      "Epoch 122/300\n",
      "3341/3341 [==============================] - 0s 49us/sample - loss: 0.0054 - mae: 0.0523 - coeff: 0.5829 - val_loss: 0.0058 - val_mae: 0.0527 - val_coeff: 0.5904\n",
      "Epoch 123/300\n",
      "3341/3341 [==============================] - 0s 57us/sample - loss: 0.0052 - mae: 0.0511 - coeff: 0.5900 - val_loss: 0.0063 - val_mae: 0.0533 - val_coeff: 0.5595\n",
      "Epoch 124/300\n",
      "3341/3341 [==============================] - 0s 59us/sample - loss: 0.0052 - mae: 0.0517 - coeff: 0.5930 - val_loss: 0.0058 - val_mae: 0.0531 - val_coeff: 0.5857\n",
      "Epoch 125/300\n",
      "3341/3341 [==============================] - 0s 71us/sample - loss: 0.0052 - mae: 0.0514 - coeff: 0.5928 - val_loss: 0.0058 - val_mae: 0.0525 - val_coeff: 0.5870\n",
      "Epoch 126/300\n",
      "3341/3341 [==============================] - 0s 54us/sample - loss: 0.0052 - mae: 0.0510 - coeff: 0.5966 - val_loss: 0.0059 - val_mae: 0.0555 - val_coeff: 0.5825\n",
      "Epoch 127/300\n",
      "3341/3341 [==============================] - 0s 62us/sample - loss: 0.0055 - mae: 0.0526 - coeff: 0.5730 - val_loss: 0.0060 - val_mae: 0.0525 - val_coeff: 0.5799\n",
      "Epoch 128/300\n",
      "3341/3341 [==============================] - 0s 63us/sample - loss: 0.0054 - mae: 0.0525 - coeff: 0.5859 - val_loss: 0.0059 - val_mae: 0.0542 - val_coeff: 0.5808\n",
      "Epoch 129/300\n",
      "3341/3341 [==============================] - 0s 57us/sample - loss: 0.0053 - mae: 0.0516 - coeff: 0.5879 - val_loss: 0.0060 - val_mae: 0.0535 - val_coeff: 0.5736\n",
      "Epoch 130/300\n",
      "3341/3341 [==============================] - 0s 56us/sample - loss: 0.0053 - mae: 0.0518 - coeff: 0.5879 - val_loss: 0.0058 - val_mae: 0.0526 - val_coeff: 0.5882\n",
      "Epoch 131/300\n",
      "3341/3341 [==============================] - 0s 66us/sample - loss: 0.0052 - mae: 0.0513 - coeff: 0.5860 - val_loss: 0.0060 - val_mae: 0.0526 - val_coeff: 0.5784\n",
      "Epoch 132/300\n",
      "3341/3341 [==============================] - 0s 69us/sample - loss: 0.0052 - mae: 0.0515 - coeff: 0.5960 - val_loss: 0.0059 - val_mae: 0.0530 - val_coeff: 0.5862\n",
      "Epoch 133/300\n",
      "3341/3341 [==============================] - 0s 73us/sample - loss: 0.0052 - mae: 0.0515 - coeff: 0.5960 - val_loss: 0.0058 - val_mae: 0.0527 - val_coeff: 0.5889\n",
      "Epoch 134/300\n",
      "3341/3341 [==============================] - 0s 58us/sample - loss: 0.0053 - mae: 0.0515 - coeff: 0.5915 - val_loss: 0.0058 - val_mae: 0.0539 - val_coeff: 0.5876\n",
      "Epoch 135/300\n",
      "3341/3341 [==============================] - 0s 61us/sample - loss: 0.0052 - mae: 0.0515 - coeff: 0.5441 - val_loss: 0.0061 - val_mae: 0.0534 - val_coeff: 0.5685\n",
      "Epoch 136/300\n",
      "3341/3341 [==============================] - 0s 55us/sample - loss: 0.0053 - mae: 0.0514 - coeff: 0.5934 - val_loss: 0.0059 - val_mae: 0.0564 - val_coeff: 0.5794\n",
      "Epoch 137/300\n",
      "3341/3341 [==============================] - 0s 53us/sample - loss: 0.0054 - mae: 0.0533 - coeff: 0.5631 - val_loss: 0.0060 - val_mae: 0.0527 - val_coeff: 0.5783\n",
      "Epoch 138/300\n",
      "3341/3341 [==============================] - 0s 75us/sample - loss: 0.0053 - mae: 0.0519 - coeff: 0.5823 - val_loss: 0.0066 - val_mae: 0.0549 - val_coeff: 0.5370\n",
      "Epoch 139/300\n",
      "3341/3341 [==============================] - 0s 48us/sample - loss: 0.0052 - mae: 0.0512 - coeff: 0.6024 - val_loss: 0.0058 - val_mae: 0.0528 - val_coeff: 0.5922\n",
      "Epoch 140/300\n"
     ]
    },
    {
     "name": "stdout",
     "output_type": "stream",
     "text": [
      "3341/3341 [==============================] - 0s 56us/sample - loss: 0.0051 - mae: 0.0510 - coeff: 0.6013 - val_loss: 0.0058 - val_mae: 0.0525 - val_coeff: 0.5936\n",
      "Epoch 141/300\n",
      "3341/3341 [==============================] - 0s 57us/sample - loss: 0.0052 - mae: 0.0515 - coeff: 0.5899 - val_loss: 0.0062 - val_mae: 0.0532 - val_coeff: 0.5652\n",
      "Epoch 142/300\n",
      "3341/3341 [==============================] - 0s 47us/sample - loss: 0.0058 - mae: 0.0541 - coeff: 0.5404 - val_loss: 0.0062 - val_mae: 0.0542 - val_coeff: 0.5598\n",
      "Epoch 143/300\n",
      "3341/3341 [==============================] - 0s 63us/sample - loss: 0.0052 - mae: 0.0512 - coeff: 0.5971 - val_loss: 0.0059 - val_mae: 0.0550 - val_coeff: 0.5808\n",
      "Epoch 144/300\n",
      "3341/3341 [==============================] - 0s 48us/sample - loss: 0.0052 - mae: 0.0515 - coeff: 0.5925 - val_loss: 0.0058 - val_mae: 0.0531 - val_coeff: 0.5895\n",
      "Epoch 145/300\n",
      "3341/3341 [==============================] - 0s 57us/sample - loss: 0.0052 - mae: 0.0513 - coeff: 0.5963 - val_loss: 0.0063 - val_mae: 0.0530 - val_coeff: 0.5612\n",
      "Epoch 146/300\n",
      "3341/3341 [==============================] - 0s 55us/sample - loss: 0.0052 - mae: 0.0511 - coeff: 0.5796 - val_loss: 0.0061 - val_mae: 0.0530 - val_coeff: 0.5733\n",
      "Epoch 147/300\n",
      "3341/3341 [==============================] - 0s 59us/sample - loss: 0.0052 - mae: 0.0510 - coeff: 0.5828 - val_loss: 0.0058 - val_mae: 0.0543 - val_coeff: 0.5882\n",
      "Epoch 148/300\n",
      "3341/3341 [==============================] - 0s 54us/sample - loss: 0.0053 - mae: 0.0517 - coeff: 0.5834 - val_loss: 0.0058 - val_mae: 0.0535 - val_coeff: 0.5919\n",
      "Epoch 149/300\n",
      "3341/3341 [==============================] - 0s 59us/sample - loss: 0.0053 - mae: 0.0521 - coeff: 0.5848 - val_loss: 0.0064 - val_mae: 0.0547 - val_coeff: 0.5475\n",
      "Epoch 150/300\n",
      "3341/3341 [==============================] - 0s 73us/sample - loss: 0.0058 - mae: 0.0545 - coeff: 0.5393 - val_loss: 0.0060 - val_mae: 0.0526 - val_coeff: 0.5818\n",
      "Epoch 151/300\n",
      "3341/3341 [==============================] - 0s 55us/sample - loss: 0.0055 - mae: 0.0529 - coeff: 0.5566 - val_loss: 0.0058 - val_mae: 0.0540 - val_coeff: 0.5897\n",
      "Epoch 152/300\n",
      "3341/3341 [==============================] - 0s 61us/sample - loss: 0.0052 - mae: 0.0515 - coeff: 0.5842 - val_loss: 0.0059 - val_mae: 0.0538 - val_coeff: 0.5811\n",
      "Epoch 153/300\n",
      "3341/3341 [==============================] - 0s 56us/sample - loss: 0.0052 - mae: 0.0515 - coeff: 0.5988 - val_loss: 0.0064 - val_mae: 0.0533 - val_coeff: 0.5537\n",
      "Epoch 154/300\n",
      "3341/3341 [==============================] - 0s 74us/sample - loss: 0.0052 - mae: 0.0506 - coeff: 0.5826 - val_loss: 0.0061 - val_mae: 0.0534 - val_coeff: 0.5713\n",
      "Epoch 155/300\n",
      "3341/3341 [==============================] - 0s 72us/sample - loss: 0.0052 - mae: 0.0515 - coeff: 0.5851 - val_loss: 0.0058 - val_mae: 0.0535 - val_coeff: 0.5895\n",
      "Epoch 156/300\n",
      "3341/3341 [==============================] - 0s 85us/sample - loss: 0.0052 - mae: 0.0515 - coeff: 0.5821 - val_loss: 0.0064 - val_mae: 0.0536 - val_coeff: 0.5540\n",
      "Epoch 157/300\n",
      "3341/3341 [==============================] - 0s 99us/sample - loss: 0.0052 - mae: 0.0512 - coeff: 0.5840 - val_loss: 0.0061 - val_mae: 0.0528 - val_coeff: 0.5691\n",
      "Epoch 158/300\n",
      "3341/3341 [==============================] - 0s 75us/sample - loss: 0.0051 - mae: 0.0504 - coeff: 0.6077 - val_loss: 0.0059 - val_mae: 0.0530 - val_coeff: 0.5875\n",
      "Epoch 159/300\n",
      "3341/3341 [==============================] - 0s 63us/sample - loss: 0.0053 - mae: 0.0517 - coeff: 0.5832 - val_loss: 0.0057 - val_mae: 0.0533 - val_coeff: 0.5942\n",
      "Epoch 160/300\n",
      "3341/3341 [==============================] - 0s 59us/sample - loss: 0.0053 - mae: 0.0521 - coeff: 0.5832 - val_loss: 0.0063 - val_mae: 0.0533 - val_coeff: 0.5568\n",
      "Epoch 161/300\n",
      "3341/3341 [==============================] - 0s 62us/sample - loss: 0.0051 - mae: 0.0506 - coeff: 0.6019 - val_loss: 0.0059 - val_mae: 0.0544 - val_coeff: 0.5812\n",
      "Epoch 162/300\n",
      "3341/3341 [==============================] - 0s 63us/sample - loss: 0.0051 - mae: 0.0510 - coeff: 0.6041 - val_loss: 0.0059 - val_mae: 0.0531 - val_coeff: 0.5840\n",
      "Epoch 163/300\n",
      "3341/3341 [==============================] - 0s 57us/sample - loss: 0.0051 - mae: 0.0507 - coeff: 0.6061 - val_loss: 0.0063 - val_mae: 0.0541 - val_coeff: 0.5569\n",
      "Epoch 164/300\n",
      "3341/3341 [==============================] - 0s 54us/sample - loss: 0.0052 - mae: 0.0513 - coeff: 0.5988 - val_loss: 0.0059 - val_mae: 0.0527 - val_coeff: 0.5802\n",
      "Epoch 165/300\n",
      "3341/3341 [==============================] - 0s 60us/sample - loss: 0.0052 - mae: 0.0513 - coeff: 0.5968 - val_loss: 0.0059 - val_mae: 0.0543 - val_coeff: 0.5814\n",
      "Epoch 166/300\n",
      "3341/3341 [==============================] - 0s 59us/sample - loss: 0.0052 - mae: 0.0512 - coeff: 0.5788 - val_loss: 0.0064 - val_mae: 0.0546 - val_coeff: 0.5538\n",
      "Epoch 167/300\n",
      "3341/3341 [==============================] - 0s 56us/sample - loss: 0.0052 - mae: 0.0514 - coeff: 0.5823 - val_loss: 0.0063 - val_mae: 0.0539 - val_coeff: 0.5603\n",
      "Epoch 168/300\n",
      "3341/3341 [==============================] - 0s 64us/sample - loss: 0.0051 - mae: 0.0503 - coeff: 0.6018 - val_loss: 0.0061 - val_mae: 0.0571 - val_coeff: 0.5649\n",
      "Epoch 169/300\n",
      "3341/3341 [==============================] - 0s 65us/sample - loss: 0.0052 - mae: 0.0520 - coeff: 0.5983 - val_loss: 0.0059 - val_mae: 0.0524 - val_coeff: 0.5878\n",
      "Epoch 170/300\n",
      "3341/3341 [==============================] - 0s 65us/sample - loss: 0.0051 - mae: 0.0508 - coeff: 0.5995 - val_loss: 0.0058 - val_mae: 0.0532 - val_coeff: 0.5871\n",
      "Epoch 171/300\n",
      "3341/3341 [==============================] - 0s 68us/sample - loss: 0.0051 - mae: 0.0510 - coeff: 0.6051 - val_loss: 0.0064 - val_mae: 0.0542 - val_coeff: 0.5533\n",
      "Epoch 172/300\n",
      "3341/3341 [==============================] - 0s 60us/sample - loss: 0.0052 - mae: 0.0512 - coeff: 0.6087 - val_loss: 0.0064 - val_mae: 0.0541 - val_coeff: 0.5530\n",
      "Epoch 173/300\n",
      "3341/3341 [==============================] - 0s 60us/sample - loss: 0.0051 - mae: 0.0510 - coeff: 0.6002 - val_loss: 0.0059 - val_mae: 0.0543 - val_coeff: 0.5843\n",
      "Epoch 174/300\n",
      "3341/3341 [==============================] - 0s 59us/sample - loss: 0.0051 - mae: 0.0507 - coeff: 0.6051 - val_loss: 0.0063 - val_mae: 0.0540 - val_coeff: 0.5547\n",
      "Epoch 175/300\n",
      "3341/3341 [==============================] - 0s 50us/sample - loss: 0.0052 - mae: 0.0513 - coeff: 0.5859 - val_loss: 0.0060 - val_mae: 0.0537 - val_coeff: 0.5773\n",
      "Epoch 176/300\n",
      "3341/3341 [==============================] - 0s 77us/sample - loss: 0.0052 - mae: 0.0511 - coeff: 0.5980 - val_loss: 0.0060 - val_mae: 0.0547 - val_coeff: 0.5798\n",
      "Epoch 177/300\n",
      "3341/3341 [==============================] - 0s 53us/sample - loss: 0.0051 - mae: 0.0509 - coeff: 0.6024 - val_loss: 0.0060 - val_mae: 0.0530 - val_coeff: 0.5764\n",
      "Epoch 178/300\n",
      "3341/3341 [==============================] - 0s 51us/sample - loss: 0.0050 - mae: 0.0503 - coeff: 0.6054 - val_loss: 0.0060 - val_mae: 0.0543 - val_coeff: 0.5751\n",
      "Epoch 179/300\n",
      "3341/3341 [==============================] - 0s 53us/sample - loss: 0.0051 - mae: 0.0509 - coeff: 0.6115 - val_loss: 0.0060 - val_mae: 0.0541 - val_coeff: 0.5764\n",
      "Epoch 180/300\n",
      "3341/3341 [==============================] - 0s 48us/sample - loss: 0.0050 - mae: 0.0503 - coeff: 0.5879 - val_loss: 0.0065 - val_mae: 0.0546 - val_coeff: 0.5459\n",
      "Epoch 181/300\n",
      "3341/3341 [==============================] - 0s 69us/sample - loss: 0.0051 - mae: 0.0510 - coeff: 0.5925 - val_loss: 0.0063 - val_mae: 0.0532 - val_coeff: 0.5613\n",
      "Epoch 182/300\n",
      "3341/3341 [==============================] - 0s 74us/sample - loss: 0.0050 - mae: 0.0502 - coeff: 0.5889 - val_loss: 0.0064 - val_mae: 0.0536 - val_coeff: 0.5558\n",
      "Epoch 183/300\n",
      "3341/3341 [==============================] - 0s 69us/sample - loss: 0.0050 - mae: 0.0506 - coeff: 0.5988 - val_loss: 0.0061 - val_mae: 0.0534 - val_coeff: 0.5718\n",
      "Epoch 184/300\n",
      "3341/3341 [==============================] - 0s 77us/sample - loss: 0.0052 - mae: 0.0514 - coeff: 0.5874 - val_loss: 0.0062 - val_mae: 0.0582 - val_coeff: 0.5600\n",
      "Epoch 185/300\n",
      "3341/3341 [==============================] - 0s 64us/sample - loss: 0.0055 - mae: 0.0537 - coeff: 0.5488 - val_loss: 0.0071 - val_mae: 0.0558 - val_coeff: 0.5083\n",
      "Epoch 186/300\n"
     ]
    },
    {
     "name": "stdout",
     "output_type": "stream",
     "text": [
      "3341/3341 [==============================] - 0s 54us/sample - loss: 0.0051 - mae: 0.0504 - coeff: 0.5958 - val_loss: 0.0059 - val_mae: 0.0531 - val_coeff: 0.5859\n",
      "Epoch 187/300\n",
      "3341/3341 [==============================] - 0s 51us/sample - loss: 0.0050 - mae: 0.0503 - coeff: 0.6038 - val_loss: 0.0060 - val_mae: 0.0528 - val_coeff: 0.5764\n",
      "Epoch 188/300\n",
      "3341/3341 [==============================] - 0s 53us/sample - loss: 0.0051 - mae: 0.0508 - coeff: 0.6126 - val_loss: 0.0063 - val_mae: 0.0540 - val_coeff: 0.5561\n",
      "Epoch 189/300\n",
      "3341/3341 [==============================] - 0s 52us/sample - loss: 0.0050 - mae: 0.0505 - coeff: 0.6064 - val_loss: 0.0059 - val_mae: 0.0531 - val_coeff: 0.5837\n",
      "Epoch 190/300\n",
      "3341/3341 [==============================] - 0s 50us/sample - loss: 0.0050 - mae: 0.0503 - coeff: 0.6137 - val_loss: 0.0064 - val_mae: 0.0537 - val_coeff: 0.5500\n",
      "Epoch 191/300\n",
      "3341/3341 [==============================] - 0s 61us/sample - loss: 0.0051 - mae: 0.0512 - coeff: 0.5910 - val_loss: 0.0063 - val_mae: 0.0604 - val_coeff: 0.5475\n",
      "Epoch 192/300\n",
      "3341/3341 [==============================] - 0s 55us/sample - loss: 0.0053 - mae: 0.0523 - coeff: 0.5853 - val_loss: 0.0063 - val_mae: 0.0538 - val_coeff: 0.5605\n",
      "Epoch 193/300\n",
      "3341/3341 [==============================] - 0s 48us/sample - loss: 0.0051 - mae: 0.0508 - coeff: 0.5947 - val_loss: 0.0060 - val_mae: 0.0537 - val_coeff: 0.5822\n",
      "Epoch 194/300\n",
      "3341/3341 [==============================] - 0s 51us/sample - loss: 0.0050 - mae: 0.0507 - coeff: 0.5902 - val_loss: 0.0061 - val_mae: 0.0532 - val_coeff: 0.5734\n",
      "Epoch 195/300\n",
      "3341/3341 [==============================] - 0s 49us/sample - loss: 0.0050 - mae: 0.0503 - coeff: 0.6036 - val_loss: 0.0061 - val_mae: 0.0550 - val_coeff: 0.5708\n",
      "Epoch 196/300\n",
      "3341/3341 [==============================] - 0s 58us/sample - loss: 0.0051 - mae: 0.0510 - coeff: 0.6005 - val_loss: 0.0060 - val_mae: 0.0539 - val_coeff: 0.5799\n",
      "Epoch 197/300\n",
      "3341/3341 [==============================] - 0s 49us/sample - loss: 0.0052 - mae: 0.0518 - coeff: 0.5968 - val_loss: 0.0060 - val_mae: 0.0535 - val_coeff: 0.5760\n",
      "Epoch 198/300\n",
      "3341/3341 [==============================] - 0s 60us/sample - loss: 0.0053 - mae: 0.0517 - coeff: 0.5935 - val_loss: 0.0062 - val_mae: 0.0541 - val_coeff: 0.5683\n",
      "Epoch 199/300\n",
      "3341/3341 [==============================] - 0s 50us/sample - loss: 0.0050 - mae: 0.0503 - coeff: 0.6120 - val_loss: 0.0062 - val_mae: 0.0538 - val_coeff: 0.5683\n",
      "Epoch 200/300\n",
      "3341/3341 [==============================] - 0s 51us/sample - loss: 0.0051 - mae: 0.0514 - coeff: 0.5843 - val_loss: 0.0060 - val_mae: 0.0535 - val_coeff: 0.5800\n",
      "Epoch 201/300\n",
      "3341/3341 [==============================] - 0s 54us/sample - loss: 0.0051 - mae: 0.0511 - coeff: 0.5912 - val_loss: 0.0060 - val_mae: 0.0532 - val_coeff: 0.5801\n",
      "Epoch 202/300\n",
      "3341/3341 [==============================] - 0s 56us/sample - loss: 0.0053 - mae: 0.0517 - coeff: 0.5791 - val_loss: 0.0061 - val_mae: 0.0535 - val_coeff: 0.5747\n",
      "Epoch 203/300\n",
      "3341/3341 [==============================] - 0s 53us/sample - loss: 0.0050 - mae: 0.0504 - coeff: 0.6081 - val_loss: 0.0061 - val_mae: 0.0529 - val_coeff: 0.5738\n",
      "Epoch 204/300\n",
      "3341/3341 [==============================] - 0s 57us/sample - loss: 0.0049 - mae: 0.0497 - coeff: 0.6194 - val_loss: 0.0058 - val_mae: 0.0539 - val_coeff: 0.5893\n",
      "Epoch 205/300\n",
      "3341/3341 [==============================] - 0s 48us/sample - loss: 0.0051 - mae: 0.0515 - coeff: 0.5997 - val_loss: 0.0063 - val_mae: 0.0533 - val_coeff: 0.5640\n",
      "Epoch 206/300\n",
      "3341/3341 [==============================] - 0s 51us/sample - loss: 0.0050 - mae: 0.0502 - coeff: 0.6154 - val_loss: 0.0059 - val_mae: 0.0530 - val_coeff: 0.5881\n",
      "Epoch 207/300\n",
      "3341/3341 [==============================] - 0s 49us/sample - loss: 0.0051 - mae: 0.0514 - coeff: 0.5860 - val_loss: 0.0060 - val_mae: 0.0538 - val_coeff: 0.5820\n",
      "Epoch 208/300\n",
      "3341/3341 [==============================] - 0s 53us/sample - loss: 0.0050 - mae: 0.0503 - coeff: 0.6122 - val_loss: 0.0061 - val_mae: 0.0537 - val_coeff: 0.5699\n",
      "Epoch 209/300\n",
      "3341/3341 [==============================] - 0s 53us/sample - loss: 0.0050 - mae: 0.0504 - coeff: 0.6080 - val_loss: 0.0061 - val_mae: 0.0531 - val_coeff: 0.5757\n",
      "Epoch 210/300\n",
      "3341/3341 [==============================] - 0s 48us/sample - loss: 0.0050 - mae: 0.0501 - coeff: 0.6053 - val_loss: 0.0067 - val_mae: 0.0546 - val_coeff: 0.5378\n",
      "Epoch 211/300\n",
      "3341/3341 [==============================] - 0s 55us/sample - loss: 0.0051 - mae: 0.0504 - coeff: 0.6117 - val_loss: 0.0060 - val_mae: 0.0537 - val_coeff: 0.5777\n",
      "Epoch 212/300\n",
      "3341/3341 [==============================] - 0s 58us/sample - loss: 0.0051 - mae: 0.0510 - coeff: 0.6039 - val_loss: 0.0063 - val_mae: 0.0536 - val_coeff: 0.5644\n",
      "Epoch 213/300\n",
      "3341/3341 [==============================] - 0s 69us/sample - loss: 0.0050 - mae: 0.0511 - coeff: 0.6090 - val_loss: 0.0063 - val_mae: 0.0544 - val_coeff: 0.5605\n",
      "Epoch 214/300\n",
      "3341/3341 [==============================] - 0s 73us/sample - loss: 0.0050 - mae: 0.0504 - coeff: 0.6014 - val_loss: 0.0068 - val_mae: 0.0551 - val_coeff: 0.5279\n",
      "Epoch 215/300\n",
      "3341/3341 [==============================] - 0s 68us/sample - loss: 0.0050 - mae: 0.0506 - coeff: 0.6009 - val_loss: 0.0063 - val_mae: 0.0534 - val_coeff: 0.5650\n",
      "Epoch 216/300\n",
      "3341/3341 [==============================] - 0s 75us/sample - loss: 0.0050 - mae: 0.0503 - coeff: 0.6154 - val_loss: 0.0066 - val_mae: 0.0543 - val_coeff: 0.5398\n",
      "Epoch 217/300\n",
      "3341/3341 [==============================] - 0s 107us/sample - loss: 0.0050 - mae: 0.0502 - coeff: 0.5939 - val_loss: 0.0061 - val_mae: 0.0537 - val_coeff: 0.5755\n",
      "Epoch 218/300\n",
      "3341/3341 [==============================] - 0s 70us/sample - loss: 0.0050 - mae: 0.0501 - coeff: 0.5939 - val_loss: 0.0060 - val_mae: 0.0529 - val_coeff: 0.5839\n",
      "Epoch 219/300\n",
      "3341/3341 [==============================] - 0s 53us/sample - loss: 0.0049 - mae: 0.0498 - coeff: 0.6272 - val_loss: 0.0063 - val_mae: 0.0532 - val_coeff: 0.5651\n",
      "Epoch 220/300\n",
      "3341/3341 [==============================] - 0s 48us/sample - loss: 0.0049 - mae: 0.0499 - coeff: 0.6208 - val_loss: 0.0062 - val_mae: 0.0538 - val_coeff: 0.5688\n",
      "Epoch 221/300\n",
      "3341/3341 [==============================] - 0s 125us/sample - loss: 0.0050 - mae: 0.0503 - coeff: 0.6059 - val_loss: 0.0059 - val_mae: 0.0533 - val_coeff: 0.5891\n",
      "Epoch 222/300\n",
      "3341/3341 [==============================] - ETA: 0s - loss: 0.0050 - mae: 0.0505 - coeff: 0.611 - 0s 110us/sample - loss: 0.0049 - mae: 0.0498 - coeff: 0.6210 - val_loss: 0.0060 - val_mae: 0.0545 - val_coeff: 0.5782\n",
      "Epoch 223/300\n",
      "3341/3341 [==============================] - 0s 62us/sample - loss: 0.0051 - mae: 0.0509 - coeff: 0.6078 - val_loss: 0.0067 - val_mae: 0.0549 - val_coeff: 0.5340\n",
      "Epoch 224/300\n",
      "3341/3341 [==============================] - 0s 55us/sample - loss: 0.0050 - mae: 0.0503 - coeff: 0.6089 - val_loss: 0.0059 - val_mae: 0.0530 - val_coeff: 0.5852\n",
      "Epoch 225/300\n",
      "3341/3341 [==============================] - ETA: 0s - loss: 0.0053 - mae: 0.0515 - coeff: 0.587 - 0s 53us/sample - loss: 0.0051 - mae: 0.0509 - coeff: 0.6048 - val_loss: 0.0062 - val_mae: 0.0537 - val_coeff: 0.5680\n",
      "Epoch 226/300\n",
      "3341/3341 [==============================] - 0s 51us/sample - loss: 0.0051 - mae: 0.0515 - coeff: 0.5992 - val_loss: 0.0059 - val_mae: 0.0531 - val_coeff: 0.5831\n",
      "Epoch 227/300\n",
      "3341/3341 [==============================] - 0s 106us/sample - loss: 0.0049 - mae: 0.0499 - coeff: 0.5931 - val_loss: 0.0065 - val_mae: 0.0541 - val_coeff: 0.5488\n",
      "Epoch 228/300\n",
      "3341/3341 [==============================] - 0s 110us/sample - loss: 0.0050 - mae: 0.0503 - coeff: 0.6171 - val_loss: 0.0061 - val_mae: 0.0533 - val_coeff: 0.5738\n",
      "Epoch 229/300\n",
      "3341/3341 [==============================] - 0s 52us/sample - loss: 0.0049 - mae: 0.0494 - coeff: 0.6164 - val_loss: 0.0059 - val_mae: 0.0528 - val_coeff: 0.5860\n",
      "Epoch 230/300\n",
      "3341/3341 [==============================] - 0s 51us/sample - loss: 0.0050 - mae: 0.0505 - coeff: 0.6216 - val_loss: 0.0064 - val_mae: 0.0538 - val_coeff: 0.5556\n",
      "Epoch 231/300\n",
      "3341/3341 [==============================] - 0s 56us/sample - loss: 0.0048 - mae: 0.0494 - coeff: 0.6274 - val_loss: 0.0062 - val_mae: 0.0539 - val_coeff: 0.5666\n"
     ]
    },
    {
     "name": "stdout",
     "output_type": "stream",
     "text": [
      "Epoch 232/300\n",
      "3341/3341 [==============================] - 0s 56us/sample - loss: 0.0049 - mae: 0.0497 - coeff: 0.6042 - val_loss: 0.0059 - val_mae: 0.0530 - val_coeff: 0.5854\n",
      "Epoch 233/300\n",
      "3341/3341 [==============================] - 0s 88us/sample - loss: 0.0049 - mae: 0.0503 - coeff: 0.6031 - val_loss: 0.0067 - val_mae: 0.0554 - val_coeff: 0.5326\n",
      "Epoch 234/300\n",
      "3341/3341 [==============================] - 0s 51us/sample - loss: 0.0051 - mae: 0.0507 - coeff: 0.5796 - val_loss: 0.0070 - val_mae: 0.0566 - val_coeff: 0.5107\n",
      "Epoch 235/300\n",
      "3341/3341 [==============================] - 0s 48us/sample - loss: 0.0052 - mae: 0.0508 - coeff: 0.6052 - val_loss: 0.0061 - val_mae: 0.0537 - val_coeff: 0.5753\n",
      "Epoch 236/300\n",
      "3341/3341 [==============================] - 0s 47us/sample - loss: 0.0049 - mae: 0.0499 - coeff: 0.6164 - val_loss: 0.0061 - val_mae: 0.0557 - val_coeff: 0.5735\n",
      "Epoch 237/300\n",
      "3341/3341 [==============================] - 0s 57us/sample - loss: 0.0049 - mae: 0.0503 - coeff: 0.6052 - val_loss: 0.0065 - val_mae: 0.0539 - val_coeff: 0.5524\n",
      "Epoch 238/300\n",
      "3341/3341 [==============================] - 0s 85us/sample - loss: 0.0049 - mae: 0.0497 - coeff: 0.6264 - val_loss: 0.0063 - val_mae: 0.0532 - val_coeff: 0.5655\n",
      "Epoch 239/300\n",
      "3341/3341 [==============================] - 0s 57us/sample - loss: 0.0048 - mae: 0.0494 - coeff: 0.6228 - val_loss: 0.0058 - val_mae: 0.0528 - val_coeff: 0.5942\n",
      "Epoch 240/300\n",
      "3341/3341 [==============================] - 0s 64us/sample - loss: 0.0049 - mae: 0.0495 - coeff: 0.5874 - val_loss: 0.0060 - val_mae: 0.0537 - val_coeff: 0.5802\n",
      "Epoch 241/300\n",
      "3341/3341 [==============================] - 0s 58us/sample - loss: 0.0048 - mae: 0.0493 - coeff: 0.6268 - val_loss: 0.0061 - val_mae: 0.0562 - val_coeff: 0.5702\n",
      "Epoch 242/300\n",
      "3341/3341 [==============================] - 0s 63us/sample - loss: 0.0052 - mae: 0.0518 - coeff: 0.5985 - val_loss: 0.0060 - val_mae: 0.0534 - val_coeff: 0.5853\n",
      "Epoch 243/300\n",
      "3341/3341 [==============================] - 0s 61us/sample - loss: 0.0049 - mae: 0.0501 - coeff: 0.6273 - val_loss: 0.0068 - val_mae: 0.0553 - val_coeff: 0.5276\n",
      "Epoch 244/300\n",
      "3341/3341 [==============================] - 0s 59us/sample - loss: 0.0052 - mae: 0.0513 - coeff: 0.5415 - val_loss: 0.0062 - val_mae: 0.0539 - val_coeff: 0.5711\n",
      "Epoch 245/300\n",
      "3341/3341 [==============================] - 0s 53us/sample - loss: 0.0049 - mae: 0.0499 - coeff: 0.6116 - val_loss: 0.0061 - val_mae: 0.0540 - val_coeff: 0.5712\n",
      "Epoch 246/300\n",
      "3341/3341 [==============================] - 0s 57us/sample - loss: 0.0049 - mae: 0.0497 - coeff: 0.6135 - val_loss: 0.0061 - val_mae: 0.0545 - val_coeff: 0.5742\n",
      "Epoch 247/300\n",
      "3341/3341 [==============================] - 0s 63us/sample - loss: 0.0050 - mae: 0.0509 - coeff: 0.6153 - val_loss: 0.0060 - val_mae: 0.0536 - val_coeff: 0.5820\n",
      "Epoch 248/300\n",
      "3341/3341 [==============================] - 0s 64us/sample - loss: 0.0048 - mae: 0.0495 - coeff: 0.6294 - val_loss: 0.0060 - val_mae: 0.0534 - val_coeff: 0.5845\n",
      "Epoch 249/300\n",
      "3341/3341 [==============================] - 0s 55us/sample - loss: 0.0048 - mae: 0.0493 - coeff: 0.6269 - val_loss: 0.0062 - val_mae: 0.0548 - val_coeff: 0.5682\n",
      "Epoch 250/300\n",
      "3341/3341 [==============================] - 0s 57us/sample - loss: 0.0050 - mae: 0.0505 - coeff: 0.6142 - val_loss: 0.0059 - val_mae: 0.0540 - val_coeff: 0.5834\n",
      "Epoch 251/300\n",
      "3341/3341 [==============================] - 0s 79us/sample - loss: 0.0050 - mae: 0.0506 - coeff: 0.6155 - val_loss: 0.0066 - val_mae: 0.0555 - val_coeff: 0.5406\n",
      "Epoch 252/300\n",
      "3341/3341 [==============================] - 0s 72us/sample - loss: 0.0051 - mae: 0.0510 - coeff: 0.6098 - val_loss: 0.0060 - val_mae: 0.0529 - val_coeff: 0.5811\n",
      "Epoch 253/300\n",
      "3341/3341 [==============================] - 0s 85us/sample - loss: 0.0048 - mae: 0.0495 - coeff: 0.6241 - val_loss: 0.0066 - val_mae: 0.0546 - val_coeff: 0.5432\n",
      "Epoch 254/300\n",
      "3341/3341 [==============================] - 0s 71us/sample - loss: 0.0048 - mae: 0.0494 - coeff: 0.6243 - val_loss: 0.0061 - val_mae: 0.0534 - val_coeff: 0.5768\n",
      "Epoch 255/300\n",
      "3341/3341 [==============================] - 0s 77us/sample - loss: 0.0047 - mae: 0.0488 - coeff: 0.6120 - val_loss: 0.0062 - val_mae: 0.0542 - val_coeff: 0.5719\n",
      "Epoch 256/300\n",
      "3341/3341 [==============================] - 1s 166us/sample - loss: 0.0050 - mae: 0.0504 - coeff: 0.6005 - val_loss: 0.0070 - val_mae: 0.0555 - val_coeff: 0.5183\n",
      "Epoch 257/300\n",
      "3341/3341 [==============================] - 0s 114us/sample - loss: 0.0051 - mae: 0.0506 - coeff: 0.6071 - val_loss: 0.0060 - val_mae: 0.0538 - val_coeff: 0.5844\n",
      "Epoch 258/300\n",
      "3341/3341 [==============================] - 0s 73us/sample - loss: 0.0048 - mae: 0.0497 - coeff: 0.6199 - val_loss: 0.0066 - val_mae: 0.0549 - val_coeff: 0.5430\n",
      "Epoch 259/300\n",
      "3341/3341 [==============================] - 0s 81us/sample - loss: 0.0049 - mae: 0.0500 - coeff: 0.6189 - val_loss: 0.0061 - val_mae: 0.0537 - val_coeff: 0.5771\n",
      "Epoch 260/300\n",
      "3341/3341 [==============================] - 0s 82us/sample - loss: 0.0049 - mae: 0.0496 - coeff: 0.6137 - val_loss: 0.0063 - val_mae: 0.0536 - val_coeff: 0.5640\n",
      "Epoch 261/300\n",
      "3341/3341 [==============================] - 0s 69us/sample - loss: 0.0050 - mae: 0.0508 - coeff: 0.6000 - val_loss: 0.0063 - val_mae: 0.0550 - val_coeff: 0.5617\n",
      "Epoch 262/300\n",
      "3341/3341 [==============================] - 0s 146us/sample - loss: 0.0052 - mae: 0.0517 - coeff: 0.6019 - val_loss: 0.0060 - val_mae: 0.0536 - val_coeff: 0.5770\n",
      "Epoch 263/300\n",
      "3341/3341 [==============================] - 0s 87us/sample - loss: 0.0050 - mae: 0.0503 - coeff: 0.6138 - val_loss: 0.0060 - val_mae: 0.0537 - val_coeff: 0.5811\n",
      "Epoch 264/300\n",
      "3341/3341 [==============================] - 0s 74us/sample - loss: 0.0052 - mae: 0.0513 - coeff: 0.5938 - val_loss: 0.0063 - val_mae: 0.0534 - val_coeff: 0.5646\n",
      "Epoch 265/300\n",
      "3341/3341 [==============================] - 0s 85us/sample - loss: 0.0049 - mae: 0.0493 - coeff: 0.6166 - val_loss: 0.0063 - val_mae: 0.0542 - val_coeff: 0.5617\n",
      "Epoch 266/300\n",
      "3341/3341 [==============================] - 0s 71us/sample - loss: 0.0048 - mae: 0.0496 - coeff: 0.6317 - val_loss: 0.0062 - val_mae: 0.0544 - val_coeff: 0.5669\n",
      "Epoch 267/300\n",
      "3341/3341 [==============================] - 0s 56us/sample - loss: 0.0047 - mae: 0.0491 - coeff: 0.6315 - val_loss: 0.0065 - val_mae: 0.0543 - val_coeff: 0.5523\n",
      "Epoch 268/300\n",
      "3341/3341 [==============================] - 0s 71us/sample - loss: 0.0050 - mae: 0.0507 - coeff: 0.5983 - val_loss: 0.0061 - val_mae: 0.0546 - val_coeff: 0.5755\n",
      "Epoch 269/300\n",
      "3341/3341 [==============================] - 0s 54us/sample - loss: 0.0049 - mae: 0.0501 - coeff: 0.6206 - val_loss: 0.0066 - val_mae: 0.0551 - val_coeff: 0.5409\n",
      "Epoch 270/300\n",
      "3341/3341 [==============================] - 0s 57us/sample - loss: 0.0048 - mae: 0.0492 - coeff: 0.6072 - val_loss: 0.0073 - val_mae: 0.0579 - val_coeff: 0.4907\n",
      "Epoch 271/300\n",
      "3341/3341 [==============================] - 0s 60us/sample - loss: 0.0051 - mae: 0.0508 - coeff: 0.5950 - val_loss: 0.0065 - val_mae: 0.0566 - val_coeff: 0.5484\n",
      "Epoch 272/300\n",
      "3341/3341 [==============================] - 0s 57us/sample - loss: 0.0050 - mae: 0.0512 - coeff: 0.5823 - val_loss: 0.0061 - val_mae: 0.0539 - val_coeff: 0.5746\n",
      "Epoch 273/300\n",
      "3341/3341 [==============================] - 0s 51us/sample - loss: 0.0048 - mae: 0.0495 - coeff: 0.5982 - val_loss: 0.0064 - val_mae: 0.0536 - val_coeff: 0.5608\n",
      "Epoch 274/300\n",
      "3341/3341 [==============================] - 0s 66us/sample - loss: 0.0048 - mae: 0.0493 - coeff: 0.6322 - val_loss: 0.0067 - val_mae: 0.0554 - val_coeff: 0.5325\n",
      "Epoch 275/300\n",
      "3341/3341 [==============================] - 0s 60us/sample - loss: 0.0050 - mae: 0.0503 - coeff: 0.6034 - val_loss: 0.0071 - val_mae: 0.0567 - val_coeff: 0.5121\n",
      "Epoch 276/300\n",
      "3341/3341 [==============================] - 0s 64us/sample - loss: 0.0048 - mae: 0.0499 - coeff: 0.6157 - val_loss: 0.0063 - val_mae: 0.0545 - val_coeff: 0.5672\n",
      "Epoch 277/300\n",
      "3341/3341 [==============================] - 0s 63us/sample - loss: 0.0048 - mae: 0.0491 - coeff: 0.6310 - val_loss: 0.0062 - val_mae: 0.0543 - val_coeff: 0.5731\n",
      "Epoch 278/300\n"
     ]
    },
    {
     "name": "stdout",
     "output_type": "stream",
     "text": [
      "3341/3341 [==============================] - 0s 62us/sample - loss: 0.0048 - mae: 0.0493 - coeff: 0.6302 - val_loss: 0.0060 - val_mae: 0.0538 - val_coeff: 0.5792\n",
      "Epoch 279/300\n",
      "3341/3341 [==============================] - 0s 59us/sample - loss: 0.0047 - mae: 0.0490 - coeff: 0.6356 - val_loss: 0.0061 - val_mae: 0.0543 - val_coeff: 0.5781\n",
      "Epoch 280/300\n",
      "3341/3341 [==============================] - 0s 76us/sample - loss: 0.0047 - mae: 0.0490 - coeff: 0.6339 - val_loss: 0.0061 - val_mae: 0.0555 - val_coeff: 0.5733\n",
      "Epoch 281/300\n",
      "3341/3341 [==============================] - 0s 72us/sample - loss: 0.0050 - mae: 0.0510 - coeff: 0.6069 - val_loss: 0.0065 - val_mae: 0.0588 - val_coeff: 0.5437\n",
      "Epoch 282/300\n",
      "3341/3341 [==============================] - 0s 52us/sample - loss: 0.0050 - mae: 0.0507 - coeff: 0.6146 - val_loss: 0.0071 - val_mae: 0.0569 - val_coeff: 0.5071\n",
      "Epoch 283/300\n",
      "3341/3341 [==============================] - 0s 48us/sample - loss: 0.0049 - mae: 0.0506 - coeff: 0.6137 - val_loss: 0.0075 - val_mae: 0.0594 - val_coeff: 0.4770\n",
      "Epoch 284/300\n",
      "3341/3341 [==============================] - 0s 50us/sample - loss: 0.0051 - mae: 0.0510 - coeff: 0.6132 - val_loss: 0.0073 - val_mae: 0.0570 - val_coeff: 0.4974\n",
      "Epoch 285/300\n",
      "3341/3341 [==============================] - 0s 53us/sample - loss: 0.0049 - mae: 0.0496 - coeff: 0.6162 - val_loss: 0.0060 - val_mae: 0.0536 - val_coeff: 0.5795\n",
      "Epoch 286/300\n",
      "3341/3341 [==============================] - 0s 49us/sample - loss: 0.0049 - mae: 0.0498 - coeff: 0.5822 - val_loss: 0.0061 - val_mae: 0.0539 - val_coeff: 0.5768\n",
      "Epoch 287/300\n",
      "3341/3341 [==============================] - 0s 48us/sample - loss: 0.0049 - mae: 0.0498 - coeff: 0.6241 - val_loss: 0.0068 - val_mae: 0.0553 - val_coeff: 0.5328\n",
      "Epoch 288/300\n",
      "3341/3341 [==============================] - 0s 51us/sample - loss: 0.0048 - mae: 0.0492 - coeff: 0.6326 - val_loss: 0.0062 - val_mae: 0.0538 - val_coeff: 0.5738\n",
      "Epoch 289/300\n",
      "3341/3341 [==============================] - 0s 55us/sample - loss: 0.0047 - mae: 0.0491 - coeff: 0.6361 - val_loss: 0.0062 - val_mae: 0.0536 - val_coeff: 0.5694\n",
      "Epoch 290/300\n",
      "3341/3341 [==============================] - 0s 71us/sample - loss: 0.0047 - mae: 0.0489 - coeff: 0.6354 - val_loss: 0.0065 - val_mae: 0.0541 - val_coeff: 0.5501\n",
      "Epoch 291/300\n",
      "3341/3341 [==============================] - 0s 87us/sample - loss: 0.0048 - mae: 0.0494 - coeff: 0.6196 - val_loss: 0.0063 - val_mae: 0.0536 - val_coeff: 0.5601\n",
      "Epoch 292/300\n",
      "3341/3341 [==============================] - 0s 93us/sample - loss: 0.0050 - mae: 0.0505 - coeff: 0.6081 - val_loss: 0.0061 - val_mae: 0.0537 - val_coeff: 0.5784\n",
      "Epoch 293/300\n",
      "3341/3341 [==============================] - 0s 69us/sample - loss: 0.0047 - mae: 0.0491 - coeff: 0.6314 - val_loss: 0.0064 - val_mae: 0.0542 - val_coeff: 0.5596\n",
      "Epoch 294/300\n",
      "3341/3341 [==============================] - 0s 78us/sample - loss: 0.0046 - mae: 0.0487 - coeff: 0.6345 - val_loss: 0.0064 - val_mae: 0.0535 - val_coeff: 0.5618\n",
      "Epoch 295/300\n",
      "3341/3341 [==============================] - 0s 72us/sample - loss: 0.0048 - mae: 0.0493 - coeff: 0.6286 - val_loss: 0.0061 - val_mae: 0.0535 - val_coeff: 0.5778\n",
      "Epoch 296/300\n",
      "3341/3341 [==============================] - 0s 99us/sample - loss: 0.0047 - mae: 0.0493 - coeff: 0.6203 - val_loss: 0.0066 - val_mae: 0.0544 - val_coeff: 0.5426\n",
      "Epoch 297/300\n",
      "3341/3341 [==============================] - 0s 105us/sample - loss: 0.0047 - mae: 0.0492 - coeff: 0.6238 - val_loss: 0.0065 - val_mae: 0.0542 - val_coeff: 0.5557\n",
      "Epoch 298/300\n",
      "3341/3341 [==============================] - 0s 54us/sample - loss: 0.0048 - mae: 0.0492 - coeff: 0.6248 - val_loss: 0.0061 - val_mae: 0.0532 - val_coeff: 0.5758\n",
      "Epoch 299/300\n",
      "3341/3341 [==============================] - 0s 47us/sample - loss: 0.0049 - mae: 0.0501 - coeff: 0.6256 - val_loss: 0.0061 - val_mae: 0.0545 - val_coeff: 0.5725\n",
      "Epoch 300/300\n",
      "3341/3341 [==============================] - 0s 55us/sample - loss: 0.0048 - mae: 0.0490 - coeff: 0.6317 - val_loss: 0.0064 - val_mae: 0.0538 - val_coeff: 0.5604\n"
     ]
    }
   ],
   "source": [
    "epochs = 300\n",
    "batch_size=128\n",
    "\n",
    "history = model.fit(X_train_scaled, y_train_scaled, epochs=epochs, batch_size=batch_size, validation_data=[X_test_scaled, y_test_scaled])"
   ]
  },
  {
   "cell_type": "code",
   "execution_count": 32,
   "metadata": {},
   "outputs": [],
   "source": [
    "y_pred_scaled = model.predict(X_test_scaled)"
   ]
  },
  {
   "cell_type": "code",
   "execution_count": 33,
   "metadata": {},
   "outputs": [],
   "source": [
    "y_pred = y_scaler.inverse_transform(y_pred_scaled)"
   ]
  },
  {
   "cell_type": "markdown",
   "metadata": {},
   "source": [
    "## Evaluate"
   ]
  },
  {
   "cell_type": "code",
   "execution_count": 34,
   "metadata": {
    "scrolled": false
   },
   "outputs": [
    {
     "name": "stdout",
     "output_type": "stream",
     "text": [
      "Score\n",
      "MSE :       5.000363073936254\n",
      "RMSE :      2.236149161826253\n",
      "r2_score :  0.5544006383812874\n"
     ]
    }
   ],
   "source": [
    "print('Score')\n",
    "print('MSE :      ', mse(y_test, y_pred))\n",
    "print('RMSE :     ', np.sqrt(mse(y_test, y_pred)))\n",
    "print('r2_score : ', r2(y_test, y_pred))"
   ]
  },
  {
   "cell_type": "code",
   "execution_count": 35,
   "metadata": {
    "scrolled": true
   },
   "outputs": [
    {
     "data": {
      "image/png": "[encoded data removed]",
      "text/plain": [
       "<Figure size 432x288 with 1 Axes>"
      ]
     },
     "metadata": {
      "needs_background": "light"
     },
     "output_type": "display_data"
    },
    {
     "data": {
      "image/png": "[encoded data removed]",
      "text/plain": [
       "<Figure size 432x288 with 1 Axes>"
      ]
     },
     "metadata": {
      "needs_background": "light"
     },
     "output_type": "display_data"
    },
    {
     "data": {
      "image/png": "[encoded data removed]",
      "text/plain": [
       "<Figure size 432x288 with 1 Axes>"
      ]
     },
     "metadata": {
      "needs_background": "light"
     },
     "output_type": "display_data"
    }
   ],
   "source": [
    "# Plot training & validation accuracy values\n",
    "plt.plot(history.history['loss'])\n",
    "plt.plot(history.history['val_loss'])\n",
    "plt.ylabel('MSE')\n",
    "plt.xlabel('Epoch')\n",
    "plt.legend(['Train', 'Test'], loc='upper left')\n",
    "plt.show()\n",
    "\n",
    "plt.plot(history.history['loss'])\n",
    "plt.plot(history.history['val_loss'])\n",
    "plt.ylabel('MSE')\n",
    "plt.xlabel('Epoch')\n",
    "plt.legend(['Train', 'Test'], loc='upper left')\n",
    "plt.ylim((0,8))\n",
    "plt.show()\n",
    "\n",
    "# Plot training & validation accuracy values\n",
    "plt.plot(history.history['coeff'])\n",
    "plt.plot(history.history['val_coeff'])\n",
    "plt.ylabel('R2 score')\n",
    "plt.xlabel('Epoch')\n",
    "plt.legend(['Train', 'Test'], loc='lower right')\n",
    "plt.ylim((-1,1.5))\n",
    "plt.show()"
   ]
  },
  {
   "cell_type": "code",
   "execution_count": null,
   "metadata": {},
   "outputs": [],
   "source": []
  },
  {
   "cell_type": "markdown",
   "metadata": {},
   "source": [
    "## minmax - feature selection"
   ]
  },
  {
   "cell_type": "code",
   "execution_count": 60,
   "metadata": {},
   "outputs": [],
   "source": [
    "from tensorflow.keras import Sequential\n",
    "from tensorflow.keras.layers import Dense\n",
    "from tensorflow.keras import backend as K"
   ]
  },
  {
   "cell_type": "code",
   "execution_count": 65,
   "metadata": {},
   "outputs": [],
   "source": [
    "model = Sequential()\n",
    "model.add(Dense(32, input_shape=(9,)))\n",
    "model.add(Dense(64, activation='relu'))\n",
    "model.add(Dense(128, activation='relu'))\n",
    "model.add(Dense(1))"
   ]
  },
  {
   "cell_type": "code",
   "execution_count": 66,
   "metadata": {},
   "outputs": [],
   "source": [
    "def coeff(y_true, y_pred):\n",
    "    SS_res = K.sum(K.square(y_true-y_pred)) \n",
    "    SS_tot = K.sum(K.square(y_true-K.mean(y_true))) \n",
    "    return (1 - SS_res/(SS_tot+K.epsilon()))\n",
    "\n",
    "model.compile(optimizer='adam', loss='mse', metrics=['mae', coeff])"
   ]
  },
  {
   "cell_type": "code",
   "execution_count": 67,
   "metadata": {
    "scrolled": true
   },
   "outputs": [
    {
     "name": "stdout",
     "output_type": "stream",
     "text": [
      "Model: \"sequential_4\"\n",
      "_________________________________________________________________\n",
      "Layer (type)                 Output Shape              Param #   \n",
      "=================================================================\n",
      "dense_16 (Dense)             (None, 32)                320       \n",
      "_________________________________________________________________\n",
      "dense_17 (Dense)             (None, 64)                2112      \n",
      "_________________________________________________________________\n",
      "dense_18 (Dense)             (None, 128)               8320      \n",
      "_________________________________________________________________\n",
      "dense_19 (Dense)             (None, 1)                 129       \n",
      "=================================================================\n",
      "Total params: 10,881\n",
      "Trainable params: 10,881\n",
      "Non-trainable params: 0\n",
      "_________________________________________________________________\n"
     ]
    }
   ],
   "source": [
    "model.summary()"
   ]
  },
  {
   "cell_type": "code",
   "execution_count": 68,
   "metadata": {
    "scrolled": true
   },
   "outputs": [
    {
     "name": "stdout",
     "output_type": "stream",
     "text": [
      "Train on 3341 samples, validate on 836 samples\n",
      "Epoch 1/100\n",
      "3341/3341 [==============================] - 1s 224us/sample - loss: 0.0172 - mae: 0.0988 - coeff: -0.3299 - val_loss: 0.0096 - val_mae: 0.0743 - val_coeff: 0.3274\n",
      "Epoch 2/100\n",
      "3341/3341 [==============================] - 0s 50us/sample - loss: 0.0086 - mae: 0.0663 - coeff: 0.3329 - val_loss: 0.0091 - val_mae: 0.0643 - val_coeff: 0.3713\n",
      "Epoch 3/100\n",
      "3341/3341 [==============================] - 0s 51us/sample - loss: 0.0082 - mae: 0.0651 - coeff: 0.3532 - val_loss: 0.0088 - val_mae: 0.0639 - val_coeff: 0.3873\n",
      "Epoch 4/100\n",
      "3341/3341 [==============================] - 0s 55us/sample - loss: 0.0080 - mae: 0.0644 - coeff: 0.3767 - val_loss: 0.0086 - val_mae: 0.0644 - val_coeff: 0.4043\n",
      "Epoch 5/100\n",
      "3341/3341 [==============================] - 0s 51us/sample - loss: 0.0078 - mae: 0.0632 - coeff: 0.3954 - val_loss: 0.0084 - val_mae: 0.0639 - val_coeff: 0.4140\n",
      "Epoch 6/100\n",
      "3341/3341 [==============================] - 0s 75us/sample - loss: 0.0076 - mae: 0.0627 - coeff: 0.4153 - val_loss: 0.0091 - val_mae: 0.0621 - val_coeff: 0.3656\n",
      "Epoch 7/100\n",
      "3341/3341 [==============================] - 0s 64us/sample - loss: 0.0077 - mae: 0.0627 - coeff: 0.3937 - val_loss: 0.0085 - val_mae: 0.0718 - val_coeff: 0.3983\n",
      "Epoch 8/100\n",
      "3341/3341 [==============================] - 0s 73us/sample - loss: 0.0072 - mae: 0.0607 - coeff: 0.4443 - val_loss: 0.0080 - val_mae: 0.0592 - val_coeff: 0.4455\n",
      "Epoch 9/100\n",
      "3341/3341 [==============================] - 0s 63us/sample - loss: 0.0070 - mae: 0.0596 - coeff: 0.4561 - val_loss: 0.0077 - val_mae: 0.0590 - val_coeff: 0.4618\n",
      "Epoch 10/100\n",
      "3341/3341 [==============================] - 0s 53us/sample - loss: 0.0069 - mae: 0.0594 - coeff: 0.4724 - val_loss: 0.0077 - val_mae: 0.0586 - val_coeff: 0.4632\n",
      "Epoch 11/100\n",
      "3341/3341 [==============================] - 0s 52us/sample - loss: 0.0068 - mae: 0.0587 - coeff: 0.4680 - val_loss: 0.0073 - val_mae: 0.0585 - val_coeff: 0.4917\n",
      "Epoch 12/100\n",
      "3341/3341 [==============================] - 0s 56us/sample - loss: 0.0065 - mae: 0.0577 - coeff: 0.4878 - val_loss: 0.0073 - val_mae: 0.0592 - val_coeff: 0.4943\n",
      "Epoch 13/100\n",
      "3341/3341 [==============================] - 0s 54us/sample - loss: 0.0064 - mae: 0.0570 - coeff: 0.5028 - val_loss: 0.0069 - val_mae: 0.0580 - val_coeff: 0.5156\n",
      "Epoch 14/100\n",
      "3341/3341 [==============================] - 0s 58us/sample - loss: 0.0064 - mae: 0.0573 - coeff: 0.4997 - val_loss: 0.0070 - val_mae: 0.0593 - val_coeff: 0.5049\n",
      "Epoch 15/100\n",
      "3341/3341 [==============================] - 0s 58us/sample - loss: 0.0065 - mae: 0.0577 - coeff: 0.4902 - val_loss: 0.0081 - val_mae: 0.0606 - val_coeff: 0.4340\n",
      "Epoch 16/100\n",
      "3341/3341 [==============================] - 0s 48us/sample - loss: 0.0066 - mae: 0.0579 - coeff: 0.4696 - val_loss: 0.0072 - val_mae: 0.0607 - val_coeff: 0.5001\n",
      "Epoch 17/100\n",
      "3341/3341 [==============================] - 0s 53us/sample - loss: 0.0062 - mae: 0.0563 - coeff: 0.4900 - val_loss: 0.0071 - val_mae: 0.0571 - val_coeff: 0.5010\n",
      "Epoch 18/100\n",
      "3341/3341 [==============================] - 0s 60us/sample - loss: 0.0061 - mae: 0.0558 - coeff: 0.5261 - val_loss: 0.0067 - val_mae: 0.0563 - val_coeff: 0.5330\n",
      "Epoch 19/100\n",
      "3341/3341 [==============================] - 0s 58us/sample - loss: 0.0060 - mae: 0.0558 - coeff: 0.5309 - val_loss: 0.0066 - val_mae: 0.0562 - val_coeff: 0.5348\n",
      "Epoch 20/100\n",
      "3341/3341 [==============================] - 0s 54us/sample - loss: 0.0060 - mae: 0.0559 - coeff: 0.5394 - val_loss: 0.0079 - val_mae: 0.0594 - val_coeff: 0.4499\n",
      "Epoch 21/100\n",
      "3341/3341 [==============================] - 0s 57us/sample - loss: 0.0062 - mae: 0.0562 - coeff: 0.5200 - val_loss: 0.0072 - val_mae: 0.0635 - val_coeff: 0.4843\n",
      "Epoch 22/100\n",
      "3341/3341 [==============================] - 0s 60us/sample - loss: 0.0065 - mae: 0.0587 - coeff: 0.4864 - val_loss: 0.0075 - val_mae: 0.0582 - val_coeff: 0.4761\n",
      "Epoch 23/100\n",
      "3341/3341 [==============================] - 0s 49us/sample - loss: 0.0061 - mae: 0.0565 - coeff: 0.5226 - val_loss: 0.0083 - val_mae: 0.0612 - val_coeff: 0.4160\n",
      "Epoch 24/100\n",
      "3341/3341 [==============================] - 0s 53us/sample - loss: 0.0063 - mae: 0.0572 - coeff: 0.5011 - val_loss: 0.0072 - val_mae: 0.0569 - val_coeff: 0.4989\n",
      "Epoch 25/100\n",
      "3341/3341 [==============================] - 0s 57us/sample - loss: 0.0060 - mae: 0.0556 - coeff: 0.5345 - val_loss: 0.0064 - val_mae: 0.0575 - val_coeff: 0.5496\n",
      "Epoch 26/100\n",
      "3341/3341 [==============================] - 0s 58us/sample - loss: 0.0060 - mae: 0.0563 - coeff: 0.5328 - val_loss: 0.0072 - val_mae: 0.0574 - val_coeff: 0.4944\n",
      "Epoch 27/100\n",
      "3341/3341 [==============================] - 0s 54us/sample - loss: 0.0058 - mae: 0.0548 - coeff: 0.5466 - val_loss: 0.0066 - val_mae: 0.0562 - val_coeff: 0.5341\n",
      "Epoch 28/100\n",
      "3341/3341 [==============================] - 0s 62us/sample - loss: 0.0061 - mae: 0.0567 - coeff: 0.5265 - val_loss: 0.0068 - val_mae: 0.0563 - val_coeff: 0.5222\n",
      "Epoch 29/100\n",
      "3341/3341 [==============================] - 0s 56us/sample - loss: 0.0058 - mae: 0.0552 - coeff: 0.5420 - val_loss: 0.0069 - val_mae: 0.0562 - val_coeff: 0.5188\n",
      "Epoch 30/100\n",
      "3341/3341 [==============================] - 0s 62us/sample - loss: 0.0058 - mae: 0.0545 - coeff: 0.5509 - val_loss: 0.0066 - val_mae: 0.0575 - val_coeff: 0.5326\n",
      "Epoch 31/100\n",
      "3341/3341 [==============================] - 0s 49us/sample - loss: 0.0058 - mae: 0.0547 - coeff: 0.5632 - val_loss: 0.0072 - val_mae: 0.0581 - val_coeff: 0.4920\n",
      "Epoch 32/100\n",
      "3341/3341 [==============================] - 0s 47us/sample - loss: 0.0058 - mae: 0.0544 - coeff: 0.5376 - val_loss: 0.0064 - val_mae: 0.0589 - val_coeff: 0.5471\n",
      "Epoch 33/100\n",
      "3341/3341 [==============================] - 0s 50us/sample - loss: 0.0058 - mae: 0.0553 - coeff: 0.5516 - val_loss: 0.0067 - val_mae: 0.0556 - val_coeff: 0.5303\n",
      "Epoch 34/100\n",
      "3341/3341 [==============================] - 0s 49us/sample - loss: 0.0057 - mae: 0.0541 - coeff: 0.5543 - val_loss: 0.0068 - val_mae: 0.0561 - val_coeff: 0.5200\n",
      "Epoch 35/100\n",
      "3341/3341 [==============================] - 0s 49us/sample - loss: 0.0057 - mae: 0.0538 - coeff: 0.5621 - val_loss: 0.0062 - val_mae: 0.0561 - val_coeff: 0.5579\n",
      "Epoch 36/100\n",
      "3341/3341 [==============================] - 0s 60us/sample - loss: 0.0057 - mae: 0.0540 - coeff: 0.5568 - val_loss: 0.0069 - val_mae: 0.0559 - val_coeff: 0.5173\n",
      "Epoch 37/100\n",
      "3341/3341 [==============================] - 0s 46us/sample - loss: 0.0060 - mae: 0.0552 - coeff: 0.5286 - val_loss: 0.0065 - val_mae: 0.0601 - val_coeff: 0.5369\n",
      "Epoch 38/100\n",
      "3341/3341 [==============================] - 0s 48us/sample - loss: 0.0058 - mae: 0.0545 - coeff: 0.5526 - val_loss: 0.0067 - val_mae: 0.0559 - val_coeff: 0.5308\n",
      "Epoch 39/100\n",
      "3341/3341 [==============================] - 0s 43us/sample - loss: 0.0057 - mae: 0.0543 - coeff: 0.5555 - val_loss: 0.0064 - val_mae: 0.0581 - val_coeff: 0.5422\n",
      "Epoch 40/100\n",
      "3341/3341 [==============================] - 0s 51us/sample - loss: 0.0057 - mae: 0.0545 - coeff: 0.5490 - val_loss: 0.0075 - val_mae: 0.0601 - val_coeff: 0.4716\n",
      "Epoch 41/100\n",
      "3341/3341 [==============================] - 0s 50us/sample - loss: 0.0061 - mae: 0.0566 - coeff: 0.5213 - val_loss: 0.0064 - val_mae: 0.0550 - val_coeff: 0.5511\n",
      "Epoch 42/100\n",
      "3341/3341 [==============================] - 0s 46us/sample - loss: 0.0057 - mae: 0.0540 - coeff: 0.5561 - val_loss: 0.0065 - val_mae: 0.0572 - val_coeff: 0.5439\n",
      "Epoch 43/100\n",
      "3341/3341 [==============================] - 0s 45us/sample - loss: 0.0055 - mae: 0.0531 - coeff: 0.5585 - val_loss: 0.0062 - val_mae: 0.0563 - val_coeff: 0.5619\n",
      "Epoch 44/100\n",
      "3341/3341 [==============================] - 0s 56us/sample - loss: 0.0058 - mae: 0.0545 - coeff: 0.5345 - val_loss: 0.0065 - val_mae: 0.0549 - val_coeff: 0.5451\n",
      "Epoch 45/100\n",
      "3341/3341 [==============================] - 0s 63us/sample - loss: 0.0057 - mae: 0.0536 - coeff: 0.5584 - val_loss: 0.0062 - val_mae: 0.0544 - val_coeff: 0.5606\n",
      "Epoch 46/100\n",
      "3341/3341 [==============================] - 0s 52us/sample - loss: 0.0060 - mae: 0.0554 - coeff: 0.5312 - val_loss: 0.0065 - val_mae: 0.0566 - val_coeff: 0.5440\n",
      "Epoch 47/100\n"
     ]
    },
    {
     "name": "stdout",
     "output_type": "stream",
     "text": [
      "3341/3341 [==============================] - 0s 45us/sample - loss: 0.0057 - mae: 0.0539 - coeff: 0.5573 - val_loss: 0.0066 - val_mae: 0.0557 - val_coeff: 0.5326\n",
      "Epoch 48/100\n",
      "3341/3341 [==============================] - 0s 49us/sample - loss: 0.0056 - mae: 0.0535 - coeff: 0.5667 - val_loss: 0.0065 - val_mae: 0.0558 - val_coeff: 0.5429\n",
      "Epoch 49/100\n",
      "3341/3341 [==============================] - 0s 44us/sample - loss: 0.0056 - mae: 0.0536 - coeff: 0.5705 - val_loss: 0.0067 - val_mae: 0.0579 - val_coeff: 0.5293\n",
      "Epoch 50/100\n",
      "3341/3341 [==============================] - 0s 41us/sample - loss: 0.0059 - mae: 0.0555 - coeff: 0.5483 - val_loss: 0.0070 - val_mae: 0.0569 - val_coeff: 0.5094\n",
      "Epoch 51/100\n",
      "3341/3341 [==============================] - 0s 44us/sample - loss: 0.0056 - mae: 0.0534 - coeff: 0.5714 - val_loss: 0.0064 - val_mae: 0.0547 - val_coeff: 0.5520\n",
      "Epoch 52/100\n",
      "3341/3341 [==============================] - 0s 42us/sample - loss: 0.0054 - mae: 0.0524 - coeff: 0.5803 - val_loss: 0.0066 - val_mae: 0.0555 - val_coeff: 0.5328\n",
      "Epoch 53/100\n",
      "3341/3341 [==============================] - 0s 49us/sample - loss: 0.0059 - mae: 0.0551 - coeff: 0.5394 - val_loss: 0.0062 - val_mae: 0.0551 - val_coeff: 0.5620\n",
      "Epoch 54/100\n",
      "3341/3341 [==============================] - 0s 42us/sample - loss: 0.0058 - mae: 0.0550 - coeff: 0.5248 - val_loss: 0.0065 - val_mae: 0.0601 - val_coeff: 0.5416\n",
      "Epoch 55/100\n",
      "3341/3341 [==============================] - 0s 46us/sample - loss: 0.0059 - mae: 0.0559 - coeff: 0.5427 - val_loss: 0.0062 - val_mae: 0.0568 - val_coeff: 0.5584\n",
      "Epoch 56/100\n",
      "3341/3341 [==============================] - 0s 44us/sample - loss: 0.0056 - mae: 0.0531 - coeff: 0.5734 - val_loss: 0.0069 - val_mae: 0.0562 - val_coeff: 0.5118\n",
      "Epoch 57/100\n",
      "3341/3341 [==============================] - 0s 43us/sample - loss: 0.0056 - mae: 0.0537 - coeff: 0.5599 - val_loss: 0.0064 - val_mae: 0.0552 - val_coeff: 0.5505\n",
      "Epoch 58/100\n",
      "3341/3341 [==============================] - 0s 44us/sample - loss: 0.0055 - mae: 0.0527 - coeff: 0.5787 - val_loss: 0.0067 - val_mae: 0.0557 - val_coeff: 0.5333\n",
      "Epoch 59/100\n",
      "3341/3341 [==============================] - 0s 44us/sample - loss: 0.0057 - mae: 0.0540 - coeff: 0.5496 - val_loss: 0.0063 - val_mae: 0.0586 - val_coeff: 0.5495\n",
      "Epoch 60/100\n",
      "3341/3341 [==============================] - 0s 49us/sample - loss: 0.0059 - mae: 0.0554 - coeff: 0.5245 - val_loss: 0.0064 - val_mae: 0.0543 - val_coeff: 0.5502\n",
      "Epoch 61/100\n",
      "3341/3341 [==============================] - 0s 52us/sample - loss: 0.0056 - mae: 0.0541 - coeff: 0.5628 - val_loss: 0.0065 - val_mae: 0.0557 - val_coeff: 0.5472\n",
      "Epoch 62/100\n",
      "3341/3341 [==============================] - 0s 52us/sample - loss: 0.0055 - mae: 0.0531 - coeff: 0.5627 - val_loss: 0.0065 - val_mae: 0.0561 - val_coeff: 0.5437\n",
      "Epoch 63/100\n",
      "3341/3341 [==============================] - 0s 46us/sample - loss: 0.0056 - mae: 0.0535 - coeff: 0.5665 - val_loss: 0.0067 - val_mae: 0.0566 - val_coeff: 0.5259\n",
      "Epoch 64/100\n",
      "3341/3341 [==============================] - 0s 45us/sample - loss: 0.0055 - mae: 0.0531 - coeff: 0.5636 - val_loss: 0.0062 - val_mae: 0.0560 - val_coeff: 0.5637\n",
      "Epoch 65/100\n",
      "3341/3341 [==============================] - 0s 44us/sample - loss: 0.0060 - mae: 0.0557 - coeff: 0.5318 - val_loss: 0.0061 - val_mae: 0.0553 - val_coeff: 0.5696\n",
      "Epoch 66/100\n",
      "3341/3341 [==============================] - 0s 51us/sample - loss: 0.0054 - mae: 0.0526 - coeff: 0.5848 - val_loss: 0.0068 - val_mae: 0.0558 - val_coeff: 0.5223\n",
      "Epoch 67/100\n",
      "3341/3341 [==============================] - 0s 57us/sample - loss: 0.0056 - mae: 0.0532 - coeff: 0.5685 - val_loss: 0.0068 - val_mae: 0.0555 - val_coeff: 0.5211\n",
      "Epoch 68/100\n",
      "3341/3341 [==============================] - 0s 48us/sample - loss: 0.0055 - mae: 0.0530 - coeff: 0.5628 - val_loss: 0.0064 - val_mae: 0.0564 - val_coeff: 0.5470\n",
      "Epoch 69/100\n",
      "3341/3341 [==============================] - 0s 45us/sample - loss: 0.0054 - mae: 0.0522 - coeff: 0.5879 - val_loss: 0.0061 - val_mae: 0.0544 - val_coeff: 0.5700\n",
      "Epoch 70/100\n",
      "3341/3341 [==============================] - 0s 52us/sample - loss: 0.0055 - mae: 0.0527 - coeff: 0.5706 - val_loss: 0.0064 - val_mae: 0.0597 - val_coeff: 0.5493\n",
      "Epoch 71/100\n",
      "3341/3341 [==============================] - 0s 55us/sample - loss: 0.0056 - mae: 0.0534 - coeff: 0.5725 - val_loss: 0.0063 - val_mae: 0.0597 - val_coeff: 0.5493\n",
      "Epoch 72/100\n",
      "3341/3341 [==============================] - 0s 52us/sample - loss: 0.0055 - mae: 0.0528 - coeff: 0.5722 - val_loss: 0.0062 - val_mae: 0.0583 - val_coeff: 0.5618\n",
      "Epoch 73/100\n",
      "3341/3341 [==============================] - 0s 56us/sample - loss: 0.0055 - mae: 0.0533 - coeff: 0.5519 - val_loss: 0.0064 - val_mae: 0.0543 - val_coeff: 0.5512\n",
      "Epoch 74/100\n",
      "3341/3341 [==============================] - 0s 54us/sample - loss: 0.0055 - mae: 0.0531 - coeff: 0.5578 - val_loss: 0.0068 - val_mae: 0.0567 - val_coeff: 0.5248\n",
      "Epoch 75/100\n",
      "3341/3341 [==============================] - 0s 60us/sample - loss: 0.0055 - mae: 0.0530 - coeff: 0.5662 - val_loss: 0.0064 - val_mae: 0.0546 - val_coeff: 0.5527\n",
      "Epoch 76/100\n",
      "3341/3341 [==============================] - 0s 48us/sample - loss: 0.0056 - mae: 0.0535 - coeff: 0.5592 - val_loss: 0.0063 - val_mae: 0.0542 - val_coeff: 0.5559\n",
      "Epoch 77/100\n",
      "3341/3341 [==============================] - 0s 47us/sample - loss: 0.0055 - mae: 0.0536 - coeff: 0.5559 - val_loss: 0.0063 - val_mae: 0.0549 - val_coeff: 0.5578\n",
      "Epoch 78/100\n",
      "3341/3341 [==============================] - 0s 65us/sample - loss: 0.0056 - mae: 0.0536 - coeff: 0.5690 - val_loss: 0.0060 - val_mae: 0.0541 - val_coeff: 0.5748\n",
      "Epoch 79/100\n",
      "3341/3341 [==============================] - 0s 66us/sample - loss: 0.0054 - mae: 0.0528 - coeff: 0.5669 - val_loss: 0.0072 - val_mae: 0.0574 - val_coeff: 0.4936\n",
      "Epoch 80/100\n",
      "3341/3341 [==============================] - 0s 58us/sample - loss: 0.0057 - mae: 0.0544 - coeff: 0.5551 - val_loss: 0.0063 - val_mae: 0.0564 - val_coeff: 0.5553\n",
      "Epoch 81/100\n",
      "3341/3341 [==============================] - 0s 57us/sample - loss: 0.0056 - mae: 0.0533 - coeff: 0.5589 - val_loss: 0.0064 - val_mae: 0.0576 - val_coeff: 0.5427\n",
      "Epoch 82/100\n",
      "3341/3341 [==============================] - 0s 63us/sample - loss: 0.0063 - mae: 0.0578 - coeff: 0.4797 - val_loss: 0.0062 - val_mae: 0.0546 - val_coeff: 0.5644\n",
      "Epoch 83/100\n",
      "3341/3341 [==============================] - 0s 68us/sample - loss: 0.0055 - mae: 0.0527 - coeff: 0.5741 - val_loss: 0.0062 - val_mae: 0.0552 - val_coeff: 0.5635\n",
      "Epoch 84/100\n",
      "3341/3341 [==============================] - 0s 48us/sample - loss: 0.0053 - mae: 0.0519 - coeff: 0.5974 - val_loss: 0.0062 - val_mae: 0.0541 - val_coeff: 0.5649\n",
      "Epoch 85/100\n",
      "3341/3341 [==============================] - 0s 71us/sample - loss: 0.0053 - mae: 0.0520 - coeff: 0.5762 - val_loss: 0.0074 - val_mae: 0.0586 - val_coeff: 0.4791\n",
      "Epoch 86/100\n",
      "3341/3341 [==============================] - 0s 54us/sample - loss: 0.0055 - mae: 0.0526 - coeff: 0.5740 - val_loss: 0.0061 - val_mae: 0.0565 - val_coeff: 0.5665\n",
      "Epoch 87/100\n",
      "3341/3341 [==============================] - 0s 52us/sample - loss: 0.0055 - mae: 0.0529 - coeff: 0.5678 - val_loss: 0.0065 - val_mae: 0.0572 - val_coeff: 0.5409\n",
      "Epoch 88/100\n",
      "3341/3341 [==============================] - 0s 47us/sample - loss: 0.0054 - mae: 0.0526 - coeff: 0.5840 - val_loss: 0.0061 - val_mae: 0.0555 - val_coeff: 0.5712\n",
      "Epoch 89/100\n",
      "3341/3341 [==============================] - 0s 57us/sample - loss: 0.0053 - mae: 0.0518 - coeff: 0.5923 - val_loss: 0.0061 - val_mae: 0.0549 - val_coeff: 0.5676\n",
      "Epoch 90/100\n",
      "3341/3341 [==============================] - 0s 48us/sample - loss: 0.0054 - mae: 0.0524 - coeff: 0.5745 - val_loss: 0.0063 - val_mae: 0.0573 - val_coeff: 0.5579\n",
      "Epoch 91/100\n",
      "3341/3341 [==============================] - 0s 53us/sample - loss: 0.0055 - mae: 0.0533 - coeff: 0.5789 - val_loss: 0.0068 - val_mae: 0.0564 - val_coeff: 0.5175\n",
      "Epoch 92/100\n",
      "3341/3341 [==============================] - 0s 55us/sample - loss: 0.0054 - mae: 0.0522 - coeff: 0.5801 - val_loss: 0.0067 - val_mae: 0.0553 - val_coeff: 0.5325\n",
      "Epoch 93/100\n",
      "3341/3341 [==============================] - 0s 56us/sample - loss: 0.0056 - mae: 0.0529 - coeff: 0.5180 - val_loss: 0.0060 - val_mae: 0.0554 - val_coeff: 0.5782\n"
     ]
    },
    {
     "name": "stdout",
     "output_type": "stream",
     "text": [
      "Epoch 94/100\n",
      "3341/3341 [==============================] - 0s 70us/sample - loss: 0.0054 - mae: 0.0523 - coeff: 0.5893 - val_loss: 0.0061 - val_mae: 0.0538 - val_coeff: 0.5716\n",
      "Epoch 95/100\n",
      "3341/3341 [==============================] - 0s 79us/sample - loss: 0.0054 - mae: 0.0522 - coeff: 0.5727 - val_loss: 0.0062 - val_mae: 0.0548 - val_coeff: 0.5641\n",
      "Epoch 96/100\n",
      "3341/3341 [==============================] - 0s 59us/sample - loss: 0.0055 - mae: 0.0530 - coeff: 0.5714 - val_loss: 0.0068 - val_mae: 0.0560 - val_coeff: 0.5229\n",
      "Epoch 97/100\n",
      "3341/3341 [==============================] - 0s 57us/sample - loss: 0.0054 - mae: 0.0524 - coeff: 0.5477 - val_loss: 0.0065 - val_mae: 0.0551 - val_coeff: 0.5443\n",
      "Epoch 98/100\n",
      "3341/3341 [==============================] - 0s 92us/sample - loss: 0.0055 - mae: 0.0528 - coeff: 0.5637 - val_loss: 0.0065 - val_mae: 0.0545 - val_coeff: 0.5450\n",
      "Epoch 99/100\n",
      "3341/3341 [==============================] - 0s 90us/sample - loss: 0.0055 - mae: 0.0531 - coeff: 0.5665 - val_loss: 0.0061 - val_mae: 0.0545 - val_coeff: 0.5700\n",
      "Epoch 100/100\n",
      "3341/3341 [==============================] - 0s 86us/sample - loss: 0.0054 - mae: 0.0525 - coeff: 0.5690 - val_loss: 0.0062 - val_mae: 0.0537 - val_coeff: 0.5631\n"
     ]
    }
   ],
   "source": [
    "epochs = 100\n",
    "batch_size=128\n",
    "\n",
    "history = model.fit(X_train_scaled, y_train_scaled, epochs=epochs, batch_size=batch_size, validation_data=[X_test_scaled, y_test_scaled])"
   ]
  },
  {
   "cell_type": "code",
   "execution_count": 69,
   "metadata": {},
   "outputs": [],
   "source": [
    "y_pred_scaled = model.predict(X_test_scaled)"
   ]
  },
  {
   "cell_type": "code",
   "execution_count": 70,
   "metadata": {},
   "outputs": [],
   "source": [
    "y_pred = y_scaler.inverse_transform(y_pred_scaled)"
   ]
  },
  {
   "cell_type": "markdown",
   "metadata": {},
   "source": [
    "## Evaluate"
   ]
  },
  {
   "cell_type": "code",
   "execution_count": 71,
   "metadata": {
    "scrolled": false
   },
   "outputs": [
    {
     "name": "stdout",
     "output_type": "stream",
     "text": [
      "Score\n",
      "MSE :       4.873602265726244\n",
      "RMSE :      2.2076236694070492\n",
      "r2_score :  0.5656967251616796\n"
     ]
    }
   ],
   "source": [
    "print('Score')\n",
    "print('MSE :      ', mse(y_test, y_pred))\n",
    "print('RMSE :     ', np.sqrt(mse(y_test, y_pred)))\n",
    "print('r2_score : ', r2(y_test, y_pred))"
   ]
  },
  {
   "cell_type": "code",
   "execution_count": 72,
   "metadata": {
    "scrolled": true
   },
   "outputs": [
    {
     "data": {
      "image/png": "[encoded data removed]",
      "text/plain": [
       "<Figure size 432x288 with 1 Axes>"
      ]
     },
     "metadata": {
      "needs_background": "light"
     },
     "output_type": "display_data"
    },
    {
     "data": {
      "image/png": "[encoded data removed]",
      "text/plain": [
       "<Figure size 432x288 with 1 Axes>"
      ]
     },
     "metadata": {
      "needs_background": "light"
     },
     "output_type": "display_data"
    },
    {
     "data": {
      "image/png": "[encoded data removed]",
      "text/plain": [
       "<Figure size 432x288 with 1 Axes>"
      ]
     },
     "metadata": {
      "needs_background": "light"
     },
     "output_type": "display_data"
    }
   ],
   "source": [
    "# Plot training & validation accuracy values\n",
    "plt.plot(history.history['loss'])\n",
    "plt.plot(history.history['val_loss'])\n",
    "plt.ylabel('MSE')\n",
    "plt.xlabel('Epoch')\n",
    "plt.legend(['Train', 'Test'], loc='upper left')\n",
    "plt.show()\n",
    "\n",
    "plt.plot(history.history['loss'])\n",
    "plt.plot(history.history['val_loss'])\n",
    "plt.ylabel('MSE')\n",
    "plt.xlabel('Epoch')\n",
    "plt.legend(['Train', 'Test'], loc='upper left')\n",
    "plt.ylim((0,8))\n",
    "plt.show()\n",
    "\n",
    "# Plot training & validation accuracy values\n",
    "plt.plot(history.history['coeff'])\n",
    "plt.plot(history.history['val_coeff'])\n",
    "plt.ylabel('R2 score')\n",
    "plt.xlabel('Epoch')\n",
    "plt.legend(['Train', 'Test'], loc='lower right')\n",
    "plt.ylim((-1,1.5))\n",
    "plt.show()"
   ]
  },
  {
   "cell_type": "code",
   "execution_count": null,
   "metadata": {},
   "outputs": [],
   "source": []
  }
 ],
 "metadata": {
  "kernelspec": {
   "display_name": "Python 3",
   "language": "python",
   "name": "python3"
  },
  "language_info": {
   "codemirror_mode": {
    "name": "ipython",
    "version": 3
   },
   "file_extension": ".py",
   "mimetype": "text/x-python",
   "name": "python",
   "nbconvert_exporter": "python",
   "pygments_lexer": "ipython3",
   "version": "3.7.5"
  }
 },
 "nbformat": 4,
 "nbformat_minor": 2
}
